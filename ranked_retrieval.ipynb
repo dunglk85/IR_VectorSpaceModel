{
 "cells": [
  {
   "cell_type": "code",
   "execution_count": 1,
   "metadata": {
    "pycharm": {
     "is_executing": true,
     "name": "#%%\n"
    }
   },
   "outputs": [],
   "source": [
    "from load_data_json import LoadDataset \n",
    "from preprocess import VectorSpaceModel\n",
    "import numpy as np\n",
    "import time\n",
    "from sklearn.decomposition import TruncatedSVD\n",
    "from scipy.sparse.linalg import svds, eigsh"
   ]
  },
  {
   "cell_type": "markdown",
   "metadata": {
    "pycharm": {
     "name": "#%% md\n"
    }
   },
   "source": [
    "## Load the dataset\n",
    "Functions to load the dataset and the given queries with associated relevant documents."
   ]
  },
  {
   "cell_type": "code",
   "execution_count": 2,
   "metadata": {
    "pycharm": {
     "name": "#%%\n"
    }
   },
   "outputs": [],
   "source": [
    "dataset = LoadDataset(\"./data/med/med.json\", \"./data/med/queries.json\", \"./data/med/qrels-treceval.txt\")"
   ]
  },
  {
   "cell_type": "code",
   "execution_count": 3,
   "metadata": {},
   "outputs": [
    {
     "data": {
      "text/plain": [
       "(13004, 30)"
      ]
     },
     "execution_count": 3,
     "metadata": {},
     "output_type": "execute_result"
    }
   ],
   "source": [
    "dataset.query_vectors.shape"
   ]
  },
  {
   "cell_type": "markdown",
   "metadata": {
    "pycharm": {
     "name": "#%% md\n"
    }
   },
   "source": [
    "# Vector Space Model ranked retrieval"
   ]
  },
  {
   "cell_type": "markdown",
   "metadata": {
    "pycharm": {
     "name": "#%% md\n"
    }
   },
   "source": [
    "Create the `vsm()` object."
   ]
  },
  {
   "cell_type": "code",
   "execution_count": 4,
   "metadata": {
    "pycharm": {
     "name": "#%%\n"
    }
   },
   "outputs": [],
   "source": [
    "vsm = VectorSpaceModel(dataset.doc_matrix)"
   ]
  },
  {
   "cell_type": "code",
   "execution_count": 6,
   "metadata": {},
   "outputs": [
    {
     "name": "stdout",
     "output_type": "stream",
     "text": [
      "Starting 2 engines with <class 'ipyparallel.cluster.launcher.LocalEngineSetLauncher'>\n"
     ]
    },
    {
     "data": {
      "application/vnd.jupyter.widget-view+json": {
       "model_id": "a140f93843b74aef9ee75c68c695a93a",
       "version_major": 2,
       "version_minor": 0
      },
      "text/plain": [
       "  0%|          | 0/2 [00:00<?, ?engine/s]"
      ]
     },
     "metadata": {},
     "output_type": "display_data"
    },
    {
     "data": {
      "application/vnd.jupyter.widget-view+json": {
       "model_id": "acbfc0e8f44f4f15a49a8c333c83db40",
       "version_major": 2,
       "version_minor": 0
      },
      "text/plain": [
       "<lambda>:   0%|          | 0/2 [00:00<?, ?tasks/s]"
      ]
     },
     "metadata": {},
     "output_type": "display_data"
    },
    {
     "data": {
      "application/vnd.jupyter.widget-view+json": {
       "model_id": "9bd86d9f01f444aea647eff0c870a8a3",
       "version_major": 2,
       "version_minor": 0
      },
      "text/plain": [
       "sci_respone:   0%|          | 0/2 [00:00<?, ?tasks/s]"
      ]
     },
     "metadata": {},
     "output_type": "display_data"
    },
    {
     "data": {
      "application/vnd.jupyter.widget-view+json": {
       "model_id": "c8ea0f49f7f448fba29ec9ea8b4d9ad1",
       "version_major": 2,
       "version_minor": 0
      },
      "text/plain": [
       "sci_respone:   0%|          | 0/2 [00:00<?, ?tasks/s]"
      ]
     },
     "metadata": {},
     "output_type": "display_data"
    },
    {
     "data": {
      "application/vnd.jupyter.widget-view+json": {
       "model_id": "f8469a8801f341ce823d20faf25c2abd",
       "version_major": 2,
       "version_minor": 0
      },
      "text/plain": [
       "sci_respone:   0%|          | 0/2 [00:00<?, ?tasks/s]"
      ]
     },
     "metadata": {},
     "output_type": "display_data"
    },
    {
     "data": {
      "application/vnd.jupyter.widget-view+json": {
       "model_id": "5c6d21918fab44069243c30e132e1343",
       "version_major": 2,
       "version_minor": 0
      },
      "text/plain": [
       "sci_respone:   0%|          | 0/2 [00:00<?, ?tasks/s]"
      ]
     },
     "metadata": {},
     "output_type": "display_data"
    },
    {
     "data": {
      "application/vnd.jupyter.widget-view+json": {
       "model_id": "bfb17bb84ead4d3290b9ed226959e2d0",
       "version_major": 2,
       "version_minor": 0
      },
      "text/plain": [
       "sci_respone:   0%|          | 0/2 [00:00<?, ?tasks/s]"
      ]
     },
     "metadata": {},
     "output_type": "display_data"
    },
    {
     "data": {
      "application/vnd.jupyter.widget-view+json": {
       "model_id": "c93625efd26e4472a664274a38cfd667",
       "version_major": 2,
       "version_minor": 0
      },
      "text/plain": [
       "sci_respone:   0%|          | 0/2 [00:00<?, ?tasks/s]"
      ]
     },
     "metadata": {},
     "output_type": "display_data"
    },
    {
     "data": {
      "application/vnd.jupyter.widget-view+json": {
       "model_id": "09f825ebe1c94e999ce541b81e1f7140",
       "version_major": 2,
       "version_minor": 0
      },
      "text/plain": [
       "sci_respone:   0%|          | 0/2 [00:00<?, ?tasks/s]"
      ]
     },
     "metadata": {},
     "output_type": "display_data"
    },
    {
     "data": {
      "application/vnd.jupyter.widget-view+json": {
       "model_id": "37f2ac7b89234c3eaded5d261740b607",
       "version_major": 2,
       "version_minor": 0
      },
      "text/plain": [
       "sci_respone:   0%|          | 0/2 [00:00<?, ?tasks/s]"
      ]
     },
     "metadata": {},
     "output_type": "display_data"
    },
    {
     "data": {
      "application/vnd.jupyter.widget-view+json": {
       "model_id": "54a848f944904c03bce55e0f29288d2a",
       "version_major": 2,
       "version_minor": 0
      },
      "text/plain": [
       "sci_respone:   0%|          | 0/2 [00:00<?, ?tasks/s]"
      ]
     },
     "metadata": {},
     "output_type": "display_data"
    },
    {
     "data": {
      "application/vnd.jupyter.widget-view+json": {
       "model_id": "b3e23216d4b742378c73711a972574b0",
       "version_major": 2,
       "version_minor": 0
      },
      "text/plain": [
       "sci_respone:   0%|          | 0/2 [00:00<?, ?tasks/s]"
      ]
     },
     "metadata": {},
     "output_type": "display_data"
    },
    {
     "data": {
      "application/vnd.jupyter.widget-view+json": {
       "model_id": "c1ad32396dbe461394ffa8d698239a3e",
       "version_major": 2,
       "version_minor": 0
      },
      "text/plain": [
       "sci_respone:   0%|          | 0/2 [00:00<?, ?tasks/s]"
      ]
     },
     "metadata": {},
     "output_type": "display_data"
    },
    {
     "data": {
      "application/vnd.jupyter.widget-view+json": {
       "model_id": "1a87b18ec4bd4e8a9474b64a18287614",
       "version_major": 2,
       "version_minor": 0
      },
      "text/plain": [
       "sci_respone:   0%|          | 0/2 [00:00<?, ?tasks/s]"
      ]
     },
     "metadata": {},
     "output_type": "display_data"
    },
    {
     "data": {
      "application/vnd.jupyter.widget-view+json": {
       "model_id": "c4bf859bfeae4b44b46b23d0d71bc89c",
       "version_major": 2,
       "version_minor": 0
      },
      "text/plain": [
       "sci_respone:   0%|          | 0/2 [00:00<?, ?tasks/s]"
      ]
     },
     "metadata": {},
     "output_type": "display_data"
    },
    {
     "data": {
      "application/vnd.jupyter.widget-view+json": {
       "model_id": "f9c0193475384bd9a716c97a027338e4",
       "version_major": 2,
       "version_minor": 0
      },
      "text/plain": [
       "sci_respone:   0%|          | 0/2 [00:00<?, ?tasks/s]"
      ]
     },
     "metadata": {},
     "output_type": "display_data"
    },
    {
     "data": {
      "application/vnd.jupyter.widget-view+json": {
       "model_id": "72c15fcad19546a5954e499675948c78",
       "version_major": 2,
       "version_minor": 0
      },
      "text/plain": [
       "sci_respone:   0%|          | 0/2 [00:00<?, ?tasks/s]"
      ]
     },
     "metadata": {},
     "output_type": "display_data"
    },
    {
     "data": {
      "application/vnd.jupyter.widget-view+json": {
       "model_id": "2651ac081f3c4959a0ea4f0f09021b3e",
       "version_major": 2,
       "version_minor": 0
      },
      "text/plain": [
       "sci_respone:   0%|          | 0/2 [00:00<?, ?tasks/s]"
      ]
     },
     "metadata": {},
     "output_type": "display_data"
    },
    {
     "data": {
      "application/vnd.jupyter.widget-view+json": {
       "model_id": "a0f92ee3dad442a9a83a1d90129f1176",
       "version_major": 2,
       "version_minor": 0
      },
      "text/plain": [
       "sci_respone:   0%|          | 0/2 [00:00<?, ?tasks/s]"
      ]
     },
     "metadata": {},
     "output_type": "display_data"
    },
    {
     "data": {
      "application/vnd.jupyter.widget-view+json": {
       "model_id": "f4e5890a390f4349a6f73c962318f800",
       "version_major": 2,
       "version_minor": 0
      },
      "text/plain": [
       "sci_respone:   0%|          | 0/2 [00:00<?, ?tasks/s]"
      ]
     },
     "metadata": {},
     "output_type": "display_data"
    },
    {
     "data": {
      "application/vnd.jupyter.widget-view+json": {
       "model_id": "045a7253e6aa4979aea962c00c9d6c71",
       "version_major": 2,
       "version_minor": 0
      },
      "text/plain": [
       "sci_respone:   0%|          | 0/2 [00:00<?, ?tasks/s]"
      ]
     },
     "metadata": {},
     "output_type": "display_data"
    },
    {
     "data": {
      "application/vnd.jupyter.widget-view+json": {
       "model_id": "8b4ec0f1c2f94338b214e13aa9d1705b",
       "version_major": 2,
       "version_minor": 0
      },
      "text/plain": [
       "sci_respone:   0%|          | 0/2 [00:00<?, ?tasks/s]"
      ]
     },
     "metadata": {},
     "output_type": "display_data"
    },
    {
     "data": {
      "application/vnd.jupyter.widget-view+json": {
       "model_id": "b764c7ce66d6480cad41b8929dcdf98d",
       "version_major": 2,
       "version_minor": 0
      },
      "text/plain": [
       "sci_respone:   0%|          | 0/2 [00:00<?, ?tasks/s]"
      ]
     },
     "metadata": {},
     "output_type": "display_data"
    },
    {
     "data": {
      "application/vnd.jupyter.widget-view+json": {
       "model_id": "8f662f411837486f8b65fc22769bc03c",
       "version_major": 2,
       "version_minor": 0
      },
      "text/plain": [
       "sci_respone:   0%|          | 0/2 [00:00<?, ?tasks/s]"
      ]
     },
     "metadata": {},
     "output_type": "display_data"
    },
    {
     "data": {
      "application/vnd.jupyter.widget-view+json": {
       "model_id": "f4b60f5f3d30491b837346353b321cd2",
       "version_major": 2,
       "version_minor": 0
      },
      "text/plain": [
       "sci_respone:   0%|          | 0/2 [00:00<?, ?tasks/s]"
      ]
     },
     "metadata": {},
     "output_type": "display_data"
    },
    {
     "data": {
      "application/vnd.jupyter.widget-view+json": {
       "model_id": "2821a6babc524069ab940c6f90de0de8",
       "version_major": 2,
       "version_minor": 0
      },
      "text/plain": [
       "sci_respone:   0%|          | 0/2 [00:00<?, ?tasks/s]"
      ]
     },
     "metadata": {},
     "output_type": "display_data"
    },
    {
     "data": {
      "application/vnd.jupyter.widget-view+json": {
       "model_id": "99cc96bdae104ea5aea3a6018f8a35df",
       "version_major": 2,
       "version_minor": 0
      },
      "text/plain": [
       "sci_respone:   0%|          | 0/2 [00:00<?, ?tasks/s]"
      ]
     },
     "metadata": {},
     "output_type": "display_data"
    },
    {
     "data": {
      "application/vnd.jupyter.widget-view+json": {
       "model_id": "a00023f1b08942eca4e201c584e94369",
       "version_major": 2,
       "version_minor": 0
      },
      "text/plain": [
       "sci_respone:   0%|          | 0/2 [00:00<?, ?tasks/s]"
      ]
     },
     "metadata": {},
     "output_type": "display_data"
    },
    {
     "data": {
      "application/vnd.jupyter.widget-view+json": {
       "model_id": "e75142450f004b4f887ab50f656b2301",
       "version_major": 2,
       "version_minor": 0
      },
      "text/plain": [
       "sci_respone:   0%|          | 0/2 [00:00<?, ?tasks/s]"
      ]
     },
     "metadata": {},
     "output_type": "display_data"
    },
    {
     "data": {
      "application/vnd.jupyter.widget-view+json": {
       "model_id": "11a5d67587c84d7ba1c7c121dc0a6289",
       "version_major": 2,
       "version_minor": 0
      },
      "text/plain": [
       "sci_respone:   0%|          | 0/2 [00:00<?, ?tasks/s]"
      ]
     },
     "metadata": {},
     "output_type": "display_data"
    },
    {
     "data": {
      "application/vnd.jupyter.widget-view+json": {
       "model_id": "9fe18d788908401d9f6e5f29ff561576",
       "version_major": 2,
       "version_minor": 0
      },
      "text/plain": [
       "sci_respone:   0%|          | 0/2 [00:00<?, ?tasks/s]"
      ]
     },
     "metadata": {},
     "output_type": "display_data"
    },
    {
     "data": {
      "application/vnd.jupyter.widget-view+json": {
       "model_id": "7079225dfaab4eeaa412c4f00959941a",
       "version_major": 2,
       "version_minor": 0
      },
      "text/plain": [
       "sci_respone:   0%|          | 0/2 [00:00<?, ?tasks/s]"
      ]
     },
     "metadata": {},
     "output_type": "display_data"
    },
    {
     "data": {
      "application/vnd.jupyter.widget-view+json": {
       "model_id": "e582b5b0e57a4059a6a5a261dc541581",
       "version_major": 2,
       "version_minor": 0
      },
      "text/plain": [
       "<lambda>:   0%|          | 0/2 [00:00<?, ?tasks/s]"
      ]
     },
     "metadata": {},
     "output_type": "display_data"
    },
    {
     "data": {
      "application/vnd.jupyter.widget-view+json": {
       "model_id": "99dbc682b48743f98cfea59b4a42abe1",
       "version_major": 2,
       "version_minor": 0
      },
      "text/plain": [
       "sci_respone:   0%|          | 0/2 [00:00<?, ?tasks/s]"
      ]
     },
     "metadata": {},
     "output_type": "display_data"
    },
    {
     "data": {
      "application/vnd.jupyter.widget-view+json": {
       "model_id": "11b437e50595415b97f1af3779579d4c",
       "version_major": 2,
       "version_minor": 0
      },
      "text/plain": [
       "sci_respone:   0%|          | 0/2 [00:00<?, ?tasks/s]"
      ]
     },
     "metadata": {},
     "output_type": "display_data"
    },
    {
     "data": {
      "application/vnd.jupyter.widget-view+json": {
       "model_id": "5995a58d78864102b31944d94ca4c122",
       "version_major": 2,
       "version_minor": 0
      },
      "text/plain": [
       "sci_respone:   0%|          | 0/2 [00:00<?, ?tasks/s]"
      ]
     },
     "metadata": {},
     "output_type": "display_data"
    },
    {
     "data": {
      "application/vnd.jupyter.widget-view+json": {
       "model_id": "860d195399584de9a170f478f28a0219",
       "version_major": 2,
       "version_minor": 0
      },
      "text/plain": [
       "sci_respone:   0%|          | 0/2 [00:00<?, ?tasks/s]"
      ]
     },
     "metadata": {},
     "output_type": "display_data"
    },
    {
     "data": {
      "application/vnd.jupyter.widget-view+json": {
       "model_id": "fe3d389a95524f8cbe21f860e50e16ff",
       "version_major": 2,
       "version_minor": 0
      },
      "text/plain": [
       "sci_respone:   0%|          | 0/2 [00:00<?, ?tasks/s]"
      ]
     },
     "metadata": {},
     "output_type": "display_data"
    },
    {
     "data": {
      "application/vnd.jupyter.widget-view+json": {
       "model_id": "95a050dd5e7b4920b13a37a7038cab16",
       "version_major": 2,
       "version_minor": 0
      },
      "text/plain": [
       "sci_respone:   0%|          | 0/2 [00:00<?, ?tasks/s]"
      ]
     },
     "metadata": {},
     "output_type": "display_data"
    },
    {
     "data": {
      "application/vnd.jupyter.widget-view+json": {
       "model_id": "29546c1808e84623a68c5e8e5d3c6438",
       "version_major": 2,
       "version_minor": 0
      },
      "text/plain": [
       "sci_respone:   0%|          | 0/2 [00:00<?, ?tasks/s]"
      ]
     },
     "metadata": {},
     "output_type": "display_data"
    },
    {
     "data": {
      "application/vnd.jupyter.widget-view+json": {
       "model_id": "621bfe83c34644f38bf74e49eb55ae65",
       "version_major": 2,
       "version_minor": 0
      },
      "text/plain": [
       "sci_respone:   0%|          | 0/2 [00:00<?, ?tasks/s]"
      ]
     },
     "metadata": {},
     "output_type": "display_data"
    },
    {
     "data": {
      "application/vnd.jupyter.widget-view+json": {
       "model_id": "ff6780fb64cd4772b4dcd4cfae1eba1c",
       "version_major": 2,
       "version_minor": 0
      },
      "text/plain": [
       "sci_respone:   0%|          | 0/2 [00:00<?, ?tasks/s]"
      ]
     },
     "metadata": {},
     "output_type": "display_data"
    },
    {
     "data": {
      "application/vnd.jupyter.widget-view+json": {
       "model_id": "5f8e2b3d0c364f36adc71ed66d1e2642",
       "version_major": 2,
       "version_minor": 0
      },
      "text/plain": [
       "sci_respone:   0%|          | 0/2 [00:00<?, ?tasks/s]"
      ]
     },
     "metadata": {},
     "output_type": "display_data"
    },
    {
     "data": {
      "application/vnd.jupyter.widget-view+json": {
       "model_id": "3c1d836f41b744da964d1c9385047e23",
       "version_major": 2,
       "version_minor": 0
      },
      "text/plain": [
       "sci_respone:   0%|          | 0/2 [00:00<?, ?tasks/s]"
      ]
     },
     "metadata": {},
     "output_type": "display_data"
    },
    {
     "data": {
      "application/vnd.jupyter.widget-view+json": {
       "model_id": "ddc789d00f09447490deea0040677cb5",
       "version_major": 2,
       "version_minor": 0
      },
      "text/plain": [
       "sci_respone:   0%|          | 0/2 [00:00<?, ?tasks/s]"
      ]
     },
     "metadata": {},
     "output_type": "display_data"
    },
    {
     "data": {
      "application/vnd.jupyter.widget-view+json": {
       "model_id": "4cbce1054fd64f03a824c96dfb30b5e8",
       "version_major": 2,
       "version_minor": 0
      },
      "text/plain": [
       "sci_respone:   0%|          | 0/2 [00:00<?, ?tasks/s]"
      ]
     },
     "metadata": {},
     "output_type": "display_data"
    },
    {
     "data": {
      "application/vnd.jupyter.widget-view+json": {
       "model_id": "4e71548eb2e5439b9866e29c17d0cfa1",
       "version_major": 2,
       "version_minor": 0
      },
      "text/plain": [
       "sci_respone:   0%|          | 0/2 [00:00<?, ?tasks/s]"
      ]
     },
     "metadata": {},
     "output_type": "display_data"
    },
    {
     "data": {
      "application/vnd.jupyter.widget-view+json": {
       "model_id": "6f088e3a3cca4671b35588ffbe547a29",
       "version_major": 2,
       "version_minor": 0
      },
      "text/plain": [
       "sci_respone:   0%|          | 0/2 [00:00<?, ?tasks/s]"
      ]
     },
     "metadata": {},
     "output_type": "display_data"
    },
    {
     "data": {
      "application/vnd.jupyter.widget-view+json": {
       "model_id": "086515d6fc764d05b803e55af3a691f8",
       "version_major": 2,
       "version_minor": 0
      },
      "text/plain": [
       "sci_respone:   0%|          | 0/2 [00:00<?, ?tasks/s]"
      ]
     },
     "metadata": {},
     "output_type": "display_data"
    },
    {
     "data": {
      "application/vnd.jupyter.widget-view+json": {
       "model_id": "84667341e17f42038a1d1272a42d0eb9",
       "version_major": 2,
       "version_minor": 0
      },
      "text/plain": [
       "sci_respone:   0%|          | 0/2 [00:00<?, ?tasks/s]"
      ]
     },
     "metadata": {},
     "output_type": "display_data"
    },
    {
     "data": {
      "application/vnd.jupyter.widget-view+json": {
       "model_id": "4663d05227bf456ea5c7d4b2938f29c3",
       "version_major": 2,
       "version_minor": 0
      },
      "text/plain": [
       "sci_respone:   0%|          | 0/2 [00:00<?, ?tasks/s]"
      ]
     },
     "metadata": {},
     "output_type": "display_data"
    },
    {
     "data": {
      "application/vnd.jupyter.widget-view+json": {
       "model_id": "abba3f4155494664bbd6af74e2df5ea9",
       "version_major": 2,
       "version_minor": 0
      },
      "text/plain": [
       "sci_respone:   0%|          | 0/2 [00:00<?, ?tasks/s]"
      ]
     },
     "metadata": {},
     "output_type": "display_data"
    },
    {
     "data": {
      "application/vnd.jupyter.widget-view+json": {
       "model_id": "7b95cd679ab147b99670903857603f74",
       "version_major": 2,
       "version_minor": 0
      },
      "text/plain": [
       "sci_respone:   0%|          | 0/2 [00:00<?, ?tasks/s]"
      ]
     },
     "metadata": {},
     "output_type": "display_data"
    },
    {
     "data": {
      "application/vnd.jupyter.widget-view+json": {
       "model_id": "fae74bcb57cd4bc79e6a13f0c6d983f3",
       "version_major": 2,
       "version_minor": 0
      },
      "text/plain": [
       "sci_respone:   0%|          | 0/2 [00:00<?, ?tasks/s]"
      ]
     },
     "metadata": {},
     "output_type": "display_data"
    },
    {
     "data": {
      "application/vnd.jupyter.widget-view+json": {
       "model_id": "9beec54820794aa0a8c5b05f953c8767",
       "version_major": 2,
       "version_minor": 0
      },
      "text/plain": [
       "sci_respone:   0%|          | 0/2 [00:00<?, ?tasks/s]"
      ]
     },
     "metadata": {},
     "output_type": "display_data"
    },
    {
     "data": {
      "application/vnd.jupyter.widget-view+json": {
       "model_id": "c6329aca35d040639791cb6ff958ee11",
       "version_major": 2,
       "version_minor": 0
      },
      "text/plain": [
       "sci_respone:   0%|          | 0/2 [00:00<?, ?tasks/s]"
      ]
     },
     "metadata": {},
     "output_type": "display_data"
    },
    {
     "data": {
      "application/vnd.jupyter.widget-view+json": {
       "model_id": "3167b9e1e8334df99ad7e79b9ad2f614",
       "version_major": 2,
       "version_minor": 0
      },
      "text/plain": [
       "sci_respone:   0%|          | 0/2 [00:00<?, ?tasks/s]"
      ]
     },
     "metadata": {},
     "output_type": "display_data"
    },
    {
     "data": {
      "application/vnd.jupyter.widget-view+json": {
       "model_id": "1bb5e417051f403188ce8763e4ac4c1b",
       "version_major": 2,
       "version_minor": 0
      },
      "text/plain": [
       "sci_respone:   0%|          | 0/2 [00:00<?, ?tasks/s]"
      ]
     },
     "metadata": {},
     "output_type": "display_data"
    },
    {
     "data": {
      "application/vnd.jupyter.widget-view+json": {
       "model_id": "03ceb18e54824b36aa4abd6283dfc724",
       "version_major": 2,
       "version_minor": 0
      },
      "text/plain": [
       "sci_respone:   0%|          | 0/2 [00:00<?, ?tasks/s]"
      ]
     },
     "metadata": {},
     "output_type": "display_data"
    },
    {
     "data": {
      "application/vnd.jupyter.widget-view+json": {
       "model_id": "08267196340841ef8d6bc3661989cb6d",
       "version_major": 2,
       "version_minor": 0
      },
      "text/plain": [
       "sci_respone:   0%|          | 0/2 [00:00<?, ?tasks/s]"
      ]
     },
     "metadata": {},
     "output_type": "display_data"
    },
    {
     "data": {
      "application/vnd.jupyter.widget-view+json": {
       "model_id": "2602bd4a241e4bef9ef5524d14a367bf",
       "version_major": 2,
       "version_minor": 0
      },
      "text/plain": [
       "sci_respone:   0%|          | 0/2 [00:00<?, ?tasks/s]"
      ]
     },
     "metadata": {},
     "output_type": "display_data"
    },
    {
     "data": {
      "application/vnd.jupyter.widget-view+json": {
       "model_id": "03a261f16e2c41b19bd580ee8063b68c",
       "version_major": 2,
       "version_minor": 0
      },
      "text/plain": [
       "sci_respone:   0%|          | 0/2 [00:00<?, ?tasks/s]"
      ]
     },
     "metadata": {},
     "output_type": "display_data"
    },
    {
     "data": {
      "application/vnd.jupyter.widget-view+json": {
       "model_id": "1e872c78ab3c4f45b69fcfe391238f17",
       "version_major": 2,
       "version_minor": 0
      },
      "text/plain": [
       "sci_respone:   0%|          | 0/2 [00:00<?, ?tasks/s]"
      ]
     },
     "metadata": {},
     "output_type": "display_data"
    },
    {
     "data": {
      "application/vnd.jupyter.widget-view+json": {
       "model_id": "f04b8cff53e64a3d97b4cfc684211782",
       "version_major": 2,
       "version_minor": 0
      },
      "text/plain": [
       "<lambda>:   0%|          | 0/2 [00:00<?, ?tasks/s]"
      ]
     },
     "metadata": {},
     "output_type": "display_data"
    },
    {
     "data": {
      "application/vnd.jupyter.widget-view+json": {
       "model_id": "a7e8b88da0a94febb84bad57fad73e9d",
       "version_major": 2,
       "version_minor": 0
      },
      "text/plain": [
       "sci_respone:   0%|          | 0/2 [00:00<?, ?tasks/s]"
      ]
     },
     "metadata": {},
     "output_type": "display_data"
    },
    {
     "data": {
      "application/vnd.jupyter.widget-view+json": {
       "model_id": "c9a75b6be1d04542b07734674439f6a2",
       "version_major": 2,
       "version_minor": 0
      },
      "text/plain": [
       "sci_respone:   0%|          | 0/2 [00:00<?, ?tasks/s]"
      ]
     },
     "metadata": {},
     "output_type": "display_data"
    },
    {
     "data": {
      "application/vnd.jupyter.widget-view+json": {
       "model_id": "a06e0b0ee76c4dd480c071694b5b8ed4",
       "version_major": 2,
       "version_minor": 0
      },
      "text/plain": [
       "sci_respone:   0%|          | 0/2 [00:00<?, ?tasks/s]"
      ]
     },
     "metadata": {},
     "output_type": "display_data"
    },
    {
     "data": {
      "application/vnd.jupyter.widget-view+json": {
       "model_id": "2033215b9cae407e88655997a38fb981",
       "version_major": 2,
       "version_minor": 0
      },
      "text/plain": [
       "sci_respone:   0%|          | 0/2 [00:00<?, ?tasks/s]"
      ]
     },
     "metadata": {},
     "output_type": "display_data"
    },
    {
     "data": {
      "application/vnd.jupyter.widget-view+json": {
       "model_id": "607b0f3d7bf64bc3ace6d2e1add7b5cd",
       "version_major": 2,
       "version_minor": 0
      },
      "text/plain": [
       "sci_respone:   0%|          | 0/2 [00:00<?, ?tasks/s]"
      ]
     },
     "metadata": {},
     "output_type": "display_data"
    },
    {
     "data": {
      "application/vnd.jupyter.widget-view+json": {
       "model_id": "9aaf749e7f564f74816b69bda9e3c7a5",
       "version_major": 2,
       "version_minor": 0
      },
      "text/plain": [
       "sci_respone:   0%|          | 0/2 [00:00<?, ?tasks/s]"
      ]
     },
     "metadata": {},
     "output_type": "display_data"
    },
    {
     "data": {
      "application/vnd.jupyter.widget-view+json": {
       "model_id": "c24ba1816b124096b2adb430145bc464",
       "version_major": 2,
       "version_minor": 0
      },
      "text/plain": [
       "sci_respone:   0%|          | 0/2 [00:00<?, ?tasks/s]"
      ]
     },
     "metadata": {},
     "output_type": "display_data"
    },
    {
     "data": {
      "application/vnd.jupyter.widget-view+json": {
       "model_id": "e1a76517ae6842b3874046aff6ded57a",
       "version_major": 2,
       "version_minor": 0
      },
      "text/plain": [
       "sci_respone:   0%|          | 0/2 [00:00<?, ?tasks/s]"
      ]
     },
     "metadata": {},
     "output_type": "display_data"
    },
    {
     "data": {
      "application/vnd.jupyter.widget-view+json": {
       "model_id": "ac8a07ebb02c4d48bdba9a75e3694261",
       "version_major": 2,
       "version_minor": 0
      },
      "text/plain": [
       "sci_respone:   0%|          | 0/2 [00:00<?, ?tasks/s]"
      ]
     },
     "metadata": {},
     "output_type": "display_data"
    },
    {
     "data": {
      "application/vnd.jupyter.widget-view+json": {
       "model_id": "f835e0472bef4308bcd0d53b1006ee0a",
       "version_major": 2,
       "version_minor": 0
      },
      "text/plain": [
       "sci_respone:   0%|          | 0/2 [00:00<?, ?tasks/s]"
      ]
     },
     "metadata": {},
     "output_type": "display_data"
    },
    {
     "data": {
      "application/vnd.jupyter.widget-view+json": {
       "model_id": "aa36a9a342a54a10aac64dc5f3acf244",
       "version_major": 2,
       "version_minor": 0
      },
      "text/plain": [
       "sci_respone:   0%|          | 0/2 [00:00<?, ?tasks/s]"
      ]
     },
     "metadata": {},
     "output_type": "display_data"
    },
    {
     "data": {
      "application/vnd.jupyter.widget-view+json": {
       "model_id": "fa49b3b116114ec2b17e5a1e83f071bd",
       "version_major": 2,
       "version_minor": 0
      },
      "text/plain": [
       "sci_respone:   0%|          | 0/2 [00:00<?, ?tasks/s]"
      ]
     },
     "metadata": {},
     "output_type": "display_data"
    },
    {
     "data": {
      "application/vnd.jupyter.widget-view+json": {
       "model_id": "27a426a7bb34473ba1de62933a48cdec",
       "version_major": 2,
       "version_minor": 0
      },
      "text/plain": [
       "sci_respone:   0%|          | 0/2 [00:00<?, ?tasks/s]"
      ]
     },
     "metadata": {},
     "output_type": "display_data"
    },
    {
     "data": {
      "application/vnd.jupyter.widget-view+json": {
       "model_id": "0eb38dfd345b4fb6a10d7a3e03ceff2d",
       "version_major": 2,
       "version_minor": 0
      },
      "text/plain": [
       "sci_respone:   0%|          | 0/2 [00:00<?, ?tasks/s]"
      ]
     },
     "metadata": {},
     "output_type": "display_data"
    },
    {
     "data": {
      "application/vnd.jupyter.widget-view+json": {
       "model_id": "4f3d0d9288ea4e3eb81c5ef91461f304",
       "version_major": 2,
       "version_minor": 0
      },
      "text/plain": [
       "sci_respone:   0%|          | 0/2 [00:00<?, ?tasks/s]"
      ]
     },
     "metadata": {},
     "output_type": "display_data"
    },
    {
     "data": {
      "application/vnd.jupyter.widget-view+json": {
       "model_id": "af15ef4d2ad24ae5aac38fd814c99cf1",
       "version_major": 2,
       "version_minor": 0
      },
      "text/plain": [
       "sci_respone:   0%|          | 0/2 [00:00<?, ?tasks/s]"
      ]
     },
     "metadata": {},
     "output_type": "display_data"
    },
    {
     "data": {
      "application/vnd.jupyter.widget-view+json": {
       "model_id": "46642e0945d84313a9a35dd52f666186",
       "version_major": 2,
       "version_minor": 0
      },
      "text/plain": [
       "sci_respone:   0%|          | 0/2 [00:00<?, ?tasks/s]"
      ]
     },
     "metadata": {},
     "output_type": "display_data"
    },
    {
     "data": {
      "application/vnd.jupyter.widget-view+json": {
       "model_id": "51099e16fbe34d3e9e7f954472c0abee",
       "version_major": 2,
       "version_minor": 0
      },
      "text/plain": [
       "sci_respone:   0%|          | 0/2 [00:00<?, ?tasks/s]"
      ]
     },
     "metadata": {},
     "output_type": "display_data"
    },
    {
     "data": {
      "application/vnd.jupyter.widget-view+json": {
       "model_id": "d7dc23e97d0a43869c95f796cb1aac84",
       "version_major": 2,
       "version_minor": 0
      },
      "text/plain": [
       "sci_respone:   0%|          | 0/2 [00:00<?, ?tasks/s]"
      ]
     },
     "metadata": {},
     "output_type": "display_data"
    },
    {
     "data": {
      "application/vnd.jupyter.widget-view+json": {
       "model_id": "37b23bc909284e2aaadf996d07f13032",
       "version_major": 2,
       "version_minor": 0
      },
      "text/plain": [
       "sci_respone:   0%|          | 0/2 [00:00<?, ?tasks/s]"
      ]
     },
     "metadata": {},
     "output_type": "display_data"
    },
    {
     "data": {
      "application/vnd.jupyter.widget-view+json": {
       "model_id": "a9c9d386c3f74df88df4fb74b71d6c89",
       "version_major": 2,
       "version_minor": 0
      },
      "text/plain": [
       "sci_respone:   0%|          | 0/2 [00:00<?, ?tasks/s]"
      ]
     },
     "metadata": {},
     "output_type": "display_data"
    },
    {
     "data": {
      "application/vnd.jupyter.widget-view+json": {
       "model_id": "604f606e8ec644138583da77f4fc0219",
       "version_major": 2,
       "version_minor": 0
      },
      "text/plain": [
       "sci_respone:   0%|          | 0/2 [00:00<?, ?tasks/s]"
      ]
     },
     "metadata": {},
     "output_type": "display_data"
    },
    {
     "data": {
      "application/vnd.jupyter.widget-view+json": {
       "model_id": "024e1a337803488f94223cd89f6bf239",
       "version_major": 2,
       "version_minor": 0
      },
      "text/plain": [
       "sci_respone:   0%|          | 0/2 [00:00<?, ?tasks/s]"
      ]
     },
     "metadata": {},
     "output_type": "display_data"
    },
    {
     "data": {
      "application/vnd.jupyter.widget-view+json": {
       "model_id": "e1025184b2b04cf486045bf9fccd017c",
       "version_major": 2,
       "version_minor": 0
      },
      "text/plain": [
       "sci_respone:   0%|          | 0/2 [00:00<?, ?tasks/s]"
      ]
     },
     "metadata": {},
     "output_type": "display_data"
    },
    {
     "data": {
      "application/vnd.jupyter.widget-view+json": {
       "model_id": "7de15bc035f848b4bfae695137f3602d",
       "version_major": 2,
       "version_minor": 0
      },
      "text/plain": [
       "sci_respone:   0%|          | 0/2 [00:00<?, ?tasks/s]"
      ]
     },
     "metadata": {},
     "output_type": "display_data"
    },
    {
     "data": {
      "application/vnd.jupyter.widget-view+json": {
       "model_id": "59a1aeb6272840b490b9fa5cfedd8fc4",
       "version_major": 2,
       "version_minor": 0
      },
      "text/plain": [
       "sci_respone:   0%|          | 0/2 [00:00<?, ?tasks/s]"
      ]
     },
     "metadata": {},
     "output_type": "display_data"
    },
    {
     "data": {
      "application/vnd.jupyter.widget-view+json": {
       "model_id": "fd51105328664663bf7385770379fd9c",
       "version_major": 2,
       "version_minor": 0
      },
      "text/plain": [
       "sci_respone:   0%|          | 0/2 [00:00<?, ?tasks/s]"
      ]
     },
     "metadata": {},
     "output_type": "display_data"
    },
    {
     "data": {
      "application/vnd.jupyter.widget-view+json": {
       "model_id": "df8353605c7f43cea743391b99edda51",
       "version_major": 2,
       "version_minor": 0
      },
      "text/plain": [
       "sci_respone:   0%|          | 0/2 [00:00<?, ?tasks/s]"
      ]
     },
     "metadata": {},
     "output_type": "display_data"
    },
    {
     "data": {
      "application/vnd.jupyter.widget-view+json": {
       "model_id": "1bfe5d3cffc54a038d9263c67bfd6aaa",
       "version_major": 2,
       "version_minor": 0
      },
      "text/plain": [
       "sci_respone:   0%|          | 0/2 [00:00<?, ?tasks/s]"
      ]
     },
     "metadata": {},
     "output_type": "display_data"
    },
    {
     "data": {
      "application/vnd.jupyter.widget-view+json": {
       "model_id": "bd128645ae5d433f8416286219885c7a",
       "version_major": 2,
       "version_minor": 0
      },
      "text/plain": [
       "sci_respone:   0%|          | 0/2 [00:00<?, ?tasks/s]"
      ]
     },
     "metadata": {},
     "output_type": "display_data"
    },
    {
     "data": {
      "application/vnd.jupyter.widget-view+json": {
       "model_id": "4250efd4316c4de79397af4a505cef80",
       "version_major": 2,
       "version_minor": 0
      },
      "text/plain": [
       "<lambda>:   0%|          | 0/2 [00:00<?, ?tasks/s]"
      ]
     },
     "metadata": {},
     "output_type": "display_data"
    },
    {
     "data": {
      "application/vnd.jupyter.widget-view+json": {
       "model_id": "4af21aae9a9249a99e688a37ecea6fca",
       "version_major": 2,
       "version_minor": 0
      },
      "text/plain": [
       "sci_respone:   0%|          | 0/2 [00:00<?, ?tasks/s]"
      ]
     },
     "metadata": {},
     "output_type": "display_data"
    },
    {
     "data": {
      "application/vnd.jupyter.widget-view+json": {
       "model_id": "aa7df1c67fb74051a96330fc960de4de",
       "version_major": 2,
       "version_minor": 0
      },
      "text/plain": [
       "sci_respone:   0%|          | 0/2 [00:00<?, ?tasks/s]"
      ]
     },
     "metadata": {},
     "output_type": "display_data"
    },
    {
     "data": {
      "application/vnd.jupyter.widget-view+json": {
       "model_id": "260e827e5d9c4ca886c015331b94bc96",
       "version_major": 2,
       "version_minor": 0
      },
      "text/plain": [
       "sci_respone:   0%|          | 0/2 [00:00<?, ?tasks/s]"
      ]
     },
     "metadata": {},
     "output_type": "display_data"
    },
    {
     "data": {
      "application/vnd.jupyter.widget-view+json": {
       "model_id": "5c9dfffe05a045d8a4fc8ab21560cf3b",
       "version_major": 2,
       "version_minor": 0
      },
      "text/plain": [
       "sci_respone:   0%|          | 0/2 [00:00<?, ?tasks/s]"
      ]
     },
     "metadata": {},
     "output_type": "display_data"
    },
    {
     "data": {
      "application/vnd.jupyter.widget-view+json": {
       "model_id": "2212e5077308491e8686fd6459764efe",
       "version_major": 2,
       "version_minor": 0
      },
      "text/plain": [
       "sci_respone:   0%|          | 0/2 [00:00<?, ?tasks/s]"
      ]
     },
     "metadata": {},
     "output_type": "display_data"
    },
    {
     "data": {
      "application/vnd.jupyter.widget-view+json": {
       "model_id": "0f96cc051b4947eabaabf116a5d1ef90",
       "version_major": 2,
       "version_minor": 0
      },
      "text/plain": [
       "sci_respone:   0%|          | 0/2 [00:00<?, ?tasks/s]"
      ]
     },
     "metadata": {},
     "output_type": "display_data"
    },
    {
     "data": {
      "application/vnd.jupyter.widget-view+json": {
       "model_id": "f6b65baf37014f4ba992a431e3854c03",
       "version_major": 2,
       "version_minor": 0
      },
      "text/plain": [
       "sci_respone:   0%|          | 0/2 [00:00<?, ?tasks/s]"
      ]
     },
     "metadata": {},
     "output_type": "display_data"
    },
    {
     "data": {
      "application/vnd.jupyter.widget-view+json": {
       "model_id": "9976e78d1c8a491fbc6f325bd71e78bb",
       "version_major": 2,
       "version_minor": 0
      },
      "text/plain": [
       "sci_respone:   0%|          | 0/2 [00:00<?, ?tasks/s]"
      ]
     },
     "metadata": {},
     "output_type": "display_data"
    },
    {
     "data": {
      "application/vnd.jupyter.widget-view+json": {
       "model_id": "7e848dcb1b784ec3a011e00981319855",
       "version_major": 2,
       "version_minor": 0
      },
      "text/plain": [
       "sci_respone:   0%|          | 0/2 [00:00<?, ?tasks/s]"
      ]
     },
     "metadata": {},
     "output_type": "display_data"
    },
    {
     "data": {
      "application/vnd.jupyter.widget-view+json": {
       "model_id": "92acb0e8997145caa81d941a7687926f",
       "version_major": 2,
       "version_minor": 0
      },
      "text/plain": [
       "sci_respone:   0%|          | 0/2 [00:00<?, ?tasks/s]"
      ]
     },
     "metadata": {},
     "output_type": "display_data"
    },
    {
     "data": {
      "application/vnd.jupyter.widget-view+json": {
       "model_id": "9f84d41c2b33442186cf01d19f2a36ae",
       "version_major": 2,
       "version_minor": 0
      },
      "text/plain": [
       "sci_respone:   0%|          | 0/2 [00:00<?, ?tasks/s]"
      ]
     },
     "metadata": {},
     "output_type": "display_data"
    },
    {
     "data": {
      "application/vnd.jupyter.widget-view+json": {
       "model_id": "af9e9ead7f6d45afad201653ae0fe244",
       "version_major": 2,
       "version_minor": 0
      },
      "text/plain": [
       "sci_respone:   0%|          | 0/2 [00:00<?, ?tasks/s]"
      ]
     },
     "metadata": {},
     "output_type": "display_data"
    },
    {
     "data": {
      "application/vnd.jupyter.widget-view+json": {
       "model_id": "c02341b2217a4601b77e52d38aa901cb",
       "version_major": 2,
       "version_minor": 0
      },
      "text/plain": [
       "sci_respone:   0%|          | 0/2 [00:00<?, ?tasks/s]"
      ]
     },
     "metadata": {},
     "output_type": "display_data"
    },
    {
     "data": {
      "application/vnd.jupyter.widget-view+json": {
       "model_id": "fea8a02879b844f2bd05f1b762f9efdd",
       "version_major": 2,
       "version_minor": 0
      },
      "text/plain": [
       "sci_respone:   0%|          | 0/2 [00:00<?, ?tasks/s]"
      ]
     },
     "metadata": {},
     "output_type": "display_data"
    },
    {
     "data": {
      "application/vnd.jupyter.widget-view+json": {
       "model_id": "031b785a58fe461e98fb9a917912f8fa",
       "version_major": 2,
       "version_minor": 0
      },
      "text/plain": [
       "sci_respone:   0%|          | 0/2 [00:00<?, ?tasks/s]"
      ]
     },
     "metadata": {},
     "output_type": "display_data"
    },
    {
     "data": {
      "application/vnd.jupyter.widget-view+json": {
       "model_id": "eed65b22e5934d85a501c13480012aec",
       "version_major": 2,
       "version_minor": 0
      },
      "text/plain": [
       "sci_respone:   0%|          | 0/2 [00:00<?, ?tasks/s]"
      ]
     },
     "metadata": {},
     "output_type": "display_data"
    },
    {
     "data": {
      "application/vnd.jupyter.widget-view+json": {
       "model_id": "b4154d92c7c5448fb4710857ea6a1dea",
       "version_major": 2,
       "version_minor": 0
      },
      "text/plain": [
       "sci_respone:   0%|          | 0/2 [00:00<?, ?tasks/s]"
      ]
     },
     "metadata": {},
     "output_type": "display_data"
    },
    {
     "data": {
      "application/vnd.jupyter.widget-view+json": {
       "model_id": "fd20574093fd458abbcc895fd3fd5e24",
       "version_major": 2,
       "version_minor": 0
      },
      "text/plain": [
       "sci_respone:   0%|          | 0/2 [00:00<?, ?tasks/s]"
      ]
     },
     "metadata": {},
     "output_type": "display_data"
    },
    {
     "data": {
      "application/vnd.jupyter.widget-view+json": {
       "model_id": "01b17f1ef348404ba84c50d08bc53bff",
       "version_major": 2,
       "version_minor": 0
      },
      "text/plain": [
       "sci_respone:   0%|          | 0/2 [00:00<?, ?tasks/s]"
      ]
     },
     "metadata": {},
     "output_type": "display_data"
    },
    {
     "data": {
      "application/vnd.jupyter.widget-view+json": {
       "model_id": "a1f362c9294f4e8a8dec555c3806c996",
       "version_major": 2,
       "version_minor": 0
      },
      "text/plain": [
       "sci_respone:   0%|          | 0/2 [00:00<?, ?tasks/s]"
      ]
     },
     "metadata": {},
     "output_type": "display_data"
    },
    {
     "data": {
      "application/vnd.jupyter.widget-view+json": {
       "model_id": "47c4579d7daf4ce297a1dc6c58dbaaa2",
       "version_major": 2,
       "version_minor": 0
      },
      "text/plain": [
       "sci_respone:   0%|          | 0/2 [00:00<?, ?tasks/s]"
      ]
     },
     "metadata": {},
     "output_type": "display_data"
    },
    {
     "data": {
      "application/vnd.jupyter.widget-view+json": {
       "model_id": "699a733046544457be1bb2c9303b9a64",
       "version_major": 2,
       "version_minor": 0
      },
      "text/plain": [
       "sci_respone:   0%|          | 0/2 [00:00<?, ?tasks/s]"
      ]
     },
     "metadata": {},
     "output_type": "display_data"
    },
    {
     "data": {
      "application/vnd.jupyter.widget-view+json": {
       "model_id": "52990c3de44149d0b7434722d825a1e5",
       "version_major": 2,
       "version_minor": 0
      },
      "text/plain": [
       "sci_respone:   0%|          | 0/2 [00:00<?, ?tasks/s]"
      ]
     },
     "metadata": {},
     "output_type": "display_data"
    },
    {
     "data": {
      "application/vnd.jupyter.widget-view+json": {
       "model_id": "5c4dcc4ddb064e3a8fd708421e0c7484",
       "version_major": 2,
       "version_minor": 0
      },
      "text/plain": [
       "sci_respone:   0%|          | 0/2 [00:00<?, ?tasks/s]"
      ]
     },
     "metadata": {},
     "output_type": "display_data"
    },
    {
     "data": {
      "application/vnd.jupyter.widget-view+json": {
       "model_id": "8e327ab945d04d6d814a28ebead7fc98",
       "version_major": 2,
       "version_minor": 0
      },
      "text/plain": [
       "sci_respone:   0%|          | 0/2 [00:00<?, ?tasks/s]"
      ]
     },
     "metadata": {},
     "output_type": "display_data"
    },
    {
     "data": {
      "application/vnd.jupyter.widget-view+json": {
       "model_id": "ee1e287a5c4e4ee3a40787abf5512047",
       "version_major": 2,
       "version_minor": 0
      },
      "text/plain": [
       "sci_respone:   0%|          | 0/2 [00:00<?, ?tasks/s]"
      ]
     },
     "metadata": {},
     "output_type": "display_data"
    },
    {
     "data": {
      "application/vnd.jupyter.widget-view+json": {
       "model_id": "3aff4926733e46ad881f6f9f508462b6",
       "version_major": 2,
       "version_minor": 0
      },
      "text/plain": [
       "sci_respone:   0%|          | 0/2 [00:00<?, ?tasks/s]"
      ]
     },
     "metadata": {},
     "output_type": "display_data"
    },
    {
     "data": {
      "application/vnd.jupyter.widget-view+json": {
       "model_id": "65b9656d91514be3a090ffed281ebfb9",
       "version_major": 2,
       "version_minor": 0
      },
      "text/plain": [
       "sci_respone:   0%|          | 0/2 [00:00<?, ?tasks/s]"
      ]
     },
     "metadata": {},
     "output_type": "display_data"
    },
    {
     "data": {
      "application/vnd.jupyter.widget-view+json": {
       "model_id": "9e5f133f31f84884bfbcaabf1eeb24f9",
       "version_major": 2,
       "version_minor": 0
      },
      "text/plain": [
       "sci_respone:   0%|          | 0/2 [00:00<?, ?tasks/s]"
      ]
     },
     "metadata": {},
     "output_type": "display_data"
    },
    {
     "data": {
      "application/vnd.jupyter.widget-view+json": {
       "model_id": "5dde1bc1d5404584bc0242ba17a972b5",
       "version_major": 2,
       "version_minor": 0
      },
      "text/plain": [
       "sci_respone:   0%|          | 0/2 [00:00<?, ?tasks/s]"
      ]
     },
     "metadata": {},
     "output_type": "display_data"
    },
    {
     "data": {
      "application/vnd.jupyter.widget-view+json": {
       "model_id": "963cda5316fb4e949a60652aa0d8596c",
       "version_major": 2,
       "version_minor": 0
      },
      "text/plain": [
       "<lambda>:   0%|          | 0/2 [00:00<?, ?tasks/s]"
      ]
     },
     "metadata": {},
     "output_type": "display_data"
    },
    {
     "data": {
      "application/vnd.jupyter.widget-view+json": {
       "model_id": "ab09aa232ade4615b361af5f4f28665e",
       "version_major": 2,
       "version_minor": 0
      },
      "text/plain": [
       "sci_respone:   0%|          | 0/2 [00:00<?, ?tasks/s]"
      ]
     },
     "metadata": {},
     "output_type": "display_data"
    },
    {
     "data": {
      "application/vnd.jupyter.widget-view+json": {
       "model_id": "5129127cc975406f95c503b0212287d8",
       "version_major": 2,
       "version_minor": 0
      },
      "text/plain": [
       "sci_respone:   0%|          | 0/2 [00:00<?, ?tasks/s]"
      ]
     },
     "metadata": {},
     "output_type": "display_data"
    },
    {
     "data": {
      "application/vnd.jupyter.widget-view+json": {
       "model_id": "222af683285f408eb9ecb47ae57a6c4f",
       "version_major": 2,
       "version_minor": 0
      },
      "text/plain": [
       "sci_respone:   0%|          | 0/2 [00:00<?, ?tasks/s]"
      ]
     },
     "metadata": {},
     "output_type": "display_data"
    },
    {
     "data": {
      "application/vnd.jupyter.widget-view+json": {
       "model_id": "8049d2d71abe4ba59baf0f5d0c6041cb",
       "version_major": 2,
       "version_minor": 0
      },
      "text/plain": [
       "sci_respone:   0%|          | 0/2 [00:00<?, ?tasks/s]"
      ]
     },
     "metadata": {},
     "output_type": "display_data"
    },
    {
     "data": {
      "application/vnd.jupyter.widget-view+json": {
       "model_id": "f7f1f3895b654afdb8f476fa9d161ad9",
       "version_major": 2,
       "version_minor": 0
      },
      "text/plain": [
       "sci_respone:   0%|          | 0/2 [00:00<?, ?tasks/s]"
      ]
     },
     "metadata": {},
     "output_type": "display_data"
    },
    {
     "data": {
      "application/vnd.jupyter.widget-view+json": {
       "model_id": "61cec5fdd7284c3ab1a38da163b6889b",
       "version_major": 2,
       "version_minor": 0
      },
      "text/plain": [
       "sci_respone:   0%|          | 0/2 [00:00<?, ?tasks/s]"
      ]
     },
     "metadata": {},
     "output_type": "display_data"
    },
    {
     "data": {
      "application/vnd.jupyter.widget-view+json": {
       "model_id": "9c1a8da4bdfe4053b17f4d5a12c3ef5c",
       "version_major": 2,
       "version_minor": 0
      },
      "text/plain": [
       "sci_respone:   0%|          | 0/2 [00:00<?, ?tasks/s]"
      ]
     },
     "metadata": {},
     "output_type": "display_data"
    },
    {
     "data": {
      "application/vnd.jupyter.widget-view+json": {
       "model_id": "778140dd89904203a0f6e92b62a085cd",
       "version_major": 2,
       "version_minor": 0
      },
      "text/plain": [
       "sci_respone:   0%|          | 0/2 [00:00<?, ?tasks/s]"
      ]
     },
     "metadata": {},
     "output_type": "display_data"
    },
    {
     "data": {
      "application/vnd.jupyter.widget-view+json": {
       "model_id": "ea1369b7ba9447a7bb11dd15997aed91",
       "version_major": 2,
       "version_minor": 0
      },
      "text/plain": [
       "sci_respone:   0%|          | 0/2 [00:00<?, ?tasks/s]"
      ]
     },
     "metadata": {},
     "output_type": "display_data"
    },
    {
     "data": {
      "application/vnd.jupyter.widget-view+json": {
       "model_id": "147d65aa2c2a43e0beec98da53213e79",
       "version_major": 2,
       "version_minor": 0
      },
      "text/plain": [
       "sci_respone:   0%|          | 0/2 [00:00<?, ?tasks/s]"
      ]
     },
     "metadata": {},
     "output_type": "display_data"
    },
    {
     "data": {
      "application/vnd.jupyter.widget-view+json": {
       "model_id": "e970f2a83c984e388207d13f644f9649",
       "version_major": 2,
       "version_minor": 0
      },
      "text/plain": [
       "sci_respone:   0%|          | 0/2 [00:00<?, ?tasks/s]"
      ]
     },
     "metadata": {},
     "output_type": "display_data"
    },
    {
     "data": {
      "application/vnd.jupyter.widget-view+json": {
       "model_id": "1f7983b8913a4378b26806f8ce09f60d",
       "version_major": 2,
       "version_minor": 0
      },
      "text/plain": [
       "sci_respone:   0%|          | 0/2 [00:00<?, ?tasks/s]"
      ]
     },
     "metadata": {},
     "output_type": "display_data"
    },
    {
     "data": {
      "application/vnd.jupyter.widget-view+json": {
       "model_id": "d14497bf09974294bd65106321983266",
       "version_major": 2,
       "version_minor": 0
      },
      "text/plain": [
       "sci_respone:   0%|          | 0/2 [00:00<?, ?tasks/s]"
      ]
     },
     "metadata": {},
     "output_type": "display_data"
    },
    {
     "data": {
      "application/vnd.jupyter.widget-view+json": {
       "model_id": "9e44488195fe48e19f6491e41a8c045c",
       "version_major": 2,
       "version_minor": 0
      },
      "text/plain": [
       "sci_respone:   0%|          | 0/2 [00:00<?, ?tasks/s]"
      ]
     },
     "metadata": {},
     "output_type": "display_data"
    },
    {
     "data": {
      "application/vnd.jupyter.widget-view+json": {
       "model_id": "521122ee9a22423bb384038782bebe99",
       "version_major": 2,
       "version_minor": 0
      },
      "text/plain": [
       "sci_respone:   0%|          | 0/2 [00:00<?, ?tasks/s]"
      ]
     },
     "metadata": {},
     "output_type": "display_data"
    },
    {
     "data": {
      "application/vnd.jupyter.widget-view+json": {
       "model_id": "70efcfc885ec4c8a96c69cf7d6f8f72f",
       "version_major": 2,
       "version_minor": 0
      },
      "text/plain": [
       "sci_respone:   0%|          | 0/2 [00:00<?, ?tasks/s]"
      ]
     },
     "metadata": {},
     "output_type": "display_data"
    },
    {
     "data": {
      "application/vnd.jupyter.widget-view+json": {
       "model_id": "f70728221b31422398de98a3622bfba2",
       "version_major": 2,
       "version_minor": 0
      },
      "text/plain": [
       "sci_respone:   0%|          | 0/2 [00:00<?, ?tasks/s]"
      ]
     },
     "metadata": {},
     "output_type": "display_data"
    },
    {
     "data": {
      "application/vnd.jupyter.widget-view+json": {
       "model_id": "9715d7f9dcad4840b9906358f332929b",
       "version_major": 2,
       "version_minor": 0
      },
      "text/plain": [
       "sci_respone:   0%|          | 0/2 [00:00<?, ?tasks/s]"
      ]
     },
     "metadata": {},
     "output_type": "display_data"
    },
    {
     "data": {
      "application/vnd.jupyter.widget-view+json": {
       "model_id": "d3c2bd52c167457087d4285ae376d271",
       "version_major": 2,
       "version_minor": 0
      },
      "text/plain": [
       "sci_respone:   0%|          | 0/2 [00:00<?, ?tasks/s]"
      ]
     },
     "metadata": {},
     "output_type": "display_data"
    },
    {
     "data": {
      "application/vnd.jupyter.widget-view+json": {
       "model_id": "804a95df5e974eddbfcb1e611da23f5b",
       "version_major": 2,
       "version_minor": 0
      },
      "text/plain": [
       "sci_respone:   0%|          | 0/2 [00:00<?, ?tasks/s]"
      ]
     },
     "metadata": {},
     "output_type": "display_data"
    },
    {
     "data": {
      "application/vnd.jupyter.widget-view+json": {
       "model_id": "4d00edf5d8be4653855ddeb20b7efb24",
       "version_major": 2,
       "version_minor": 0
      },
      "text/plain": [
       "sci_respone:   0%|          | 0/2 [00:00<?, ?tasks/s]"
      ]
     },
     "metadata": {},
     "output_type": "display_data"
    },
    {
     "data": {
      "application/vnd.jupyter.widget-view+json": {
       "model_id": "a0c598245e27423dacc687796a697801",
       "version_major": 2,
       "version_minor": 0
      },
      "text/plain": [
       "sci_respone:   0%|          | 0/2 [00:00<?, ?tasks/s]"
      ]
     },
     "metadata": {},
     "output_type": "display_data"
    },
    {
     "data": {
      "application/vnd.jupyter.widget-view+json": {
       "model_id": "c9552f76f05440159bae0bbab54d5852",
       "version_major": 2,
       "version_minor": 0
      },
      "text/plain": [
       "sci_respone:   0%|          | 0/2 [00:00<?, ?tasks/s]"
      ]
     },
     "metadata": {},
     "output_type": "display_data"
    },
    {
     "data": {
      "application/vnd.jupyter.widget-view+json": {
       "model_id": "2a7fc22a08cb4b4690cd2c548418002a",
       "version_major": 2,
       "version_minor": 0
      },
      "text/plain": [
       "sci_respone:   0%|          | 0/2 [00:00<?, ?tasks/s]"
      ]
     },
     "metadata": {},
     "output_type": "display_data"
    },
    {
     "data": {
      "application/vnd.jupyter.widget-view+json": {
       "model_id": "509be21ebb2a47bea6a69b4b482f78c9",
       "version_major": 2,
       "version_minor": 0
      },
      "text/plain": [
       "sci_respone:   0%|          | 0/2 [00:00<?, ?tasks/s]"
      ]
     },
     "metadata": {},
     "output_type": "display_data"
    },
    {
     "data": {
      "application/vnd.jupyter.widget-view+json": {
       "model_id": "4bca1d47f0b04c40ad851ecfbefdc09a",
       "version_major": 2,
       "version_minor": 0
      },
      "text/plain": [
       "sci_respone:   0%|          | 0/2 [00:00<?, ?tasks/s]"
      ]
     },
     "metadata": {},
     "output_type": "display_data"
    },
    {
     "data": {
      "application/vnd.jupyter.widget-view+json": {
       "model_id": "79577eb739434e7397e6b23e4e725e6f",
       "version_major": 2,
       "version_minor": 0
      },
      "text/plain": [
       "sci_respone:   0%|          | 0/2 [00:00<?, ?tasks/s]"
      ]
     },
     "metadata": {},
     "output_type": "display_data"
    },
    {
     "data": {
      "application/vnd.jupyter.widget-view+json": {
       "model_id": "9bc4195eb52e4af9b28f730698c927e3",
       "version_major": 2,
       "version_minor": 0
      },
      "text/plain": [
       "sci_respone:   0%|          | 0/2 [00:00<?, ?tasks/s]"
      ]
     },
     "metadata": {},
     "output_type": "display_data"
    },
    {
     "data": {
      "application/vnd.jupyter.widget-view+json": {
       "model_id": "c2a983bb83824c399d346a5f03855d0b",
       "version_major": 2,
       "version_minor": 0
      },
      "text/plain": [
       "sci_respone:   0%|          | 0/2 [00:00<?, ?tasks/s]"
      ]
     },
     "metadata": {},
     "output_type": "display_data"
    },
    {
     "data": {
      "application/vnd.jupyter.widget-view+json": {
       "model_id": "b78be3e25018440f9e3f20598fdf4291",
       "version_major": 2,
       "version_minor": 0
      },
      "text/plain": [
       "sci_respone:   0%|          | 0/2 [00:00<?, ?tasks/s]"
      ]
     },
     "metadata": {},
     "output_type": "display_data"
    },
    {
     "data": {
      "application/vnd.jupyter.widget-view+json": {
       "model_id": "165c568cb15a48e29072153476815826",
       "version_major": 2,
       "version_minor": 0
      },
      "text/plain": [
       "<lambda>:   0%|          | 0/2 [00:00<?, ?tasks/s]"
      ]
     },
     "metadata": {},
     "output_type": "display_data"
    },
    {
     "data": {
      "application/vnd.jupyter.widget-view+json": {
       "model_id": "2ce11a4f85674746a9999b8748019735",
       "version_major": 2,
       "version_minor": 0
      },
      "text/plain": [
       "sci_respone:   0%|          | 0/2 [00:00<?, ?tasks/s]"
      ]
     },
     "metadata": {},
     "output_type": "display_data"
    },
    {
     "data": {
      "application/vnd.jupyter.widget-view+json": {
       "model_id": "f254c573494d437aa554068d220246e4",
       "version_major": 2,
       "version_minor": 0
      },
      "text/plain": [
       "sci_respone:   0%|          | 0/2 [00:00<?, ?tasks/s]"
      ]
     },
     "metadata": {},
     "output_type": "display_data"
    },
    {
     "data": {
      "application/vnd.jupyter.widget-view+json": {
       "model_id": "a3cdf7316a604687be66121416458773",
       "version_major": 2,
       "version_minor": 0
      },
      "text/plain": [
       "sci_respone:   0%|          | 0/2 [00:00<?, ?tasks/s]"
      ]
     },
     "metadata": {},
     "output_type": "display_data"
    },
    {
     "data": {
      "application/vnd.jupyter.widget-view+json": {
       "model_id": "0116f80e64de49548272de584e224cf9",
       "version_major": 2,
       "version_minor": 0
      },
      "text/plain": [
       "sci_respone:   0%|          | 0/2 [00:00<?, ?tasks/s]"
      ]
     },
     "metadata": {},
     "output_type": "display_data"
    },
    {
     "data": {
      "application/vnd.jupyter.widget-view+json": {
       "model_id": "b428c121015f42d094c8b6820fef2e8f",
       "version_major": 2,
       "version_minor": 0
      },
      "text/plain": [
       "sci_respone:   0%|          | 0/2 [00:00<?, ?tasks/s]"
      ]
     },
     "metadata": {},
     "output_type": "display_data"
    },
    {
     "data": {
      "application/vnd.jupyter.widget-view+json": {
       "model_id": "1a7a8655d93f4157822ce7b7e7ea54ef",
       "version_major": 2,
       "version_minor": 0
      },
      "text/plain": [
       "sci_respone:   0%|          | 0/2 [00:00<?, ?tasks/s]"
      ]
     },
     "metadata": {},
     "output_type": "display_data"
    },
    {
     "data": {
      "application/vnd.jupyter.widget-view+json": {
       "model_id": "16c1af39ab784eeb888e37835f8ba9af",
       "version_major": 2,
       "version_minor": 0
      },
      "text/plain": [
       "sci_respone:   0%|          | 0/2 [00:00<?, ?tasks/s]"
      ]
     },
     "metadata": {},
     "output_type": "display_data"
    },
    {
     "data": {
      "application/vnd.jupyter.widget-view+json": {
       "model_id": "32db062a98e742fd968c6787026f5206",
       "version_major": 2,
       "version_minor": 0
      },
      "text/plain": [
       "sci_respone:   0%|          | 0/2 [00:00<?, ?tasks/s]"
      ]
     },
     "metadata": {},
     "output_type": "display_data"
    },
    {
     "data": {
      "application/vnd.jupyter.widget-view+json": {
       "model_id": "ae865262f23e4ff0b4825f70681ffc7e",
       "version_major": 2,
       "version_minor": 0
      },
      "text/plain": [
       "sci_respone:   0%|          | 0/2 [00:00<?, ?tasks/s]"
      ]
     },
     "metadata": {},
     "output_type": "display_data"
    },
    {
     "data": {
      "application/vnd.jupyter.widget-view+json": {
       "model_id": "ee78e7adebd545d9b4d52e16eed698a6",
       "version_major": 2,
       "version_minor": 0
      },
      "text/plain": [
       "sci_respone:   0%|          | 0/2 [00:00<?, ?tasks/s]"
      ]
     },
     "metadata": {},
     "output_type": "display_data"
    },
    {
     "data": {
      "application/vnd.jupyter.widget-view+json": {
       "model_id": "4842e7d0755149ee95fe594e9ef905f4",
       "version_major": 2,
       "version_minor": 0
      },
      "text/plain": [
       "sci_respone:   0%|          | 0/2 [00:00<?, ?tasks/s]"
      ]
     },
     "metadata": {},
     "output_type": "display_data"
    },
    {
     "data": {
      "application/vnd.jupyter.widget-view+json": {
       "model_id": "e89f69d49ce64fdda589cff704899971",
       "version_major": 2,
       "version_minor": 0
      },
      "text/plain": [
       "sci_respone:   0%|          | 0/2 [00:00<?, ?tasks/s]"
      ]
     },
     "metadata": {},
     "output_type": "display_data"
    },
    {
     "data": {
      "application/vnd.jupyter.widget-view+json": {
       "model_id": "2bd61529e5da4d388af3b77edd879668",
       "version_major": 2,
       "version_minor": 0
      },
      "text/plain": [
       "sci_respone:   0%|          | 0/2 [00:00<?, ?tasks/s]"
      ]
     },
     "metadata": {},
     "output_type": "display_data"
    },
    {
     "data": {
      "application/vnd.jupyter.widget-view+json": {
       "model_id": "1ebedc0b8890418d90cbff627669cf1c",
       "version_major": 2,
       "version_minor": 0
      },
      "text/plain": [
       "sci_respone:   0%|          | 0/2 [00:00<?, ?tasks/s]"
      ]
     },
     "metadata": {},
     "output_type": "display_data"
    },
    {
     "data": {
      "application/vnd.jupyter.widget-view+json": {
       "model_id": "dcb9b7675e904ccda44ecf3f839b86fd",
       "version_major": 2,
       "version_minor": 0
      },
      "text/plain": [
       "sci_respone:   0%|          | 0/2 [00:00<?, ?tasks/s]"
      ]
     },
     "metadata": {},
     "output_type": "display_data"
    },
    {
     "data": {
      "application/vnd.jupyter.widget-view+json": {
       "model_id": "67aea77bfbd042bf9d675a061c285ad2",
       "version_major": 2,
       "version_minor": 0
      },
      "text/plain": [
       "sci_respone:   0%|          | 0/2 [00:00<?, ?tasks/s]"
      ]
     },
     "metadata": {},
     "output_type": "display_data"
    },
    {
     "data": {
      "application/vnd.jupyter.widget-view+json": {
       "model_id": "322c81e40d2a4822b27074caa2cf1087",
       "version_major": 2,
       "version_minor": 0
      },
      "text/plain": [
       "sci_respone:   0%|          | 0/2 [00:00<?, ?tasks/s]"
      ]
     },
     "metadata": {},
     "output_type": "display_data"
    },
    {
     "data": {
      "application/vnd.jupyter.widget-view+json": {
       "model_id": "82db8af3a8874264963c1919854b8353",
       "version_major": 2,
       "version_minor": 0
      },
      "text/plain": [
       "sci_respone:   0%|          | 0/2 [00:00<?, ?tasks/s]"
      ]
     },
     "metadata": {},
     "output_type": "display_data"
    },
    {
     "data": {
      "application/vnd.jupyter.widget-view+json": {
       "model_id": "237919ca98284f578abc0b88e9a71c86",
       "version_major": 2,
       "version_minor": 0
      },
      "text/plain": [
       "sci_respone:   0%|          | 0/2 [00:00<?, ?tasks/s]"
      ]
     },
     "metadata": {},
     "output_type": "display_data"
    },
    {
     "data": {
      "application/vnd.jupyter.widget-view+json": {
       "model_id": "031992ba23a74773a6aec7f11ae5205a",
       "version_major": 2,
       "version_minor": 0
      },
      "text/plain": [
       "sci_respone:   0%|          | 0/2 [00:00<?, ?tasks/s]"
      ]
     },
     "metadata": {},
     "output_type": "display_data"
    },
    {
     "data": {
      "application/vnd.jupyter.widget-view+json": {
       "model_id": "4622b2099cf94d48bbfb535785576053",
       "version_major": 2,
       "version_minor": 0
      },
      "text/plain": [
       "sci_respone:   0%|          | 0/2 [00:00<?, ?tasks/s]"
      ]
     },
     "metadata": {},
     "output_type": "display_data"
    },
    {
     "data": {
      "application/vnd.jupyter.widget-view+json": {
       "model_id": "8a6295f2ff5c40f6af6d72adf27c5a2c",
       "version_major": 2,
       "version_minor": 0
      },
      "text/plain": [
       "sci_respone:   0%|          | 0/2 [00:00<?, ?tasks/s]"
      ]
     },
     "metadata": {},
     "output_type": "display_data"
    },
    {
     "data": {
      "application/vnd.jupyter.widget-view+json": {
       "model_id": "fbfcea1fea3d45d282a4c81498bdc6aa",
       "version_major": 2,
       "version_minor": 0
      },
      "text/plain": [
       "sci_respone:   0%|          | 0/2 [00:00<?, ?tasks/s]"
      ]
     },
     "metadata": {},
     "output_type": "display_data"
    },
    {
     "data": {
      "application/vnd.jupyter.widget-view+json": {
       "model_id": "35e3250fce8e4ddfa2468c8ec5433a45",
       "version_major": 2,
       "version_minor": 0
      },
      "text/plain": [
       "sci_respone:   0%|          | 0/2 [00:00<?, ?tasks/s]"
      ]
     },
     "metadata": {},
     "output_type": "display_data"
    },
    {
     "data": {
      "application/vnd.jupyter.widget-view+json": {
       "model_id": "97cee6da7393468da574860c302a164e",
       "version_major": 2,
       "version_minor": 0
      },
      "text/plain": [
       "sci_respone:   0%|          | 0/2 [00:00<?, ?tasks/s]"
      ]
     },
     "metadata": {},
     "output_type": "display_data"
    },
    {
     "data": {
      "application/vnd.jupyter.widget-view+json": {
       "model_id": "0dc8606942e04795b287debdbe490ec2",
       "version_major": 2,
       "version_minor": 0
      },
      "text/plain": [
       "sci_respone:   0%|          | 0/2 [00:00<?, ?tasks/s]"
      ]
     },
     "metadata": {},
     "output_type": "display_data"
    },
    {
     "data": {
      "application/vnd.jupyter.widget-view+json": {
       "model_id": "c0f34270aad0436da3a8145ea32e3da5",
       "version_major": 2,
       "version_minor": 0
      },
      "text/plain": [
       "sci_respone:   0%|          | 0/2 [00:00<?, ?tasks/s]"
      ]
     },
     "metadata": {},
     "output_type": "display_data"
    },
    {
     "data": {
      "application/vnd.jupyter.widget-view+json": {
       "model_id": "3a403ba6865148a3b29bf66ca13b6e62",
       "version_major": 2,
       "version_minor": 0
      },
      "text/plain": [
       "sci_respone:   0%|          | 0/2 [00:00<?, ?tasks/s]"
      ]
     },
     "metadata": {},
     "output_type": "display_data"
    },
    {
     "data": {
      "application/vnd.jupyter.widget-view+json": {
       "model_id": "6fef32ea995444e3b243af59a06df510",
       "version_major": 2,
       "version_minor": 0
      },
      "text/plain": [
       "sci_respone:   0%|          | 0/2 [00:00<?, ?tasks/s]"
      ]
     },
     "metadata": {},
     "output_type": "display_data"
    },
    {
     "data": {
      "application/vnd.jupyter.widget-view+json": {
       "model_id": "abf550d05b004518b7b2afc5ea8b14fc",
       "version_major": 2,
       "version_minor": 0
      },
      "text/plain": [
       "sci_respone:   0%|          | 0/2 [00:00<?, ?tasks/s]"
      ]
     },
     "metadata": {},
     "output_type": "display_data"
    },
    {
     "data": {
      "application/vnd.jupyter.widget-view+json": {
       "model_id": "758c9f5702ef4d79a056e90e4d92e95b",
       "version_major": 2,
       "version_minor": 0
      },
      "text/plain": [
       "<lambda>:   0%|          | 0/2 [00:00<?, ?tasks/s]"
      ]
     },
     "metadata": {},
     "output_type": "display_data"
    },
    {
     "data": {
      "application/vnd.jupyter.widget-view+json": {
       "model_id": "a64257913e7f48a489084dcf3a5a8b97",
       "version_major": 2,
       "version_minor": 0
      },
      "text/plain": [
       "sci_respone:   0%|          | 0/2 [00:00<?, ?tasks/s]"
      ]
     },
     "metadata": {},
     "output_type": "display_data"
    },
    {
     "data": {
      "application/vnd.jupyter.widget-view+json": {
       "model_id": "c0fbbf4caea547f5a9ff54488bca9343",
       "version_major": 2,
       "version_minor": 0
      },
      "text/plain": [
       "sci_respone:   0%|          | 0/2 [00:00<?, ?tasks/s]"
      ]
     },
     "metadata": {},
     "output_type": "display_data"
    },
    {
     "data": {
      "application/vnd.jupyter.widget-view+json": {
       "model_id": "d88e1fa0543d4c07aea8c5096264ba3a",
       "version_major": 2,
       "version_minor": 0
      },
      "text/plain": [
       "sci_respone:   0%|          | 0/2 [00:00<?, ?tasks/s]"
      ]
     },
     "metadata": {},
     "output_type": "display_data"
    },
    {
     "data": {
      "application/vnd.jupyter.widget-view+json": {
       "model_id": "35b0a2e0c0214dfaa0017949788a88e5",
       "version_major": 2,
       "version_minor": 0
      },
      "text/plain": [
       "sci_respone:   0%|          | 0/2 [00:00<?, ?tasks/s]"
      ]
     },
     "metadata": {},
     "output_type": "display_data"
    },
    {
     "data": {
      "application/vnd.jupyter.widget-view+json": {
       "model_id": "dc5941e21ecf4333a925695ee2765811",
       "version_major": 2,
       "version_minor": 0
      },
      "text/plain": [
       "sci_respone:   0%|          | 0/2 [00:00<?, ?tasks/s]"
      ]
     },
     "metadata": {},
     "output_type": "display_data"
    },
    {
     "data": {
      "application/vnd.jupyter.widget-view+json": {
       "model_id": "c4fc969bf2244995bb3fb69de5eed69a",
       "version_major": 2,
       "version_minor": 0
      },
      "text/plain": [
       "sci_respone:   0%|          | 0/2 [00:00<?, ?tasks/s]"
      ]
     },
     "metadata": {},
     "output_type": "display_data"
    },
    {
     "data": {
      "application/vnd.jupyter.widget-view+json": {
       "model_id": "758cc0bfe18b42a1bb77461cfe30913a",
       "version_major": 2,
       "version_minor": 0
      },
      "text/plain": [
       "sci_respone:   0%|          | 0/2 [00:00<?, ?tasks/s]"
      ]
     },
     "metadata": {},
     "output_type": "display_data"
    },
    {
     "data": {
      "application/vnd.jupyter.widget-view+json": {
       "model_id": "5bf28230d7104d8989398c4ca99196af",
       "version_major": 2,
       "version_minor": 0
      },
      "text/plain": [
       "sci_respone:   0%|          | 0/2 [00:00<?, ?tasks/s]"
      ]
     },
     "metadata": {},
     "output_type": "display_data"
    },
    {
     "data": {
      "application/vnd.jupyter.widget-view+json": {
       "model_id": "8470b79debc1406cafb2a3b324300792",
       "version_major": 2,
       "version_minor": 0
      },
      "text/plain": [
       "sci_respone:   0%|          | 0/2 [00:00<?, ?tasks/s]"
      ]
     },
     "metadata": {},
     "output_type": "display_data"
    },
    {
     "data": {
      "application/vnd.jupyter.widget-view+json": {
       "model_id": "ec1351e548454ac9b5d07580af4ebac3",
       "version_major": 2,
       "version_minor": 0
      },
      "text/plain": [
       "sci_respone:   0%|          | 0/2 [00:00<?, ?tasks/s]"
      ]
     },
     "metadata": {},
     "output_type": "display_data"
    },
    {
     "data": {
      "application/vnd.jupyter.widget-view+json": {
       "model_id": "4f522b395bbe48f5952c0f4c6a16e612",
       "version_major": 2,
       "version_minor": 0
      },
      "text/plain": [
       "sci_respone:   0%|          | 0/2 [00:00<?, ?tasks/s]"
      ]
     },
     "metadata": {},
     "output_type": "display_data"
    },
    {
     "data": {
      "application/vnd.jupyter.widget-view+json": {
       "model_id": "05237fbf91734aafa3b43a3e4d8c886e",
       "version_major": 2,
       "version_minor": 0
      },
      "text/plain": [
       "sci_respone:   0%|          | 0/2 [00:00<?, ?tasks/s]"
      ]
     },
     "metadata": {},
     "output_type": "display_data"
    },
    {
     "data": {
      "application/vnd.jupyter.widget-view+json": {
       "model_id": "a8b6b10d5a0c4e71b08ed50abb18926b",
       "version_major": 2,
       "version_minor": 0
      },
      "text/plain": [
       "sci_respone:   0%|          | 0/2 [00:00<?, ?tasks/s]"
      ]
     },
     "metadata": {},
     "output_type": "display_data"
    },
    {
     "data": {
      "application/vnd.jupyter.widget-view+json": {
       "model_id": "e418a3cccf5145b5ae78711bf5e1f41b",
       "version_major": 2,
       "version_minor": 0
      },
      "text/plain": [
       "sci_respone:   0%|          | 0/2 [00:00<?, ?tasks/s]"
      ]
     },
     "metadata": {},
     "output_type": "display_data"
    },
    {
     "data": {
      "application/vnd.jupyter.widget-view+json": {
       "model_id": "9a31a2662d6f467491f64a8edd9fd5c2",
       "version_major": 2,
       "version_minor": 0
      },
      "text/plain": [
       "sci_respone:   0%|          | 0/2 [00:00<?, ?tasks/s]"
      ]
     },
     "metadata": {},
     "output_type": "display_data"
    },
    {
     "data": {
      "application/vnd.jupyter.widget-view+json": {
       "model_id": "5220c5e3b1d64f9bab9c40c187f8351b",
       "version_major": 2,
       "version_minor": 0
      },
      "text/plain": [
       "sci_respone:   0%|          | 0/2 [00:00<?, ?tasks/s]"
      ]
     },
     "metadata": {},
     "output_type": "display_data"
    },
    {
     "data": {
      "application/vnd.jupyter.widget-view+json": {
       "model_id": "afefac0974fb4e6cb6d0c11ec28cd4b5",
       "version_major": 2,
       "version_minor": 0
      },
      "text/plain": [
       "sci_respone:   0%|          | 0/2 [00:00<?, ?tasks/s]"
      ]
     },
     "metadata": {},
     "output_type": "display_data"
    },
    {
     "data": {
      "application/vnd.jupyter.widget-view+json": {
       "model_id": "868e11d2b5ad4782bcd782fde59bff10",
       "version_major": 2,
       "version_minor": 0
      },
      "text/plain": [
       "sci_respone:   0%|          | 0/2 [00:00<?, ?tasks/s]"
      ]
     },
     "metadata": {},
     "output_type": "display_data"
    },
    {
     "data": {
      "application/vnd.jupyter.widget-view+json": {
       "model_id": "1275ce7b768642f7b1b61bad126e25f4",
       "version_major": 2,
       "version_minor": 0
      },
      "text/plain": [
       "sci_respone:   0%|          | 0/2 [00:00<?, ?tasks/s]"
      ]
     },
     "metadata": {},
     "output_type": "display_data"
    },
    {
     "data": {
      "application/vnd.jupyter.widget-view+json": {
       "model_id": "f94c30184410409da7f0e768dbe0513b",
       "version_major": 2,
       "version_minor": 0
      },
      "text/plain": [
       "sci_respone:   0%|          | 0/2 [00:00<?, ?tasks/s]"
      ]
     },
     "metadata": {},
     "output_type": "display_data"
    },
    {
     "data": {
      "application/vnd.jupyter.widget-view+json": {
       "model_id": "e3beeb18a49e44d8b0603834a8036d75",
       "version_major": 2,
       "version_minor": 0
      },
      "text/plain": [
       "sci_respone:   0%|          | 0/2 [00:00<?, ?tasks/s]"
      ]
     },
     "metadata": {},
     "output_type": "display_data"
    },
    {
     "data": {
      "application/vnd.jupyter.widget-view+json": {
       "model_id": "f26ba4117ad74a24bb1c13e0903895ca",
       "version_major": 2,
       "version_minor": 0
      },
      "text/plain": [
       "sci_respone:   0%|          | 0/2 [00:00<?, ?tasks/s]"
      ]
     },
     "metadata": {},
     "output_type": "display_data"
    },
    {
     "data": {
      "application/vnd.jupyter.widget-view+json": {
       "model_id": "b1f90d2b11d646b88a9285cf86c03130",
       "version_major": 2,
       "version_minor": 0
      },
      "text/plain": [
       "sci_respone:   0%|          | 0/2 [00:00<?, ?tasks/s]"
      ]
     },
     "metadata": {},
     "output_type": "display_data"
    },
    {
     "data": {
      "application/vnd.jupyter.widget-view+json": {
       "model_id": "dae7a94ff7bc449a95c01ca45f07673d",
       "version_major": 2,
       "version_minor": 0
      },
      "text/plain": [
       "sci_respone:   0%|          | 0/2 [00:00<?, ?tasks/s]"
      ]
     },
     "metadata": {},
     "output_type": "display_data"
    },
    {
     "data": {
      "application/vnd.jupyter.widget-view+json": {
       "model_id": "c6ffbc4d51a0406e9b7f0112ad63c1b0",
       "version_major": 2,
       "version_minor": 0
      },
      "text/plain": [
       "sci_respone:   0%|          | 0/2 [00:00<?, ?tasks/s]"
      ]
     },
     "metadata": {},
     "output_type": "display_data"
    },
    {
     "data": {
      "application/vnd.jupyter.widget-view+json": {
       "model_id": "bb90925176f847c0adaffe6e58f9cd46",
       "version_major": 2,
       "version_minor": 0
      },
      "text/plain": [
       "sci_respone:   0%|          | 0/2 [00:00<?, ?tasks/s]"
      ]
     },
     "metadata": {},
     "output_type": "display_data"
    },
    {
     "data": {
      "application/vnd.jupyter.widget-view+json": {
       "model_id": "71149c2610154b62861fd40d10cce406",
       "version_major": 2,
       "version_minor": 0
      },
      "text/plain": [
       "sci_respone:   0%|          | 0/2 [00:00<?, ?tasks/s]"
      ]
     },
     "metadata": {},
     "output_type": "display_data"
    },
    {
     "data": {
      "application/vnd.jupyter.widget-view+json": {
       "model_id": "faef196a77e5487fb9acd2ed2c4bafe9",
       "version_major": 2,
       "version_minor": 0
      },
      "text/plain": [
       "sci_respone:   0%|          | 0/2 [00:00<?, ?tasks/s]"
      ]
     },
     "metadata": {},
     "output_type": "display_data"
    },
    {
     "data": {
      "application/vnd.jupyter.widget-view+json": {
       "model_id": "e24ca0ea4da74acd8961e2d86b3991cc",
       "version_major": 2,
       "version_minor": 0
      },
      "text/plain": [
       "sci_respone:   0%|          | 0/2 [00:00<?, ?tasks/s]"
      ]
     },
     "metadata": {},
     "output_type": "display_data"
    },
    {
     "data": {
      "application/vnd.jupyter.widget-view+json": {
       "model_id": "7b128775396b4abf9f0d8cb8098635fd",
       "version_major": 2,
       "version_minor": 0
      },
      "text/plain": [
       "sci_respone:   0%|          | 0/2 [00:00<?, ?tasks/s]"
      ]
     },
     "metadata": {},
     "output_type": "display_data"
    },
    {
     "data": {
      "application/vnd.jupyter.widget-view+json": {
       "model_id": "d954213d7be346c497436ccfbfbf780a",
       "version_major": 2,
       "version_minor": 0
      },
      "text/plain": [
       "<lambda>:   0%|          | 0/2 [00:00<?, ?tasks/s]"
      ]
     },
     "metadata": {},
     "output_type": "display_data"
    },
    {
     "data": {
      "application/vnd.jupyter.widget-view+json": {
       "model_id": "3e3e878262b4408f8b01907207a460bd",
       "version_major": 2,
       "version_minor": 0
      },
      "text/plain": [
       "sci_respone:   0%|          | 0/2 [00:00<?, ?tasks/s]"
      ]
     },
     "metadata": {},
     "output_type": "display_data"
    },
    {
     "data": {
      "application/vnd.jupyter.widget-view+json": {
       "model_id": "f64eb228a9e844b38567a5ac8e1c9149",
       "version_major": 2,
       "version_minor": 0
      },
      "text/plain": [
       "sci_respone:   0%|          | 0/2 [00:00<?, ?tasks/s]"
      ]
     },
     "metadata": {},
     "output_type": "display_data"
    },
    {
     "data": {
      "application/vnd.jupyter.widget-view+json": {
       "model_id": "392d2e6786de4f8ba4b006df6efde167",
       "version_major": 2,
       "version_minor": 0
      },
      "text/plain": [
       "sci_respone:   0%|          | 0/2 [00:00<?, ?tasks/s]"
      ]
     },
     "metadata": {},
     "output_type": "display_data"
    },
    {
     "data": {
      "application/vnd.jupyter.widget-view+json": {
       "model_id": "7b0a059e391c4f9fa1248a3a2e98e1f0",
       "version_major": 2,
       "version_minor": 0
      },
      "text/plain": [
       "sci_respone:   0%|          | 0/2 [00:00<?, ?tasks/s]"
      ]
     },
     "metadata": {},
     "output_type": "display_data"
    },
    {
     "data": {
      "application/vnd.jupyter.widget-view+json": {
       "model_id": "a9924d2c21c6438c8d6c888727142d32",
       "version_major": 2,
       "version_minor": 0
      },
      "text/plain": [
       "sci_respone:   0%|          | 0/2 [00:00<?, ?tasks/s]"
      ]
     },
     "metadata": {},
     "output_type": "display_data"
    },
    {
     "data": {
      "application/vnd.jupyter.widget-view+json": {
       "model_id": "f2f41bd78190498aa69a9430470c2e2b",
       "version_major": 2,
       "version_minor": 0
      },
      "text/plain": [
       "sci_respone:   0%|          | 0/2 [00:00<?, ?tasks/s]"
      ]
     },
     "metadata": {},
     "output_type": "display_data"
    },
    {
     "data": {
      "application/vnd.jupyter.widget-view+json": {
       "model_id": "d59d1f5238f549319107f65253271eb0",
       "version_major": 2,
       "version_minor": 0
      },
      "text/plain": [
       "sci_respone:   0%|          | 0/2 [00:00<?, ?tasks/s]"
      ]
     },
     "metadata": {},
     "output_type": "display_data"
    },
    {
     "data": {
      "application/vnd.jupyter.widget-view+json": {
       "model_id": "7518db5b815c422f8553d61dedbd204a",
       "version_major": 2,
       "version_minor": 0
      },
      "text/plain": [
       "sci_respone:   0%|          | 0/2 [00:00<?, ?tasks/s]"
      ]
     },
     "metadata": {},
     "output_type": "display_data"
    },
    {
     "data": {
      "application/vnd.jupyter.widget-view+json": {
       "model_id": "ffe8554d2e9d47aa9701fad91de53124",
       "version_major": 2,
       "version_minor": 0
      },
      "text/plain": [
       "sci_respone:   0%|          | 0/2 [00:00<?, ?tasks/s]"
      ]
     },
     "metadata": {},
     "output_type": "display_data"
    },
    {
     "data": {
      "application/vnd.jupyter.widget-view+json": {
       "model_id": "212a6ae68bc346d2b514c433f92c7b32",
       "version_major": 2,
       "version_minor": 0
      },
      "text/plain": [
       "sci_respone:   0%|          | 0/2 [00:00<?, ?tasks/s]"
      ]
     },
     "metadata": {},
     "output_type": "display_data"
    },
    {
     "data": {
      "application/vnd.jupyter.widget-view+json": {
       "model_id": "9f783b1276294be8bf1c89fb90443a7e",
       "version_major": 2,
       "version_minor": 0
      },
      "text/plain": [
       "sci_respone:   0%|          | 0/2 [00:00<?, ?tasks/s]"
      ]
     },
     "metadata": {},
     "output_type": "display_data"
    },
    {
     "data": {
      "application/vnd.jupyter.widget-view+json": {
       "model_id": "5a2b349d527346338d30ebf31e523245",
       "version_major": 2,
       "version_minor": 0
      },
      "text/plain": [
       "sci_respone:   0%|          | 0/2 [00:00<?, ?tasks/s]"
      ]
     },
     "metadata": {},
     "output_type": "display_data"
    },
    {
     "data": {
      "application/vnd.jupyter.widget-view+json": {
       "model_id": "e2b19005777f4c56b0f7a37e3f7c07fc",
       "version_major": 2,
       "version_minor": 0
      },
      "text/plain": [
       "sci_respone:   0%|          | 0/2 [00:00<?, ?tasks/s]"
      ]
     },
     "metadata": {},
     "output_type": "display_data"
    },
    {
     "data": {
      "application/vnd.jupyter.widget-view+json": {
       "model_id": "9d91422bc13d407289253612e851d90d",
       "version_major": 2,
       "version_minor": 0
      },
      "text/plain": [
       "sci_respone:   0%|          | 0/2 [00:00<?, ?tasks/s]"
      ]
     },
     "metadata": {},
     "output_type": "display_data"
    },
    {
     "data": {
      "application/vnd.jupyter.widget-view+json": {
       "model_id": "0b9584288bff4eb29b3b42549c551064",
       "version_major": 2,
       "version_minor": 0
      },
      "text/plain": [
       "sci_respone:   0%|          | 0/2 [00:00<?, ?tasks/s]"
      ]
     },
     "metadata": {},
     "output_type": "display_data"
    },
    {
     "data": {
      "application/vnd.jupyter.widget-view+json": {
       "model_id": "c97e2aee3cc944828e2179ad50883d8f",
       "version_major": 2,
       "version_minor": 0
      },
      "text/plain": [
       "sci_respone:   0%|          | 0/2 [00:00<?, ?tasks/s]"
      ]
     },
     "metadata": {},
     "output_type": "display_data"
    },
    {
     "data": {
      "application/vnd.jupyter.widget-view+json": {
       "model_id": "ff8ff329b1fd4f2b9ebbab6d71916073",
       "version_major": 2,
       "version_minor": 0
      },
      "text/plain": [
       "sci_respone:   0%|          | 0/2 [00:00<?, ?tasks/s]"
      ]
     },
     "metadata": {},
     "output_type": "display_data"
    },
    {
     "data": {
      "application/vnd.jupyter.widget-view+json": {
       "model_id": "9f3420265e7e427da9cb4d445bdd7f23",
       "version_major": 2,
       "version_minor": 0
      },
      "text/plain": [
       "sci_respone:   0%|          | 0/2 [00:00<?, ?tasks/s]"
      ]
     },
     "metadata": {},
     "output_type": "display_data"
    },
    {
     "data": {
      "application/vnd.jupyter.widget-view+json": {
       "model_id": "d43598877efb4ffb802f0543e452ec7c",
       "version_major": 2,
       "version_minor": 0
      },
      "text/plain": [
       "sci_respone:   0%|          | 0/2 [00:00<?, ?tasks/s]"
      ]
     },
     "metadata": {},
     "output_type": "display_data"
    },
    {
     "data": {
      "application/vnd.jupyter.widget-view+json": {
       "model_id": "cf885abe3aca440c9bdd3cb1fb714eca",
       "version_major": 2,
       "version_minor": 0
      },
      "text/plain": [
       "sci_respone:   0%|          | 0/2 [00:00<?, ?tasks/s]"
      ]
     },
     "metadata": {},
     "output_type": "display_data"
    },
    {
     "data": {
      "application/vnd.jupyter.widget-view+json": {
       "model_id": "d137318966ab4e73aed0bfe4f9b14f15",
       "version_major": 2,
       "version_minor": 0
      },
      "text/plain": [
       "sci_respone:   0%|          | 0/2 [00:00<?, ?tasks/s]"
      ]
     },
     "metadata": {},
     "output_type": "display_data"
    },
    {
     "data": {
      "application/vnd.jupyter.widget-view+json": {
       "model_id": "b290fbfcfd634d44b4e5b57c3227f48f",
       "version_major": 2,
       "version_minor": 0
      },
      "text/plain": [
       "sci_respone:   0%|          | 0/2 [00:00<?, ?tasks/s]"
      ]
     },
     "metadata": {},
     "output_type": "display_data"
    },
    {
     "data": {
      "application/vnd.jupyter.widget-view+json": {
       "model_id": "ea529bdf3bbe42d4adfdf6d75718107d",
       "version_major": 2,
       "version_minor": 0
      },
      "text/plain": [
       "sci_respone:   0%|          | 0/2 [00:00<?, ?tasks/s]"
      ]
     },
     "metadata": {},
     "output_type": "display_data"
    },
    {
     "data": {
      "application/vnd.jupyter.widget-view+json": {
       "model_id": "80b45ad34fc14f53882d5e7e9b952d4a",
       "version_major": 2,
       "version_minor": 0
      },
      "text/plain": [
       "sci_respone:   0%|          | 0/2 [00:00<?, ?tasks/s]"
      ]
     },
     "metadata": {},
     "output_type": "display_data"
    },
    {
     "data": {
      "application/vnd.jupyter.widget-view+json": {
       "model_id": "0d3ff217b4a04b45ba718fd995736492",
       "version_major": 2,
       "version_minor": 0
      },
      "text/plain": [
       "sci_respone:   0%|          | 0/2 [00:00<?, ?tasks/s]"
      ]
     },
     "metadata": {},
     "output_type": "display_data"
    },
    {
     "data": {
      "application/vnd.jupyter.widget-view+json": {
       "model_id": "51f2a2d94dca497b8c6adf231d610fad",
       "version_major": 2,
       "version_minor": 0
      },
      "text/plain": [
       "sci_respone:   0%|          | 0/2 [00:00<?, ?tasks/s]"
      ]
     },
     "metadata": {},
     "output_type": "display_data"
    },
    {
     "data": {
      "application/vnd.jupyter.widget-view+json": {
       "model_id": "ac50e51a02c344578a892d98762c97a4",
       "version_major": 2,
       "version_minor": 0
      },
      "text/plain": [
       "sci_respone:   0%|          | 0/2 [00:00<?, ?tasks/s]"
      ]
     },
     "metadata": {},
     "output_type": "display_data"
    },
    {
     "data": {
      "application/vnd.jupyter.widget-view+json": {
       "model_id": "860a311cc8a648089d5f8ccc3a7b1323",
       "version_major": 2,
       "version_minor": 0
      },
      "text/plain": [
       "sci_respone:   0%|          | 0/2 [00:00<?, ?tasks/s]"
      ]
     },
     "metadata": {},
     "output_type": "display_data"
    },
    {
     "data": {
      "application/vnd.jupyter.widget-view+json": {
       "model_id": "eb0e7a4b00b644a3a222d1e27c5a39f7",
       "version_major": 2,
       "version_minor": 0
      },
      "text/plain": [
       "sci_respone:   0%|          | 0/2 [00:00<?, ?tasks/s]"
      ]
     },
     "metadata": {},
     "output_type": "display_data"
    },
    {
     "data": {
      "application/vnd.jupyter.widget-view+json": {
       "model_id": "cba7e3780c0440f8919c8886fd1e9a54",
       "version_major": 2,
       "version_minor": 0
      },
      "text/plain": [
       "sci_respone:   0%|          | 0/2 [00:00<?, ?tasks/s]"
      ]
     },
     "metadata": {},
     "output_type": "display_data"
    },
    {
     "data": {
      "application/vnd.jupyter.widget-view+json": {
       "model_id": "aacff162e93b49c28a3eebe0cd8a304a",
       "version_major": 2,
       "version_minor": 0
      },
      "text/plain": [
       "<lambda>:   0%|          | 0/2 [00:00<?, ?tasks/s]"
      ]
     },
     "metadata": {},
     "output_type": "display_data"
    },
    {
     "data": {
      "application/vnd.jupyter.widget-view+json": {
       "model_id": "78bc98bea8474ea4a9460d5c6d236aec",
       "version_major": 2,
       "version_minor": 0
      },
      "text/plain": [
       "sci_respone:   0%|          | 0/2 [00:00<?, ?tasks/s]"
      ]
     },
     "metadata": {},
     "output_type": "display_data"
    },
    {
     "data": {
      "application/vnd.jupyter.widget-view+json": {
       "model_id": "4ca47ebbc6c94a2e932a4509c5f418dc",
       "version_major": 2,
       "version_minor": 0
      },
      "text/plain": [
       "sci_respone:   0%|          | 0/2 [00:00<?, ?tasks/s]"
      ]
     },
     "metadata": {},
     "output_type": "display_data"
    },
    {
     "data": {
      "application/vnd.jupyter.widget-view+json": {
       "model_id": "85237ddf693a4330ae538d06976522bf",
       "version_major": 2,
       "version_minor": 0
      },
      "text/plain": [
       "sci_respone:   0%|          | 0/2 [00:00<?, ?tasks/s]"
      ]
     },
     "metadata": {},
     "output_type": "display_data"
    },
    {
     "data": {
      "application/vnd.jupyter.widget-view+json": {
       "model_id": "37da1dcab82e48de9b07ca613a60c59d",
       "version_major": 2,
       "version_minor": 0
      },
      "text/plain": [
       "sci_respone:   0%|          | 0/2 [00:00<?, ?tasks/s]"
      ]
     },
     "metadata": {},
     "output_type": "display_data"
    },
    {
     "data": {
      "application/vnd.jupyter.widget-view+json": {
       "model_id": "a5c381b25bfb4bc9bb730f0c9ff371cc",
       "version_major": 2,
       "version_minor": 0
      },
      "text/plain": [
       "sci_respone:   0%|          | 0/2 [00:00<?, ?tasks/s]"
      ]
     },
     "metadata": {},
     "output_type": "display_data"
    },
    {
     "data": {
      "application/vnd.jupyter.widget-view+json": {
       "model_id": "3afa748d97a1432a9076db60d6d9d7ee",
       "version_major": 2,
       "version_minor": 0
      },
      "text/plain": [
       "sci_respone:   0%|          | 0/2 [00:00<?, ?tasks/s]"
      ]
     },
     "metadata": {},
     "output_type": "display_data"
    },
    {
     "data": {
      "application/vnd.jupyter.widget-view+json": {
       "model_id": "d9124cb957b54b5aa0f71cc75eee4b40",
       "version_major": 2,
       "version_minor": 0
      },
      "text/plain": [
       "sci_respone:   0%|          | 0/2 [00:00<?, ?tasks/s]"
      ]
     },
     "metadata": {},
     "output_type": "display_data"
    },
    {
     "data": {
      "application/vnd.jupyter.widget-view+json": {
       "model_id": "a608a276d1f645f2a358842b2ad3c82a",
       "version_major": 2,
       "version_minor": 0
      },
      "text/plain": [
       "sci_respone:   0%|          | 0/2 [00:00<?, ?tasks/s]"
      ]
     },
     "metadata": {},
     "output_type": "display_data"
    },
    {
     "data": {
      "application/vnd.jupyter.widget-view+json": {
       "model_id": "d146addfee114b479b6e0317db35ad5d",
       "version_major": 2,
       "version_minor": 0
      },
      "text/plain": [
       "sci_respone:   0%|          | 0/2 [00:00<?, ?tasks/s]"
      ]
     },
     "metadata": {},
     "output_type": "display_data"
    },
    {
     "data": {
      "application/vnd.jupyter.widget-view+json": {
       "model_id": "84e4f3d61179439091fa5343fb0b3f2d",
       "version_major": 2,
       "version_minor": 0
      },
      "text/plain": [
       "sci_respone:   0%|          | 0/2 [00:00<?, ?tasks/s]"
      ]
     },
     "metadata": {},
     "output_type": "display_data"
    },
    {
     "data": {
      "application/vnd.jupyter.widget-view+json": {
       "model_id": "930df1a802e241c8a93139e96bd5d2d8",
       "version_major": 2,
       "version_minor": 0
      },
      "text/plain": [
       "sci_respone:   0%|          | 0/2 [00:00<?, ?tasks/s]"
      ]
     },
     "metadata": {},
     "output_type": "display_data"
    },
    {
     "data": {
      "application/vnd.jupyter.widget-view+json": {
       "model_id": "d7e54fe0945440dbaa7338f467f07fec",
       "version_major": 2,
       "version_minor": 0
      },
      "text/plain": [
       "sci_respone:   0%|          | 0/2 [00:00<?, ?tasks/s]"
      ]
     },
     "metadata": {},
     "output_type": "display_data"
    },
    {
     "data": {
      "application/vnd.jupyter.widget-view+json": {
       "model_id": "98b81527e3e847ba8b1ae68039c41104",
       "version_major": 2,
       "version_minor": 0
      },
      "text/plain": [
       "sci_respone:   0%|          | 0/2 [00:00<?, ?tasks/s]"
      ]
     },
     "metadata": {},
     "output_type": "display_data"
    },
    {
     "data": {
      "application/vnd.jupyter.widget-view+json": {
       "model_id": "b85475653a14490aa9b87bec2b983329",
       "version_major": 2,
       "version_minor": 0
      },
      "text/plain": [
       "sci_respone:   0%|          | 0/2 [00:00<?, ?tasks/s]"
      ]
     },
     "metadata": {},
     "output_type": "display_data"
    },
    {
     "data": {
      "application/vnd.jupyter.widget-view+json": {
       "model_id": "14badb4b22c640918f6ddaef12041739",
       "version_major": 2,
       "version_minor": 0
      },
      "text/plain": [
       "sci_respone:   0%|          | 0/2 [00:00<?, ?tasks/s]"
      ]
     },
     "metadata": {},
     "output_type": "display_data"
    },
    {
     "data": {
      "application/vnd.jupyter.widget-view+json": {
       "model_id": "2074cb0f746d418c81795926e9db307d",
       "version_major": 2,
       "version_minor": 0
      },
      "text/plain": [
       "sci_respone:   0%|          | 0/2 [00:00<?, ?tasks/s]"
      ]
     },
     "metadata": {},
     "output_type": "display_data"
    },
    {
     "data": {
      "application/vnd.jupyter.widget-view+json": {
       "model_id": "fa5a49138b594bdaae6304c27598cc7c",
       "version_major": 2,
       "version_minor": 0
      },
      "text/plain": [
       "sci_respone:   0%|          | 0/2 [00:00<?, ?tasks/s]"
      ]
     },
     "metadata": {},
     "output_type": "display_data"
    },
    {
     "data": {
      "application/vnd.jupyter.widget-view+json": {
       "model_id": "ddc4c9217a4b418ea83b9041c9d7d6c5",
       "version_major": 2,
       "version_minor": 0
      },
      "text/plain": [
       "sci_respone:   0%|          | 0/2 [00:00<?, ?tasks/s]"
      ]
     },
     "metadata": {},
     "output_type": "display_data"
    },
    {
     "data": {
      "application/vnd.jupyter.widget-view+json": {
       "model_id": "c94cd78d81544392aaaf35057116446e",
       "version_major": 2,
       "version_minor": 0
      },
      "text/plain": [
       "sci_respone:   0%|          | 0/2 [00:00<?, ?tasks/s]"
      ]
     },
     "metadata": {},
     "output_type": "display_data"
    },
    {
     "data": {
      "application/vnd.jupyter.widget-view+json": {
       "model_id": "3f3b0254c48641f8a7663e995ca80189",
       "version_major": 2,
       "version_minor": 0
      },
      "text/plain": [
       "sci_respone:   0%|          | 0/2 [00:00<?, ?tasks/s]"
      ]
     },
     "metadata": {},
     "output_type": "display_data"
    },
    {
     "data": {
      "application/vnd.jupyter.widget-view+json": {
       "model_id": "c6ad137474e24731959fb3210e0a00d0",
       "version_major": 2,
       "version_minor": 0
      },
      "text/plain": [
       "sci_respone:   0%|          | 0/2 [00:00<?, ?tasks/s]"
      ]
     },
     "metadata": {},
     "output_type": "display_data"
    },
    {
     "data": {
      "application/vnd.jupyter.widget-view+json": {
       "model_id": "36dac0d6750c4a75a3d3294b6146ca8f",
       "version_major": 2,
       "version_minor": 0
      },
      "text/plain": [
       "sci_respone:   0%|          | 0/2 [00:00<?, ?tasks/s]"
      ]
     },
     "metadata": {},
     "output_type": "display_data"
    },
    {
     "data": {
      "application/vnd.jupyter.widget-view+json": {
       "model_id": "eba5520a98b8484b9c6b149d94769afd",
       "version_major": 2,
       "version_minor": 0
      },
      "text/plain": [
       "sci_respone:   0%|          | 0/2 [00:00<?, ?tasks/s]"
      ]
     },
     "metadata": {},
     "output_type": "display_data"
    },
    {
     "data": {
      "application/vnd.jupyter.widget-view+json": {
       "model_id": "6f00038a085b4415a8d3f97a78703ed5",
       "version_major": 2,
       "version_minor": 0
      },
      "text/plain": [
       "sci_respone:   0%|          | 0/2 [00:00<?, ?tasks/s]"
      ]
     },
     "metadata": {},
     "output_type": "display_data"
    },
    {
     "data": {
      "application/vnd.jupyter.widget-view+json": {
       "model_id": "85f0149a287b45209b3711b9fea756ba",
       "version_major": 2,
       "version_minor": 0
      },
      "text/plain": [
       "sci_respone:   0%|          | 0/2 [00:00<?, ?tasks/s]"
      ]
     },
     "metadata": {},
     "output_type": "display_data"
    },
    {
     "data": {
      "application/vnd.jupyter.widget-view+json": {
       "model_id": "8b5d7d9f126d47a0ab6e5753e56765a5",
       "version_major": 2,
       "version_minor": 0
      },
      "text/plain": [
       "sci_respone:   0%|          | 0/2 [00:00<?, ?tasks/s]"
      ]
     },
     "metadata": {},
     "output_type": "display_data"
    },
    {
     "data": {
      "application/vnd.jupyter.widget-view+json": {
       "model_id": "6da9f4f419604687a9ad7dd7a266047f",
       "version_major": 2,
       "version_minor": 0
      },
      "text/plain": [
       "sci_respone:   0%|          | 0/2 [00:00<?, ?tasks/s]"
      ]
     },
     "metadata": {},
     "output_type": "display_data"
    },
    {
     "data": {
      "application/vnd.jupyter.widget-view+json": {
       "model_id": "ea89ec98d3394c52ab966f62a798206c",
       "version_major": 2,
       "version_minor": 0
      },
      "text/plain": [
       "sci_respone:   0%|          | 0/2 [00:00<?, ?tasks/s]"
      ]
     },
     "metadata": {},
     "output_type": "display_data"
    },
    {
     "data": {
      "application/vnd.jupyter.widget-view+json": {
       "model_id": "7555c088e6e24153b762eeb3103c1e3e",
       "version_major": 2,
       "version_minor": 0
      },
      "text/plain": [
       "sci_respone:   0%|          | 0/2 [00:00<?, ?tasks/s]"
      ]
     },
     "metadata": {},
     "output_type": "display_data"
    },
    {
     "data": {
      "application/vnd.jupyter.widget-view+json": {
       "model_id": "5126993374314146a54254b220f9ceaf",
       "version_major": 2,
       "version_minor": 0
      },
      "text/plain": [
       "sci_respone:   0%|          | 0/2 [00:00<?, ?tasks/s]"
      ]
     },
     "metadata": {},
     "output_type": "display_data"
    },
    {
     "data": {
      "application/vnd.jupyter.widget-view+json": {
       "model_id": "cf1ca364f2074bbc896a5cb51f9d0885",
       "version_major": 2,
       "version_minor": 0
      },
      "text/plain": [
       "<lambda>:   0%|          | 0/2 [00:00<?, ?tasks/s]"
      ]
     },
     "metadata": {},
     "output_type": "display_data"
    },
    {
     "data": {
      "application/vnd.jupyter.widget-view+json": {
       "model_id": "851b8cfc40184b948ae4b0a7e739d686",
       "version_major": 2,
       "version_minor": 0
      },
      "text/plain": [
       "sci_respone:   0%|          | 0/2 [00:00<?, ?tasks/s]"
      ]
     },
     "metadata": {},
     "output_type": "display_data"
    },
    {
     "data": {
      "application/vnd.jupyter.widget-view+json": {
       "model_id": "6538e04424894a47b5284713f3dcaddc",
       "version_major": 2,
       "version_minor": 0
      },
      "text/plain": [
       "sci_respone:   0%|          | 0/2 [00:00<?, ?tasks/s]"
      ]
     },
     "metadata": {},
     "output_type": "display_data"
    },
    {
     "data": {
      "application/vnd.jupyter.widget-view+json": {
       "model_id": "f4c79a895a6d4350a7957b2805040c29",
       "version_major": 2,
       "version_minor": 0
      },
      "text/plain": [
       "sci_respone:   0%|          | 0/2 [00:00<?, ?tasks/s]"
      ]
     },
     "metadata": {},
     "output_type": "display_data"
    },
    {
     "data": {
      "application/vnd.jupyter.widget-view+json": {
       "model_id": "425c145fa8714daa9e2ad661fd7b4876",
       "version_major": 2,
       "version_minor": 0
      },
      "text/plain": [
       "sci_respone:   0%|          | 0/2 [00:00<?, ?tasks/s]"
      ]
     },
     "metadata": {},
     "output_type": "display_data"
    },
    {
     "data": {
      "application/vnd.jupyter.widget-view+json": {
       "model_id": "c7dfbb4ed43a484cb038e1e6b2a587a2",
       "version_major": 2,
       "version_minor": 0
      },
      "text/plain": [
       "sci_respone:   0%|          | 0/2 [00:00<?, ?tasks/s]"
      ]
     },
     "metadata": {},
     "output_type": "display_data"
    },
    {
     "data": {
      "application/vnd.jupyter.widget-view+json": {
       "model_id": "ec345191876a4fac83c16584468ea309",
       "version_major": 2,
       "version_minor": 0
      },
      "text/plain": [
       "sci_respone:   0%|          | 0/2 [00:00<?, ?tasks/s]"
      ]
     },
     "metadata": {},
     "output_type": "display_data"
    },
    {
     "data": {
      "application/vnd.jupyter.widget-view+json": {
       "model_id": "5bd92fd70ee84ccc8f6f8bf52d187167",
       "version_major": 2,
       "version_minor": 0
      },
      "text/plain": [
       "sci_respone:   0%|          | 0/2 [00:00<?, ?tasks/s]"
      ]
     },
     "metadata": {},
     "output_type": "display_data"
    },
    {
     "data": {
      "application/vnd.jupyter.widget-view+json": {
       "model_id": "32016ebd93da48b88ff687b5be8e7674",
       "version_major": 2,
       "version_minor": 0
      },
      "text/plain": [
       "sci_respone:   0%|          | 0/2 [00:00<?, ?tasks/s]"
      ]
     },
     "metadata": {},
     "output_type": "display_data"
    },
    {
     "data": {
      "application/vnd.jupyter.widget-view+json": {
       "model_id": "7b85d6b8175748508cb36a9569f939a8",
       "version_major": 2,
       "version_minor": 0
      },
      "text/plain": [
       "sci_respone:   0%|          | 0/2 [00:00<?, ?tasks/s]"
      ]
     },
     "metadata": {},
     "output_type": "display_data"
    },
    {
     "data": {
      "application/vnd.jupyter.widget-view+json": {
       "model_id": "ae9b9315770f439485d58502be857630",
       "version_major": 2,
       "version_minor": 0
      },
      "text/plain": [
       "sci_respone:   0%|          | 0/2 [00:00<?, ?tasks/s]"
      ]
     },
     "metadata": {},
     "output_type": "display_data"
    },
    {
     "data": {
      "application/vnd.jupyter.widget-view+json": {
       "model_id": "a0d3f85db47d4e05a7acfa516f6f61d2",
       "version_major": 2,
       "version_minor": 0
      },
      "text/plain": [
       "sci_respone:   0%|          | 0/2 [00:00<?, ?tasks/s]"
      ]
     },
     "metadata": {},
     "output_type": "display_data"
    },
    {
     "data": {
      "application/vnd.jupyter.widget-view+json": {
       "model_id": "4b6d46020ae64e10a0a40743da3e2d41",
       "version_major": 2,
       "version_minor": 0
      },
      "text/plain": [
       "sci_respone:   0%|          | 0/2 [00:00<?, ?tasks/s]"
      ]
     },
     "metadata": {},
     "output_type": "display_data"
    },
    {
     "data": {
      "application/vnd.jupyter.widget-view+json": {
       "model_id": "c2d48b8c0be743fd86abe87cc48cce26",
       "version_major": 2,
       "version_minor": 0
      },
      "text/plain": [
       "sci_respone:   0%|          | 0/2 [00:00<?, ?tasks/s]"
      ]
     },
     "metadata": {},
     "output_type": "display_data"
    },
    {
     "data": {
      "application/vnd.jupyter.widget-view+json": {
       "model_id": "1e0b3d0ab6aa4e1083a41d16a92a15ca",
       "version_major": 2,
       "version_minor": 0
      },
      "text/plain": [
       "sci_respone:   0%|          | 0/2 [00:00<?, ?tasks/s]"
      ]
     },
     "metadata": {},
     "output_type": "display_data"
    },
    {
     "data": {
      "application/vnd.jupyter.widget-view+json": {
       "model_id": "89df8ccb0da24aaba849673742591372",
       "version_major": 2,
       "version_minor": 0
      },
      "text/plain": [
       "sci_respone:   0%|          | 0/2 [00:00<?, ?tasks/s]"
      ]
     },
     "metadata": {},
     "output_type": "display_data"
    },
    {
     "data": {
      "application/vnd.jupyter.widget-view+json": {
       "model_id": "100cbe7f181045d590ecc6a6f2ced2ef",
       "version_major": 2,
       "version_minor": 0
      },
      "text/plain": [
       "sci_respone:   0%|          | 0/2 [00:00<?, ?tasks/s]"
      ]
     },
     "metadata": {},
     "output_type": "display_data"
    },
    {
     "data": {
      "application/vnd.jupyter.widget-view+json": {
       "model_id": "9a26e22bc0ed43a582f6c41f0906376a",
       "version_major": 2,
       "version_minor": 0
      },
      "text/plain": [
       "sci_respone:   0%|          | 0/2 [00:00<?, ?tasks/s]"
      ]
     },
     "metadata": {},
     "output_type": "display_data"
    },
    {
     "data": {
      "application/vnd.jupyter.widget-view+json": {
       "model_id": "68be43b3328244b2a3a7b387411eaf48",
       "version_major": 2,
       "version_minor": 0
      },
      "text/plain": [
       "sci_respone:   0%|          | 0/2 [00:00<?, ?tasks/s]"
      ]
     },
     "metadata": {},
     "output_type": "display_data"
    },
    {
     "data": {
      "application/vnd.jupyter.widget-view+json": {
       "model_id": "093b2f5819b640cfa0574c17ee52d396",
       "version_major": 2,
       "version_minor": 0
      },
      "text/plain": [
       "sci_respone:   0%|          | 0/2 [00:00<?, ?tasks/s]"
      ]
     },
     "metadata": {},
     "output_type": "display_data"
    },
    {
     "data": {
      "application/vnd.jupyter.widget-view+json": {
       "model_id": "489a9bea129e4a329722feb43429c1b4",
       "version_major": 2,
       "version_minor": 0
      },
      "text/plain": [
       "sci_respone:   0%|          | 0/2 [00:00<?, ?tasks/s]"
      ]
     },
     "metadata": {},
     "output_type": "display_data"
    },
    {
     "data": {
      "application/vnd.jupyter.widget-view+json": {
       "model_id": "d07926e748c146588b15f3f2672c7ed5",
       "version_major": 2,
       "version_minor": 0
      },
      "text/plain": [
       "sci_respone:   0%|          | 0/2 [00:00<?, ?tasks/s]"
      ]
     },
     "metadata": {},
     "output_type": "display_data"
    },
    {
     "data": {
      "application/vnd.jupyter.widget-view+json": {
       "model_id": "3f28eaf4d74847c3b3700228b3e8a269",
       "version_major": 2,
       "version_minor": 0
      },
      "text/plain": [
       "sci_respone:   0%|          | 0/2 [00:00<?, ?tasks/s]"
      ]
     },
     "metadata": {},
     "output_type": "display_data"
    },
    {
     "data": {
      "application/vnd.jupyter.widget-view+json": {
       "model_id": "70f2811f31e94f43b3ceb18b0379874a",
       "version_major": 2,
       "version_minor": 0
      },
      "text/plain": [
       "sci_respone:   0%|          | 0/2 [00:00<?, ?tasks/s]"
      ]
     },
     "metadata": {},
     "output_type": "display_data"
    },
    {
     "data": {
      "application/vnd.jupyter.widget-view+json": {
       "model_id": "858b78e3d6cd48baaed76babf592298a",
       "version_major": 2,
       "version_minor": 0
      },
      "text/plain": [
       "sci_respone:   0%|          | 0/2 [00:00<?, ?tasks/s]"
      ]
     },
     "metadata": {},
     "output_type": "display_data"
    },
    {
     "data": {
      "application/vnd.jupyter.widget-view+json": {
       "model_id": "a8b1c8c74fc940c98ba7ab828c0fed27",
       "version_major": 2,
       "version_minor": 0
      },
      "text/plain": [
       "sci_respone:   0%|          | 0/2 [00:00<?, ?tasks/s]"
      ]
     },
     "metadata": {},
     "output_type": "display_data"
    },
    {
     "data": {
      "application/vnd.jupyter.widget-view+json": {
       "model_id": "90b498ac6fbf45abbf840fd03e2c1dde",
       "version_major": 2,
       "version_minor": 0
      },
      "text/plain": [
       "sci_respone:   0%|          | 0/2 [00:00<?, ?tasks/s]"
      ]
     },
     "metadata": {},
     "output_type": "display_data"
    },
    {
     "data": {
      "application/vnd.jupyter.widget-view+json": {
       "model_id": "6b871ed23eed4263b07f8eda44bd102c",
       "version_major": 2,
       "version_minor": 0
      },
      "text/plain": [
       "sci_respone:   0%|          | 0/2 [00:00<?, ?tasks/s]"
      ]
     },
     "metadata": {},
     "output_type": "display_data"
    },
    {
     "data": {
      "application/vnd.jupyter.widget-view+json": {
       "model_id": "3507c3706571432fa33d3c7b91578754",
       "version_major": 2,
       "version_minor": 0
      },
      "text/plain": [
       "sci_respone:   0%|          | 0/2 [00:00<?, ?tasks/s]"
      ]
     },
     "metadata": {},
     "output_type": "display_data"
    },
    {
     "data": {
      "application/vnd.jupyter.widget-view+json": {
       "model_id": "4c53c1c396724bb4b297423757070066",
       "version_major": 2,
       "version_minor": 0
      },
      "text/plain": [
       "sci_respone:   0%|          | 0/2 [00:00<?, ?tasks/s]"
      ]
     },
     "metadata": {},
     "output_type": "display_data"
    },
    {
     "data": {
      "application/vnd.jupyter.widget-view+json": {
       "model_id": "380d116d469643f1bd92ce5b0817a80f",
       "version_major": 2,
       "version_minor": 0
      },
      "text/plain": [
       "sci_respone:   0%|          | 0/2 [00:00<?, ?tasks/s]"
      ]
     },
     "metadata": {},
     "output_type": "display_data"
    },
    {
     "data": {
      "application/vnd.jupyter.widget-view+json": {
       "model_id": "c9b74f0e883b40fc86877ae952ce3a01",
       "version_major": 2,
       "version_minor": 0
      },
      "text/plain": [
       "<lambda>:   0%|          | 0/2 [00:00<?, ?tasks/s]"
      ]
     },
     "metadata": {},
     "output_type": "display_data"
    },
    {
     "data": {
      "application/vnd.jupyter.widget-view+json": {
       "model_id": "4654284d0d2545acaba757d7a274a49a",
       "version_major": 2,
       "version_minor": 0
      },
      "text/plain": [
       "sci_respone:   0%|          | 0/2 [00:00<?, ?tasks/s]"
      ]
     },
     "metadata": {},
     "output_type": "display_data"
    },
    {
     "data": {
      "application/vnd.jupyter.widget-view+json": {
       "model_id": "9b2fd50175234ac38053e7fe827b6739",
       "version_major": 2,
       "version_minor": 0
      },
      "text/plain": [
       "sci_respone:   0%|          | 0/2 [00:00<?, ?tasks/s]"
      ]
     },
     "metadata": {},
     "output_type": "display_data"
    },
    {
     "data": {
      "application/vnd.jupyter.widget-view+json": {
       "model_id": "a929d5ac33dd49a89aa4f1b66f46325a",
       "version_major": 2,
       "version_minor": 0
      },
      "text/plain": [
       "sci_respone:   0%|          | 0/2 [00:00<?, ?tasks/s]"
      ]
     },
     "metadata": {},
     "output_type": "display_data"
    },
    {
     "data": {
      "application/vnd.jupyter.widget-view+json": {
       "model_id": "579f73f823f44195804d8d2b194d9113",
       "version_major": 2,
       "version_minor": 0
      },
      "text/plain": [
       "sci_respone:   0%|          | 0/2 [00:00<?, ?tasks/s]"
      ]
     },
     "metadata": {},
     "output_type": "display_data"
    },
    {
     "data": {
      "application/vnd.jupyter.widget-view+json": {
       "model_id": "705505731d99434da70a008e61e482f8",
       "version_major": 2,
       "version_minor": 0
      },
      "text/plain": [
       "sci_respone:   0%|          | 0/2 [00:00<?, ?tasks/s]"
      ]
     },
     "metadata": {},
     "output_type": "display_data"
    },
    {
     "data": {
      "application/vnd.jupyter.widget-view+json": {
       "model_id": "32147166e9b64b6e990afb47fcbd0eaf",
       "version_major": 2,
       "version_minor": 0
      },
      "text/plain": [
       "sci_respone:   0%|          | 0/2 [00:00<?, ?tasks/s]"
      ]
     },
     "metadata": {},
     "output_type": "display_data"
    },
    {
     "data": {
      "application/vnd.jupyter.widget-view+json": {
       "model_id": "32eba2249c2542fd89a235f4c61b077e",
       "version_major": 2,
       "version_minor": 0
      },
      "text/plain": [
       "sci_respone:   0%|          | 0/2 [00:00<?, ?tasks/s]"
      ]
     },
     "metadata": {},
     "output_type": "display_data"
    },
    {
     "data": {
      "application/vnd.jupyter.widget-view+json": {
       "model_id": "81ec7e02ad4f4233b09ecf0c64516493",
       "version_major": 2,
       "version_minor": 0
      },
      "text/plain": [
       "sci_respone:   0%|          | 0/2 [00:00<?, ?tasks/s]"
      ]
     },
     "metadata": {},
     "output_type": "display_data"
    },
    {
     "data": {
      "application/vnd.jupyter.widget-view+json": {
       "model_id": "6e6447818baa414baedf2ecb488df23a",
       "version_major": 2,
       "version_minor": 0
      },
      "text/plain": [
       "sci_respone:   0%|          | 0/2 [00:00<?, ?tasks/s]"
      ]
     },
     "metadata": {},
     "output_type": "display_data"
    },
    {
     "data": {
      "application/vnd.jupyter.widget-view+json": {
       "model_id": "89745da9a43846f79c30d21fb09773e2",
       "version_major": 2,
       "version_minor": 0
      },
      "text/plain": [
       "sci_respone:   0%|          | 0/2 [00:00<?, ?tasks/s]"
      ]
     },
     "metadata": {},
     "output_type": "display_data"
    },
    {
     "data": {
      "application/vnd.jupyter.widget-view+json": {
       "model_id": "41523f03b88144188423838f9026dd0f",
       "version_major": 2,
       "version_minor": 0
      },
      "text/plain": [
       "sci_respone:   0%|          | 0/2 [00:00<?, ?tasks/s]"
      ]
     },
     "metadata": {},
     "output_type": "display_data"
    },
    {
     "data": {
      "application/vnd.jupyter.widget-view+json": {
       "model_id": "5892a9090256406faae5661a783836e1",
       "version_major": 2,
       "version_minor": 0
      },
      "text/plain": [
       "sci_respone:   0%|          | 0/2 [00:00<?, ?tasks/s]"
      ]
     },
     "metadata": {},
     "output_type": "display_data"
    },
    {
     "data": {
      "application/vnd.jupyter.widget-view+json": {
       "model_id": "c646e9fed32b4aa0a2a6e2f923cd3c69",
       "version_major": 2,
       "version_minor": 0
      },
      "text/plain": [
       "sci_respone:   0%|          | 0/2 [00:00<?, ?tasks/s]"
      ]
     },
     "metadata": {},
     "output_type": "display_data"
    },
    {
     "data": {
      "application/vnd.jupyter.widget-view+json": {
       "model_id": "bd200b0225a4446c9fabb779b75bac5b",
       "version_major": 2,
       "version_minor": 0
      },
      "text/plain": [
       "sci_respone:   0%|          | 0/2 [00:00<?, ?tasks/s]"
      ]
     },
     "metadata": {},
     "output_type": "display_data"
    },
    {
     "data": {
      "application/vnd.jupyter.widget-view+json": {
       "model_id": "8f57a7a2e3ff44768f6ad605bfa26b45",
       "version_major": 2,
       "version_minor": 0
      },
      "text/plain": [
       "sci_respone:   0%|          | 0/2 [00:00<?, ?tasks/s]"
      ]
     },
     "metadata": {},
     "output_type": "display_data"
    },
    {
     "data": {
      "application/vnd.jupyter.widget-view+json": {
       "model_id": "7cf8213b78a545e787cf563868ad6494",
       "version_major": 2,
       "version_minor": 0
      },
      "text/plain": [
       "sci_respone:   0%|          | 0/2 [00:00<?, ?tasks/s]"
      ]
     },
     "metadata": {},
     "output_type": "display_data"
    },
    {
     "data": {
      "application/vnd.jupyter.widget-view+json": {
       "model_id": "bc0ec276f7ef41abb477f5b4507582cd",
       "version_major": 2,
       "version_minor": 0
      },
      "text/plain": [
       "sci_respone:   0%|          | 0/2 [00:00<?, ?tasks/s]"
      ]
     },
     "metadata": {},
     "output_type": "display_data"
    },
    {
     "data": {
      "application/vnd.jupyter.widget-view+json": {
       "model_id": "4fa4dc605fcc4420a0036019d7e0114f",
       "version_major": 2,
       "version_minor": 0
      },
      "text/plain": [
       "sci_respone:   0%|          | 0/2 [00:00<?, ?tasks/s]"
      ]
     },
     "metadata": {},
     "output_type": "display_data"
    },
    {
     "data": {
      "application/vnd.jupyter.widget-view+json": {
       "model_id": "e91e71380eb747d68d793af9313c5705",
       "version_major": 2,
       "version_minor": 0
      },
      "text/plain": [
       "sci_respone:   0%|          | 0/2 [00:00<?, ?tasks/s]"
      ]
     },
     "metadata": {},
     "output_type": "display_data"
    },
    {
     "data": {
      "application/vnd.jupyter.widget-view+json": {
       "model_id": "1187db06e6da41869610d5776278fcca",
       "version_major": 2,
       "version_minor": 0
      },
      "text/plain": [
       "sci_respone:   0%|          | 0/2 [00:00<?, ?tasks/s]"
      ]
     },
     "metadata": {},
     "output_type": "display_data"
    },
    {
     "data": {
      "application/vnd.jupyter.widget-view+json": {
       "model_id": "5d44d71613cd4f5cb95da30d22d78a31",
       "version_major": 2,
       "version_minor": 0
      },
      "text/plain": [
       "sci_respone:   0%|          | 0/2 [00:00<?, ?tasks/s]"
      ]
     },
     "metadata": {},
     "output_type": "display_data"
    },
    {
     "data": {
      "application/vnd.jupyter.widget-view+json": {
       "model_id": "4b811f7c8d464dfd835b77f31a83dc65",
       "version_major": 2,
       "version_minor": 0
      },
      "text/plain": [
       "sci_respone:   0%|          | 0/2 [00:00<?, ?tasks/s]"
      ]
     },
     "metadata": {},
     "output_type": "display_data"
    },
    {
     "data": {
      "application/vnd.jupyter.widget-view+json": {
       "model_id": "f72ec594686b4763b698f8d88de7a955",
       "version_major": 2,
       "version_minor": 0
      },
      "text/plain": [
       "sci_respone:   0%|          | 0/2 [00:00<?, ?tasks/s]"
      ]
     },
     "metadata": {},
     "output_type": "display_data"
    },
    {
     "data": {
      "application/vnd.jupyter.widget-view+json": {
       "model_id": "3b200797cf8e4598aec375d9ed889f28",
       "version_major": 2,
       "version_minor": 0
      },
      "text/plain": [
       "sci_respone:   0%|          | 0/2 [00:00<?, ?tasks/s]"
      ]
     },
     "metadata": {},
     "output_type": "display_data"
    },
    {
     "data": {
      "application/vnd.jupyter.widget-view+json": {
       "model_id": "31416be4de34473f876e05917e827916",
       "version_major": 2,
       "version_minor": 0
      },
      "text/plain": [
       "sci_respone:   0%|          | 0/2 [00:00<?, ?tasks/s]"
      ]
     },
     "metadata": {},
     "output_type": "display_data"
    },
    {
     "data": {
      "application/vnd.jupyter.widget-view+json": {
       "model_id": "e73bd6a8ec284adfa422b79320c18f86",
       "version_major": 2,
       "version_minor": 0
      },
      "text/plain": [
       "sci_respone:   0%|          | 0/2 [00:00<?, ?tasks/s]"
      ]
     },
     "metadata": {},
     "output_type": "display_data"
    },
    {
     "data": {
      "application/vnd.jupyter.widget-view+json": {
       "model_id": "f2ff07fbabc0494690398229fc4f9cb0",
       "version_major": 2,
       "version_minor": 0
      },
      "text/plain": [
       "sci_respone:   0%|          | 0/2 [00:00<?, ?tasks/s]"
      ]
     },
     "metadata": {},
     "output_type": "display_data"
    },
    {
     "data": {
      "application/vnd.jupyter.widget-view+json": {
       "model_id": "36d7800448b04ceba725ae9bfa19371c",
       "version_major": 2,
       "version_minor": 0
      },
      "text/plain": [
       "sci_respone:   0%|          | 0/2 [00:00<?, ?tasks/s]"
      ]
     },
     "metadata": {},
     "output_type": "display_data"
    },
    {
     "data": {
      "application/vnd.jupyter.widget-view+json": {
       "model_id": "238ef1091bb042c1bd6145244f586222",
       "version_major": 2,
       "version_minor": 0
      },
      "text/plain": [
       "sci_respone:   0%|          | 0/2 [00:00<?, ?tasks/s]"
      ]
     },
     "metadata": {},
     "output_type": "display_data"
    },
    {
     "data": {
      "application/vnd.jupyter.widget-view+json": {
       "model_id": "9177d1000a0a45ada5ccd738d5a527a3",
       "version_major": 2,
       "version_minor": 0
      },
      "text/plain": [
       "sci_respone:   0%|          | 0/2 [00:00<?, ?tasks/s]"
      ]
     },
     "metadata": {},
     "output_type": "display_data"
    },
    {
     "data": {
      "application/vnd.jupyter.widget-view+json": {
       "model_id": "be0f60c2c8ac43a1a620456b8a5b4f50",
       "version_major": 2,
       "version_minor": 0
      },
      "text/plain": [
       "<lambda>:   0%|          | 0/2 [00:00<?, ?tasks/s]"
      ]
     },
     "metadata": {},
     "output_type": "display_data"
    },
    {
     "data": {
      "application/vnd.jupyter.widget-view+json": {
       "model_id": "1b7f80714aca42a69393e62dd18ee6b6",
       "version_major": 2,
       "version_minor": 0
      },
      "text/plain": [
       "sci_respone:   0%|          | 0/2 [00:00<?, ?tasks/s]"
      ]
     },
     "metadata": {},
     "output_type": "display_data"
    },
    {
     "data": {
      "application/vnd.jupyter.widget-view+json": {
       "model_id": "b2194b80ff964131ac12610a5911e240",
       "version_major": 2,
       "version_minor": 0
      },
      "text/plain": [
       "sci_respone:   0%|          | 0/2 [00:00<?, ?tasks/s]"
      ]
     },
     "metadata": {},
     "output_type": "display_data"
    },
    {
     "data": {
      "application/vnd.jupyter.widget-view+json": {
       "model_id": "8084c9354b864110b86c8c138a715a98",
       "version_major": 2,
       "version_minor": 0
      },
      "text/plain": [
       "sci_respone:   0%|          | 0/2 [00:00<?, ?tasks/s]"
      ]
     },
     "metadata": {},
     "output_type": "display_data"
    },
    {
     "data": {
      "application/vnd.jupyter.widget-view+json": {
       "model_id": "d552f8e3634f4cb79aab5ae8db1f28d5",
       "version_major": 2,
       "version_minor": 0
      },
      "text/plain": [
       "sci_respone:   0%|          | 0/2 [00:00<?, ?tasks/s]"
      ]
     },
     "metadata": {},
     "output_type": "display_data"
    },
    {
     "data": {
      "application/vnd.jupyter.widget-view+json": {
       "model_id": "8f23e026360f444aa19adac723a8c78d",
       "version_major": 2,
       "version_minor": 0
      },
      "text/plain": [
       "sci_respone:   0%|          | 0/2 [00:00<?, ?tasks/s]"
      ]
     },
     "metadata": {},
     "output_type": "display_data"
    },
    {
     "data": {
      "application/vnd.jupyter.widget-view+json": {
       "model_id": "d3c9a731f3d949689ef9274adb9cca28",
       "version_major": 2,
       "version_minor": 0
      },
      "text/plain": [
       "sci_respone:   0%|          | 0/2 [00:00<?, ?tasks/s]"
      ]
     },
     "metadata": {},
     "output_type": "display_data"
    },
    {
     "data": {
      "application/vnd.jupyter.widget-view+json": {
       "model_id": "1cd5693fae2647b78275679c35ec4a89",
       "version_major": 2,
       "version_minor": 0
      },
      "text/plain": [
       "sci_respone:   0%|          | 0/2 [00:00<?, ?tasks/s]"
      ]
     },
     "metadata": {},
     "output_type": "display_data"
    },
    {
     "data": {
      "application/vnd.jupyter.widget-view+json": {
       "model_id": "6eefef72918544b0b82b1f4c3333042e",
       "version_major": 2,
       "version_minor": 0
      },
      "text/plain": [
       "sci_respone:   0%|          | 0/2 [00:00<?, ?tasks/s]"
      ]
     },
     "metadata": {},
     "output_type": "display_data"
    },
    {
     "data": {
      "application/vnd.jupyter.widget-view+json": {
       "model_id": "87fa94fd04e940c28a0890829885ee8d",
       "version_major": 2,
       "version_minor": 0
      },
      "text/plain": [
       "sci_respone:   0%|          | 0/2 [00:00<?, ?tasks/s]"
      ]
     },
     "metadata": {},
     "output_type": "display_data"
    },
    {
     "data": {
      "application/vnd.jupyter.widget-view+json": {
       "model_id": "d8d86de77282485fa2fc2efa3a23b792",
       "version_major": 2,
       "version_minor": 0
      },
      "text/plain": [
       "sci_respone:   0%|          | 0/2 [00:00<?, ?tasks/s]"
      ]
     },
     "metadata": {},
     "output_type": "display_data"
    },
    {
     "data": {
      "application/vnd.jupyter.widget-view+json": {
       "model_id": "30f594a68fc74231b9d4e6b513693f89",
       "version_major": 2,
       "version_minor": 0
      },
      "text/plain": [
       "sci_respone:   0%|          | 0/2 [00:00<?, ?tasks/s]"
      ]
     },
     "metadata": {},
     "output_type": "display_data"
    },
    {
     "data": {
      "application/vnd.jupyter.widget-view+json": {
       "model_id": "92ec0f3c0d23497ca526d7fe522387f9",
       "version_major": 2,
       "version_minor": 0
      },
      "text/plain": [
       "sci_respone:   0%|          | 0/2 [00:00<?, ?tasks/s]"
      ]
     },
     "metadata": {},
     "output_type": "display_data"
    },
    {
     "data": {
      "application/vnd.jupyter.widget-view+json": {
       "model_id": "6890bc14359c47c5bb4e25c2c188c91a",
       "version_major": 2,
       "version_minor": 0
      },
      "text/plain": [
       "sci_respone:   0%|          | 0/2 [00:00<?, ?tasks/s]"
      ]
     },
     "metadata": {},
     "output_type": "display_data"
    },
    {
     "data": {
      "application/vnd.jupyter.widget-view+json": {
       "model_id": "f95e55309b534102861fee236a36575b",
       "version_major": 2,
       "version_minor": 0
      },
      "text/plain": [
       "sci_respone:   0%|          | 0/2 [00:00<?, ?tasks/s]"
      ]
     },
     "metadata": {},
     "output_type": "display_data"
    },
    {
     "data": {
      "application/vnd.jupyter.widget-view+json": {
       "model_id": "e18236c0dd0f441ba08c4f1dff73857a",
       "version_major": 2,
       "version_minor": 0
      },
      "text/plain": [
       "sci_respone:   0%|          | 0/2 [00:00<?, ?tasks/s]"
      ]
     },
     "metadata": {},
     "output_type": "display_data"
    },
    {
     "data": {
      "application/vnd.jupyter.widget-view+json": {
       "model_id": "b33e5f520bac4022b8ad41526aae2c78",
       "version_major": 2,
       "version_minor": 0
      },
      "text/plain": [
       "sci_respone:   0%|          | 0/2 [00:00<?, ?tasks/s]"
      ]
     },
     "metadata": {},
     "output_type": "display_data"
    },
    {
     "data": {
      "application/vnd.jupyter.widget-view+json": {
       "model_id": "bd1210f088c346dca762b2072eb338eb",
       "version_major": 2,
       "version_minor": 0
      },
      "text/plain": [
       "sci_respone:   0%|          | 0/2 [00:00<?, ?tasks/s]"
      ]
     },
     "metadata": {},
     "output_type": "display_data"
    },
    {
     "data": {
      "application/vnd.jupyter.widget-view+json": {
       "model_id": "5c8a57a28b5f4dc98805d35247543176",
       "version_major": 2,
       "version_minor": 0
      },
      "text/plain": [
       "sci_respone:   0%|          | 0/2 [00:00<?, ?tasks/s]"
      ]
     },
     "metadata": {},
     "output_type": "display_data"
    },
    {
     "data": {
      "application/vnd.jupyter.widget-view+json": {
       "model_id": "7fd7aa6df0b541f385fd3d0e311925d8",
       "version_major": 2,
       "version_minor": 0
      },
      "text/plain": [
       "sci_respone:   0%|          | 0/2 [00:00<?, ?tasks/s]"
      ]
     },
     "metadata": {},
     "output_type": "display_data"
    },
    {
     "data": {
      "application/vnd.jupyter.widget-view+json": {
       "model_id": "b9a95569948646c4ab06b14f686362b6",
       "version_major": 2,
       "version_minor": 0
      },
      "text/plain": [
       "sci_respone:   0%|          | 0/2 [00:00<?, ?tasks/s]"
      ]
     },
     "metadata": {},
     "output_type": "display_data"
    },
    {
     "data": {
      "application/vnd.jupyter.widget-view+json": {
       "model_id": "cf5d4776ebbc4a1e9b5f08e10ed98684",
       "version_major": 2,
       "version_minor": 0
      },
      "text/plain": [
       "sci_respone:   0%|          | 0/2 [00:00<?, ?tasks/s]"
      ]
     },
     "metadata": {},
     "output_type": "display_data"
    },
    {
     "data": {
      "application/vnd.jupyter.widget-view+json": {
       "model_id": "0b2a3e7cd1124d68a4642f9f72f73867",
       "version_major": 2,
       "version_minor": 0
      },
      "text/plain": [
       "sci_respone:   0%|          | 0/2 [00:00<?, ?tasks/s]"
      ]
     },
     "metadata": {},
     "output_type": "display_data"
    },
    {
     "data": {
      "application/vnd.jupyter.widget-view+json": {
       "model_id": "32c8cab5e5d94bb4a3f60a1880a9be7e",
       "version_major": 2,
       "version_minor": 0
      },
      "text/plain": [
       "sci_respone:   0%|          | 0/2 [00:00<?, ?tasks/s]"
      ]
     },
     "metadata": {},
     "output_type": "display_data"
    },
    {
     "data": {
      "application/vnd.jupyter.widget-view+json": {
       "model_id": "63881c9baa894557b9af0c76c0cb7a67",
       "version_major": 2,
       "version_minor": 0
      },
      "text/plain": [
       "sci_respone:   0%|          | 0/2 [00:00<?, ?tasks/s]"
      ]
     },
     "metadata": {},
     "output_type": "display_data"
    },
    {
     "data": {
      "application/vnd.jupyter.widget-view+json": {
       "model_id": "94fce952618f4341a62a02ee56c2e2cd",
       "version_major": 2,
       "version_minor": 0
      },
      "text/plain": [
       "sci_respone:   0%|          | 0/2 [00:00<?, ?tasks/s]"
      ]
     },
     "metadata": {},
     "output_type": "display_data"
    },
    {
     "data": {
      "application/vnd.jupyter.widget-view+json": {
       "model_id": "26dc73fd6150477882889974a0946eac",
       "version_major": 2,
       "version_minor": 0
      },
      "text/plain": [
       "sci_respone:   0%|          | 0/2 [00:00<?, ?tasks/s]"
      ]
     },
     "metadata": {},
     "output_type": "display_data"
    },
    {
     "data": {
      "application/vnd.jupyter.widget-view+json": {
       "model_id": "ab2564194622410a90b4ad6c97fc5091",
       "version_major": 2,
       "version_minor": 0
      },
      "text/plain": [
       "sci_respone:   0%|          | 0/2 [00:00<?, ?tasks/s]"
      ]
     },
     "metadata": {},
     "output_type": "display_data"
    },
    {
     "data": {
      "application/vnd.jupyter.widget-view+json": {
       "model_id": "c252c63fa11e44518337f91344e5a928",
       "version_major": 2,
       "version_minor": 0
      },
      "text/plain": [
       "sci_respone:   0%|          | 0/2 [00:00<?, ?tasks/s]"
      ]
     },
     "metadata": {},
     "output_type": "display_data"
    },
    {
     "data": {
      "application/vnd.jupyter.widget-view+json": {
       "model_id": "84e06db7a6de4f5c8fd8b3e0cdfcfe6a",
       "version_major": 2,
       "version_minor": 0
      },
      "text/plain": [
       "sci_respone:   0%|          | 0/2 [00:00<?, ?tasks/s]"
      ]
     },
     "metadata": {},
     "output_type": "display_data"
    },
    {
     "data": {
      "application/vnd.jupyter.widget-view+json": {
       "model_id": "67238a70f87e4f2cb36dae57047a50b2",
       "version_major": 2,
       "version_minor": 0
      },
      "text/plain": [
       "sci_respone:   0%|          | 0/2 [00:00<?, ?tasks/s]"
      ]
     },
     "metadata": {},
     "output_type": "display_data"
    },
    {
     "data": {
      "application/vnd.jupyter.widget-view+json": {
       "model_id": "932408a360fa48d28e232c5f4aae4f60",
       "version_major": 2,
       "version_minor": 0
      },
      "text/plain": [
       "<lambda>:   0%|          | 0/2 [00:00<?, ?tasks/s]"
      ]
     },
     "metadata": {},
     "output_type": "display_data"
    },
    {
     "data": {
      "application/vnd.jupyter.widget-view+json": {
       "model_id": "d4c79cfb3bb9422b8d3f093ff600bf27",
       "version_major": 2,
       "version_minor": 0
      },
      "text/plain": [
       "sci_respone:   0%|          | 0/2 [00:00<?, ?tasks/s]"
      ]
     },
     "metadata": {},
     "output_type": "display_data"
    },
    {
     "data": {
      "application/vnd.jupyter.widget-view+json": {
       "model_id": "3029946274bc4212bdf5d4414f816434",
       "version_major": 2,
       "version_minor": 0
      },
      "text/plain": [
       "sci_respone:   0%|          | 0/2 [00:00<?, ?tasks/s]"
      ]
     },
     "metadata": {},
     "output_type": "display_data"
    },
    {
     "data": {
      "application/vnd.jupyter.widget-view+json": {
       "model_id": "d205f740953f4b51b897be8e14280bca",
       "version_major": 2,
       "version_minor": 0
      },
      "text/plain": [
       "sci_respone:   0%|          | 0/2 [00:00<?, ?tasks/s]"
      ]
     },
     "metadata": {},
     "output_type": "display_data"
    },
    {
     "data": {
      "application/vnd.jupyter.widget-view+json": {
       "model_id": "367e02eacdad401aa16eaee010e74ce3",
       "version_major": 2,
       "version_minor": 0
      },
      "text/plain": [
       "sci_respone:   0%|          | 0/2 [00:00<?, ?tasks/s]"
      ]
     },
     "metadata": {},
     "output_type": "display_data"
    },
    {
     "data": {
      "application/vnd.jupyter.widget-view+json": {
       "model_id": "b7ccaa1851c84ee49844ab5e2be2a258",
       "version_major": 2,
       "version_minor": 0
      },
      "text/plain": [
       "sci_respone:   0%|          | 0/2 [00:00<?, ?tasks/s]"
      ]
     },
     "metadata": {},
     "output_type": "display_data"
    },
    {
     "data": {
      "application/vnd.jupyter.widget-view+json": {
       "model_id": "4ac516560f444ef4be7e5cb9fda9a4bb",
       "version_major": 2,
       "version_minor": 0
      },
      "text/plain": [
       "sci_respone:   0%|          | 0/2 [00:00<?, ?tasks/s]"
      ]
     },
     "metadata": {},
     "output_type": "display_data"
    },
    {
     "data": {
      "application/vnd.jupyter.widget-view+json": {
       "model_id": "a7c401f2693c40ba828d65d8f86aeb5b",
       "version_major": 2,
       "version_minor": 0
      },
      "text/plain": [
       "sci_respone:   0%|          | 0/2 [00:00<?, ?tasks/s]"
      ]
     },
     "metadata": {},
     "output_type": "display_data"
    },
    {
     "data": {
      "application/vnd.jupyter.widget-view+json": {
       "model_id": "b32264b8c16b4f6eb24d50b1b474417d",
       "version_major": 2,
       "version_minor": 0
      },
      "text/plain": [
       "sci_respone:   0%|          | 0/2 [00:00<?, ?tasks/s]"
      ]
     },
     "metadata": {},
     "output_type": "display_data"
    },
    {
     "data": {
      "application/vnd.jupyter.widget-view+json": {
       "model_id": "bd739ba181244f2b90fd592cf2b8a161",
       "version_major": 2,
       "version_minor": 0
      },
      "text/plain": [
       "sci_respone:   0%|          | 0/2 [00:00<?, ?tasks/s]"
      ]
     },
     "metadata": {},
     "output_type": "display_data"
    },
    {
     "data": {
      "application/vnd.jupyter.widget-view+json": {
       "model_id": "f73265e901b34ffda89b2d6e07cf1522",
       "version_major": 2,
       "version_minor": 0
      },
      "text/plain": [
       "sci_respone:   0%|          | 0/2 [00:00<?, ?tasks/s]"
      ]
     },
     "metadata": {},
     "output_type": "display_data"
    },
    {
     "data": {
      "application/vnd.jupyter.widget-view+json": {
       "model_id": "6816ec3af78e485098d361b360abbd27",
       "version_major": 2,
       "version_minor": 0
      },
      "text/plain": [
       "sci_respone:   0%|          | 0/2 [00:00<?, ?tasks/s]"
      ]
     },
     "metadata": {},
     "output_type": "display_data"
    },
    {
     "data": {
      "application/vnd.jupyter.widget-view+json": {
       "model_id": "8b255c31218f417481c8e24ae22214b0",
       "version_major": 2,
       "version_minor": 0
      },
      "text/plain": [
       "sci_respone:   0%|          | 0/2 [00:00<?, ?tasks/s]"
      ]
     },
     "metadata": {},
     "output_type": "display_data"
    },
    {
     "data": {
      "application/vnd.jupyter.widget-view+json": {
       "model_id": "779d249cab8c498a85efe60e3b20984c",
       "version_major": 2,
       "version_minor": 0
      },
      "text/plain": [
       "sci_respone:   0%|          | 0/2 [00:00<?, ?tasks/s]"
      ]
     },
     "metadata": {},
     "output_type": "display_data"
    },
    {
     "data": {
      "application/vnd.jupyter.widget-view+json": {
       "model_id": "f8a59fff73154077a372184436f61253",
       "version_major": 2,
       "version_minor": 0
      },
      "text/plain": [
       "sci_respone:   0%|          | 0/2 [00:00<?, ?tasks/s]"
      ]
     },
     "metadata": {},
     "output_type": "display_data"
    },
    {
     "data": {
      "application/vnd.jupyter.widget-view+json": {
       "model_id": "7ffdc40a7f854d54a77d2e17ad8a5061",
       "version_major": 2,
       "version_minor": 0
      },
      "text/plain": [
       "sci_respone:   0%|          | 0/2 [00:00<?, ?tasks/s]"
      ]
     },
     "metadata": {},
     "output_type": "display_data"
    },
    {
     "data": {
      "application/vnd.jupyter.widget-view+json": {
       "model_id": "48998ba0eb0b4369bb0f0a1150d8c835",
       "version_major": 2,
       "version_minor": 0
      },
      "text/plain": [
       "sci_respone:   0%|          | 0/2 [00:00<?, ?tasks/s]"
      ]
     },
     "metadata": {},
     "output_type": "display_data"
    },
    {
     "data": {
      "application/vnd.jupyter.widget-view+json": {
       "model_id": "3443307fdbcc4c3e8ca3464cd80b7654",
       "version_major": 2,
       "version_minor": 0
      },
      "text/plain": [
       "sci_respone:   0%|          | 0/2 [00:00<?, ?tasks/s]"
      ]
     },
     "metadata": {},
     "output_type": "display_data"
    },
    {
     "data": {
      "application/vnd.jupyter.widget-view+json": {
       "model_id": "43759fbb56714e06a49ec0aed31a073c",
       "version_major": 2,
       "version_minor": 0
      },
      "text/plain": [
       "sci_respone:   0%|          | 0/2 [00:00<?, ?tasks/s]"
      ]
     },
     "metadata": {},
     "output_type": "display_data"
    },
    {
     "data": {
      "application/vnd.jupyter.widget-view+json": {
       "model_id": "0fdbfc1d8e3843bcb25418b41287fb8f",
       "version_major": 2,
       "version_minor": 0
      },
      "text/plain": [
       "sci_respone:   0%|          | 0/2 [00:00<?, ?tasks/s]"
      ]
     },
     "metadata": {},
     "output_type": "display_data"
    },
    {
     "data": {
      "application/vnd.jupyter.widget-view+json": {
       "model_id": "7c4f664b2e7d4a44ac0f95c08103a3e8",
       "version_major": 2,
       "version_minor": 0
      },
      "text/plain": [
       "sci_respone:   0%|          | 0/2 [00:00<?, ?tasks/s]"
      ]
     },
     "metadata": {},
     "output_type": "display_data"
    },
    {
     "data": {
      "application/vnd.jupyter.widget-view+json": {
       "model_id": "41399cdb1823416694daf2305857ec94",
       "version_major": 2,
       "version_minor": 0
      },
      "text/plain": [
       "sci_respone:   0%|          | 0/2 [00:00<?, ?tasks/s]"
      ]
     },
     "metadata": {},
     "output_type": "display_data"
    },
    {
     "data": {
      "application/vnd.jupyter.widget-view+json": {
       "model_id": "d5ba44ef47174c32810495f0454452e7",
       "version_major": 2,
       "version_minor": 0
      },
      "text/plain": [
       "sci_respone:   0%|          | 0/2 [00:00<?, ?tasks/s]"
      ]
     },
     "metadata": {},
     "output_type": "display_data"
    },
    {
     "data": {
      "application/vnd.jupyter.widget-view+json": {
       "model_id": "4c7f2a8324d04eb4b6ccf36da2665366",
       "version_major": 2,
       "version_minor": 0
      },
      "text/plain": [
       "sci_respone:   0%|          | 0/2 [00:00<?, ?tasks/s]"
      ]
     },
     "metadata": {},
     "output_type": "display_data"
    },
    {
     "data": {
      "application/vnd.jupyter.widget-view+json": {
       "model_id": "8a4fca6b7b4b4714b074377037e4307a",
       "version_major": 2,
       "version_minor": 0
      },
      "text/plain": [
       "sci_respone:   0%|          | 0/2 [00:00<?, ?tasks/s]"
      ]
     },
     "metadata": {},
     "output_type": "display_data"
    },
    {
     "data": {
      "application/vnd.jupyter.widget-view+json": {
       "model_id": "d7775382f64f42b7b904087bff4beed4",
       "version_major": 2,
       "version_minor": 0
      },
      "text/plain": [
       "sci_respone:   0%|          | 0/2 [00:00<?, ?tasks/s]"
      ]
     },
     "metadata": {},
     "output_type": "display_data"
    },
    {
     "data": {
      "application/vnd.jupyter.widget-view+json": {
       "model_id": "886345bd5e234706aa839d03759e8757",
       "version_major": 2,
       "version_minor": 0
      },
      "text/plain": [
       "sci_respone:   0%|          | 0/2 [00:00<?, ?tasks/s]"
      ]
     },
     "metadata": {},
     "output_type": "display_data"
    },
    {
     "data": {
      "application/vnd.jupyter.widget-view+json": {
       "model_id": "0f35ec74e0de4a0db432730616939e9b",
       "version_major": 2,
       "version_minor": 0
      },
      "text/plain": [
       "sci_respone:   0%|          | 0/2 [00:00<?, ?tasks/s]"
      ]
     },
     "metadata": {},
     "output_type": "display_data"
    },
    {
     "data": {
      "application/vnd.jupyter.widget-view+json": {
       "model_id": "4590532635c84a26983d160dbab33acb",
       "version_major": 2,
       "version_minor": 0
      },
      "text/plain": [
       "sci_respone:   0%|          | 0/2 [00:00<?, ?tasks/s]"
      ]
     },
     "metadata": {},
     "output_type": "display_data"
    },
    {
     "data": {
      "application/vnd.jupyter.widget-view+json": {
       "model_id": "6a3039a6648a444aa9e450c960611529",
       "version_major": 2,
       "version_minor": 0
      },
      "text/plain": [
       "sci_respone:   0%|          | 0/2 [00:00<?, ?tasks/s]"
      ]
     },
     "metadata": {},
     "output_type": "display_data"
    },
    {
     "data": {
      "application/vnd.jupyter.widget-view+json": {
       "model_id": "6b0a7feba1f14e1784006cd0e3e96522",
       "version_major": 2,
       "version_minor": 0
      },
      "text/plain": [
       "sci_respone:   0%|          | 0/2 [00:00<?, ?tasks/s]"
      ]
     },
     "metadata": {},
     "output_type": "display_data"
    },
    {
     "data": {
      "application/vnd.jupyter.widget-view+json": {
       "model_id": "372cbd6fd5ea4759810d063770c51d37",
       "version_major": 2,
       "version_minor": 0
      },
      "text/plain": [
       "<lambda>:   0%|          | 0/2 [00:00<?, ?tasks/s]"
      ]
     },
     "metadata": {},
     "output_type": "display_data"
    },
    {
     "data": {
      "application/vnd.jupyter.widget-view+json": {
       "model_id": "fc9964255f8949979374471b34015671",
       "version_major": 2,
       "version_minor": 0
      },
      "text/plain": [
       "sci_respone:   0%|          | 0/2 [00:00<?, ?tasks/s]"
      ]
     },
     "metadata": {},
     "output_type": "display_data"
    },
    {
     "data": {
      "application/vnd.jupyter.widget-view+json": {
       "model_id": "0b88b952bb4b4963b8a4b285edbf0352",
       "version_major": 2,
       "version_minor": 0
      },
      "text/plain": [
       "sci_respone:   0%|          | 0/2 [00:00<?, ?tasks/s]"
      ]
     },
     "metadata": {},
     "output_type": "display_data"
    },
    {
     "data": {
      "application/vnd.jupyter.widget-view+json": {
       "model_id": "7d8b07b1ec8146e3b4db1f0a348c5417",
       "version_major": 2,
       "version_minor": 0
      },
      "text/plain": [
       "sci_respone:   0%|          | 0/2 [00:00<?, ?tasks/s]"
      ]
     },
     "metadata": {},
     "output_type": "display_data"
    },
    {
     "data": {
      "application/vnd.jupyter.widget-view+json": {
       "model_id": "c50512160a3c4d6ca2cc404345cccdd0",
       "version_major": 2,
       "version_minor": 0
      },
      "text/plain": [
       "sci_respone:   0%|          | 0/2 [00:00<?, ?tasks/s]"
      ]
     },
     "metadata": {},
     "output_type": "display_data"
    },
    {
     "data": {
      "application/vnd.jupyter.widget-view+json": {
       "model_id": "8818b6b923f948b5b792c1565cdd5b55",
       "version_major": 2,
       "version_minor": 0
      },
      "text/plain": [
       "sci_respone:   0%|          | 0/2 [00:00<?, ?tasks/s]"
      ]
     },
     "metadata": {},
     "output_type": "display_data"
    },
    {
     "data": {
      "application/vnd.jupyter.widget-view+json": {
       "model_id": "ba94def44d1248ed90013b9154b2b373",
       "version_major": 2,
       "version_minor": 0
      },
      "text/plain": [
       "sci_respone:   0%|          | 0/2 [00:00<?, ?tasks/s]"
      ]
     },
     "metadata": {},
     "output_type": "display_data"
    },
    {
     "data": {
      "application/vnd.jupyter.widget-view+json": {
       "model_id": "17e767d9859446b884d8c7384d67257a",
       "version_major": 2,
       "version_minor": 0
      },
      "text/plain": [
       "sci_respone:   0%|          | 0/2 [00:00<?, ?tasks/s]"
      ]
     },
     "metadata": {},
     "output_type": "display_data"
    },
    {
     "data": {
      "application/vnd.jupyter.widget-view+json": {
       "model_id": "d3cfc07c7b1a4c92a61f61bd63e83556",
       "version_major": 2,
       "version_minor": 0
      },
      "text/plain": [
       "sci_respone:   0%|          | 0/2 [00:00<?, ?tasks/s]"
      ]
     },
     "metadata": {},
     "output_type": "display_data"
    },
    {
     "data": {
      "application/vnd.jupyter.widget-view+json": {
       "model_id": "de253b606c2e4749a4c8f84679644f1e",
       "version_major": 2,
       "version_minor": 0
      },
      "text/plain": [
       "sci_respone:   0%|          | 0/2 [00:00<?, ?tasks/s]"
      ]
     },
     "metadata": {},
     "output_type": "display_data"
    },
    {
     "data": {
      "application/vnd.jupyter.widget-view+json": {
       "model_id": "b7d8e38a5e45471faf5abcc9cfe24c9d",
       "version_major": 2,
       "version_minor": 0
      },
      "text/plain": [
       "sci_respone:   0%|          | 0/2 [00:00<?, ?tasks/s]"
      ]
     },
     "metadata": {},
     "output_type": "display_data"
    },
    {
     "data": {
      "application/vnd.jupyter.widget-view+json": {
       "model_id": "5da154bd7bef49bf84130de63c9b74a6",
       "version_major": 2,
       "version_minor": 0
      },
      "text/plain": [
       "sci_respone:   0%|          | 0/2 [00:00<?, ?tasks/s]"
      ]
     },
     "metadata": {},
     "output_type": "display_data"
    },
    {
     "data": {
      "application/vnd.jupyter.widget-view+json": {
       "model_id": "4fb9fcd769c149f1a463ac5adfafa9c1",
       "version_major": 2,
       "version_minor": 0
      },
      "text/plain": [
       "sci_respone:   0%|          | 0/2 [00:00<?, ?tasks/s]"
      ]
     },
     "metadata": {},
     "output_type": "display_data"
    },
    {
     "data": {
      "application/vnd.jupyter.widget-view+json": {
       "model_id": "ca1448e25bb34802801e814ef83e4b50",
       "version_major": 2,
       "version_minor": 0
      },
      "text/plain": [
       "sci_respone:   0%|          | 0/2 [00:00<?, ?tasks/s]"
      ]
     },
     "metadata": {},
     "output_type": "display_data"
    },
    {
     "data": {
      "application/vnd.jupyter.widget-view+json": {
       "model_id": "e2dc8bfcdf2f46f6848d4bff390bf033",
       "version_major": 2,
       "version_minor": 0
      },
      "text/plain": [
       "sci_respone:   0%|          | 0/2 [00:00<?, ?tasks/s]"
      ]
     },
     "metadata": {},
     "output_type": "display_data"
    },
    {
     "data": {
      "application/vnd.jupyter.widget-view+json": {
       "model_id": "ab7186b4ac4d4ab499613cdf594e274c",
       "version_major": 2,
       "version_minor": 0
      },
      "text/plain": [
       "sci_respone:   0%|          | 0/2 [00:00<?, ?tasks/s]"
      ]
     },
     "metadata": {},
     "output_type": "display_data"
    },
    {
     "data": {
      "application/vnd.jupyter.widget-view+json": {
       "model_id": "d84d83bb785243839140daa99ab2edad",
       "version_major": 2,
       "version_minor": 0
      },
      "text/plain": [
       "sci_respone:   0%|          | 0/2 [00:00<?, ?tasks/s]"
      ]
     },
     "metadata": {},
     "output_type": "display_data"
    },
    {
     "data": {
      "application/vnd.jupyter.widget-view+json": {
       "model_id": "7a888056168c4390b884d88c731f8168",
       "version_major": 2,
       "version_minor": 0
      },
      "text/plain": [
       "sci_respone:   0%|          | 0/2 [00:00<?, ?tasks/s]"
      ]
     },
     "metadata": {},
     "output_type": "display_data"
    },
    {
     "data": {
      "application/vnd.jupyter.widget-view+json": {
       "model_id": "828e5e5e911f455fa3b4d39b9f9df5f7",
       "version_major": 2,
       "version_minor": 0
      },
      "text/plain": [
       "sci_respone:   0%|          | 0/2 [00:00<?, ?tasks/s]"
      ]
     },
     "metadata": {},
     "output_type": "display_data"
    },
    {
     "data": {
      "application/vnd.jupyter.widget-view+json": {
       "model_id": "f48301a321b54db0be74f341dce0e045",
       "version_major": 2,
       "version_minor": 0
      },
      "text/plain": [
       "sci_respone:   0%|          | 0/2 [00:00<?, ?tasks/s]"
      ]
     },
     "metadata": {},
     "output_type": "display_data"
    },
    {
     "data": {
      "application/vnd.jupyter.widget-view+json": {
       "model_id": "dd03d0892f9849a7ac7fdc10a9ba698f",
       "version_major": 2,
       "version_minor": 0
      },
      "text/plain": [
       "sci_respone:   0%|          | 0/2 [00:00<?, ?tasks/s]"
      ]
     },
     "metadata": {},
     "output_type": "display_data"
    },
    {
     "data": {
      "application/vnd.jupyter.widget-view+json": {
       "model_id": "ac5ee2cc0df842ab8b5dafedd071b758",
       "version_major": 2,
       "version_minor": 0
      },
      "text/plain": [
       "sci_respone:   0%|          | 0/2 [00:00<?, ?tasks/s]"
      ]
     },
     "metadata": {},
     "output_type": "display_data"
    },
    {
     "data": {
      "application/vnd.jupyter.widget-view+json": {
       "model_id": "38e14f097f9245bcb4e71d471df6eddc",
       "version_major": 2,
       "version_minor": 0
      },
      "text/plain": [
       "sci_respone:   0%|          | 0/2 [00:00<?, ?tasks/s]"
      ]
     },
     "metadata": {},
     "output_type": "display_data"
    },
    {
     "data": {
      "application/vnd.jupyter.widget-view+json": {
       "model_id": "8f5233f25fd1478ebe185676c59755cd",
       "version_major": 2,
       "version_minor": 0
      },
      "text/plain": [
       "sci_respone:   0%|          | 0/2 [00:00<?, ?tasks/s]"
      ]
     },
     "metadata": {},
     "output_type": "display_data"
    },
    {
     "data": {
      "application/vnd.jupyter.widget-view+json": {
       "model_id": "90eaa5eae0e74527bbcda6ed3b1336c8",
       "version_major": 2,
       "version_minor": 0
      },
      "text/plain": [
       "sci_respone:   0%|          | 0/2 [00:00<?, ?tasks/s]"
      ]
     },
     "metadata": {},
     "output_type": "display_data"
    },
    {
     "data": {
      "application/vnd.jupyter.widget-view+json": {
       "model_id": "c36b85a432d24ba6952cc90ba4fea6fd",
       "version_major": 2,
       "version_minor": 0
      },
      "text/plain": [
       "sci_respone:   0%|          | 0/2 [00:00<?, ?tasks/s]"
      ]
     },
     "metadata": {},
     "output_type": "display_data"
    },
    {
     "data": {
      "application/vnd.jupyter.widget-view+json": {
       "model_id": "a37779d14c074e20b7a75b1c873d0ca0",
       "version_major": 2,
       "version_minor": 0
      },
      "text/plain": [
       "sci_respone:   0%|          | 0/2 [00:00<?, ?tasks/s]"
      ]
     },
     "metadata": {},
     "output_type": "display_data"
    },
    {
     "data": {
      "application/vnd.jupyter.widget-view+json": {
       "model_id": "f0aad0d0e4804b348770de1c90333ce8",
       "version_major": 2,
       "version_minor": 0
      },
      "text/plain": [
       "sci_respone:   0%|          | 0/2 [00:00<?, ?tasks/s]"
      ]
     },
     "metadata": {},
     "output_type": "display_data"
    },
    {
     "data": {
      "application/vnd.jupyter.widget-view+json": {
       "model_id": "27f51de6ab6d4aafab674ac003740efc",
       "version_major": 2,
       "version_minor": 0
      },
      "text/plain": [
       "sci_respone:   0%|          | 0/2 [00:00<?, ?tasks/s]"
      ]
     },
     "metadata": {},
     "output_type": "display_data"
    },
    {
     "data": {
      "application/vnd.jupyter.widget-view+json": {
       "model_id": "c3c68355c885439d869f368a75a30b12",
       "version_major": 2,
       "version_minor": 0
      },
      "text/plain": [
       "sci_respone:   0%|          | 0/2 [00:00<?, ?tasks/s]"
      ]
     },
     "metadata": {},
     "output_type": "display_data"
    },
    {
     "data": {
      "application/vnd.jupyter.widget-view+json": {
       "model_id": "81e64c3ef4254149b3c0c6c50e00ad12",
       "version_major": 2,
       "version_minor": 0
      },
      "text/plain": [
       "sci_respone:   0%|          | 0/2 [00:00<?, ?tasks/s]"
      ]
     },
     "metadata": {},
     "output_type": "display_data"
    },
    {
     "data": {
      "application/vnd.jupyter.widget-view+json": {
       "model_id": "e9371651c4464c45b0ce8fc15ff44c79",
       "version_major": 2,
       "version_minor": 0
      },
      "text/plain": [
       "<lambda>:   0%|          | 0/2 [00:00<?, ?tasks/s]"
      ]
     },
     "metadata": {},
     "output_type": "display_data"
    },
    {
     "data": {
      "application/vnd.jupyter.widget-view+json": {
       "model_id": "ad775ebb34204923b9feaaffbb9d541e",
       "version_major": 2,
       "version_minor": 0
      },
      "text/plain": [
       "sci_respone:   0%|          | 0/2 [00:00<?, ?tasks/s]"
      ]
     },
     "metadata": {},
     "output_type": "display_data"
    },
    {
     "data": {
      "application/vnd.jupyter.widget-view+json": {
       "model_id": "2b0a49246b6540578e3b3ca6091f8161",
       "version_major": 2,
       "version_minor": 0
      },
      "text/plain": [
       "sci_respone:   0%|          | 0/2 [00:00<?, ?tasks/s]"
      ]
     },
     "metadata": {},
     "output_type": "display_data"
    },
    {
     "data": {
      "application/vnd.jupyter.widget-view+json": {
       "model_id": "19d3c38d5767416eb981a324b7a17112",
       "version_major": 2,
       "version_minor": 0
      },
      "text/plain": [
       "sci_respone:   0%|          | 0/2 [00:00<?, ?tasks/s]"
      ]
     },
     "metadata": {},
     "output_type": "display_data"
    },
    {
     "data": {
      "application/vnd.jupyter.widget-view+json": {
       "model_id": "04ec4788fb6342358598976b45f63fc0",
       "version_major": 2,
       "version_minor": 0
      },
      "text/plain": [
       "sci_respone:   0%|          | 0/2 [00:00<?, ?tasks/s]"
      ]
     },
     "metadata": {},
     "output_type": "display_data"
    },
    {
     "data": {
      "application/vnd.jupyter.widget-view+json": {
       "model_id": "ece334b92b14491797a38805ced0ce4e",
       "version_major": 2,
       "version_minor": 0
      },
      "text/plain": [
       "sci_respone:   0%|          | 0/2 [00:00<?, ?tasks/s]"
      ]
     },
     "metadata": {},
     "output_type": "display_data"
    },
    {
     "data": {
      "application/vnd.jupyter.widget-view+json": {
       "model_id": "51b585cbb38146c9ab7f014619f7154c",
       "version_major": 2,
       "version_minor": 0
      },
      "text/plain": [
       "sci_respone:   0%|          | 0/2 [00:00<?, ?tasks/s]"
      ]
     },
     "metadata": {},
     "output_type": "display_data"
    },
    {
     "data": {
      "application/vnd.jupyter.widget-view+json": {
       "model_id": "b8fd3e39f7e646da98bc73e4491187e8",
       "version_major": 2,
       "version_minor": 0
      },
      "text/plain": [
       "sci_respone:   0%|          | 0/2 [00:00<?, ?tasks/s]"
      ]
     },
     "metadata": {},
     "output_type": "display_data"
    },
    {
     "data": {
      "application/vnd.jupyter.widget-view+json": {
       "model_id": "0a0cdcab02d04a5a8ba1d226a62ed4b9",
       "version_major": 2,
       "version_minor": 0
      },
      "text/plain": [
       "sci_respone:   0%|          | 0/2 [00:00<?, ?tasks/s]"
      ]
     },
     "metadata": {},
     "output_type": "display_data"
    },
    {
     "data": {
      "application/vnd.jupyter.widget-view+json": {
       "model_id": "712c2c6dba274e20b769538cbfc50abf",
       "version_major": 2,
       "version_minor": 0
      },
      "text/plain": [
       "sci_respone:   0%|          | 0/2 [00:00<?, ?tasks/s]"
      ]
     },
     "metadata": {},
     "output_type": "display_data"
    },
    {
     "data": {
      "application/vnd.jupyter.widget-view+json": {
       "model_id": "845c8111c7c548c5af3854e2ca218c07",
       "version_major": 2,
       "version_minor": 0
      },
      "text/plain": [
       "sci_respone:   0%|          | 0/2 [00:00<?, ?tasks/s]"
      ]
     },
     "metadata": {},
     "output_type": "display_data"
    },
    {
     "data": {
      "application/vnd.jupyter.widget-view+json": {
       "model_id": "1d14b1079b6f4abaab69dd7a4853ed8e",
       "version_major": 2,
       "version_minor": 0
      },
      "text/plain": [
       "sci_respone:   0%|          | 0/2 [00:00<?, ?tasks/s]"
      ]
     },
     "metadata": {},
     "output_type": "display_data"
    },
    {
     "data": {
      "application/vnd.jupyter.widget-view+json": {
       "model_id": "edd19a79a1cd40809394f0e7551dfe55",
       "version_major": 2,
       "version_minor": 0
      },
      "text/plain": [
       "sci_respone:   0%|          | 0/2 [00:00<?, ?tasks/s]"
      ]
     },
     "metadata": {},
     "output_type": "display_data"
    },
    {
     "data": {
      "application/vnd.jupyter.widget-view+json": {
       "model_id": "f0ce56e472144a1e8b9d8319ccb912ff",
       "version_major": 2,
       "version_minor": 0
      },
      "text/plain": [
       "sci_respone:   0%|          | 0/2 [00:00<?, ?tasks/s]"
      ]
     },
     "metadata": {},
     "output_type": "display_data"
    },
    {
     "data": {
      "application/vnd.jupyter.widget-view+json": {
       "model_id": "699692d52b554916acb19b93c84d02f3",
       "version_major": 2,
       "version_minor": 0
      },
      "text/plain": [
       "sci_respone:   0%|          | 0/2 [00:00<?, ?tasks/s]"
      ]
     },
     "metadata": {},
     "output_type": "display_data"
    },
    {
     "data": {
      "application/vnd.jupyter.widget-view+json": {
       "model_id": "ef8ce37bce7142bb816b1ef0c289e56a",
       "version_major": 2,
       "version_minor": 0
      },
      "text/plain": [
       "sci_respone:   0%|          | 0/2 [00:00<?, ?tasks/s]"
      ]
     },
     "metadata": {},
     "output_type": "display_data"
    },
    {
     "data": {
      "application/vnd.jupyter.widget-view+json": {
       "model_id": "17f8b767f88c426f9b6633e652e3d184",
       "version_major": 2,
       "version_minor": 0
      },
      "text/plain": [
       "sci_respone:   0%|          | 0/2 [00:00<?, ?tasks/s]"
      ]
     },
     "metadata": {},
     "output_type": "display_data"
    },
    {
     "data": {
      "application/vnd.jupyter.widget-view+json": {
       "model_id": "4262b8eafc314bec94700663139b64e6",
       "version_major": 2,
       "version_minor": 0
      },
      "text/plain": [
       "sci_respone:   0%|          | 0/2 [00:00<?, ?tasks/s]"
      ]
     },
     "metadata": {},
     "output_type": "display_data"
    },
    {
     "data": {
      "application/vnd.jupyter.widget-view+json": {
       "model_id": "0839e5b665ba48b5aa392903dcbac0de",
       "version_major": 2,
       "version_minor": 0
      },
      "text/plain": [
       "sci_respone:   0%|          | 0/2 [00:00<?, ?tasks/s]"
      ]
     },
     "metadata": {},
     "output_type": "display_data"
    },
    {
     "data": {
      "application/vnd.jupyter.widget-view+json": {
       "model_id": "4ac450cae00a456c8fae790cd243c223",
       "version_major": 2,
       "version_minor": 0
      },
      "text/plain": [
       "sci_respone:   0%|          | 0/2 [00:00<?, ?tasks/s]"
      ]
     },
     "metadata": {},
     "output_type": "display_data"
    },
    {
     "data": {
      "application/vnd.jupyter.widget-view+json": {
       "model_id": "4d9b12896e614be6b15a8903edbe651e",
       "version_major": 2,
       "version_minor": 0
      },
      "text/plain": [
       "sci_respone:   0%|          | 0/2 [00:00<?, ?tasks/s]"
      ]
     },
     "metadata": {},
     "output_type": "display_data"
    },
    {
     "data": {
      "application/vnd.jupyter.widget-view+json": {
       "model_id": "093fef5c18c34112a49fde7bf7279eee",
       "version_major": 2,
       "version_minor": 0
      },
      "text/plain": [
       "sci_respone:   0%|          | 0/2 [00:00<?, ?tasks/s]"
      ]
     },
     "metadata": {},
     "output_type": "display_data"
    },
    {
     "data": {
      "application/vnd.jupyter.widget-view+json": {
       "model_id": "60abcf4d5b67472ab22d38360b90c64d",
       "version_major": 2,
       "version_minor": 0
      },
      "text/plain": [
       "sci_respone:   0%|          | 0/2 [00:00<?, ?tasks/s]"
      ]
     },
     "metadata": {},
     "output_type": "display_data"
    },
    {
     "data": {
      "application/vnd.jupyter.widget-view+json": {
       "model_id": "4aec026a826e43618854fc073e88c040",
       "version_major": 2,
       "version_minor": 0
      },
      "text/plain": [
       "sci_respone:   0%|          | 0/2 [00:00<?, ?tasks/s]"
      ]
     },
     "metadata": {},
     "output_type": "display_data"
    },
    {
     "data": {
      "application/vnd.jupyter.widget-view+json": {
       "model_id": "efd3ceabb5db488ea04249ab94aba0a8",
       "version_major": 2,
       "version_minor": 0
      },
      "text/plain": [
       "sci_respone:   0%|          | 0/2 [00:00<?, ?tasks/s]"
      ]
     },
     "metadata": {},
     "output_type": "display_data"
    },
    {
     "data": {
      "application/vnd.jupyter.widget-view+json": {
       "model_id": "26d745a067dc4be4a79af4028d10ad8a",
       "version_major": 2,
       "version_minor": 0
      },
      "text/plain": [
       "sci_respone:   0%|          | 0/2 [00:00<?, ?tasks/s]"
      ]
     },
     "metadata": {},
     "output_type": "display_data"
    },
    {
     "data": {
      "application/vnd.jupyter.widget-view+json": {
       "model_id": "9b5a68f561874318bb2e551b0ace5503",
       "version_major": 2,
       "version_minor": 0
      },
      "text/plain": [
       "sci_respone:   0%|          | 0/2 [00:00<?, ?tasks/s]"
      ]
     },
     "metadata": {},
     "output_type": "display_data"
    },
    {
     "data": {
      "application/vnd.jupyter.widget-view+json": {
       "model_id": "08c0fdb2199f45c9b837a72551e91fb1",
       "version_major": 2,
       "version_minor": 0
      },
      "text/plain": [
       "sci_respone:   0%|          | 0/2 [00:00<?, ?tasks/s]"
      ]
     },
     "metadata": {},
     "output_type": "display_data"
    },
    {
     "data": {
      "application/vnd.jupyter.widget-view+json": {
       "model_id": "760f8476bc0042c59cfb6fbb9d644e6e",
       "version_major": 2,
       "version_minor": 0
      },
      "text/plain": [
       "sci_respone:   0%|          | 0/2 [00:00<?, ?tasks/s]"
      ]
     },
     "metadata": {},
     "output_type": "display_data"
    },
    {
     "data": {
      "application/vnd.jupyter.widget-view+json": {
       "model_id": "1b24bf2be99549faaccb9f33966bff26",
       "version_major": 2,
       "version_minor": 0
      },
      "text/plain": [
       "sci_respone:   0%|          | 0/2 [00:00<?, ?tasks/s]"
      ]
     },
     "metadata": {},
     "output_type": "display_data"
    },
    {
     "data": {
      "application/vnd.jupyter.widget-view+json": {
       "model_id": "526b7889afb94e9aa469190006773328",
       "version_major": 2,
       "version_minor": 0
      },
      "text/plain": [
       "sci_respone:   0%|          | 0/2 [00:00<?, ?tasks/s]"
      ]
     },
     "metadata": {},
     "output_type": "display_data"
    },
    {
     "name": "stdout",
     "output_type": "stream",
     "text": [
      "Stopping engine(s): 1711923950\n",
      "engine set stopped 1711923950: {'engines': {'0': {'exit_code': 1, 'pid': 7372, 'identifier': '0'}, '1': {'exit_code': 1, 'pid': 16448, 'identifier': '1'}}, 'exit_code': 1}\n",
      "Stopping controller\n",
      "Controller stopped: {'exit_code': 1, 'pid': 9704, 'identifier': 'ipcontroller-1711923948-y67w-7576'}\n"
     ]
    }
   ],
   "source": [
    "vsm.parallel_sci(dataset.query_vectors, dc=2)"
   ]
  }
 ],
 "metadata": {
  "interpreter": {
   "hash": "31f2aee4e71d21fbe5cf8b01ff0e069b9275f58929596ceb00d14d90e3e16cd6"
  },
  "kernelspec": {
   "display_name": "Python 3.8.10 64-bit",
   "language": "python",
   "name": "python3"
  },
  "language_info": {
   "codemirror_mode": {
    "name": "ipython",
    "version": 3
   },
   "file_extension": ".py",
   "mimetype": "text/x-python",
   "name": "python",
   "nbconvert_exporter": "python",
   "pygments_lexer": "ipython3",
   "version": "3.10.13"
  },
  "orig_nbformat": 4
 },
 "nbformat": 4,
 "nbformat_minor": 2
}
