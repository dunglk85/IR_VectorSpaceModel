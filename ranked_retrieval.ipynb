{
 "cells": [
  {
   "cell_type": "code",
   "execution_count": 13,
   "metadata": {
    "pycharm": {
     "is_executing": true,
     "name": "#%%\n"
    }
   },
   "outputs": [],
   "source": [
    "from load_data_json import LoadDataset \n",
    "from preprocess import VectorSpaceModel\n",
    "import numpy as np\n",
    "import time\n",
    "from sklearn.decomposition import TruncatedSVD\n",
    "from scipy.sparse.linalg import svds, eigsh"
   ]
  },
  {
   "cell_type": "markdown",
   "metadata": {
    "pycharm": {
     "name": "#%% md\n"
    }
   },
   "source": [
    "## Load the dataset\n",
    "Functions to load the dataset and the given queries with associated relevant documents."
   ]
  },
  {
   "cell_type": "code",
   "execution_count": 14,
   "metadata": {
    "pycharm": {
     "name": "#%%\n"
    }
   },
   "outputs": [],
   "source": [
    "dataset = LoadDataset(\"./data/med/med.json\", \"./data/med/queries.json\", \"./data/med/qrels-treceval.txt\")"
   ]
  },
  {
   "cell_type": "markdown",
   "metadata": {
    "pycharm": {
     "name": "#%% md\n"
    }
   },
   "source": [
    "# Vector Space Model ranked retrieval"
   ]
  },
  {
   "cell_type": "markdown",
   "metadata": {
    "pycharm": {
     "name": "#%% md\n"
    }
   },
   "source": [
    "Create the `vsm()` object."
   ]
  },
  {
   "cell_type": "code",
   "execution_count": 15,
   "metadata": {
    "pycharm": {
     "name": "#%%\n"
    }
   },
   "outputs": [],
   "source": [
    "vsm = VectorSpaceModel(dataset.doc_matrix)\n",
    "m, n = vsm.A.shape"
   ]
  },
  {
   "cell_type": "code",
   "execution_count": 16,
   "metadata": {},
   "outputs": [],
   "source": [
    "alpha, beta, q, a = vsm.preprocess(60)"
   ]
  },
  {
   "cell_type": "code",
   "execution_count": 17,
   "metadata": {},
   "outputs": [],
   "source": [
    "x, y = vsm.implicit_qr_algorithm(alpha, beta, tolerance=1e-10)"
   ]
  },
  {
   "cell_type": "code",
   "execution_count": 18,
   "metadata": {},
   "outputs": [
    {
     "data": {
      "text/plain": [
       "array([ 1.79715603e+01,  8.87678084e+00,  8.41932655e+00,  6.67574743e+00,\n",
       "        6.20844706e+00,  6.17561627e+00,  5.63539270e+00,  5.50441223e+00,\n",
       "        5.08545570e+00,  4.79266500e+00,  4.73060196e+00,  4.61355480e+00,\n",
       "        4.37681778e+00,  4.05523115e+00,  3.96647932e+00,  3.82021093e+00,\n",
       "        3.76811453e+00,  3.61501219e+00,  3.49158718e+00,  3.43350384e+00,\n",
       "        3.35422693e+00,  3.27766391e+00,  3.14918927e+00,  3.04526370e+00,\n",
       "        2.97514037e+00,  2.86874998e+00,  2.72196375e+00,  2.64022039e+00,\n",
       "        2.52369800e+00,  2.37850755e+00,  2.27308222e+00,  2.17446900e+00,\n",
       "        2.05274223e+00,  1.93106380e+00,  1.80739883e+00,  1.71493286e+00,\n",
       "        1.61236424e+00,  1.48666414e+00,  1.39144800e+00,  1.28512847e+00,\n",
       "        1.18078064e+00,  1.08672823e+00,  9.96193420e-01,  9.06521794e-01,\n",
       "        8.17742282e-01,  7.29988348e-01,  6.51955773e-01,  5.82232285e-01,\n",
       "        5.15064866e-01,  4.55034792e-01,  3.99673910e-01,  3.47250613e-01,\n",
       "        3.06416546e-01,  2.68646483e-01,  2.31850963e-01,  2.09698859e-01,\n",
       "        1.68155186e-01,  1.52527691e-01,  1.47698870e-02, -3.23455818e-01])"
      ]
     },
     "execution_count": 18,
     "metadata": {},
     "output_type": "execute_result"
    }
   ],
   "source": [
    "x"
   ]
  },
  {
   "cell_type": "code",
   "execution_count": 19,
   "metadata": {},
   "outputs": [],
   "source": [
    "u, s, vt = svds(vsm.A, k=50)"
   ]
  },
  {
   "cell_type": "code",
   "execution_count": 20,
   "metadata": {},
   "outputs": [
    {
     "data": {
      "text/plain": [
       "array([ 2.30418256,  2.31077417,  2.33276486,  2.34696991,  2.3740476 ,\n",
       "        2.41519653,  2.43360604,  2.4432937 ,  2.48253101,  2.51846777,\n",
       "        2.53682185,  2.57003502,  2.57427706,  2.63916856,  2.66066459,\n",
       "        2.69588556,  2.70762448,  2.7379868 ,  2.74990626,  2.80353877,\n",
       "        2.81682278,  2.87244349,  2.96739676,  2.97760444,  3.03786559,\n",
       "        3.04956265,  3.14935981,  3.1987133 ,  3.2778819 ,  3.35423259,\n",
       "        3.43351273,  3.49159178,  3.61501403,  3.76811452,  3.82021094,\n",
       "        3.96642204,  4.05528842,  4.37681778,  4.6135548 ,  4.73060196,\n",
       "        4.792665  ,  5.0854557 ,  5.50441223,  5.63539271,  6.17561213,\n",
       "        6.20844665,  6.67575198,  8.40962395,  8.88648343, 17.97156031])"
      ]
     },
     "execution_count": 20,
     "metadata": {},
     "output_type": "execute_result"
    }
   ],
   "source": [
    "s*s"
   ]
  },
  {
   "cell_type": "code",
   "execution_count": 21,
   "metadata": {},
   "outputs": [],
   "source": [
    "x = vsm.bisec_PDDP(3)"
   ]
  },
  {
   "cell_type": "code",
   "execution_count": 26,
   "metadata": {},
   "outputs": [
    {
     "data": {
      "text/plain": [
       "-0.006679750211821678"
      ]
     },
     "execution_count": 26,
     "metadata": {},
     "output_type": "execute_result"
    }
   ],
   "source": [
    "np.quantile(x,.45)"
   ]
  },
  {
   "cell_type": "code",
   "execution_count": 27,
   "metadata": {},
   "outputs": [
    {
     "data": {
      "text/plain": [
       "0.0010749943683274596"
      ]
     },
     "execution_count": 27,
     "metadata": {},
     "output_type": "execute_result"
    }
   ],
   "source": [
    "np.quantile(x,.55)"
   ]
  },
  {
   "cell_type": "code",
   "execution_count": 23,
   "metadata": {},
   "outputs": [
    {
     "data": {
      "text/plain": [
       "0.10870260057529049"
      ]
     },
     "execution_count": 23,
     "metadata": {},
     "output_type": "execute_result"
    }
   ],
   "source": [
    "np.max(x)"
   ]
  },
  {
   "cell_type": "code",
   "execution_count": 30,
   "metadata": {},
   "outputs": [],
   "source": [
    "median = np.median(x)"
   ]
  },
  {
   "cell_type": "code",
   "execution_count": 38,
   "metadata": {},
   "outputs": [
    {
     "data": {
      "text/plain": [
       "<517x1033 sparse matrix of type '<class 'numpy.float64'>'\n",
       "\twith 2350 stored elements in Compressed Sparse Column format>"
      ]
     },
     "execution_count": 38,
     "metadata": {},
     "output_type": "execute_result"
    }
   ],
   "source": [
    "left = np.where(x >= median)[0]\n",
    "vsm.A[left,:]"
   ]
  }
 ],
 "metadata": {
  "interpreter": {
   "hash": "31f2aee4e71d21fbe5cf8b01ff0e069b9275f58929596ceb00d14d90e3e16cd6"
  },
  "kernelspec": {
   "display_name": "Python 3.8.10 64-bit",
   "language": "python",
   "name": "python3"
  },
  "language_info": {
   "codemirror_mode": {
    "name": "ipython",
    "version": 3
   },
   "file_extension": ".py",
   "mimetype": "text/x-python",
   "name": "python",
   "nbconvert_exporter": "python",
   "pygments_lexer": "ipython3",
   "version": "3.10.13"
  },
  "orig_nbformat": 4
 },
 "nbformat": 4,
 "nbformat_minor": 2
}
