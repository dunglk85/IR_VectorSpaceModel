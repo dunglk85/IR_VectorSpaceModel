{
 "cells": [
  {
   "cell_type": "code",
   "execution_count": 1,
   "metadata": {},
   "outputs": [],
   "source": [
    "from load_data import LoadDataset \n",
    "from vsm import VectorSpaceModel\n"
   ]
  },
  {
   "cell_type": "markdown",
   "metadata": {},
   "source": [
    "## Load the dataset\n",
    "Functions to load the dataset and the given queries with associated relevant documents."
   ]
  },
  {
   "cell_type": "code",
   "execution_count": 2,
   "metadata": {},
   "outputs": [],
   "source": [
    "dataset = LoadDataset(\"./med_data/MED.ALL\", \"./med_data/MED.QRY\", \"./med_data/MED.REL\")\n",
    "\n",
    "docs = dataset.load_docs()\n",
    "queries = dataset.load_queries()\n",
    "relevance = dataset.load_relevance()"
   ]
  },
  {
   "cell_type": "markdown",
   "metadata": {},
   "source": [
    "# Vector Space Model ranked retrieval"
   ]
  },
  {
   "cell_type": "markdown",
   "metadata": {},
   "source": [
    "Create the `vsm()` object."
   ]
  },
  {
   "cell_type": "code",
   "execution_count": 3,
   "metadata": {},
   "outputs": [],
   "source": [
    "vsm = VectorSpaceModel(docs)"
   ]
  },
  {
   "cell_type": "code",
   "execution_count": 4,
   "metadata": {},
   "outputs": [
    {
     "name": "stdout",
     "output_type": "stream",
     "text": [
      "Number of documents in the collection:  1032\n",
      "Number of terms in the collection:  13391\n"
     ]
    }
   ],
   "source": [
    "print(\"Number of documents in the collection: \", vsm.n_docs)\n",
    "print(\"Number of terms in the collection: \", vsm.n_terms)"
   ]
  },
  {
   "cell_type": "code",
   "execution_count": 5,
   "metadata": {},
   "outputs": [
    {
     "name": "stdout",
     "output_type": "stream",
     "text": [
      "The inverted index of the collection: first 10 terms and first 10 documents per term\n",
      "Term:  correlation \tDocs:  [0, 385, 904, 394, 911, 147, 148, 153, 28, 291] \n",
      "\n",
      "Term:  between \tDocs:  [0, 1, 521, 527, 528, 535, 28, 31, 34, 43] \n",
      "\n",
      "Term:  maternal \tDocs:  [0, 4, 5, 11, 303, 706, 324, 326, 328, 331] \n",
      "\n",
      "Term:  and \tDocs:  [0, 1, 2, 3, 4, 5, 6, 7, 8, 9] \n",
      "\n",
      "Term:  fetal \tDocs:  [0, 1, 2, 3, 4, 5, 904, 11, 277, 936] \n",
      "\n",
      "Term:  plasma \tDocs:  [0, 1024, 4, 5, 516, 1031, 397, 273, 147, 149] \n",
      "\n",
      "Term:  levels \tDocs:  [0, 1, 1024, 3, 516, 9, 523, 525, 546, 37] \n",
      "\n",
      "Term:  of \tDocs:  [0, 1, 2, 3, 4, 5, 6, 7, 8, 9] \n",
      "\n",
      "Term:  glucose \tDocs:  [0, 640, 4, 518, 9, 146, 413, 297, 564, 181] \n",
      "\n",
      "Term:  free \tDocs:  [0, 385, 3, 4, 393, 11, 652, 275, 659, 281] \n",
      "\n"
     ]
    }
   ],
   "source": [
    "print(\"The inverted index of the collection: first 10 terms and first 10 documents per term\")\n",
    "for t, v in list(vsm.index.items())[:10]:\n",
    "    print(\"Term: \", t, \"\\tDocs: \", list(v)[:10], \"\\n\")"
   ]
  },
  {
   "cell_type": "markdown",
   "metadata": {},
   "source": [
    "Visualize the documents as vectors."
   ]
  },
  {
   "cell_type": "code",
   "execution_count": 6,
   "metadata": {},
   "outputs": [],
   "source": [
    "docs_vector = vsm.docs_as_vectors()"
   ]
  },
  {
   "cell_type": "code",
   "execution_count": 7,
   "metadata": {},
   "outputs": [
    {
     "data": {
      "text/plain": [
       "(1032, 13391)"
      ]
     },
     "execution_count": 7,
     "metadata": {},
     "output_type": "execute_result"
    }
   ],
   "source": [
    "docs_vector.shape"
   ]
  },
  {
   "cell_type": "markdown",
   "metadata": {},
   "source": [
    "Visualize the queries as vectors."
   ]
  },
  {
   "cell_type": "code",
   "execution_count": 8,
   "metadata": {},
   "outputs": [
    {
     "name": "stdout",
     "output_type": "stream",
     "text": [
      "Example query:   the crystalline lens in vertebrates including humans\n",
      "\n"
     ]
    }
   ],
   "source": [
    "example_query = queries[1]\n",
    "print(\"Example query: \", example_query)"
   ]
  },
  {
   "cell_type": "code",
   "execution_count": 9,
   "metadata": {},
   "outputs": [],
   "source": [
    "query_vector = vsm.query_as_vector(example_query)"
   ]
  },
  {
   "cell_type": "code",
   "execution_count": 10,
   "metadata": {},
   "outputs": [
    {
     "data": {
      "text/plain": [
       "(13391,)"
      ]
     },
     "execution_count": 10,
     "metadata": {},
     "output_type": "execute_result"
    }
   ],
   "source": [
    "query_vector.shape"
   ]
  },
  {
   "cell_type": "markdown",
   "metadata": {},
   "source": [
    "Compute the relevance scores as the cosine similarity."
   ]
  },
  {
   "cell_type": "code",
   "execution_count": 11,
   "metadata": {},
   "outputs": [
    {
     "name": "stdout",
     "output_type": "stream",
     "text": [
      " the crystalline lens in vertebrates including humans\n",
      "\n"
     ]
    }
   ],
   "source": [
    "scores = vsm.relevance_scores(example_query)"
   ]
  },
  {
   "cell_type": "code",
   "execution_count": 12,
   "metadata": {},
   "outputs": [
    {
     "name": "stdout",
     "output_type": "stream",
     "text": [
      "The relevance scores for the given query, for each document:\n",
      "DocID:  0 \tScore:  0.0014032417966615535 \n",
      "\n",
      "DocID:  1 \tScore:  0.00219209320430894 \n",
      "\n",
      "DocID:  2 \tScore:  0.0028177182779833415 \n",
      "\n",
      "DocID:  3 \tScore:  0.002592207814362385 \n",
      "\n",
      "DocID:  4 \tScore:  0.0023028674625397306 \n",
      "\n",
      "DocID:  5 \tScore:  0.004649004635595275 \n",
      "\n",
      "DocID:  6 \tScore:  0.003942636439281871 \n",
      "\n",
      "DocID:  7 \tScore:  0.0032190028663789693 \n",
      "\n",
      "DocID:  8 \tScore:  0.00013795678697045409 \n",
      "\n",
      "DocID:  9 \tScore:  0.002920021604681169 \n",
      "\n"
     ]
    }
   ],
   "source": [
    "print(\"The relevance scores for the given query, for each document:\")\n",
    "for d, s in list(scores.items())[:10]:\n",
    "    print(\"DocID: \", d, \"\\tScore: \", s, \"\\n\")"
   ]
  },
  {
   "cell_type": "markdown",
   "metadata": {},
   "source": [
    "Return the top 10 documents given the query."
   ]
  },
  {
   "cell_type": "code",
   "execution_count": 13,
   "metadata": {},
   "outputs": [
    {
     "name": "stdout",
     "output_type": "stream",
     "text": [
      " the crystalline lens in vertebrates including humans\n",
      "\n"
     ]
    }
   ],
   "source": [
    "k = 10\n",
    "top10 = vsm.vector_space_model(example_query, k)"
   ]
  },
  {
   "cell_type": "code",
   "execution_count": 14,
   "metadata": {},
   "outputs": [
    {
     "name": "stdout",
     "output_type": "stream",
     "text": [
      "The relevance scores for the top 10 documents:\n",
      "DocID:  71 \tScore:  0.3180694357629488 \n",
      "\n",
      "DocID:  499 \tScore:  0.22594730142540573 \n",
      "\n",
      "DocID:  170 \tScore:  0.1842523224171873 \n",
      "\n",
      "DocID:  14 \tScore:  0.1822016883555637 \n",
      "\n",
      "DocID:  165 \tScore:  0.1778324974124219 \n",
      "\n",
      "DocID:  512 \tScore:  0.17184035889935304 \n",
      "\n",
      "DocID:  180 \tScore:  0.15550121589189234 \n",
      "\n",
      "DocID:  510 \tScore:  0.14467894034360163 \n",
      "\n",
      "DocID:  166 \tScore:  0.14275038678813573 \n",
      "\n",
      "DocID:  211 \tScore:  0.14083698844959833 \n",
      "\n"
     ]
    }
   ],
   "source": [
    "print(f\"The relevance scores for the top {k} documents:\")\n",
    "for d, s in list(top10.items()):\n",
    "    print(\"DocID: \", d, \"\\tScore: \", s, \"\\n\")"
   ]
  },
  {
   "cell_type": "markdown",
   "metadata": {},
   "source": [
    "### Relevance Feedback"
   ]
  },
  {
   "cell_type": "code",
   "execution_count": 15,
   "metadata": {},
   "outputs": [
    {
     "name": "stdout",
     "output_type": "stream",
     "text": [
      "Relevant documents for the example query:  [13, 14, 15, 72, 79, 138, 142, 164, 165, 166, 167, 168, 169, 170, 171, 172, 180, 181, 182, 183, 184, 185, 186, 211, 212, 499, 500, 501, 502, 503, 504, 506, 507, 508, 510, 511, 513]\n"
     ]
    }
   ],
   "source": [
    "example_relevant = relevance[1]\n",
    "print(\"Relevant documents for the example query: \", example_relevant)"
   ]
  },
  {
   "cell_type": "code",
   "execution_count": 16,
   "metadata": {},
   "outputs": [
    {
     "name": "stdout",
     "output_type": "stream",
     "text": [
      "20 of the non relevant documents for the example query:  [0, 1, 2, 3, 4, 5, 6, 7, 8, 9, 10, 11, 12, 16, 17, 18, 19, 20, 21, 22]\n"
     ]
    }
   ],
   "source": [
    "example_non_relevant = [i for i in range(vsm.n_docs) if i not in example_relevant]\n",
    "print(\"20 of the non relevant documents for the example query: \", example_non_relevant[:20])"
   ]
  },
  {
   "cell_type": "code",
   "execution_count": 17,
   "metadata": {},
   "outputs": [
    {
     "data": {
      "text/plain": [
       "' the crystalline lens in vertebrates including humans\\n'"
      ]
     },
     "execution_count": 17,
     "metadata": {},
     "output_type": "execute_result"
    }
   ],
   "source": [
    "example_query"
   ]
  },
  {
   "cell_type": "code",
   "execution_count": 18,
   "metadata": {},
   "outputs": [],
   "source": [
    "opt_query = vsm.relevance_feedback_rocchio(example_query, example_relevant, example_non_relevant, alpha=1, beta=.75, gamma=.15)"
   ]
  },
  {
   "cell_type": "code",
   "execution_count": 19,
   "metadata": {},
   "outputs": [
    {
     "data": {
      "text/plain": [
       "array([0.11987246, 0.22220317, 0.        , ..., 0.        , 0.        ,\n",
       "       0.        ])"
      ]
     },
     "execution_count": 19,
     "metadata": {},
     "output_type": "execute_result"
    }
   ],
   "source": [
    "opt_query"
   ]
  },
  {
   "cell_type": "code",
   "execution_count": 20,
   "metadata": {},
   "outputs": [],
   "source": [
    "top10_rel = vsm.vector_space_model(opt_query, k)"
   ]
  },
  {
   "cell_type": "code",
   "execution_count": 21,
   "metadata": {},
   "outputs": [
    {
     "name": "stdout",
     "output_type": "stream",
     "text": [
      "The relevance scores for the top 10 documents retrieved using relevance feedback:\n",
      "DocID:  164 \tScore:  0.4539546587351573 \n",
      "\n",
      "DocID:  182 \tScore:  0.4465463177324617 \n",
      "\n",
      "DocID:  510 \tScore:  0.4216986241309285 \n",
      "\n",
      "DocID:  165 \tScore:  0.4118433502552803 \n",
      "\n",
      "DocID:  508 \tScore:  0.3808872079532394 \n",
      "\n",
      "DocID:  14 \tScore:  0.3806552548864776 \n",
      "\n",
      "DocID:  211 \tScore:  0.36540995700060924 \n",
      "\n",
      "DocID:  499 \tScore:  0.35611341099109584 \n",
      "\n",
      "DocID:  180 \tScore:  0.3426052596002855 \n",
      "\n",
      "DocID:  170 \tScore:  0.34015780315783806 \n",
      "\n"
     ]
    }
   ],
   "source": [
    "print(f\"The relevance scores for the top {k} documents retrieved using relevance feedback:\")\n",
    "for d, s in list(top10_rel.items()):\n",
    "    print(\"DocID: \", d, \"\\tScore: \", s, \"\\n\")"
   ]
  },
  {
   "cell_type": "markdown",
   "metadata": {},
   "source": [
    "### Pseudo-Relevance Feedback"
   ]
  },
  {
   "cell_type": "code",
   "execution_count": 22,
   "metadata": {},
   "outputs": [
    {
     "name": "stdout",
     "output_type": "stream",
     "text": [
      " the crystalline lens in vertebrates including humans\n",
      "\n"
     ]
    }
   ],
   "source": [
    "opt_query_pseudo = vsm.pseudo_relevance_feedback(example_query, k)"
   ]
  },
  {
   "cell_type": "code",
   "execution_count": 23,
   "metadata": {},
   "outputs": [
    {
     "data": {
      "text/plain": [
       "array([0.        , 0.26362056, 0.        , ..., 0.        , 0.        ,\n",
       "       0.        ])"
      ]
     },
     "execution_count": 23,
     "metadata": {},
     "output_type": "execute_result"
    }
   ],
   "source": [
    "opt_query_pseudo"
   ]
  },
  {
   "cell_type": "code",
   "execution_count": 24,
   "metadata": {},
   "outputs": [],
   "source": [
    "top10_pseudo = vsm.vector_space_model(opt_query_pseudo, k)"
   ]
  },
  {
   "cell_type": "code",
   "execution_count": 25,
   "metadata": {},
   "outputs": [
    {
     "name": "stdout",
     "output_type": "stream",
     "text": [
      "The relevance scores for the top 10 documents retrieved using relevance feedback:\n",
      "DocID:  14 \tScore:  0.5502137218779055 \n",
      "\n",
      "DocID:  211 \tScore:  0.534970201061323 \n",
      "\n",
      "DocID:  165 \tScore:  0.5273389363410856 \n",
      "\n",
      "DocID:  512 \tScore:  0.5021942950561238 \n",
      "\n",
      "DocID:  510 \tScore:  0.4617498452246454 \n",
      "\n",
      "DocID:  170 \tScore:  0.4358152703121938 \n",
      "\n",
      "DocID:  499 \tScore:  0.433676570996206 \n",
      "\n",
      "DocID:  180 \tScore:  0.41642546220907606 \n",
      "\n",
      "DocID:  71 \tScore:  0.402139798750616 \n",
      "\n",
      "DocID:  166 \tScore:  0.38839310134669797 \n",
      "\n"
     ]
    }
   ],
   "source": [
    "print(f\"The relevance scores for the top {k} documents retrieved using relevance feedback:\")\n",
    "for d, s in list(top10_pseudo.items()):\n",
    "    print(\"DocID: \", d, \"\\tScore: \", s, \"\\n\")"
   ]
  },
  {
   "cell_type": "markdown",
   "metadata": {},
   "source": [
    "### Performance evaluation"
   ]
  },
  {
   "cell_type": "code",
   "execution_count": null,
   "metadata": {},
   "outputs": [],
   "source": [
    "from evaluation import precision, recall"
   ]
  }
 ],
 "metadata": {
  "interpreter": {
   "hash": "31f2aee4e71d21fbe5cf8b01ff0e069b9275f58929596ceb00d14d90e3e16cd6"
  },
  "kernelspec": {
   "display_name": "Python 3.8.10 64-bit",
   "language": "python",
   "name": "python3"
  },
  "language_info": {
   "codemirror_mode": {
    "name": "ipython",
    "version": 3
   },
   "file_extension": ".py",
   "mimetype": "text/x-python",
   "name": "python",
   "nbconvert_exporter": "python",
   "pygments_lexer": "ipython3",
   "version": "3.8.10"
  },
  "orig_nbformat": 4
 },
 "nbformat": 4,
 "nbformat_minor": 2
}
