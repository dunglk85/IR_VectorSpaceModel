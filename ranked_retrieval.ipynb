{
 "cells": [
  {
   "cell_type": "code",
   "execution_count": 1,
   "metadata": {
    "pycharm": {
     "is_executing": true,
     "name": "#%%\n"
    }
   },
   "outputs": [],
   "source": [
    "from load_data_json import LoadDataset \n",
    "from preprocess import VectorSpaceModel\n",
    "from preprocess_restart import VectorSpaceModel2\n",
    "import numpy as np\n",
    "import time\n",
    "from sklearn.decomposition import TruncatedSVD\n",
    "from scipy.sparse.linalg import svds, eigsh\n",
    "import ipyparallel as ipp\n",
    "from scipy.sparse import diags\n"
   ]
  },
  {
   "cell_type": "markdown",
   "metadata": {
    "pycharm": {
     "name": "#%% md\n"
    }
   },
   "source": [
    "## Load the dataset\n",
    "Functions to load the dataset and the given queries with associated relevant documents."
   ]
  },
  {
   "cell_type": "code",
   "execution_count": 57,
   "metadata": {
    "pycharm": {
     "name": "#%%\n"
    }
   },
   "outputs": [],
   "source": [
    "dataset = LoadDataset(\"./data/npl/npl.json\", \"./data/npl/queries.json\", \"./data/npl/qrels-treceval.txt\",\"npl\")\n",
    "vsm = VectorSpaceModel(dataset.doc_matrix, dataset.name)\n",
    "vsm2 = VectorSpaceModel2(dataset.doc_matrix, dataset.name)"
   ]
  },
  {
   "cell_type": "code",
   "execution_count": 3,
   "metadata": {},
   "outputs": [
    {
     "data": {
      "text/plain": [
       "array([ 6, 15, 24])"
      ]
     },
     "execution_count": 3,
     "metadata": {},
     "output_type": "execute_result"
    }
   ],
   "source": [
    "matrix = np.array([[1, 2, 3],\n",
    "                   [4, 5, 6],\n",
    "                   [7, 8, 9]])\n",
    "\n",
    "# Sum of columns\n",
    "np.sum(matrix, axis=1)\n"
   ]
  },
  {
   "cell_type": "code",
   "execution_count": 80,
   "metadata": {},
   "outputs": [
    {
     "name": "stdout",
     "output_type": "stream",
     "text": [
      "211.25547006677417\n",
      "[-0.00352576 -0.00998948 -0.00631386 ... -0.01427679 -0.00417311\n",
      " -0.00188528]\n"
     ]
    },
    {
     "data": {
      "text/plain": [
       "0.0530092716217041"
      ]
     },
     "execution_count": 80,
     "metadata": {},
     "output_type": "execute_result"
    }
   ],
   "source": [
    "start = time.time()\n",
    "k=1\n",
    "u, s, vt = svds(vsm.A, k=k,return_singular_vectors='vh')\n",
    "print(s[-1]*s[-1])\n",
    "print(vt[-1,:].T)\n",
    "time.time() - start"
   ]
  },
  {
   "cell_type": "code",
   "execution_count": null,
   "metadata": {},
   "outputs": [],
   "source": [
    "I = np.eye(6)\n",
    "H = T[:7,:7].copy()\n",
    "for shift in values[:5]:\n",
    "    H -= shift*I\n",
    "    Q, R = n"
   ]
  },
  {
   "cell_type": "code",
   "execution_count": 13,
   "metadata": {},
   "outputs": [],
   "source": [
    "u, s, vt = svds(vsm.A, k=7)"
   ]
  },
  {
   "cell_type": "code",
   "execution_count": 14,
   "metadata": {},
   "outputs": [
    {
     "data": {
      "text/plain": [
       "array([ 50.13674506,  54.27794555,  55.45165415,  61.48276771,\n",
       "        70.24272285, 111.38258352, 211.25547007])"
      ]
     },
     "execution_count": 14,
     "metadata": {},
     "output_type": "execute_result"
    }
   ],
   "source": [
    "s*s"
   ]
  },
  {
   "cell_type": "code",
   "execution_count": null,
   "metadata": {},
   "outputs": [
    {
     "data": {
      "text/plain": [
       "1.3322676295501878e-15"
      ]
     },
     "execution_count": 11,
     "metadata": {},
     "output_type": "execute_result"
    }
   ],
   "source": [
    "def tridiagonal_QR_with_shift(T, shifts):\n",
    "    n = T.shape[0]\n",
    "    Q = np.eye(n)\n",
    "    R = T.copy()\n",
    "\n",
    "    for shift in shifts:\n",
    "        for k in range(n-1):\n",
    "            # Compute Givens rotation matrix\n",
    "            mu = (R[k, k] - shift) ** 2\n",
    "            nu = R[k+1, k] ** 2\n",
    "            r = np.sqrt(mu + nu)\n",
    "            c = (R[k, k] - shift) / r\n",
    "            s = R[k+1, k] / r\n",
    "\n",
    "            # Apply Givens rotation to eliminate R[k+1, k]\n",
    "            G = np.array([[c, -s],\n",
    "                          [s,  c]])\n",
    "            R_k_k_k_plus_1 = R[k:k+2, k:k+2]\n",
    "            R_k_k_k_plus_1 = G.T @ R_k_k_k_plus_1\n",
    "            R[k:k+2, k:k+2] = R_k_k_k_plus_1\n",
    "\n",
    "            # Accumulate Q\n",
    "            Q_k_k_k_plus_1 = Q[:, k:k+2]\n",
    "            Q[:, k:k+2] = Q_k_k_k_plus_1 @ G\n",
    "\n",
    "    return Q, R"
   ]
  },
  {
   "cell_type": "code",
   "execution_count": null,
   "metadata": {},
   "outputs": [
    {
     "name": "stdout",
     "output_type": "stream",
     "text": [
      "[ 0.         50.45623942 20.22016882 33.85506989 33.01771624 20.28061975\n",
      " 18.54457297 18.58114706 18.51656156 16.30654619 15.95429966 14.80736936\n",
      " 14.34389578 12.05434164 13.50437876 13.39641028 15.54741726 14.59683587\n",
      " 12.91042696 12.37223322 13.23556615]\n",
      "[ 0.         50.45623942 20.22016882 33.85506989 33.01771624 20.28061975\n",
      " 18.54457297 18.58114706 18.51656156 16.30654619 15.95429966 14.80736936\n",
      " 14.34389578 12.05434164 13.50437876 13.39641028 15.54741726 14.59683587\n",
      " 12.91042696 12.37223322 13.23556615]\n"
     ]
    },
    {
     "ename": "ValueError",
     "evalue": "matmul: Input operand 1 has a mismatch in its core dimension 0, with gufunc signature (n?,k),(k,m?)->(n?,m?) (size 9 is different from 20)",
     "output_type": "error",
     "traceback": [
      "\u001b[1;31m---------------------------------------------------------------------------\u001b[0m",
      "\u001b[1;31mValueError\u001b[0m                                Traceback (most recent call last)",
      "Cell \u001b[1;32mIn[6], line 10\u001b[0m\n\u001b[0;32m      8\u001b[0m \u001b[38;5;28mprint\u001b[39m(beta1)\n\u001b[0;32m      9\u001b[0m indices \u001b[38;5;241m=\u001b[39m (np\u001b[38;5;241m.\u001b[39margsort(ritz))[::\u001b[38;5;241m-\u001b[39m\u001b[38;5;241m1\u001b[39m]\n\u001b[1;32m---> 10\u001b[0m q[:,:\u001b[38;5;241m2\u001b[39m] \u001b[38;5;241m=\u001b[39m \u001b[43mq\u001b[49m\u001b[43m[\u001b[49m\u001b[43m:\u001b[49m\u001b[43m,\u001b[49m\u001b[43m:\u001b[49m\u001b[38;5;241;43m20\u001b[39;49m\u001b[43m]\u001b[49m\u001b[43m \u001b[49m\u001b[38;5;241;43m@\u001b[39;49m\u001b[43m \u001b[49m\u001b[43mr_vectors\u001b[49m\u001b[43m[\u001b[49m\u001b[43m:\u001b[49m\u001b[43m,\u001b[49m\u001b[43m \u001b[49m\u001b[43mindices\u001b[49m\u001b[43m[\u001b[49m\u001b[43m:\u001b[49m\u001b[38;5;241;43m2\u001b[39;49m\u001b[43m]\u001b[49m\u001b[43m]\u001b[49m\n\u001b[0;32m     11\u001b[0m alpha1[:\u001b[38;5;241m2\u001b[39m] \u001b[38;5;241m=\u001b[39m ritz[indices[:\u001b[38;5;241m2\u001b[39m]]\n\u001b[0;32m     13\u001b[0m beta1[\u001b[38;5;241m1\u001b[39m:\u001b[38;5;241m3\u001b[39m] \u001b[38;5;241m=\u001b[39m r_vectors[\u001b[38;5;241m19\u001b[39m,\u001b[38;5;241m0\u001b[39m:\u001b[38;5;241m2\u001b[39m]\n",
      "\u001b[1;31mValueError\u001b[0m: matmul: Input operand 1 has a mismatch in its core dimension 0, with gufunc signature (n?,k),(k,m?)->(n?,m?) (size 9 is different from 20)"
     ]
    }
   ],
   "source": [
    "alpha1, beta1, q = vsm.left_lanczos((vsm.A, 20, None))\n",
    "\n",
    "for j in range(5):\n",
    "    x=alpha1.copy()\n",
    "    y=beta1.copy()\n",
    "    print(beta1)\n",
    "    \n",
    "    print(beta1)\n",
    "    indices = (np.argsort(ritz))[::-1]\n",
    "    q[:,:2] = q[:,:20] @ r_vectors[:, indices[:2]]\n",
    "    alpha1[:2] = ritz[indices[:2]]\n",
    "    \n",
    "    beta1[1:3] = r_vectors[19,0:2]\n",
    "    \n",
    "    q[:,1] = q[:,20]\n",
    "    \n",
    "    for i in range(1, 20, 1):\n",
    "        q_hat = vsm.A.T.dot(q[:,i])\n",
    "        w = vsm.A.dot(q_hat) - alpha1[i] * q[:,i-1]\n",
    "        alpha1[i] = w.dot(q[:,i])\n",
    "\n",
    "        w = w - alpha1[i] * q[:,i]\n",
    "        if i == 19:\n",
    "            for k in range(i):\n",
    "                w = w - beta1[k+1] * q[:,k]\n",
    "        \n",
    "        beta1[i+1] = np.linalg.norm(w)\n",
    "        if beta1[i+1] == 0:\n",
    "            break\n",
    "        q[:,i+1] = w / beta1[i+1]\n",
    "print(ritz)"
   ]
  },
  {
   "cell_type": "code",
   "execution_count": null,
   "metadata": {},
   "outputs": [
    {
     "name": "stdout",
     "output_type": "stream",
     "text": [
      "[ 15.07324998 195.59731229  46.30998644  73.90444154  51.47449831\n",
      "  37.32209052  32.00205979  36.44492144  40.88579563  32.7193693\n",
      "  32.26858412  30.12062952  25.30269066  27.992616    26.20310685\n",
      "  27.24970072  31.29729673  27.57357592  26.84492181  26.14658263]\n",
      "[ 0.         51.57920914 18.15866744 31.611481   35.30124897 19.09607194\n",
      " 17.8646715  15.65649793 21.03779338 18.0615023  15.88423708 15.66212483\n",
      " 14.04171744 12.88713858 13.92534783 12.77042824 14.96734912 14.69369793\n",
      " 13.90155657 12.87402336]\n"
     ]
    }
   ],
   "source": [
    "alpha\n",
    "print(y)"
   ]
  },
  {
   "cell_type": "code",
   "execution_count": null,
   "metadata": {},
   "outputs": [
    {
     "data": {
      "text/plain": [
       "array([200.35944854,  24.53481433,  93.68388293,  51.47449831,\n",
       "        37.32209052,  32.00205979,  36.44492144,  40.88579563,\n",
       "        32.7193693 ,  32.26858412,  30.12062952,  25.30269066,\n",
       "        27.992616  ,  26.20310685,  27.24970072,  31.29729673,\n",
       "        27.57357592,  26.84492181,  26.14658263,  12.30684446])"
      ]
     },
     "execution_count": 7,
     "metadata": {},
     "output_type": "execute_result"
    }
   ],
   "source": [
    "ritz = \n",
    "ritz"
   ]
  },
  {
   "cell_type": "code",
   "execution_count": null,
   "metadata": {},
   "outputs": [
    {
     "data": {
      "text/plain": [
       "array([ 0,  2,  3,  7,  4,  6,  8,  9,  5, 15, 10, 12, 16, 14, 17, 13, 18,\n",
       "       11,  1, 19], dtype=int64)"
      ]
     },
     "execution_count": 8,
     "metadata": {},
     "output_type": "execute_result"
    }
   ],
   "source": [
    "(np.argsort(ritz))[::-1]"
   ]
  },
  {
   "cell_type": "code",
   "execution_count": null,
   "metadata": {},
   "outputs": [],
   "source": [
    "def qr_shift(alpha, beta, mu, q):\n",
    "    n = len(alpha)\n",
    "    x = alpha[0] - mu\n",
    "    z = beta[1]\n",
    "    for i in range(n - 1):\n",
    "        # Compute the Givens rotation\n",
    "        if x < 1e-10:\n",
    "            theta = np.pi/2\n",
    "        else:\n",
    "            theta = np.arctan(-z / x)\n",
    "        c = np.cos(theta)\n",
    "        s = np.sin(theta)\n",
    "        \n",
    "        beta[i] = c*beta[i] - s*z\n",
    "        if i < n - 2:\n",
    "            z = -s * beta[i+2]\n",
    "            beta[i+2] = c*beta[i+2]\n",
    "\n",
    "        tem_a_1 = alpha[i]\n",
    "        tem_a_2 = alpha[i+1]\n",
    "        alpha[i] = c*c * tem_a_1 - 2*c*s * beta[i+1] + s*s*tem_a_2\n",
    "        alpha[i+1] = s*s * tem_a_1 + 2*c*s * beta[i+1] + c*c*tem_a_2\n",
    "        beta[i+1] = s*c*(tem_a_1 - tem_a_2) + beta[i+1]*(c*c - s*s)\n",
    "        if beta[i+1] < 1e-10:\n",
    "            \n",
    "\n",
    "        x = beta[i+1]\n",
    "    return alpha, beta, q"
   ]
  },
  {
   "cell_type": "code",
   "execution_count": null,
   "metadata": {},
   "outputs": [],
   "source": []
  },
  {
   "cell_type": "code",
   "execution_count": null,
   "metadata": {},
   "outputs": [
    {
     "name": "stdout",
     "output_type": "stream",
     "text": [
      "[192.66370187  14.14761672  45.82224272 165.81697534  95.10301781]\n",
      "[ 1.11842947e-14 -2.35903450e-31  3.66538548e-15  6.36882745e+01\n",
      "  8.42656671e+01  5.09152547e+01]\n"
     ]
    }
   ],
   "source": [
    "print(x)\n",
    "print(y)"
   ]
  }
 ],
 "metadata": {
  "interpreter": {
   "hash": "31f2aee4e71d21fbe5cf8b01ff0e069b9275f58929596ceb00d14d90e3e16cd6"
  },
  "kernelspec": {
   "display_name": "Python 3.8.10 64-bit",
   "language": "python",
   "name": "python3"
  },
  "language_info": {
   "codemirror_mode": {
    "name": "ipython",
    "version": 3
   },
   "file_extension": ".py",
   "mimetype": "text/x-python",
   "name": "python",
   "nbconvert_exporter": "python",
   "pygments_lexer": "ipython3",
   "version": "3.10.13"
  },
  "orig_nbformat": 4
 },
 "nbformat": 4,
 "nbformat_minor": 2
}
