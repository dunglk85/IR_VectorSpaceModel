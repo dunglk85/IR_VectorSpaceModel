{
 "cells": [
  {
   "cell_type": "code",
   "execution_count": 1,
   "metadata": {
    "pycharm": {
     "is_executing": true,
     "name": "#%%\n"
    }
   },
   "outputs": [],
   "source": [
    "from load_data_json import LoadDataset \n",
    "from preprocess import VectorSpaceModel\n",
    "import numpy as np\n",
    "import time\n",
    "from sklearn.decomposition import TruncatedSVD"
   ]
  },
  {
   "cell_type": "markdown",
   "metadata": {
    "pycharm": {
     "name": "#%% md\n"
    }
   },
   "source": [
    "## Load the dataset\n",
    "Functions to load the dataset and the given queries with associated relevant documents."
   ]
  },
  {
   "cell_type": "code",
   "execution_count": 2,
   "metadata": {
    "pycharm": {
     "name": "#%%\n"
    }
   },
   "outputs": [],
   "source": [
    "dataset = LoadDataset(\"./data/med/med.json\", \"./data/med/queries.json\", \"./data/med/qrels-treceval.txt\")"
   ]
  },
  {
   "cell_type": "code",
   "execution_count": 3,
   "metadata": {},
   "outputs": [
    {
     "data": {
      "text/plain": [
       "0.004691013235037071"
      ]
     },
     "execution_count": 3,
     "metadata": {},
     "output_type": "execute_result"
    }
   ],
   "source": [
    "m,n = dataset.doc_matrix.shape\n",
    "dataset.doc_matrix.nnz/(m*n)"
   ]
  },
  {
   "cell_type": "code",
   "execution_count": 4,
   "metadata": {},
   "outputs": [],
   "source": [
    "epsilon = np.finfo(np.float64).eps\n",
    "sqrt_epsilon = np.sqrt(epsilon)\n",
    "v = np.random.rand(n)\n",
    "v = v / np.linalg.norm(v)"
   ]
  },
  {
   "cell_type": "code",
   "execution_count": 5,
   "metadata": {},
   "outputs": [],
   "source": [
    "def preprocess(k, A, v):\n",
    "    m, n = A.shape\n",
    "    q = [np.zeros(n) for i in range(k)]\n",
    "    beta = 0\n",
    "    alpha = 0\n",
    "    q[0] = v\n",
    "    memo = {}\n",
    "    for i in range(k-1):\n",
    "        q_hat = A.dot(q[i])\n",
    "        w = A.T.dot(q_hat) - beta * q[i-1]\n",
    "        alpha = w.dot(q[i])\n",
    "        w = w - alpha * q[i]\n",
    "        for j in range(i):\n",
    "            w_dotq = w @ q[j]\n",
    "            w = w - w_dotq * q[j]\n",
    "        beta = np.linalg.norm(w)\n",
    "        if beta == 0:\n",
    "            break\n",
    "        q[i+1] = w / beta\n",
    "    return q"
   ]
  },
  {
   "cell_type": "code",
   "execution_count": 6,
   "metadata": {},
   "outputs": [],
   "source": [
    "q = preprocess(300, dataset.doc_matrix, v)"
   ]
  },
  {
   "cell_type": "code",
   "execution_count": 7,
   "metadata": {},
   "outputs": [],
   "source": [
    "def response(q, query, A):\n",
    "    k = len(q)\n",
    "    s_hat = A.T.dot(query)\n",
    "    m, n = A.shape\n",
    "    s = np.zeros(n) \n",
    "    for i in range(k-1):\n",
    "        q_dot_query = q[i] @ s_hat\n",
    "        s = s + q_dot_query * q[i]\n",
    "\n",
    "    return s\n",
    "\n"
   ]
  },
  {
   "cell_type": "code",
   "execution_count": 8,
   "metadata": {},
   "outputs": [],
   "source": [
    "query = dataset.query_vectors[:,0]\n",
    "similaries = response(q, query, dataset.doc_matrix)"
   ]
  },
  {
   "cell_type": "code",
   "execution_count": 9,
   "metadata": {},
   "outputs": [
    {
     "data": {
      "text/plain": [
       "array([-0.00035625,  0.000507  ,  0.00445285, ..., -0.00360753,\n",
       "       -0.00189454, -0.00765391])"
      ]
     },
     "execution_count": 9,
     "metadata": {},
     "output_type": "execute_result"
    }
   ],
   "source": [
    "similaries"
   ]
  },
  {
   "cell_type": "code",
   "execution_count": null,
   "metadata": {},
   "outputs": [],
   "source": []
  },
  {
   "cell_type": "markdown",
   "metadata": {
    "pycharm": {
     "name": "#%% md\n"
    }
   },
   "source": [
    "# Vector Space Model ranked retrieval"
   ]
  },
  {
   "cell_type": "markdown",
   "metadata": {
    "pycharm": {
     "name": "#%% md\n"
    }
   },
   "source": [
    "Create the `vsm()` object."
   ]
  },
  {
   "cell_type": "code",
   "execution_count": 10,
   "metadata": {
    "pycharm": {
     "name": "#%%\n"
    }
   },
   "outputs": [],
   "source": [
    "vsm = VectorSpaceModel(dataset.doc_matrix)\n",
    "m, n = vsm.A.shape"
   ]
  },
  {
   "cell_type": "code",
   "execution_count": 11,
   "metadata": {},
   "outputs": [],
   "source": [
    "vsm.preprocess(150)"
   ]
  },
  {
   "cell_type": "code",
   "execution_count": 12,
   "metadata": {},
   "outputs": [
    {
     "data": {
      "text/plain": [
       "1.4901161193847656e-08"
      ]
     },
     "execution_count": 12,
     "metadata": {},
     "output_type": "execute_result"
    }
   ],
   "source": [
    "epsilon = np.finfo(np.float64).eps\n",
    "epsilon = np.sqrt(epsilon)\n",
    "epsilon"
   ]
  },
  {
   "cell_type": "code",
   "execution_count": 13,
   "metadata": {},
   "outputs": [
    {
     "name": "stdout",
     "output_type": "stream",
     "text": [
      "0.9999999999999999\n",
      "1.0\n",
      "1.0\n",
      "0.9999999999999997\n",
      "1.0\n"
     ]
    }
   ],
   "source": [
    "count = 0\n",
    "for i in range(5):\n",
    "    x = vsm.lanczos_vectors[i] @ vsm.lanczos_vectors[i]\n",
    "    print(x)"
   ]
  },
  {
   "cell_type": "code",
   "execution_count": 14,
   "metadata": {},
   "outputs": [],
   "source": [
    "svd = TruncatedSVD(n_components=50, n_iter=7, random_state=42)"
   ]
  },
  {
   "cell_type": "code",
   "execution_count": 15,
   "metadata": {},
   "outputs": [],
   "source": [
    "Ak = svd.fit_transform(vsm.A)"
   ]
  },
  {
   "cell_type": "code",
   "execution_count": 16,
   "metadata": {},
   "outputs": [
    {
     "data": {
      "text/plain": [
       "(50, 1033)"
      ]
     },
     "execution_count": 16,
     "metadata": {},
     "output_type": "execute_result"
    }
   ],
   "source": [
    "svd.components_.shape"
   ]
  },
  {
   "cell_type": "code",
   "execution_count": 17,
   "metadata": {},
   "outputs": [
    {
     "data": {
      "text/plain": [
       "array([[0.00660732, 0.01935342, 0.00466614, ..., 0.00988035, 0.00471508,\n",
       "        0.03267004]])"
      ]
     },
     "execution_count": 17,
     "metadata": {},
     "output_type": "execute_result"
    }
   ],
   "source": [
    "dataset.query_vectors[:,0].T.dot(Ak).dot(np.diag(svd.singular_values_)).dot(svd.components_)"
   ]
  },
  {
   "cell_type": "code",
   "execution_count": 18,
   "metadata": {},
   "outputs": [
    {
     "data": {
      "text/plain": [
       "2.220446049250313e-16"
      ]
     },
     "execution_count": 18,
     "metadata": {},
     "output_type": "execute_result"
    }
   ],
   "source": [
    "epsilon = np.finfo(np.float64).eps\n",
    "epsilon"
   ]
  },
  {
   "cell_type": "code",
   "execution_count": 19,
   "metadata": {},
   "outputs": [
    {
     "data": {
      "text/plain": [
       "(13004, 1033)"
      ]
     },
     "execution_count": 19,
     "metadata": {},
     "output_type": "execute_result"
    }
   ],
   "source": [
    "vsm.A.shape"
   ]
  },
  {
   "cell_type": "code",
   "execution_count": 20,
   "metadata": {},
   "outputs": [],
   "source": [
    "vsm.response(dataset.query_vectors[:,0])"
   ]
  },
  {
   "cell_type": "code",
   "execution_count": 21,
   "metadata": {},
   "outputs": [
    {
     "data": {
      "text/plain": [
       "array([ 71, 168, 167, 211, 163, 141, 184, 169,  14, 499, 183, 210, 512,\n",
       "       137, 171, 510, 166,  78,  12, 505, 180, 511, 170, 185, 179, 165,\n",
       "       181,  13, 509, 502, 500, 508, 504, 212,  73, 503, 506], dtype=int64)"
      ]
     },
     "execution_count": 21,
     "metadata": {},
     "output_type": "execute_result"
    }
   ],
   "source": [
    "vsm.scores\n",
    "scores = vsm.scores/vsm.norms\n",
    "sorted_indices = np.argsort(-np.abs(scores))\n",
    "sorted_indices[:37]"
   ]
  },
  {
   "cell_type": "code",
   "execution_count": 22,
   "metadata": {},
   "outputs": [
    {
     "data": {
      "text/plain": [
       "0.045748745910814466"
      ]
     },
     "execution_count": 22,
     "metadata": {},
     "output_type": "execute_result"
    }
   ],
   "source": [
    "vsm.scores[212]"
   ]
  },
  {
   "cell_type": "code",
   "execution_count": 23,
   "metadata": {},
   "outputs": [
    {
     "data": {
      "text/plain": [
       "[12,\n",
       " 13,\n",
       " 14,\n",
       " 71,\n",
       " 73,\n",
       " 78,\n",
       " 137,\n",
       " 141,\n",
       " 163,\n",
       " 165,\n",
       " 166,\n",
       " 167,\n",
       " 168,\n",
       " 169,\n",
       " 170,\n",
       " 171,\n",
       " 179,\n",
       " 180,\n",
       " 181,\n",
       " 183,\n",
       " 184,\n",
       " 185,\n",
       " 210,\n",
       " 211,\n",
       " 212,\n",
       " 499,\n",
       " 500,\n",
       " 502,\n",
       " 503,\n",
       " 504,\n",
       " 505,\n",
       " 506,\n",
       " 508,\n",
       " 509,\n",
       " 510,\n",
       " 511,\n",
       " 512]"
      ]
     },
     "execution_count": 23,
     "metadata": {},
     "output_type": "execute_result"
    }
   ],
   "source": [
    "sorted(sorted_indices[:37])"
   ]
  },
  {
   "cell_type": "code",
   "execution_count": 24,
   "metadata": {},
   "outputs": [],
   "source": [
    "x, y = vsm.implicit_qr_algorithm(vsm.alpha, vsm.beta, tolerance=1e-15)"
   ]
  },
  {
   "cell_type": "code",
   "execution_count": 29,
   "metadata": {},
   "outputs": [
    {
     "data": {
      "text/plain": [
       "array([ 1.79715603e+01,  8.88131985e+00,  8.41478754e+00,  6.67575157e+00,\n",
       "        6.20844678e+00,  6.17561241e+00,  5.63539267e+00,  5.50441227e+00,\n",
       "        5.08545570e+00,  4.79266500e+00,  4.73060196e+00,  4.61355480e+00,\n",
       "        4.37681778e+00,  4.05528828e+00,  3.96642218e+00,  3.82021092e+00,\n",
       "        3.76811455e+00,  3.61501403e+00,  3.49159178e+00,  3.43351273e+00,\n",
       "        3.35423259e+00,  3.27788190e+00,  3.19871330e+00,  3.14935981e+00,\n",
       "        3.04860642e+00,  3.03882182e+00,  2.97759312e+00,  2.96740808e+00,\n",
       "        2.87244349e+00,  2.81682278e+00,  2.80353877e+00,  2.74990625e+00,\n",
       "        2.73798681e+00,  2.70762448e+00,  2.69588556e+00,  2.66066459e+00,\n",
       "        2.63916856e+00,  2.57422117e+00,  2.57009090e+00,  2.53682185e+00,\n",
       "        2.51846777e+00,  2.48253101e+00,  2.44329348e+00,  2.43360626e+00,\n",
       "        2.41519653e+00,  2.37404760e+00,  2.34696990e+00,  2.33264604e+00,\n",
       "        2.31076316e+00,  2.30407268e+00,  2.29037494e+00,  2.26535010e+00,\n",
       "        2.24840170e+00,  2.22321574e+00,  2.20840937e+00,  2.19073173e+00,\n",
       "        2.15874334e+00,  2.12894036e+00,  2.11094777e+00,  2.09127874e+00,\n",
       "        2.05938804e+00,  2.04040863e+00,  2.00757653e+00,  1.97210424e+00,\n",
       "        1.95333460e+00,  1.93240540e+00,  1.89963819e+00,  1.87454331e+00,\n",
       "        1.84152412e+00,  1.81388124e+00,  1.78246306e+00,  1.76373507e+00,\n",
       "        1.73374190e+00,  1.71096737e+00,  1.67686740e+00,  1.64174590e+00,\n",
       "        1.61201272e+00,  1.58113583e+00,  1.55245829e+00,  1.52070311e+00,\n",
       "        1.49842599e+00,  1.46292626e+00,  1.43520877e+00,  1.40388723e+00,\n",
       "        1.37808679e+00,  1.34662677e+00,  1.31327949e+00,  1.28758463e+00,\n",
       "        1.25239784e+00,  1.23420290e+00,  1.19985769e+00,  1.17463887e+00,\n",
       "        1.14165085e+00,  1.11470000e+00,  1.08821572e+00,  1.05492286e+00,\n",
       "        1.02617359e+00,  1.00048290e+00,  9.72352939e-01,  9.46749618e-01,\n",
       "        9.16031938e-01,  8.91624965e-01,  8.67866692e-01,  8.40276897e-01,\n",
       "        8.17019693e-01,  7.90756014e-01,  7.67607623e-01,  7.45251801e-01,\n",
       "        7.14866445e-01,  6.94877235e-01,  6.72894842e-01,  6.48163253e-01,\n",
       "        6.27075461e-01,  6.05644645e-01,  5.82369004e-01,  5.62535278e-01,\n",
       "        5.43786806e-01,  5.20964928e-01,  5.02796672e-01,  4.84445832e-01,\n",
       "        4.68510868e-01,  4.47894707e-01,  4.32301028e-01,  4.14684809e-01,\n",
       "        4.01397210e-01,  3.86474082e-01,  3.68283811e-01,  3.56787967e-01,\n",
       "        3.44882619e-01,  3.27483612e-01,  3.16106147e-01,  3.03753421e-01,\n",
       "        2.95122418e-01,  2.82212328e-01,  2.73554840e-01,  2.66502632e-01,\n",
       "        2.57907704e-01,  2.47557510e-01,  2.45841337e-01,  2.38987849e-01,\n",
       "        2.29709462e-01,  2.25043604e-01,  2.13625699e-01,  2.11109182e-01,\n",
       "        1.99522573e-01,  1.70803828e-01,  1.67520665e-01,  1.52400138e-01,\n",
       "        1.47698870e-02, -2.23322248e-01])"
      ]
     },
     "execution_count": 29,
     "metadata": {},
     "output_type": "execute_result"
    }
   ],
   "source": [
    "x"
   ]
  },
  {
   "cell_type": "code",
   "execution_count": 26,
   "metadata": {},
   "outputs": [
    {
     "data": {
      "text/plain": [
       "1.0"
      ]
     },
     "execution_count": 26,
     "metadata": {},
     "output_type": "execute_result"
    }
   ],
   "source": [
    "y[:,2] @ y[:,2]"
   ]
  },
  {
   "cell_type": "code",
   "execution_count": 27,
   "metadata": {},
   "outputs": [
    {
     "data": {
      "text/plain": [
       "array([[ 5.07160131e-002, -3.50446204e-002,  2.58631248e-002, ...,\n",
       "        -1.36097989e-002,  8.51149399e-003, -2.21763294e-047],\n",
       "       [-2.66371983e-002,  2.57281248e-002, -2.05326927e-002, ...,\n",
       "         2.13595625e-002, -1.35081755e-002,  3.58711573e-047],\n",
       "       [-2.64995697e-001,  1.64287445e-001, -1.15341736e-001, ...,\n",
       "        -2.13618331e-002,  1.50891714e-002, -4.72639916e-047],\n",
       "       ...,\n",
       "       [ 0.00000000e+000,  0.00000000e+000,  4.43192161e-102, ...,\n",
       "        -2.72677639e-015,  6.16264558e-017,  1.53724983e-001],\n",
       "       [ 0.00000000e+000,  0.00000000e+000,  4.43639933e-103, ...,\n",
       "         3.81398605e-016, -9.65199842e-018, -3.84365136e-001],\n",
       "       [ 0.00000000e+000,  0.00000000e+000,  3.76948453e-104, ...,\n",
       "         1.58880523e-015, -5.39757408e-017,  9.07983100e-001]])"
      ]
     },
     "execution_count": 27,
     "metadata": {},
     "output_type": "execute_result"
    }
   ],
   "source": [
    "y[:,2:]"
   ]
  },
  {
   "cell_type": "code",
   "execution_count": 28,
   "metadata": {},
   "outputs": [
    {
     "ename": "AttributeError",
     "evalue": "'VectorSpaceModel' object has no attribute 'lsi_preprocess'",
     "output_type": "error",
     "traceback": [
      "\u001b[1;31m---------------------------------------------------------------------------\u001b[0m",
      "\u001b[1;31mAttributeError\u001b[0m                            Traceback (most recent call last)",
      "Cell \u001b[1;32mIn[28], line 1\u001b[0m\n\u001b[1;32m----> 1\u001b[0m u, s, v, lsi_norm \u001b[38;5;241m=\u001b[39m \u001b[43mvsm\u001b[49m\u001b[38;5;241;43m.\u001b[39;49m\u001b[43mlsi_preprocess\u001b[49m(\u001b[38;5;241m50\u001b[39m)\n",
      "\u001b[1;31mAttributeError\u001b[0m: 'VectorSpaceModel' object has no attribute 'lsi_preprocess'"
     ]
    }
   ],
   "source": [
    "u, s, v, lsi_norm = vsm.lsi_preprocess(50)"
   ]
  },
  {
   "cell_type": "code",
   "execution_count": null,
   "metadata": {},
   "outputs": [],
   "source": [
    "u = u[:,::-1]; s = s[::-1]; v = v[::-1,:]"
   ]
  },
  {
   "cell_type": "code",
   "execution_count": null,
   "metadata": {},
   "outputs": [
    {
     "data": {
      "text/plain": [
       "array([17.97156031,  8.88648343,  8.40962395,  6.67575198,  6.20844665,\n",
       "        6.17561213,  5.63539271,  5.50441223,  5.0854557 ,  4.792665  ,\n",
       "        4.73060196,  4.6135548 ,  4.37681778,  4.05528842,  3.96642204,\n",
       "        3.82021094,  3.76811452,  3.61501403,  3.49159178,  3.43351273,\n",
       "        3.35423259,  3.2778819 ,  3.1987133 ,  3.14935981,  3.04956265,\n",
       "        3.03786559,  2.97760444,  2.96739676,  2.87244349,  2.81682278,\n",
       "        2.80353877,  2.74990626,  2.7379868 ,  2.70762448,  2.69588556,\n",
       "        2.66066459,  2.63916856,  2.57427706,  2.57003502,  2.53682185,\n",
       "        2.51846777,  2.48253101,  2.4432937 ,  2.43360604,  2.41519653,\n",
       "        2.3740476 ,  2.34696991,  2.33276486,  2.31077417,  2.30418256])"
      ]
     },
     "execution_count": 73,
     "metadata": {},
     "output_type": "execute_result"
    }
   ],
   "source": [
    "s*s"
   ]
  },
  {
   "cell_type": "code",
   "execution_count": null,
   "metadata": {},
   "outputs": [
    {
     "data": {
      "text/plain": [
       "matrix([[-1.23851086e-03, -6.77642271e-03,  1.75600675e-03, ...,\n",
       "         -2.73971600e-03,  3.23002952e-04,  4.62797551e-04],\n",
       "        [ 3.24747405e-04,  1.86588899e-05,  6.66474952e-04, ...,\n",
       "         -1.90873216e-04,  9.47459340e-04, -3.32363139e-04],\n",
       "        [ 3.85245188e-04, -2.16897563e-03, -1.74493466e-03, ...,\n",
       "         -8.78831343e-04, -1.85708090e-03,  8.11170417e-04],\n",
       "        ...,\n",
       "        [-2.48408938e-03, -7.39168914e-04, -7.38590473e-04, ...,\n",
       "         -5.38463431e-04,  8.40047347e-04, -1.30317090e-03],\n",
       "        [ 3.21195300e-04, -4.56321554e-04, -5.16076834e-04, ...,\n",
       "         -1.35420452e-03, -6.13147852e-05,  3.53526526e-04],\n",
       "        [ 1.47942354e-03, -1.32830014e-03,  6.10283709e-03, ...,\n",
       "          1.65419214e-03, -2.33065922e-03, -3.41978820e-03]])"
      ]
     },
     "execution_count": 29,
     "metadata": {},
     "output_type": "execute_result"
    }
   ],
   "source": [
    "u.dot(np.diag(s)).dot(v) - vsm.A"
   ]
  },
  {
   "cell_type": "code",
   "execution_count": null,
   "metadata": {},
   "outputs": [
    {
     "data": {
      "text/plain": [
       "<13004x1033 sparse matrix of type '<class 'numpy.float64'>'\n",
       "\twith 63015 stored elements in Compressed Sparse Column format>"
      ]
     },
     "execution_count": 30,
     "metadata": {},
     "output_type": "execute_result"
    }
   ],
   "source": [
    "vsm.A"
   ]
  },
  {
   "cell_type": "code",
   "execution_count": null,
   "metadata": {},
   "outputs": [
    {
     "data": {
      "text/plain": [
       "array([0.00892056, 0.0121185 , 0.00450396, ..., 0.00237615, 0.00534256,\n",
       "       0.00943086])"
      ]
     },
     "execution_count": 31,
     "metadata": {},
     "output_type": "execute_result"
    }
   ],
   "source": [
    "vsm.scores"
   ]
  },
  {
   "cell_type": "code",
   "execution_count": null,
   "metadata": {},
   "outputs": [
    {
     "data": {
      "text/plain": [
       "array([[-0.00069021, -0.00829348,  0.00223858, ..., -0.00834512,\n",
       "         0.00210829,  0.01657744]])"
      ]
     },
     "execution_count": 32,
     "metadata": {},
     "output_type": "execute_result"
    }
   ],
   "source": [
    "res = vsm.lsi_response(u, s, v, dataset.query_vectors[:,0])\n",
    "res "
   ]
  },
  {
   "cell_type": "code",
   "execution_count": null,
   "metadata": {},
   "outputs": [
    {
     "data": {
      "text/plain": [
       "2.220446049250313e-16"
      ]
     },
     "execution_count": 33,
     "metadata": {},
     "output_type": "execute_result"
    }
   ],
   "source": [
    "epsilon = np.finfo(np.float64).eps\n",
    "epsilon"
   ]
  },
  {
   "cell_type": "code",
   "execution_count": null,
   "metadata": {},
   "outputs": [],
   "source": [
    "scores = vsm.scores[::-1]\n"
   ]
  },
  {
   "cell_type": "code",
   "execution_count": null,
   "metadata": {},
   "outputs": [
    {
     "data": {
      "text/plain": [
       "0.7528123726726272"
      ]
     },
     "execution_count": 35,
     "metadata": {},
     "output_type": "execute_result"
    }
   ],
   "source": [
    "np.linalg.norm(scores - res)"
   ]
  },
  {
   "cell_type": "code",
   "execution_count": null,
   "metadata": {},
   "outputs": [
    {
     "data": {
      "text/plain": [
       "array([[-0.00082315, -0.01119094,  0.00291302, ..., -0.01268348,\n",
       "         0.00344351,  0.02385357]])"
      ]
     },
     "execution_count": 36,
     "metadata": {},
     "output_type": "execute_result"
    }
   ],
   "source": [
    "res/lsi_norm"
   ]
  },
  {
   "cell_type": "code",
   "execution_count": null,
   "metadata": {},
   "outputs": [
    {
     "data": {
      "text/plain": [
       "array([0.06722867, 0.07689126, 0.03923905, ..., 0.01376622, 0.07265981,\n",
       "       0.05847602])"
      ]
     },
     "execution_count": 37,
     "metadata": {},
     "output_type": "execute_result"
    }
   ],
   "source": [
    "vsm.scores/np.sqrt(vsm.norms)"
   ]
  },
  {
   "cell_type": "code",
   "execution_count": null,
   "metadata": {},
   "outputs": [],
   "source": []
  },
  {
   "cell_type": "code",
   "execution_count": null,
   "metadata": {},
   "outputs": [
    {
     "data": {
      "text/plain": [
       "2.8809720581775866"
      ]
     },
     "execution_count": 38,
     "metadata": {},
     "output_type": "execute_result"
    }
   ],
   "source": [
    "np.sqrt(8.30)"
   ]
  }
 ],
 "metadata": {
  "interpreter": {
   "hash": "31f2aee4e71d21fbe5cf8b01ff0e069b9275f58929596ceb00d14d90e3e16cd6"
  },
  "kernelspec": {
   "display_name": "Python 3.8.10 64-bit",
   "language": "python",
   "name": "python3"
  },
  "language_info": {
   "codemirror_mode": {
    "name": "ipython",
    "version": 3
   },
   "file_extension": ".py",
   "mimetype": "text/x-python",
   "name": "python",
   "nbconvert_exporter": "python",
   "pygments_lexer": "ipython3",
   "version": "3.10.13"
  },
  "orig_nbformat": 4
 },
 "nbformat": 4,
 "nbformat_minor": 2
}
