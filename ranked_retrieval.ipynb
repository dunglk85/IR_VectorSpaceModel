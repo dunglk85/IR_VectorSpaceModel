{
 "cells": [
  {
   "cell_type": "code",
   "execution_count": 1,
   "metadata": {},
   "outputs": [],
   "source": [
    "from load_data import LoadDataset \n",
    "from vsm import VectorSpaceModel"
   ]
  },
  {
   "cell_type": "markdown",
   "metadata": {},
   "source": [
    "## Load the dataset\n",
    "Functions to load the dataset and the given queries with associated relevant documents."
   ]
  },
  {
   "cell_type": "code",
   "execution_count": 2,
   "metadata": {},
   "outputs": [],
   "source": [
    "dataset = LoadDataset(\"./med_data/MED.ALL\", \"./med_data/MED.QRY\", \"./med_data/MED.REL\")\n",
    "\n",
    "docs = dataset.load_docs()\n",
    "queries = dataset.load_queries()\n",
    "relevance = dataset.load_relevance()"
   ]
  },
  {
   "cell_type": "markdown",
   "metadata": {},
   "source": [
    "# Vector Space Model ranked retrieval"
   ]
  },
  {
   "cell_type": "markdown",
   "metadata": {},
   "source": [
    "Create the `vsm()` object."
   ]
  },
  {
   "cell_type": "code",
   "execution_count": 3,
   "metadata": {},
   "outputs": [],
   "source": [
    "vsm = VectorSpaceModel(docs)"
   ]
  },
  {
   "cell_type": "code",
   "execution_count": 5,
   "metadata": {},
   "outputs": [
    {
     "name": "stdout",
     "output_type": "stream",
     "text": [
      "Number of documents in the collection:  1032\n",
      "Number of terms in the collection:  9685\n"
     ]
    }
   ],
   "source": [
    "print(\"Number of documents in the collection: \", vsm.n_docs)\n",
    "print(\"Number of terms in the collection: \", vsm.n_terms)"
   ]
  },
  {
   "cell_type": "code",
   "execution_count": 6,
   "metadata": {},
   "outputs": [
    {
     "name": "stdout",
     "output_type": "stream",
     "text": [
      "The inverted index of the collection: first 10 terms and first 10 documents per term\n",
      "Term:  correl \tDocs:  [0, 385, 904, 905, 394, 911, 147, 148, 277, 153] \n",
      "\n",
      "Term:  matern \tDocs:  [0, 4, 5, 11, 303, 706, 324, 326, 328, 331] \n",
      "\n",
      "Term:  fetal \tDocs:  [0, 1, 2, 3, 4, 5, 904, 11, 277, 936] \n",
      "\n",
      "Term:  plasma \tDocs:  [0, 1024, 4, 5, 516, 1031, 397, 273, 147, 149] \n",
      "\n",
      "Term:  level \tDocs:  [0, 1, 1024, 3, 516, 517, 9, 523, 524, 525] \n",
      "\n",
      "Term:  glucos \tDocs:  [0, 640, 4, 518, 9, 146, 413, 297, 564, 181] \n",
      "\n",
      "Term:  free \tDocs:  [0, 385, 3, 4, 393, 11, 652, 275, 659, 281] \n",
      "\n",
      "Term:  fatti \tDocs:  [0, 386, 4, 5, 6, 7, 9, 137, 157, 158] \n",
      "\n",
      "Term:  acid \tDocs:  [0, 1, 4, 5, 6, 7, 520, 9, 1030, 526] \n",
      "\n",
      "Term:  coeffici \tDocs:  [0, 40, 305, 401, 532, 501, 502, 628, 507] \n",
      "\n"
     ]
    }
   ],
   "source": [
    "print(\"The inverted index of the collection: first 10 terms and first 10 documents per term\")\n",
    "for t, v in list(vsm.index.items())[:10]:\n",
    "    print(\"Term: \", t, \"\\tDocs: \", list(v)[:10], \"\\n\")"
   ]
  },
  {
   "cell_type": "markdown",
   "metadata": {},
   "source": [
    "Visualize the documents as vectors."
   ]
  },
  {
   "cell_type": "code",
   "execution_count": 7,
   "metadata": {},
   "outputs": [],
   "source": [
    "docs_vector = vsm.docs_as_vectors()"
   ]
  },
  {
   "cell_type": "code",
   "execution_count": 8,
   "metadata": {},
   "outputs": [
    {
     "data": {
      "text/plain": [
       "(1032, 9685)"
      ]
     },
     "execution_count": 8,
     "metadata": {},
     "output_type": "execute_result"
    }
   ],
   "source": [
    "docs_vector.shape"
   ]
  },
  {
   "cell_type": "markdown",
   "metadata": {},
   "source": [
    "Visualize the queries as vectors."
   ]
  },
  {
   "cell_type": "code",
   "execution_count": 9,
   "metadata": {},
   "outputs": [
    {
     "name": "stdout",
     "output_type": "stream",
     "text": [
      "Example query:   the crystalline lens in vertebrates including humans\n"
     ]
    }
   ],
   "source": [
    "example_query = queries[1]\n",
    "print(\"Example query: \", example_query)"
   ]
  },
  {
   "cell_type": "code",
   "execution_count": 10,
   "metadata": {},
   "outputs": [],
   "source": [
    "query_vector = vsm.query_as_vector(example_query)"
   ]
  },
  {
   "cell_type": "code",
   "execution_count": 11,
   "metadata": {},
   "outputs": [
    {
     "data": {
      "text/plain": [
       "(9685,)"
      ]
     },
     "execution_count": 11,
     "metadata": {},
     "output_type": "execute_result"
    }
   ],
   "source": [
    "query_vector.shape"
   ]
  },
  {
   "cell_type": "markdown",
   "metadata": {},
   "source": [
    "Compute the relevance scores as the cosine similarity."
   ]
  },
  {
   "cell_type": "code",
   "execution_count": 12,
   "metadata": {},
   "outputs": [],
   "source": [
    "scores = vsm.relevance_scores(example_query)"
   ]
  },
  {
   "cell_type": "code",
   "execution_count": 13,
   "metadata": {},
   "outputs": [
    {
     "name": "stdout",
     "output_type": "stream",
     "text": [
      "The relevance scores for the given query, for each document:\n",
      "DocID:  0 \tScore:  0 \n",
      "\n",
      "DocID:  1 \tScore:  0 \n",
      "\n",
      "DocID:  2 \tScore:  0 \n",
      "\n",
      "DocID:  3 \tScore:  0.021291796307282396 \n",
      "\n",
      "DocID:  4 \tScore:  0 \n",
      "\n",
      "DocID:  5 \tScore:  0 \n",
      "\n",
      "DocID:  6 \tScore:  0 \n",
      "\n",
      "DocID:  7 \tScore:  0 \n",
      "\n",
      "DocID:  8 \tScore:  0.056132485052834566 \n",
      "\n",
      "DocID:  9 \tScore:  0 \n",
      "\n"
     ]
    }
   ],
   "source": [
    "print(\"The relevance scores for the given query, for each document:\")\n",
    "for d, s in list(scores.items())[:10]:\n",
    "    print(\"DocID: \", d, \"\\tScore: \", s, \"\\n\")"
   ]
  },
  {
   "cell_type": "markdown",
   "metadata": {},
   "source": [
    "Return the top 10 documents given the query."
   ]
  },
  {
   "cell_type": "code",
   "execution_count": 14,
   "metadata": {},
   "outputs": [],
   "source": [
    "k = 10\n",
    "top10 = vsm.vector_space_model(example_query, k)"
   ]
  },
  {
   "cell_type": "code",
   "execution_count": 15,
   "metadata": {},
   "outputs": [
    {
     "name": "stdout",
     "output_type": "stream",
     "text": [
      "The relevance scores for the top 10 documents:\n",
      "DocID:  71 \tScore:  0.32326427430871757 \n",
      "\n",
      "DocID:  499 \tScore:  0.2662094450787526 \n",
      "\n",
      "DocID:  180 \tScore:  0.2179920012480751 \n",
      "\n",
      "DocID:  170 \tScore:  0.19139097770770058 \n",
      "\n",
      "DocID:  14 \tScore:  0.19027283535863754 \n",
      "\n",
      "DocID:  964 \tScore:  0.18674186882310087 \n",
      "\n",
      "DocID:  165 \tScore:  0.18475982417434741 \n",
      "\n",
      "DocID:  512 \tScore:  0.17601476449236989 \n",
      "\n",
      "DocID:  137 \tScore:  0.16698722946249522 \n",
      "\n",
      "DocID:  359 \tScore:  0.1503014631326245 \n",
      "\n"
     ]
    }
   ],
   "source": [
    "print(f\"The relevance scores for the top {k} documents:\")\n",
    "for d, s in list(top10.items()):\n",
    "    print(\"DocID: \", d, \"\\tScore: \", s, \"\\n\")"
   ]
  },
  {
   "cell_type": "markdown",
   "metadata": {},
   "source": [
    "### Relevance Feedback"
   ]
  },
  {
   "cell_type": "code",
   "execution_count": 16,
   "metadata": {},
   "outputs": [
    {
     "name": "stdout",
     "output_type": "stream",
     "text": [
      "Relevant documents for the example query:  [13, 14, 15, 72, 79, 138, 142, 164, 165, 166, 167, 168, 169, 170, 171, 172, 180, 181, 182, 183, 184, 185, 186, 211, 212, 499, 500, 501, 502, 503, 504, 506, 507, 508, 510, 511, 513]\n"
     ]
    }
   ],
   "source": [
    "example_relevant = relevance[1]\n",
    "print(\"Relevant documents for the example query: \", example_relevant)"
   ]
  },
  {
   "cell_type": "code",
   "execution_count": 17,
   "metadata": {},
   "outputs": [
    {
     "name": "stdout",
     "output_type": "stream",
     "text": [
      "20 of the non relevant documents for the example query:  [0, 1, 2, 3, 4, 5, 6, 7, 8, 9, 10, 11, 12, 16, 17, 18, 19, 20, 21, 22]\n"
     ]
    }
   ],
   "source": [
    "example_non_relevant = [i for i in range(vsm.n_docs) if i not in example_relevant]\n",
    "print(\"20 of the non relevant documents for the example query: \", example_non_relevant[:20])"
   ]
  },
  {
   "cell_type": "code",
   "execution_count": 18,
   "metadata": {},
   "outputs": [
    {
     "data": {
      "text/plain": [
       "' the crystalline lens in vertebrates including humans'"
      ]
     },
     "execution_count": 18,
     "metadata": {},
     "output_type": "execute_result"
    }
   ],
   "source": [
    "example_query"
   ]
  },
  {
   "cell_type": "code",
   "execution_count": 19,
   "metadata": {},
   "outputs": [],
   "source": [
    "opt_query = vsm.relevance_feedback_rocchio(example_query, example_relevant, example_non_relevant, alpha=1, beta=.75, gamma=.15)"
   ]
  },
  {
   "cell_type": "code",
   "execution_count": 20,
   "metadata": {},
   "outputs": [
    {
     "data": {
      "text/plain": [
       "array([0.08659579, 0.        , 0.05318372, ..., 0.        , 0.        ,\n",
       "       0.        ])"
      ]
     },
     "execution_count": 20,
     "metadata": {},
     "output_type": "execute_result"
    }
   ],
   "source": [
    "opt_query"
   ]
  },
  {
   "cell_type": "code",
   "execution_count": 21,
   "metadata": {},
   "outputs": [],
   "source": [
    "top10_rel = vsm.vector_space_model(opt_query, k)"
   ]
  },
  {
   "cell_type": "code",
   "execution_count": 22,
   "metadata": {},
   "outputs": [
    {
     "name": "stdout",
     "output_type": "stream",
     "text": [
      "The relevance scores for the top 10 documents retrieved using relevance feedback:\n",
      "DocID:  164 \tScore:  0.48137913344181765 \n",
      "\n",
      "DocID:  182 \tScore:  0.46978869223488456 \n",
      "\n",
      "DocID:  510 \tScore:  0.45063041448047125 \n",
      "\n",
      "DocID:  508 \tScore:  0.4363811684084592 \n",
      "\n",
      "DocID:  165 \tScore:  0.4323930904084311 \n",
      "\n",
      "DocID:  499 \tScore:  0.4113570032705428 \n",
      "\n",
      "DocID:  180 \tScore:  0.40039072181203417 \n",
      "\n",
      "DocID:  503 \tScore:  0.39874443901547724 \n",
      "\n",
      "DocID:  14 \tScore:  0.3824796119419261 \n",
      "\n",
      "DocID:  12 \tScore:  0.3790946134701084 \n",
      "\n"
     ]
    }
   ],
   "source": [
    "print(f\"The relevance scores for the top {k} documents retrieved using relevance feedback:\")\n",
    "for d, s in list(top10_rel.items()):\n",
    "    print(\"DocID: \", d, \"\\tScore: \", s, \"\\n\")"
   ]
  },
  {
   "cell_type": "markdown",
   "metadata": {},
   "source": [
    "### Pseudo-Relevance Feedback"
   ]
  },
  {
   "cell_type": "code",
   "execution_count": 23,
   "metadata": {},
   "outputs": [],
   "source": [
    "opt_query_pseudo = vsm.pseudo_relevance_feedback(example_query, k)"
   ]
  },
  {
   "cell_type": "code",
   "execution_count": 24,
   "metadata": {},
   "outputs": [
    {
     "data": {
      "text/plain": [
       "array([0., 0., 0., ..., 0., 0., 0.])"
      ]
     },
     "execution_count": 24,
     "metadata": {},
     "output_type": "execute_result"
    }
   ],
   "source": [
    "opt_query_pseudo"
   ]
  },
  {
   "cell_type": "code",
   "execution_count": 25,
   "metadata": {},
   "outputs": [],
   "source": [
    "top10_pseudo = vsm.vector_space_model(opt_query_pseudo, k)"
   ]
  },
  {
   "cell_type": "code",
   "execution_count": 26,
   "metadata": {},
   "outputs": [
    {
     "name": "stdout",
     "output_type": "stream",
     "text": [
      "The relevance scores for the top 10 documents retrieved using relevance feedback:\n",
      "DocID:  14 \tScore:  0.5571136148407742 \n",
      "\n",
      "DocID:  165 \tScore:  0.5392188837587554 \n",
      "\n",
      "DocID:  512 \tScore:  0.5216182443784564 \n",
      "\n",
      "DocID:  499 \tScore:  0.48581512098078977 \n",
      "\n",
      "DocID:  180 \tScore:  0.46169998787542205 \n",
      "\n",
      "DocID:  170 \tScore:  0.4382538945134972 \n",
      "\n",
      "DocID:  71 \tScore:  0.4340505106725038 \n",
      "\n",
      "DocID:  964 \tScore:  0.3458494017629007 \n",
      "\n",
      "DocID:  137 \tScore:  0.3081767502378574 \n",
      "\n",
      "DocID:  12 \tScore:  0.30238538545091015 \n",
      "\n"
     ]
    }
   ],
   "source": [
    "print(f\"The relevance scores for the top {k} documents retrieved using relevance feedback:\")\n",
    "for d, s in list(top10_pseudo.items()):\n",
    "    print(\"DocID: \", d, \"\\tScore: \", s, \"\\n\")"
   ]
  },
  {
   "cell_type": "markdown",
   "metadata": {},
   "source": [
    "### Performance evaluation"
   ]
  },
  {
   "cell_type": "code",
   "execution_count": 27,
   "metadata": {},
   "outputs": [],
   "source": [
    "import numpy as np"
   ]
  },
  {
   "cell_type": "markdown",
   "metadata": {},
   "source": [
    "Computing precision and recall for the given set of queries and relevant documents."
   ]
  },
  {
   "cell_type": "code",
   "execution_count": 28,
   "metadata": {},
   "outputs": [],
   "source": [
    "map = dict()\n",
    "prec = dict()\n",
    "rec = dict()\n",
    "\n",
    "min_k = 1\n",
    "max_k = max([len(i) for i in relevance.values()])\n",
    "prec, rec = vsm.precision_recall(queries, relevance, min_k, max_k)"
   ]
  },
  {
   "cell_type": "code",
   "execution_count": 29,
   "metadata": {},
   "outputs": [],
   "source": [
    "prec_rel, rec_rel = vsm.precision_recall(queries, relevance, min_k, max_k, rel_feedback=True)"
   ]
  },
  {
   "cell_type": "code",
   "execution_count": 30,
   "metadata": {},
   "outputs": [],
   "source": [
    "prec_pseudo, rec_pseudo = vsm.precision_recall(queries, relevance, min_k, max_k, pseudo_feedback=True)"
   ]
  },
  {
   "cell_type": "markdown",
   "metadata": {},
   "source": [
    "### Average precision and recall and Mean Average Precision (MAP)"
   ]
  },
  {
   "cell_type": "code",
   "execution_count": 51,
   "metadata": {},
   "outputs": [],
   "source": [
    "def max_avg_prec(precision, queries, relevance):\n",
    "    map = 0\n",
    "    for qid in list(queries.keys()):\n",
    "        ap = 0\n",
    "        mj = len(relevance[qid])\n",
    "        for k in range(1, mj+1):\n",
    "            ap += precision[k][qid-1]\n",
    "        map += ap / mj\n",
    "    map /= len(queries.keys())\n",
    "    return map"
   ]
  },
  {
   "cell_type": "markdown",
   "metadata": {},
   "source": [
    "1. For the \"standard\" case"
   ]
  },
  {
   "cell_type": "code",
   "execution_count": 35,
   "metadata": {},
   "outputs": [
    {
     "name": "stdout",
     "output_type": "stream",
     "text": [
      "K=5\tAverage Precision: 0.503448275862069\t Average Recall: 0.11395175215691679\n",
      "K=6\tAverage Precision: 0.4655172413793103\t Average Recall: 0.12483155309319811\n",
      "K=7\tAverage Precision: 0.46305418719211816\t Average Recall: 0.14337418082648914\n",
      "K=8\tAverage Precision: 0.46120689655172414\t Average Recall: 0.1659212856714537\n",
      "K=9\tAverage Precision: 0.46360153256704983\t Average Recall: 0.18679401309215715\n",
      "K=10\tAverage Precision: 0.4517241379310344\t Average Recall: 0.20097312896568442\n",
      "K=11\tAverage Precision: 0.43573667711598746\t Average Recall: 0.21166300603487181\n",
      "K=12\tAverage Precision: 0.43103448275862066\t Average Recall: 0.22714717062724096\n",
      "K=13\tAverage Precision: 0.42175066312997345\t Average Recall: 0.2384472828718809\n",
      "K=14\tAverage Precision: 0.4137931034482758\t Average Recall: 0.25252164901521257\n"
     ]
    }
   ],
   "source": [
    "for k in range(5, 15):\n",
    "    print(f\"K={k}\\tAverage Precision: {np.mean(prec[k])}\\t Average Recall: {np.mean(rec[k])}\")"
   ]
  },
  {
   "cell_type": "code",
   "execution_count": 52,
   "metadata": {},
   "outputs": [],
   "source": [
    "map = max_avg_prec(prec, queries, relevance)"
   ]
  },
  {
   "cell_type": "code",
   "execution_count": 53,
   "metadata": {},
   "outputs": [
    {
     "name": "stdout",
     "output_type": "stream",
     "text": [
      "MAP: 0.4228927833802282\n"
     ]
    }
   ],
   "source": [
    "print(f\"MAP: {map}\")"
   ]
  },
  {
   "cell_type": "markdown",
   "metadata": {},
   "source": [
    "2. Allowing relevance feedback - considering as relevant the known set of relevant documents"
   ]
  },
  {
   "cell_type": "code",
   "execution_count": 38,
   "metadata": {},
   "outputs": [
    {
     "name": "stdout",
     "output_type": "stream",
     "text": [
      "K=5\tAverage Precision: 0.9172413793103448\t Average Recall: 0.2259688792497819\n",
      "K=6\tAverage Precision: 0.8908045977011494\t Average Recall: 0.26360931783474817\n",
      "K=7\tAverage Precision: 0.8817733990147785\t Average Recall: 0.30121053704042383\n",
      "K=8\tAverage Precision: 0.8663793103448276\t Average Recall: 0.3363296597984857\n",
      "K=9\tAverage Precision: 0.8467432950191571\t Average Recall: 0.368287866895632\n",
      "K=10\tAverage Precision: 0.8275862068965518\t Average Recall: 0.39942616343523646\n",
      "K=11\tAverage Precision: 0.8181818181818181\t Average Recall: 0.431523824895975\n",
      "K=12\tAverage Precision: 0.8103448275862069\t Average Recall: 0.4632116637954667\n",
      "K=13\tAverage Precision: 0.8010610079575597\t Average Recall: 0.49229007439212685\n",
      "K=14\tAverage Precision: 0.7807881773399015\t Average Recall: 0.5135820192750348\n"
     ]
    }
   ],
   "source": [
    "for k in range(5, 15):\n",
    "    print(f\"K={k}\\tAverage Precision: {np.mean(prec_rel[k])}\\t Average Recall: {np.mean(rec_rel[k])}\")"
   ]
  },
  {
   "cell_type": "code",
   "execution_count": 54,
   "metadata": {},
   "outputs": [],
   "source": [
    "map_rel = max_avg_prec(prec_rel, queries, relevance)"
   ]
  },
  {
   "cell_type": "code",
   "execution_count": 55,
   "metadata": {},
   "outputs": [
    {
     "name": "stdout",
     "output_type": "stream",
     "text": [
      "MAP allowing relevance feedback: 0.848416517934991\n"
     ]
    }
   ],
   "source": [
    "print(f\"MAP allowing relevance feedback: {map_rel}\")"
   ]
  },
  {
   "cell_type": "markdown",
   "metadata": {},
   "source": [
    "3. Allowing pseudo-relevance feedback - considering as relevant the top 10 documents retrieved"
   ]
  },
  {
   "cell_type": "code",
   "execution_count": 41,
   "metadata": {},
   "outputs": [
    {
     "name": "stdout",
     "output_type": "stream",
     "text": [
      "K=5\tAverage Precision: 0.5310344827586208\t Average Recall: 0.12755112785498454\n",
      "K=6\tAverage Precision: 0.5344827586206896\t Average Recall: 0.148454437690337\n",
      "K=7\tAverage Precision: 0.5172413793103449\t Average Recall: 0.16565389279110007\n",
      "K=8\tAverage Precision: 0.5129310344827587\t Average Recall: 0.18757374105678404\n",
      "K=9\tAverage Precision: 0.5019157088122606\t Average Recall: 0.20422723440468876\n",
      "K=10\tAverage Precision: 0.47931034482758617\t Average Recall: 0.21431363584067403\n",
      "K=11\tAverage Precision: 0.47335423197492155\t Average Recall: 0.23456118450677207\n",
      "K=12\tAverage Precision: 0.471264367816092\t Average Recall: 0.2541660393702476\n",
      "K=13\tAverage Precision: 0.46949602122015915\t Average Recall: 0.2736465964035369\n",
      "K=14\tAverage Precision: 0.4679802955665024\t Average Recall: 0.29401879622502075\n"
     ]
    }
   ],
   "source": [
    "for k in range(5, 15):\n",
    "    print(f\"K={k}\\tAverage Precision: {np.mean(prec_pseudo[k])}\\t Average Recall: {np.mean(rec_pseudo[k])}\")"
   ]
  },
  {
   "cell_type": "code",
   "execution_count": 56,
   "metadata": {},
   "outputs": [],
   "source": [
    "map_pseudo = max_avg_prec(prec_pseudo, queries, relevance)"
   ]
  },
  {
   "cell_type": "code",
   "execution_count": 57,
   "metadata": {},
   "outputs": [
    {
     "name": "stdout",
     "output_type": "stream",
     "text": [
      "MAP allowing pseudo-relevance feedback: 0.4928729975303682\n"
     ]
    }
   ],
   "source": [
    "print(f\"MAP allowing pseudo-relevance feedback: {map_pseudo}\")"
   ]
  }
 ],
 "metadata": {
  "interpreter": {
   "hash": "31f2aee4e71d21fbe5cf8b01ff0e069b9275f58929596ceb00d14d90e3e16cd6"
  },
  "kernelspec": {
   "display_name": "Python 3.8.10 64-bit",
   "language": "python",
   "name": "python3"
  },
  "language_info": {
   "codemirror_mode": {
    "name": "ipython",
    "version": 3
   },
   "file_extension": ".py",
   "mimetype": "text/x-python",
   "name": "python",
   "nbconvert_exporter": "python",
   "pygments_lexer": "ipython3",
   "version": "3.8.10"
  },
  "orig_nbformat": 4
 },
 "nbformat": 4,
 "nbformat_minor": 2
}
