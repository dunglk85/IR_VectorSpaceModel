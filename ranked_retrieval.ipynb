{
 "cells": [
  {
   "cell_type": "code",
   "execution_count": 2,
   "metadata": {
    "pycharm": {
     "is_executing": true,
     "name": "#%%\n"
    }
   },
   "outputs": [],
   "source": [
    "from load_data_json import LoadDataset \n",
    "from preprocess import VectorSpaceModel\n",
    "import numpy as np\n",
    "import time\n",
    "from sklearn.decomposition import TruncatedSVD\n",
    "from scipy.sparse.linalg import svds, eigsh"
   ]
  },
  {
   "cell_type": "markdown",
   "metadata": {
    "pycharm": {
     "name": "#%% md\n"
    }
   },
   "source": [
    "## Load the dataset\n",
    "Functions to load the dataset and the given queries with associated relevant documents."
   ]
  },
  {
   "cell_type": "code",
   "execution_count": 5,
   "metadata": {
    "pycharm": {
     "name": "#%%\n"
    }
   },
   "outputs": [],
   "source": [
    "dataset = LoadDataset(\"./data/npl/npl.json\", \"./data/npl/queries.json\", \"./data/npl/qrels-treceval.txt\",\"npl\")"
   ]
  },
  {
   "cell_type": "markdown",
   "metadata": {
    "pycharm": {
     "name": "#%% md\n"
    }
   },
   "source": [
    "# Vector Space Model ranked retrieval"
   ]
  },
  {
   "cell_type": "markdown",
   "metadata": {
    "pycharm": {
     "name": "#%% md\n"
    }
   },
   "source": [
    "Create the `vsm()` object."
   ]
  },
  {
   "cell_type": "code",
   "execution_count": 4,
   "metadata": {
    "pycharm": {
     "name": "#%%\n"
    }
   },
   "outputs": [],
   "source": [
    "vsm = VectorSpaceModel(dataset.doc_matrix, dataset.name)"
   ]
  },
  {
   "cell_type": "code",
   "execution_count": null,
   "metadata": {},
   "outputs": [],
   "source": [
    "vsm.sequential_lsi_scipy(dataset.query_vectors)"
   ]
  },
  {
   "cell_type": "code",
   "execution_count": null,
   "metadata": {},
   "outputs": [
    {
     "name": "stdout",
     "output_type": "stream",
     "text": [
      "Starting 2 engines with <class 'ipyparallel.cluster.launcher.LocalEngineSetLauncher'>\n"
     ]
    },
    {
     "data": {
      "application/vnd.jupyter.widget-view+json": {
       "model_id": "cfe5dd5a6e7b41f5b22cecc295c4c1db",
       "version_major": 2,
       "version_minor": 0
      },
      "text/plain": [
       "  0%|          | 0/2 [00:00<?, ?engine/s]"
      ]
     },
     "metadata": {},
     "output_type": "display_data"
    },
    {
     "data": {
      "application/vnd.jupyter.widget-view+json": {
       "model_id": "0c57eb5b76e543529b71355088ed93e5",
       "version_major": 2,
       "version_minor": 0
      },
      "text/plain": [
       "<lambda>:   0%|          | 0/2 [00:00<?, ?tasks/s]"
      ]
     },
     "metadata": {},
     "output_type": "display_data"
    },
    {
     "data": {
      "application/vnd.jupyter.widget-view+json": {
       "model_id": "119073efcd23460f9a424cf2b15207ca",
       "version_major": 2,
       "version_minor": 0
      },
      "text/plain": [
       "sci_respone:   0%|          | 0/2 [00:00<?, ?tasks/s]"
      ]
     },
     "metadata": {},
     "output_type": "display_data"
    },
    {
     "data": {
      "application/vnd.jupyter.widget-view+json": {
       "model_id": "e3bd4ffac50241658cd4d1d9562b4633",
       "version_major": 2,
       "version_minor": 0
      },
      "text/plain": [
       "sci_respone:   0%|          | 0/2 [00:00<?, ?tasks/s]"
      ]
     },
     "metadata": {},
     "output_type": "display_data"
    },
    {
     "data": {
      "application/vnd.jupyter.widget-view+json": {
       "model_id": "fd17e21c45ce4720a3a61e7cd5ce201a",
       "version_major": 2,
       "version_minor": 0
      },
      "text/plain": [
       "sci_respone:   0%|          | 0/2 [00:00<?, ?tasks/s]"
      ]
     },
     "metadata": {},
     "output_type": "display_data"
    },
    {
     "data": {
      "application/vnd.jupyter.widget-view+json": {
       "model_id": "89ff55027b8e415da8ed01764c47ac42",
       "version_major": 2,
       "version_minor": 0
      },
      "text/plain": [
       "sci_respone:   0%|          | 0/2 [00:00<?, ?tasks/s]"
      ]
     },
     "metadata": {},
     "output_type": "display_data"
    },
    {
     "data": {
      "application/vnd.jupyter.widget-view+json": {
       "model_id": "c718a28ca605401eb161a00de215b0e3",
       "version_major": 2,
       "version_minor": 0
      },
      "text/plain": [
       "sci_respone:   0%|          | 0/2 [00:00<?, ?tasks/s]"
      ]
     },
     "metadata": {},
     "output_type": "display_data"
    },
    {
     "data": {
      "application/vnd.jupyter.widget-view+json": {
       "model_id": "3979282ad1164d0dbc95ffa15f2b6626",
       "version_major": 2,
       "version_minor": 0
      },
      "text/plain": [
       "sci_respone:   0%|          | 0/2 [00:00<?, ?tasks/s]"
      ]
     },
     "metadata": {},
     "output_type": "display_data"
    },
    {
     "data": {
      "application/vnd.jupyter.widget-view+json": {
       "model_id": "764873a936414f0e9efdaa0baa903f5b",
       "version_major": 2,
       "version_minor": 0
      },
      "text/plain": [
       "sci_respone:   0%|          | 0/2 [00:00<?, ?tasks/s]"
      ]
     },
     "metadata": {},
     "output_type": "display_data"
    },
    {
     "data": {
      "application/vnd.jupyter.widget-view+json": {
       "model_id": "56f94904647c42539a03c6e07c635c86",
       "version_major": 2,
       "version_minor": 0
      },
      "text/plain": [
       "sci_respone:   0%|          | 0/2 [00:00<?, ?tasks/s]"
      ]
     },
     "metadata": {},
     "output_type": "display_data"
    },
    {
     "data": {
      "application/vnd.jupyter.widget-view+json": {
       "model_id": "b9231675f8ea47a6bf84a6119d8f404e",
       "version_major": 2,
       "version_minor": 0
      },
      "text/plain": [
       "sci_respone:   0%|          | 0/2 [00:00<?, ?tasks/s]"
      ]
     },
     "metadata": {},
     "output_type": "display_data"
    },
    {
     "data": {
      "application/vnd.jupyter.widget-view+json": {
       "model_id": "246569356e424dd9819f48bcb4d52c0e",
       "version_major": 2,
       "version_minor": 0
      },
      "text/plain": [
       "sci_respone:   0%|          | 0/2 [00:00<?, ?tasks/s]"
      ]
     },
     "metadata": {},
     "output_type": "display_data"
    },
    {
     "data": {
      "application/vnd.jupyter.widget-view+json": {
       "model_id": "b23aaa9d702946f9b9e77be9b51ee390",
       "version_major": 2,
       "version_minor": 0
      },
      "text/plain": [
       "sci_respone:   0%|          | 0/2 [00:00<?, ?tasks/s]"
      ]
     },
     "metadata": {},
     "output_type": "display_data"
    },
    {
     "data": {
      "application/vnd.jupyter.widget-view+json": {
       "model_id": "d2c5ccaaa64e420b8e1bbb3bdce6eccd",
       "version_major": 2,
       "version_minor": 0
      },
      "text/plain": [
       "sci_respone:   0%|          | 0/2 [00:00<?, ?tasks/s]"
      ]
     },
     "metadata": {},
     "output_type": "display_data"
    },
    {
     "data": {
      "application/vnd.jupyter.widget-view+json": {
       "model_id": "a854e9a453de44ebaef370a1a3cb93fb",
       "version_major": 2,
       "version_minor": 0
      },
      "text/plain": [
       "sci_respone:   0%|          | 0/2 [00:00<?, ?tasks/s]"
      ]
     },
     "metadata": {},
     "output_type": "display_data"
    },
    {
     "data": {
      "application/vnd.jupyter.widget-view+json": {
       "model_id": "3d2b4248a32a45fd99daef74f2b0ac0b",
       "version_major": 2,
       "version_minor": 0
      },
      "text/plain": [
       "sci_respone:   0%|          | 0/2 [00:00<?, ?tasks/s]"
      ]
     },
     "metadata": {},
     "output_type": "display_data"
    },
    {
     "data": {
      "application/vnd.jupyter.widget-view+json": {
       "model_id": "3e2a99752301439684d8af9009fc1a3c",
       "version_major": 2,
       "version_minor": 0
      },
      "text/plain": [
       "sci_respone:   0%|          | 0/2 [00:00<?, ?tasks/s]"
      ]
     },
     "metadata": {},
     "output_type": "display_data"
    },
    {
     "data": {
      "application/vnd.jupyter.widget-view+json": {
       "model_id": "9a8c7e76a0864d42898d3853f0a90520",
       "version_major": 2,
       "version_minor": 0
      },
      "text/plain": [
       "sci_respone:   0%|          | 0/2 [00:00<?, ?tasks/s]"
      ]
     },
     "metadata": {},
     "output_type": "display_data"
    },
    {
     "data": {
      "application/vnd.jupyter.widget-view+json": {
       "model_id": "464acc8cd6564570a26cc878fc46c1ed",
       "version_major": 2,
       "version_minor": 0
      },
      "text/plain": [
       "sci_respone:   0%|          | 0/2 [00:00<?, ?tasks/s]"
      ]
     },
     "metadata": {},
     "output_type": "display_data"
    },
    {
     "data": {
      "application/vnd.jupyter.widget-view+json": {
       "model_id": "0921874a0bd743719e45e006b64afc54",
       "version_major": 2,
       "version_minor": 0
      },
      "text/plain": [
       "sci_respone:   0%|          | 0/2 [00:00<?, ?tasks/s]"
      ]
     },
     "metadata": {},
     "output_type": "display_data"
    },
    {
     "data": {
      "application/vnd.jupyter.widget-view+json": {
       "model_id": "c9cfbbb791a94344b20fb5a2cd6236af",
       "version_major": 2,
       "version_minor": 0
      },
      "text/plain": [
       "sci_respone:   0%|          | 0/2 [00:00<?, ?tasks/s]"
      ]
     },
     "metadata": {},
     "output_type": "display_data"
    },
    {
     "data": {
      "application/vnd.jupyter.widget-view+json": {
       "model_id": "64f020a49d9346cbb78f6d1f49cfe383",
       "version_major": 2,
       "version_minor": 0
      },
      "text/plain": [
       "sci_respone:   0%|          | 0/2 [00:00<?, ?tasks/s]"
      ]
     },
     "metadata": {},
     "output_type": "display_data"
    },
    {
     "data": {
      "application/vnd.jupyter.widget-view+json": {
       "model_id": "ace9da152d3040bba7bc7955fac7b50d",
       "version_major": 2,
       "version_minor": 0
      },
      "text/plain": [
       "sci_respone:   0%|          | 0/2 [00:00<?, ?tasks/s]"
      ]
     },
     "metadata": {},
     "output_type": "display_data"
    },
    {
     "data": {
      "application/vnd.jupyter.widget-view+json": {
       "model_id": "47f0fa9fafb545e0829ea4c940b69d5b",
       "version_major": 2,
       "version_minor": 0
      },
      "text/plain": [
       "sci_respone:   0%|          | 0/2 [00:00<?, ?tasks/s]"
      ]
     },
     "metadata": {},
     "output_type": "display_data"
    },
    {
     "data": {
      "application/vnd.jupyter.widget-view+json": {
       "model_id": "6813474ad35f4f999aec23918b0049ae",
       "version_major": 2,
       "version_minor": 0
      },
      "text/plain": [
       "sci_respone:   0%|          | 0/2 [00:00<?, ?tasks/s]"
      ]
     },
     "metadata": {},
     "output_type": "display_data"
    },
    {
     "data": {
      "application/vnd.jupyter.widget-view+json": {
       "model_id": "370f72f12af84575bc04346cde119935",
       "version_major": 2,
       "version_minor": 0
      },
      "text/plain": [
       "sci_respone:   0%|          | 0/2 [00:00<?, ?tasks/s]"
      ]
     },
     "metadata": {},
     "output_type": "display_data"
    },
    {
     "data": {
      "application/vnd.jupyter.widget-view+json": {
       "model_id": "66b52fb5087b4d7eb50048ac675001d7",
       "version_major": 2,
       "version_minor": 0
      },
      "text/plain": [
       "sci_respone:   0%|          | 0/2 [00:00<?, ?tasks/s]"
      ]
     },
     "metadata": {},
     "output_type": "display_data"
    },
    {
     "data": {
      "application/vnd.jupyter.widget-view+json": {
       "model_id": "63592d89a7d7408fba0e303292bbfa17",
       "version_major": 2,
       "version_minor": 0
      },
      "text/plain": [
       "sci_respone:   0%|          | 0/2 [00:00<?, ?tasks/s]"
      ]
     },
     "metadata": {},
     "output_type": "display_data"
    },
    {
     "data": {
      "application/vnd.jupyter.widget-view+json": {
       "model_id": "337ea3c92ca54d2683d39f56845b8c36",
       "version_major": 2,
       "version_minor": 0
      },
      "text/plain": [
       "sci_respone:   0%|          | 0/2 [00:00<?, ?tasks/s]"
      ]
     },
     "metadata": {},
     "output_type": "display_data"
    },
    {
     "data": {
      "application/vnd.jupyter.widget-view+json": {
       "model_id": "78272f467ec745449fa21ffde103a008",
       "version_major": 2,
       "version_minor": 0
      },
      "text/plain": [
       "sci_respone:   0%|          | 0/2 [00:00<?, ?tasks/s]"
      ]
     },
     "metadata": {},
     "output_type": "display_data"
    },
    {
     "data": {
      "application/vnd.jupyter.widget-view+json": {
       "model_id": "b817fbbefdd8412297d515e0e2631498",
       "version_major": 2,
       "version_minor": 0
      },
      "text/plain": [
       "sci_respone:   0%|          | 0/2 [00:00<?, ?tasks/s]"
      ]
     },
     "metadata": {},
     "output_type": "display_data"
    },
    {
     "data": {
      "application/vnd.jupyter.widget-view+json": {
       "model_id": "946b24ce449342e9bb86ccba64546d51",
       "version_major": 2,
       "version_minor": 0
      },
      "text/plain": [
       "sci_respone:   0%|          | 0/2 [00:00<?, ?tasks/s]"
      ]
     },
     "metadata": {},
     "output_type": "display_data"
    },
    {
     "data": {
      "application/vnd.jupyter.widget-view+json": {
       "model_id": "97219e325ce14691b58c6633603af420",
       "version_major": 2,
       "version_minor": 0
      },
      "text/plain": [
       "<lambda>:   0%|          | 0/2 [00:00<?, ?tasks/s]"
      ]
     },
     "metadata": {},
     "output_type": "display_data"
    },
    {
     "data": {
      "application/vnd.jupyter.widget-view+json": {
       "model_id": "dbe39fb77e724adf82d0e477569c7924",
       "version_major": 2,
       "version_minor": 0
      },
      "text/plain": [
       "sci_respone:   0%|          | 0/2 [00:00<?, ?tasks/s]"
      ]
     },
     "metadata": {},
     "output_type": "display_data"
    },
    {
     "data": {
      "application/vnd.jupyter.widget-view+json": {
       "model_id": "b125d7f37bd843cf94eb7910a5ab59ba",
       "version_major": 2,
       "version_minor": 0
      },
      "text/plain": [
       "sci_respone:   0%|          | 0/2 [00:00<?, ?tasks/s]"
      ]
     },
     "metadata": {},
     "output_type": "display_data"
    },
    {
     "data": {
      "application/vnd.jupyter.widget-view+json": {
       "model_id": "ad010ff018cb436f997bdd38fa3c96c6",
       "version_major": 2,
       "version_minor": 0
      },
      "text/plain": [
       "sci_respone:   0%|          | 0/2 [00:00<?, ?tasks/s]"
      ]
     },
     "metadata": {},
     "output_type": "display_data"
    },
    {
     "data": {
      "application/vnd.jupyter.widget-view+json": {
       "model_id": "6117569f87a5495d87c0f32f9d2bd9d8",
       "version_major": 2,
       "version_minor": 0
      },
      "text/plain": [
       "sci_respone:   0%|          | 0/2 [00:00<?, ?tasks/s]"
      ]
     },
     "metadata": {},
     "output_type": "display_data"
    },
    {
     "data": {
      "application/vnd.jupyter.widget-view+json": {
       "model_id": "44cbafee9757437ea68bab230da5c1ba",
       "version_major": 2,
       "version_minor": 0
      },
      "text/plain": [
       "sci_respone:   0%|          | 0/2 [00:00<?, ?tasks/s]"
      ]
     },
     "metadata": {},
     "output_type": "display_data"
    },
    {
     "data": {
      "application/vnd.jupyter.widget-view+json": {
       "model_id": "2c8449c71e5847f883d3128b4916b569",
       "version_major": 2,
       "version_minor": 0
      },
      "text/plain": [
       "sci_respone:   0%|          | 0/2 [00:00<?, ?tasks/s]"
      ]
     },
     "metadata": {},
     "output_type": "display_data"
    },
    {
     "data": {
      "application/vnd.jupyter.widget-view+json": {
       "model_id": "0d54288fe3f64680bb60ca48670d45e9",
       "version_major": 2,
       "version_minor": 0
      },
      "text/plain": [
       "sci_respone:   0%|          | 0/2 [00:00<?, ?tasks/s]"
      ]
     },
     "metadata": {},
     "output_type": "display_data"
    },
    {
     "data": {
      "application/vnd.jupyter.widget-view+json": {
       "model_id": "d24e3359a73f431d97a7eb434e2035ee",
       "version_major": 2,
       "version_minor": 0
      },
      "text/plain": [
       "sci_respone:   0%|          | 0/2 [00:00<?, ?tasks/s]"
      ]
     },
     "metadata": {},
     "output_type": "display_data"
    },
    {
     "data": {
      "application/vnd.jupyter.widget-view+json": {
       "model_id": "bb41af0fdd974838ba6c922afd15e667",
       "version_major": 2,
       "version_minor": 0
      },
      "text/plain": [
       "sci_respone:   0%|          | 0/2 [00:00<?, ?tasks/s]"
      ]
     },
     "metadata": {},
     "output_type": "display_data"
    },
    {
     "data": {
      "application/vnd.jupyter.widget-view+json": {
       "model_id": "a6e772b2e844431baf65652c03551179",
       "version_major": 2,
       "version_minor": 0
      },
      "text/plain": [
       "sci_respone:   0%|          | 0/2 [00:00<?, ?tasks/s]"
      ]
     },
     "metadata": {},
     "output_type": "display_data"
    },
    {
     "data": {
      "application/vnd.jupyter.widget-view+json": {
       "model_id": "623c72a8574d4902893d7eff440e80cc",
       "version_major": 2,
       "version_minor": 0
      },
      "text/plain": [
       "sci_respone:   0%|          | 0/2 [00:00<?, ?tasks/s]"
      ]
     },
     "metadata": {},
     "output_type": "display_data"
    },
    {
     "data": {
      "application/vnd.jupyter.widget-view+json": {
       "model_id": "54b1d6a17947456f9bcf193b36adaf51",
       "version_major": 2,
       "version_minor": 0
      },
      "text/plain": [
       "sci_respone:   0%|          | 0/2 [00:00<?, ?tasks/s]"
      ]
     },
     "metadata": {},
     "output_type": "display_data"
    },
    {
     "data": {
      "application/vnd.jupyter.widget-view+json": {
       "model_id": "f6ef3c5d447c4f318912aeece85f5df4",
       "version_major": 2,
       "version_minor": 0
      },
      "text/plain": [
       "sci_respone:   0%|          | 0/2 [00:00<?, ?tasks/s]"
      ]
     },
     "metadata": {},
     "output_type": "display_data"
    },
    {
     "data": {
      "application/vnd.jupyter.widget-view+json": {
       "model_id": "c4e8007a1181420ebf57a3d6c3e9a463",
       "version_major": 2,
       "version_minor": 0
      },
      "text/plain": [
       "sci_respone:   0%|          | 0/2 [00:00<?, ?tasks/s]"
      ]
     },
     "metadata": {},
     "output_type": "display_data"
    },
    {
     "data": {
      "application/vnd.jupyter.widget-view+json": {
       "model_id": "aafbef0af86a4bb083dce0a1d65f29fe",
       "version_major": 2,
       "version_minor": 0
      },
      "text/plain": [
       "sci_respone:   0%|          | 0/2 [00:00<?, ?tasks/s]"
      ]
     },
     "metadata": {},
     "output_type": "display_data"
    },
    {
     "data": {
      "application/vnd.jupyter.widget-view+json": {
       "model_id": "5e73fb78bc104ad8acbcd99ab0b0d83c",
       "version_major": 2,
       "version_minor": 0
      },
      "text/plain": [
       "sci_respone:   0%|          | 0/2 [00:00<?, ?tasks/s]"
      ]
     },
     "metadata": {},
     "output_type": "display_data"
    },
    {
     "data": {
      "application/vnd.jupyter.widget-view+json": {
       "model_id": "947b2ef03ad544009099775d5cbb8fb2",
       "version_major": 2,
       "version_minor": 0
      },
      "text/plain": [
       "sci_respone:   0%|          | 0/2 [00:00<?, ?tasks/s]"
      ]
     },
     "metadata": {},
     "output_type": "display_data"
    },
    {
     "data": {
      "application/vnd.jupyter.widget-view+json": {
       "model_id": "6f38789133834086b35b80d1d00a5200",
       "version_major": 2,
       "version_minor": 0
      },
      "text/plain": [
       "sci_respone:   0%|          | 0/2 [00:00<?, ?tasks/s]"
      ]
     },
     "metadata": {},
     "output_type": "display_data"
    },
    {
     "data": {
      "application/vnd.jupyter.widget-view+json": {
       "model_id": "54ffeb68ca0448cbb141c09a26312171",
       "version_major": 2,
       "version_minor": 0
      },
      "text/plain": [
       "sci_respone:   0%|          | 0/2 [00:00<?, ?tasks/s]"
      ]
     },
     "metadata": {},
     "output_type": "display_data"
    },
    {
     "data": {
      "application/vnd.jupyter.widget-view+json": {
       "model_id": "4b4e56fe22de4736b45c0769372f31db",
       "version_major": 2,
       "version_minor": 0
      },
      "text/plain": [
       "sci_respone:   0%|          | 0/2 [00:00<?, ?tasks/s]"
      ]
     },
     "metadata": {},
     "output_type": "display_data"
    },
    {
     "data": {
      "application/vnd.jupyter.widget-view+json": {
       "model_id": "89b6b993e4bd45e8b661c0d7a9966d5f",
       "version_major": 2,
       "version_minor": 0
      },
      "text/plain": [
       "sci_respone:   0%|          | 0/2 [00:00<?, ?tasks/s]"
      ]
     },
     "metadata": {},
     "output_type": "display_data"
    },
    {
     "data": {
      "application/vnd.jupyter.widget-view+json": {
       "model_id": "66e9d6249f67416a964699a2d8453863",
       "version_major": 2,
       "version_minor": 0
      },
      "text/plain": [
       "sci_respone:   0%|          | 0/2 [00:00<?, ?tasks/s]"
      ]
     },
     "metadata": {},
     "output_type": "display_data"
    },
    {
     "data": {
      "application/vnd.jupyter.widget-view+json": {
       "model_id": "ab652bb53222486fa9d589e17d42fdac",
       "version_major": 2,
       "version_minor": 0
      },
      "text/plain": [
       "sci_respone:   0%|          | 0/2 [00:00<?, ?tasks/s]"
      ]
     },
     "metadata": {},
     "output_type": "display_data"
    },
    {
     "data": {
      "application/vnd.jupyter.widget-view+json": {
       "model_id": "523d6d29eb7249cabf5ccddb74a38ed2",
       "version_major": 2,
       "version_minor": 0
      },
      "text/plain": [
       "sci_respone:   0%|          | 0/2 [00:00<?, ?tasks/s]"
      ]
     },
     "metadata": {},
     "output_type": "display_data"
    },
    {
     "data": {
      "application/vnd.jupyter.widget-view+json": {
       "model_id": "4038bd7740f0468cb712e372ce3beb0e",
       "version_major": 2,
       "version_minor": 0
      },
      "text/plain": [
       "sci_respone:   0%|          | 0/2 [00:00<?, ?tasks/s]"
      ]
     },
     "metadata": {},
     "output_type": "display_data"
    },
    {
     "data": {
      "application/vnd.jupyter.widget-view+json": {
       "model_id": "cb373cf005fe464eaf46792558e476a5",
       "version_major": 2,
       "version_minor": 0
      },
      "text/plain": [
       "sci_respone:   0%|          | 0/2 [00:00<?, ?tasks/s]"
      ]
     },
     "metadata": {},
     "output_type": "display_data"
    },
    {
     "data": {
      "application/vnd.jupyter.widget-view+json": {
       "model_id": "c25d242b840741eab6a8222c60e30ffb",
       "version_major": 2,
       "version_minor": 0
      },
      "text/plain": [
       "sci_respone:   0%|          | 0/2 [00:00<?, ?tasks/s]"
      ]
     },
     "metadata": {},
     "output_type": "display_data"
    },
    {
     "data": {
      "application/vnd.jupyter.widget-view+json": {
       "model_id": "8f733b26aaf74eb5ac7d555b43b76208",
       "version_major": 2,
       "version_minor": 0
      },
      "text/plain": [
       "sci_respone:   0%|          | 0/2 [00:00<?, ?tasks/s]"
      ]
     },
     "metadata": {},
     "output_type": "display_data"
    },
    {
     "data": {
      "application/vnd.jupyter.widget-view+json": {
       "model_id": "fdeed9538c964b2bad5a49601feee121",
       "version_major": 2,
       "version_minor": 0
      },
      "text/plain": [
       "sci_respone:   0%|          | 0/2 [00:00<?, ?tasks/s]"
      ]
     },
     "metadata": {},
     "output_type": "display_data"
    },
    {
     "data": {
      "application/vnd.jupyter.widget-view+json": {
       "model_id": "058497c5005f48d0b369b0c84fa94102",
       "version_major": 2,
       "version_minor": 0
      },
      "text/plain": [
       "sci_respone:   0%|          | 0/2 [00:00<?, ?tasks/s]"
      ]
     },
     "metadata": {},
     "output_type": "display_data"
    },
    {
     "data": {
      "application/vnd.jupyter.widget-view+json": {
       "model_id": "556baee790764fb68458f282846ba678",
       "version_major": 2,
       "version_minor": 0
      },
      "text/plain": [
       "<lambda>:   0%|          | 0/2 [00:00<?, ?tasks/s]"
      ]
     },
     "metadata": {},
     "output_type": "display_data"
    },
    {
     "data": {
      "application/vnd.jupyter.widget-view+json": {
       "model_id": "d423fcfb14ea47f097b7a6a7771e0e4e",
       "version_major": 2,
       "version_minor": 0
      },
      "text/plain": [
       "sci_respone:   0%|          | 0/2 [00:00<?, ?tasks/s]"
      ]
     },
     "metadata": {},
     "output_type": "display_data"
    },
    {
     "data": {
      "application/vnd.jupyter.widget-view+json": {
       "model_id": "b18fceb746e74de0bd174cd310280011",
       "version_major": 2,
       "version_minor": 0
      },
      "text/plain": [
       "sci_respone:   0%|          | 0/2 [00:00<?, ?tasks/s]"
      ]
     },
     "metadata": {},
     "output_type": "display_data"
    },
    {
     "data": {
      "application/vnd.jupyter.widget-view+json": {
       "model_id": "b1037da1bba54728add9e1d2c67753fd",
       "version_major": 2,
       "version_minor": 0
      },
      "text/plain": [
       "sci_respone:   0%|          | 0/2 [00:00<?, ?tasks/s]"
      ]
     },
     "metadata": {},
     "output_type": "display_data"
    },
    {
     "data": {
      "application/vnd.jupyter.widget-view+json": {
       "model_id": "af8cbf26239349b298c38cb66388b2a9",
       "version_major": 2,
       "version_minor": 0
      },
      "text/plain": [
       "sci_respone:   0%|          | 0/2 [00:00<?, ?tasks/s]"
      ]
     },
     "metadata": {},
     "output_type": "display_data"
    },
    {
     "data": {
      "application/vnd.jupyter.widget-view+json": {
       "model_id": "ab4e85e8ed854f2fae514919f0ef008c",
       "version_major": 2,
       "version_minor": 0
      },
      "text/plain": [
       "sci_respone:   0%|          | 0/2 [00:00<?, ?tasks/s]"
      ]
     },
     "metadata": {},
     "output_type": "display_data"
    },
    {
     "data": {
      "application/vnd.jupyter.widget-view+json": {
       "model_id": "c8e82052065a41ee94d386603ee70a89",
       "version_major": 2,
       "version_minor": 0
      },
      "text/plain": [
       "sci_respone:   0%|          | 0/2 [00:00<?, ?tasks/s]"
      ]
     },
     "metadata": {},
     "output_type": "display_data"
    },
    {
     "data": {
      "application/vnd.jupyter.widget-view+json": {
       "model_id": "591e7122ad0445e286a30d6fe625587f",
       "version_major": 2,
       "version_minor": 0
      },
      "text/plain": [
       "sci_respone:   0%|          | 0/2 [00:00<?, ?tasks/s]"
      ]
     },
     "metadata": {},
     "output_type": "display_data"
    },
    {
     "data": {
      "application/vnd.jupyter.widget-view+json": {
       "model_id": "7d09fadc1415422ea63a66b59eca84b8",
       "version_major": 2,
       "version_minor": 0
      },
      "text/plain": [
       "sci_respone:   0%|          | 0/2 [00:00<?, ?tasks/s]"
      ]
     },
     "metadata": {},
     "output_type": "display_data"
    },
    {
     "data": {
      "application/vnd.jupyter.widget-view+json": {
       "model_id": "2ac0a3adf84c44de845fe5e0b87e6bac",
       "version_major": 2,
       "version_minor": 0
      },
      "text/plain": [
       "sci_respone:   0%|          | 0/2 [00:00<?, ?tasks/s]"
      ]
     },
     "metadata": {},
     "output_type": "display_data"
    },
    {
     "data": {
      "application/vnd.jupyter.widget-view+json": {
       "model_id": "0ae53f9665834f62ba6adb4a593b0432",
       "version_major": 2,
       "version_minor": 0
      },
      "text/plain": [
       "sci_respone:   0%|          | 0/2 [00:00<?, ?tasks/s]"
      ]
     },
     "metadata": {},
     "output_type": "display_data"
    },
    {
     "data": {
      "application/vnd.jupyter.widget-view+json": {
       "model_id": "366ec5d254c244ad8473e382f9d32210",
       "version_major": 2,
       "version_minor": 0
      },
      "text/plain": [
       "sci_respone:   0%|          | 0/2 [00:00<?, ?tasks/s]"
      ]
     },
     "metadata": {},
     "output_type": "display_data"
    },
    {
     "data": {
      "application/vnd.jupyter.widget-view+json": {
       "model_id": "72f9ffdab40c4419b9662153ee7de59d",
       "version_major": 2,
       "version_minor": 0
      },
      "text/plain": [
       "sci_respone:   0%|          | 0/2 [00:00<?, ?tasks/s]"
      ]
     },
     "metadata": {},
     "output_type": "display_data"
    },
    {
     "data": {
      "application/vnd.jupyter.widget-view+json": {
       "model_id": "4be95d9e794c40b2b3ce2c78210b9417",
       "version_major": 2,
       "version_minor": 0
      },
      "text/plain": [
       "sci_respone:   0%|          | 0/2 [00:00<?, ?tasks/s]"
      ]
     },
     "metadata": {},
     "output_type": "display_data"
    },
    {
     "data": {
      "application/vnd.jupyter.widget-view+json": {
       "model_id": "a7768c7315ca45ad8da7206797e547a3",
       "version_major": 2,
       "version_minor": 0
      },
      "text/plain": [
       "sci_respone:   0%|          | 0/2 [00:00<?, ?tasks/s]"
      ]
     },
     "metadata": {},
     "output_type": "display_data"
    },
    {
     "data": {
      "application/vnd.jupyter.widget-view+json": {
       "model_id": "2532f4e706c54daab1c87ff85741ab71",
       "version_major": 2,
       "version_minor": 0
      },
      "text/plain": [
       "sci_respone:   0%|          | 0/2 [00:00<?, ?tasks/s]"
      ]
     },
     "metadata": {},
     "output_type": "display_data"
    },
    {
     "data": {
      "application/vnd.jupyter.widget-view+json": {
       "model_id": "9419c8303df94ef98c102c795ca122cc",
       "version_major": 2,
       "version_minor": 0
      },
      "text/plain": [
       "sci_respone:   0%|          | 0/2 [00:00<?, ?tasks/s]"
      ]
     },
     "metadata": {},
     "output_type": "display_data"
    },
    {
     "data": {
      "application/vnd.jupyter.widget-view+json": {
       "model_id": "4b7c480b3a5349c8bf6068fd73a0c59c",
       "version_major": 2,
       "version_minor": 0
      },
      "text/plain": [
       "sci_respone:   0%|          | 0/2 [00:00<?, ?tasks/s]"
      ]
     },
     "metadata": {},
     "output_type": "display_data"
    },
    {
     "data": {
      "application/vnd.jupyter.widget-view+json": {
       "model_id": "bae3f675effb42e7a1a4d75f66957f4e",
       "version_major": 2,
       "version_minor": 0
      },
      "text/plain": [
       "sci_respone:   0%|          | 0/2 [00:00<?, ?tasks/s]"
      ]
     },
     "metadata": {},
     "output_type": "display_data"
    },
    {
     "data": {
      "application/vnd.jupyter.widget-view+json": {
       "model_id": "c7bde01681c04ae6aaa02760e8a5c2a9",
       "version_major": 2,
       "version_minor": 0
      },
      "text/plain": [
       "sci_respone:   0%|          | 0/2 [00:00<?, ?tasks/s]"
      ]
     },
     "metadata": {},
     "output_type": "display_data"
    },
    {
     "data": {
      "application/vnd.jupyter.widget-view+json": {
       "model_id": "40f13ee8e1c945a784c939b836d44563",
       "version_major": 2,
       "version_minor": 0
      },
      "text/plain": [
       "sci_respone:   0%|          | 0/2 [00:00<?, ?tasks/s]"
      ]
     },
     "metadata": {},
     "output_type": "display_data"
    },
    {
     "data": {
      "application/vnd.jupyter.widget-view+json": {
       "model_id": "8db381ecbae1492dba3037ed302236db",
       "version_major": 2,
       "version_minor": 0
      },
      "text/plain": [
       "sci_respone:   0%|          | 0/2 [00:00<?, ?tasks/s]"
      ]
     },
     "metadata": {},
     "output_type": "display_data"
    },
    {
     "data": {
      "application/vnd.jupyter.widget-view+json": {
       "model_id": "f6ea7fb6a40c49ca9a18faf5d8752aba",
       "version_major": 2,
       "version_minor": 0
      },
      "text/plain": [
       "sci_respone:   0%|          | 0/2 [00:00<?, ?tasks/s]"
      ]
     },
     "metadata": {},
     "output_type": "display_data"
    },
    {
     "data": {
      "application/vnd.jupyter.widget-view+json": {
       "model_id": "927372890d264e2dabbfdc7aa2f18350",
       "version_major": 2,
       "version_minor": 0
      },
      "text/plain": [
       "sci_respone:   0%|          | 0/2 [00:00<?, ?tasks/s]"
      ]
     },
     "metadata": {},
     "output_type": "display_data"
    },
    {
     "data": {
      "application/vnd.jupyter.widget-view+json": {
       "model_id": "2e760b2d2f1a44768b8f53f30e5abb68",
       "version_major": 2,
       "version_minor": 0
      },
      "text/plain": [
       "sci_respone:   0%|          | 0/2 [00:00<?, ?tasks/s]"
      ]
     },
     "metadata": {},
     "output_type": "display_data"
    },
    {
     "data": {
      "application/vnd.jupyter.widget-view+json": {
       "model_id": "aee2aefaf5a643cfae3dafe8f68d4800",
       "version_major": 2,
       "version_minor": 0
      },
      "text/plain": [
       "sci_respone:   0%|          | 0/2 [00:00<?, ?tasks/s]"
      ]
     },
     "metadata": {},
     "output_type": "display_data"
    },
    {
     "data": {
      "application/vnd.jupyter.widget-view+json": {
       "model_id": "8054222cef394e72a735fa3e7016f2a7",
       "version_major": 2,
       "version_minor": 0
      },
      "text/plain": [
       "sci_respone:   0%|          | 0/2 [00:00<?, ?tasks/s]"
      ]
     },
     "metadata": {},
     "output_type": "display_data"
    },
    {
     "data": {
      "application/vnd.jupyter.widget-view+json": {
       "model_id": "512281c9cb404073b8b1e2f0fe9075a9",
       "version_major": 2,
       "version_minor": 0
      },
      "text/plain": [
       "sci_respone:   0%|          | 0/2 [00:00<?, ?tasks/s]"
      ]
     },
     "metadata": {},
     "output_type": "display_data"
    },
    {
     "data": {
      "application/vnd.jupyter.widget-view+json": {
       "model_id": "66856911caa342388e88d9e946fad91b",
       "version_major": 2,
       "version_minor": 0
      },
      "text/plain": [
       "sci_respone:   0%|          | 0/2 [00:00<?, ?tasks/s]"
      ]
     },
     "metadata": {},
     "output_type": "display_data"
    },
    {
     "data": {
      "application/vnd.jupyter.widget-view+json": {
       "model_id": "88abedf779f74c5b91605870f4b84896",
       "version_major": 2,
       "version_minor": 0
      },
      "text/plain": [
       "sci_respone:   0%|          | 0/2 [00:00<?, ?tasks/s]"
      ]
     },
     "metadata": {},
     "output_type": "display_data"
    },
    {
     "data": {
      "application/vnd.jupyter.widget-view+json": {
       "model_id": "fee2e8670ced4a08b6d89dd426c052dd",
       "version_major": 2,
       "version_minor": 0
      },
      "text/plain": [
       "sci_respone:   0%|          | 0/2 [00:00<?, ?tasks/s]"
      ]
     },
     "metadata": {},
     "output_type": "display_data"
    },
    {
     "data": {
      "application/vnd.jupyter.widget-view+json": {
       "model_id": "cbc31df885f8465bae966c1afd021b03",
       "version_major": 2,
       "version_minor": 0
      },
      "text/plain": [
       "<lambda>:   0%|          | 0/2 [00:00<?, ?tasks/s]"
      ]
     },
     "metadata": {},
     "output_type": "display_data"
    },
    {
     "data": {
      "application/vnd.jupyter.widget-view+json": {
       "model_id": "cbc119b1f3994429914de6d3f0f90ab8",
       "version_major": 2,
       "version_minor": 0
      },
      "text/plain": [
       "sci_respone:   0%|          | 0/2 [00:00<?, ?tasks/s]"
      ]
     },
     "metadata": {},
     "output_type": "display_data"
    },
    {
     "data": {
      "application/vnd.jupyter.widget-view+json": {
       "model_id": "824c26459596473bbf00989e184cb616",
       "version_major": 2,
       "version_minor": 0
      },
      "text/plain": [
       "sci_respone:   0%|          | 0/2 [00:00<?, ?tasks/s]"
      ]
     },
     "metadata": {},
     "output_type": "display_data"
    },
    {
     "data": {
      "application/vnd.jupyter.widget-view+json": {
       "model_id": "6dfee82c36ed40efa3b7a6602fb33353",
       "version_major": 2,
       "version_minor": 0
      },
      "text/plain": [
       "sci_respone:   0%|          | 0/2 [00:00<?, ?tasks/s]"
      ]
     },
     "metadata": {},
     "output_type": "display_data"
    },
    {
     "data": {
      "application/vnd.jupyter.widget-view+json": {
       "model_id": "226437eefe1244ce9e8b726df1f5a0b2",
       "version_major": 2,
       "version_minor": 0
      },
      "text/plain": [
       "sci_respone:   0%|          | 0/2 [00:00<?, ?tasks/s]"
      ]
     },
     "metadata": {},
     "output_type": "display_data"
    },
    {
     "data": {
      "application/vnd.jupyter.widget-view+json": {
       "model_id": "8cc05be360854ea4a0e5bb35ba366a1e",
       "version_major": 2,
       "version_minor": 0
      },
      "text/plain": [
       "sci_respone:   0%|          | 0/2 [00:00<?, ?tasks/s]"
      ]
     },
     "metadata": {},
     "output_type": "display_data"
    },
    {
     "data": {
      "application/vnd.jupyter.widget-view+json": {
       "model_id": "e3d58f7fc007404f9b3a9882a6e11abd",
       "version_major": 2,
       "version_minor": 0
      },
      "text/plain": [
       "sci_respone:   0%|          | 0/2 [00:00<?, ?tasks/s]"
      ]
     },
     "metadata": {},
     "output_type": "display_data"
    },
    {
     "data": {
      "application/vnd.jupyter.widget-view+json": {
       "model_id": "a9f2424ef6e24d8d85e2fc29d7be5b9d",
       "version_major": 2,
       "version_minor": 0
      },
      "text/plain": [
       "sci_respone:   0%|          | 0/2 [00:00<?, ?tasks/s]"
      ]
     },
     "metadata": {},
     "output_type": "display_data"
    },
    {
     "data": {
      "application/vnd.jupyter.widget-view+json": {
       "model_id": "97430f9ae6ca4fb3833fd2f628115787",
       "version_major": 2,
       "version_minor": 0
      },
      "text/plain": [
       "sci_respone:   0%|          | 0/2 [00:00<?, ?tasks/s]"
      ]
     },
     "metadata": {},
     "output_type": "display_data"
    },
    {
     "data": {
      "application/vnd.jupyter.widget-view+json": {
       "model_id": "b6423fba391140088559168fce7f38e0",
       "version_major": 2,
       "version_minor": 0
      },
      "text/plain": [
       "sci_respone:   0%|          | 0/2 [00:00<?, ?tasks/s]"
      ]
     },
     "metadata": {},
     "output_type": "display_data"
    },
    {
     "data": {
      "application/vnd.jupyter.widget-view+json": {
       "model_id": "c764dee1ec594d4b8a3b2a084a61b402",
       "version_major": 2,
       "version_minor": 0
      },
      "text/plain": [
       "sci_respone:   0%|          | 0/2 [00:00<?, ?tasks/s]"
      ]
     },
     "metadata": {},
     "output_type": "display_data"
    },
    {
     "data": {
      "application/vnd.jupyter.widget-view+json": {
       "model_id": "43ba182acb8349e296a9029e40b3c166",
       "version_major": 2,
       "version_minor": 0
      },
      "text/plain": [
       "sci_respone:   0%|          | 0/2 [00:00<?, ?tasks/s]"
      ]
     },
     "metadata": {},
     "output_type": "display_data"
    },
    {
     "data": {
      "application/vnd.jupyter.widget-view+json": {
       "model_id": "ee31c26653c1466faec00635fe2780af",
       "version_major": 2,
       "version_minor": 0
      },
      "text/plain": [
       "sci_respone:   0%|          | 0/2 [00:00<?, ?tasks/s]"
      ]
     },
     "metadata": {},
     "output_type": "display_data"
    },
    {
     "data": {
      "application/vnd.jupyter.widget-view+json": {
       "model_id": "c1fe206b54094dbcb0b8bf7d7c10c7b4",
       "version_major": 2,
       "version_minor": 0
      },
      "text/plain": [
       "sci_respone:   0%|          | 0/2 [00:00<?, ?tasks/s]"
      ]
     },
     "metadata": {},
     "output_type": "display_data"
    },
    {
     "data": {
      "application/vnd.jupyter.widget-view+json": {
       "model_id": "019d55c3c17440fb84997624770d209a",
       "version_major": 2,
       "version_minor": 0
      },
      "text/plain": [
       "sci_respone:   0%|          | 0/2 [00:00<?, ?tasks/s]"
      ]
     },
     "metadata": {},
     "output_type": "display_data"
    },
    {
     "data": {
      "application/vnd.jupyter.widget-view+json": {
       "model_id": "3e567506cd2a485da912f2b05e180c91",
       "version_major": 2,
       "version_minor": 0
      },
      "text/plain": [
       "sci_respone:   0%|          | 0/2 [00:00<?, ?tasks/s]"
      ]
     },
     "metadata": {},
     "output_type": "display_data"
    },
    {
     "data": {
      "application/vnd.jupyter.widget-view+json": {
       "model_id": "cd2da0780e7045ea8f7fc4f313a6230a",
       "version_major": 2,
       "version_minor": 0
      },
      "text/plain": [
       "sci_respone:   0%|          | 0/2 [00:00<?, ?tasks/s]"
      ]
     },
     "metadata": {},
     "output_type": "display_data"
    },
    {
     "data": {
      "application/vnd.jupyter.widget-view+json": {
       "model_id": "1b9464b48dc24bff9cffe35859a29a10",
       "version_major": 2,
       "version_minor": 0
      },
      "text/plain": [
       "sci_respone:   0%|          | 0/2 [00:00<?, ?tasks/s]"
      ]
     },
     "metadata": {},
     "output_type": "display_data"
    },
    {
     "data": {
      "application/vnd.jupyter.widget-view+json": {
       "model_id": "318c636f673b47b4a217e58869853ede",
       "version_major": 2,
       "version_minor": 0
      },
      "text/plain": [
       "sci_respone:   0%|          | 0/2 [00:00<?, ?tasks/s]"
      ]
     },
     "metadata": {},
     "output_type": "display_data"
    },
    {
     "data": {
      "application/vnd.jupyter.widget-view+json": {
       "model_id": "a2412d1ac4924d3996415687ac9eccb4",
       "version_major": 2,
       "version_minor": 0
      },
      "text/plain": [
       "sci_respone:   0%|          | 0/2 [00:00<?, ?tasks/s]"
      ]
     },
     "metadata": {},
     "output_type": "display_data"
    },
    {
     "data": {
      "application/vnd.jupyter.widget-view+json": {
       "model_id": "fb912dd1f7724f22ad35b05a4bc6689d",
       "version_major": 2,
       "version_minor": 0
      },
      "text/plain": [
       "sci_respone:   0%|          | 0/2 [00:00<?, ?tasks/s]"
      ]
     },
     "metadata": {},
     "output_type": "display_data"
    },
    {
     "data": {
      "application/vnd.jupyter.widget-view+json": {
       "model_id": "8db8109c1d904cd1b3e45ba3352f443a",
       "version_major": 2,
       "version_minor": 0
      },
      "text/plain": [
       "sci_respone:   0%|          | 0/2 [00:00<?, ?tasks/s]"
      ]
     },
     "metadata": {},
     "output_type": "display_data"
    },
    {
     "data": {
      "application/vnd.jupyter.widget-view+json": {
       "model_id": "8fbccebfcc8e42f0974f196a9932194d",
       "version_major": 2,
       "version_minor": 0
      },
      "text/plain": [
       "sci_respone:   0%|          | 0/2 [00:00<?, ?tasks/s]"
      ]
     },
     "metadata": {},
     "output_type": "display_data"
    },
    {
     "data": {
      "application/vnd.jupyter.widget-view+json": {
       "model_id": "272638cf372d4ae6b275bb9011f97ed0",
       "version_major": 2,
       "version_minor": 0
      },
      "text/plain": [
       "sci_respone:   0%|          | 0/2 [00:00<?, ?tasks/s]"
      ]
     },
     "metadata": {},
     "output_type": "display_data"
    },
    {
     "data": {
      "application/vnd.jupyter.widget-view+json": {
       "model_id": "0625233999f143449222b3862be74d25",
       "version_major": 2,
       "version_minor": 0
      },
      "text/plain": [
       "sci_respone:   0%|          | 0/2 [00:00<?, ?tasks/s]"
      ]
     },
     "metadata": {},
     "output_type": "display_data"
    },
    {
     "data": {
      "application/vnd.jupyter.widget-view+json": {
       "model_id": "f0b58552df234ba8a0a9166bbf661f56",
       "version_major": 2,
       "version_minor": 0
      },
      "text/plain": [
       "sci_respone:   0%|          | 0/2 [00:00<?, ?tasks/s]"
      ]
     },
     "metadata": {},
     "output_type": "display_data"
    },
    {
     "data": {
      "application/vnd.jupyter.widget-view+json": {
       "model_id": "98c5af9b013d49a8b17f3056e24c05ff",
       "version_major": 2,
       "version_minor": 0
      },
      "text/plain": [
       "sci_respone:   0%|          | 0/2 [00:00<?, ?tasks/s]"
      ]
     },
     "metadata": {},
     "output_type": "display_data"
    },
    {
     "data": {
      "application/vnd.jupyter.widget-view+json": {
       "model_id": "bede24b0c9304fa08434c0e5775c1aea",
       "version_major": 2,
       "version_minor": 0
      },
      "text/plain": [
       "sci_respone:   0%|          | 0/2 [00:00<?, ?tasks/s]"
      ]
     },
     "metadata": {},
     "output_type": "display_data"
    },
    {
     "data": {
      "application/vnd.jupyter.widget-view+json": {
       "model_id": "9b4696e0e44f4081826dcb8eb6d6a593",
       "version_major": 2,
       "version_minor": 0
      },
      "text/plain": [
       "sci_respone:   0%|          | 0/2 [00:00<?, ?tasks/s]"
      ]
     },
     "metadata": {},
     "output_type": "display_data"
    },
    {
     "data": {
      "application/vnd.jupyter.widget-view+json": {
       "model_id": "91d71a0ddb63473989acdf871e19afde",
       "version_major": 2,
       "version_minor": 0
      },
      "text/plain": [
       "sci_respone:   0%|          | 0/2 [00:00<?, ?tasks/s]"
      ]
     },
     "metadata": {},
     "output_type": "display_data"
    },
    {
     "data": {
      "application/vnd.jupyter.widget-view+json": {
       "model_id": "e22a95309cb24f498e81c6bffbd8ca6d",
       "version_major": 2,
       "version_minor": 0
      },
      "text/plain": [
       "sci_respone:   0%|          | 0/2 [00:00<?, ?tasks/s]"
      ]
     },
     "metadata": {},
     "output_type": "display_data"
    },
    {
     "data": {
      "application/vnd.jupyter.widget-view+json": {
       "model_id": "d0770a04ba374f2eb5c648ba07de9914",
       "version_major": 2,
       "version_minor": 0
      },
      "text/plain": [
       "<lambda>:   0%|          | 0/2 [00:00<?, ?tasks/s]"
      ]
     },
     "metadata": {},
     "output_type": "display_data"
    },
    {
     "data": {
      "application/vnd.jupyter.widget-view+json": {
       "model_id": "b6cf8dfc3bea433a9c3962979a451d30",
       "version_major": 2,
       "version_minor": 0
      },
      "text/plain": [
       "sci_respone:   0%|          | 0/2 [00:00<?, ?tasks/s]"
      ]
     },
     "metadata": {},
     "output_type": "display_data"
    },
    {
     "data": {
      "application/vnd.jupyter.widget-view+json": {
       "model_id": "9e9f9c359d804782a1df493e7dc82469",
       "version_major": 2,
       "version_minor": 0
      },
      "text/plain": [
       "sci_respone:   0%|          | 0/2 [00:00<?, ?tasks/s]"
      ]
     },
     "metadata": {},
     "output_type": "display_data"
    },
    {
     "data": {
      "application/vnd.jupyter.widget-view+json": {
       "model_id": "9a4b01d0f07f47cf91521b8da71bddcd",
       "version_major": 2,
       "version_minor": 0
      },
      "text/plain": [
       "sci_respone:   0%|          | 0/2 [00:00<?, ?tasks/s]"
      ]
     },
     "metadata": {},
     "output_type": "display_data"
    },
    {
     "data": {
      "application/vnd.jupyter.widget-view+json": {
       "model_id": "9c95e13992c44108abf915795d40b88b",
       "version_major": 2,
       "version_minor": 0
      },
      "text/plain": [
       "sci_respone:   0%|          | 0/2 [00:00<?, ?tasks/s]"
      ]
     },
     "metadata": {},
     "output_type": "display_data"
    },
    {
     "data": {
      "application/vnd.jupyter.widget-view+json": {
       "model_id": "58b63a929c6f4a27a35acfb14c6884a4",
       "version_major": 2,
       "version_minor": 0
      },
      "text/plain": [
       "sci_respone:   0%|          | 0/2 [00:00<?, ?tasks/s]"
      ]
     },
     "metadata": {},
     "output_type": "display_data"
    },
    {
     "data": {
      "application/vnd.jupyter.widget-view+json": {
       "model_id": "1995e96185684013889cc7f15678c1ed",
       "version_major": 2,
       "version_minor": 0
      },
      "text/plain": [
       "sci_respone:   0%|          | 0/2 [00:00<?, ?tasks/s]"
      ]
     },
     "metadata": {},
     "output_type": "display_data"
    },
    {
     "data": {
      "application/vnd.jupyter.widget-view+json": {
       "model_id": "ca260fd635944006af1def9a772381a3",
       "version_major": 2,
       "version_minor": 0
      },
      "text/plain": [
       "sci_respone:   0%|          | 0/2 [00:00<?, ?tasks/s]"
      ]
     },
     "metadata": {},
     "output_type": "display_data"
    },
    {
     "data": {
      "application/vnd.jupyter.widget-view+json": {
       "model_id": "27f2e02dfe0243b7a26ee179e755b4f4",
       "version_major": 2,
       "version_minor": 0
      },
      "text/plain": [
       "sci_respone:   0%|          | 0/2 [00:00<?, ?tasks/s]"
      ]
     },
     "metadata": {},
     "output_type": "display_data"
    },
    {
     "data": {
      "application/vnd.jupyter.widget-view+json": {
       "model_id": "558f1f3061f146158bfe7ac25dc46dcc",
       "version_major": 2,
       "version_minor": 0
      },
      "text/plain": [
       "sci_respone:   0%|          | 0/2 [00:00<?, ?tasks/s]"
      ]
     },
     "metadata": {},
     "output_type": "display_data"
    },
    {
     "data": {
      "application/vnd.jupyter.widget-view+json": {
       "model_id": "b68a153ee4ec4e8882a8d970c701d44c",
       "version_major": 2,
       "version_minor": 0
      },
      "text/plain": [
       "sci_respone:   0%|          | 0/2 [00:00<?, ?tasks/s]"
      ]
     },
     "metadata": {},
     "output_type": "display_data"
    },
    {
     "data": {
      "application/vnd.jupyter.widget-view+json": {
       "model_id": "3e82a38a76114578bad0f8f7f60efc31",
       "version_major": 2,
       "version_minor": 0
      },
      "text/plain": [
       "sci_respone:   0%|          | 0/2 [00:00<?, ?tasks/s]"
      ]
     },
     "metadata": {},
     "output_type": "display_data"
    },
    {
     "data": {
      "application/vnd.jupyter.widget-view+json": {
       "model_id": "86047a0bbc324f0aa1e3ebca0b71e84f",
       "version_major": 2,
       "version_minor": 0
      },
      "text/plain": [
       "sci_respone:   0%|          | 0/2 [00:00<?, ?tasks/s]"
      ]
     },
     "metadata": {},
     "output_type": "display_data"
    },
    {
     "data": {
      "application/vnd.jupyter.widget-view+json": {
       "model_id": "4e61264288d04a5182290d2792a3adcb",
       "version_major": 2,
       "version_minor": 0
      },
      "text/plain": [
       "sci_respone:   0%|          | 0/2 [00:00<?, ?tasks/s]"
      ]
     },
     "metadata": {},
     "output_type": "display_data"
    },
    {
     "data": {
      "application/vnd.jupyter.widget-view+json": {
       "model_id": "4506043b07e949c1ae4188e24fc644ee",
       "version_major": 2,
       "version_minor": 0
      },
      "text/plain": [
       "sci_respone:   0%|          | 0/2 [00:00<?, ?tasks/s]"
      ]
     },
     "metadata": {},
     "output_type": "display_data"
    },
    {
     "data": {
      "application/vnd.jupyter.widget-view+json": {
       "model_id": "b3fb8d438d8146c59467954a7395b865",
       "version_major": 2,
       "version_minor": 0
      },
      "text/plain": [
       "sci_respone:   0%|          | 0/2 [00:00<?, ?tasks/s]"
      ]
     },
     "metadata": {},
     "output_type": "display_data"
    },
    {
     "data": {
      "application/vnd.jupyter.widget-view+json": {
       "model_id": "313926866aea456d90cc6283a0b37bd3",
       "version_major": 2,
       "version_minor": 0
      },
      "text/plain": [
       "sci_respone:   0%|          | 0/2 [00:00<?, ?tasks/s]"
      ]
     },
     "metadata": {},
     "output_type": "display_data"
    },
    {
     "data": {
      "application/vnd.jupyter.widget-view+json": {
       "model_id": "e3e6470b683a4e30a667161ceacbbf98",
       "version_major": 2,
       "version_minor": 0
      },
      "text/plain": [
       "sci_respone:   0%|          | 0/2 [00:00<?, ?tasks/s]"
      ]
     },
     "metadata": {},
     "output_type": "display_data"
    },
    {
     "data": {
      "application/vnd.jupyter.widget-view+json": {
       "model_id": "5ac5e316d6724495b6ac0c566ca2093d",
       "version_major": 2,
       "version_minor": 0
      },
      "text/plain": [
       "sci_respone:   0%|          | 0/2 [00:00<?, ?tasks/s]"
      ]
     },
     "metadata": {},
     "output_type": "display_data"
    },
    {
     "data": {
      "application/vnd.jupyter.widget-view+json": {
       "model_id": "eb7621a4164845e09b6f11a33c76cbb5",
       "version_major": 2,
       "version_minor": 0
      },
      "text/plain": [
       "sci_respone:   0%|          | 0/2 [00:00<?, ?tasks/s]"
      ]
     },
     "metadata": {},
     "output_type": "display_data"
    },
    {
     "data": {
      "application/vnd.jupyter.widget-view+json": {
       "model_id": "b21bf8937c78429d87a9aa532b598470",
       "version_major": 2,
       "version_minor": 0
      },
      "text/plain": [
       "sci_respone:   0%|          | 0/2 [00:00<?, ?tasks/s]"
      ]
     },
     "metadata": {},
     "output_type": "display_data"
    },
    {
     "data": {
      "application/vnd.jupyter.widget-view+json": {
       "model_id": "22b9452499264ff9b690067bb476b647",
       "version_major": 2,
       "version_minor": 0
      },
      "text/plain": [
       "sci_respone:   0%|          | 0/2 [00:00<?, ?tasks/s]"
      ]
     },
     "metadata": {},
     "output_type": "display_data"
    },
    {
     "data": {
      "application/vnd.jupyter.widget-view+json": {
       "model_id": "1473fb463fa94b48a8b34cf79bd16c15",
       "version_major": 2,
       "version_minor": 0
      },
      "text/plain": [
       "sci_respone:   0%|          | 0/2 [00:00<?, ?tasks/s]"
      ]
     },
     "metadata": {},
     "output_type": "display_data"
    },
    {
     "data": {
      "application/vnd.jupyter.widget-view+json": {
       "model_id": "58272be3e7cf43f0ae9a6e9420df8c61",
       "version_major": 2,
       "version_minor": 0
      },
      "text/plain": [
       "sci_respone:   0%|          | 0/2 [00:00<?, ?tasks/s]"
      ]
     },
     "metadata": {},
     "output_type": "display_data"
    },
    {
     "data": {
      "application/vnd.jupyter.widget-view+json": {
       "model_id": "4d755994d2dd45d0b045c499ce875295",
       "version_major": 2,
       "version_minor": 0
      },
      "text/plain": [
       "sci_respone:   0%|          | 0/2 [00:00<?, ?tasks/s]"
      ]
     },
     "metadata": {},
     "output_type": "display_data"
    },
    {
     "data": {
      "application/vnd.jupyter.widget-view+json": {
       "model_id": "242d9de18034407a837d0bd3e1a5d4e9",
       "version_major": 2,
       "version_minor": 0
      },
      "text/plain": [
       "sci_respone:   0%|          | 0/2 [00:00<?, ?tasks/s]"
      ]
     },
     "metadata": {},
     "output_type": "display_data"
    },
    {
     "data": {
      "application/vnd.jupyter.widget-view+json": {
       "model_id": "b29976f755934cf4a4d79794154fcb99",
       "version_major": 2,
       "version_minor": 0
      },
      "text/plain": [
       "sci_respone:   0%|          | 0/2 [00:00<?, ?tasks/s]"
      ]
     },
     "metadata": {},
     "output_type": "display_data"
    },
    {
     "data": {
      "application/vnd.jupyter.widget-view+json": {
       "model_id": "84dd5e8aeb5f48d9ac49070c3f74b273",
       "version_major": 2,
       "version_minor": 0
      },
      "text/plain": [
       "sci_respone:   0%|          | 0/2 [00:00<?, ?tasks/s]"
      ]
     },
     "metadata": {},
     "output_type": "display_data"
    },
    {
     "data": {
      "application/vnd.jupyter.widget-view+json": {
       "model_id": "91b6affa9d4f4232a5296e596da1bed7",
       "version_major": 2,
       "version_minor": 0
      },
      "text/plain": [
       "sci_respone:   0%|          | 0/2 [00:00<?, ?tasks/s]"
      ]
     },
     "metadata": {},
     "output_type": "display_data"
    },
    {
     "data": {
      "application/vnd.jupyter.widget-view+json": {
       "model_id": "e50dd2f39a704e3491255c1f733feabc",
       "version_major": 2,
       "version_minor": 0
      },
      "text/plain": [
       "sci_respone:   0%|          | 0/2 [00:00<?, ?tasks/s]"
      ]
     },
     "metadata": {},
     "output_type": "display_data"
    },
    {
     "data": {
      "application/vnd.jupyter.widget-view+json": {
       "model_id": "ede25849899f47c6bf51fc3209c5421d",
       "version_major": 2,
       "version_minor": 0
      },
      "text/plain": [
       "sci_respone:   0%|          | 0/2 [00:00<?, ?tasks/s]"
      ]
     },
     "metadata": {},
     "output_type": "display_data"
    },
    {
     "data": {
      "application/vnd.jupyter.widget-view+json": {
       "model_id": "02cc6029626e49ebad7a1adbd67d2408",
       "version_major": 2,
       "version_minor": 0
      },
      "text/plain": [
       "<lambda>:   0%|          | 0/2 [00:00<?, ?tasks/s]"
      ]
     },
     "metadata": {},
     "output_type": "display_data"
    },
    {
     "data": {
      "application/vnd.jupyter.widget-view+json": {
       "model_id": "a7f1091a34e8411591efdafb9132a7af",
       "version_major": 2,
       "version_minor": 0
      },
      "text/plain": [
       "sci_respone:   0%|          | 0/2 [00:00<?, ?tasks/s]"
      ]
     },
     "metadata": {},
     "output_type": "display_data"
    },
    {
     "data": {
      "application/vnd.jupyter.widget-view+json": {
       "model_id": "d2cf72950d0f4d7aa1ae7dfc8ec77c7b",
       "version_major": 2,
       "version_minor": 0
      },
      "text/plain": [
       "sci_respone:   0%|          | 0/2 [00:00<?, ?tasks/s]"
      ]
     },
     "metadata": {},
     "output_type": "display_data"
    },
    {
     "data": {
      "application/vnd.jupyter.widget-view+json": {
       "model_id": "e4b8f5d7ac634837ac98fa53769698c1",
       "version_major": 2,
       "version_minor": 0
      },
      "text/plain": [
       "sci_respone:   0%|          | 0/2 [00:00<?, ?tasks/s]"
      ]
     },
     "metadata": {},
     "output_type": "display_data"
    },
    {
     "data": {
      "application/vnd.jupyter.widget-view+json": {
       "model_id": "8f627a195de04d58899df73b388feeb0",
       "version_major": 2,
       "version_minor": 0
      },
      "text/plain": [
       "sci_respone:   0%|          | 0/2 [00:00<?, ?tasks/s]"
      ]
     },
     "metadata": {},
     "output_type": "display_data"
    },
    {
     "data": {
      "application/vnd.jupyter.widget-view+json": {
       "model_id": "52b9113bf5664837bccf8c8f779e36fe",
       "version_major": 2,
       "version_minor": 0
      },
      "text/plain": [
       "sci_respone:   0%|          | 0/2 [00:00<?, ?tasks/s]"
      ]
     },
     "metadata": {},
     "output_type": "display_data"
    },
    {
     "data": {
      "application/vnd.jupyter.widget-view+json": {
       "model_id": "4e6cb37b4ab54c8c8210f7a5cfb58d84",
       "version_major": 2,
       "version_minor": 0
      },
      "text/plain": [
       "sci_respone:   0%|          | 0/2 [00:00<?, ?tasks/s]"
      ]
     },
     "metadata": {},
     "output_type": "display_data"
    },
    {
     "data": {
      "application/vnd.jupyter.widget-view+json": {
       "model_id": "15726c20d2fc41d2879458856099b37a",
       "version_major": 2,
       "version_minor": 0
      },
      "text/plain": [
       "sci_respone:   0%|          | 0/2 [00:00<?, ?tasks/s]"
      ]
     },
     "metadata": {},
     "output_type": "display_data"
    },
    {
     "data": {
      "application/vnd.jupyter.widget-view+json": {
       "model_id": "759b50caa87b44c5a0f2db6c23333a18",
       "version_major": 2,
       "version_minor": 0
      },
      "text/plain": [
       "sci_respone:   0%|          | 0/2 [00:00<?, ?tasks/s]"
      ]
     },
     "metadata": {},
     "output_type": "display_data"
    },
    {
     "data": {
      "application/vnd.jupyter.widget-view+json": {
       "model_id": "dfc63d25202147668a1e39ef288ca81e",
       "version_major": 2,
       "version_minor": 0
      },
      "text/plain": [
       "sci_respone:   0%|          | 0/2 [00:00<?, ?tasks/s]"
      ]
     },
     "metadata": {},
     "output_type": "display_data"
    },
    {
     "data": {
      "application/vnd.jupyter.widget-view+json": {
       "model_id": "aa72754ef00d4ede82ec7973e21f0340",
       "version_major": 2,
       "version_minor": 0
      },
      "text/plain": [
       "sci_respone:   0%|          | 0/2 [00:00<?, ?tasks/s]"
      ]
     },
     "metadata": {},
     "output_type": "display_data"
    },
    {
     "data": {
      "application/vnd.jupyter.widget-view+json": {
       "model_id": "7314e07b0885467893d14acf8f2b9be4",
       "version_major": 2,
       "version_minor": 0
      },
      "text/plain": [
       "sci_respone:   0%|          | 0/2 [00:00<?, ?tasks/s]"
      ]
     },
     "metadata": {},
     "output_type": "display_data"
    },
    {
     "data": {
      "application/vnd.jupyter.widget-view+json": {
       "model_id": "3b5b23e0ed114aa2b8f00aa4c756ddbd",
       "version_major": 2,
       "version_minor": 0
      },
      "text/plain": [
       "sci_respone:   0%|          | 0/2 [00:00<?, ?tasks/s]"
      ]
     },
     "metadata": {},
     "output_type": "display_data"
    },
    {
     "data": {
      "application/vnd.jupyter.widget-view+json": {
       "model_id": "39de8596db1645f583394e306786fac3",
       "version_major": 2,
       "version_minor": 0
      },
      "text/plain": [
       "sci_respone:   0%|          | 0/2 [00:00<?, ?tasks/s]"
      ]
     },
     "metadata": {},
     "output_type": "display_data"
    },
    {
     "data": {
      "application/vnd.jupyter.widget-view+json": {
       "model_id": "8cb835a009fe4d2ab7be2207a3b64f73",
       "version_major": 2,
       "version_minor": 0
      },
      "text/plain": [
       "sci_respone:   0%|          | 0/2 [00:00<?, ?tasks/s]"
      ]
     },
     "metadata": {},
     "output_type": "display_data"
    },
    {
     "data": {
      "application/vnd.jupyter.widget-view+json": {
       "model_id": "799f4c4c9dc24e90a96d98f15ca1000a",
       "version_major": 2,
       "version_minor": 0
      },
      "text/plain": [
       "sci_respone:   0%|          | 0/2 [00:00<?, ?tasks/s]"
      ]
     },
     "metadata": {},
     "output_type": "display_data"
    },
    {
     "data": {
      "application/vnd.jupyter.widget-view+json": {
       "model_id": "3b7965968af2487ba4f9e1a1e73d783f",
       "version_major": 2,
       "version_minor": 0
      },
      "text/plain": [
       "sci_respone:   0%|          | 0/2 [00:00<?, ?tasks/s]"
      ]
     },
     "metadata": {},
     "output_type": "display_data"
    },
    {
     "data": {
      "application/vnd.jupyter.widget-view+json": {
       "model_id": "e597108914ef4f139ed0e9fe526ee1a2",
       "version_major": 2,
       "version_minor": 0
      },
      "text/plain": [
       "sci_respone:   0%|          | 0/2 [00:00<?, ?tasks/s]"
      ]
     },
     "metadata": {},
     "output_type": "display_data"
    },
    {
     "data": {
      "application/vnd.jupyter.widget-view+json": {
       "model_id": "fcf74e776f364599845fbc8d09119599",
       "version_major": 2,
       "version_minor": 0
      },
      "text/plain": [
       "sci_respone:   0%|          | 0/2 [00:00<?, ?tasks/s]"
      ]
     },
     "metadata": {},
     "output_type": "display_data"
    },
    {
     "data": {
      "application/vnd.jupyter.widget-view+json": {
       "model_id": "aea58369f9d042688c364a01b966899a",
       "version_major": 2,
       "version_minor": 0
      },
      "text/plain": [
       "sci_respone:   0%|          | 0/2 [00:00<?, ?tasks/s]"
      ]
     },
     "metadata": {},
     "output_type": "display_data"
    },
    {
     "data": {
      "application/vnd.jupyter.widget-view+json": {
       "model_id": "4470877fd7f84ce78f444a396b755f93",
       "version_major": 2,
       "version_minor": 0
      },
      "text/plain": [
       "sci_respone:   0%|          | 0/2 [00:00<?, ?tasks/s]"
      ]
     },
     "metadata": {},
     "output_type": "display_data"
    },
    {
     "data": {
      "application/vnd.jupyter.widget-view+json": {
       "model_id": "ec4dd247b3c541f8880e6b12fbec6d78",
       "version_major": 2,
       "version_minor": 0
      },
      "text/plain": [
       "sci_respone:   0%|          | 0/2 [00:00<?, ?tasks/s]"
      ]
     },
     "metadata": {},
     "output_type": "display_data"
    },
    {
     "data": {
      "application/vnd.jupyter.widget-view+json": {
       "model_id": "2ff6ea66634745d2a0b57b025d8c2642",
       "version_major": 2,
       "version_minor": 0
      },
      "text/plain": [
       "sci_respone:   0%|          | 0/2 [00:00<?, ?tasks/s]"
      ]
     },
     "metadata": {},
     "output_type": "display_data"
    },
    {
     "data": {
      "application/vnd.jupyter.widget-view+json": {
       "model_id": "ac3d6b2e654d427794315c38219152fc",
       "version_major": 2,
       "version_minor": 0
      },
      "text/plain": [
       "sci_respone:   0%|          | 0/2 [00:00<?, ?tasks/s]"
      ]
     },
     "metadata": {},
     "output_type": "display_data"
    },
    {
     "data": {
      "application/vnd.jupyter.widget-view+json": {
       "model_id": "f01f3d18abb2483c9b7c747162580eba",
       "version_major": 2,
       "version_minor": 0
      },
      "text/plain": [
       "sci_respone:   0%|          | 0/2 [00:00<?, ?tasks/s]"
      ]
     },
     "metadata": {},
     "output_type": "display_data"
    },
    {
     "data": {
      "application/vnd.jupyter.widget-view+json": {
       "model_id": "42e99fba6f004cd7abd4e50f09736b32",
       "version_major": 2,
       "version_minor": 0
      },
      "text/plain": [
       "sci_respone:   0%|          | 0/2 [00:00<?, ?tasks/s]"
      ]
     },
     "metadata": {},
     "output_type": "display_data"
    },
    {
     "data": {
      "application/vnd.jupyter.widget-view+json": {
       "model_id": "eb177cdecf8e43c3a201d3a90a6636b0",
       "version_major": 2,
       "version_minor": 0
      },
      "text/plain": [
       "sci_respone:   0%|          | 0/2 [00:00<?, ?tasks/s]"
      ]
     },
     "metadata": {},
     "output_type": "display_data"
    },
    {
     "data": {
      "application/vnd.jupyter.widget-view+json": {
       "model_id": "d16a0ba42824438c897c55c48ddcb511",
       "version_major": 2,
       "version_minor": 0
      },
      "text/plain": [
       "sci_respone:   0%|          | 0/2 [00:00<?, ?tasks/s]"
      ]
     },
     "metadata": {},
     "output_type": "display_data"
    },
    {
     "data": {
      "application/vnd.jupyter.widget-view+json": {
       "model_id": "a4740df036f1423895d10b2694f65604",
       "version_major": 2,
       "version_minor": 0
      },
      "text/plain": [
       "sci_respone:   0%|          | 0/2 [00:00<?, ?tasks/s]"
      ]
     },
     "metadata": {},
     "output_type": "display_data"
    },
    {
     "data": {
      "application/vnd.jupyter.widget-view+json": {
       "model_id": "18f445fbadca4423ad316348367d5eb7",
       "version_major": 2,
       "version_minor": 0
      },
      "text/plain": [
       "sci_respone:   0%|          | 0/2 [00:00<?, ?tasks/s]"
      ]
     },
     "metadata": {},
     "output_type": "display_data"
    },
    {
     "data": {
      "application/vnd.jupyter.widget-view+json": {
       "model_id": "192728b2df02440f921ff0076b091bd2",
       "version_major": 2,
       "version_minor": 0
      },
      "text/plain": [
       "sci_respone:   0%|          | 0/2 [00:00<?, ?tasks/s]"
      ]
     },
     "metadata": {},
     "output_type": "display_data"
    },
    {
     "data": {
      "application/vnd.jupyter.widget-view+json": {
       "model_id": "afdf59e5a947411dad1c4a4ee7595fec",
       "version_major": 2,
       "version_minor": 0
      },
      "text/plain": [
       "<lambda>:   0%|          | 0/2 [00:00<?, ?tasks/s]"
      ]
     },
     "metadata": {},
     "output_type": "display_data"
    },
    {
     "data": {
      "application/vnd.jupyter.widget-view+json": {
       "model_id": "59674c3d7d354956bc616584e3bafe37",
       "version_major": 2,
       "version_minor": 0
      },
      "text/plain": [
       "sci_respone:   0%|          | 0/2 [00:00<?, ?tasks/s]"
      ]
     },
     "metadata": {},
     "output_type": "display_data"
    },
    {
     "data": {
      "application/vnd.jupyter.widget-view+json": {
       "model_id": "9ec8063b192d4d4786616319f4ed6dc0",
       "version_major": 2,
       "version_minor": 0
      },
      "text/plain": [
       "sci_respone:   0%|          | 0/2 [00:00<?, ?tasks/s]"
      ]
     },
     "metadata": {},
     "output_type": "display_data"
    },
    {
     "data": {
      "application/vnd.jupyter.widget-view+json": {
       "model_id": "20cf2993a05e4bc9b3d74c880587db7a",
       "version_major": 2,
       "version_minor": 0
      },
      "text/plain": [
       "sci_respone:   0%|          | 0/2 [00:00<?, ?tasks/s]"
      ]
     },
     "metadata": {},
     "output_type": "display_data"
    },
    {
     "data": {
      "application/vnd.jupyter.widget-view+json": {
       "model_id": "ed3b73cb9801442699c61fe99abcaeba",
       "version_major": 2,
       "version_minor": 0
      },
      "text/plain": [
       "sci_respone:   0%|          | 0/2 [00:00<?, ?tasks/s]"
      ]
     },
     "metadata": {},
     "output_type": "display_data"
    },
    {
     "data": {
      "application/vnd.jupyter.widget-view+json": {
       "model_id": "7fff08b383c44e7897e9b47e27dde331",
       "version_major": 2,
       "version_minor": 0
      },
      "text/plain": [
       "sci_respone:   0%|          | 0/2 [00:00<?, ?tasks/s]"
      ]
     },
     "metadata": {},
     "output_type": "display_data"
    },
    {
     "data": {
      "application/vnd.jupyter.widget-view+json": {
       "model_id": "2f4b5b14d5c245b187a9bed6977f2596",
       "version_major": 2,
       "version_minor": 0
      },
      "text/plain": [
       "sci_respone:   0%|          | 0/2 [00:00<?, ?tasks/s]"
      ]
     },
     "metadata": {},
     "output_type": "display_data"
    },
    {
     "data": {
      "application/vnd.jupyter.widget-view+json": {
       "model_id": "4542d9cc135045f39ae5fa8c339f8686",
       "version_major": 2,
       "version_minor": 0
      },
      "text/plain": [
       "sci_respone:   0%|          | 0/2 [00:00<?, ?tasks/s]"
      ]
     },
     "metadata": {},
     "output_type": "display_data"
    },
    {
     "data": {
      "application/vnd.jupyter.widget-view+json": {
       "model_id": "db7b7226bb7b47a4a6e10fc0f19f1697",
       "version_major": 2,
       "version_minor": 0
      },
      "text/plain": [
       "sci_respone:   0%|          | 0/2 [00:00<?, ?tasks/s]"
      ]
     },
     "metadata": {},
     "output_type": "display_data"
    },
    {
     "data": {
      "application/vnd.jupyter.widget-view+json": {
       "model_id": "b9953c9e74b244caaf2ae50e49ec604b",
       "version_major": 2,
       "version_minor": 0
      },
      "text/plain": [
       "sci_respone:   0%|          | 0/2 [00:00<?, ?tasks/s]"
      ]
     },
     "metadata": {},
     "output_type": "display_data"
    },
    {
     "data": {
      "application/vnd.jupyter.widget-view+json": {
       "model_id": "e2a3419b6a384a18b52c84dde324a608",
       "version_major": 2,
       "version_minor": 0
      },
      "text/plain": [
       "sci_respone:   0%|          | 0/2 [00:00<?, ?tasks/s]"
      ]
     },
     "metadata": {},
     "output_type": "display_data"
    },
    {
     "data": {
      "application/vnd.jupyter.widget-view+json": {
       "model_id": "3e7ddbc87b0e4a2197f3a55cb1e3085e",
       "version_major": 2,
       "version_minor": 0
      },
      "text/plain": [
       "sci_respone:   0%|          | 0/2 [00:00<?, ?tasks/s]"
      ]
     },
     "metadata": {},
     "output_type": "display_data"
    },
    {
     "data": {
      "application/vnd.jupyter.widget-view+json": {
       "model_id": "cad166e654cb4c17833d20bb3d0367e3",
       "version_major": 2,
       "version_minor": 0
      },
      "text/plain": [
       "sci_respone:   0%|          | 0/2 [00:00<?, ?tasks/s]"
      ]
     },
     "metadata": {},
     "output_type": "display_data"
    },
    {
     "data": {
      "application/vnd.jupyter.widget-view+json": {
       "model_id": "9c9ccaf1973848ac9bea18055e3f8771",
       "version_major": 2,
       "version_minor": 0
      },
      "text/plain": [
       "sci_respone:   0%|          | 0/2 [00:00<?, ?tasks/s]"
      ]
     },
     "metadata": {},
     "output_type": "display_data"
    },
    {
     "data": {
      "application/vnd.jupyter.widget-view+json": {
       "model_id": "7800e12e3ad34500b79cd181b3eb987f",
       "version_major": 2,
       "version_minor": 0
      },
      "text/plain": [
       "sci_respone:   0%|          | 0/2 [00:00<?, ?tasks/s]"
      ]
     },
     "metadata": {},
     "output_type": "display_data"
    },
    {
     "data": {
      "application/vnd.jupyter.widget-view+json": {
       "model_id": "849d1c910e6843188cbca0f4a2b9a647",
       "version_major": 2,
       "version_minor": 0
      },
      "text/plain": [
       "sci_respone:   0%|          | 0/2 [00:00<?, ?tasks/s]"
      ]
     },
     "metadata": {},
     "output_type": "display_data"
    },
    {
     "data": {
      "application/vnd.jupyter.widget-view+json": {
       "model_id": "1438da93cda648129f246514343da564",
       "version_major": 2,
       "version_minor": 0
      },
      "text/plain": [
       "sci_respone:   0%|          | 0/2 [00:00<?, ?tasks/s]"
      ]
     },
     "metadata": {},
     "output_type": "display_data"
    },
    {
     "data": {
      "application/vnd.jupyter.widget-view+json": {
       "model_id": "a68a4d21e7a24a3daa745da52ea3e0bc",
       "version_major": 2,
       "version_minor": 0
      },
      "text/plain": [
       "sci_respone:   0%|          | 0/2 [00:00<?, ?tasks/s]"
      ]
     },
     "metadata": {},
     "output_type": "display_data"
    },
    {
     "data": {
      "application/vnd.jupyter.widget-view+json": {
       "model_id": "5023980114584868899f7c500c1b6529",
       "version_major": 2,
       "version_minor": 0
      },
      "text/plain": [
       "sci_respone:   0%|          | 0/2 [00:00<?, ?tasks/s]"
      ]
     },
     "metadata": {},
     "output_type": "display_data"
    },
    {
     "data": {
      "application/vnd.jupyter.widget-view+json": {
       "model_id": "0f834f0bbc3c40f897ed14b60dce2896",
       "version_major": 2,
       "version_minor": 0
      },
      "text/plain": [
       "sci_respone:   0%|          | 0/2 [00:00<?, ?tasks/s]"
      ]
     },
     "metadata": {},
     "output_type": "display_data"
    },
    {
     "data": {
      "application/vnd.jupyter.widget-view+json": {
       "model_id": "788a6018a3af45e2a0a6a6ea98ac542a",
       "version_major": 2,
       "version_minor": 0
      },
      "text/plain": [
       "sci_respone:   0%|          | 0/2 [00:00<?, ?tasks/s]"
      ]
     },
     "metadata": {},
     "output_type": "display_data"
    },
    {
     "data": {
      "application/vnd.jupyter.widget-view+json": {
       "model_id": "4c6f8edf88ab46a58a9aa4be6a00cf65",
       "version_major": 2,
       "version_minor": 0
      },
      "text/plain": [
       "sci_respone:   0%|          | 0/2 [00:00<?, ?tasks/s]"
      ]
     },
     "metadata": {},
     "output_type": "display_data"
    },
    {
     "data": {
      "application/vnd.jupyter.widget-view+json": {
       "model_id": "8adcf37315b34584b3cbef369fdf7077",
       "version_major": 2,
       "version_minor": 0
      },
      "text/plain": [
       "sci_respone:   0%|          | 0/2 [00:00<?, ?tasks/s]"
      ]
     },
     "metadata": {},
     "output_type": "display_data"
    },
    {
     "data": {
      "application/vnd.jupyter.widget-view+json": {
       "model_id": "374c12a43c7c4cc7b6939b3306a9a8da",
       "version_major": 2,
       "version_minor": 0
      },
      "text/plain": [
       "sci_respone:   0%|          | 0/2 [00:00<?, ?tasks/s]"
      ]
     },
     "metadata": {},
     "output_type": "display_data"
    },
    {
     "data": {
      "application/vnd.jupyter.widget-view+json": {
       "model_id": "16f54215a36747538ed4152d0caa70df",
       "version_major": 2,
       "version_minor": 0
      },
      "text/plain": [
       "sci_respone:   0%|          | 0/2 [00:00<?, ?tasks/s]"
      ]
     },
     "metadata": {},
     "output_type": "display_data"
    },
    {
     "data": {
      "application/vnd.jupyter.widget-view+json": {
       "model_id": "c11f25898dee4ec5b2769b4087b8d650",
       "version_major": 2,
       "version_minor": 0
      },
      "text/plain": [
       "sci_respone:   0%|          | 0/2 [00:00<?, ?tasks/s]"
      ]
     },
     "metadata": {},
     "output_type": "display_data"
    },
    {
     "data": {
      "application/vnd.jupyter.widget-view+json": {
       "model_id": "65c6d38f35d94a2b8182bff092b9de84",
       "version_major": 2,
       "version_minor": 0
      },
      "text/plain": [
       "sci_respone:   0%|          | 0/2 [00:00<?, ?tasks/s]"
      ]
     },
     "metadata": {},
     "output_type": "display_data"
    },
    {
     "data": {
      "application/vnd.jupyter.widget-view+json": {
       "model_id": "a2158c7a08e5450aaff307cf97b9fbf9",
       "version_major": 2,
       "version_minor": 0
      },
      "text/plain": [
       "sci_respone:   0%|          | 0/2 [00:00<?, ?tasks/s]"
      ]
     },
     "metadata": {},
     "output_type": "display_data"
    },
    {
     "data": {
      "application/vnd.jupyter.widget-view+json": {
       "model_id": "abfc9e404bcf45a0825bd787340ad1ac",
       "version_major": 2,
       "version_minor": 0
      },
      "text/plain": [
       "sci_respone:   0%|          | 0/2 [00:00<?, ?tasks/s]"
      ]
     },
     "metadata": {},
     "output_type": "display_data"
    },
    {
     "data": {
      "application/vnd.jupyter.widget-view+json": {
       "model_id": "7417e99352b040d18b3556fc95ce155b",
       "version_major": 2,
       "version_minor": 0
      },
      "text/plain": [
       "sci_respone:   0%|          | 0/2 [00:00<?, ?tasks/s]"
      ]
     },
     "metadata": {},
     "output_type": "display_data"
    },
    {
     "data": {
      "application/vnd.jupyter.widget-view+json": {
       "model_id": "f441c87b61884fe1bc73c04d13688857",
       "version_major": 2,
       "version_minor": 0
      },
      "text/plain": [
       "sci_respone:   0%|          | 0/2 [00:00<?, ?tasks/s]"
      ]
     },
     "metadata": {},
     "output_type": "display_data"
    },
    {
     "data": {
      "application/vnd.jupyter.widget-view+json": {
       "model_id": "a0204c2af3634d2c92a393ae8c0494a6",
       "version_major": 2,
       "version_minor": 0
      },
      "text/plain": [
       "<lambda>:   0%|          | 0/2 [00:00<?, ?tasks/s]"
      ]
     },
     "metadata": {},
     "output_type": "display_data"
    },
    {
     "data": {
      "application/vnd.jupyter.widget-view+json": {
       "model_id": "36ee0963fa1d40eab440b59197cd0314",
       "version_major": 2,
       "version_minor": 0
      },
      "text/plain": [
       "sci_respone:   0%|          | 0/2 [00:00<?, ?tasks/s]"
      ]
     },
     "metadata": {},
     "output_type": "display_data"
    },
    {
     "data": {
      "application/vnd.jupyter.widget-view+json": {
       "model_id": "e4c6376f8f694289895159f4efc9701b",
       "version_major": 2,
       "version_minor": 0
      },
      "text/plain": [
       "sci_respone:   0%|          | 0/2 [00:00<?, ?tasks/s]"
      ]
     },
     "metadata": {},
     "output_type": "display_data"
    },
    {
     "data": {
      "application/vnd.jupyter.widget-view+json": {
       "model_id": "d7c40b37ac554866a9c866108f15b4e0",
       "version_major": 2,
       "version_minor": 0
      },
      "text/plain": [
       "sci_respone:   0%|          | 0/2 [00:00<?, ?tasks/s]"
      ]
     },
     "metadata": {},
     "output_type": "display_data"
    },
    {
     "data": {
      "application/vnd.jupyter.widget-view+json": {
       "model_id": "c2d72f81292042cc930017c6ac130ae5",
       "version_major": 2,
       "version_minor": 0
      },
      "text/plain": [
       "sci_respone:   0%|          | 0/2 [00:00<?, ?tasks/s]"
      ]
     },
     "metadata": {},
     "output_type": "display_data"
    },
    {
     "data": {
      "application/vnd.jupyter.widget-view+json": {
       "model_id": "dff8dda641a646f88e24231f8219bab0",
       "version_major": 2,
       "version_minor": 0
      },
      "text/plain": [
       "sci_respone:   0%|          | 0/2 [00:00<?, ?tasks/s]"
      ]
     },
     "metadata": {},
     "output_type": "display_data"
    },
    {
     "data": {
      "application/vnd.jupyter.widget-view+json": {
       "model_id": "1ba627fc92da406bb49d169dbbf2eb86",
       "version_major": 2,
       "version_minor": 0
      },
      "text/plain": [
       "sci_respone:   0%|          | 0/2 [00:00<?, ?tasks/s]"
      ]
     },
     "metadata": {},
     "output_type": "display_data"
    },
    {
     "data": {
      "application/vnd.jupyter.widget-view+json": {
       "model_id": "71e6b175a7a74d9396e23ddaae9a3573",
       "version_major": 2,
       "version_minor": 0
      },
      "text/plain": [
       "sci_respone:   0%|          | 0/2 [00:00<?, ?tasks/s]"
      ]
     },
     "metadata": {},
     "output_type": "display_data"
    },
    {
     "data": {
      "application/vnd.jupyter.widget-view+json": {
       "model_id": "52c0054718cd4fa7b8a73d4332f83f9f",
       "version_major": 2,
       "version_minor": 0
      },
      "text/plain": [
       "sci_respone:   0%|          | 0/2 [00:00<?, ?tasks/s]"
      ]
     },
     "metadata": {},
     "output_type": "display_data"
    },
    {
     "data": {
      "application/vnd.jupyter.widget-view+json": {
       "model_id": "76b123d781f34fe6b07da5b1ef36afc4",
       "version_major": 2,
       "version_minor": 0
      },
      "text/plain": [
       "sci_respone:   0%|          | 0/2 [00:00<?, ?tasks/s]"
      ]
     },
     "metadata": {},
     "output_type": "display_data"
    },
    {
     "data": {
      "application/vnd.jupyter.widget-view+json": {
       "model_id": "0236e6e80d0e43009ada962fa4cbcf92",
       "version_major": 2,
       "version_minor": 0
      },
      "text/plain": [
       "sci_respone:   0%|          | 0/2 [00:00<?, ?tasks/s]"
      ]
     },
     "metadata": {},
     "output_type": "display_data"
    },
    {
     "data": {
      "application/vnd.jupyter.widget-view+json": {
       "model_id": "bfba4ed596a7443f81434c81d877bbdf",
       "version_major": 2,
       "version_minor": 0
      },
      "text/plain": [
       "sci_respone:   0%|          | 0/2 [00:00<?, ?tasks/s]"
      ]
     },
     "metadata": {},
     "output_type": "display_data"
    },
    {
     "data": {
      "application/vnd.jupyter.widget-view+json": {
       "model_id": "5ae16bc061db489b8ed6d306791e6e8c",
       "version_major": 2,
       "version_minor": 0
      },
      "text/plain": [
       "sci_respone:   0%|          | 0/2 [00:00<?, ?tasks/s]"
      ]
     },
     "metadata": {},
     "output_type": "display_data"
    },
    {
     "data": {
      "application/vnd.jupyter.widget-view+json": {
       "model_id": "6a594b47c226456480a40efc2180f7ec",
       "version_major": 2,
       "version_minor": 0
      },
      "text/plain": [
       "sci_respone:   0%|          | 0/2 [00:00<?, ?tasks/s]"
      ]
     },
     "metadata": {},
     "output_type": "display_data"
    },
    {
     "data": {
      "application/vnd.jupyter.widget-view+json": {
       "model_id": "fadc2ea507e342db9540b543c686bce9",
       "version_major": 2,
       "version_minor": 0
      },
      "text/plain": [
       "sci_respone:   0%|          | 0/2 [00:00<?, ?tasks/s]"
      ]
     },
     "metadata": {},
     "output_type": "display_data"
    },
    {
     "data": {
      "application/vnd.jupyter.widget-view+json": {
       "model_id": "237d1feb7c174676819bf1ad25445da6",
       "version_major": 2,
       "version_minor": 0
      },
      "text/plain": [
       "sci_respone:   0%|          | 0/2 [00:00<?, ?tasks/s]"
      ]
     },
     "metadata": {},
     "output_type": "display_data"
    },
    {
     "data": {
      "application/vnd.jupyter.widget-view+json": {
       "model_id": "75fbf040891f4b1ebc223adecdd244cb",
       "version_major": 2,
       "version_minor": 0
      },
      "text/plain": [
       "sci_respone:   0%|          | 0/2 [00:00<?, ?tasks/s]"
      ]
     },
     "metadata": {},
     "output_type": "display_data"
    },
    {
     "data": {
      "application/vnd.jupyter.widget-view+json": {
       "model_id": "39b6e7fba803407e8e4347ba643694cf",
       "version_major": 2,
       "version_minor": 0
      },
      "text/plain": [
       "sci_respone:   0%|          | 0/2 [00:00<?, ?tasks/s]"
      ]
     },
     "metadata": {},
     "output_type": "display_data"
    },
    {
     "data": {
      "application/vnd.jupyter.widget-view+json": {
       "model_id": "63095fdd912740a5aa095be08663b31b",
       "version_major": 2,
       "version_minor": 0
      },
      "text/plain": [
       "sci_respone:   0%|          | 0/2 [00:00<?, ?tasks/s]"
      ]
     },
     "metadata": {},
     "output_type": "display_data"
    },
    {
     "data": {
      "application/vnd.jupyter.widget-view+json": {
       "model_id": "9aaf1f3f39794aaaad56d5cc723120af",
       "version_major": 2,
       "version_minor": 0
      },
      "text/plain": [
       "sci_respone:   0%|          | 0/2 [00:00<?, ?tasks/s]"
      ]
     },
     "metadata": {},
     "output_type": "display_data"
    },
    {
     "data": {
      "application/vnd.jupyter.widget-view+json": {
       "model_id": "b7036b13dc6b4ed498687971c20b2e98",
       "version_major": 2,
       "version_minor": 0
      },
      "text/plain": [
       "sci_respone:   0%|          | 0/2 [00:00<?, ?tasks/s]"
      ]
     },
     "metadata": {},
     "output_type": "display_data"
    },
    {
     "data": {
      "application/vnd.jupyter.widget-view+json": {
       "model_id": "71a1e2a02aee4536aca93f1514393f6b",
       "version_major": 2,
       "version_minor": 0
      },
      "text/plain": [
       "sci_respone:   0%|          | 0/2 [00:00<?, ?tasks/s]"
      ]
     },
     "metadata": {},
     "output_type": "display_data"
    },
    {
     "data": {
      "application/vnd.jupyter.widget-view+json": {
       "model_id": "88b78a3ec8774338a2750c2e1897bf8c",
       "version_major": 2,
       "version_minor": 0
      },
      "text/plain": [
       "sci_respone:   0%|          | 0/2 [00:00<?, ?tasks/s]"
      ]
     },
     "metadata": {},
     "output_type": "display_data"
    },
    {
     "data": {
      "application/vnd.jupyter.widget-view+json": {
       "model_id": "fac2d2768de343198544c10f12d12354",
       "version_major": 2,
       "version_minor": 0
      },
      "text/plain": [
       "sci_respone:   0%|          | 0/2 [00:00<?, ?tasks/s]"
      ]
     },
     "metadata": {},
     "output_type": "display_data"
    },
    {
     "data": {
      "application/vnd.jupyter.widget-view+json": {
       "model_id": "25d32d6cbee6476585b0e983f1190daa",
       "version_major": 2,
       "version_minor": 0
      },
      "text/plain": [
       "sci_respone:   0%|          | 0/2 [00:00<?, ?tasks/s]"
      ]
     },
     "metadata": {},
     "output_type": "display_data"
    },
    {
     "data": {
      "application/vnd.jupyter.widget-view+json": {
       "model_id": "f9f3449f20754f8da5de31c1ffb5458d",
       "version_major": 2,
       "version_minor": 0
      },
      "text/plain": [
       "sci_respone:   0%|          | 0/2 [00:00<?, ?tasks/s]"
      ]
     },
     "metadata": {},
     "output_type": "display_data"
    },
    {
     "data": {
      "application/vnd.jupyter.widget-view+json": {
       "model_id": "5f22e4c8341c457c8136f33dcd8804bb",
       "version_major": 2,
       "version_minor": 0
      },
      "text/plain": [
       "sci_respone:   0%|          | 0/2 [00:00<?, ?tasks/s]"
      ]
     },
     "metadata": {},
     "output_type": "display_data"
    },
    {
     "data": {
      "application/vnd.jupyter.widget-view+json": {
       "model_id": "b2c0f875051b4673b512a3be082e4307",
       "version_major": 2,
       "version_minor": 0
      },
      "text/plain": [
       "sci_respone:   0%|          | 0/2 [00:00<?, ?tasks/s]"
      ]
     },
     "metadata": {},
     "output_type": "display_data"
    },
    {
     "data": {
      "application/vnd.jupyter.widget-view+json": {
       "model_id": "ac4f0e3127414a5ab578deed7885611c",
       "version_major": 2,
       "version_minor": 0
      },
      "text/plain": [
       "sci_respone:   0%|          | 0/2 [00:00<?, ?tasks/s]"
      ]
     },
     "metadata": {},
     "output_type": "display_data"
    },
    {
     "data": {
      "application/vnd.jupyter.widget-view+json": {
       "model_id": "6c73f08a432f49dd9c10ef22b7f56428",
       "version_major": 2,
       "version_minor": 0
      },
      "text/plain": [
       "sci_respone:   0%|          | 0/2 [00:00<?, ?tasks/s]"
      ]
     },
     "metadata": {},
     "output_type": "display_data"
    },
    {
     "data": {
      "application/vnd.jupyter.widget-view+json": {
       "model_id": "3011e0f331984c2db61daaca315b802e",
       "version_major": 2,
       "version_minor": 0
      },
      "text/plain": [
       "sci_respone:   0%|          | 0/2 [00:00<?, ?tasks/s]"
      ]
     },
     "metadata": {},
     "output_type": "display_data"
    },
    {
     "data": {
      "application/vnd.jupyter.widget-view+json": {
       "model_id": "fc6fad2ab92a481c909bf152ce8439f9",
       "version_major": 2,
       "version_minor": 0
      },
      "text/plain": [
       "<lambda>:   0%|          | 0/2 [00:00<?, ?tasks/s]"
      ]
     },
     "metadata": {},
     "output_type": "display_data"
    },
    {
     "data": {
      "application/vnd.jupyter.widget-view+json": {
       "model_id": "9182623fdc814f418a9ef2a238d34172",
       "version_major": 2,
       "version_minor": 0
      },
      "text/plain": [
       "sci_respone:   0%|          | 0/2 [00:00<?, ?tasks/s]"
      ]
     },
     "metadata": {},
     "output_type": "display_data"
    },
    {
     "data": {
      "application/vnd.jupyter.widget-view+json": {
       "model_id": "92dc6f647c214f00a42c1b57d952a015",
       "version_major": 2,
       "version_minor": 0
      },
      "text/plain": [
       "sci_respone:   0%|          | 0/2 [00:00<?, ?tasks/s]"
      ]
     },
     "metadata": {},
     "output_type": "display_data"
    },
    {
     "data": {
      "application/vnd.jupyter.widget-view+json": {
       "model_id": "d2c89efc95e84bcb886af70c6d02c638",
       "version_major": 2,
       "version_minor": 0
      },
      "text/plain": [
       "sci_respone:   0%|          | 0/2 [00:00<?, ?tasks/s]"
      ]
     },
     "metadata": {},
     "output_type": "display_data"
    },
    {
     "data": {
      "application/vnd.jupyter.widget-view+json": {
       "model_id": "4df7e45a09fe4459b1dce5866f04c718",
       "version_major": 2,
       "version_minor": 0
      },
      "text/plain": [
       "sci_respone:   0%|          | 0/2 [00:00<?, ?tasks/s]"
      ]
     },
     "metadata": {},
     "output_type": "display_data"
    },
    {
     "data": {
      "application/vnd.jupyter.widget-view+json": {
       "model_id": "bf68193080a749369d0c4843e593ed4e",
       "version_major": 2,
       "version_minor": 0
      },
      "text/plain": [
       "sci_respone:   0%|          | 0/2 [00:00<?, ?tasks/s]"
      ]
     },
     "metadata": {},
     "output_type": "display_data"
    },
    {
     "data": {
      "application/vnd.jupyter.widget-view+json": {
       "model_id": "a9b5fc431f434886849ded2f16182a92",
       "version_major": 2,
       "version_minor": 0
      },
      "text/plain": [
       "sci_respone:   0%|          | 0/2 [00:00<?, ?tasks/s]"
      ]
     },
     "metadata": {},
     "output_type": "display_data"
    },
    {
     "data": {
      "application/vnd.jupyter.widget-view+json": {
       "model_id": "4e9873b8d7eb49a1a086d34802584b8e",
       "version_major": 2,
       "version_minor": 0
      },
      "text/plain": [
       "sci_respone:   0%|          | 0/2 [00:00<?, ?tasks/s]"
      ]
     },
     "metadata": {},
     "output_type": "display_data"
    },
    {
     "data": {
      "application/vnd.jupyter.widget-view+json": {
       "model_id": "e69b18074c3140c9891cf59378af380f",
       "version_major": 2,
       "version_minor": 0
      },
      "text/plain": [
       "sci_respone:   0%|          | 0/2 [00:00<?, ?tasks/s]"
      ]
     },
     "metadata": {},
     "output_type": "display_data"
    },
    {
     "data": {
      "application/vnd.jupyter.widget-view+json": {
       "model_id": "7cfd504533ec4384a931e4b97f3d948f",
       "version_major": 2,
       "version_minor": 0
      },
      "text/plain": [
       "sci_respone:   0%|          | 0/2 [00:00<?, ?tasks/s]"
      ]
     },
     "metadata": {},
     "output_type": "display_data"
    },
    {
     "data": {
      "application/vnd.jupyter.widget-view+json": {
       "model_id": "4feedc52cce14ead9277680ae32d0b41",
       "version_major": 2,
       "version_minor": 0
      },
      "text/plain": [
       "sci_respone:   0%|          | 0/2 [00:00<?, ?tasks/s]"
      ]
     },
     "metadata": {},
     "output_type": "display_data"
    },
    {
     "data": {
      "application/vnd.jupyter.widget-view+json": {
       "model_id": "0327f10ba22c458ca6623b1860428d6f",
       "version_major": 2,
       "version_minor": 0
      },
      "text/plain": [
       "sci_respone:   0%|          | 0/2 [00:00<?, ?tasks/s]"
      ]
     },
     "metadata": {},
     "output_type": "display_data"
    },
    {
     "data": {
      "application/vnd.jupyter.widget-view+json": {
       "model_id": "12d4657d9e174dbca64aa31ae196883b",
       "version_major": 2,
       "version_minor": 0
      },
      "text/plain": [
       "sci_respone:   0%|          | 0/2 [00:00<?, ?tasks/s]"
      ]
     },
     "metadata": {},
     "output_type": "display_data"
    },
    {
     "data": {
      "application/vnd.jupyter.widget-view+json": {
       "model_id": "bda7cdfabcf94fd9bbca1d5379b247bb",
       "version_major": 2,
       "version_minor": 0
      },
      "text/plain": [
       "sci_respone:   0%|          | 0/2 [00:00<?, ?tasks/s]"
      ]
     },
     "metadata": {},
     "output_type": "display_data"
    },
    {
     "data": {
      "application/vnd.jupyter.widget-view+json": {
       "model_id": "5c1d32f0fae44246b3c69bfe7a15e4cb",
       "version_major": 2,
       "version_minor": 0
      },
      "text/plain": [
       "sci_respone:   0%|          | 0/2 [00:00<?, ?tasks/s]"
      ]
     },
     "metadata": {},
     "output_type": "display_data"
    },
    {
     "data": {
      "application/vnd.jupyter.widget-view+json": {
       "model_id": "b6fabed1055e4183848932a15090a79f",
       "version_major": 2,
       "version_minor": 0
      },
      "text/plain": [
       "sci_respone:   0%|          | 0/2 [00:00<?, ?tasks/s]"
      ]
     },
     "metadata": {},
     "output_type": "display_data"
    },
    {
     "data": {
      "application/vnd.jupyter.widget-view+json": {
       "model_id": "b8d6987c1397461884c1555f1274f9bf",
       "version_major": 2,
       "version_minor": 0
      },
      "text/plain": [
       "sci_respone:   0%|          | 0/2 [00:00<?, ?tasks/s]"
      ]
     },
     "metadata": {},
     "output_type": "display_data"
    },
    {
     "data": {
      "application/vnd.jupyter.widget-view+json": {
       "model_id": "c9201ec797b946099c1f26de820c1204",
       "version_major": 2,
       "version_minor": 0
      },
      "text/plain": [
       "sci_respone:   0%|          | 0/2 [00:00<?, ?tasks/s]"
      ]
     },
     "metadata": {},
     "output_type": "display_data"
    },
    {
     "data": {
      "application/vnd.jupyter.widget-view+json": {
       "model_id": "ae249c9dd822475693dbda84947f5c50",
       "version_major": 2,
       "version_minor": 0
      },
      "text/plain": [
       "sci_respone:   0%|          | 0/2 [00:00<?, ?tasks/s]"
      ]
     },
     "metadata": {},
     "output_type": "display_data"
    },
    {
     "data": {
      "application/vnd.jupyter.widget-view+json": {
       "model_id": "dd183ab3c62c4302a84efa65d0e658a3",
       "version_major": 2,
       "version_minor": 0
      },
      "text/plain": [
       "sci_respone:   0%|          | 0/2 [00:00<?, ?tasks/s]"
      ]
     },
     "metadata": {},
     "output_type": "display_data"
    },
    {
     "data": {
      "application/vnd.jupyter.widget-view+json": {
       "model_id": "044872100ee44be8a6f4e70833bf17fd",
       "version_major": 2,
       "version_minor": 0
      },
      "text/plain": [
       "sci_respone:   0%|          | 0/2 [00:00<?, ?tasks/s]"
      ]
     },
     "metadata": {},
     "output_type": "display_data"
    },
    {
     "data": {
      "application/vnd.jupyter.widget-view+json": {
       "model_id": "f459d077c1bc45e896adbd18ebbb8d1b",
       "version_major": 2,
       "version_minor": 0
      },
      "text/plain": [
       "sci_respone:   0%|          | 0/2 [00:00<?, ?tasks/s]"
      ]
     },
     "metadata": {},
     "output_type": "display_data"
    },
    {
     "data": {
      "application/vnd.jupyter.widget-view+json": {
       "model_id": "abf6696cf0ff4292bcbad1f3f87a4193",
       "version_major": 2,
       "version_minor": 0
      },
      "text/plain": [
       "sci_respone:   0%|          | 0/2 [00:00<?, ?tasks/s]"
      ]
     },
     "metadata": {},
     "output_type": "display_data"
    },
    {
     "data": {
      "application/vnd.jupyter.widget-view+json": {
       "model_id": "7b829a22b147427c9d649793975965c6",
       "version_major": 2,
       "version_minor": 0
      },
      "text/plain": [
       "sci_respone:   0%|          | 0/2 [00:00<?, ?tasks/s]"
      ]
     },
     "metadata": {},
     "output_type": "display_data"
    },
    {
     "data": {
      "application/vnd.jupyter.widget-view+json": {
       "model_id": "f1daca2ebc44487eaadad89cfef068c6",
       "version_major": 2,
       "version_minor": 0
      },
      "text/plain": [
       "sci_respone:   0%|          | 0/2 [00:00<?, ?tasks/s]"
      ]
     },
     "metadata": {},
     "output_type": "display_data"
    },
    {
     "data": {
      "application/vnd.jupyter.widget-view+json": {
       "model_id": "561021fff59048ea811f039c99b0d44c",
       "version_major": 2,
       "version_minor": 0
      },
      "text/plain": [
       "sci_respone:   0%|          | 0/2 [00:00<?, ?tasks/s]"
      ]
     },
     "metadata": {},
     "output_type": "display_data"
    },
    {
     "data": {
      "application/vnd.jupyter.widget-view+json": {
       "model_id": "4500229bd59442c5b1eb34637acc94a0",
       "version_major": 2,
       "version_minor": 0
      },
      "text/plain": [
       "sci_respone:   0%|          | 0/2 [00:00<?, ?tasks/s]"
      ]
     },
     "metadata": {},
     "output_type": "display_data"
    },
    {
     "data": {
      "application/vnd.jupyter.widget-view+json": {
       "model_id": "128b37a0191c45b6a06e50ed5889a4fa",
       "version_major": 2,
       "version_minor": 0
      },
      "text/plain": [
       "sci_respone:   0%|          | 0/2 [00:00<?, ?tasks/s]"
      ]
     },
     "metadata": {},
     "output_type": "display_data"
    },
    {
     "data": {
      "application/vnd.jupyter.widget-view+json": {
       "model_id": "0c553b1451ac4012a35dec1f6970ac7c",
       "version_major": 2,
       "version_minor": 0
      },
      "text/plain": [
       "sci_respone:   0%|          | 0/2 [00:00<?, ?tasks/s]"
      ]
     },
     "metadata": {},
     "output_type": "display_data"
    },
    {
     "data": {
      "application/vnd.jupyter.widget-view+json": {
       "model_id": "9beed42319724436b6f8f32c181d02ed",
       "version_major": 2,
       "version_minor": 0
      },
      "text/plain": [
       "sci_respone:   0%|          | 0/2 [00:00<?, ?tasks/s]"
      ]
     },
     "metadata": {},
     "output_type": "display_data"
    },
    {
     "data": {
      "application/vnd.jupyter.widget-view+json": {
       "model_id": "2da5076d181a4f2b92860615f4660c09",
       "version_major": 2,
       "version_minor": 0
      },
      "text/plain": [
       "sci_respone:   0%|          | 0/2 [00:00<?, ?tasks/s]"
      ]
     },
     "metadata": {},
     "output_type": "display_data"
    },
    {
     "data": {
      "application/vnd.jupyter.widget-view+json": {
       "model_id": "f157553be89d462f879cc39f2b253a60",
       "version_major": 2,
       "version_minor": 0
      },
      "text/plain": [
       "<lambda>:   0%|          | 0/2 [00:00<?, ?tasks/s]"
      ]
     },
     "metadata": {},
     "output_type": "display_data"
    },
    {
     "data": {
      "application/vnd.jupyter.widget-view+json": {
       "model_id": "be4c912b1761401c86ffd16707bd28c5",
       "version_major": 2,
       "version_minor": 0
      },
      "text/plain": [
       "sci_respone:   0%|          | 0/2 [00:00<?, ?tasks/s]"
      ]
     },
     "metadata": {},
     "output_type": "display_data"
    },
    {
     "data": {
      "application/vnd.jupyter.widget-view+json": {
       "model_id": "aaecec89a6ad4eaca005edb45dfae4f6",
       "version_major": 2,
       "version_minor": 0
      },
      "text/plain": [
       "sci_respone:   0%|          | 0/2 [00:00<?, ?tasks/s]"
      ]
     },
     "metadata": {},
     "output_type": "display_data"
    },
    {
     "data": {
      "application/vnd.jupyter.widget-view+json": {
       "model_id": "18fbf03fdbcc471bb4575cd19bfe5087",
       "version_major": 2,
       "version_minor": 0
      },
      "text/plain": [
       "sci_respone:   0%|          | 0/2 [00:00<?, ?tasks/s]"
      ]
     },
     "metadata": {},
     "output_type": "display_data"
    },
    {
     "data": {
      "application/vnd.jupyter.widget-view+json": {
       "model_id": "d3c4334874ac4e77bc9714b34efdfb8a",
       "version_major": 2,
       "version_minor": 0
      },
      "text/plain": [
       "sci_respone:   0%|          | 0/2 [00:00<?, ?tasks/s]"
      ]
     },
     "metadata": {},
     "output_type": "display_data"
    },
    {
     "data": {
      "application/vnd.jupyter.widget-view+json": {
       "model_id": "17db8119bbca4f13b3817b53c201c148",
       "version_major": 2,
       "version_minor": 0
      },
      "text/plain": [
       "sci_respone:   0%|          | 0/2 [00:00<?, ?tasks/s]"
      ]
     },
     "metadata": {},
     "output_type": "display_data"
    },
    {
     "data": {
      "application/vnd.jupyter.widget-view+json": {
       "model_id": "a3b18468996e4f6d9b99293f69cbb4bd",
       "version_major": 2,
       "version_minor": 0
      },
      "text/plain": [
       "sci_respone:   0%|          | 0/2 [00:00<?, ?tasks/s]"
      ]
     },
     "metadata": {},
     "output_type": "display_data"
    },
    {
     "data": {
      "application/vnd.jupyter.widget-view+json": {
       "model_id": "501bf57e10a44e0eb40441513a7b3bac",
       "version_major": 2,
       "version_minor": 0
      },
      "text/plain": [
       "sci_respone:   0%|          | 0/2 [00:00<?, ?tasks/s]"
      ]
     },
     "metadata": {},
     "output_type": "display_data"
    },
    {
     "data": {
      "application/vnd.jupyter.widget-view+json": {
       "model_id": "739b3dba2fdb4fb7bab1ad40686c8842",
       "version_major": 2,
       "version_minor": 0
      },
      "text/plain": [
       "sci_respone:   0%|          | 0/2 [00:00<?, ?tasks/s]"
      ]
     },
     "metadata": {},
     "output_type": "display_data"
    },
    {
     "data": {
      "application/vnd.jupyter.widget-view+json": {
       "model_id": "82103329609f46209a1e3acdf818fa20",
       "version_major": 2,
       "version_minor": 0
      },
      "text/plain": [
       "sci_respone:   0%|          | 0/2 [00:00<?, ?tasks/s]"
      ]
     },
     "metadata": {},
     "output_type": "display_data"
    },
    {
     "data": {
      "application/vnd.jupyter.widget-view+json": {
       "model_id": "03fd3ddb29c4468b9ef7496a6a8156e9",
       "version_major": 2,
       "version_minor": 0
      },
      "text/plain": [
       "sci_respone:   0%|          | 0/2 [00:00<?, ?tasks/s]"
      ]
     },
     "metadata": {},
     "output_type": "display_data"
    },
    {
     "data": {
      "application/vnd.jupyter.widget-view+json": {
       "model_id": "cb5d0301f25b4b40b5aecde838e509bb",
       "version_major": 2,
       "version_minor": 0
      },
      "text/plain": [
       "sci_respone:   0%|          | 0/2 [00:00<?, ?tasks/s]"
      ]
     },
     "metadata": {},
     "output_type": "display_data"
    },
    {
     "data": {
      "application/vnd.jupyter.widget-view+json": {
       "model_id": "6978ea5c5fdf497eb418051171cbb0a5",
       "version_major": 2,
       "version_minor": 0
      },
      "text/plain": [
       "sci_respone:   0%|          | 0/2 [00:00<?, ?tasks/s]"
      ]
     },
     "metadata": {},
     "output_type": "display_data"
    },
    {
     "data": {
      "application/vnd.jupyter.widget-view+json": {
       "model_id": "5eab1bee506d400d9265c5e832a8b1fe",
       "version_major": 2,
       "version_minor": 0
      },
      "text/plain": [
       "sci_respone:   0%|          | 0/2 [00:00<?, ?tasks/s]"
      ]
     },
     "metadata": {},
     "output_type": "display_data"
    },
    {
     "data": {
      "application/vnd.jupyter.widget-view+json": {
       "model_id": "0a69be5bc41e4d8baa5297d224d95748",
       "version_major": 2,
       "version_minor": 0
      },
      "text/plain": [
       "sci_respone:   0%|          | 0/2 [00:00<?, ?tasks/s]"
      ]
     },
     "metadata": {},
     "output_type": "display_data"
    },
    {
     "data": {
      "application/vnd.jupyter.widget-view+json": {
       "model_id": "21e0df1d43e5428ca8dd2b26e05a2113",
       "version_major": 2,
       "version_minor": 0
      },
      "text/plain": [
       "sci_respone:   0%|          | 0/2 [00:00<?, ?tasks/s]"
      ]
     },
     "metadata": {},
     "output_type": "display_data"
    },
    {
     "data": {
      "application/vnd.jupyter.widget-view+json": {
       "model_id": "a4f07d662c894a42b1ee1b74abc2a31b",
       "version_major": 2,
       "version_minor": 0
      },
      "text/plain": [
       "sci_respone:   0%|          | 0/2 [00:00<?, ?tasks/s]"
      ]
     },
     "metadata": {},
     "output_type": "display_data"
    },
    {
     "data": {
      "application/vnd.jupyter.widget-view+json": {
       "model_id": "4db5fce060144aad98343cee827a1549",
       "version_major": 2,
       "version_minor": 0
      },
      "text/plain": [
       "sci_respone:   0%|          | 0/2 [00:00<?, ?tasks/s]"
      ]
     },
     "metadata": {},
     "output_type": "display_data"
    },
    {
     "data": {
      "application/vnd.jupyter.widget-view+json": {
       "model_id": "7b1cc33cd3174da388c390aaecb52ccb",
       "version_major": 2,
       "version_minor": 0
      },
      "text/plain": [
       "sci_respone:   0%|          | 0/2 [00:00<?, ?tasks/s]"
      ]
     },
     "metadata": {},
     "output_type": "display_data"
    },
    {
     "data": {
      "application/vnd.jupyter.widget-view+json": {
       "model_id": "edf5c15a6b7a45b68f7659ef82d8e8a9",
       "version_major": 2,
       "version_minor": 0
      },
      "text/plain": [
       "sci_respone:   0%|          | 0/2 [00:00<?, ?tasks/s]"
      ]
     },
     "metadata": {},
     "output_type": "display_data"
    },
    {
     "data": {
      "application/vnd.jupyter.widget-view+json": {
       "model_id": "abfae7e1d6b4446c92cdb43b7d6467e1",
       "version_major": 2,
       "version_minor": 0
      },
      "text/plain": [
       "sci_respone:   0%|          | 0/2 [00:00<?, ?tasks/s]"
      ]
     },
     "metadata": {},
     "output_type": "display_data"
    },
    {
     "data": {
      "application/vnd.jupyter.widget-view+json": {
       "model_id": "7a8960f507ef4ee79f88c402d0eb32c5",
       "version_major": 2,
       "version_minor": 0
      },
      "text/plain": [
       "sci_respone:   0%|          | 0/2 [00:00<?, ?tasks/s]"
      ]
     },
     "metadata": {},
     "output_type": "display_data"
    },
    {
     "data": {
      "application/vnd.jupyter.widget-view+json": {
       "model_id": "0f6f8bde18d4422e90e1262df336aaa8",
       "version_major": 2,
       "version_minor": 0
      },
      "text/plain": [
       "sci_respone:   0%|          | 0/2 [00:00<?, ?tasks/s]"
      ]
     },
     "metadata": {},
     "output_type": "display_data"
    },
    {
     "data": {
      "application/vnd.jupyter.widget-view+json": {
       "model_id": "ad4a4273bad045b3a865758e51d00d49",
       "version_major": 2,
       "version_minor": 0
      },
      "text/plain": [
       "sci_respone:   0%|          | 0/2 [00:00<?, ?tasks/s]"
      ]
     },
     "metadata": {},
     "output_type": "display_data"
    },
    {
     "data": {
      "application/vnd.jupyter.widget-view+json": {
       "model_id": "711c039aefae4453b824280b119a064a",
       "version_major": 2,
       "version_minor": 0
      },
      "text/plain": [
       "sci_respone:   0%|          | 0/2 [00:00<?, ?tasks/s]"
      ]
     },
     "metadata": {},
     "output_type": "display_data"
    },
    {
     "data": {
      "application/vnd.jupyter.widget-view+json": {
       "model_id": "a7810bd6e30943adbbc01c7fd17b25b6",
       "version_major": 2,
       "version_minor": 0
      },
      "text/plain": [
       "sci_respone:   0%|          | 0/2 [00:00<?, ?tasks/s]"
      ]
     },
     "metadata": {},
     "output_type": "display_data"
    },
    {
     "data": {
      "application/vnd.jupyter.widget-view+json": {
       "model_id": "486f2930025240e8b3f490ddd64c4d0d",
       "version_major": 2,
       "version_minor": 0
      },
      "text/plain": [
       "sci_respone:   0%|          | 0/2 [00:00<?, ?tasks/s]"
      ]
     },
     "metadata": {},
     "output_type": "display_data"
    },
    {
     "data": {
      "application/vnd.jupyter.widget-view+json": {
       "model_id": "c66270d5a87b468482ee5b00fa9f4192",
       "version_major": 2,
       "version_minor": 0
      },
      "text/plain": [
       "sci_respone:   0%|          | 0/2 [00:00<?, ?tasks/s]"
      ]
     },
     "metadata": {},
     "output_type": "display_data"
    },
    {
     "data": {
      "application/vnd.jupyter.widget-view+json": {
       "model_id": "574c5a3878bd45758314818e5da05993",
       "version_major": 2,
       "version_minor": 0
      },
      "text/plain": [
       "sci_respone:   0%|          | 0/2 [00:00<?, ?tasks/s]"
      ]
     },
     "metadata": {},
     "output_type": "display_data"
    },
    {
     "data": {
      "application/vnd.jupyter.widget-view+json": {
       "model_id": "0e2b883dc08a45b482a9abb2e5ddd355",
       "version_major": 2,
       "version_minor": 0
      },
      "text/plain": [
       "sci_respone:   0%|          | 0/2 [00:00<?, ?tasks/s]"
      ]
     },
     "metadata": {},
     "output_type": "display_data"
    },
    {
     "data": {
      "application/vnd.jupyter.widget-view+json": {
       "model_id": "ba0161635f3749a9b015bd74325844ad",
       "version_major": 2,
       "version_minor": 0
      },
      "text/plain": [
       "sci_respone:   0%|          | 0/2 [00:00<?, ?tasks/s]"
      ]
     },
     "metadata": {},
     "output_type": "display_data"
    },
    {
     "data": {
      "application/vnd.jupyter.widget-view+json": {
       "model_id": "e7bb5c649a574d6d9fd5d44664ae3b73",
       "version_major": 2,
       "version_minor": 0
      },
      "text/plain": [
       "<lambda>:   0%|          | 0/2 [00:00<?, ?tasks/s]"
      ]
     },
     "metadata": {},
     "output_type": "display_data"
    },
    {
     "data": {
      "application/vnd.jupyter.widget-view+json": {
       "model_id": "de855723a3b04d92af4ad2d0ac607e5c",
       "version_major": 2,
       "version_minor": 0
      },
      "text/plain": [
       "sci_respone:   0%|          | 0/2 [00:00<?, ?tasks/s]"
      ]
     },
     "metadata": {},
     "output_type": "display_data"
    },
    {
     "data": {
      "application/vnd.jupyter.widget-view+json": {
       "model_id": "be68d231caeb44cfb141f8b1a451885f",
       "version_major": 2,
       "version_minor": 0
      },
      "text/plain": [
       "sci_respone:   0%|          | 0/2 [00:00<?, ?tasks/s]"
      ]
     },
     "metadata": {},
     "output_type": "display_data"
    },
    {
     "data": {
      "application/vnd.jupyter.widget-view+json": {
       "model_id": "252bf30fcb57488d811493b8df3d0a73",
       "version_major": 2,
       "version_minor": 0
      },
      "text/plain": [
       "sci_respone:   0%|          | 0/2 [00:00<?, ?tasks/s]"
      ]
     },
     "metadata": {},
     "output_type": "display_data"
    },
    {
     "data": {
      "application/vnd.jupyter.widget-view+json": {
       "model_id": "5e6b20df1379481dbb42ccabbb1264dd",
       "version_major": 2,
       "version_minor": 0
      },
      "text/plain": [
       "sci_respone:   0%|          | 0/2 [00:00<?, ?tasks/s]"
      ]
     },
     "metadata": {},
     "output_type": "display_data"
    },
    {
     "data": {
      "application/vnd.jupyter.widget-view+json": {
       "model_id": "2fd638d050d247cf82ee41dab150c169",
       "version_major": 2,
       "version_minor": 0
      },
      "text/plain": [
       "sci_respone:   0%|          | 0/2 [00:00<?, ?tasks/s]"
      ]
     },
     "metadata": {},
     "output_type": "display_data"
    },
    {
     "data": {
      "application/vnd.jupyter.widget-view+json": {
       "model_id": "9cbcedb180014ebe98fdb50965d7e9d0",
       "version_major": 2,
       "version_minor": 0
      },
      "text/plain": [
       "sci_respone:   0%|          | 0/2 [00:00<?, ?tasks/s]"
      ]
     },
     "metadata": {},
     "output_type": "display_data"
    },
    {
     "data": {
      "application/vnd.jupyter.widget-view+json": {
       "model_id": "5ce2c3d707064cc9a4c5c8bd1e546bf1",
       "version_major": 2,
       "version_minor": 0
      },
      "text/plain": [
       "sci_respone:   0%|          | 0/2 [00:00<?, ?tasks/s]"
      ]
     },
     "metadata": {},
     "output_type": "display_data"
    },
    {
     "data": {
      "application/vnd.jupyter.widget-view+json": {
       "model_id": "75e3775eb6514ceb82e0b2b799ae70a9",
       "version_major": 2,
       "version_minor": 0
      },
      "text/plain": [
       "sci_respone:   0%|          | 0/2 [00:00<?, ?tasks/s]"
      ]
     },
     "metadata": {},
     "output_type": "display_data"
    },
    {
     "data": {
      "application/vnd.jupyter.widget-view+json": {
       "model_id": "47930ff5f58f4c25a5ebea94526b1734",
       "version_major": 2,
       "version_minor": 0
      },
      "text/plain": [
       "sci_respone:   0%|          | 0/2 [00:00<?, ?tasks/s]"
      ]
     },
     "metadata": {},
     "output_type": "display_data"
    },
    {
     "data": {
      "application/vnd.jupyter.widget-view+json": {
       "model_id": "9f52e29b846c423e9b8451d44f75bb91",
       "version_major": 2,
       "version_minor": 0
      },
      "text/plain": [
       "sci_respone:   0%|          | 0/2 [00:00<?, ?tasks/s]"
      ]
     },
     "metadata": {},
     "output_type": "display_data"
    },
    {
     "data": {
      "application/vnd.jupyter.widget-view+json": {
       "model_id": "d092eeba1cd14c19a0038c9c6cb17f2e",
       "version_major": 2,
       "version_minor": 0
      },
      "text/plain": [
       "sci_respone:   0%|          | 0/2 [00:00<?, ?tasks/s]"
      ]
     },
     "metadata": {},
     "output_type": "display_data"
    },
    {
     "data": {
      "application/vnd.jupyter.widget-view+json": {
       "model_id": "ceb4262d609844488d121a7db77b1b74",
       "version_major": 2,
       "version_minor": 0
      },
      "text/plain": [
       "sci_respone:   0%|          | 0/2 [00:00<?, ?tasks/s]"
      ]
     },
     "metadata": {},
     "output_type": "display_data"
    },
    {
     "data": {
      "application/vnd.jupyter.widget-view+json": {
       "model_id": "e85e3ab6b5f947ccbf373f7ba1a35bfc",
       "version_major": 2,
       "version_minor": 0
      },
      "text/plain": [
       "sci_respone:   0%|          | 0/2 [00:00<?, ?tasks/s]"
      ]
     },
     "metadata": {},
     "output_type": "display_data"
    },
    {
     "data": {
      "application/vnd.jupyter.widget-view+json": {
       "model_id": "0e839f0ee7af44a7864e20644bf65033",
       "version_major": 2,
       "version_minor": 0
      },
      "text/plain": [
       "sci_respone:   0%|          | 0/2 [00:00<?, ?tasks/s]"
      ]
     },
     "metadata": {},
     "output_type": "display_data"
    },
    {
     "data": {
      "application/vnd.jupyter.widget-view+json": {
       "model_id": "987652bfd08f4370b933cc3645fd4d1c",
       "version_major": 2,
       "version_minor": 0
      },
      "text/plain": [
       "sci_respone:   0%|          | 0/2 [00:00<?, ?tasks/s]"
      ]
     },
     "metadata": {},
     "output_type": "display_data"
    },
    {
     "data": {
      "application/vnd.jupyter.widget-view+json": {
       "model_id": "872793f5fc2e405d8445f8273a94939c",
       "version_major": 2,
       "version_minor": 0
      },
      "text/plain": [
       "sci_respone:   0%|          | 0/2 [00:00<?, ?tasks/s]"
      ]
     },
     "metadata": {},
     "output_type": "display_data"
    },
    {
     "data": {
      "application/vnd.jupyter.widget-view+json": {
       "model_id": "a22fcaae8eb04211a4b66339e3809b3e",
       "version_major": 2,
       "version_minor": 0
      },
      "text/plain": [
       "sci_respone:   0%|          | 0/2 [00:00<?, ?tasks/s]"
      ]
     },
     "metadata": {},
     "output_type": "display_data"
    },
    {
     "data": {
      "application/vnd.jupyter.widget-view+json": {
       "model_id": "e9116e8d2bbf4069b58d5660d20e3e79",
       "version_major": 2,
       "version_minor": 0
      },
      "text/plain": [
       "sci_respone:   0%|          | 0/2 [00:00<?, ?tasks/s]"
      ]
     },
     "metadata": {},
     "output_type": "display_data"
    },
    {
     "data": {
      "application/vnd.jupyter.widget-view+json": {
       "model_id": "971900f559ab45579cb5f4eb522518d9",
       "version_major": 2,
       "version_minor": 0
      },
      "text/plain": [
       "sci_respone:   0%|          | 0/2 [00:00<?, ?tasks/s]"
      ]
     },
     "metadata": {},
     "output_type": "display_data"
    },
    {
     "data": {
      "application/vnd.jupyter.widget-view+json": {
       "model_id": "860d4d6cb0c145459094d2d4c5903622",
       "version_major": 2,
       "version_minor": 0
      },
      "text/plain": [
       "sci_respone:   0%|          | 0/2 [00:00<?, ?tasks/s]"
      ]
     },
     "metadata": {},
     "output_type": "display_data"
    },
    {
     "data": {
      "application/vnd.jupyter.widget-view+json": {
       "model_id": "6c654f2aa1a9476cb3076e0018188d90",
       "version_major": 2,
       "version_minor": 0
      },
      "text/plain": [
       "sci_respone:   0%|          | 0/2 [00:00<?, ?tasks/s]"
      ]
     },
     "metadata": {},
     "output_type": "display_data"
    },
    {
     "data": {
      "application/vnd.jupyter.widget-view+json": {
       "model_id": "e4a143ef495f451fb328f0f584c79a31",
       "version_major": 2,
       "version_minor": 0
      },
      "text/plain": [
       "sci_respone:   0%|          | 0/2 [00:00<?, ?tasks/s]"
      ]
     },
     "metadata": {},
     "output_type": "display_data"
    },
    {
     "data": {
      "application/vnd.jupyter.widget-view+json": {
       "model_id": "936fd56fdfd148cfacd1fe0cf67771f4",
       "version_major": 2,
       "version_minor": 0
      },
      "text/plain": [
       "sci_respone:   0%|          | 0/2 [00:00<?, ?tasks/s]"
      ]
     },
     "metadata": {},
     "output_type": "display_data"
    },
    {
     "data": {
      "application/vnd.jupyter.widget-view+json": {
       "model_id": "419592ac67584124aa341a93eec52cb2",
       "version_major": 2,
       "version_minor": 0
      },
      "text/plain": [
       "sci_respone:   0%|          | 0/2 [00:00<?, ?tasks/s]"
      ]
     },
     "metadata": {},
     "output_type": "display_data"
    },
    {
     "data": {
      "application/vnd.jupyter.widget-view+json": {
       "model_id": "4314f34902da4638a7a9a39e38dbdb57",
       "version_major": 2,
       "version_minor": 0
      },
      "text/plain": [
       "sci_respone:   0%|          | 0/2 [00:00<?, ?tasks/s]"
      ]
     },
     "metadata": {},
     "output_type": "display_data"
    },
    {
     "data": {
      "application/vnd.jupyter.widget-view+json": {
       "model_id": "df158d0756f9403d9b0da587f8e0f697",
       "version_major": 2,
       "version_minor": 0
      },
      "text/plain": [
       "sci_respone:   0%|          | 0/2 [00:00<?, ?tasks/s]"
      ]
     },
     "metadata": {},
     "output_type": "display_data"
    },
    {
     "data": {
      "application/vnd.jupyter.widget-view+json": {
       "model_id": "5ec71742696e4b82aa92a7ce07f32324",
       "version_major": 2,
       "version_minor": 0
      },
      "text/plain": [
       "sci_respone:   0%|          | 0/2 [00:00<?, ?tasks/s]"
      ]
     },
     "metadata": {},
     "output_type": "display_data"
    },
    {
     "data": {
      "application/vnd.jupyter.widget-view+json": {
       "model_id": "574faa702a594373b9b8dcb6992c1814",
       "version_major": 2,
       "version_minor": 0
      },
      "text/plain": [
       "sci_respone:   0%|          | 0/2 [00:00<?, ?tasks/s]"
      ]
     },
     "metadata": {},
     "output_type": "display_data"
    },
    {
     "data": {
      "application/vnd.jupyter.widget-view+json": {
       "model_id": "b30ef505227e4dc7a3455f19beed2a8e",
       "version_major": 2,
       "version_minor": 0
      },
      "text/plain": [
       "sci_respone:   0%|          | 0/2 [00:00<?, ?tasks/s]"
      ]
     },
     "metadata": {},
     "output_type": "display_data"
    },
    {
     "data": {
      "application/vnd.jupyter.widget-view+json": {
       "model_id": "cb14a25b05554085bca9a1fc89451d07",
       "version_major": 2,
       "version_minor": 0
      },
      "text/plain": [
       "sci_respone:   0%|          | 0/2 [00:00<?, ?tasks/s]"
      ]
     },
     "metadata": {},
     "output_type": "display_data"
    },
    {
     "data": {
      "application/vnd.jupyter.widget-view+json": {
       "model_id": "56f6d0091af648959249d8ead5cac2d0",
       "version_major": 2,
       "version_minor": 0
      },
      "text/plain": [
       "<lambda>:   0%|          | 0/2 [00:00<?, ?tasks/s]"
      ]
     },
     "metadata": {},
     "output_type": "display_data"
    },
    {
     "data": {
      "application/vnd.jupyter.widget-view+json": {
       "model_id": "cca3df39082b46069a22ade6f9bd28c5",
       "version_major": 2,
       "version_minor": 0
      },
      "text/plain": [
       "sci_respone:   0%|          | 0/2 [00:00<?, ?tasks/s]"
      ]
     },
     "metadata": {},
     "output_type": "display_data"
    },
    {
     "data": {
      "application/vnd.jupyter.widget-view+json": {
       "model_id": "bddbbc68c0e3457c824e9ffa07deb697",
       "version_major": 2,
       "version_minor": 0
      },
      "text/plain": [
       "sci_respone:   0%|          | 0/2 [00:00<?, ?tasks/s]"
      ]
     },
     "metadata": {},
     "output_type": "display_data"
    },
    {
     "data": {
      "application/vnd.jupyter.widget-view+json": {
       "model_id": "b400443b72804563a77f6f1118f35ee3",
       "version_major": 2,
       "version_minor": 0
      },
      "text/plain": [
       "sci_respone:   0%|          | 0/2 [00:00<?, ?tasks/s]"
      ]
     },
     "metadata": {},
     "output_type": "display_data"
    },
    {
     "data": {
      "application/vnd.jupyter.widget-view+json": {
       "model_id": "e8eef2da4d3e464ca605acc974871c03",
       "version_major": 2,
       "version_minor": 0
      },
      "text/plain": [
       "sci_respone:   0%|          | 0/2 [00:00<?, ?tasks/s]"
      ]
     },
     "metadata": {},
     "output_type": "display_data"
    },
    {
     "data": {
      "application/vnd.jupyter.widget-view+json": {
       "model_id": "4cf7a45dc91548e3a864cc7c677ded9b",
       "version_major": 2,
       "version_minor": 0
      },
      "text/plain": [
       "sci_respone:   0%|          | 0/2 [00:00<?, ?tasks/s]"
      ]
     },
     "metadata": {},
     "output_type": "display_data"
    },
    {
     "data": {
      "application/vnd.jupyter.widget-view+json": {
       "model_id": "9e53ec1f7ead489bbf139b61677b5df8",
       "version_major": 2,
       "version_minor": 0
      },
      "text/plain": [
       "sci_respone:   0%|          | 0/2 [00:00<?, ?tasks/s]"
      ]
     },
     "metadata": {},
     "output_type": "display_data"
    },
    {
     "data": {
      "application/vnd.jupyter.widget-view+json": {
       "model_id": "0ec5a65c55374b279f8bc6329409051e",
       "version_major": 2,
       "version_minor": 0
      },
      "text/plain": [
       "sci_respone:   0%|          | 0/2 [00:00<?, ?tasks/s]"
      ]
     },
     "metadata": {},
     "output_type": "display_data"
    },
    {
     "data": {
      "application/vnd.jupyter.widget-view+json": {
       "model_id": "8404c6a8cf2647e2a11da5f83f4be0fc",
       "version_major": 2,
       "version_minor": 0
      },
      "text/plain": [
       "sci_respone:   0%|          | 0/2 [00:00<?, ?tasks/s]"
      ]
     },
     "metadata": {},
     "output_type": "display_data"
    },
    {
     "data": {
      "application/vnd.jupyter.widget-view+json": {
       "model_id": "c6061b13e99f43729a9e2f9df03e0e4b",
       "version_major": 2,
       "version_minor": 0
      },
      "text/plain": [
       "sci_respone:   0%|          | 0/2 [00:00<?, ?tasks/s]"
      ]
     },
     "metadata": {},
     "output_type": "display_data"
    },
    {
     "data": {
      "application/vnd.jupyter.widget-view+json": {
       "model_id": "5b266462196d4a75872aaa17ab22e1db",
       "version_major": 2,
       "version_minor": 0
      },
      "text/plain": [
       "sci_respone:   0%|          | 0/2 [00:00<?, ?tasks/s]"
      ]
     },
     "metadata": {},
     "output_type": "display_data"
    },
    {
     "data": {
      "application/vnd.jupyter.widget-view+json": {
       "model_id": "f83788c4adfe42ba94f7070cbd0cd58d",
       "version_major": 2,
       "version_minor": 0
      },
      "text/plain": [
       "sci_respone:   0%|          | 0/2 [00:00<?, ?tasks/s]"
      ]
     },
     "metadata": {},
     "output_type": "display_data"
    },
    {
     "data": {
      "application/vnd.jupyter.widget-view+json": {
       "model_id": "fd966c2b70a749d294dc0ebd42dfd3ea",
       "version_major": 2,
       "version_minor": 0
      },
      "text/plain": [
       "sci_respone:   0%|          | 0/2 [00:00<?, ?tasks/s]"
      ]
     },
     "metadata": {},
     "output_type": "display_data"
    },
    {
     "data": {
      "application/vnd.jupyter.widget-view+json": {
       "model_id": "bbd84fbdbc80400989d684e5ae7a0f19",
       "version_major": 2,
       "version_minor": 0
      },
      "text/plain": [
       "sci_respone:   0%|          | 0/2 [00:00<?, ?tasks/s]"
      ]
     },
     "metadata": {},
     "output_type": "display_data"
    },
    {
     "data": {
      "application/vnd.jupyter.widget-view+json": {
       "model_id": "ebc38c96a5b74eb59edf9cabd2053ab3",
       "version_major": 2,
       "version_minor": 0
      },
      "text/plain": [
       "sci_respone:   0%|          | 0/2 [00:00<?, ?tasks/s]"
      ]
     },
     "metadata": {},
     "output_type": "display_data"
    },
    {
     "data": {
      "application/vnd.jupyter.widget-view+json": {
       "model_id": "a24185b63c7a43979fdf884cd24674d4",
       "version_major": 2,
       "version_minor": 0
      },
      "text/plain": [
       "sci_respone:   0%|          | 0/2 [00:00<?, ?tasks/s]"
      ]
     },
     "metadata": {},
     "output_type": "display_data"
    },
    {
     "data": {
      "application/vnd.jupyter.widget-view+json": {
       "model_id": "09d2b7bf042047b989878d55dc011e67",
       "version_major": 2,
       "version_minor": 0
      },
      "text/plain": [
       "sci_respone:   0%|          | 0/2 [00:00<?, ?tasks/s]"
      ]
     },
     "metadata": {},
     "output_type": "display_data"
    },
    {
     "data": {
      "application/vnd.jupyter.widget-view+json": {
       "model_id": "43b127c34d5e4e87bf10737ec59b24d3",
       "version_major": 2,
       "version_minor": 0
      },
      "text/plain": [
       "sci_respone:   0%|          | 0/2 [00:00<?, ?tasks/s]"
      ]
     },
     "metadata": {},
     "output_type": "display_data"
    },
    {
     "data": {
      "application/vnd.jupyter.widget-view+json": {
       "model_id": "04937a5153044df2afbc194e84bde35a",
       "version_major": 2,
       "version_minor": 0
      },
      "text/plain": [
       "sci_respone:   0%|          | 0/2 [00:00<?, ?tasks/s]"
      ]
     },
     "metadata": {},
     "output_type": "display_data"
    },
    {
     "data": {
      "application/vnd.jupyter.widget-view+json": {
       "model_id": "d67f2f803dd94010a69edc8bdb404efd",
       "version_major": 2,
       "version_minor": 0
      },
      "text/plain": [
       "sci_respone:   0%|          | 0/2 [00:00<?, ?tasks/s]"
      ]
     },
     "metadata": {},
     "output_type": "display_data"
    },
    {
     "data": {
      "application/vnd.jupyter.widget-view+json": {
       "model_id": "7b07941f19ab4259981bee8af022ac00",
       "version_major": 2,
       "version_minor": 0
      },
      "text/plain": [
       "sci_respone:   0%|          | 0/2 [00:00<?, ?tasks/s]"
      ]
     },
     "metadata": {},
     "output_type": "display_data"
    },
    {
     "data": {
      "application/vnd.jupyter.widget-view+json": {
       "model_id": "712378e804224140b74c04b3d485b1b3",
       "version_major": 2,
       "version_minor": 0
      },
      "text/plain": [
       "sci_respone:   0%|          | 0/2 [00:00<?, ?tasks/s]"
      ]
     },
     "metadata": {},
     "output_type": "display_data"
    },
    {
     "data": {
      "application/vnd.jupyter.widget-view+json": {
       "model_id": "8d057696704843639612ce236c4be4e0",
       "version_major": 2,
       "version_minor": 0
      },
      "text/plain": [
       "sci_respone:   0%|          | 0/2 [00:00<?, ?tasks/s]"
      ]
     },
     "metadata": {},
     "output_type": "display_data"
    },
    {
     "data": {
      "application/vnd.jupyter.widget-view+json": {
       "model_id": "2d46aab96c764760812fb636d245be98",
       "version_major": 2,
       "version_minor": 0
      },
      "text/plain": [
       "sci_respone:   0%|          | 0/2 [00:00<?, ?tasks/s]"
      ]
     },
     "metadata": {},
     "output_type": "display_data"
    },
    {
     "data": {
      "application/vnd.jupyter.widget-view+json": {
       "model_id": "7b13e976d0244f0f83ff1560807afaa3",
       "version_major": 2,
       "version_minor": 0
      },
      "text/plain": [
       "sci_respone:   0%|          | 0/2 [00:00<?, ?tasks/s]"
      ]
     },
     "metadata": {},
     "output_type": "display_data"
    },
    {
     "data": {
      "application/vnd.jupyter.widget-view+json": {
       "model_id": "375dc559a2d34931b0a9f7ef1aa3624b",
       "version_major": 2,
       "version_minor": 0
      },
      "text/plain": [
       "sci_respone:   0%|          | 0/2 [00:00<?, ?tasks/s]"
      ]
     },
     "metadata": {},
     "output_type": "display_data"
    },
    {
     "data": {
      "application/vnd.jupyter.widget-view+json": {
       "model_id": "24edc72a5954498e8b0f1e8887e6ad1f",
       "version_major": 2,
       "version_minor": 0
      },
      "text/plain": [
       "sci_respone:   0%|          | 0/2 [00:00<?, ?tasks/s]"
      ]
     },
     "metadata": {},
     "output_type": "display_data"
    },
    {
     "data": {
      "application/vnd.jupyter.widget-view+json": {
       "model_id": "e590307be04e496d96b0e13641799bfd",
       "version_major": 2,
       "version_minor": 0
      },
      "text/plain": [
       "sci_respone:   0%|          | 0/2 [00:00<?, ?tasks/s]"
      ]
     },
     "metadata": {},
     "output_type": "display_data"
    },
    {
     "data": {
      "application/vnd.jupyter.widget-view+json": {
       "model_id": "3cf2a77c4180487dadad292507e57c3a",
       "version_major": 2,
       "version_minor": 0
      },
      "text/plain": [
       "sci_respone:   0%|          | 0/2 [00:00<?, ?tasks/s]"
      ]
     },
     "metadata": {},
     "output_type": "display_data"
    },
    {
     "data": {
      "application/vnd.jupyter.widget-view+json": {
       "model_id": "e77a5ae99bbc4ccc86070a88e2bd6b41",
       "version_major": 2,
       "version_minor": 0
      },
      "text/plain": [
       "sci_respone:   0%|          | 0/2 [00:00<?, ?tasks/s]"
      ]
     },
     "metadata": {},
     "output_type": "display_data"
    },
    {
     "data": {
      "application/vnd.jupyter.widget-view+json": {
       "model_id": "9124526d8c944c99bc77dd80f988299c",
       "version_major": 2,
       "version_minor": 0
      },
      "text/plain": [
       "sci_respone:   0%|          | 0/2 [00:00<?, ?tasks/s]"
      ]
     },
     "metadata": {},
     "output_type": "display_data"
    },
    {
     "data": {
      "application/vnd.jupyter.widget-view+json": {
       "model_id": "eb9333ca750a4f04ae2b3cefd3bd1e95",
       "version_major": 2,
       "version_minor": 0
      },
      "text/plain": [
       "<lambda>:   0%|          | 0/2 [00:00<?, ?tasks/s]"
      ]
     },
     "metadata": {},
     "output_type": "display_data"
    },
    {
     "data": {
      "application/vnd.jupyter.widget-view+json": {
       "model_id": "0209cacca97e4d02a871ad438217732a",
       "version_major": 2,
       "version_minor": 0
      },
      "text/plain": [
       "sci_respone:   0%|          | 0/2 [00:00<?, ?tasks/s]"
      ]
     },
     "metadata": {},
     "output_type": "display_data"
    },
    {
     "data": {
      "application/vnd.jupyter.widget-view+json": {
       "model_id": "78d097fadd4142f8b3ff3f028bb90429",
       "version_major": 2,
       "version_minor": 0
      },
      "text/plain": [
       "sci_respone:   0%|          | 0/2 [00:00<?, ?tasks/s]"
      ]
     },
     "metadata": {},
     "output_type": "display_data"
    },
    {
     "data": {
      "application/vnd.jupyter.widget-view+json": {
       "model_id": "feb244ac8d774227832391bb19295b46",
       "version_major": 2,
       "version_minor": 0
      },
      "text/plain": [
       "sci_respone:   0%|          | 0/2 [00:00<?, ?tasks/s]"
      ]
     },
     "metadata": {},
     "output_type": "display_data"
    },
    {
     "data": {
      "application/vnd.jupyter.widget-view+json": {
       "model_id": "b68f6e25d4674219a6e6f5cce1400934",
       "version_major": 2,
       "version_minor": 0
      },
      "text/plain": [
       "sci_respone:   0%|          | 0/2 [00:00<?, ?tasks/s]"
      ]
     },
     "metadata": {},
     "output_type": "display_data"
    },
    {
     "data": {
      "application/vnd.jupyter.widget-view+json": {
       "model_id": "580cba2a03694cc29784156a1f218256",
       "version_major": 2,
       "version_minor": 0
      },
      "text/plain": [
       "sci_respone:   0%|          | 0/2 [00:00<?, ?tasks/s]"
      ]
     },
     "metadata": {},
     "output_type": "display_data"
    },
    {
     "data": {
      "application/vnd.jupyter.widget-view+json": {
       "model_id": "4e57220538b84d7da2404e268892b829",
       "version_major": 2,
       "version_minor": 0
      },
      "text/plain": [
       "sci_respone:   0%|          | 0/2 [00:00<?, ?tasks/s]"
      ]
     },
     "metadata": {},
     "output_type": "display_data"
    },
    {
     "data": {
      "application/vnd.jupyter.widget-view+json": {
       "model_id": "6dc3d9898e6642d3a430fdadc4a8b42d",
       "version_major": 2,
       "version_minor": 0
      },
      "text/plain": [
       "sci_respone:   0%|          | 0/2 [00:00<?, ?tasks/s]"
      ]
     },
     "metadata": {},
     "output_type": "display_data"
    },
    {
     "data": {
      "application/vnd.jupyter.widget-view+json": {
       "model_id": "a8f929dc98824acf878b1239c0c8c304",
       "version_major": 2,
       "version_minor": 0
      },
      "text/plain": [
       "sci_respone:   0%|          | 0/2 [00:00<?, ?tasks/s]"
      ]
     },
     "metadata": {},
     "output_type": "display_data"
    },
    {
     "data": {
      "application/vnd.jupyter.widget-view+json": {
       "model_id": "c07b5edacc0e45e18bd2673a13d9b43c",
       "version_major": 2,
       "version_minor": 0
      },
      "text/plain": [
       "sci_respone:   0%|          | 0/2 [00:00<?, ?tasks/s]"
      ]
     },
     "metadata": {},
     "output_type": "display_data"
    },
    {
     "data": {
      "application/vnd.jupyter.widget-view+json": {
       "model_id": "9da3928f0a25428aa9ad43ea4539a829",
       "version_major": 2,
       "version_minor": 0
      },
      "text/plain": [
       "sci_respone:   0%|          | 0/2 [00:00<?, ?tasks/s]"
      ]
     },
     "metadata": {},
     "output_type": "display_data"
    },
    {
     "data": {
      "application/vnd.jupyter.widget-view+json": {
       "model_id": "091d54e94cd74fe7978b52a275396c28",
       "version_major": 2,
       "version_minor": 0
      },
      "text/plain": [
       "sci_respone:   0%|          | 0/2 [00:00<?, ?tasks/s]"
      ]
     },
     "metadata": {},
     "output_type": "display_data"
    },
    {
     "data": {
      "application/vnd.jupyter.widget-view+json": {
       "model_id": "f81d3ade24474ad2a45cb626f3debcb3",
       "version_major": 2,
       "version_minor": 0
      },
      "text/plain": [
       "sci_respone:   0%|          | 0/2 [00:00<?, ?tasks/s]"
      ]
     },
     "metadata": {},
     "output_type": "display_data"
    },
    {
     "data": {
      "application/vnd.jupyter.widget-view+json": {
       "model_id": "e4e386e989374073a428f419940a9cf8",
       "version_major": 2,
       "version_minor": 0
      },
      "text/plain": [
       "sci_respone:   0%|          | 0/2 [00:00<?, ?tasks/s]"
      ]
     },
     "metadata": {},
     "output_type": "display_data"
    },
    {
     "data": {
      "application/vnd.jupyter.widget-view+json": {
       "model_id": "2cfe6baba7af4e6f81d4650c07a10d49",
       "version_major": 2,
       "version_minor": 0
      },
      "text/plain": [
       "sci_respone:   0%|          | 0/2 [00:00<?, ?tasks/s]"
      ]
     },
     "metadata": {},
     "output_type": "display_data"
    },
    {
     "data": {
      "application/vnd.jupyter.widget-view+json": {
       "model_id": "aaf40519d7db485fb65e0e09e9a74a97",
       "version_major": 2,
       "version_minor": 0
      },
      "text/plain": [
       "sci_respone:   0%|          | 0/2 [00:00<?, ?tasks/s]"
      ]
     },
     "metadata": {},
     "output_type": "display_data"
    },
    {
     "data": {
      "application/vnd.jupyter.widget-view+json": {
       "model_id": "9fac975cc9c3470aad6727d732911cb3",
       "version_major": 2,
       "version_minor": 0
      },
      "text/plain": [
       "sci_respone:   0%|          | 0/2 [00:00<?, ?tasks/s]"
      ]
     },
     "metadata": {},
     "output_type": "display_data"
    },
    {
     "data": {
      "application/vnd.jupyter.widget-view+json": {
       "model_id": "d475ac77244f48e8b186b7e7702f2232",
       "version_major": 2,
       "version_minor": 0
      },
      "text/plain": [
       "sci_respone:   0%|          | 0/2 [00:00<?, ?tasks/s]"
      ]
     },
     "metadata": {},
     "output_type": "display_data"
    },
    {
     "data": {
      "application/vnd.jupyter.widget-view+json": {
       "model_id": "45e710dc3aea44c191fb5b0e005261f0",
       "version_major": 2,
       "version_minor": 0
      },
      "text/plain": [
       "sci_respone:   0%|          | 0/2 [00:00<?, ?tasks/s]"
      ]
     },
     "metadata": {},
     "output_type": "display_data"
    },
    {
     "data": {
      "application/vnd.jupyter.widget-view+json": {
       "model_id": "aa08c7ef3f174058bb13094ed6fc1296",
       "version_major": 2,
       "version_minor": 0
      },
      "text/plain": [
       "sci_respone:   0%|          | 0/2 [00:00<?, ?tasks/s]"
      ]
     },
     "metadata": {},
     "output_type": "display_data"
    },
    {
     "data": {
      "application/vnd.jupyter.widget-view+json": {
       "model_id": "dc9087b266e041c6a4c57296a01054d7",
       "version_major": 2,
       "version_minor": 0
      },
      "text/plain": [
       "sci_respone:   0%|          | 0/2 [00:00<?, ?tasks/s]"
      ]
     },
     "metadata": {},
     "output_type": "display_data"
    },
    {
     "data": {
      "application/vnd.jupyter.widget-view+json": {
       "model_id": "64bf7825479d48bab1e755e155283b35",
       "version_major": 2,
       "version_minor": 0
      },
      "text/plain": [
       "sci_respone:   0%|          | 0/2 [00:00<?, ?tasks/s]"
      ]
     },
     "metadata": {},
     "output_type": "display_data"
    },
    {
     "data": {
      "application/vnd.jupyter.widget-view+json": {
       "model_id": "14b47f35848d44058905d2a84b8967af",
       "version_major": 2,
       "version_minor": 0
      },
      "text/plain": [
       "sci_respone:   0%|          | 0/2 [00:00<?, ?tasks/s]"
      ]
     },
     "metadata": {},
     "output_type": "display_data"
    },
    {
     "data": {
      "application/vnd.jupyter.widget-view+json": {
       "model_id": "2932794e4b4049c99fe83b9ed22630f2",
       "version_major": 2,
       "version_minor": 0
      },
      "text/plain": [
       "sci_respone:   0%|          | 0/2 [00:00<?, ?tasks/s]"
      ]
     },
     "metadata": {},
     "output_type": "display_data"
    },
    {
     "data": {
      "application/vnd.jupyter.widget-view+json": {
       "model_id": "8bd95f50601f44f1865ce6d5aff94646",
       "version_major": 2,
       "version_minor": 0
      },
      "text/plain": [
       "sci_respone:   0%|          | 0/2 [00:00<?, ?tasks/s]"
      ]
     },
     "metadata": {},
     "output_type": "display_data"
    },
    {
     "data": {
      "application/vnd.jupyter.widget-view+json": {
       "model_id": "359aecb46326450084f36b6fc1516a57",
       "version_major": 2,
       "version_minor": 0
      },
      "text/plain": [
       "sci_respone:   0%|          | 0/2 [00:00<?, ?tasks/s]"
      ]
     },
     "metadata": {},
     "output_type": "display_data"
    },
    {
     "data": {
      "application/vnd.jupyter.widget-view+json": {
       "model_id": "7feb80ca11024fc18f06d656a689897d",
       "version_major": 2,
       "version_minor": 0
      },
      "text/plain": [
       "sci_respone:   0%|          | 0/2 [00:00<?, ?tasks/s]"
      ]
     },
     "metadata": {},
     "output_type": "display_data"
    },
    {
     "data": {
      "application/vnd.jupyter.widget-view+json": {
       "model_id": "12271e8cda7d4e768381093864d39320",
       "version_major": 2,
       "version_minor": 0
      },
      "text/plain": [
       "sci_respone:   0%|          | 0/2 [00:00<?, ?tasks/s]"
      ]
     },
     "metadata": {},
     "output_type": "display_data"
    },
    {
     "data": {
      "application/vnd.jupyter.widget-view+json": {
       "model_id": "892f6cb5dc394d328a5098a35da6bc3c",
       "version_major": 2,
       "version_minor": 0
      },
      "text/plain": [
       "sci_respone:   0%|          | 0/2 [00:00<?, ?tasks/s]"
      ]
     },
     "metadata": {},
     "output_type": "display_data"
    },
    {
     "data": {
      "application/vnd.jupyter.widget-view+json": {
       "model_id": "ec863356ad0d4928a3efaba37c4ea861",
       "version_major": 2,
       "version_minor": 0
      },
      "text/plain": [
       "sci_respone:   0%|          | 0/2 [00:00<?, ?tasks/s]"
      ]
     },
     "metadata": {},
     "output_type": "display_data"
    },
    {
     "data": {
      "application/vnd.jupyter.widget-view+json": {
       "model_id": "a6290bdda6e34839b0525b98b93d77e9",
       "version_major": 2,
       "version_minor": 0
      },
      "text/plain": [
       "sci_respone:   0%|          | 0/2 [00:00<?, ?tasks/s]"
      ]
     },
     "metadata": {},
     "output_type": "display_data"
    },
    {
     "data": {
      "application/vnd.jupyter.widget-view+json": {
       "model_id": "3d65c790b3f7402caf5328487a5cd2d0",
       "version_major": 2,
       "version_minor": 0
      },
      "text/plain": [
       "<lambda>:   0%|          | 0/2 [00:00<?, ?tasks/s]"
      ]
     },
     "metadata": {},
     "output_type": "display_data"
    },
    {
     "data": {
      "application/vnd.jupyter.widget-view+json": {
       "model_id": "bfdd43da61694834b8d788f433982f3c",
       "version_major": 2,
       "version_minor": 0
      },
      "text/plain": [
       "sci_respone:   0%|          | 0/2 [00:00<?, ?tasks/s]"
      ]
     },
     "metadata": {},
     "output_type": "display_data"
    },
    {
     "data": {
      "application/vnd.jupyter.widget-view+json": {
       "model_id": "b6394fe00ff243149346493c8a5d7d32",
       "version_major": 2,
       "version_minor": 0
      },
      "text/plain": [
       "sci_respone:   0%|          | 0/2 [00:00<?, ?tasks/s]"
      ]
     },
     "metadata": {},
     "output_type": "display_data"
    },
    {
     "data": {
      "application/vnd.jupyter.widget-view+json": {
       "model_id": "b1b33452152c494a8fdef1e968279fcc",
       "version_major": 2,
       "version_minor": 0
      },
      "text/plain": [
       "sci_respone:   0%|          | 0/2 [00:00<?, ?tasks/s]"
      ]
     },
     "metadata": {},
     "output_type": "display_data"
    },
    {
     "data": {
      "application/vnd.jupyter.widget-view+json": {
       "model_id": "0c1067ec7d9946459340aaf918d17bac",
       "version_major": 2,
       "version_minor": 0
      },
      "text/plain": [
       "sci_respone:   0%|          | 0/2 [00:00<?, ?tasks/s]"
      ]
     },
     "metadata": {},
     "output_type": "display_data"
    },
    {
     "data": {
      "application/vnd.jupyter.widget-view+json": {
       "model_id": "5c112dbb4d964b66bea899da1efbbf5a",
       "version_major": 2,
       "version_minor": 0
      },
      "text/plain": [
       "sci_respone:   0%|          | 0/2 [00:00<?, ?tasks/s]"
      ]
     },
     "metadata": {},
     "output_type": "display_data"
    },
    {
     "data": {
      "application/vnd.jupyter.widget-view+json": {
       "model_id": "893ff5f4b1ea43c99ed685cece33daf4",
       "version_major": 2,
       "version_minor": 0
      },
      "text/plain": [
       "sci_respone:   0%|          | 0/2 [00:00<?, ?tasks/s]"
      ]
     },
     "metadata": {},
     "output_type": "display_data"
    },
    {
     "data": {
      "application/vnd.jupyter.widget-view+json": {
       "model_id": "d197ddab802b4054821901fce7a58688",
       "version_major": 2,
       "version_minor": 0
      },
      "text/plain": [
       "sci_respone:   0%|          | 0/2 [00:00<?, ?tasks/s]"
      ]
     },
     "metadata": {},
     "output_type": "display_data"
    },
    {
     "data": {
      "application/vnd.jupyter.widget-view+json": {
       "model_id": "f9c4d942a3aa42f69ad6867f546f1dfc",
       "version_major": 2,
       "version_minor": 0
      },
      "text/plain": [
       "sci_respone:   0%|          | 0/2 [00:00<?, ?tasks/s]"
      ]
     },
     "metadata": {},
     "output_type": "display_data"
    },
    {
     "data": {
      "application/vnd.jupyter.widget-view+json": {
       "model_id": "225e2a754cf24ad586d58b606021b521",
       "version_major": 2,
       "version_minor": 0
      },
      "text/plain": [
       "sci_respone:   0%|          | 0/2 [00:00<?, ?tasks/s]"
      ]
     },
     "metadata": {},
     "output_type": "display_data"
    },
    {
     "data": {
      "application/vnd.jupyter.widget-view+json": {
       "model_id": "4d6f8986295c4863bb7a6854fe67404a",
       "version_major": 2,
       "version_minor": 0
      },
      "text/plain": [
       "sci_respone:   0%|          | 0/2 [00:00<?, ?tasks/s]"
      ]
     },
     "metadata": {},
     "output_type": "display_data"
    },
    {
     "data": {
      "application/vnd.jupyter.widget-view+json": {
       "model_id": "48a4f97da88343f2b1d26386e856588c",
       "version_major": 2,
       "version_minor": 0
      },
      "text/plain": [
       "sci_respone:   0%|          | 0/2 [00:00<?, ?tasks/s]"
      ]
     },
     "metadata": {},
     "output_type": "display_data"
    },
    {
     "data": {
      "application/vnd.jupyter.widget-view+json": {
       "model_id": "81c081c9f9f343139acc6a43a5c3bcc9",
       "version_major": 2,
       "version_minor": 0
      },
      "text/plain": [
       "sci_respone:   0%|          | 0/2 [00:00<?, ?tasks/s]"
      ]
     },
     "metadata": {},
     "output_type": "display_data"
    },
    {
     "data": {
      "application/vnd.jupyter.widget-view+json": {
       "model_id": "0deb2ca9827c4815940eb694fc118559",
       "version_major": 2,
       "version_minor": 0
      },
      "text/plain": [
       "sci_respone:   0%|          | 0/2 [00:00<?, ?tasks/s]"
      ]
     },
     "metadata": {},
     "output_type": "display_data"
    },
    {
     "data": {
      "application/vnd.jupyter.widget-view+json": {
       "model_id": "62e0d875f57e4954884e9eef192f9e64",
       "version_major": 2,
       "version_minor": 0
      },
      "text/plain": [
       "sci_respone:   0%|          | 0/2 [00:00<?, ?tasks/s]"
      ]
     },
     "metadata": {},
     "output_type": "display_data"
    },
    {
     "data": {
      "application/vnd.jupyter.widget-view+json": {
       "model_id": "9dc8c9de0f124f9487c01f8f6982dcc8",
       "version_major": 2,
       "version_minor": 0
      },
      "text/plain": [
       "sci_respone:   0%|          | 0/2 [00:00<?, ?tasks/s]"
      ]
     },
     "metadata": {},
     "output_type": "display_data"
    },
    {
     "data": {
      "application/vnd.jupyter.widget-view+json": {
       "model_id": "ab54e8944f8e4b7fa353378ff246d02b",
       "version_major": 2,
       "version_minor": 0
      },
      "text/plain": [
       "sci_respone:   0%|          | 0/2 [00:00<?, ?tasks/s]"
      ]
     },
     "metadata": {},
     "output_type": "display_data"
    },
    {
     "data": {
      "application/vnd.jupyter.widget-view+json": {
       "model_id": "02ea5f5f18fd4b4189d413a29ca92d82",
       "version_major": 2,
       "version_minor": 0
      },
      "text/plain": [
       "sci_respone:   0%|          | 0/2 [00:00<?, ?tasks/s]"
      ]
     },
     "metadata": {},
     "output_type": "display_data"
    },
    {
     "data": {
      "application/vnd.jupyter.widget-view+json": {
       "model_id": "252af149e28342b9b8a1f9953d60cf8b",
       "version_major": 2,
       "version_minor": 0
      },
      "text/plain": [
       "sci_respone:   0%|          | 0/2 [00:00<?, ?tasks/s]"
      ]
     },
     "metadata": {},
     "output_type": "display_data"
    },
    {
     "data": {
      "application/vnd.jupyter.widget-view+json": {
       "model_id": "3c428a6b8c34405a87fd1069b7f728ee",
       "version_major": 2,
       "version_minor": 0
      },
      "text/plain": [
       "sci_respone:   0%|          | 0/2 [00:00<?, ?tasks/s]"
      ]
     },
     "metadata": {},
     "output_type": "display_data"
    },
    {
     "data": {
      "application/vnd.jupyter.widget-view+json": {
       "model_id": "b310844e01f042a289e3fe12eb942191",
       "version_major": 2,
       "version_minor": 0
      },
      "text/plain": [
       "sci_respone:   0%|          | 0/2 [00:00<?, ?tasks/s]"
      ]
     },
     "metadata": {},
     "output_type": "display_data"
    },
    {
     "data": {
      "application/vnd.jupyter.widget-view+json": {
       "model_id": "fc44267e0d36400488eaa7144cec7d53",
       "version_major": 2,
       "version_minor": 0
      },
      "text/plain": [
       "sci_respone:   0%|          | 0/2 [00:00<?, ?tasks/s]"
      ]
     },
     "metadata": {},
     "output_type": "display_data"
    },
    {
     "data": {
      "application/vnd.jupyter.widget-view+json": {
       "model_id": "d5317b6db8a64513865f32547e1e9ee3",
       "version_major": 2,
       "version_minor": 0
      },
      "text/plain": [
       "sci_respone:   0%|          | 0/2 [00:00<?, ?tasks/s]"
      ]
     },
     "metadata": {},
     "output_type": "display_data"
    },
    {
     "data": {
      "application/vnd.jupyter.widget-view+json": {
       "model_id": "f42cce2989ea4027b997dfc2d7415af5",
       "version_major": 2,
       "version_minor": 0
      },
      "text/plain": [
       "sci_respone:   0%|          | 0/2 [00:00<?, ?tasks/s]"
      ]
     },
     "metadata": {},
     "output_type": "display_data"
    },
    {
     "data": {
      "application/vnd.jupyter.widget-view+json": {
       "model_id": "b0ac132d833d490f9e447e659e7fa102",
       "version_major": 2,
       "version_minor": 0
      },
      "text/plain": [
       "sci_respone:   0%|          | 0/2 [00:00<?, ?tasks/s]"
      ]
     },
     "metadata": {},
     "output_type": "display_data"
    },
    {
     "data": {
      "application/vnd.jupyter.widget-view+json": {
       "model_id": "b65f6298f2ce4fe4aeb12fc51ea3d133",
       "version_major": 2,
       "version_minor": 0
      },
      "text/plain": [
       "sci_respone:   0%|          | 0/2 [00:00<?, ?tasks/s]"
      ]
     },
     "metadata": {},
     "output_type": "display_data"
    },
    {
     "data": {
      "application/vnd.jupyter.widget-view+json": {
       "model_id": "0cb0a824a8fb40f58a174918edb9248d",
       "version_major": 2,
       "version_minor": 0
      },
      "text/plain": [
       "sci_respone:   0%|          | 0/2 [00:00<?, ?tasks/s]"
      ]
     },
     "metadata": {},
     "output_type": "display_data"
    },
    {
     "data": {
      "application/vnd.jupyter.widget-view+json": {
       "model_id": "e7e71700f0fe401e85c00378e9fbf3b8",
       "version_major": 2,
       "version_minor": 0
      },
      "text/plain": [
       "sci_respone:   0%|          | 0/2 [00:00<?, ?tasks/s]"
      ]
     },
     "metadata": {},
     "output_type": "display_data"
    },
    {
     "data": {
      "application/vnd.jupyter.widget-view+json": {
       "model_id": "ee3fc0c5d85f4ca6bcb9e548a93f4516",
       "version_major": 2,
       "version_minor": 0
      },
      "text/plain": [
       "sci_respone:   0%|          | 0/2 [00:00<?, ?tasks/s]"
      ]
     },
     "metadata": {},
     "output_type": "display_data"
    },
    {
     "data": {
      "application/vnd.jupyter.widget-view+json": {
       "model_id": "27d6f1635c2849e1853c825133e04511",
       "version_major": 2,
       "version_minor": 0
      },
      "text/plain": [
       "sci_respone:   0%|          | 0/2 [00:00<?, ?tasks/s]"
      ]
     },
     "metadata": {},
     "output_type": "display_data"
    },
    {
     "data": {
      "application/vnd.jupyter.widget-view+json": {
       "model_id": "639a6747b6db4fe58ca9ba5dd956eb6e",
       "version_major": 2,
       "version_minor": 0
      },
      "text/plain": [
       "sci_respone:   0%|          | 0/2 [00:00<?, ?tasks/s]"
      ]
     },
     "metadata": {},
     "output_type": "display_data"
    },
    {
     "data": {
      "application/vnd.jupyter.widget-view+json": {
       "model_id": "f5c7b72e74804bb4a5ad8ccca7b2ccde",
       "version_major": 2,
       "version_minor": 0
      },
      "text/plain": [
       "<lambda>:   0%|          | 0/2 [00:00<?, ?tasks/s]"
      ]
     },
     "metadata": {},
     "output_type": "display_data"
    },
    {
     "data": {
      "application/vnd.jupyter.widget-view+json": {
       "model_id": "e5e309222ac6424183862158c12285e1",
       "version_major": 2,
       "version_minor": 0
      },
      "text/plain": [
       "sci_respone:   0%|          | 0/2 [00:00<?, ?tasks/s]"
      ]
     },
     "metadata": {},
     "output_type": "display_data"
    },
    {
     "data": {
      "application/vnd.jupyter.widget-view+json": {
       "model_id": "1ebe1ef032a64813a039ad9983b0531d",
       "version_major": 2,
       "version_minor": 0
      },
      "text/plain": [
       "sci_respone:   0%|          | 0/2 [00:00<?, ?tasks/s]"
      ]
     },
     "metadata": {},
     "output_type": "display_data"
    },
    {
     "data": {
      "application/vnd.jupyter.widget-view+json": {
       "model_id": "233559a104cf472593fe9b4733a62f64",
       "version_major": 2,
       "version_minor": 0
      },
      "text/plain": [
       "sci_respone:   0%|          | 0/2 [00:00<?, ?tasks/s]"
      ]
     },
     "metadata": {},
     "output_type": "display_data"
    },
    {
     "data": {
      "application/vnd.jupyter.widget-view+json": {
       "model_id": "ab2fedd167cf4434ad6f9f8922448a36",
       "version_major": 2,
       "version_minor": 0
      },
      "text/plain": [
       "sci_respone:   0%|          | 0/2 [00:00<?, ?tasks/s]"
      ]
     },
     "metadata": {},
     "output_type": "display_data"
    },
    {
     "data": {
      "application/vnd.jupyter.widget-view+json": {
       "model_id": "2a7afc308a0142e48c60b1dcfb8c2fc9",
       "version_major": 2,
       "version_minor": 0
      },
      "text/plain": [
       "sci_respone:   0%|          | 0/2 [00:00<?, ?tasks/s]"
      ]
     },
     "metadata": {},
     "output_type": "display_data"
    },
    {
     "data": {
      "application/vnd.jupyter.widget-view+json": {
       "model_id": "5e6d9258b99848988278f3422b642846",
       "version_major": 2,
       "version_minor": 0
      },
      "text/plain": [
       "sci_respone:   0%|          | 0/2 [00:00<?, ?tasks/s]"
      ]
     },
     "metadata": {},
     "output_type": "display_data"
    },
    {
     "data": {
      "application/vnd.jupyter.widget-view+json": {
       "model_id": "4a758dc0e5bc4ed389a2407e18ec28ac",
       "version_major": 2,
       "version_minor": 0
      },
      "text/plain": [
       "sci_respone:   0%|          | 0/2 [00:00<?, ?tasks/s]"
      ]
     },
     "metadata": {},
     "output_type": "display_data"
    },
    {
     "data": {
      "application/vnd.jupyter.widget-view+json": {
       "model_id": "55ff47ccd12047f88c3abbe32cd417f5",
       "version_major": 2,
       "version_minor": 0
      },
      "text/plain": [
       "sci_respone:   0%|          | 0/2 [00:00<?, ?tasks/s]"
      ]
     },
     "metadata": {},
     "output_type": "display_data"
    },
    {
     "data": {
      "application/vnd.jupyter.widget-view+json": {
       "model_id": "8685916f510f4116a36d36135995bca7",
       "version_major": 2,
       "version_minor": 0
      },
      "text/plain": [
       "sci_respone:   0%|          | 0/2 [00:00<?, ?tasks/s]"
      ]
     },
     "metadata": {},
     "output_type": "display_data"
    },
    {
     "data": {
      "application/vnd.jupyter.widget-view+json": {
       "model_id": "dac3d85c650f4eeb9e6b7d9afce32fd8",
       "version_major": 2,
       "version_minor": 0
      },
      "text/plain": [
       "sci_respone:   0%|          | 0/2 [00:00<?, ?tasks/s]"
      ]
     },
     "metadata": {},
     "output_type": "display_data"
    },
    {
     "data": {
      "application/vnd.jupyter.widget-view+json": {
       "model_id": "a72fdbb8f328458f957120dd24e1cde7",
       "version_major": 2,
       "version_minor": 0
      },
      "text/plain": [
       "sci_respone:   0%|          | 0/2 [00:00<?, ?tasks/s]"
      ]
     },
     "metadata": {},
     "output_type": "display_data"
    },
    {
     "data": {
      "application/vnd.jupyter.widget-view+json": {
       "model_id": "e0d91ef0eca84bc78ffee959cdc62771",
       "version_major": 2,
       "version_minor": 0
      },
      "text/plain": [
       "sci_respone:   0%|          | 0/2 [00:00<?, ?tasks/s]"
      ]
     },
     "metadata": {},
     "output_type": "display_data"
    },
    {
     "data": {
      "application/vnd.jupyter.widget-view+json": {
       "model_id": "9fabfd0b7e9e42b2a6c38b004c414cb8",
       "version_major": 2,
       "version_minor": 0
      },
      "text/plain": [
       "sci_respone:   0%|          | 0/2 [00:00<?, ?tasks/s]"
      ]
     },
     "metadata": {},
     "output_type": "display_data"
    },
    {
     "data": {
      "application/vnd.jupyter.widget-view+json": {
       "model_id": "42ccca78eeac434c9e0afdce89fffa48",
       "version_major": 2,
       "version_minor": 0
      },
      "text/plain": [
       "sci_respone:   0%|          | 0/2 [00:00<?, ?tasks/s]"
      ]
     },
     "metadata": {},
     "output_type": "display_data"
    },
    {
     "data": {
      "application/vnd.jupyter.widget-view+json": {
       "model_id": "0f39be09590c4eb7807c9246befaa3e3",
       "version_major": 2,
       "version_minor": 0
      },
      "text/plain": [
       "sci_respone:   0%|          | 0/2 [00:00<?, ?tasks/s]"
      ]
     },
     "metadata": {},
     "output_type": "display_data"
    },
    {
     "data": {
      "application/vnd.jupyter.widget-view+json": {
       "model_id": "58b66e8c8db54db288e12ac941dea368",
       "version_major": 2,
       "version_minor": 0
      },
      "text/plain": [
       "sci_respone:   0%|          | 0/2 [00:00<?, ?tasks/s]"
      ]
     },
     "metadata": {},
     "output_type": "display_data"
    },
    {
     "data": {
      "application/vnd.jupyter.widget-view+json": {
       "model_id": "15b3a95623ad4c1ab5b002f237ad76d2",
       "version_major": 2,
       "version_minor": 0
      },
      "text/plain": [
       "sci_respone:   0%|          | 0/2 [00:00<?, ?tasks/s]"
      ]
     },
     "metadata": {},
     "output_type": "display_data"
    },
    {
     "data": {
      "application/vnd.jupyter.widget-view+json": {
       "model_id": "d9299f16cd524e5089db91303faab387",
       "version_major": 2,
       "version_minor": 0
      },
      "text/plain": [
       "sci_respone:   0%|          | 0/2 [00:00<?, ?tasks/s]"
      ]
     },
     "metadata": {},
     "output_type": "display_data"
    },
    {
     "data": {
      "application/vnd.jupyter.widget-view+json": {
       "model_id": "4693506c136c4816ba205be4dd4067c9",
       "version_major": 2,
       "version_minor": 0
      },
      "text/plain": [
       "sci_respone:   0%|          | 0/2 [00:00<?, ?tasks/s]"
      ]
     },
     "metadata": {},
     "output_type": "display_data"
    },
    {
     "data": {
      "application/vnd.jupyter.widget-view+json": {
       "model_id": "bc44167406da4e3488d07391f013a302",
       "version_major": 2,
       "version_minor": 0
      },
      "text/plain": [
       "sci_respone:   0%|          | 0/2 [00:00<?, ?tasks/s]"
      ]
     },
     "metadata": {},
     "output_type": "display_data"
    },
    {
     "data": {
      "application/vnd.jupyter.widget-view+json": {
       "model_id": "94e5621e706d42e18bb37e10576e935f",
       "version_major": 2,
       "version_minor": 0
      },
      "text/plain": [
       "sci_respone:   0%|          | 0/2 [00:00<?, ?tasks/s]"
      ]
     },
     "metadata": {},
     "output_type": "display_data"
    },
    {
     "data": {
      "application/vnd.jupyter.widget-view+json": {
       "model_id": "a140752a7ab947a3ab8908f11e83701b",
       "version_major": 2,
       "version_minor": 0
      },
      "text/plain": [
       "sci_respone:   0%|          | 0/2 [00:00<?, ?tasks/s]"
      ]
     },
     "metadata": {},
     "output_type": "display_data"
    },
    {
     "data": {
      "application/vnd.jupyter.widget-view+json": {
       "model_id": "01c0b12f001849baa33e47ffa9909758",
       "version_major": 2,
       "version_minor": 0
      },
      "text/plain": [
       "sci_respone:   0%|          | 0/2 [00:00<?, ?tasks/s]"
      ]
     },
     "metadata": {},
     "output_type": "display_data"
    },
    {
     "data": {
      "application/vnd.jupyter.widget-view+json": {
       "model_id": "cfdcc59af626493db745308b4c2b83d5",
       "version_major": 2,
       "version_minor": 0
      },
      "text/plain": [
       "sci_respone:   0%|          | 0/2 [00:00<?, ?tasks/s]"
      ]
     },
     "metadata": {},
     "output_type": "display_data"
    },
    {
     "data": {
      "application/vnd.jupyter.widget-view+json": {
       "model_id": "07422a22295a450b868ed8874e265732",
       "version_major": 2,
       "version_minor": 0
      },
      "text/plain": [
       "sci_respone:   0%|          | 0/2 [00:00<?, ?tasks/s]"
      ]
     },
     "metadata": {},
     "output_type": "display_data"
    },
    {
     "data": {
      "application/vnd.jupyter.widget-view+json": {
       "model_id": "0a2a3be98fd245418fdc1a59a31dd4cb",
       "version_major": 2,
       "version_minor": 0
      },
      "text/plain": [
       "sci_respone:   0%|          | 0/2 [00:00<?, ?tasks/s]"
      ]
     },
     "metadata": {},
     "output_type": "display_data"
    },
    {
     "data": {
      "application/vnd.jupyter.widget-view+json": {
       "model_id": "9deb9ec6c0f24f73abc4419f5fb82928",
       "version_major": 2,
       "version_minor": 0
      },
      "text/plain": [
       "sci_respone:   0%|          | 0/2 [00:00<?, ?tasks/s]"
      ]
     },
     "metadata": {},
     "output_type": "display_data"
    },
    {
     "data": {
      "application/vnd.jupyter.widget-view+json": {
       "model_id": "a559f8e0defd4d759ed3da341190c86b",
       "version_major": 2,
       "version_minor": 0
      },
      "text/plain": [
       "sci_respone:   0%|          | 0/2 [00:00<?, ?tasks/s]"
      ]
     },
     "metadata": {},
     "output_type": "display_data"
    },
    {
     "data": {
      "application/vnd.jupyter.widget-view+json": {
       "model_id": "2e187ca2b39f49799c4aaaed293c96cb",
       "version_major": 2,
       "version_minor": 0
      },
      "text/plain": [
       "sci_respone:   0%|          | 0/2 [00:00<?, ?tasks/s]"
      ]
     },
     "metadata": {},
     "output_type": "display_data"
    },
    {
     "data": {
      "application/vnd.jupyter.widget-view+json": {
       "model_id": "840fc2a7453c481ebf9ffa13ae7846bf",
       "version_major": 2,
       "version_minor": 0
      },
      "text/plain": [
       "sci_respone:   0%|          | 0/2 [00:00<?, ?tasks/s]"
      ]
     },
     "metadata": {},
     "output_type": "display_data"
    },
    {
     "name": "stdout",
     "output_type": "stream",
     "text": [
      "Stopping engine(s): 1712267521\n",
      "engine set stopped 1712267521: {'engines': {'0': {'exit_code': 1, 'pid': 11756, 'identifier': '0'}, '1': {'exit_code': 1, 'pid': 11212, 'identifier': '1'}}, 'exit_code': 1}\n",
      "Stopping controller\n",
      "Controller stopped: {'exit_code': 1, 'pid': 4388, 'identifier': 'ipcontroller-1712267520-qmwx-5776'}\n"
     ]
    }
   ],
   "source": [
    "vsm.parallel_sci(dataset.query_vectors)"
   ]
  },
  {
   "cell_type": "code",
   "execution_count": null,
   "metadata": {},
   "outputs": [
    {
     "name": "stdout",
     "output_type": "stream",
     "text": [
      "Starting 4 engines with <class 'ipyparallel.cluster.launcher.LocalEngineSetLauncher'>\n"
     ]
    },
    {
     "data": {
      "application/vnd.jupyter.widget-view+json": {
       "model_id": "281d861e1b7940d2a0e76f6d7bd885a9",
       "version_major": 2,
       "version_minor": 0
      },
      "text/plain": [
       "  0%|          | 0/4 [00:00<?, ?engine/s]"
      ]
     },
     "metadata": {},
     "output_type": "display_data"
    },
    {
     "data": {
      "application/vnd.jupyter.widget-view+json": {
       "model_id": "b3ae47325e164db4be8d5c299c63e2a1",
       "version_major": 2,
       "version_minor": 0
      },
      "text/plain": [
       "<lambda>:   0%|          | 0/4 [00:00<?, ?tasks/s]"
      ]
     },
     "metadata": {},
     "output_type": "display_data"
    },
    {
     "data": {
      "application/vnd.jupyter.widget-view+json": {
       "model_id": "08e6f4a126ab4ab9823fa11f5674fd7f",
       "version_major": 2,
       "version_minor": 0
      },
      "text/plain": [
       "sci_respone:   0%|          | 0/4 [00:00<?, ?tasks/s]"
      ]
     },
     "metadata": {},
     "output_type": "display_data"
    },
    {
     "data": {
      "application/vnd.jupyter.widget-view+json": {
       "model_id": "9cdf821921a64f8ea265e1353b9966fd",
       "version_major": 2,
       "version_minor": 0
      },
      "text/plain": [
       "sci_respone:   0%|          | 0/4 [00:00<?, ?tasks/s]"
      ]
     },
     "metadata": {},
     "output_type": "display_data"
    },
    {
     "data": {
      "application/vnd.jupyter.widget-view+json": {
       "model_id": "e65c4cfea15445a388f160b5e88a8609",
       "version_major": 2,
       "version_minor": 0
      },
      "text/plain": [
       "sci_respone:   0%|          | 0/4 [00:00<?, ?tasks/s]"
      ]
     },
     "metadata": {},
     "output_type": "display_data"
    },
    {
     "data": {
      "application/vnd.jupyter.widget-view+json": {
       "model_id": "74498f6fcc2542c4aa31fc666b32e09b",
       "version_major": 2,
       "version_minor": 0
      },
      "text/plain": [
       "sci_respone:   0%|          | 0/4 [00:00<?, ?tasks/s]"
      ]
     },
     "metadata": {},
     "output_type": "display_data"
    },
    {
     "data": {
      "application/vnd.jupyter.widget-view+json": {
       "model_id": "cb3bde34fdb843ba95daba5d55bba533",
       "version_major": 2,
       "version_minor": 0
      },
      "text/plain": [
       "sci_respone:   0%|          | 0/4 [00:00<?, ?tasks/s]"
      ]
     },
     "metadata": {},
     "output_type": "display_data"
    },
    {
     "data": {
      "application/vnd.jupyter.widget-view+json": {
       "model_id": "5e89ff49ca704490b1ef0ba58f5d6f4d",
       "version_major": 2,
       "version_minor": 0
      },
      "text/plain": [
       "sci_respone:   0%|          | 0/4 [00:00<?, ?tasks/s]"
      ]
     },
     "metadata": {},
     "output_type": "display_data"
    },
    {
     "data": {
      "application/vnd.jupyter.widget-view+json": {
       "model_id": "b40b40b862bc44069936b8e7c613c81a",
       "version_major": 2,
       "version_minor": 0
      },
      "text/plain": [
       "sci_respone:   0%|          | 0/4 [00:00<?, ?tasks/s]"
      ]
     },
     "metadata": {},
     "output_type": "display_data"
    },
    {
     "data": {
      "application/vnd.jupyter.widget-view+json": {
       "model_id": "74b7983533a1496c965df28a77bb77b6",
       "version_major": 2,
       "version_minor": 0
      },
      "text/plain": [
       "sci_respone:   0%|          | 0/4 [00:00<?, ?tasks/s]"
      ]
     },
     "metadata": {},
     "output_type": "display_data"
    },
    {
     "data": {
      "application/vnd.jupyter.widget-view+json": {
       "model_id": "25918c2954b64c529da2014c7680a7e5",
       "version_major": 2,
       "version_minor": 0
      },
      "text/plain": [
       "sci_respone:   0%|          | 0/4 [00:00<?, ?tasks/s]"
      ]
     },
     "metadata": {},
     "output_type": "display_data"
    },
    {
     "data": {
      "application/vnd.jupyter.widget-view+json": {
       "model_id": "8a7fa7d694414d32a1961bf0c4796e31",
       "version_major": 2,
       "version_minor": 0
      },
      "text/plain": [
       "sci_respone:   0%|          | 0/4 [00:00<?, ?tasks/s]"
      ]
     },
     "metadata": {},
     "output_type": "display_data"
    },
    {
     "data": {
      "application/vnd.jupyter.widget-view+json": {
       "model_id": "2894a6fb00d8470f9f5ca51efefd9412",
       "version_major": 2,
       "version_minor": 0
      },
      "text/plain": [
       "sci_respone:   0%|          | 0/4 [00:00<?, ?tasks/s]"
      ]
     },
     "metadata": {},
     "output_type": "display_data"
    },
    {
     "data": {
      "application/vnd.jupyter.widget-view+json": {
       "model_id": "b09679daf4d24d9ea20e508536ecf06c",
       "version_major": 2,
       "version_minor": 0
      },
      "text/plain": [
       "sci_respone:   0%|          | 0/4 [00:00<?, ?tasks/s]"
      ]
     },
     "metadata": {},
     "output_type": "display_data"
    },
    {
     "data": {
      "application/vnd.jupyter.widget-view+json": {
       "model_id": "4ca40b4106c4470781a1357deed73181",
       "version_major": 2,
       "version_minor": 0
      },
      "text/plain": [
       "sci_respone:   0%|          | 0/4 [00:00<?, ?tasks/s]"
      ]
     },
     "metadata": {},
     "output_type": "display_data"
    },
    {
     "data": {
      "application/vnd.jupyter.widget-view+json": {
       "model_id": "b0a1a3fdf16b4873a561fe4e202f0c93",
       "version_major": 2,
       "version_minor": 0
      },
      "text/plain": [
       "sci_respone:   0%|          | 0/4 [00:00<?, ?tasks/s]"
      ]
     },
     "metadata": {},
     "output_type": "display_data"
    },
    {
     "data": {
      "application/vnd.jupyter.widget-view+json": {
       "model_id": "549df0fd0fbd4b91bda98ef2e33e4e86",
       "version_major": 2,
       "version_minor": 0
      },
      "text/plain": [
       "sci_respone:   0%|          | 0/4 [00:00<?, ?tasks/s]"
      ]
     },
     "metadata": {},
     "output_type": "display_data"
    },
    {
     "data": {
      "application/vnd.jupyter.widget-view+json": {
       "model_id": "13b7d1bdc123466ab67f771b9a908b44",
       "version_major": 2,
       "version_minor": 0
      },
      "text/plain": [
       "sci_respone:   0%|          | 0/4 [00:00<?, ?tasks/s]"
      ]
     },
     "metadata": {},
     "output_type": "display_data"
    },
    {
     "data": {
      "application/vnd.jupyter.widget-view+json": {
       "model_id": "8b1874213be54493925ede07880d09d1",
       "version_major": 2,
       "version_minor": 0
      },
      "text/plain": [
       "sci_respone:   0%|          | 0/4 [00:00<?, ?tasks/s]"
      ]
     },
     "metadata": {},
     "output_type": "display_data"
    },
    {
     "data": {
      "application/vnd.jupyter.widget-view+json": {
       "model_id": "09b3170b0b4b4dcc8d11d6d86a4b37f4",
       "version_major": 2,
       "version_minor": 0
      },
      "text/plain": [
       "sci_respone:   0%|          | 0/4 [00:00<?, ?tasks/s]"
      ]
     },
     "metadata": {},
     "output_type": "display_data"
    },
    {
     "data": {
      "application/vnd.jupyter.widget-view+json": {
       "model_id": "b79278bd566b49999e88d58e3945832d",
       "version_major": 2,
       "version_minor": 0
      },
      "text/plain": [
       "sci_respone:   0%|          | 0/4 [00:00<?, ?tasks/s]"
      ]
     },
     "metadata": {},
     "output_type": "display_data"
    },
    {
     "data": {
      "application/vnd.jupyter.widget-view+json": {
       "model_id": "2297df369c7c41299143014a85d34c52",
       "version_major": 2,
       "version_minor": 0
      },
      "text/plain": [
       "sci_respone:   0%|          | 0/4 [00:00<?, ?tasks/s]"
      ]
     },
     "metadata": {},
     "output_type": "display_data"
    },
    {
     "data": {
      "application/vnd.jupyter.widget-view+json": {
       "model_id": "6c6beed161254dd79381ef3b2b5f0037",
       "version_major": 2,
       "version_minor": 0
      },
      "text/plain": [
       "sci_respone:   0%|          | 0/4 [00:00<?, ?tasks/s]"
      ]
     },
     "metadata": {},
     "output_type": "display_data"
    },
    {
     "data": {
      "application/vnd.jupyter.widget-view+json": {
       "model_id": "e3a92e63a6bf4cd7a07e5ff8a636c0cc",
       "version_major": 2,
       "version_minor": 0
      },
      "text/plain": [
       "sci_respone:   0%|          | 0/4 [00:00<?, ?tasks/s]"
      ]
     },
     "metadata": {},
     "output_type": "display_data"
    },
    {
     "data": {
      "application/vnd.jupyter.widget-view+json": {
       "model_id": "d8201a7740b84b6bad9ed2b05f396176",
       "version_major": 2,
       "version_minor": 0
      },
      "text/plain": [
       "sci_respone:   0%|          | 0/4 [00:00<?, ?tasks/s]"
      ]
     },
     "metadata": {},
     "output_type": "display_data"
    },
    {
     "data": {
      "application/vnd.jupyter.widget-view+json": {
       "model_id": "b1f12d77b4b74a2791d4a6826e82eacb",
       "version_major": 2,
       "version_minor": 0
      },
      "text/plain": [
       "sci_respone:   0%|          | 0/4 [00:00<?, ?tasks/s]"
      ]
     },
     "metadata": {},
     "output_type": "display_data"
    },
    {
     "data": {
      "application/vnd.jupyter.widget-view+json": {
       "model_id": "e41817d80d2c4f7a82d30b794d846e27",
       "version_major": 2,
       "version_minor": 0
      },
      "text/plain": [
       "sci_respone:   0%|          | 0/4 [00:00<?, ?tasks/s]"
      ]
     },
     "metadata": {},
     "output_type": "display_data"
    },
    {
     "data": {
      "application/vnd.jupyter.widget-view+json": {
       "model_id": "93f0d3b4ea1d45b0bb85646465b66e1a",
       "version_major": 2,
       "version_minor": 0
      },
      "text/plain": [
       "sci_respone:   0%|          | 0/4 [00:00<?, ?tasks/s]"
      ]
     },
     "metadata": {},
     "output_type": "display_data"
    },
    {
     "data": {
      "application/vnd.jupyter.widget-view+json": {
       "model_id": "b4dd2a5884114806b8898bc7860216bc",
       "version_major": 2,
       "version_minor": 0
      },
      "text/plain": [
       "sci_respone:   0%|          | 0/4 [00:00<?, ?tasks/s]"
      ]
     },
     "metadata": {},
     "output_type": "display_data"
    },
    {
     "data": {
      "application/vnd.jupyter.widget-view+json": {
       "model_id": "4665f018ce4c4fc39af3d1e5311b4e8b",
       "version_major": 2,
       "version_minor": 0
      },
      "text/plain": [
       "sci_respone:   0%|          | 0/4 [00:00<?, ?tasks/s]"
      ]
     },
     "metadata": {},
     "output_type": "display_data"
    },
    {
     "data": {
      "application/vnd.jupyter.widget-view+json": {
       "model_id": "397d4eb5fc124da4af1d1650ba920e4a",
       "version_major": 2,
       "version_minor": 0
      },
      "text/plain": [
       "sci_respone:   0%|          | 0/4 [00:00<?, ?tasks/s]"
      ]
     },
     "metadata": {},
     "output_type": "display_data"
    },
    {
     "data": {
      "application/vnd.jupyter.widget-view+json": {
       "model_id": "77b215e552464415927b8a3c83ddf3f4",
       "version_major": 2,
       "version_minor": 0
      },
      "text/plain": [
       "sci_respone:   0%|          | 0/4 [00:00<?, ?tasks/s]"
      ]
     },
     "metadata": {},
     "output_type": "display_data"
    },
    {
     "data": {
      "application/vnd.jupyter.widget-view+json": {
       "model_id": "b149f0eaecde45eb87e1205aea4b1601",
       "version_major": 2,
       "version_minor": 0
      },
      "text/plain": [
       "<lambda>:   0%|          | 0/4 [00:00<?, ?tasks/s]"
      ]
     },
     "metadata": {},
     "output_type": "display_data"
    },
    {
     "data": {
      "application/vnd.jupyter.widget-view+json": {
       "model_id": "9c95679b8ed24290838e0e66163aefa3",
       "version_major": 2,
       "version_minor": 0
      },
      "text/plain": [
       "sci_respone:   0%|          | 0/4 [00:00<?, ?tasks/s]"
      ]
     },
     "metadata": {},
     "output_type": "display_data"
    },
    {
     "data": {
      "application/vnd.jupyter.widget-view+json": {
       "model_id": "13d09008e0434c40932d4b166e37bb5f",
       "version_major": 2,
       "version_minor": 0
      },
      "text/plain": [
       "sci_respone:   0%|          | 0/4 [00:00<?, ?tasks/s]"
      ]
     },
     "metadata": {},
     "output_type": "display_data"
    },
    {
     "data": {
      "application/vnd.jupyter.widget-view+json": {
       "model_id": "c096f92fcfe5481cb4d68a79e3fe5916",
       "version_major": 2,
       "version_minor": 0
      },
      "text/plain": [
       "sci_respone:   0%|          | 0/4 [00:00<?, ?tasks/s]"
      ]
     },
     "metadata": {},
     "output_type": "display_data"
    },
    {
     "data": {
      "application/vnd.jupyter.widget-view+json": {
       "model_id": "e65c48881f66451796da68ef4ca1815f",
       "version_major": 2,
       "version_minor": 0
      },
      "text/plain": [
       "sci_respone:   0%|          | 0/4 [00:00<?, ?tasks/s]"
      ]
     },
     "metadata": {},
     "output_type": "display_data"
    },
    {
     "data": {
      "application/vnd.jupyter.widget-view+json": {
       "model_id": "abf46891efed499a9576b6d622b54d77",
       "version_major": 2,
       "version_minor": 0
      },
      "text/plain": [
       "sci_respone:   0%|          | 0/4 [00:00<?, ?tasks/s]"
      ]
     },
     "metadata": {},
     "output_type": "display_data"
    },
    {
     "data": {
      "application/vnd.jupyter.widget-view+json": {
       "model_id": "57056ec9227d4c119a4289736ecf11ef",
       "version_major": 2,
       "version_minor": 0
      },
      "text/plain": [
       "sci_respone:   0%|          | 0/4 [00:00<?, ?tasks/s]"
      ]
     },
     "metadata": {},
     "output_type": "display_data"
    },
    {
     "data": {
      "application/vnd.jupyter.widget-view+json": {
       "model_id": "38c2d73cbe4a46fbbb89be1a731e929e",
       "version_major": 2,
       "version_minor": 0
      },
      "text/plain": [
       "sci_respone:   0%|          | 0/4 [00:00<?, ?tasks/s]"
      ]
     },
     "metadata": {},
     "output_type": "display_data"
    },
    {
     "data": {
      "application/vnd.jupyter.widget-view+json": {
       "model_id": "7bc1c96da38e45d4bdf5e723506bfec4",
       "version_major": 2,
       "version_minor": 0
      },
      "text/plain": [
       "sci_respone:   0%|          | 0/4 [00:00<?, ?tasks/s]"
      ]
     },
     "metadata": {},
     "output_type": "display_data"
    },
    {
     "data": {
      "application/vnd.jupyter.widget-view+json": {
       "model_id": "70c827055fa94ff6b74066440934841e",
       "version_major": 2,
       "version_minor": 0
      },
      "text/plain": [
       "sci_respone:   0%|          | 0/4 [00:00<?, ?tasks/s]"
      ]
     },
     "metadata": {},
     "output_type": "display_data"
    },
    {
     "data": {
      "application/vnd.jupyter.widget-view+json": {
       "model_id": "4a7d6631d455448eb4413b3a7131b92e",
       "version_major": 2,
       "version_minor": 0
      },
      "text/plain": [
       "sci_respone:   0%|          | 0/4 [00:00<?, ?tasks/s]"
      ]
     },
     "metadata": {},
     "output_type": "display_data"
    },
    {
     "data": {
      "application/vnd.jupyter.widget-view+json": {
       "model_id": "271af034314c4ba0aa1f7928186dfa77",
       "version_major": 2,
       "version_minor": 0
      },
      "text/plain": [
       "sci_respone:   0%|          | 0/4 [00:00<?, ?tasks/s]"
      ]
     },
     "metadata": {},
     "output_type": "display_data"
    },
    {
     "data": {
      "application/vnd.jupyter.widget-view+json": {
       "model_id": "8a034c896b514155b8fd73d82d447eb8",
       "version_major": 2,
       "version_minor": 0
      },
      "text/plain": [
       "sci_respone:   0%|          | 0/4 [00:00<?, ?tasks/s]"
      ]
     },
     "metadata": {},
     "output_type": "display_data"
    },
    {
     "data": {
      "application/vnd.jupyter.widget-view+json": {
       "model_id": "c58fad457a554e899ffe71ab74c04c13",
       "version_major": 2,
       "version_minor": 0
      },
      "text/plain": [
       "sci_respone:   0%|          | 0/4 [00:00<?, ?tasks/s]"
      ]
     },
     "metadata": {},
     "output_type": "display_data"
    },
    {
     "data": {
      "application/vnd.jupyter.widget-view+json": {
       "model_id": "dec02b548fae4a64b67c666b30f1340c",
       "version_major": 2,
       "version_minor": 0
      },
      "text/plain": [
       "sci_respone:   0%|          | 0/4 [00:00<?, ?tasks/s]"
      ]
     },
     "metadata": {},
     "output_type": "display_data"
    },
    {
     "data": {
      "application/vnd.jupyter.widget-view+json": {
       "model_id": "4d786b0108e14decb39381142c84acd3",
       "version_major": 2,
       "version_minor": 0
      },
      "text/plain": [
       "sci_respone:   0%|          | 0/4 [00:00<?, ?tasks/s]"
      ]
     },
     "metadata": {},
     "output_type": "display_data"
    },
    {
     "data": {
      "application/vnd.jupyter.widget-view+json": {
       "model_id": "e3730cb6dfe945459fb9581addfb4d1d",
       "version_major": 2,
       "version_minor": 0
      },
      "text/plain": [
       "sci_respone:   0%|          | 0/4 [00:00<?, ?tasks/s]"
      ]
     },
     "metadata": {},
     "output_type": "display_data"
    },
    {
     "data": {
      "application/vnd.jupyter.widget-view+json": {
       "model_id": "01295b0e97154e9e85a30b128fa86e81",
       "version_major": 2,
       "version_minor": 0
      },
      "text/plain": [
       "sci_respone:   0%|          | 0/4 [00:00<?, ?tasks/s]"
      ]
     },
     "metadata": {},
     "output_type": "display_data"
    },
    {
     "data": {
      "application/vnd.jupyter.widget-view+json": {
       "model_id": "2a638a47aabd42beaf1d9946d8049d31",
       "version_major": 2,
       "version_minor": 0
      },
      "text/plain": [
       "sci_respone:   0%|          | 0/4 [00:00<?, ?tasks/s]"
      ]
     },
     "metadata": {},
     "output_type": "display_data"
    },
    {
     "data": {
      "application/vnd.jupyter.widget-view+json": {
       "model_id": "6120fbae68c74e719f0fa3c810b3889f",
       "version_major": 2,
       "version_minor": 0
      },
      "text/plain": [
       "sci_respone:   0%|          | 0/4 [00:00<?, ?tasks/s]"
      ]
     },
     "metadata": {},
     "output_type": "display_data"
    },
    {
     "data": {
      "application/vnd.jupyter.widget-view+json": {
       "model_id": "c7d71a60bf3749ffaecddf939cf95d33",
       "version_major": 2,
       "version_minor": 0
      },
      "text/plain": [
       "sci_respone:   0%|          | 0/4 [00:00<?, ?tasks/s]"
      ]
     },
     "metadata": {},
     "output_type": "display_data"
    },
    {
     "data": {
      "application/vnd.jupyter.widget-view+json": {
       "model_id": "e5fa7ff996824cec81165b3fd6a8f2de",
       "version_major": 2,
       "version_minor": 0
      },
      "text/plain": [
       "sci_respone:   0%|          | 0/4 [00:00<?, ?tasks/s]"
      ]
     },
     "metadata": {},
     "output_type": "display_data"
    },
    {
     "data": {
      "application/vnd.jupyter.widget-view+json": {
       "model_id": "40c22451a1d9446a95fc28eb0190d46c",
       "version_major": 2,
       "version_minor": 0
      },
      "text/plain": [
       "sci_respone:   0%|          | 0/4 [00:00<?, ?tasks/s]"
      ]
     },
     "metadata": {},
     "output_type": "display_data"
    },
    {
     "data": {
      "application/vnd.jupyter.widget-view+json": {
       "model_id": "f768abec2d144a27b1ccb8c6fd2ee9cd",
       "version_major": 2,
       "version_minor": 0
      },
      "text/plain": [
       "sci_respone:   0%|          | 0/4 [00:00<?, ?tasks/s]"
      ]
     },
     "metadata": {},
     "output_type": "display_data"
    },
    {
     "data": {
      "application/vnd.jupyter.widget-view+json": {
       "model_id": "9ff589ef909c4983b1de46947593b2e6",
       "version_major": 2,
       "version_minor": 0
      },
      "text/plain": [
       "sci_respone:   0%|          | 0/4 [00:00<?, ?tasks/s]"
      ]
     },
     "metadata": {},
     "output_type": "display_data"
    },
    {
     "data": {
      "application/vnd.jupyter.widget-view+json": {
       "model_id": "bdf6b05564fa43bba6799f300d455fb8",
       "version_major": 2,
       "version_minor": 0
      },
      "text/plain": [
       "sci_respone:   0%|          | 0/4 [00:00<?, ?tasks/s]"
      ]
     },
     "metadata": {},
     "output_type": "display_data"
    },
    {
     "data": {
      "application/vnd.jupyter.widget-view+json": {
       "model_id": "9bc554ef292a428c85661bdc73be07e8",
       "version_major": 2,
       "version_minor": 0
      },
      "text/plain": [
       "sci_respone:   0%|          | 0/4 [00:00<?, ?tasks/s]"
      ]
     },
     "metadata": {},
     "output_type": "display_data"
    },
    {
     "data": {
      "application/vnd.jupyter.widget-view+json": {
       "model_id": "dd859d724eb6444aa94685613ba42785",
       "version_major": 2,
       "version_minor": 0
      },
      "text/plain": [
       "sci_respone:   0%|          | 0/4 [00:00<?, ?tasks/s]"
      ]
     },
     "metadata": {},
     "output_type": "display_data"
    },
    {
     "data": {
      "application/vnd.jupyter.widget-view+json": {
       "model_id": "e39459f0eb524f94b753a3f1cd8ccdf2",
       "version_major": 2,
       "version_minor": 0
      },
      "text/plain": [
       "sci_respone:   0%|          | 0/4 [00:00<?, ?tasks/s]"
      ]
     },
     "metadata": {},
     "output_type": "display_data"
    },
    {
     "data": {
      "application/vnd.jupyter.widget-view+json": {
       "model_id": "fbb7c357a76447ad96fd90b6017fb2c1",
       "version_major": 2,
       "version_minor": 0
      },
      "text/plain": [
       "sci_respone:   0%|          | 0/4 [00:00<?, ?tasks/s]"
      ]
     },
     "metadata": {},
     "output_type": "display_data"
    },
    {
     "data": {
      "application/vnd.jupyter.widget-view+json": {
       "model_id": "788ee6d44e71458e9a77a3faab338371",
       "version_major": 2,
       "version_minor": 0
      },
      "text/plain": [
       "sci_respone:   0%|          | 0/4 [00:00<?, ?tasks/s]"
      ]
     },
     "metadata": {},
     "output_type": "display_data"
    },
    {
     "data": {
      "application/vnd.jupyter.widget-view+json": {
       "model_id": "da36d3e9901541f78b7898898858de91",
       "version_major": 2,
       "version_minor": 0
      },
      "text/plain": [
       "<lambda>:   0%|          | 0/4 [00:00<?, ?tasks/s]"
      ]
     },
     "metadata": {},
     "output_type": "display_data"
    },
    {
     "data": {
      "application/vnd.jupyter.widget-view+json": {
       "model_id": "8c97a9b46b2841108efb78a97680f4d5",
       "version_major": 2,
       "version_minor": 0
      },
      "text/plain": [
       "sci_respone:   0%|          | 0/4 [00:00<?, ?tasks/s]"
      ]
     },
     "metadata": {},
     "output_type": "display_data"
    },
    {
     "data": {
      "application/vnd.jupyter.widget-view+json": {
       "model_id": "ecfc1803793744e98fd3c4e59a5d7c94",
       "version_major": 2,
       "version_minor": 0
      },
      "text/plain": [
       "sci_respone:   0%|          | 0/4 [00:00<?, ?tasks/s]"
      ]
     },
     "metadata": {},
     "output_type": "display_data"
    },
    {
     "data": {
      "application/vnd.jupyter.widget-view+json": {
       "model_id": "af8f618cb35646259eae795d5fcbc1c2",
       "version_major": 2,
       "version_minor": 0
      },
      "text/plain": [
       "sci_respone:   0%|          | 0/4 [00:00<?, ?tasks/s]"
      ]
     },
     "metadata": {},
     "output_type": "display_data"
    },
    {
     "data": {
      "application/vnd.jupyter.widget-view+json": {
       "model_id": "fd7799a788d0477aac78e469fbf39c6b",
       "version_major": 2,
       "version_minor": 0
      },
      "text/plain": [
       "sci_respone:   0%|          | 0/4 [00:00<?, ?tasks/s]"
      ]
     },
     "metadata": {},
     "output_type": "display_data"
    },
    {
     "data": {
      "application/vnd.jupyter.widget-view+json": {
       "model_id": "55705b6eaec346f1a1206481ea0742ba",
       "version_major": 2,
       "version_minor": 0
      },
      "text/plain": [
       "sci_respone:   0%|          | 0/4 [00:00<?, ?tasks/s]"
      ]
     },
     "metadata": {},
     "output_type": "display_data"
    },
    {
     "data": {
      "application/vnd.jupyter.widget-view+json": {
       "model_id": "16ce2633bb0a4b0b876d13a227197229",
       "version_major": 2,
       "version_minor": 0
      },
      "text/plain": [
       "sci_respone:   0%|          | 0/4 [00:00<?, ?tasks/s]"
      ]
     },
     "metadata": {},
     "output_type": "display_data"
    },
    {
     "data": {
      "application/vnd.jupyter.widget-view+json": {
       "model_id": "f5f194b6521f40979e2a01b170515322",
       "version_major": 2,
       "version_minor": 0
      },
      "text/plain": [
       "sci_respone:   0%|          | 0/4 [00:00<?, ?tasks/s]"
      ]
     },
     "metadata": {},
     "output_type": "display_data"
    },
    {
     "data": {
      "application/vnd.jupyter.widget-view+json": {
       "model_id": "9510d7108b6941a78b456732640ae3c4",
       "version_major": 2,
       "version_minor": 0
      },
      "text/plain": [
       "sci_respone:   0%|          | 0/4 [00:00<?, ?tasks/s]"
      ]
     },
     "metadata": {},
     "output_type": "display_data"
    },
    {
     "data": {
      "application/vnd.jupyter.widget-view+json": {
       "model_id": "8760fdf53a224029975cfdc91750447c",
       "version_major": 2,
       "version_minor": 0
      },
      "text/plain": [
       "sci_respone:   0%|          | 0/4 [00:00<?, ?tasks/s]"
      ]
     },
     "metadata": {},
     "output_type": "display_data"
    },
    {
     "data": {
      "application/vnd.jupyter.widget-view+json": {
       "model_id": "ad14a137c4984e00a193d534e53dbe4c",
       "version_major": 2,
       "version_minor": 0
      },
      "text/plain": [
       "sci_respone:   0%|          | 0/4 [00:00<?, ?tasks/s]"
      ]
     },
     "metadata": {},
     "output_type": "display_data"
    },
    {
     "data": {
      "application/vnd.jupyter.widget-view+json": {
       "model_id": "c5b4ffbda30e4dc2b4ae909c822396aa",
       "version_major": 2,
       "version_minor": 0
      },
      "text/plain": [
       "sci_respone:   0%|          | 0/4 [00:00<?, ?tasks/s]"
      ]
     },
     "metadata": {},
     "output_type": "display_data"
    },
    {
     "data": {
      "application/vnd.jupyter.widget-view+json": {
       "model_id": "6d2a372c0eca49189f45602932c76036",
       "version_major": 2,
       "version_minor": 0
      },
      "text/plain": [
       "sci_respone:   0%|          | 0/4 [00:00<?, ?tasks/s]"
      ]
     },
     "metadata": {},
     "output_type": "display_data"
    },
    {
     "data": {
      "application/vnd.jupyter.widget-view+json": {
       "model_id": "613fc7b162df4119aa0cc18ffd0b372c",
       "version_major": 2,
       "version_minor": 0
      },
      "text/plain": [
       "sci_respone:   0%|          | 0/4 [00:00<?, ?tasks/s]"
      ]
     },
     "metadata": {},
     "output_type": "display_data"
    },
    {
     "data": {
      "application/vnd.jupyter.widget-view+json": {
       "model_id": "00ab1ba93d494488b473554fbd949ee4",
       "version_major": 2,
       "version_minor": 0
      },
      "text/plain": [
       "sci_respone:   0%|          | 0/4 [00:00<?, ?tasks/s]"
      ]
     },
     "metadata": {},
     "output_type": "display_data"
    },
    {
     "data": {
      "application/vnd.jupyter.widget-view+json": {
       "model_id": "ff9bf13823b34d0ba7cad931402f7717",
       "version_major": 2,
       "version_minor": 0
      },
      "text/plain": [
       "sci_respone:   0%|          | 0/4 [00:00<?, ?tasks/s]"
      ]
     },
     "metadata": {},
     "output_type": "display_data"
    },
    {
     "data": {
      "application/vnd.jupyter.widget-view+json": {
       "model_id": "da7142daa9fe4055babf10e595f35b2f",
       "version_major": 2,
       "version_minor": 0
      },
      "text/plain": [
       "sci_respone:   0%|          | 0/4 [00:00<?, ?tasks/s]"
      ]
     },
     "metadata": {},
     "output_type": "display_data"
    },
    {
     "data": {
      "application/vnd.jupyter.widget-view+json": {
       "model_id": "c61834308d114033baf8cd87d714541a",
       "version_major": 2,
       "version_minor": 0
      },
      "text/plain": [
       "sci_respone:   0%|          | 0/4 [00:00<?, ?tasks/s]"
      ]
     },
     "metadata": {},
     "output_type": "display_data"
    },
    {
     "data": {
      "application/vnd.jupyter.widget-view+json": {
       "model_id": "b93de69163c94860994e462b8fc73112",
       "version_major": 2,
       "version_minor": 0
      },
      "text/plain": [
       "sci_respone:   0%|          | 0/4 [00:00<?, ?tasks/s]"
      ]
     },
     "metadata": {},
     "output_type": "display_data"
    },
    {
     "data": {
      "application/vnd.jupyter.widget-view+json": {
       "model_id": "299ba549e9cb49f99915ab07b8085a61",
       "version_major": 2,
       "version_minor": 0
      },
      "text/plain": [
       "sci_respone:   0%|          | 0/4 [00:00<?, ?tasks/s]"
      ]
     },
     "metadata": {},
     "output_type": "display_data"
    },
    {
     "data": {
      "application/vnd.jupyter.widget-view+json": {
       "model_id": "c4ddba6a6e964f5ab39311ca7320a502",
       "version_major": 2,
       "version_minor": 0
      },
      "text/plain": [
       "sci_respone:   0%|          | 0/4 [00:00<?, ?tasks/s]"
      ]
     },
     "metadata": {},
     "output_type": "display_data"
    },
    {
     "data": {
      "application/vnd.jupyter.widget-view+json": {
       "model_id": "326fc0c836e944f2aa12b3ed764f7c47",
       "version_major": 2,
       "version_minor": 0
      },
      "text/plain": [
       "sci_respone:   0%|          | 0/4 [00:00<?, ?tasks/s]"
      ]
     },
     "metadata": {},
     "output_type": "display_data"
    },
    {
     "data": {
      "application/vnd.jupyter.widget-view+json": {
       "model_id": "8ddc901e50ad443ca31b96e1fc6761f5",
       "version_major": 2,
       "version_minor": 0
      },
      "text/plain": [
       "sci_respone:   0%|          | 0/4 [00:00<?, ?tasks/s]"
      ]
     },
     "metadata": {},
     "output_type": "display_data"
    },
    {
     "data": {
      "application/vnd.jupyter.widget-view+json": {
       "model_id": "bd9919224e884c0887017d5138a5f42c",
       "version_major": 2,
       "version_minor": 0
      },
      "text/plain": [
       "sci_respone:   0%|          | 0/4 [00:00<?, ?tasks/s]"
      ]
     },
     "metadata": {},
     "output_type": "display_data"
    },
    {
     "data": {
      "application/vnd.jupyter.widget-view+json": {
       "model_id": "bbe967ddaca34d48a5bf1e38d60b2109",
       "version_major": 2,
       "version_minor": 0
      },
      "text/plain": [
       "sci_respone:   0%|          | 0/4 [00:00<?, ?tasks/s]"
      ]
     },
     "metadata": {},
     "output_type": "display_data"
    },
    {
     "data": {
      "application/vnd.jupyter.widget-view+json": {
       "model_id": "57915601db2444d3a88c68e203ec4f98",
       "version_major": 2,
       "version_minor": 0
      },
      "text/plain": [
       "sci_respone:   0%|          | 0/4 [00:00<?, ?tasks/s]"
      ]
     },
     "metadata": {},
     "output_type": "display_data"
    },
    {
     "data": {
      "application/vnd.jupyter.widget-view+json": {
       "model_id": "8bd6f3cd1e12401c827f6ffc2c28adc1",
       "version_major": 2,
       "version_minor": 0
      },
      "text/plain": [
       "sci_respone:   0%|          | 0/4 [00:00<?, ?tasks/s]"
      ]
     },
     "metadata": {},
     "output_type": "display_data"
    },
    {
     "data": {
      "application/vnd.jupyter.widget-view+json": {
       "model_id": "fdaf3df86fc9498dbe3a15d62a87acd4",
       "version_major": 2,
       "version_minor": 0
      },
      "text/plain": [
       "sci_respone:   0%|          | 0/4 [00:00<?, ?tasks/s]"
      ]
     },
     "metadata": {},
     "output_type": "display_data"
    },
    {
     "data": {
      "application/vnd.jupyter.widget-view+json": {
       "model_id": "e013d0737d0e4c36be14ef6c29ca9a90",
       "version_major": 2,
       "version_minor": 0
      },
      "text/plain": [
       "sci_respone:   0%|          | 0/4 [00:00<?, ?tasks/s]"
      ]
     },
     "metadata": {},
     "output_type": "display_data"
    },
    {
     "data": {
      "application/vnd.jupyter.widget-view+json": {
       "model_id": "c5e4151050874391b77d3d24a77fde0c",
       "version_major": 2,
       "version_minor": 0
      },
      "text/plain": [
       "sci_respone:   0%|          | 0/4 [00:00<?, ?tasks/s]"
      ]
     },
     "metadata": {},
     "output_type": "display_data"
    },
    {
     "data": {
      "application/vnd.jupyter.widget-view+json": {
       "model_id": "c78b4418e4c043d8a908cff18af22d27",
       "version_major": 2,
       "version_minor": 0
      },
      "text/plain": [
       "sci_respone:   0%|          | 0/4 [00:00<?, ?tasks/s]"
      ]
     },
     "metadata": {},
     "output_type": "display_data"
    },
    {
     "data": {
      "application/vnd.jupyter.widget-view+json": {
       "model_id": "425ced7a838c489599be9aa6b5a173ea",
       "version_major": 2,
       "version_minor": 0
      },
      "text/plain": [
       "<lambda>:   0%|          | 0/4 [00:00<?, ?tasks/s]"
      ]
     },
     "metadata": {},
     "output_type": "display_data"
    },
    {
     "data": {
      "application/vnd.jupyter.widget-view+json": {
       "model_id": "8cef3a9618094f04ae8aca7bf2fc76ec",
       "version_major": 2,
       "version_minor": 0
      },
      "text/plain": [
       "sci_respone:   0%|          | 0/4 [00:00<?, ?tasks/s]"
      ]
     },
     "metadata": {},
     "output_type": "display_data"
    },
    {
     "data": {
      "application/vnd.jupyter.widget-view+json": {
       "model_id": "e5a4a45310454279bab129081273a350",
       "version_major": 2,
       "version_minor": 0
      },
      "text/plain": [
       "sci_respone:   0%|          | 0/4 [00:00<?, ?tasks/s]"
      ]
     },
     "metadata": {},
     "output_type": "display_data"
    },
    {
     "data": {
      "application/vnd.jupyter.widget-view+json": {
       "model_id": "ee8c1731cbeb4804b05fcab05e2bc5e8",
       "version_major": 2,
       "version_minor": 0
      },
      "text/plain": [
       "sci_respone:   0%|          | 0/4 [00:00<?, ?tasks/s]"
      ]
     },
     "metadata": {},
     "output_type": "display_data"
    },
    {
     "data": {
      "application/vnd.jupyter.widget-view+json": {
       "model_id": "959ad58717b24af994ed8479940743fc",
       "version_major": 2,
       "version_minor": 0
      },
      "text/plain": [
       "sci_respone:   0%|          | 0/4 [00:00<?, ?tasks/s]"
      ]
     },
     "metadata": {},
     "output_type": "display_data"
    },
    {
     "data": {
      "application/vnd.jupyter.widget-view+json": {
       "model_id": "a1110916d2774eacb1fe7837e15b98ab",
       "version_major": 2,
       "version_minor": 0
      },
      "text/plain": [
       "sci_respone:   0%|          | 0/4 [00:00<?, ?tasks/s]"
      ]
     },
     "metadata": {},
     "output_type": "display_data"
    },
    {
     "data": {
      "application/vnd.jupyter.widget-view+json": {
       "model_id": "2d9c354d50654a2a9d6021f8a2bc295f",
       "version_major": 2,
       "version_minor": 0
      },
      "text/plain": [
       "sci_respone:   0%|          | 0/4 [00:00<?, ?tasks/s]"
      ]
     },
     "metadata": {},
     "output_type": "display_data"
    },
    {
     "data": {
      "application/vnd.jupyter.widget-view+json": {
       "model_id": "f67ada0d0036424aa929ee98117ea5c3",
       "version_major": 2,
       "version_minor": 0
      },
      "text/plain": [
       "sci_respone:   0%|          | 0/4 [00:00<?, ?tasks/s]"
      ]
     },
     "metadata": {},
     "output_type": "display_data"
    },
    {
     "data": {
      "application/vnd.jupyter.widget-view+json": {
       "model_id": "447c91fc98db4b62bc476f706b0d4913",
       "version_major": 2,
       "version_minor": 0
      },
      "text/plain": [
       "sci_respone:   0%|          | 0/4 [00:00<?, ?tasks/s]"
      ]
     },
     "metadata": {},
     "output_type": "display_data"
    },
    {
     "data": {
      "application/vnd.jupyter.widget-view+json": {
       "model_id": "51653c29c0f34588b591ad90fb6ad015",
       "version_major": 2,
       "version_minor": 0
      },
      "text/plain": [
       "sci_respone:   0%|          | 0/4 [00:00<?, ?tasks/s]"
      ]
     },
     "metadata": {},
     "output_type": "display_data"
    },
    {
     "data": {
      "application/vnd.jupyter.widget-view+json": {
       "model_id": "99a548cc068343258f23858c4e889b39",
       "version_major": 2,
       "version_minor": 0
      },
      "text/plain": [
       "sci_respone:   0%|          | 0/4 [00:00<?, ?tasks/s]"
      ]
     },
     "metadata": {},
     "output_type": "display_data"
    },
    {
     "data": {
      "application/vnd.jupyter.widget-view+json": {
       "model_id": "f8808c1739774042b0e2bc3fa9ecf11e",
       "version_major": 2,
       "version_minor": 0
      },
      "text/plain": [
       "sci_respone:   0%|          | 0/4 [00:00<?, ?tasks/s]"
      ]
     },
     "metadata": {},
     "output_type": "display_data"
    },
    {
     "data": {
      "application/vnd.jupyter.widget-view+json": {
       "model_id": "08a993eb1b95487e9b7ed8ff21e80f2d",
       "version_major": 2,
       "version_minor": 0
      },
      "text/plain": [
       "sci_respone:   0%|          | 0/4 [00:00<?, ?tasks/s]"
      ]
     },
     "metadata": {},
     "output_type": "display_data"
    },
    {
     "data": {
      "application/vnd.jupyter.widget-view+json": {
       "model_id": "3bdc2f21203346ffb1257992cb20faa3",
       "version_major": 2,
       "version_minor": 0
      },
      "text/plain": [
       "sci_respone:   0%|          | 0/4 [00:00<?, ?tasks/s]"
      ]
     },
     "metadata": {},
     "output_type": "display_data"
    },
    {
     "data": {
      "application/vnd.jupyter.widget-view+json": {
       "model_id": "83be107dd1174a0793de08fd19c77fd9",
       "version_major": 2,
       "version_minor": 0
      },
      "text/plain": [
       "sci_respone:   0%|          | 0/4 [00:00<?, ?tasks/s]"
      ]
     },
     "metadata": {},
     "output_type": "display_data"
    },
    {
     "data": {
      "application/vnd.jupyter.widget-view+json": {
       "model_id": "7288a5ac3a73466194b16ab34452cf36",
       "version_major": 2,
       "version_minor": 0
      },
      "text/plain": [
       "sci_respone:   0%|          | 0/4 [00:00<?, ?tasks/s]"
      ]
     },
     "metadata": {},
     "output_type": "display_data"
    },
    {
     "data": {
      "application/vnd.jupyter.widget-view+json": {
       "model_id": "86c38138fe2d47b9803cba473a438c44",
       "version_major": 2,
       "version_minor": 0
      },
      "text/plain": [
       "sci_respone:   0%|          | 0/4 [00:00<?, ?tasks/s]"
      ]
     },
     "metadata": {},
     "output_type": "display_data"
    },
    {
     "data": {
      "application/vnd.jupyter.widget-view+json": {
       "model_id": "4e52a0dfd730451d87720d3ab43efdc4",
       "version_major": 2,
       "version_minor": 0
      },
      "text/plain": [
       "sci_respone:   0%|          | 0/4 [00:00<?, ?tasks/s]"
      ]
     },
     "metadata": {},
     "output_type": "display_data"
    },
    {
     "data": {
      "application/vnd.jupyter.widget-view+json": {
       "model_id": "f1916dfadc124c49bbff848c5855cc1c",
       "version_major": 2,
       "version_minor": 0
      },
      "text/plain": [
       "sci_respone:   0%|          | 0/4 [00:00<?, ?tasks/s]"
      ]
     },
     "metadata": {},
     "output_type": "display_data"
    },
    {
     "data": {
      "application/vnd.jupyter.widget-view+json": {
       "model_id": "163f275d69b0406b92a6fbe5f0db92c0",
       "version_major": 2,
       "version_minor": 0
      },
      "text/plain": [
       "sci_respone:   0%|          | 0/4 [00:00<?, ?tasks/s]"
      ]
     },
     "metadata": {},
     "output_type": "display_data"
    },
    {
     "data": {
      "application/vnd.jupyter.widget-view+json": {
       "model_id": "d7d83cdf9d7a4ac9b50f1da0a31564b2",
       "version_major": 2,
       "version_minor": 0
      },
      "text/plain": [
       "sci_respone:   0%|          | 0/4 [00:00<?, ?tasks/s]"
      ]
     },
     "metadata": {},
     "output_type": "display_data"
    },
    {
     "data": {
      "application/vnd.jupyter.widget-view+json": {
       "model_id": "933a5bc451f1476b93ea3c54c59de994",
       "version_major": 2,
       "version_minor": 0
      },
      "text/plain": [
       "sci_respone:   0%|          | 0/4 [00:00<?, ?tasks/s]"
      ]
     },
     "metadata": {},
     "output_type": "display_data"
    },
    {
     "data": {
      "application/vnd.jupyter.widget-view+json": {
       "model_id": "9c4ab5fcd8c54c8688fd1638628d14a0",
       "version_major": 2,
       "version_minor": 0
      },
      "text/plain": [
       "sci_respone:   0%|          | 0/4 [00:00<?, ?tasks/s]"
      ]
     },
     "metadata": {},
     "output_type": "display_data"
    },
    {
     "data": {
      "application/vnd.jupyter.widget-view+json": {
       "model_id": "e68b5baf68294352868bdbb25f0754b1",
       "version_major": 2,
       "version_minor": 0
      },
      "text/plain": [
       "sci_respone:   0%|          | 0/4 [00:00<?, ?tasks/s]"
      ]
     },
     "metadata": {},
     "output_type": "display_data"
    },
    {
     "data": {
      "application/vnd.jupyter.widget-view+json": {
       "model_id": "b40c6ab2cdea4b1387ac45319fe067f9",
       "version_major": 2,
       "version_minor": 0
      },
      "text/plain": [
       "sci_respone:   0%|          | 0/4 [00:00<?, ?tasks/s]"
      ]
     },
     "metadata": {},
     "output_type": "display_data"
    },
    {
     "data": {
      "application/vnd.jupyter.widget-view+json": {
       "model_id": "68b11880205b42b4b113bb6b53efe52d",
       "version_major": 2,
       "version_minor": 0
      },
      "text/plain": [
       "sci_respone:   0%|          | 0/4 [00:00<?, ?tasks/s]"
      ]
     },
     "metadata": {},
     "output_type": "display_data"
    },
    {
     "data": {
      "application/vnd.jupyter.widget-view+json": {
       "model_id": "d37533c056c44a3dba3d901087a5fa21",
       "version_major": 2,
       "version_minor": 0
      },
      "text/plain": [
       "sci_respone:   0%|          | 0/4 [00:00<?, ?tasks/s]"
      ]
     },
     "metadata": {},
     "output_type": "display_data"
    },
    {
     "data": {
      "application/vnd.jupyter.widget-view+json": {
       "model_id": "18db086d5a2748ac964e35de66705f3e",
       "version_major": 2,
       "version_minor": 0
      },
      "text/plain": [
       "sci_respone:   0%|          | 0/4 [00:00<?, ?tasks/s]"
      ]
     },
     "metadata": {},
     "output_type": "display_data"
    },
    {
     "data": {
      "application/vnd.jupyter.widget-view+json": {
       "model_id": "ea65c4ea55ed4180a1276b75ea1d03d8",
       "version_major": 2,
       "version_minor": 0
      },
      "text/plain": [
       "sci_respone:   0%|          | 0/4 [00:00<?, ?tasks/s]"
      ]
     },
     "metadata": {},
     "output_type": "display_data"
    },
    {
     "data": {
      "application/vnd.jupyter.widget-view+json": {
       "model_id": "4d812770721445cd8ff4cf75ef88c605",
       "version_major": 2,
       "version_minor": 0
      },
      "text/plain": [
       "sci_respone:   0%|          | 0/4 [00:00<?, ?tasks/s]"
      ]
     },
     "metadata": {},
     "output_type": "display_data"
    },
    {
     "data": {
      "application/vnd.jupyter.widget-view+json": {
       "model_id": "38b45b9b496b482cbb82eccce1a6983e",
       "version_major": 2,
       "version_minor": 0
      },
      "text/plain": [
       "sci_respone:   0%|          | 0/4 [00:00<?, ?tasks/s]"
      ]
     },
     "metadata": {},
     "output_type": "display_data"
    },
    {
     "data": {
      "application/vnd.jupyter.widget-view+json": {
       "model_id": "7f7a5cf115464eafa8b753dbb9b2fce7",
       "version_major": 2,
       "version_minor": 0
      },
      "text/plain": [
       "<lambda>:   0%|          | 0/4 [00:00<?, ?tasks/s]"
      ]
     },
     "metadata": {},
     "output_type": "display_data"
    },
    {
     "data": {
      "application/vnd.jupyter.widget-view+json": {
       "model_id": "5bdec4130f494371b949e5bc247b5496",
       "version_major": 2,
       "version_minor": 0
      },
      "text/plain": [
       "sci_respone:   0%|          | 0/4 [00:00<?, ?tasks/s]"
      ]
     },
     "metadata": {},
     "output_type": "display_data"
    },
    {
     "data": {
      "application/vnd.jupyter.widget-view+json": {
       "model_id": "8564c4f8b25c4480b2fa84089060e1c4",
       "version_major": 2,
       "version_minor": 0
      },
      "text/plain": [
       "sci_respone:   0%|          | 0/4 [00:00<?, ?tasks/s]"
      ]
     },
     "metadata": {},
     "output_type": "display_data"
    },
    {
     "data": {
      "application/vnd.jupyter.widget-view+json": {
       "model_id": "c64c35395066429896d1ae4b73b58a95",
       "version_major": 2,
       "version_minor": 0
      },
      "text/plain": [
       "sci_respone:   0%|          | 0/4 [00:00<?, ?tasks/s]"
      ]
     },
     "metadata": {},
     "output_type": "display_data"
    },
    {
     "data": {
      "application/vnd.jupyter.widget-view+json": {
       "model_id": "d129c5d3d6a54424bf8a1aa3fbe5fb30",
       "version_major": 2,
       "version_minor": 0
      },
      "text/plain": [
       "sci_respone:   0%|          | 0/4 [00:00<?, ?tasks/s]"
      ]
     },
     "metadata": {},
     "output_type": "display_data"
    },
    {
     "data": {
      "application/vnd.jupyter.widget-view+json": {
       "model_id": "c370a6e029b246f0a7b462d063cc1d5e",
       "version_major": 2,
       "version_minor": 0
      },
      "text/plain": [
       "sci_respone:   0%|          | 0/4 [00:00<?, ?tasks/s]"
      ]
     },
     "metadata": {},
     "output_type": "display_data"
    },
    {
     "data": {
      "application/vnd.jupyter.widget-view+json": {
       "model_id": "91c8946b00414b89b652c89bfc56ed8a",
       "version_major": 2,
       "version_minor": 0
      },
      "text/plain": [
       "sci_respone:   0%|          | 0/4 [00:00<?, ?tasks/s]"
      ]
     },
     "metadata": {},
     "output_type": "display_data"
    },
    {
     "data": {
      "application/vnd.jupyter.widget-view+json": {
       "model_id": "32ae5f3d646b4415b929e5582137e4be",
       "version_major": 2,
       "version_minor": 0
      },
      "text/plain": [
       "sci_respone:   0%|          | 0/4 [00:00<?, ?tasks/s]"
      ]
     },
     "metadata": {},
     "output_type": "display_data"
    },
    {
     "data": {
      "application/vnd.jupyter.widget-view+json": {
       "model_id": "712fc7f5475c40d28a891bcf84b1269c",
       "version_major": 2,
       "version_minor": 0
      },
      "text/plain": [
       "sci_respone:   0%|          | 0/4 [00:00<?, ?tasks/s]"
      ]
     },
     "metadata": {},
     "output_type": "display_data"
    },
    {
     "data": {
      "application/vnd.jupyter.widget-view+json": {
       "model_id": "7dd002139f8f4b65aae1dd3ec7de5977",
       "version_major": 2,
       "version_minor": 0
      },
      "text/plain": [
       "sci_respone:   0%|          | 0/4 [00:00<?, ?tasks/s]"
      ]
     },
     "metadata": {},
     "output_type": "display_data"
    },
    {
     "data": {
      "application/vnd.jupyter.widget-view+json": {
       "model_id": "045dd54f9be94794bf30291bd10165d0",
       "version_major": 2,
       "version_minor": 0
      },
      "text/plain": [
       "sci_respone:   0%|          | 0/4 [00:00<?, ?tasks/s]"
      ]
     },
     "metadata": {},
     "output_type": "display_data"
    },
    {
     "data": {
      "application/vnd.jupyter.widget-view+json": {
       "model_id": "3c24509ba48b4039bdc1c82863bb59b0",
       "version_major": 2,
       "version_minor": 0
      },
      "text/plain": [
       "sci_respone:   0%|          | 0/4 [00:00<?, ?tasks/s]"
      ]
     },
     "metadata": {},
     "output_type": "display_data"
    },
    {
     "data": {
      "application/vnd.jupyter.widget-view+json": {
       "model_id": "c2ddd0c8d94b479f8db01b3dc2eeaa87",
       "version_major": 2,
       "version_minor": 0
      },
      "text/plain": [
       "sci_respone:   0%|          | 0/4 [00:00<?, ?tasks/s]"
      ]
     },
     "metadata": {},
     "output_type": "display_data"
    },
    {
     "data": {
      "application/vnd.jupyter.widget-view+json": {
       "model_id": "daf27718f72e4ff9a9368ee4149831f3",
       "version_major": 2,
       "version_minor": 0
      },
      "text/plain": [
       "sci_respone:   0%|          | 0/4 [00:00<?, ?tasks/s]"
      ]
     },
     "metadata": {},
     "output_type": "display_data"
    },
    {
     "data": {
      "application/vnd.jupyter.widget-view+json": {
       "model_id": "07c83d7ad90f46298664ee81dc9d591f",
       "version_major": 2,
       "version_minor": 0
      },
      "text/plain": [
       "sci_respone:   0%|          | 0/4 [00:00<?, ?tasks/s]"
      ]
     },
     "metadata": {},
     "output_type": "display_data"
    },
    {
     "data": {
      "application/vnd.jupyter.widget-view+json": {
       "model_id": "5d1771642c1f45c091a793282f4a45ef",
       "version_major": 2,
       "version_minor": 0
      },
      "text/plain": [
       "sci_respone:   0%|          | 0/4 [00:00<?, ?tasks/s]"
      ]
     },
     "metadata": {},
     "output_type": "display_data"
    },
    {
     "data": {
      "application/vnd.jupyter.widget-view+json": {
       "model_id": "93c78dc4a1b44edf832aa15c432706f2",
       "version_major": 2,
       "version_minor": 0
      },
      "text/plain": [
       "sci_respone:   0%|          | 0/4 [00:00<?, ?tasks/s]"
      ]
     },
     "metadata": {},
     "output_type": "display_data"
    },
    {
     "data": {
      "application/vnd.jupyter.widget-view+json": {
       "model_id": "1921ebdc46694281bea24983b541fa91",
       "version_major": 2,
       "version_minor": 0
      },
      "text/plain": [
       "sci_respone:   0%|          | 0/4 [00:00<?, ?tasks/s]"
      ]
     },
     "metadata": {},
     "output_type": "display_data"
    },
    {
     "data": {
      "application/vnd.jupyter.widget-view+json": {
       "model_id": "117f7957407c4d54b6f8be22097aa6d6",
       "version_major": 2,
       "version_minor": 0
      },
      "text/plain": [
       "sci_respone:   0%|          | 0/4 [00:00<?, ?tasks/s]"
      ]
     },
     "metadata": {},
     "output_type": "display_data"
    },
    {
     "data": {
      "application/vnd.jupyter.widget-view+json": {
       "model_id": "6767b7067e0f4d66896b6039b7265ed3",
       "version_major": 2,
       "version_minor": 0
      },
      "text/plain": [
       "sci_respone:   0%|          | 0/4 [00:00<?, ?tasks/s]"
      ]
     },
     "metadata": {},
     "output_type": "display_data"
    },
    {
     "data": {
      "application/vnd.jupyter.widget-view+json": {
       "model_id": "bda6e92706a344f293c87e590c4229a9",
       "version_major": 2,
       "version_minor": 0
      },
      "text/plain": [
       "sci_respone:   0%|          | 0/4 [00:00<?, ?tasks/s]"
      ]
     },
     "metadata": {},
     "output_type": "display_data"
    },
    {
     "data": {
      "application/vnd.jupyter.widget-view+json": {
       "model_id": "619bbe0843a440fea62b0ae01a5e088e",
       "version_major": 2,
       "version_minor": 0
      },
      "text/plain": [
       "sci_respone:   0%|          | 0/4 [00:00<?, ?tasks/s]"
      ]
     },
     "metadata": {},
     "output_type": "display_data"
    },
    {
     "data": {
      "application/vnd.jupyter.widget-view+json": {
       "model_id": "8df9efad729a456ebf5a8b7ba6662951",
       "version_major": 2,
       "version_minor": 0
      },
      "text/plain": [
       "sci_respone:   0%|          | 0/4 [00:00<?, ?tasks/s]"
      ]
     },
     "metadata": {},
     "output_type": "display_data"
    },
    {
     "data": {
      "application/vnd.jupyter.widget-view+json": {
       "model_id": "2bb658c3bcf94d0387e30f091086ff2c",
       "version_major": 2,
       "version_minor": 0
      },
      "text/plain": [
       "sci_respone:   0%|          | 0/4 [00:00<?, ?tasks/s]"
      ]
     },
     "metadata": {},
     "output_type": "display_data"
    },
    {
     "data": {
      "application/vnd.jupyter.widget-view+json": {
       "model_id": "699e9df722214eba97a93c0be5b726fe",
       "version_major": 2,
       "version_minor": 0
      },
      "text/plain": [
       "sci_respone:   0%|          | 0/4 [00:00<?, ?tasks/s]"
      ]
     },
     "metadata": {},
     "output_type": "display_data"
    },
    {
     "data": {
      "application/vnd.jupyter.widget-view+json": {
       "model_id": "4c933ec5d3104969aa7543af6cf47168",
       "version_major": 2,
       "version_minor": 0
      },
      "text/plain": [
       "sci_respone:   0%|          | 0/4 [00:00<?, ?tasks/s]"
      ]
     },
     "metadata": {},
     "output_type": "display_data"
    },
    {
     "data": {
      "application/vnd.jupyter.widget-view+json": {
       "model_id": "f9c7344801aa4f94801211eaaa40e1f2",
       "version_major": 2,
       "version_minor": 0
      },
      "text/plain": [
       "sci_respone:   0%|          | 0/4 [00:00<?, ?tasks/s]"
      ]
     },
     "metadata": {},
     "output_type": "display_data"
    },
    {
     "data": {
      "application/vnd.jupyter.widget-view+json": {
       "model_id": "0c41b3bf0a654b1e8b019330a8fdb64f",
       "version_major": 2,
       "version_minor": 0
      },
      "text/plain": [
       "sci_respone:   0%|          | 0/4 [00:00<?, ?tasks/s]"
      ]
     },
     "metadata": {},
     "output_type": "display_data"
    },
    {
     "data": {
      "application/vnd.jupyter.widget-view+json": {
       "model_id": "c5c9e0a9a26143b0ac9a6cbf5d6e8d44",
       "version_major": 2,
       "version_minor": 0
      },
      "text/plain": [
       "sci_respone:   0%|          | 0/4 [00:00<?, ?tasks/s]"
      ]
     },
     "metadata": {},
     "output_type": "display_data"
    },
    {
     "data": {
      "application/vnd.jupyter.widget-view+json": {
       "model_id": "384ed6f2cbf049b29f500e56e10a81de",
       "version_major": 2,
       "version_minor": 0
      },
      "text/plain": [
       "sci_respone:   0%|          | 0/4 [00:00<?, ?tasks/s]"
      ]
     },
     "metadata": {},
     "output_type": "display_data"
    },
    {
     "data": {
      "application/vnd.jupyter.widget-view+json": {
       "model_id": "380be87807524e828df856d98e4088be",
       "version_major": 2,
       "version_minor": 0
      },
      "text/plain": [
       "sci_respone:   0%|          | 0/4 [00:00<?, ?tasks/s]"
      ]
     },
     "metadata": {},
     "output_type": "display_data"
    },
    {
     "data": {
      "application/vnd.jupyter.widget-view+json": {
       "model_id": "b3c3a0331c9d426f8cf61b0e6ea8a5e1",
       "version_major": 2,
       "version_minor": 0
      },
      "text/plain": [
       "<lambda>:   0%|          | 0/4 [00:00<?, ?tasks/s]"
      ]
     },
     "metadata": {},
     "output_type": "display_data"
    },
    {
     "data": {
      "application/vnd.jupyter.widget-view+json": {
       "model_id": "f385ec5340934df9a6ce265c7bdbdd32",
       "version_major": 2,
       "version_minor": 0
      },
      "text/plain": [
       "sci_respone:   0%|          | 0/4 [00:00<?, ?tasks/s]"
      ]
     },
     "metadata": {},
     "output_type": "display_data"
    },
    {
     "data": {
      "application/vnd.jupyter.widget-view+json": {
       "model_id": "ec114d44d7f64226b4b696b7d754144f",
       "version_major": 2,
       "version_minor": 0
      },
      "text/plain": [
       "sci_respone:   0%|          | 0/4 [00:00<?, ?tasks/s]"
      ]
     },
     "metadata": {},
     "output_type": "display_data"
    },
    {
     "data": {
      "application/vnd.jupyter.widget-view+json": {
       "model_id": "087574af2a914f7a92692ca8e688a9f5",
       "version_major": 2,
       "version_minor": 0
      },
      "text/plain": [
       "sci_respone:   0%|          | 0/4 [00:00<?, ?tasks/s]"
      ]
     },
     "metadata": {},
     "output_type": "display_data"
    },
    {
     "data": {
      "application/vnd.jupyter.widget-view+json": {
       "model_id": "c1e513874dd7471680eab1ea8bd9984a",
       "version_major": 2,
       "version_minor": 0
      },
      "text/plain": [
       "sci_respone:   0%|          | 0/4 [00:00<?, ?tasks/s]"
      ]
     },
     "metadata": {},
     "output_type": "display_data"
    },
    {
     "data": {
      "application/vnd.jupyter.widget-view+json": {
       "model_id": "db9f37a0ac3043ba820c8b77bbb4b21e",
       "version_major": 2,
       "version_minor": 0
      },
      "text/plain": [
       "sci_respone:   0%|          | 0/4 [00:00<?, ?tasks/s]"
      ]
     },
     "metadata": {},
     "output_type": "display_data"
    },
    {
     "data": {
      "application/vnd.jupyter.widget-view+json": {
       "model_id": "61b90bf1908d441e9f4c88c60281b089",
       "version_major": 2,
       "version_minor": 0
      },
      "text/plain": [
       "sci_respone:   0%|          | 0/4 [00:00<?, ?tasks/s]"
      ]
     },
     "metadata": {},
     "output_type": "display_data"
    },
    {
     "data": {
      "application/vnd.jupyter.widget-view+json": {
       "model_id": "5e75f58541c44694b4d9aac74ae3898a",
       "version_major": 2,
       "version_minor": 0
      },
      "text/plain": [
       "sci_respone:   0%|          | 0/4 [00:00<?, ?tasks/s]"
      ]
     },
     "metadata": {},
     "output_type": "display_data"
    },
    {
     "data": {
      "application/vnd.jupyter.widget-view+json": {
       "model_id": "d819fcc35cc64adc92a30884c4c276b3",
       "version_major": 2,
       "version_minor": 0
      },
      "text/plain": [
       "sci_respone:   0%|          | 0/4 [00:00<?, ?tasks/s]"
      ]
     },
     "metadata": {},
     "output_type": "display_data"
    },
    {
     "data": {
      "application/vnd.jupyter.widget-view+json": {
       "model_id": "d0559a8fe1d4473c975c53d81934086d",
       "version_major": 2,
       "version_minor": 0
      },
      "text/plain": [
       "sci_respone:   0%|          | 0/4 [00:00<?, ?tasks/s]"
      ]
     },
     "metadata": {},
     "output_type": "display_data"
    },
    {
     "data": {
      "application/vnd.jupyter.widget-view+json": {
       "model_id": "d7c06466874a4defa101ee68a47f9b2c",
       "version_major": 2,
       "version_minor": 0
      },
      "text/plain": [
       "sci_respone:   0%|          | 0/4 [00:00<?, ?tasks/s]"
      ]
     },
     "metadata": {},
     "output_type": "display_data"
    },
    {
     "data": {
      "application/vnd.jupyter.widget-view+json": {
       "model_id": "a8774c251cbe4450b393f943a21c1547",
       "version_major": 2,
       "version_minor": 0
      },
      "text/plain": [
       "sci_respone:   0%|          | 0/4 [00:00<?, ?tasks/s]"
      ]
     },
     "metadata": {},
     "output_type": "display_data"
    },
    {
     "data": {
      "application/vnd.jupyter.widget-view+json": {
       "model_id": "fc690b8aecce4f53bcd00e8a43b585c5",
       "version_major": 2,
       "version_minor": 0
      },
      "text/plain": [
       "sci_respone:   0%|          | 0/4 [00:00<?, ?tasks/s]"
      ]
     },
     "metadata": {},
     "output_type": "display_data"
    },
    {
     "data": {
      "application/vnd.jupyter.widget-view+json": {
       "model_id": "bdff06993ac246cfbf68bdab1c741bcb",
       "version_major": 2,
       "version_minor": 0
      },
      "text/plain": [
       "sci_respone:   0%|          | 0/4 [00:00<?, ?tasks/s]"
      ]
     },
     "metadata": {},
     "output_type": "display_data"
    },
    {
     "data": {
      "application/vnd.jupyter.widget-view+json": {
       "model_id": "28a8e4023c0d46ffa92bb90618ca678d",
       "version_major": 2,
       "version_minor": 0
      },
      "text/plain": [
       "sci_respone:   0%|          | 0/4 [00:00<?, ?tasks/s]"
      ]
     },
     "metadata": {},
     "output_type": "display_data"
    },
    {
     "data": {
      "application/vnd.jupyter.widget-view+json": {
       "model_id": "f04d82633ef94995aeaaa6e1338af93e",
       "version_major": 2,
       "version_minor": 0
      },
      "text/plain": [
       "sci_respone:   0%|          | 0/4 [00:00<?, ?tasks/s]"
      ]
     },
     "metadata": {},
     "output_type": "display_data"
    },
    {
     "data": {
      "application/vnd.jupyter.widget-view+json": {
       "model_id": "e20ee37f3bca4a189c5c04cd7ef28805",
       "version_major": 2,
       "version_minor": 0
      },
      "text/plain": [
       "sci_respone:   0%|          | 0/4 [00:00<?, ?tasks/s]"
      ]
     },
     "metadata": {},
     "output_type": "display_data"
    },
    {
     "data": {
      "application/vnd.jupyter.widget-view+json": {
       "model_id": "a2cf0dcc56214e48aad84eebf6d3391e",
       "version_major": 2,
       "version_minor": 0
      },
      "text/plain": [
       "sci_respone:   0%|          | 0/4 [00:00<?, ?tasks/s]"
      ]
     },
     "metadata": {},
     "output_type": "display_data"
    },
    {
     "data": {
      "application/vnd.jupyter.widget-view+json": {
       "model_id": "6a42f1ddb2d44573a7fa9ba6d2929dea",
       "version_major": 2,
       "version_minor": 0
      },
      "text/plain": [
       "sci_respone:   0%|          | 0/4 [00:00<?, ?tasks/s]"
      ]
     },
     "metadata": {},
     "output_type": "display_data"
    },
    {
     "data": {
      "application/vnd.jupyter.widget-view+json": {
       "model_id": "16f4d79c3cdf4479bb1b12fc946e79bf",
       "version_major": 2,
       "version_minor": 0
      },
      "text/plain": [
       "sci_respone:   0%|          | 0/4 [00:00<?, ?tasks/s]"
      ]
     },
     "metadata": {},
     "output_type": "display_data"
    },
    {
     "data": {
      "application/vnd.jupyter.widget-view+json": {
       "model_id": "66a0857889224855913c652869490a34",
       "version_major": 2,
       "version_minor": 0
      },
      "text/plain": [
       "sci_respone:   0%|          | 0/4 [00:00<?, ?tasks/s]"
      ]
     },
     "metadata": {},
     "output_type": "display_data"
    },
    {
     "data": {
      "application/vnd.jupyter.widget-view+json": {
       "model_id": "cc393b9f1ec54cf7a259d993b2593584",
       "version_major": 2,
       "version_minor": 0
      },
      "text/plain": [
       "sci_respone:   0%|          | 0/4 [00:00<?, ?tasks/s]"
      ]
     },
     "metadata": {},
     "output_type": "display_data"
    },
    {
     "data": {
      "application/vnd.jupyter.widget-view+json": {
       "model_id": "eb43300f211045adaa816fd28944a21c",
       "version_major": 2,
       "version_minor": 0
      },
      "text/plain": [
       "sci_respone:   0%|          | 0/4 [00:00<?, ?tasks/s]"
      ]
     },
     "metadata": {},
     "output_type": "display_data"
    },
    {
     "data": {
      "application/vnd.jupyter.widget-view+json": {
       "model_id": "f82474bb5dc54a5c9fba8671a1afbed7",
       "version_major": 2,
       "version_minor": 0
      },
      "text/plain": [
       "sci_respone:   0%|          | 0/4 [00:00<?, ?tasks/s]"
      ]
     },
     "metadata": {},
     "output_type": "display_data"
    },
    {
     "data": {
      "application/vnd.jupyter.widget-view+json": {
       "model_id": "fd28779e8b3f4a309e070d389ce5bfc8",
       "version_major": 2,
       "version_minor": 0
      },
      "text/plain": [
       "sci_respone:   0%|          | 0/4 [00:00<?, ?tasks/s]"
      ]
     },
     "metadata": {},
     "output_type": "display_data"
    },
    {
     "data": {
      "application/vnd.jupyter.widget-view+json": {
       "model_id": "804b97063543493783a93da2b9d2b3e5",
       "version_major": 2,
       "version_minor": 0
      },
      "text/plain": [
       "sci_respone:   0%|          | 0/4 [00:00<?, ?tasks/s]"
      ]
     },
     "metadata": {},
     "output_type": "display_data"
    },
    {
     "data": {
      "application/vnd.jupyter.widget-view+json": {
       "model_id": "1c918a345ad54b1286641060905b2930",
       "version_major": 2,
       "version_minor": 0
      },
      "text/plain": [
       "sci_respone:   0%|          | 0/4 [00:00<?, ?tasks/s]"
      ]
     },
     "metadata": {},
     "output_type": "display_data"
    },
    {
     "data": {
      "application/vnd.jupyter.widget-view+json": {
       "model_id": "08d718643cdf4b769da0dd00f50f9379",
       "version_major": 2,
       "version_minor": 0
      },
      "text/plain": [
       "sci_respone:   0%|          | 0/4 [00:00<?, ?tasks/s]"
      ]
     },
     "metadata": {},
     "output_type": "display_data"
    },
    {
     "data": {
      "application/vnd.jupyter.widget-view+json": {
       "model_id": "7661712fc62846c99b6f7e4df61fbba2",
       "version_major": 2,
       "version_minor": 0
      },
      "text/plain": [
       "sci_respone:   0%|          | 0/4 [00:00<?, ?tasks/s]"
      ]
     },
     "metadata": {},
     "output_type": "display_data"
    },
    {
     "data": {
      "application/vnd.jupyter.widget-view+json": {
       "model_id": "d5f214c6b5ad4cf6a7778ff78a3e9b53",
       "version_major": 2,
       "version_minor": 0
      },
      "text/plain": [
       "sci_respone:   0%|          | 0/4 [00:00<?, ?tasks/s]"
      ]
     },
     "metadata": {},
     "output_type": "display_data"
    },
    {
     "data": {
      "application/vnd.jupyter.widget-view+json": {
       "model_id": "c6868d135d864449ae864ac741692fc5",
       "version_major": 2,
       "version_minor": 0
      },
      "text/plain": [
       "sci_respone:   0%|          | 0/4 [00:00<?, ?tasks/s]"
      ]
     },
     "metadata": {},
     "output_type": "display_data"
    },
    {
     "data": {
      "application/vnd.jupyter.widget-view+json": {
       "model_id": "474abdb572a041dd8cb524da363beffa",
       "version_major": 2,
       "version_minor": 0
      },
      "text/plain": [
       "<lambda>:   0%|          | 0/4 [00:00<?, ?tasks/s]"
      ]
     },
     "metadata": {},
     "output_type": "display_data"
    },
    {
     "data": {
      "application/vnd.jupyter.widget-view+json": {
       "model_id": "4522d660d2fd42589c7a1b858479dce5",
       "version_major": 2,
       "version_minor": 0
      },
      "text/plain": [
       "sci_respone:   0%|          | 0/4 [00:00<?, ?tasks/s]"
      ]
     },
     "metadata": {},
     "output_type": "display_data"
    },
    {
     "data": {
      "application/vnd.jupyter.widget-view+json": {
       "model_id": "239cac1818f943bea2641ba4de80420b",
       "version_major": 2,
       "version_minor": 0
      },
      "text/plain": [
       "sci_respone:   0%|          | 0/4 [00:00<?, ?tasks/s]"
      ]
     },
     "metadata": {},
     "output_type": "display_data"
    },
    {
     "data": {
      "application/vnd.jupyter.widget-view+json": {
       "model_id": "855a84bd5f2647ec88845b5b33e8ccb4",
       "version_major": 2,
       "version_minor": 0
      },
      "text/plain": [
       "sci_respone:   0%|          | 0/4 [00:00<?, ?tasks/s]"
      ]
     },
     "metadata": {},
     "output_type": "display_data"
    },
    {
     "data": {
      "application/vnd.jupyter.widget-view+json": {
       "model_id": "34d25cca016341d78257736e811eef04",
       "version_major": 2,
       "version_minor": 0
      },
      "text/plain": [
       "sci_respone:   0%|          | 0/4 [00:00<?, ?tasks/s]"
      ]
     },
     "metadata": {},
     "output_type": "display_data"
    },
    {
     "data": {
      "application/vnd.jupyter.widget-view+json": {
       "model_id": "35a253fc2f104a0ab05aa0d76b3860ae",
       "version_major": 2,
       "version_minor": 0
      },
      "text/plain": [
       "sci_respone:   0%|          | 0/4 [00:00<?, ?tasks/s]"
      ]
     },
     "metadata": {},
     "output_type": "display_data"
    },
    {
     "data": {
      "application/vnd.jupyter.widget-view+json": {
       "model_id": "55d9402d407f462b872946d1ca63f3b4",
       "version_major": 2,
       "version_minor": 0
      },
      "text/plain": [
       "sci_respone:   0%|          | 0/4 [00:00<?, ?tasks/s]"
      ]
     },
     "metadata": {},
     "output_type": "display_data"
    },
    {
     "data": {
      "application/vnd.jupyter.widget-view+json": {
       "model_id": "1627eefb9f5641babc50ce5a02c121c0",
       "version_major": 2,
       "version_minor": 0
      },
      "text/plain": [
       "sci_respone:   0%|          | 0/4 [00:00<?, ?tasks/s]"
      ]
     },
     "metadata": {},
     "output_type": "display_data"
    },
    {
     "data": {
      "application/vnd.jupyter.widget-view+json": {
       "model_id": "1b61845dfb744038aa95d37339a3919e",
       "version_major": 2,
       "version_minor": 0
      },
      "text/plain": [
       "sci_respone:   0%|          | 0/4 [00:00<?, ?tasks/s]"
      ]
     },
     "metadata": {},
     "output_type": "display_data"
    },
    {
     "data": {
      "application/vnd.jupyter.widget-view+json": {
       "model_id": "a3fa2f924e7b4acbbc13f1a9eb7c7b53",
       "version_major": 2,
       "version_minor": 0
      },
      "text/plain": [
       "sci_respone:   0%|          | 0/4 [00:00<?, ?tasks/s]"
      ]
     },
     "metadata": {},
     "output_type": "display_data"
    },
    {
     "data": {
      "application/vnd.jupyter.widget-view+json": {
       "model_id": "ae53bdc7e4b24195b75e70bbb5c83e9e",
       "version_major": 2,
       "version_minor": 0
      },
      "text/plain": [
       "sci_respone:   0%|          | 0/4 [00:00<?, ?tasks/s]"
      ]
     },
     "metadata": {},
     "output_type": "display_data"
    },
    {
     "data": {
      "application/vnd.jupyter.widget-view+json": {
       "model_id": "21f71f24ca1a4f33a485071d102778e3",
       "version_major": 2,
       "version_minor": 0
      },
      "text/plain": [
       "sci_respone:   0%|          | 0/4 [00:00<?, ?tasks/s]"
      ]
     },
     "metadata": {},
     "output_type": "display_data"
    },
    {
     "data": {
      "application/vnd.jupyter.widget-view+json": {
       "model_id": "e481f9dc412249f9a65468a2845af6f0",
       "version_major": 2,
       "version_minor": 0
      },
      "text/plain": [
       "sci_respone:   0%|          | 0/4 [00:00<?, ?tasks/s]"
      ]
     },
     "metadata": {},
     "output_type": "display_data"
    },
    {
     "data": {
      "application/vnd.jupyter.widget-view+json": {
       "model_id": "941d8d56462e4b3cb7845c7b0d801b63",
       "version_major": 2,
       "version_minor": 0
      },
      "text/plain": [
       "sci_respone:   0%|          | 0/4 [00:00<?, ?tasks/s]"
      ]
     },
     "metadata": {},
     "output_type": "display_data"
    },
    {
     "data": {
      "application/vnd.jupyter.widget-view+json": {
       "model_id": "80256c88375648dbbe5cfced7d262d99",
       "version_major": 2,
       "version_minor": 0
      },
      "text/plain": [
       "sci_respone:   0%|          | 0/4 [00:00<?, ?tasks/s]"
      ]
     },
     "metadata": {},
     "output_type": "display_data"
    },
    {
     "data": {
      "application/vnd.jupyter.widget-view+json": {
       "model_id": "53fa2f2858b44c319d914ef856f421d1",
       "version_major": 2,
       "version_minor": 0
      },
      "text/plain": [
       "sci_respone:   0%|          | 0/4 [00:00<?, ?tasks/s]"
      ]
     },
     "metadata": {},
     "output_type": "display_data"
    },
    {
     "data": {
      "application/vnd.jupyter.widget-view+json": {
       "model_id": "c20671b0de9a4a72957dec2f606422f0",
       "version_major": 2,
       "version_minor": 0
      },
      "text/plain": [
       "sci_respone:   0%|          | 0/4 [00:00<?, ?tasks/s]"
      ]
     },
     "metadata": {},
     "output_type": "display_data"
    },
    {
     "data": {
      "application/vnd.jupyter.widget-view+json": {
       "model_id": "87f363f12d3b4de59e0ac635178e5268",
       "version_major": 2,
       "version_minor": 0
      },
      "text/plain": [
       "sci_respone:   0%|          | 0/4 [00:00<?, ?tasks/s]"
      ]
     },
     "metadata": {},
     "output_type": "display_data"
    },
    {
     "data": {
      "application/vnd.jupyter.widget-view+json": {
       "model_id": "7dc90fb78cc542898f4b7f4f542d90dd",
       "version_major": 2,
       "version_minor": 0
      },
      "text/plain": [
       "sci_respone:   0%|          | 0/4 [00:00<?, ?tasks/s]"
      ]
     },
     "metadata": {},
     "output_type": "display_data"
    },
    {
     "data": {
      "application/vnd.jupyter.widget-view+json": {
       "model_id": "55183f05449346deb799dbbb9a733651",
       "version_major": 2,
       "version_minor": 0
      },
      "text/plain": [
       "sci_respone:   0%|          | 0/4 [00:00<?, ?tasks/s]"
      ]
     },
     "metadata": {},
     "output_type": "display_data"
    },
    {
     "data": {
      "application/vnd.jupyter.widget-view+json": {
       "model_id": "3402f14ab1774920a7ea6c202ac0f96f",
       "version_major": 2,
       "version_minor": 0
      },
      "text/plain": [
       "sci_respone:   0%|          | 0/4 [00:00<?, ?tasks/s]"
      ]
     },
     "metadata": {},
     "output_type": "display_data"
    },
    {
     "data": {
      "application/vnd.jupyter.widget-view+json": {
       "model_id": "0a071d98f0f645ff93ac26e3d8544c07",
       "version_major": 2,
       "version_minor": 0
      },
      "text/plain": [
       "sci_respone:   0%|          | 0/4 [00:00<?, ?tasks/s]"
      ]
     },
     "metadata": {},
     "output_type": "display_data"
    },
    {
     "data": {
      "application/vnd.jupyter.widget-view+json": {
       "model_id": "ba8da95485c74396aceaf32e5a81c69f",
       "version_major": 2,
       "version_minor": 0
      },
      "text/plain": [
       "sci_respone:   0%|          | 0/4 [00:00<?, ?tasks/s]"
      ]
     },
     "metadata": {},
     "output_type": "display_data"
    },
    {
     "data": {
      "application/vnd.jupyter.widget-view+json": {
       "model_id": "5aad96c7dcc94871972f5537c55db047",
       "version_major": 2,
       "version_minor": 0
      },
      "text/plain": [
       "sci_respone:   0%|          | 0/4 [00:00<?, ?tasks/s]"
      ]
     },
     "metadata": {},
     "output_type": "display_data"
    },
    {
     "data": {
      "application/vnd.jupyter.widget-view+json": {
       "model_id": "12da87078f1a4bc1854d44640d65a51a",
       "version_major": 2,
       "version_minor": 0
      },
      "text/plain": [
       "sci_respone:   0%|          | 0/4 [00:00<?, ?tasks/s]"
      ]
     },
     "metadata": {},
     "output_type": "display_data"
    },
    {
     "data": {
      "application/vnd.jupyter.widget-view+json": {
       "model_id": "f05fd29484b74a189d0eb122bfcc2ab5",
       "version_major": 2,
       "version_minor": 0
      },
      "text/plain": [
       "sci_respone:   0%|          | 0/4 [00:00<?, ?tasks/s]"
      ]
     },
     "metadata": {},
     "output_type": "display_data"
    },
    {
     "data": {
      "application/vnd.jupyter.widget-view+json": {
       "model_id": "b2236a2197f243ce96c01f4e85a69197",
       "version_major": 2,
       "version_minor": 0
      },
      "text/plain": [
       "sci_respone:   0%|          | 0/4 [00:00<?, ?tasks/s]"
      ]
     },
     "metadata": {},
     "output_type": "display_data"
    },
    {
     "data": {
      "application/vnd.jupyter.widget-view+json": {
       "model_id": "595dd9ecada745da94bb9f67752a2a5b",
       "version_major": 2,
       "version_minor": 0
      },
      "text/plain": [
       "sci_respone:   0%|          | 0/4 [00:00<?, ?tasks/s]"
      ]
     },
     "metadata": {},
     "output_type": "display_data"
    },
    {
     "data": {
      "application/vnd.jupyter.widget-view+json": {
       "model_id": "60bea2902f484057b248b15f4f688a64",
       "version_major": 2,
       "version_minor": 0
      },
      "text/plain": [
       "sci_respone:   0%|          | 0/4 [00:00<?, ?tasks/s]"
      ]
     },
     "metadata": {},
     "output_type": "display_data"
    },
    {
     "data": {
      "application/vnd.jupyter.widget-view+json": {
       "model_id": "ec0efbef3dff448eb104539a9be1bdd5",
       "version_major": 2,
       "version_minor": 0
      },
      "text/plain": [
       "sci_respone:   0%|          | 0/4 [00:00<?, ?tasks/s]"
      ]
     },
     "metadata": {},
     "output_type": "display_data"
    },
    {
     "data": {
      "application/vnd.jupyter.widget-view+json": {
       "model_id": "3120b3e4506d44f5bdb499f50127ae16",
       "version_major": 2,
       "version_minor": 0
      },
      "text/plain": [
       "sci_respone:   0%|          | 0/4 [00:00<?, ?tasks/s]"
      ]
     },
     "metadata": {},
     "output_type": "display_data"
    },
    {
     "data": {
      "application/vnd.jupyter.widget-view+json": {
       "model_id": "b206532be5e54d7a9a721b6495111b71",
       "version_major": 2,
       "version_minor": 0
      },
      "text/plain": [
       "<lambda>:   0%|          | 0/4 [00:00<?, ?tasks/s]"
      ]
     },
     "metadata": {},
     "output_type": "display_data"
    },
    {
     "data": {
      "application/vnd.jupyter.widget-view+json": {
       "model_id": "c0f2b33f598a427eaf335380965fb990",
       "version_major": 2,
       "version_minor": 0
      },
      "text/plain": [
       "sci_respone:   0%|          | 0/4 [00:00<?, ?tasks/s]"
      ]
     },
     "metadata": {},
     "output_type": "display_data"
    },
    {
     "data": {
      "application/vnd.jupyter.widget-view+json": {
       "model_id": "3cef0b8e64f045d1af27a6cfe2927fc8",
       "version_major": 2,
       "version_minor": 0
      },
      "text/plain": [
       "sci_respone:   0%|          | 0/4 [00:00<?, ?tasks/s]"
      ]
     },
     "metadata": {},
     "output_type": "display_data"
    },
    {
     "data": {
      "application/vnd.jupyter.widget-view+json": {
       "model_id": "3ae8131d2595419b89bb63b54e400f50",
       "version_major": 2,
       "version_minor": 0
      },
      "text/plain": [
       "sci_respone:   0%|          | 0/4 [00:00<?, ?tasks/s]"
      ]
     },
     "metadata": {},
     "output_type": "display_data"
    },
    {
     "data": {
      "application/vnd.jupyter.widget-view+json": {
       "model_id": "312dc2ff3ec44763a2f7098b18876f73",
       "version_major": 2,
       "version_minor": 0
      },
      "text/plain": [
       "sci_respone:   0%|          | 0/4 [00:00<?, ?tasks/s]"
      ]
     },
     "metadata": {},
     "output_type": "display_data"
    },
    {
     "data": {
      "application/vnd.jupyter.widget-view+json": {
       "model_id": "80f3071814344dfa91a2601f92e6e141",
       "version_major": 2,
       "version_minor": 0
      },
      "text/plain": [
       "sci_respone:   0%|          | 0/4 [00:00<?, ?tasks/s]"
      ]
     },
     "metadata": {},
     "output_type": "display_data"
    },
    {
     "data": {
      "application/vnd.jupyter.widget-view+json": {
       "model_id": "82b2606100394d3580ba80004641e763",
       "version_major": 2,
       "version_minor": 0
      },
      "text/plain": [
       "sci_respone:   0%|          | 0/4 [00:00<?, ?tasks/s]"
      ]
     },
     "metadata": {},
     "output_type": "display_data"
    },
    {
     "data": {
      "application/vnd.jupyter.widget-view+json": {
       "model_id": "4c92e79e872044fcb0e25b70ea81a19e",
       "version_major": 2,
       "version_minor": 0
      },
      "text/plain": [
       "sci_respone:   0%|          | 0/4 [00:00<?, ?tasks/s]"
      ]
     },
     "metadata": {},
     "output_type": "display_data"
    },
    {
     "data": {
      "application/vnd.jupyter.widget-view+json": {
       "model_id": "3dddb2c88b1a4ecd887c5ce5584a3c81",
       "version_major": 2,
       "version_minor": 0
      },
      "text/plain": [
       "sci_respone:   0%|          | 0/4 [00:00<?, ?tasks/s]"
      ]
     },
     "metadata": {},
     "output_type": "display_data"
    },
    {
     "data": {
      "application/vnd.jupyter.widget-view+json": {
       "model_id": "83c0322b32a64018a944079c59c5ac01",
       "version_major": 2,
       "version_minor": 0
      },
      "text/plain": [
       "sci_respone:   0%|          | 0/4 [00:00<?, ?tasks/s]"
      ]
     },
     "metadata": {},
     "output_type": "display_data"
    },
    {
     "data": {
      "application/vnd.jupyter.widget-view+json": {
       "model_id": "8f4d503e2b2a4db0aafb7a8a114331c0",
       "version_major": 2,
       "version_minor": 0
      },
      "text/plain": [
       "sci_respone:   0%|          | 0/4 [00:00<?, ?tasks/s]"
      ]
     },
     "metadata": {},
     "output_type": "display_data"
    },
    {
     "data": {
      "application/vnd.jupyter.widget-view+json": {
       "model_id": "ed38a88689964663acb89dab8ca991dd",
       "version_major": 2,
       "version_minor": 0
      },
      "text/plain": [
       "sci_respone:   0%|          | 0/4 [00:00<?, ?tasks/s]"
      ]
     },
     "metadata": {},
     "output_type": "display_data"
    },
    {
     "data": {
      "application/vnd.jupyter.widget-view+json": {
       "model_id": "a22c8804f6794920b575d2b65c30ec6f",
       "version_major": 2,
       "version_minor": 0
      },
      "text/plain": [
       "sci_respone:   0%|          | 0/4 [00:00<?, ?tasks/s]"
      ]
     },
     "metadata": {},
     "output_type": "display_data"
    },
    {
     "data": {
      "application/vnd.jupyter.widget-view+json": {
       "model_id": "2c4d59e52c504a6a845ea0e31d56605a",
       "version_major": 2,
       "version_minor": 0
      },
      "text/plain": [
       "sci_respone:   0%|          | 0/4 [00:00<?, ?tasks/s]"
      ]
     },
     "metadata": {},
     "output_type": "display_data"
    },
    {
     "data": {
      "application/vnd.jupyter.widget-view+json": {
       "model_id": "521c40b6e56d4537b839d6d30e4bfcc3",
       "version_major": 2,
       "version_minor": 0
      },
      "text/plain": [
       "sci_respone:   0%|          | 0/4 [00:00<?, ?tasks/s]"
      ]
     },
     "metadata": {},
     "output_type": "display_data"
    },
    {
     "data": {
      "application/vnd.jupyter.widget-view+json": {
       "model_id": "14b2cc6e654f444e87a546846cd57f89",
       "version_major": 2,
       "version_minor": 0
      },
      "text/plain": [
       "sci_respone:   0%|          | 0/4 [00:00<?, ?tasks/s]"
      ]
     },
     "metadata": {},
     "output_type": "display_data"
    },
    {
     "data": {
      "application/vnd.jupyter.widget-view+json": {
       "model_id": "aa4155236102416eb9bc5da5e1ba98cd",
       "version_major": 2,
       "version_minor": 0
      },
      "text/plain": [
       "sci_respone:   0%|          | 0/4 [00:00<?, ?tasks/s]"
      ]
     },
     "metadata": {},
     "output_type": "display_data"
    },
    {
     "data": {
      "application/vnd.jupyter.widget-view+json": {
       "model_id": "c307a5f7501d46e2aa39af407009d0f3",
       "version_major": 2,
       "version_minor": 0
      },
      "text/plain": [
       "sci_respone:   0%|          | 0/4 [00:00<?, ?tasks/s]"
      ]
     },
     "metadata": {},
     "output_type": "display_data"
    },
    {
     "data": {
      "application/vnd.jupyter.widget-view+json": {
       "model_id": "0e88bd37aa2e4deba0adb2cf5c77902b",
       "version_major": 2,
       "version_minor": 0
      },
      "text/plain": [
       "sci_respone:   0%|          | 0/4 [00:00<?, ?tasks/s]"
      ]
     },
     "metadata": {},
     "output_type": "display_data"
    },
    {
     "data": {
      "application/vnd.jupyter.widget-view+json": {
       "model_id": "980ba1c0f0ed4baebd7ccb0d3ed5d782",
       "version_major": 2,
       "version_minor": 0
      },
      "text/plain": [
       "sci_respone:   0%|          | 0/4 [00:00<?, ?tasks/s]"
      ]
     },
     "metadata": {},
     "output_type": "display_data"
    },
    {
     "data": {
      "application/vnd.jupyter.widget-view+json": {
       "model_id": "e9eb15264b4a469a9781db13b2a8a044",
       "version_major": 2,
       "version_minor": 0
      },
      "text/plain": [
       "sci_respone:   0%|          | 0/4 [00:00<?, ?tasks/s]"
      ]
     },
     "metadata": {},
     "output_type": "display_data"
    },
    {
     "data": {
      "application/vnd.jupyter.widget-view+json": {
       "model_id": "48a35fb3931849e2a3195beb1f81f947",
       "version_major": 2,
       "version_minor": 0
      },
      "text/plain": [
       "sci_respone:   0%|          | 0/4 [00:00<?, ?tasks/s]"
      ]
     },
     "metadata": {},
     "output_type": "display_data"
    },
    {
     "data": {
      "application/vnd.jupyter.widget-view+json": {
       "model_id": "dd58b8b2828b4940a2d7330cefb151e9",
       "version_major": 2,
       "version_minor": 0
      },
      "text/plain": [
       "sci_respone:   0%|          | 0/4 [00:00<?, ?tasks/s]"
      ]
     },
     "metadata": {},
     "output_type": "display_data"
    },
    {
     "data": {
      "application/vnd.jupyter.widget-view+json": {
       "model_id": "7d4081c625e94ce7acf3dc5ce16347ff",
       "version_major": 2,
       "version_minor": 0
      },
      "text/plain": [
       "sci_respone:   0%|          | 0/4 [00:00<?, ?tasks/s]"
      ]
     },
     "metadata": {},
     "output_type": "display_data"
    },
    {
     "data": {
      "application/vnd.jupyter.widget-view+json": {
       "model_id": "aa6b3ffa36e14cf794c02526711cdcec",
       "version_major": 2,
       "version_minor": 0
      },
      "text/plain": [
       "sci_respone:   0%|          | 0/4 [00:00<?, ?tasks/s]"
      ]
     },
     "metadata": {},
     "output_type": "display_data"
    },
    {
     "data": {
      "application/vnd.jupyter.widget-view+json": {
       "model_id": "2e7e1e6456a842f6aaa52b5761103c8c",
       "version_major": 2,
       "version_minor": 0
      },
      "text/plain": [
       "sci_respone:   0%|          | 0/4 [00:00<?, ?tasks/s]"
      ]
     },
     "metadata": {},
     "output_type": "display_data"
    },
    {
     "data": {
      "application/vnd.jupyter.widget-view+json": {
       "model_id": "cf2c2a020a934f1f8ed40e72d936703f",
       "version_major": 2,
       "version_minor": 0
      },
      "text/plain": [
       "sci_respone:   0%|          | 0/4 [00:00<?, ?tasks/s]"
      ]
     },
     "metadata": {},
     "output_type": "display_data"
    },
    {
     "data": {
      "application/vnd.jupyter.widget-view+json": {
       "model_id": "5b1a589e6ecf43e1ba78de2343bb9f0f",
       "version_major": 2,
       "version_minor": 0
      },
      "text/plain": [
       "sci_respone:   0%|          | 0/4 [00:00<?, ?tasks/s]"
      ]
     },
     "metadata": {},
     "output_type": "display_data"
    },
    {
     "data": {
      "application/vnd.jupyter.widget-view+json": {
       "model_id": "76d2ab09e242436fbf1c14cfc0578eec",
       "version_major": 2,
       "version_minor": 0
      },
      "text/plain": [
       "sci_respone:   0%|          | 0/4 [00:00<?, ?tasks/s]"
      ]
     },
     "metadata": {},
     "output_type": "display_data"
    },
    {
     "data": {
      "application/vnd.jupyter.widget-view+json": {
       "model_id": "abfba9b20ed24ee892fe1c917b500fc1",
       "version_major": 2,
       "version_minor": 0
      },
      "text/plain": [
       "sci_respone:   0%|          | 0/4 [00:00<?, ?tasks/s]"
      ]
     },
     "metadata": {},
     "output_type": "display_data"
    },
    {
     "data": {
      "application/vnd.jupyter.widget-view+json": {
       "model_id": "521b41a1a3c64103a60f73892d502df2",
       "version_major": 2,
       "version_minor": 0
      },
      "text/plain": [
       "sci_respone:   0%|          | 0/4 [00:00<?, ?tasks/s]"
      ]
     },
     "metadata": {},
     "output_type": "display_data"
    },
    {
     "data": {
      "application/vnd.jupyter.widget-view+json": {
       "model_id": "0691b3894b42480d818d48ab008139b5",
       "version_major": 2,
       "version_minor": 0
      },
      "text/plain": [
       "<lambda>:   0%|          | 0/4 [00:00<?, ?tasks/s]"
      ]
     },
     "metadata": {},
     "output_type": "display_data"
    },
    {
     "data": {
      "application/vnd.jupyter.widget-view+json": {
       "model_id": "132390759ca8435bbccbc2e9579e8170",
       "version_major": 2,
       "version_minor": 0
      },
      "text/plain": [
       "sci_respone:   0%|          | 0/4 [00:00<?, ?tasks/s]"
      ]
     },
     "metadata": {},
     "output_type": "display_data"
    },
    {
     "data": {
      "application/vnd.jupyter.widget-view+json": {
       "model_id": "4ffe3e48449a430088ba7d739b2f723f",
       "version_major": 2,
       "version_minor": 0
      },
      "text/plain": [
       "sci_respone:   0%|          | 0/4 [00:00<?, ?tasks/s]"
      ]
     },
     "metadata": {},
     "output_type": "display_data"
    },
    {
     "data": {
      "application/vnd.jupyter.widget-view+json": {
       "model_id": "d77b5da8bcaf46739361cdb56b882b0d",
       "version_major": 2,
       "version_minor": 0
      },
      "text/plain": [
       "sci_respone:   0%|          | 0/4 [00:00<?, ?tasks/s]"
      ]
     },
     "metadata": {},
     "output_type": "display_data"
    },
    {
     "data": {
      "application/vnd.jupyter.widget-view+json": {
       "model_id": "c7f89c29f57f4233bef6c122e60a69ec",
       "version_major": 2,
       "version_minor": 0
      },
      "text/plain": [
       "sci_respone:   0%|          | 0/4 [00:00<?, ?tasks/s]"
      ]
     },
     "metadata": {},
     "output_type": "display_data"
    },
    {
     "data": {
      "application/vnd.jupyter.widget-view+json": {
       "model_id": "90c10d6c5ecf439d9e93ecf44b076d02",
       "version_major": 2,
       "version_minor": 0
      },
      "text/plain": [
       "sci_respone:   0%|          | 0/4 [00:00<?, ?tasks/s]"
      ]
     },
     "metadata": {},
     "output_type": "display_data"
    },
    {
     "data": {
      "application/vnd.jupyter.widget-view+json": {
       "model_id": "e292bde776d645fe96d545f4cb57d181",
       "version_major": 2,
       "version_minor": 0
      },
      "text/plain": [
       "sci_respone:   0%|          | 0/4 [00:00<?, ?tasks/s]"
      ]
     },
     "metadata": {},
     "output_type": "display_data"
    },
    {
     "data": {
      "application/vnd.jupyter.widget-view+json": {
       "model_id": "860ee4e6a736466f97ecb090f230ab93",
       "version_major": 2,
       "version_minor": 0
      },
      "text/plain": [
       "sci_respone:   0%|          | 0/4 [00:00<?, ?tasks/s]"
      ]
     },
     "metadata": {},
     "output_type": "display_data"
    },
    {
     "data": {
      "application/vnd.jupyter.widget-view+json": {
       "model_id": "13c16ee50e0b455b96c0137a1cf17a4b",
       "version_major": 2,
       "version_minor": 0
      },
      "text/plain": [
       "sci_respone:   0%|          | 0/4 [00:00<?, ?tasks/s]"
      ]
     },
     "metadata": {},
     "output_type": "display_data"
    },
    {
     "data": {
      "application/vnd.jupyter.widget-view+json": {
       "model_id": "c58a921da7624d89aa5bc7e5cdd057d7",
       "version_major": 2,
       "version_minor": 0
      },
      "text/plain": [
       "sci_respone:   0%|          | 0/4 [00:00<?, ?tasks/s]"
      ]
     },
     "metadata": {},
     "output_type": "display_data"
    },
    {
     "data": {
      "application/vnd.jupyter.widget-view+json": {
       "model_id": "ccd2dfd5d2a84d47929a8fbd1ec27958",
       "version_major": 2,
       "version_minor": 0
      },
      "text/plain": [
       "sci_respone:   0%|          | 0/4 [00:00<?, ?tasks/s]"
      ]
     },
     "metadata": {},
     "output_type": "display_data"
    },
    {
     "data": {
      "application/vnd.jupyter.widget-view+json": {
       "model_id": "6afcc7957fca4cad9daf56204b03ea12",
       "version_major": 2,
       "version_minor": 0
      },
      "text/plain": [
       "sci_respone:   0%|          | 0/4 [00:00<?, ?tasks/s]"
      ]
     },
     "metadata": {},
     "output_type": "display_data"
    },
    {
     "data": {
      "application/vnd.jupyter.widget-view+json": {
       "model_id": "1240169bb56545f1a3bd0f993095193c",
       "version_major": 2,
       "version_minor": 0
      },
      "text/plain": [
       "sci_respone:   0%|          | 0/4 [00:00<?, ?tasks/s]"
      ]
     },
     "metadata": {},
     "output_type": "display_data"
    },
    {
     "data": {
      "application/vnd.jupyter.widget-view+json": {
       "model_id": "2c1245ec970148e9ba8a609f5b3d8285",
       "version_major": 2,
       "version_minor": 0
      },
      "text/plain": [
       "sci_respone:   0%|          | 0/4 [00:00<?, ?tasks/s]"
      ]
     },
     "metadata": {},
     "output_type": "display_data"
    },
    {
     "data": {
      "application/vnd.jupyter.widget-view+json": {
       "model_id": "f44634eacc94431797a02d9afc244e2b",
       "version_major": 2,
       "version_minor": 0
      },
      "text/plain": [
       "sci_respone:   0%|          | 0/4 [00:00<?, ?tasks/s]"
      ]
     },
     "metadata": {},
     "output_type": "display_data"
    },
    {
     "data": {
      "application/vnd.jupyter.widget-view+json": {
       "model_id": "835e7a34629740b0a6ac32ee4d60be45",
       "version_major": 2,
       "version_minor": 0
      },
      "text/plain": [
       "sci_respone:   0%|          | 0/4 [00:00<?, ?tasks/s]"
      ]
     },
     "metadata": {},
     "output_type": "display_data"
    },
    {
     "data": {
      "application/vnd.jupyter.widget-view+json": {
       "model_id": "284208cc3e4043a89d8b7364fb7633c3",
       "version_major": 2,
       "version_minor": 0
      },
      "text/plain": [
       "sci_respone:   0%|          | 0/4 [00:00<?, ?tasks/s]"
      ]
     },
     "metadata": {},
     "output_type": "display_data"
    },
    {
     "data": {
      "application/vnd.jupyter.widget-view+json": {
       "model_id": "602c6f2797af4df4ac8d6c0f9b0b5cbd",
       "version_major": 2,
       "version_minor": 0
      },
      "text/plain": [
       "sci_respone:   0%|          | 0/4 [00:00<?, ?tasks/s]"
      ]
     },
     "metadata": {},
     "output_type": "display_data"
    },
    {
     "data": {
      "application/vnd.jupyter.widget-view+json": {
       "model_id": "f8b0abde6fa14c99aee75bcbe3156eb5",
       "version_major": 2,
       "version_minor": 0
      },
      "text/plain": [
       "sci_respone:   0%|          | 0/4 [00:00<?, ?tasks/s]"
      ]
     },
     "metadata": {},
     "output_type": "display_data"
    },
    {
     "data": {
      "application/vnd.jupyter.widget-view+json": {
       "model_id": "02f93e8b71aa480b9ac2180230dae1c5",
       "version_major": 2,
       "version_minor": 0
      },
      "text/plain": [
       "sci_respone:   0%|          | 0/4 [00:00<?, ?tasks/s]"
      ]
     },
     "metadata": {},
     "output_type": "display_data"
    },
    {
     "data": {
      "application/vnd.jupyter.widget-view+json": {
       "model_id": "ee72b56f8aa04609a6da52f47c05a81a",
       "version_major": 2,
       "version_minor": 0
      },
      "text/plain": [
       "sci_respone:   0%|          | 0/4 [00:00<?, ?tasks/s]"
      ]
     },
     "metadata": {},
     "output_type": "display_data"
    },
    {
     "data": {
      "application/vnd.jupyter.widget-view+json": {
       "model_id": "34a7ed5891df4cd79092a2714d230178",
       "version_major": 2,
       "version_minor": 0
      },
      "text/plain": [
       "sci_respone:   0%|          | 0/4 [00:00<?, ?tasks/s]"
      ]
     },
     "metadata": {},
     "output_type": "display_data"
    },
    {
     "data": {
      "application/vnd.jupyter.widget-view+json": {
       "model_id": "ba1bf596cf9e4e9587e5ab4fb01e03c3",
       "version_major": 2,
       "version_minor": 0
      },
      "text/plain": [
       "sci_respone:   0%|          | 0/4 [00:00<?, ?tasks/s]"
      ]
     },
     "metadata": {},
     "output_type": "display_data"
    },
    {
     "data": {
      "application/vnd.jupyter.widget-view+json": {
       "model_id": "4a489bd255554a7784e34cdb4e977a4e",
       "version_major": 2,
       "version_minor": 0
      },
      "text/plain": [
       "sci_respone:   0%|          | 0/4 [00:00<?, ?tasks/s]"
      ]
     },
     "metadata": {},
     "output_type": "display_data"
    },
    {
     "data": {
      "application/vnd.jupyter.widget-view+json": {
       "model_id": "b99f998c69ac4bd2b7d11883defd5fce",
       "version_major": 2,
       "version_minor": 0
      },
      "text/plain": [
       "sci_respone:   0%|          | 0/4 [00:00<?, ?tasks/s]"
      ]
     },
     "metadata": {},
     "output_type": "display_data"
    },
    {
     "data": {
      "application/vnd.jupyter.widget-view+json": {
       "model_id": "8bbef266c8b54628bb79244880a1b825",
       "version_major": 2,
       "version_minor": 0
      },
      "text/plain": [
       "sci_respone:   0%|          | 0/4 [00:00<?, ?tasks/s]"
      ]
     },
     "metadata": {},
     "output_type": "display_data"
    },
    {
     "data": {
      "application/vnd.jupyter.widget-view+json": {
       "model_id": "1d6a2410c5784d0b949026fb3f2a168d",
       "version_major": 2,
       "version_minor": 0
      },
      "text/plain": [
       "sci_respone:   0%|          | 0/4 [00:00<?, ?tasks/s]"
      ]
     },
     "metadata": {},
     "output_type": "display_data"
    },
    {
     "data": {
      "application/vnd.jupyter.widget-view+json": {
       "model_id": "cd971f01c87a4100b3a605479aa0f2c4",
       "version_major": 2,
       "version_minor": 0
      },
      "text/plain": [
       "sci_respone:   0%|          | 0/4 [00:00<?, ?tasks/s]"
      ]
     },
     "metadata": {},
     "output_type": "display_data"
    },
    {
     "data": {
      "application/vnd.jupyter.widget-view+json": {
       "model_id": "8a57be6353f143bcb64d969bd4c2ec86",
       "version_major": 2,
       "version_minor": 0
      },
      "text/plain": [
       "sci_respone:   0%|          | 0/4 [00:00<?, ?tasks/s]"
      ]
     },
     "metadata": {},
     "output_type": "display_data"
    },
    {
     "data": {
      "application/vnd.jupyter.widget-view+json": {
       "model_id": "8c29fc3af4c747f2adf75a19f42df4fb",
       "version_major": 2,
       "version_minor": 0
      },
      "text/plain": [
       "sci_respone:   0%|          | 0/4 [00:00<?, ?tasks/s]"
      ]
     },
     "metadata": {},
     "output_type": "display_data"
    },
    {
     "data": {
      "application/vnd.jupyter.widget-view+json": {
       "model_id": "d5b1a06100cb48d8ba062ef871035d46",
       "version_major": 2,
       "version_minor": 0
      },
      "text/plain": [
       "sci_respone:   0%|          | 0/4 [00:00<?, ?tasks/s]"
      ]
     },
     "metadata": {},
     "output_type": "display_data"
    },
    {
     "data": {
      "application/vnd.jupyter.widget-view+json": {
       "model_id": "8263495fd636492386c2ccea2d0e0789",
       "version_major": 2,
       "version_minor": 0
      },
      "text/plain": [
       "<lambda>:   0%|          | 0/4 [00:00<?, ?tasks/s]"
      ]
     },
     "metadata": {},
     "output_type": "display_data"
    },
    {
     "data": {
      "application/vnd.jupyter.widget-view+json": {
       "model_id": "e9ce514458424a8f883bde0c0fe69f77",
       "version_major": 2,
       "version_minor": 0
      },
      "text/plain": [
       "sci_respone:   0%|          | 0/4 [00:00<?, ?tasks/s]"
      ]
     },
     "metadata": {},
     "output_type": "display_data"
    },
    {
     "data": {
      "application/vnd.jupyter.widget-view+json": {
       "model_id": "635a35da00d04084a116a24708ea776e",
       "version_major": 2,
       "version_minor": 0
      },
      "text/plain": [
       "sci_respone:   0%|          | 0/4 [00:00<?, ?tasks/s]"
      ]
     },
     "metadata": {},
     "output_type": "display_data"
    },
    {
     "data": {
      "application/vnd.jupyter.widget-view+json": {
       "model_id": "5e333093a3384726a780ba19741d6c05",
       "version_major": 2,
       "version_minor": 0
      },
      "text/plain": [
       "sci_respone:   0%|          | 0/4 [00:00<?, ?tasks/s]"
      ]
     },
     "metadata": {},
     "output_type": "display_data"
    },
    {
     "data": {
      "application/vnd.jupyter.widget-view+json": {
       "model_id": "2d58d447e1c441faa80494a485e0059b",
       "version_major": 2,
       "version_minor": 0
      },
      "text/plain": [
       "sci_respone:   0%|          | 0/4 [00:00<?, ?tasks/s]"
      ]
     },
     "metadata": {},
     "output_type": "display_data"
    },
    {
     "data": {
      "application/vnd.jupyter.widget-view+json": {
       "model_id": "12d7eadceabb4908b1a829fa4f234d55",
       "version_major": 2,
       "version_minor": 0
      },
      "text/plain": [
       "sci_respone:   0%|          | 0/4 [00:00<?, ?tasks/s]"
      ]
     },
     "metadata": {},
     "output_type": "display_data"
    },
    {
     "data": {
      "application/vnd.jupyter.widget-view+json": {
       "model_id": "6898d30400e146e48d452aa5d3fc4330",
       "version_major": 2,
       "version_minor": 0
      },
      "text/plain": [
       "sci_respone:   0%|          | 0/4 [00:00<?, ?tasks/s]"
      ]
     },
     "metadata": {},
     "output_type": "display_data"
    },
    {
     "data": {
      "application/vnd.jupyter.widget-view+json": {
       "model_id": "44d44cecc7274b9dbdd01dedbd51c747",
       "version_major": 2,
       "version_minor": 0
      },
      "text/plain": [
       "sci_respone:   0%|          | 0/4 [00:00<?, ?tasks/s]"
      ]
     },
     "metadata": {},
     "output_type": "display_data"
    },
    {
     "data": {
      "application/vnd.jupyter.widget-view+json": {
       "model_id": "a553fc6464574672afc5881125b49947",
       "version_major": 2,
       "version_minor": 0
      },
      "text/plain": [
       "sci_respone:   0%|          | 0/4 [00:00<?, ?tasks/s]"
      ]
     },
     "metadata": {},
     "output_type": "display_data"
    },
    {
     "data": {
      "application/vnd.jupyter.widget-view+json": {
       "model_id": "e6f27499734847d79a17e0f0db9e559e",
       "version_major": 2,
       "version_minor": 0
      },
      "text/plain": [
       "sci_respone:   0%|          | 0/4 [00:00<?, ?tasks/s]"
      ]
     },
     "metadata": {},
     "output_type": "display_data"
    },
    {
     "data": {
      "application/vnd.jupyter.widget-view+json": {
       "model_id": "e27fb0d9b00c4121b1ac792437fbb922",
       "version_major": 2,
       "version_minor": 0
      },
      "text/plain": [
       "sci_respone:   0%|          | 0/4 [00:00<?, ?tasks/s]"
      ]
     },
     "metadata": {},
     "output_type": "display_data"
    },
    {
     "data": {
      "application/vnd.jupyter.widget-view+json": {
       "model_id": "094b6aa5c5284d07b4562c38d76b5c98",
       "version_major": 2,
       "version_minor": 0
      },
      "text/plain": [
       "sci_respone:   0%|          | 0/4 [00:00<?, ?tasks/s]"
      ]
     },
     "metadata": {},
     "output_type": "display_data"
    },
    {
     "data": {
      "application/vnd.jupyter.widget-view+json": {
       "model_id": "d47849d0370642c0ad320adac7ecda3d",
       "version_major": 2,
       "version_minor": 0
      },
      "text/plain": [
       "sci_respone:   0%|          | 0/4 [00:00<?, ?tasks/s]"
      ]
     },
     "metadata": {},
     "output_type": "display_data"
    },
    {
     "data": {
      "application/vnd.jupyter.widget-view+json": {
       "model_id": "ffd297178e3f4e5e8041cea62be449e6",
       "version_major": 2,
       "version_minor": 0
      },
      "text/plain": [
       "sci_respone:   0%|          | 0/4 [00:00<?, ?tasks/s]"
      ]
     },
     "metadata": {},
     "output_type": "display_data"
    },
    {
     "data": {
      "application/vnd.jupyter.widget-view+json": {
       "model_id": "fd2c470b29a04a61aa17804c62534ec6",
       "version_major": 2,
       "version_minor": 0
      },
      "text/plain": [
       "sci_respone:   0%|          | 0/4 [00:00<?, ?tasks/s]"
      ]
     },
     "metadata": {},
     "output_type": "display_data"
    },
    {
     "data": {
      "application/vnd.jupyter.widget-view+json": {
       "model_id": "5bd8c375a3ce4aa9a0386a30444b23e2",
       "version_major": 2,
       "version_minor": 0
      },
      "text/plain": [
       "sci_respone:   0%|          | 0/4 [00:00<?, ?tasks/s]"
      ]
     },
     "metadata": {},
     "output_type": "display_data"
    },
    {
     "data": {
      "application/vnd.jupyter.widget-view+json": {
       "model_id": "d61164752d4944b09894a68477b04116",
       "version_major": 2,
       "version_minor": 0
      },
      "text/plain": [
       "sci_respone:   0%|          | 0/4 [00:00<?, ?tasks/s]"
      ]
     },
     "metadata": {},
     "output_type": "display_data"
    },
    {
     "data": {
      "application/vnd.jupyter.widget-view+json": {
       "model_id": "8a9fcf4df27f482e8b9072b1b0a99827",
       "version_major": 2,
       "version_minor": 0
      },
      "text/plain": [
       "sci_respone:   0%|          | 0/4 [00:00<?, ?tasks/s]"
      ]
     },
     "metadata": {},
     "output_type": "display_data"
    },
    {
     "data": {
      "application/vnd.jupyter.widget-view+json": {
       "model_id": "f6bef8d15b0f426b86ea6ab4c18ad345",
       "version_major": 2,
       "version_minor": 0
      },
      "text/plain": [
       "sci_respone:   0%|          | 0/4 [00:00<?, ?tasks/s]"
      ]
     },
     "metadata": {},
     "output_type": "display_data"
    },
    {
     "data": {
      "application/vnd.jupyter.widget-view+json": {
       "model_id": "dc5ab98f90924bb3a2e54bda9e82e0fe",
       "version_major": 2,
       "version_minor": 0
      },
      "text/plain": [
       "sci_respone:   0%|          | 0/4 [00:00<?, ?tasks/s]"
      ]
     },
     "metadata": {},
     "output_type": "display_data"
    },
    {
     "data": {
      "application/vnd.jupyter.widget-view+json": {
       "model_id": "5846a76070e54842b59c527e28b44210",
       "version_major": 2,
       "version_minor": 0
      },
      "text/plain": [
       "sci_respone:   0%|          | 0/4 [00:00<?, ?tasks/s]"
      ]
     },
     "metadata": {},
     "output_type": "display_data"
    },
    {
     "data": {
      "application/vnd.jupyter.widget-view+json": {
       "model_id": "0e149b84ffc54b518e43530147de9015",
       "version_major": 2,
       "version_minor": 0
      },
      "text/plain": [
       "sci_respone:   0%|          | 0/4 [00:00<?, ?tasks/s]"
      ]
     },
     "metadata": {},
     "output_type": "display_data"
    },
    {
     "data": {
      "application/vnd.jupyter.widget-view+json": {
       "model_id": "ef30bb19f8cb4221adda024557325168",
       "version_major": 2,
       "version_minor": 0
      },
      "text/plain": [
       "sci_respone:   0%|          | 0/4 [00:00<?, ?tasks/s]"
      ]
     },
     "metadata": {},
     "output_type": "display_data"
    },
    {
     "data": {
      "application/vnd.jupyter.widget-view+json": {
       "model_id": "c76a0f3fc7cb44fd9db3c40e19b0e452",
       "version_major": 2,
       "version_minor": 0
      },
      "text/plain": [
       "sci_respone:   0%|          | 0/4 [00:00<?, ?tasks/s]"
      ]
     },
     "metadata": {},
     "output_type": "display_data"
    },
    {
     "data": {
      "application/vnd.jupyter.widget-view+json": {
       "model_id": "d2c10b601ab34943955419084136022b",
       "version_major": 2,
       "version_minor": 0
      },
      "text/plain": [
       "sci_respone:   0%|          | 0/4 [00:00<?, ?tasks/s]"
      ]
     },
     "metadata": {},
     "output_type": "display_data"
    },
    {
     "data": {
      "application/vnd.jupyter.widget-view+json": {
       "model_id": "c2bcb63975784a3784ab09b49625027f",
       "version_major": 2,
       "version_minor": 0
      },
      "text/plain": [
       "sci_respone:   0%|          | 0/4 [00:00<?, ?tasks/s]"
      ]
     },
     "metadata": {},
     "output_type": "display_data"
    },
    {
     "data": {
      "application/vnd.jupyter.widget-view+json": {
       "model_id": "3361c39ebfa2447a8c76a2275e1357da",
       "version_major": 2,
       "version_minor": 0
      },
      "text/plain": [
       "sci_respone:   0%|          | 0/4 [00:00<?, ?tasks/s]"
      ]
     },
     "metadata": {},
     "output_type": "display_data"
    },
    {
     "data": {
      "application/vnd.jupyter.widget-view+json": {
       "model_id": "28465d044bba4e6294d0fd4604ca6653",
       "version_major": 2,
       "version_minor": 0
      },
      "text/plain": [
       "sci_respone:   0%|          | 0/4 [00:00<?, ?tasks/s]"
      ]
     },
     "metadata": {},
     "output_type": "display_data"
    },
    {
     "data": {
      "application/vnd.jupyter.widget-view+json": {
       "model_id": "4dc9bf02d1274a69a60af7a756723da5",
       "version_major": 2,
       "version_minor": 0
      },
      "text/plain": [
       "sci_respone:   0%|          | 0/4 [00:00<?, ?tasks/s]"
      ]
     },
     "metadata": {},
     "output_type": "display_data"
    },
    {
     "data": {
      "application/vnd.jupyter.widget-view+json": {
       "model_id": "ad546851fab74334b334e5a62017640b",
       "version_major": 2,
       "version_minor": 0
      },
      "text/plain": [
       "sci_respone:   0%|          | 0/4 [00:00<?, ?tasks/s]"
      ]
     },
     "metadata": {},
     "output_type": "display_data"
    },
    {
     "data": {
      "application/vnd.jupyter.widget-view+json": {
       "model_id": "f22b9ff1aca94b77a77ef726d46ab8ae",
       "version_major": 2,
       "version_minor": 0
      },
      "text/plain": [
       "sci_respone:   0%|          | 0/4 [00:00<?, ?tasks/s]"
      ]
     },
     "metadata": {},
     "output_type": "display_data"
    },
    {
     "data": {
      "application/vnd.jupyter.widget-view+json": {
       "model_id": "a32ae41bbb4d48cfb055ce6866e354ef",
       "version_major": 2,
       "version_minor": 0
      },
      "text/plain": [
       "<lambda>:   0%|          | 0/4 [00:00<?, ?tasks/s]"
      ]
     },
     "metadata": {},
     "output_type": "display_data"
    },
    {
     "data": {
      "application/vnd.jupyter.widget-view+json": {
       "model_id": "e562297196304ab7815e2c28f8039897",
       "version_major": 2,
       "version_minor": 0
      },
      "text/plain": [
       "sci_respone:   0%|          | 0/4 [00:00<?, ?tasks/s]"
      ]
     },
     "metadata": {},
     "output_type": "display_data"
    },
    {
     "data": {
      "application/vnd.jupyter.widget-view+json": {
       "model_id": "c3516f814c2e453093c702f554096553",
       "version_major": 2,
       "version_minor": 0
      },
      "text/plain": [
       "sci_respone:   0%|          | 0/4 [00:00<?, ?tasks/s]"
      ]
     },
     "metadata": {},
     "output_type": "display_data"
    },
    {
     "data": {
      "application/vnd.jupyter.widget-view+json": {
       "model_id": "29b0e1118d5549fabe14578626f0cf7c",
       "version_major": 2,
       "version_minor": 0
      },
      "text/plain": [
       "sci_respone:   0%|          | 0/4 [00:00<?, ?tasks/s]"
      ]
     },
     "metadata": {},
     "output_type": "display_data"
    },
    {
     "data": {
      "application/vnd.jupyter.widget-view+json": {
       "model_id": "f3e93920cc044f0aa899b1ca81909aa5",
       "version_major": 2,
       "version_minor": 0
      },
      "text/plain": [
       "sci_respone:   0%|          | 0/4 [00:00<?, ?tasks/s]"
      ]
     },
     "metadata": {},
     "output_type": "display_data"
    },
    {
     "data": {
      "application/vnd.jupyter.widget-view+json": {
       "model_id": "c11c9a99b2274dc2aad8974fd3579894",
       "version_major": 2,
       "version_minor": 0
      },
      "text/plain": [
       "sci_respone:   0%|          | 0/4 [00:00<?, ?tasks/s]"
      ]
     },
     "metadata": {},
     "output_type": "display_data"
    },
    {
     "data": {
      "application/vnd.jupyter.widget-view+json": {
       "model_id": "843e3e9343e04472b830fa31aa587e66",
       "version_major": 2,
       "version_minor": 0
      },
      "text/plain": [
       "sci_respone:   0%|          | 0/4 [00:00<?, ?tasks/s]"
      ]
     },
     "metadata": {},
     "output_type": "display_data"
    },
    {
     "data": {
      "application/vnd.jupyter.widget-view+json": {
       "model_id": "a9ccc2bade1a4061aa91bece7522c919",
       "version_major": 2,
       "version_minor": 0
      },
      "text/plain": [
       "sci_respone:   0%|          | 0/4 [00:00<?, ?tasks/s]"
      ]
     },
     "metadata": {},
     "output_type": "display_data"
    },
    {
     "data": {
      "application/vnd.jupyter.widget-view+json": {
       "model_id": "a64b8ad13eea4f0a8136e8e7ab002ae4",
       "version_major": 2,
       "version_minor": 0
      },
      "text/plain": [
       "sci_respone:   0%|          | 0/4 [00:00<?, ?tasks/s]"
      ]
     },
     "metadata": {},
     "output_type": "display_data"
    },
    {
     "data": {
      "application/vnd.jupyter.widget-view+json": {
       "model_id": "baedded554df47dc9eb66b0751849cac",
       "version_major": 2,
       "version_minor": 0
      },
      "text/plain": [
       "sci_respone:   0%|          | 0/4 [00:00<?, ?tasks/s]"
      ]
     },
     "metadata": {},
     "output_type": "display_data"
    },
    {
     "data": {
      "application/vnd.jupyter.widget-view+json": {
       "model_id": "edbc1fdd37a64706addfa888235adc30",
       "version_major": 2,
       "version_minor": 0
      },
      "text/plain": [
       "sci_respone:   0%|          | 0/4 [00:00<?, ?tasks/s]"
      ]
     },
     "metadata": {},
     "output_type": "display_data"
    },
    {
     "data": {
      "application/vnd.jupyter.widget-view+json": {
       "model_id": "f1d42cb8182e4d6bbcfb8c235f704eb6",
       "version_major": 2,
       "version_minor": 0
      },
      "text/plain": [
       "sci_respone:   0%|          | 0/4 [00:00<?, ?tasks/s]"
      ]
     },
     "metadata": {},
     "output_type": "display_data"
    },
    {
     "data": {
      "application/vnd.jupyter.widget-view+json": {
       "model_id": "30174b4293ae4e28bbabf52136693361",
       "version_major": 2,
       "version_minor": 0
      },
      "text/plain": [
       "sci_respone:   0%|          | 0/4 [00:00<?, ?tasks/s]"
      ]
     },
     "metadata": {},
     "output_type": "display_data"
    },
    {
     "data": {
      "application/vnd.jupyter.widget-view+json": {
       "model_id": "c12a8b103c24434a973fa9126e074c16",
       "version_major": 2,
       "version_minor": 0
      },
      "text/plain": [
       "sci_respone:   0%|          | 0/4 [00:00<?, ?tasks/s]"
      ]
     },
     "metadata": {},
     "output_type": "display_data"
    },
    {
     "data": {
      "application/vnd.jupyter.widget-view+json": {
       "model_id": "777fa2022d244b6a90ba1dfeca9c9880",
       "version_major": 2,
       "version_minor": 0
      },
      "text/plain": [
       "sci_respone:   0%|          | 0/4 [00:00<?, ?tasks/s]"
      ]
     },
     "metadata": {},
     "output_type": "display_data"
    },
    {
     "data": {
      "application/vnd.jupyter.widget-view+json": {
       "model_id": "c00a3e341ed440658c5ab72b63bb4ce1",
       "version_major": 2,
       "version_minor": 0
      },
      "text/plain": [
       "sci_respone:   0%|          | 0/4 [00:00<?, ?tasks/s]"
      ]
     },
     "metadata": {},
     "output_type": "display_data"
    },
    {
     "data": {
      "application/vnd.jupyter.widget-view+json": {
       "model_id": "3c10c0cb1615462a9d85bd72fb6b3e8f",
       "version_major": 2,
       "version_minor": 0
      },
      "text/plain": [
       "sci_respone:   0%|          | 0/4 [00:00<?, ?tasks/s]"
      ]
     },
     "metadata": {},
     "output_type": "display_data"
    },
    {
     "data": {
      "application/vnd.jupyter.widget-view+json": {
       "model_id": "c01fdf957acf4b4a92115f51d84b5b65",
       "version_major": 2,
       "version_minor": 0
      },
      "text/plain": [
       "sci_respone:   0%|          | 0/4 [00:00<?, ?tasks/s]"
      ]
     },
     "metadata": {},
     "output_type": "display_data"
    },
    {
     "data": {
      "application/vnd.jupyter.widget-view+json": {
       "model_id": "60be4eef4efa4a50843b3f919c39e252",
       "version_major": 2,
       "version_minor": 0
      },
      "text/plain": [
       "sci_respone:   0%|          | 0/4 [00:00<?, ?tasks/s]"
      ]
     },
     "metadata": {},
     "output_type": "display_data"
    },
    {
     "data": {
      "application/vnd.jupyter.widget-view+json": {
       "model_id": "106d21ab50634e979192e8798138d5f7",
       "version_major": 2,
       "version_minor": 0
      },
      "text/plain": [
       "sci_respone:   0%|          | 0/4 [00:00<?, ?tasks/s]"
      ]
     },
     "metadata": {},
     "output_type": "display_data"
    },
    {
     "data": {
      "application/vnd.jupyter.widget-view+json": {
       "model_id": "4d84c410b4d743c6bac4747494bf4da6",
       "version_major": 2,
       "version_minor": 0
      },
      "text/plain": [
       "sci_respone:   0%|          | 0/4 [00:00<?, ?tasks/s]"
      ]
     },
     "metadata": {},
     "output_type": "display_data"
    },
    {
     "data": {
      "application/vnd.jupyter.widget-view+json": {
       "model_id": "46ec7944beba4ced9a47ab7cb4c31dfa",
       "version_major": 2,
       "version_minor": 0
      },
      "text/plain": [
       "sci_respone:   0%|          | 0/4 [00:00<?, ?tasks/s]"
      ]
     },
     "metadata": {},
     "output_type": "display_data"
    },
    {
     "data": {
      "application/vnd.jupyter.widget-view+json": {
       "model_id": "7f06b81a3b8047f89eb387618720d796",
       "version_major": 2,
       "version_minor": 0
      },
      "text/plain": [
       "sci_respone:   0%|          | 0/4 [00:00<?, ?tasks/s]"
      ]
     },
     "metadata": {},
     "output_type": "display_data"
    },
    {
     "data": {
      "application/vnd.jupyter.widget-view+json": {
       "model_id": "e447beed0bbb42d1b9e9f7f8d5a6aa59",
       "version_major": 2,
       "version_minor": 0
      },
      "text/plain": [
       "sci_respone:   0%|          | 0/4 [00:00<?, ?tasks/s]"
      ]
     },
     "metadata": {},
     "output_type": "display_data"
    },
    {
     "data": {
      "application/vnd.jupyter.widget-view+json": {
       "model_id": "ac340ac1055c4ecc8c1f9b356164e0b6",
       "version_major": 2,
       "version_minor": 0
      },
      "text/plain": [
       "sci_respone:   0%|          | 0/4 [00:00<?, ?tasks/s]"
      ]
     },
     "metadata": {},
     "output_type": "display_data"
    },
    {
     "data": {
      "application/vnd.jupyter.widget-view+json": {
       "model_id": "d46ea44a6bd546058c54abec94b57425",
       "version_major": 2,
       "version_minor": 0
      },
      "text/plain": [
       "sci_respone:   0%|          | 0/4 [00:00<?, ?tasks/s]"
      ]
     },
     "metadata": {},
     "output_type": "display_data"
    },
    {
     "data": {
      "application/vnd.jupyter.widget-view+json": {
       "model_id": "e5fc40347e654d8990d4e2231ae615a4",
       "version_major": 2,
       "version_minor": 0
      },
      "text/plain": [
       "sci_respone:   0%|          | 0/4 [00:00<?, ?tasks/s]"
      ]
     },
     "metadata": {},
     "output_type": "display_data"
    },
    {
     "data": {
      "application/vnd.jupyter.widget-view+json": {
       "model_id": "ef2dc46a01a5456a8be3be28e09485f4",
       "version_major": 2,
       "version_minor": 0
      },
      "text/plain": [
       "sci_respone:   0%|          | 0/4 [00:00<?, ?tasks/s]"
      ]
     },
     "metadata": {},
     "output_type": "display_data"
    },
    {
     "data": {
      "application/vnd.jupyter.widget-view+json": {
       "model_id": "d66baee8f1d94a7a99439ad7de125953",
       "version_major": 2,
       "version_minor": 0
      },
      "text/plain": [
       "sci_respone:   0%|          | 0/4 [00:00<?, ?tasks/s]"
      ]
     },
     "metadata": {},
     "output_type": "display_data"
    },
    {
     "data": {
      "application/vnd.jupyter.widget-view+json": {
       "model_id": "3fafcbded15f436e916fb08a7c3d7ed7",
       "version_major": 2,
       "version_minor": 0
      },
      "text/plain": [
       "sci_respone:   0%|          | 0/4 [00:00<?, ?tasks/s]"
      ]
     },
     "metadata": {},
     "output_type": "display_data"
    },
    {
     "data": {
      "application/vnd.jupyter.widget-view+json": {
       "model_id": "f5ac402d10794053a901f7e43f13de4c",
       "version_major": 2,
       "version_minor": 0
      },
      "text/plain": [
       "sci_respone:   0%|          | 0/4 [00:00<?, ?tasks/s]"
      ]
     },
     "metadata": {},
     "output_type": "display_data"
    },
    {
     "data": {
      "application/vnd.jupyter.widget-view+json": {
       "model_id": "e980198eea71490b915151d2edd4651a",
       "version_major": 2,
       "version_minor": 0
      },
      "text/plain": [
       "<lambda>:   0%|          | 0/4 [00:00<?, ?tasks/s]"
      ]
     },
     "metadata": {},
     "output_type": "display_data"
    },
    {
     "data": {
      "application/vnd.jupyter.widget-view+json": {
       "model_id": "d346b8779f47442f9e1cd14f0ae40d68",
       "version_major": 2,
       "version_minor": 0
      },
      "text/plain": [
       "sci_respone:   0%|          | 0/4 [00:00<?, ?tasks/s]"
      ]
     },
     "metadata": {},
     "output_type": "display_data"
    },
    {
     "data": {
      "application/vnd.jupyter.widget-view+json": {
       "model_id": "002780d45e4e46d5b90f4751960ca412",
       "version_major": 2,
       "version_minor": 0
      },
      "text/plain": [
       "sci_respone:   0%|          | 0/4 [00:00<?, ?tasks/s]"
      ]
     },
     "metadata": {},
     "output_type": "display_data"
    },
    {
     "data": {
      "application/vnd.jupyter.widget-view+json": {
       "model_id": "2b822a9d25f54e0dafdc8fdb9353ee7d",
       "version_major": 2,
       "version_minor": 0
      },
      "text/plain": [
       "sci_respone:   0%|          | 0/4 [00:00<?, ?tasks/s]"
      ]
     },
     "metadata": {},
     "output_type": "display_data"
    },
    {
     "data": {
      "application/vnd.jupyter.widget-view+json": {
       "model_id": "7680b48d3ec641a7a42703b7f89b8d3e",
       "version_major": 2,
       "version_minor": 0
      },
      "text/plain": [
       "sci_respone:   0%|          | 0/4 [00:00<?, ?tasks/s]"
      ]
     },
     "metadata": {},
     "output_type": "display_data"
    },
    {
     "data": {
      "application/vnd.jupyter.widget-view+json": {
       "model_id": "275fc448969040f5867158b3c8121ca9",
       "version_major": 2,
       "version_minor": 0
      },
      "text/plain": [
       "sci_respone:   0%|          | 0/4 [00:00<?, ?tasks/s]"
      ]
     },
     "metadata": {},
     "output_type": "display_data"
    },
    {
     "data": {
      "application/vnd.jupyter.widget-view+json": {
       "model_id": "9dacd27502ed44988eda8e831cf6a381",
       "version_major": 2,
       "version_minor": 0
      },
      "text/plain": [
       "sci_respone:   0%|          | 0/4 [00:00<?, ?tasks/s]"
      ]
     },
     "metadata": {},
     "output_type": "display_data"
    },
    {
     "data": {
      "application/vnd.jupyter.widget-view+json": {
       "model_id": "9b0e7ea32d2e4703a619e187b4bfae3d",
       "version_major": 2,
       "version_minor": 0
      },
      "text/plain": [
       "sci_respone:   0%|          | 0/4 [00:00<?, ?tasks/s]"
      ]
     },
     "metadata": {},
     "output_type": "display_data"
    },
    {
     "data": {
      "application/vnd.jupyter.widget-view+json": {
       "model_id": "b0099ee349ad4b79b3406de7461bb142",
       "version_major": 2,
       "version_minor": 0
      },
      "text/plain": [
       "sci_respone:   0%|          | 0/4 [00:00<?, ?tasks/s]"
      ]
     },
     "metadata": {},
     "output_type": "display_data"
    },
    {
     "data": {
      "application/vnd.jupyter.widget-view+json": {
       "model_id": "92ecaa2d78c441e69bf786dfd18ed031",
       "version_major": 2,
       "version_minor": 0
      },
      "text/plain": [
       "sci_respone:   0%|          | 0/4 [00:00<?, ?tasks/s]"
      ]
     },
     "metadata": {},
     "output_type": "display_data"
    },
    {
     "data": {
      "application/vnd.jupyter.widget-view+json": {
       "model_id": "26e3684973714538a4e2658074bc2144",
       "version_major": 2,
       "version_minor": 0
      },
      "text/plain": [
       "sci_respone:   0%|          | 0/4 [00:00<?, ?tasks/s]"
      ]
     },
     "metadata": {},
     "output_type": "display_data"
    },
    {
     "data": {
      "application/vnd.jupyter.widget-view+json": {
       "model_id": "2348b2dbb1ce4c62b7a9f3e86739a142",
       "version_major": 2,
       "version_minor": 0
      },
      "text/plain": [
       "sci_respone:   0%|          | 0/4 [00:00<?, ?tasks/s]"
      ]
     },
     "metadata": {},
     "output_type": "display_data"
    },
    {
     "data": {
      "application/vnd.jupyter.widget-view+json": {
       "model_id": "8c4b4ebcfba54589a8515bab87a6a9b0",
       "version_major": 2,
       "version_minor": 0
      },
      "text/plain": [
       "sci_respone:   0%|          | 0/4 [00:00<?, ?tasks/s]"
      ]
     },
     "metadata": {},
     "output_type": "display_data"
    },
    {
     "data": {
      "application/vnd.jupyter.widget-view+json": {
       "model_id": "90c46b6e131840ac9fdcfb688b9151ff",
       "version_major": 2,
       "version_minor": 0
      },
      "text/plain": [
       "sci_respone:   0%|          | 0/4 [00:00<?, ?tasks/s]"
      ]
     },
     "metadata": {},
     "output_type": "display_data"
    },
    {
     "data": {
      "application/vnd.jupyter.widget-view+json": {
       "model_id": "0ec8f9bc856b40b7a0c073de150d174f",
       "version_major": 2,
       "version_minor": 0
      },
      "text/plain": [
       "sci_respone:   0%|          | 0/4 [00:00<?, ?tasks/s]"
      ]
     },
     "metadata": {},
     "output_type": "display_data"
    },
    {
     "data": {
      "application/vnd.jupyter.widget-view+json": {
       "model_id": "9a850631b4274d559e81a513f72553da",
       "version_major": 2,
       "version_minor": 0
      },
      "text/plain": [
       "sci_respone:   0%|          | 0/4 [00:00<?, ?tasks/s]"
      ]
     },
     "metadata": {},
     "output_type": "display_data"
    },
    {
     "data": {
      "application/vnd.jupyter.widget-view+json": {
       "model_id": "8f114f4c19fa42489f25a80c866270cb",
       "version_major": 2,
       "version_minor": 0
      },
      "text/plain": [
       "sci_respone:   0%|          | 0/4 [00:00<?, ?tasks/s]"
      ]
     },
     "metadata": {},
     "output_type": "display_data"
    },
    {
     "data": {
      "application/vnd.jupyter.widget-view+json": {
       "model_id": "61fb80686cac4d949bd23141e8e8e004",
       "version_major": 2,
       "version_minor": 0
      },
      "text/plain": [
       "sci_respone:   0%|          | 0/4 [00:00<?, ?tasks/s]"
      ]
     },
     "metadata": {},
     "output_type": "display_data"
    },
    {
     "data": {
      "application/vnd.jupyter.widget-view+json": {
       "model_id": "e963c3fde9b544719dea32b0ded58fe0",
       "version_major": 2,
       "version_minor": 0
      },
      "text/plain": [
       "sci_respone:   0%|          | 0/4 [00:00<?, ?tasks/s]"
      ]
     },
     "metadata": {},
     "output_type": "display_data"
    },
    {
     "data": {
      "application/vnd.jupyter.widget-view+json": {
       "model_id": "2de5662c561c444dba2af9ce68ee3d59",
       "version_major": 2,
       "version_minor": 0
      },
      "text/plain": [
       "sci_respone:   0%|          | 0/4 [00:00<?, ?tasks/s]"
      ]
     },
     "metadata": {},
     "output_type": "display_data"
    },
    {
     "data": {
      "application/vnd.jupyter.widget-view+json": {
       "model_id": "ec43ba4dad2d4a739a8206b912be5cd4",
       "version_major": 2,
       "version_minor": 0
      },
      "text/plain": [
       "sci_respone:   0%|          | 0/4 [00:00<?, ?tasks/s]"
      ]
     },
     "metadata": {},
     "output_type": "display_data"
    },
    {
     "data": {
      "application/vnd.jupyter.widget-view+json": {
       "model_id": "ddce02ebe0294947a54fe28baaf65196",
       "version_major": 2,
       "version_minor": 0
      },
      "text/plain": [
       "sci_respone:   0%|          | 0/4 [00:00<?, ?tasks/s]"
      ]
     },
     "metadata": {},
     "output_type": "display_data"
    },
    {
     "data": {
      "application/vnd.jupyter.widget-view+json": {
       "model_id": "a916e5fb1b5545dcb2d2ee915faf65b3",
       "version_major": 2,
       "version_minor": 0
      },
      "text/plain": [
       "sci_respone:   0%|          | 0/4 [00:00<?, ?tasks/s]"
      ]
     },
     "metadata": {},
     "output_type": "display_data"
    },
    {
     "data": {
      "application/vnd.jupyter.widget-view+json": {
       "model_id": "b472fcda465f45d889d9ad09c6ba84ad",
       "version_major": 2,
       "version_minor": 0
      },
      "text/plain": [
       "sci_respone:   0%|          | 0/4 [00:00<?, ?tasks/s]"
      ]
     },
     "metadata": {},
     "output_type": "display_data"
    },
    {
     "data": {
      "application/vnd.jupyter.widget-view+json": {
       "model_id": "056f7ed49c9a4e19b8852a958e4c7d28",
       "version_major": 2,
       "version_minor": 0
      },
      "text/plain": [
       "sci_respone:   0%|          | 0/4 [00:00<?, ?tasks/s]"
      ]
     },
     "metadata": {},
     "output_type": "display_data"
    },
    {
     "data": {
      "application/vnd.jupyter.widget-view+json": {
       "model_id": "b9a26eccf8d3479fb9748d12adac7e5a",
       "version_major": 2,
       "version_minor": 0
      },
      "text/plain": [
       "sci_respone:   0%|          | 0/4 [00:00<?, ?tasks/s]"
      ]
     },
     "metadata": {},
     "output_type": "display_data"
    },
    {
     "data": {
      "application/vnd.jupyter.widget-view+json": {
       "model_id": "c6543c0478ed49a085db1132267c43ca",
       "version_major": 2,
       "version_minor": 0
      },
      "text/plain": [
       "sci_respone:   0%|          | 0/4 [00:00<?, ?tasks/s]"
      ]
     },
     "metadata": {},
     "output_type": "display_data"
    },
    {
     "data": {
      "application/vnd.jupyter.widget-view+json": {
       "model_id": "057e25fc80ef42dabd6f5d455407454c",
       "version_major": 2,
       "version_minor": 0
      },
      "text/plain": [
       "sci_respone:   0%|          | 0/4 [00:00<?, ?tasks/s]"
      ]
     },
     "metadata": {},
     "output_type": "display_data"
    },
    {
     "data": {
      "application/vnd.jupyter.widget-view+json": {
       "model_id": "5848bec104714e269c3b1b372aee65ad",
       "version_major": 2,
       "version_minor": 0
      },
      "text/plain": [
       "sci_respone:   0%|          | 0/4 [00:00<?, ?tasks/s]"
      ]
     },
     "metadata": {},
     "output_type": "display_data"
    },
    {
     "data": {
      "application/vnd.jupyter.widget-view+json": {
       "model_id": "98da25c706ba4204be0c51b9758021f4",
       "version_major": 2,
       "version_minor": 0
      },
      "text/plain": [
       "sci_respone:   0%|          | 0/4 [00:00<?, ?tasks/s]"
      ]
     },
     "metadata": {},
     "output_type": "display_data"
    },
    {
     "data": {
      "application/vnd.jupyter.widget-view+json": {
       "model_id": "c82cb38f742f40b3a8485c7b6c37153c",
       "version_major": 2,
       "version_minor": 0
      },
      "text/plain": [
       "sci_respone:   0%|          | 0/4 [00:00<?, ?tasks/s]"
      ]
     },
     "metadata": {},
     "output_type": "display_data"
    },
    {
     "data": {
      "application/vnd.jupyter.widget-view+json": {
       "model_id": "276e657066b64168a95a9a32ab457574",
       "version_major": 2,
       "version_minor": 0
      },
      "text/plain": [
       "<lambda>:   0%|          | 0/4 [00:00<?, ?tasks/s]"
      ]
     },
     "metadata": {},
     "output_type": "display_data"
    },
    {
     "data": {
      "application/vnd.jupyter.widget-view+json": {
       "model_id": "734f60fc3fe740db85bb0b090da12130",
       "version_major": 2,
       "version_minor": 0
      },
      "text/plain": [
       "sci_respone:   0%|          | 0/4 [00:00<?, ?tasks/s]"
      ]
     },
     "metadata": {},
     "output_type": "display_data"
    },
    {
     "data": {
      "application/vnd.jupyter.widget-view+json": {
       "model_id": "6c3683978c9f4ab3b93bd341914c908c",
       "version_major": 2,
       "version_minor": 0
      },
      "text/plain": [
       "sci_respone:   0%|          | 0/4 [00:00<?, ?tasks/s]"
      ]
     },
     "metadata": {},
     "output_type": "display_data"
    },
    {
     "data": {
      "application/vnd.jupyter.widget-view+json": {
       "model_id": "6126aa8e15e54499a37ecf6ee77e579a",
       "version_major": 2,
       "version_minor": 0
      },
      "text/plain": [
       "sci_respone:   0%|          | 0/4 [00:00<?, ?tasks/s]"
      ]
     },
     "metadata": {},
     "output_type": "display_data"
    },
    {
     "data": {
      "application/vnd.jupyter.widget-view+json": {
       "model_id": "4cce052a09094ba48f405ce1f78bf893",
       "version_major": 2,
       "version_minor": 0
      },
      "text/plain": [
       "sci_respone:   0%|          | 0/4 [00:00<?, ?tasks/s]"
      ]
     },
     "metadata": {},
     "output_type": "display_data"
    },
    {
     "data": {
      "application/vnd.jupyter.widget-view+json": {
       "model_id": "4204154d64db41bc9f0c2fea6156f505",
       "version_major": 2,
       "version_minor": 0
      },
      "text/plain": [
       "sci_respone:   0%|          | 0/4 [00:00<?, ?tasks/s]"
      ]
     },
     "metadata": {},
     "output_type": "display_data"
    },
    {
     "data": {
      "application/vnd.jupyter.widget-view+json": {
       "model_id": "162d5e3df75a495988dda9a5213c4998",
       "version_major": 2,
       "version_minor": 0
      },
      "text/plain": [
       "sci_respone:   0%|          | 0/4 [00:00<?, ?tasks/s]"
      ]
     },
     "metadata": {},
     "output_type": "display_data"
    },
    {
     "data": {
      "application/vnd.jupyter.widget-view+json": {
       "model_id": "6b572f2971154587b0ba47aa29d4b91a",
       "version_major": 2,
       "version_minor": 0
      },
      "text/plain": [
       "sci_respone:   0%|          | 0/4 [00:00<?, ?tasks/s]"
      ]
     },
     "metadata": {},
     "output_type": "display_data"
    },
    {
     "data": {
      "application/vnd.jupyter.widget-view+json": {
       "model_id": "45928b97f2d34ba7906f40615d78ecff",
       "version_major": 2,
       "version_minor": 0
      },
      "text/plain": [
       "sci_respone:   0%|          | 0/4 [00:00<?, ?tasks/s]"
      ]
     },
     "metadata": {},
     "output_type": "display_data"
    },
    {
     "data": {
      "application/vnd.jupyter.widget-view+json": {
       "model_id": "49fc086706ef47418a2f04713e0226e7",
       "version_major": 2,
       "version_minor": 0
      },
      "text/plain": [
       "sci_respone:   0%|          | 0/4 [00:00<?, ?tasks/s]"
      ]
     },
     "metadata": {},
     "output_type": "display_data"
    },
    {
     "data": {
      "application/vnd.jupyter.widget-view+json": {
       "model_id": "142f04a168c64ee39854fbb072473130",
       "version_major": 2,
       "version_minor": 0
      },
      "text/plain": [
       "sci_respone:   0%|          | 0/4 [00:00<?, ?tasks/s]"
      ]
     },
     "metadata": {},
     "output_type": "display_data"
    },
    {
     "data": {
      "application/vnd.jupyter.widget-view+json": {
       "model_id": "e8d7f337a748440bb765f66a8ccf9d9c",
       "version_major": 2,
       "version_minor": 0
      },
      "text/plain": [
       "sci_respone:   0%|          | 0/4 [00:00<?, ?tasks/s]"
      ]
     },
     "metadata": {},
     "output_type": "display_data"
    },
    {
     "data": {
      "application/vnd.jupyter.widget-view+json": {
       "model_id": "5dac102a914e408fa3fd35c5a1b80795",
       "version_major": 2,
       "version_minor": 0
      },
      "text/plain": [
       "sci_respone:   0%|          | 0/4 [00:00<?, ?tasks/s]"
      ]
     },
     "metadata": {},
     "output_type": "display_data"
    },
    {
     "data": {
      "application/vnd.jupyter.widget-view+json": {
       "model_id": "a0c336d1460f4515b1acfc3056c84ed7",
       "version_major": 2,
       "version_minor": 0
      },
      "text/plain": [
       "sci_respone:   0%|          | 0/4 [00:00<?, ?tasks/s]"
      ]
     },
     "metadata": {},
     "output_type": "display_data"
    },
    {
     "data": {
      "application/vnd.jupyter.widget-view+json": {
       "model_id": "e4046489daa7407fb934b6de7bc4c9c1",
       "version_major": 2,
       "version_minor": 0
      },
      "text/plain": [
       "sci_respone:   0%|          | 0/4 [00:00<?, ?tasks/s]"
      ]
     },
     "metadata": {},
     "output_type": "display_data"
    },
    {
     "data": {
      "application/vnd.jupyter.widget-view+json": {
       "model_id": "624116609e404670988241d50b2e67f9",
       "version_major": 2,
       "version_minor": 0
      },
      "text/plain": [
       "sci_respone:   0%|          | 0/4 [00:00<?, ?tasks/s]"
      ]
     },
     "metadata": {},
     "output_type": "display_data"
    },
    {
     "data": {
      "application/vnd.jupyter.widget-view+json": {
       "model_id": "a2b56c6c1b9b494da4176067104b3a03",
       "version_major": 2,
       "version_minor": 0
      },
      "text/plain": [
       "sci_respone:   0%|          | 0/4 [00:00<?, ?tasks/s]"
      ]
     },
     "metadata": {},
     "output_type": "display_data"
    },
    {
     "data": {
      "application/vnd.jupyter.widget-view+json": {
       "model_id": "cc6f04c8ff374aeb846fbbd154eba283",
       "version_major": 2,
       "version_minor": 0
      },
      "text/plain": [
       "sci_respone:   0%|          | 0/4 [00:00<?, ?tasks/s]"
      ]
     },
     "metadata": {},
     "output_type": "display_data"
    },
    {
     "data": {
      "application/vnd.jupyter.widget-view+json": {
       "model_id": "a3a50452b6f14638a944b944b99d51e2",
       "version_major": 2,
       "version_minor": 0
      },
      "text/plain": [
       "sci_respone:   0%|          | 0/4 [00:00<?, ?tasks/s]"
      ]
     },
     "metadata": {},
     "output_type": "display_data"
    },
    {
     "data": {
      "application/vnd.jupyter.widget-view+json": {
       "model_id": "4233ddbed5cc4b8db4546a16f78d3ebb",
       "version_major": 2,
       "version_minor": 0
      },
      "text/plain": [
       "sci_respone:   0%|          | 0/4 [00:00<?, ?tasks/s]"
      ]
     },
     "metadata": {},
     "output_type": "display_data"
    },
    {
     "data": {
      "application/vnd.jupyter.widget-view+json": {
       "model_id": "aa783e075e9c4ed58b44e62c2cc97064",
       "version_major": 2,
       "version_minor": 0
      },
      "text/plain": [
       "sci_respone:   0%|          | 0/4 [00:00<?, ?tasks/s]"
      ]
     },
     "metadata": {},
     "output_type": "display_data"
    },
    {
     "data": {
      "application/vnd.jupyter.widget-view+json": {
       "model_id": "7acda977ddea47378091b5e03f144394",
       "version_major": 2,
       "version_minor": 0
      },
      "text/plain": [
       "sci_respone:   0%|          | 0/4 [00:00<?, ?tasks/s]"
      ]
     },
     "metadata": {},
     "output_type": "display_data"
    },
    {
     "data": {
      "application/vnd.jupyter.widget-view+json": {
       "model_id": "b80e715d205d40cc8cd3feaa021cb95d",
       "version_major": 2,
       "version_minor": 0
      },
      "text/plain": [
       "sci_respone:   0%|          | 0/4 [00:00<?, ?tasks/s]"
      ]
     },
     "metadata": {},
     "output_type": "display_data"
    },
    {
     "data": {
      "application/vnd.jupyter.widget-view+json": {
       "model_id": "4bc71a670ea844fa9b556eadb9b3bb32",
       "version_major": 2,
       "version_minor": 0
      },
      "text/plain": [
       "sci_respone:   0%|          | 0/4 [00:00<?, ?tasks/s]"
      ]
     },
     "metadata": {},
     "output_type": "display_data"
    },
    {
     "data": {
      "application/vnd.jupyter.widget-view+json": {
       "model_id": "3d1d28e07c8240b6917c629c2c8635c3",
       "version_major": 2,
       "version_minor": 0
      },
      "text/plain": [
       "sci_respone:   0%|          | 0/4 [00:00<?, ?tasks/s]"
      ]
     },
     "metadata": {},
     "output_type": "display_data"
    },
    {
     "data": {
      "application/vnd.jupyter.widget-view+json": {
       "model_id": "59a58ad45b504f408407c63ddf4cba8a",
       "version_major": 2,
       "version_minor": 0
      },
      "text/plain": [
       "sci_respone:   0%|          | 0/4 [00:00<?, ?tasks/s]"
      ]
     },
     "metadata": {},
     "output_type": "display_data"
    },
    {
     "data": {
      "application/vnd.jupyter.widget-view+json": {
       "model_id": "4b33c2dc4efd423ba41711e701b48c05",
       "version_major": 2,
       "version_minor": 0
      },
      "text/plain": [
       "sci_respone:   0%|          | 0/4 [00:00<?, ?tasks/s]"
      ]
     },
     "metadata": {},
     "output_type": "display_data"
    },
    {
     "data": {
      "application/vnd.jupyter.widget-view+json": {
       "model_id": "5bd86970a3244e9686fb5d538f799b7c",
       "version_major": 2,
       "version_minor": 0
      },
      "text/plain": [
       "sci_respone:   0%|          | 0/4 [00:00<?, ?tasks/s]"
      ]
     },
     "metadata": {},
     "output_type": "display_data"
    },
    {
     "data": {
      "application/vnd.jupyter.widget-view+json": {
       "model_id": "d3eef490fcb34d4287024e019f854e9c",
       "version_major": 2,
       "version_minor": 0
      },
      "text/plain": [
       "sci_respone:   0%|          | 0/4 [00:00<?, ?tasks/s]"
      ]
     },
     "metadata": {},
     "output_type": "display_data"
    },
    {
     "data": {
      "application/vnd.jupyter.widget-view+json": {
       "model_id": "baf8bbfd5f1d4dab88f4f26bab32b5d3",
       "version_major": 2,
       "version_minor": 0
      },
      "text/plain": [
       "sci_respone:   0%|          | 0/4 [00:00<?, ?tasks/s]"
      ]
     },
     "metadata": {},
     "output_type": "display_data"
    },
    {
     "data": {
      "application/vnd.jupyter.widget-view+json": {
       "model_id": "359ef41227f44d3c8e9d0a68f6e42075",
       "version_major": 2,
       "version_minor": 0
      },
      "text/plain": [
       "sci_respone:   0%|          | 0/4 [00:00<?, ?tasks/s]"
      ]
     },
     "metadata": {},
     "output_type": "display_data"
    },
    {
     "data": {
      "application/vnd.jupyter.widget-view+json": {
       "model_id": "2c774ce263724649a037fdf3d84e8d73",
       "version_major": 2,
       "version_minor": 0
      },
      "text/plain": [
       "<lambda>:   0%|          | 0/4 [00:00<?, ?tasks/s]"
      ]
     },
     "metadata": {},
     "output_type": "display_data"
    },
    {
     "data": {
      "application/vnd.jupyter.widget-view+json": {
       "model_id": "4de7401aedfd403cbc2f5f953faa1c2f",
       "version_major": 2,
       "version_minor": 0
      },
      "text/plain": [
       "sci_respone:   0%|          | 0/4 [00:00<?, ?tasks/s]"
      ]
     },
     "metadata": {},
     "output_type": "display_data"
    },
    {
     "data": {
      "application/vnd.jupyter.widget-view+json": {
       "model_id": "35c430596b5144f68a3f1e0694191cfe",
       "version_major": 2,
       "version_minor": 0
      },
      "text/plain": [
       "sci_respone:   0%|          | 0/4 [00:00<?, ?tasks/s]"
      ]
     },
     "metadata": {},
     "output_type": "display_data"
    },
    {
     "data": {
      "application/vnd.jupyter.widget-view+json": {
       "model_id": "fd3dd10f9330493ab378f03a4f662582",
       "version_major": 2,
       "version_minor": 0
      },
      "text/plain": [
       "sci_respone:   0%|          | 0/4 [00:00<?, ?tasks/s]"
      ]
     },
     "metadata": {},
     "output_type": "display_data"
    },
    {
     "data": {
      "application/vnd.jupyter.widget-view+json": {
       "model_id": "6d9e155f9ee947b2b61531e64a300014",
       "version_major": 2,
       "version_minor": 0
      },
      "text/plain": [
       "sci_respone:   0%|          | 0/4 [00:00<?, ?tasks/s]"
      ]
     },
     "metadata": {},
     "output_type": "display_data"
    },
    {
     "data": {
      "application/vnd.jupyter.widget-view+json": {
       "model_id": "6474e933c06a496d8f4300c44c7c6698",
       "version_major": 2,
       "version_minor": 0
      },
      "text/plain": [
       "sci_respone:   0%|          | 0/4 [00:00<?, ?tasks/s]"
      ]
     },
     "metadata": {},
     "output_type": "display_data"
    },
    {
     "data": {
      "application/vnd.jupyter.widget-view+json": {
       "model_id": "b04d529feb0d44779ec0c3aa3f0ae434",
       "version_major": 2,
       "version_minor": 0
      },
      "text/plain": [
       "sci_respone:   0%|          | 0/4 [00:00<?, ?tasks/s]"
      ]
     },
     "metadata": {},
     "output_type": "display_data"
    },
    {
     "data": {
      "application/vnd.jupyter.widget-view+json": {
       "model_id": "810a5ea9a2b7405ebc7efb397619468c",
       "version_major": 2,
       "version_minor": 0
      },
      "text/plain": [
       "sci_respone:   0%|          | 0/4 [00:00<?, ?tasks/s]"
      ]
     },
     "metadata": {},
     "output_type": "display_data"
    },
    {
     "data": {
      "application/vnd.jupyter.widget-view+json": {
       "model_id": "b853be768d1441109cfd74a6fd53b474",
       "version_major": 2,
       "version_minor": 0
      },
      "text/plain": [
       "sci_respone:   0%|          | 0/4 [00:00<?, ?tasks/s]"
      ]
     },
     "metadata": {},
     "output_type": "display_data"
    },
    {
     "data": {
      "application/vnd.jupyter.widget-view+json": {
       "model_id": "cf73e14557564717aeae9130c9179ec3",
       "version_major": 2,
       "version_minor": 0
      },
      "text/plain": [
       "sci_respone:   0%|          | 0/4 [00:00<?, ?tasks/s]"
      ]
     },
     "metadata": {},
     "output_type": "display_data"
    },
    {
     "data": {
      "application/vnd.jupyter.widget-view+json": {
       "model_id": "6b5260fd9c404e2f8574d88f3f6b9e65",
       "version_major": 2,
       "version_minor": 0
      },
      "text/plain": [
       "sci_respone:   0%|          | 0/4 [00:00<?, ?tasks/s]"
      ]
     },
     "metadata": {},
     "output_type": "display_data"
    },
    {
     "data": {
      "application/vnd.jupyter.widget-view+json": {
       "model_id": "c6ae7947854d4bf2a64aef300f066e57",
       "version_major": 2,
       "version_minor": 0
      },
      "text/plain": [
       "sci_respone:   0%|          | 0/4 [00:00<?, ?tasks/s]"
      ]
     },
     "metadata": {},
     "output_type": "display_data"
    },
    {
     "data": {
      "application/vnd.jupyter.widget-view+json": {
       "model_id": "73040822e063496a90eedb6e70f22e63",
       "version_major": 2,
       "version_minor": 0
      },
      "text/plain": [
       "sci_respone:   0%|          | 0/4 [00:00<?, ?tasks/s]"
      ]
     },
     "metadata": {},
     "output_type": "display_data"
    },
    {
     "data": {
      "application/vnd.jupyter.widget-view+json": {
       "model_id": "305ecdf5f0fa40b6a0a7a87df08b608f",
       "version_major": 2,
       "version_minor": 0
      },
      "text/plain": [
       "sci_respone:   0%|          | 0/4 [00:00<?, ?tasks/s]"
      ]
     },
     "metadata": {},
     "output_type": "display_data"
    },
    {
     "data": {
      "application/vnd.jupyter.widget-view+json": {
       "model_id": "3613bea450334a7ebfd389c8a52584c3",
       "version_major": 2,
       "version_minor": 0
      },
      "text/plain": [
       "sci_respone:   0%|          | 0/4 [00:00<?, ?tasks/s]"
      ]
     },
     "metadata": {},
     "output_type": "display_data"
    },
    {
     "data": {
      "application/vnd.jupyter.widget-view+json": {
       "model_id": "4a028fe92a4940a6893e6371972d1226",
       "version_major": 2,
       "version_minor": 0
      },
      "text/plain": [
       "sci_respone:   0%|          | 0/4 [00:00<?, ?tasks/s]"
      ]
     },
     "metadata": {},
     "output_type": "display_data"
    },
    {
     "data": {
      "application/vnd.jupyter.widget-view+json": {
       "model_id": "86658a4a94e0403e863adbb499a3f85f",
       "version_major": 2,
       "version_minor": 0
      },
      "text/plain": [
       "sci_respone:   0%|          | 0/4 [00:00<?, ?tasks/s]"
      ]
     },
     "metadata": {},
     "output_type": "display_data"
    },
    {
     "data": {
      "application/vnd.jupyter.widget-view+json": {
       "model_id": "e3251d94651c4894b9b15aab3d189c67",
       "version_major": 2,
       "version_minor": 0
      },
      "text/plain": [
       "sci_respone:   0%|          | 0/4 [00:00<?, ?tasks/s]"
      ]
     },
     "metadata": {},
     "output_type": "display_data"
    },
    {
     "data": {
      "application/vnd.jupyter.widget-view+json": {
       "model_id": "cee7bec5d71c45429eabf15628f5ce81",
       "version_major": 2,
       "version_minor": 0
      },
      "text/plain": [
       "sci_respone:   0%|          | 0/4 [00:00<?, ?tasks/s]"
      ]
     },
     "metadata": {},
     "output_type": "display_data"
    },
    {
     "data": {
      "application/vnd.jupyter.widget-view+json": {
       "model_id": "02c8f08820544c60baecc135137a50df",
       "version_major": 2,
       "version_minor": 0
      },
      "text/plain": [
       "sci_respone:   0%|          | 0/4 [00:00<?, ?tasks/s]"
      ]
     },
     "metadata": {},
     "output_type": "display_data"
    },
    {
     "data": {
      "application/vnd.jupyter.widget-view+json": {
       "model_id": "6ba53c06d74f498b93f61b6f574d9e2b",
       "version_major": 2,
       "version_minor": 0
      },
      "text/plain": [
       "sci_respone:   0%|          | 0/4 [00:00<?, ?tasks/s]"
      ]
     },
     "metadata": {},
     "output_type": "display_data"
    },
    {
     "data": {
      "application/vnd.jupyter.widget-view+json": {
       "model_id": "a827e4ae43e948c5ae49cc881e00d041",
       "version_major": 2,
       "version_minor": 0
      },
      "text/plain": [
       "sci_respone:   0%|          | 0/4 [00:00<?, ?tasks/s]"
      ]
     },
     "metadata": {},
     "output_type": "display_data"
    },
    {
     "data": {
      "application/vnd.jupyter.widget-view+json": {
       "model_id": "58ebc23d91184152b855226e81f52273",
       "version_major": 2,
       "version_minor": 0
      },
      "text/plain": [
       "sci_respone:   0%|          | 0/4 [00:00<?, ?tasks/s]"
      ]
     },
     "metadata": {},
     "output_type": "display_data"
    },
    {
     "data": {
      "application/vnd.jupyter.widget-view+json": {
       "model_id": "f51a7d41de8d4d4ca4b44e15caa96cf3",
       "version_major": 2,
       "version_minor": 0
      },
      "text/plain": [
       "sci_respone:   0%|          | 0/4 [00:00<?, ?tasks/s]"
      ]
     },
     "metadata": {},
     "output_type": "display_data"
    },
    {
     "data": {
      "application/vnd.jupyter.widget-view+json": {
       "model_id": "0a60c3c09e4a445d99f62827e37338df",
       "version_major": 2,
       "version_minor": 0
      },
      "text/plain": [
       "sci_respone:   0%|          | 0/4 [00:00<?, ?tasks/s]"
      ]
     },
     "metadata": {},
     "output_type": "display_data"
    },
    {
     "data": {
      "application/vnd.jupyter.widget-view+json": {
       "model_id": "4b78a3f433354a4795c776d6369e73f5",
       "version_major": 2,
       "version_minor": 0
      },
      "text/plain": [
       "sci_respone:   0%|          | 0/4 [00:00<?, ?tasks/s]"
      ]
     },
     "metadata": {},
     "output_type": "display_data"
    },
    {
     "data": {
      "application/vnd.jupyter.widget-view+json": {
       "model_id": "ad77e818ceab48b0a7faa22eee601db7",
       "version_major": 2,
       "version_minor": 0
      },
      "text/plain": [
       "sci_respone:   0%|          | 0/4 [00:00<?, ?tasks/s]"
      ]
     },
     "metadata": {},
     "output_type": "display_data"
    },
    {
     "data": {
      "application/vnd.jupyter.widget-view+json": {
       "model_id": "79e5505c02534aa983a6acd9c28533bb",
       "version_major": 2,
       "version_minor": 0
      },
      "text/plain": [
       "sci_respone:   0%|          | 0/4 [00:00<?, ?tasks/s]"
      ]
     },
     "metadata": {},
     "output_type": "display_data"
    },
    {
     "data": {
      "application/vnd.jupyter.widget-view+json": {
       "model_id": "d384aa51e9d84eacaef39448472b5ac9",
       "version_major": 2,
       "version_minor": 0
      },
      "text/plain": [
       "sci_respone:   0%|          | 0/4 [00:00<?, ?tasks/s]"
      ]
     },
     "metadata": {},
     "output_type": "display_data"
    },
    {
     "data": {
      "application/vnd.jupyter.widget-view+json": {
       "model_id": "991a29b4e4f041ff9d00d82b96fb2d4f",
       "version_major": 2,
       "version_minor": 0
      },
      "text/plain": [
       "sci_respone:   0%|          | 0/4 [00:00<?, ?tasks/s]"
      ]
     },
     "metadata": {},
     "output_type": "display_data"
    },
    {
     "data": {
      "application/vnd.jupyter.widget-view+json": {
       "model_id": "fa3f58df4c8d4c9abb7d8ba4b0dfeb65",
       "version_major": 2,
       "version_minor": 0
      },
      "text/plain": [
       "sci_respone:   0%|          | 0/4 [00:00<?, ?tasks/s]"
      ]
     },
     "metadata": {},
     "output_type": "display_data"
    },
    {
     "data": {
      "application/vnd.jupyter.widget-view+json": {
       "model_id": "72ba173dc0134357b507040ed72cb7d8",
       "version_major": 2,
       "version_minor": 0
      },
      "text/plain": [
       "<lambda>:   0%|          | 0/4 [00:00<?, ?tasks/s]"
      ]
     },
     "metadata": {},
     "output_type": "display_data"
    },
    {
     "data": {
      "application/vnd.jupyter.widget-view+json": {
       "model_id": "d46937adb9b541c2bed8927592dfa34d",
       "version_major": 2,
       "version_minor": 0
      },
      "text/plain": [
       "sci_respone:   0%|          | 0/4 [00:00<?, ?tasks/s]"
      ]
     },
     "metadata": {},
     "output_type": "display_data"
    },
    {
     "data": {
      "application/vnd.jupyter.widget-view+json": {
       "model_id": "0abbcbfbfa6644e2b33c540771294f9d",
       "version_major": 2,
       "version_minor": 0
      },
      "text/plain": [
       "sci_respone:   0%|          | 0/4 [00:00<?, ?tasks/s]"
      ]
     },
     "metadata": {},
     "output_type": "display_data"
    },
    {
     "data": {
      "application/vnd.jupyter.widget-view+json": {
       "model_id": "c0efa459bc4646258da7aa79d4f09fdd",
       "version_major": 2,
       "version_minor": 0
      },
      "text/plain": [
       "sci_respone:   0%|          | 0/4 [00:00<?, ?tasks/s]"
      ]
     },
     "metadata": {},
     "output_type": "display_data"
    },
    {
     "data": {
      "application/vnd.jupyter.widget-view+json": {
       "model_id": "403001e4bf5d429ab2e90cc3f9c6fdbe",
       "version_major": 2,
       "version_minor": 0
      },
      "text/plain": [
       "sci_respone:   0%|          | 0/4 [00:00<?, ?tasks/s]"
      ]
     },
     "metadata": {},
     "output_type": "display_data"
    },
    {
     "data": {
      "application/vnd.jupyter.widget-view+json": {
       "model_id": "35a0500405fd4452abb4a352043b7d62",
       "version_major": 2,
       "version_minor": 0
      },
      "text/plain": [
       "sci_respone:   0%|          | 0/4 [00:00<?, ?tasks/s]"
      ]
     },
     "metadata": {},
     "output_type": "display_data"
    },
    {
     "data": {
      "application/vnd.jupyter.widget-view+json": {
       "model_id": "653ed36be79344ebbddc2e3bdd48e8d2",
       "version_major": 2,
       "version_minor": 0
      },
      "text/plain": [
       "sci_respone:   0%|          | 0/4 [00:00<?, ?tasks/s]"
      ]
     },
     "metadata": {},
     "output_type": "display_data"
    },
    {
     "data": {
      "application/vnd.jupyter.widget-view+json": {
       "model_id": "207f3d028a614732b21bfbfe76a8cd67",
       "version_major": 2,
       "version_minor": 0
      },
      "text/plain": [
       "sci_respone:   0%|          | 0/4 [00:00<?, ?tasks/s]"
      ]
     },
     "metadata": {},
     "output_type": "display_data"
    },
    {
     "data": {
      "application/vnd.jupyter.widget-view+json": {
       "model_id": "52a4747e90084614a2c4554e5c7c0b06",
       "version_major": 2,
       "version_minor": 0
      },
      "text/plain": [
       "sci_respone:   0%|          | 0/4 [00:00<?, ?tasks/s]"
      ]
     },
     "metadata": {},
     "output_type": "display_data"
    },
    {
     "data": {
      "application/vnd.jupyter.widget-view+json": {
       "model_id": "3a1fbea6e0f64804ae6b48ed81f93f54",
       "version_major": 2,
       "version_minor": 0
      },
      "text/plain": [
       "sci_respone:   0%|          | 0/4 [00:00<?, ?tasks/s]"
      ]
     },
     "metadata": {},
     "output_type": "display_data"
    },
    {
     "data": {
      "application/vnd.jupyter.widget-view+json": {
       "model_id": "ee7dccbf9b2b4c8b9967ff5017bdd8a3",
       "version_major": 2,
       "version_minor": 0
      },
      "text/plain": [
       "sci_respone:   0%|          | 0/4 [00:00<?, ?tasks/s]"
      ]
     },
     "metadata": {},
     "output_type": "display_data"
    },
    {
     "data": {
      "application/vnd.jupyter.widget-view+json": {
       "model_id": "2c8d2ae4ed9940e195e8afff5e89f9ed",
       "version_major": 2,
       "version_minor": 0
      },
      "text/plain": [
       "sci_respone:   0%|          | 0/4 [00:00<?, ?tasks/s]"
      ]
     },
     "metadata": {},
     "output_type": "display_data"
    },
    {
     "data": {
      "application/vnd.jupyter.widget-view+json": {
       "model_id": "3684552faa5f49ce92949e765d9ce2e9",
       "version_major": 2,
       "version_minor": 0
      },
      "text/plain": [
       "sci_respone:   0%|          | 0/4 [00:00<?, ?tasks/s]"
      ]
     },
     "metadata": {},
     "output_type": "display_data"
    },
    {
     "data": {
      "application/vnd.jupyter.widget-view+json": {
       "model_id": "8e73c43dd57f47f3b41cb0d9b62821a0",
       "version_major": 2,
       "version_minor": 0
      },
      "text/plain": [
       "sci_respone:   0%|          | 0/4 [00:00<?, ?tasks/s]"
      ]
     },
     "metadata": {},
     "output_type": "display_data"
    },
    {
     "data": {
      "application/vnd.jupyter.widget-view+json": {
       "model_id": "e4fb453973d746c7bfeca5f046e0ba4e",
       "version_major": 2,
       "version_minor": 0
      },
      "text/plain": [
       "sci_respone:   0%|          | 0/4 [00:00<?, ?tasks/s]"
      ]
     },
     "metadata": {},
     "output_type": "display_data"
    },
    {
     "data": {
      "application/vnd.jupyter.widget-view+json": {
       "model_id": "de3c12bcef8f435db622320669e10cb2",
       "version_major": 2,
       "version_minor": 0
      },
      "text/plain": [
       "sci_respone:   0%|          | 0/4 [00:00<?, ?tasks/s]"
      ]
     },
     "metadata": {},
     "output_type": "display_data"
    },
    {
     "data": {
      "application/vnd.jupyter.widget-view+json": {
       "model_id": "bd4cd24d8dfd4442abfd29cc411e86a4",
       "version_major": 2,
       "version_minor": 0
      },
      "text/plain": [
       "sci_respone:   0%|          | 0/4 [00:00<?, ?tasks/s]"
      ]
     },
     "metadata": {},
     "output_type": "display_data"
    },
    {
     "data": {
      "application/vnd.jupyter.widget-view+json": {
       "model_id": "d3d2195951db4d9d881dbd04395539a8",
       "version_major": 2,
       "version_minor": 0
      },
      "text/plain": [
       "sci_respone:   0%|          | 0/4 [00:00<?, ?tasks/s]"
      ]
     },
     "metadata": {},
     "output_type": "display_data"
    },
    {
     "data": {
      "application/vnd.jupyter.widget-view+json": {
       "model_id": "360abaaf04b94c5995bb58ff0600d3db",
       "version_major": 2,
       "version_minor": 0
      },
      "text/plain": [
       "sci_respone:   0%|          | 0/4 [00:00<?, ?tasks/s]"
      ]
     },
     "metadata": {},
     "output_type": "display_data"
    },
    {
     "data": {
      "application/vnd.jupyter.widget-view+json": {
       "model_id": "16e6306c5d6b4cb2bb4a31fc325f1cbc",
       "version_major": 2,
       "version_minor": 0
      },
      "text/plain": [
       "sci_respone:   0%|          | 0/4 [00:00<?, ?tasks/s]"
      ]
     },
     "metadata": {},
     "output_type": "display_data"
    },
    {
     "data": {
      "application/vnd.jupyter.widget-view+json": {
       "model_id": "06c2279318274b65b6193e4a275e3ed6",
       "version_major": 2,
       "version_minor": 0
      },
      "text/plain": [
       "sci_respone:   0%|          | 0/4 [00:00<?, ?tasks/s]"
      ]
     },
     "metadata": {},
     "output_type": "display_data"
    },
    {
     "data": {
      "application/vnd.jupyter.widget-view+json": {
       "model_id": "541f330dcea848e1b8fafbcb608fa6f9",
       "version_major": 2,
       "version_minor": 0
      },
      "text/plain": [
       "sci_respone:   0%|          | 0/4 [00:00<?, ?tasks/s]"
      ]
     },
     "metadata": {},
     "output_type": "display_data"
    },
    {
     "data": {
      "application/vnd.jupyter.widget-view+json": {
       "model_id": "063229b78b79431a829089eae6cb6b21",
       "version_major": 2,
       "version_minor": 0
      },
      "text/plain": [
       "sci_respone:   0%|          | 0/4 [00:00<?, ?tasks/s]"
      ]
     },
     "metadata": {},
     "output_type": "display_data"
    },
    {
     "data": {
      "application/vnd.jupyter.widget-view+json": {
       "model_id": "7dedd797c87049b9b7a2bc74e5775b9b",
       "version_major": 2,
       "version_minor": 0
      },
      "text/plain": [
       "sci_respone:   0%|          | 0/4 [00:00<?, ?tasks/s]"
      ]
     },
     "metadata": {},
     "output_type": "display_data"
    },
    {
     "data": {
      "application/vnd.jupyter.widget-view+json": {
       "model_id": "1187fa837d1346809b4544b3feb22e9c",
       "version_major": 2,
       "version_minor": 0
      },
      "text/plain": [
       "sci_respone:   0%|          | 0/4 [00:00<?, ?tasks/s]"
      ]
     },
     "metadata": {},
     "output_type": "display_data"
    },
    {
     "data": {
      "application/vnd.jupyter.widget-view+json": {
       "model_id": "e27a2251e038443a90c2b6608daafb39",
       "version_major": 2,
       "version_minor": 0
      },
      "text/plain": [
       "sci_respone:   0%|          | 0/4 [00:00<?, ?tasks/s]"
      ]
     },
     "metadata": {},
     "output_type": "display_data"
    },
    {
     "data": {
      "application/vnd.jupyter.widget-view+json": {
       "model_id": "d2ee82319cb749c588e32c1e30eb3bd9",
       "version_major": 2,
       "version_minor": 0
      },
      "text/plain": [
       "sci_respone:   0%|          | 0/4 [00:00<?, ?tasks/s]"
      ]
     },
     "metadata": {},
     "output_type": "display_data"
    },
    {
     "data": {
      "application/vnd.jupyter.widget-view+json": {
       "model_id": "c6445cd7fee942f18ca328672bbfc362",
       "version_major": 2,
       "version_minor": 0
      },
      "text/plain": [
       "sci_respone:   0%|          | 0/4 [00:00<?, ?tasks/s]"
      ]
     },
     "metadata": {},
     "output_type": "display_data"
    },
    {
     "data": {
      "application/vnd.jupyter.widget-view+json": {
       "model_id": "45e5395afcd744cfbc7b36ae4a371f3b",
       "version_major": 2,
       "version_minor": 0
      },
      "text/plain": [
       "sci_respone:   0%|          | 0/4 [00:00<?, ?tasks/s]"
      ]
     },
     "metadata": {},
     "output_type": "display_data"
    },
    {
     "data": {
      "application/vnd.jupyter.widget-view+json": {
       "model_id": "f20998bf97ff401cab7edd9bc4e4266a",
       "version_major": 2,
       "version_minor": 0
      },
      "text/plain": [
       "sci_respone:   0%|          | 0/4 [00:00<?, ?tasks/s]"
      ]
     },
     "metadata": {},
     "output_type": "display_data"
    },
    {
     "data": {
      "application/vnd.jupyter.widget-view+json": {
       "model_id": "7cde24f81e634576835e80223fc4af88",
       "version_major": 2,
       "version_minor": 0
      },
      "text/plain": [
       "sci_respone:   0%|          | 0/4 [00:00<?, ?tasks/s]"
      ]
     },
     "metadata": {},
     "output_type": "display_data"
    },
    {
     "name": "stdout",
     "output_type": "stream",
     "text": [
      "Stopping engine(s): 1712267656\n",
      "engine set stopped 1712267656: {'engines': {'0': {'exit_code': 1, 'pid': 12256, 'identifier': '0'}, '1': {'exit_code': 1, 'pid': 4784, 'identifier': '1'}, '2': {'exit_code': 1, 'pid': 11776, 'identifier': '2'}, '3': {'exit_code': 1, 'pid': 6500, 'identifier': '3'}}, 'exit_code': 1}\n",
      "Stopping controller\n",
      "Controller stopped: {'exit_code': 1, 'pid': 11724, 'identifier': 'ipcontroller-1712267655-g604-5776'}\n"
     ]
    }
   ],
   "source": [
    "vsm.parallel_sci(dataset.query_vectors, dc=4)"
   ]
  }
 ],
 "metadata": {
  "interpreter": {
   "hash": "31f2aee4e71d21fbe5cf8b01ff0e069b9275f58929596ceb00d14d90e3e16cd6"
  },
  "kernelspec": {
   "display_name": "Python 3.8.10 64-bit",
   "language": "python",
   "name": "python3"
  },
  "language_info": {
   "codemirror_mode": {
    "name": "ipython",
    "version": 3
   },
   "file_extension": ".py",
   "mimetype": "text/x-python",
   "name": "python",
   "nbconvert_exporter": "python",
   "pygments_lexer": "ipython3",
   "version": "3.10.13"
  },
  "orig_nbformat": 4
 },
 "nbformat": 4,
 "nbformat_minor": 2
}
