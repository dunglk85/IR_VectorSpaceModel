{
 "cells": [
  {
   "cell_type": "code",
   "execution_count": 1,
   "metadata": {
    "pycharm": {
     "is_executing": true,
     "name": "#%%\n"
    }
   },
   "outputs": [],
   "source": [
    "from load_data_json import LoadDataset \n",
    "from preprocess import VectorSpaceModel\n",
    "import numpy as np\n",
    "import time\n",
    "from sklearn.decomposition import TruncatedSVD\n",
    "from scipy.sparse.linalg import svds, eigsh"
   ]
  },
  {
   "cell_type": "markdown",
   "metadata": {
    "pycharm": {
     "name": "#%% md\n"
    }
   },
   "source": [
    "## Load the dataset\n",
    "Functions to load the dataset and the given queries with associated relevant documents."
   ]
  },
  {
   "cell_type": "code",
   "execution_count": 2,
   "metadata": {
    "pycharm": {
     "name": "#%%\n"
    }
   },
   "outputs": [],
   "source": [
    "dataset = LoadDataset(\"./data/med/med.json\", \"./data/med/queries.json\", \"./data/med/qrels-treceval.txt\")"
   ]
  },
  {
   "cell_type": "code",
   "execution_count": 3,
   "metadata": {},
   "outputs": [
    {
     "data": {
      "text/plain": [
       "(13004, 30)"
      ]
     },
     "execution_count": 3,
     "metadata": {},
     "output_type": "execute_result"
    }
   ],
   "source": [
    "dataset.query_vectors.shape"
   ]
  },
  {
   "cell_type": "markdown",
   "metadata": {
    "pycharm": {
     "name": "#%% md\n"
    }
   },
   "source": [
    "# Vector Space Model ranked retrieval"
   ]
  },
  {
   "cell_type": "markdown",
   "metadata": {
    "pycharm": {
     "name": "#%% md\n"
    }
   },
   "source": [
    "Create the `vsm()` object."
   ]
  },
  {
   "cell_type": "code",
   "execution_count": 4,
   "metadata": {
    "pycharm": {
     "name": "#%%\n"
    }
   },
   "outputs": [],
   "source": [
    "vsm = VectorSpaceModel(dataset.doc_matrix)"
   ]
  },
  {
   "cell_type": "code",
   "execution_count": 5,
   "metadata": {},
   "outputs": [],
   "source": [
    "alpha, beta, q, a = vsm.preprocess(300)"
   ]
  },
  {
   "cell_type": "code",
   "execution_count": 6,
   "metadata": {},
   "outputs": [],
   "source": [
    "scores = vsm.response(q, dataset.query_vectors[:,1])"
   ]
  },
  {
   "cell_type": "code",
   "execution_count": 7,
   "metadata": {},
   "outputs": [
    {
     "data": {
      "text/plain": [
       "array([ 0.01228272,  0.01328842,  0.17269913, ...,  0.03342836,\n",
       "       -0.00169948,  0.01223551])"
      ]
     },
     "execution_count": 7,
     "metadata": {},
     "output_type": "execute_result"
    }
   ],
   "source": [
    "scores = scores/np.sqrt(a)\n",
    "scores"
   ]
  },
  {
   "cell_type": "code",
   "execution_count": 8,
   "metadata": {},
   "outputs": [],
   "source": [
    "x = np.where(scores > -1.0)[0]"
   ]
  },
  {
   "cell_type": "code",
   "execution_count": 9,
   "metadata": {},
   "outputs": [
    {
     "data": {
      "text/plain": [
       "array([   0,    1,    2, ..., 1030, 1031, 1032], dtype=int64)"
      ]
     },
     "execution_count": 9,
     "metadata": {},
     "output_type": "execute_result"
    }
   ],
   "source": [
    "x"
   ]
  },
  {
   "cell_type": "code",
   "execution_count": 10,
   "metadata": {},
   "outputs": [],
   "source": [
    "parts = vsm.split_data(2)"
   ]
  },
  {
   "cell_type": "code",
   "execution_count": 11,
   "metadata": {},
   "outputs": [],
   "source": [
    "alpha1, beta1, q1, a1 = vsm.preprocess(100, parts[0])\n",
    "cos1 = vsm.response(q1, dataset.query_vectors[:,0],parts[0])\n",
    "cos1 = cos1/np.sqrt(a1)"
   ]
  },
  {
   "cell_type": "code",
   "execution_count": 12,
   "metadata": {},
   "outputs": [],
   "source": [
    "alpha2, beta2, q2, a2 = vsm.preprocess(100, parts[1])\n",
    "cos2 = vsm.response(q2, dataset.query_vectors[:,0],parts[1])\n",
    "cos2 = cos2/np.sqrt(a2)"
   ]
  },
  {
   "cell_type": "code",
   "execution_count": 13,
   "metadata": {},
   "outputs": [],
   "source": [
    "coses = [cos1, cos2]"
   ]
  },
  {
   "cell_type": "code",
   "execution_count": 14,
   "metadata": {},
   "outputs": [],
   "source": [
    "scores = np.full(1033, -1.0)\n",
    "for i, cos in enumerate(coses):\n",
    "    for ind , j in enumerate(parts[i]):\n",
    "        if scores[j] < cos[ind]:\n",
    "            scores[j] = cos[ind]"
   ]
  },
  {
   "cell_type": "code",
   "execution_count": 15,
   "metadata": {},
   "outputs": [
    {
     "data": {
      "text/plain": [
       "(1033,)"
      ]
     },
     "execution_count": 15,
     "metadata": {},
     "output_type": "execute_result"
    }
   ],
   "source": [
    "np.where(scores > -1.0)[0].shape"
   ]
  },
  {
   "cell_type": "code",
   "execution_count": 16,
   "metadata": {},
   "outputs": [
    {
     "name": "stdout",
     "output_type": "stream",
     "text": [
      "Starting 2 engines with <class 'ipyparallel.cluster.launcher.LocalEngineSetLauncher'>\n"
     ]
    },
    {
     "data": {
      "application/vnd.jupyter.widget-view+json": {
       "model_id": "595d0b9881884f38b52f64e36242a70e",
       "version_major": 2,
       "version_minor": 0
      },
      "text/plain": [
       "  0%|          | 0/2 [00:00<?, ?engine/s]"
      ]
     },
     "metadata": {},
     "output_type": "display_data"
    },
    {
     "data": {
      "application/vnd.jupyter.widget-view+json": {
       "model_id": "6372dea4d1cd402583e42ec8d787e49a",
       "version_major": 2,
       "version_minor": 0
      },
      "text/plain": [
       "<lambda>:   0%|          | 0/2 [00:00<?, ?tasks/s]"
      ]
     },
     "metadata": {},
     "output_type": "display_data"
    },
    {
     "data": {
      "application/vnd.jupyter.widget-view+json": {
       "model_id": "ce01d7db9e2447bd85249986db7d0ffd",
       "version_major": 2,
       "version_minor": 0
      },
      "text/plain": [
       "respone_wrapper:   0%|          | 0/2 [00:00<?, ?tasks/s]"
      ]
     },
     "metadata": {},
     "output_type": "display_data"
    },
    {
     "data": {
      "application/vnd.jupyter.widget-view+json": {
       "model_id": "c9ed88d2752b41bb9ad98fd15a4d918b",
       "version_major": 2,
       "version_minor": 0
      },
      "text/plain": [
       "respone_wrapper:   0%|          | 0/2 [00:00<?, ?tasks/s]"
      ]
     },
     "metadata": {},
     "output_type": "display_data"
    },
    {
     "data": {
      "application/vnd.jupyter.widget-view+json": {
       "model_id": "fd1136ba403f47b3be3ad58efba8451d",
       "version_major": 2,
       "version_minor": 0
      },
      "text/plain": [
       "respone_wrapper:   0%|          | 0/2 [00:00<?, ?tasks/s]"
      ]
     },
     "metadata": {},
     "output_type": "display_data"
    },
    {
     "data": {
      "application/vnd.jupyter.widget-view+json": {
       "model_id": "b767c4652a574eb2951e1748996011e4",
       "version_major": 2,
       "version_minor": 0
      },
      "text/plain": [
       "respone_wrapper:   0%|          | 0/2 [00:00<?, ?tasks/s]"
      ]
     },
     "metadata": {},
     "output_type": "display_data"
    },
    {
     "data": {
      "application/vnd.jupyter.widget-view+json": {
       "model_id": "2c69e483582e4fca93eb89035317d120",
       "version_major": 2,
       "version_minor": 0
      },
      "text/plain": [
       "respone_wrapper:   0%|          | 0/2 [00:00<?, ?tasks/s]"
      ]
     },
     "metadata": {},
     "output_type": "display_data"
    },
    {
     "data": {
      "application/vnd.jupyter.widget-view+json": {
       "model_id": "c8623fcfe1d54f42a9de82b09c19d82d",
       "version_major": 2,
       "version_minor": 0
      },
      "text/plain": [
       "respone_wrapper:   0%|          | 0/2 [00:00<?, ?tasks/s]"
      ]
     },
     "metadata": {},
     "output_type": "display_data"
    },
    {
     "data": {
      "application/vnd.jupyter.widget-view+json": {
       "model_id": "369c917159a34d1da94045f76f1e8ffd",
       "version_major": 2,
       "version_minor": 0
      },
      "text/plain": [
       "respone_wrapper:   0%|          | 0/2 [00:00<?, ?tasks/s]"
      ]
     },
     "metadata": {},
     "output_type": "display_data"
    },
    {
     "data": {
      "application/vnd.jupyter.widget-view+json": {
       "model_id": "8ee7596b4ede4f0694da50516d106323",
       "version_major": 2,
       "version_minor": 0
      },
      "text/plain": [
       "respone_wrapper:   0%|          | 0/2 [00:00<?, ?tasks/s]"
      ]
     },
     "metadata": {},
     "output_type": "display_data"
    },
    {
     "data": {
      "application/vnd.jupyter.widget-view+json": {
       "model_id": "42dec85b7a13434abe29c7ae9f84c1a0",
       "version_major": 2,
       "version_minor": 0
      },
      "text/plain": [
       "respone_wrapper:   0%|          | 0/2 [00:00<?, ?tasks/s]"
      ]
     },
     "metadata": {},
     "output_type": "display_data"
    },
    {
     "data": {
      "application/vnd.jupyter.widget-view+json": {
       "model_id": "afe4ab8d7b084481ac172ce6644ea111",
       "version_major": 2,
       "version_minor": 0
      },
      "text/plain": [
       "respone_wrapper:   0%|          | 0/2 [00:00<?, ?tasks/s]"
      ]
     },
     "metadata": {},
     "output_type": "display_data"
    },
    {
     "data": {
      "application/vnd.jupyter.widget-view+json": {
       "model_id": "3182ad1d0b734430bfac062d829e190e",
       "version_major": 2,
       "version_minor": 0
      },
      "text/plain": [
       "respone_wrapper:   0%|          | 0/2 [00:00<?, ?tasks/s]"
      ]
     },
     "metadata": {},
     "output_type": "display_data"
    },
    {
     "data": {
      "application/vnd.jupyter.widget-view+json": {
       "model_id": "dbeb2eed9bd94f54a537a507014cef65",
       "version_major": 2,
       "version_minor": 0
      },
      "text/plain": [
       "respone_wrapper:   0%|          | 0/2 [00:00<?, ?tasks/s]"
      ]
     },
     "metadata": {},
     "output_type": "display_data"
    },
    {
     "data": {
      "application/vnd.jupyter.widget-view+json": {
       "model_id": "b0db953db747460188cecb5540203235",
       "version_major": 2,
       "version_minor": 0
      },
      "text/plain": [
       "respone_wrapper:   0%|          | 0/2 [00:00<?, ?tasks/s]"
      ]
     },
     "metadata": {},
     "output_type": "display_data"
    },
    {
     "data": {
      "application/vnd.jupyter.widget-view+json": {
       "model_id": "99959bf1eae64f11b8d1589f8be5f774",
       "version_major": 2,
       "version_minor": 0
      },
      "text/plain": [
       "respone_wrapper:   0%|          | 0/2 [00:00<?, ?tasks/s]"
      ]
     },
     "metadata": {},
     "output_type": "display_data"
    },
    {
     "data": {
      "application/vnd.jupyter.widget-view+json": {
       "model_id": "f744912b66d0433db4de46c1a005197e",
       "version_major": 2,
       "version_minor": 0
      },
      "text/plain": [
       "respone_wrapper:   0%|          | 0/2 [00:00<?, ?tasks/s]"
      ]
     },
     "metadata": {},
     "output_type": "display_data"
    },
    {
     "data": {
      "application/vnd.jupyter.widget-view+json": {
       "model_id": "8813f992b922411295581b1b350a2c78",
       "version_major": 2,
       "version_minor": 0
      },
      "text/plain": [
       "respone_wrapper:   0%|          | 0/2 [00:00<?, ?tasks/s]"
      ]
     },
     "metadata": {},
     "output_type": "display_data"
    },
    {
     "data": {
      "application/vnd.jupyter.widget-view+json": {
       "model_id": "241e4cb7b9194ef0a00fb7dc045c9d8c",
       "version_major": 2,
       "version_minor": 0
      },
      "text/plain": [
       "respone_wrapper:   0%|          | 0/2 [00:00<?, ?tasks/s]"
      ]
     },
     "metadata": {},
     "output_type": "display_data"
    },
    {
     "data": {
      "application/vnd.jupyter.widget-view+json": {
       "model_id": "c121132beb444ee4a9ecb312ac4e8e5b",
       "version_major": 2,
       "version_minor": 0
      },
      "text/plain": [
       "respone_wrapper:   0%|          | 0/2 [00:00<?, ?tasks/s]"
      ]
     },
     "metadata": {},
     "output_type": "display_data"
    },
    {
     "data": {
      "application/vnd.jupyter.widget-view+json": {
       "model_id": "204d203cf74740158eca1638c4055851",
       "version_major": 2,
       "version_minor": 0
      },
      "text/plain": [
       "respone_wrapper:   0%|          | 0/2 [00:00<?, ?tasks/s]"
      ]
     },
     "metadata": {},
     "output_type": "display_data"
    },
    {
     "data": {
      "application/vnd.jupyter.widget-view+json": {
       "model_id": "daaa87140be44c38928760d31fbc06ed",
       "version_major": 2,
       "version_minor": 0
      },
      "text/plain": [
       "respone_wrapper:   0%|          | 0/2 [00:00<?, ?tasks/s]"
      ]
     },
     "metadata": {},
     "output_type": "display_data"
    },
    {
     "data": {
      "application/vnd.jupyter.widget-view+json": {
       "model_id": "221bc26acbdc4eefa5c597dbc7897f36",
       "version_major": 2,
       "version_minor": 0
      },
      "text/plain": [
       "respone_wrapper:   0%|          | 0/2 [00:00<?, ?tasks/s]"
      ]
     },
     "metadata": {},
     "output_type": "display_data"
    },
    {
     "data": {
      "application/vnd.jupyter.widget-view+json": {
       "model_id": "941b946217bc47bda1780511010c9087",
       "version_major": 2,
       "version_minor": 0
      },
      "text/plain": [
       "respone_wrapper:   0%|          | 0/2 [00:00<?, ?tasks/s]"
      ]
     },
     "metadata": {},
     "output_type": "display_data"
    },
    {
     "data": {
      "application/vnd.jupyter.widget-view+json": {
       "model_id": "d4430597c1e04e19824d34a024198e1b",
       "version_major": 2,
       "version_minor": 0
      },
      "text/plain": [
       "respone_wrapper:   0%|          | 0/2 [00:00<?, ?tasks/s]"
      ]
     },
     "metadata": {},
     "output_type": "display_data"
    },
    {
     "data": {
      "application/vnd.jupyter.widget-view+json": {
       "model_id": "7d8bee950de64803aa457e8898a3f41e",
       "version_major": 2,
       "version_minor": 0
      },
      "text/plain": [
       "respone_wrapper:   0%|          | 0/2 [00:00<?, ?tasks/s]"
      ]
     },
     "metadata": {},
     "output_type": "display_data"
    },
    {
     "data": {
      "application/vnd.jupyter.widget-view+json": {
       "model_id": "64c4fa43e76644a3940bccdce9006b0f",
       "version_major": 2,
       "version_minor": 0
      },
      "text/plain": [
       "respone_wrapper:   0%|          | 0/2 [00:00<?, ?tasks/s]"
      ]
     },
     "metadata": {},
     "output_type": "display_data"
    },
    {
     "data": {
      "application/vnd.jupyter.widget-view+json": {
       "model_id": "ee41ddd389e042b7b9221c707817acbc",
       "version_major": 2,
       "version_minor": 0
      },
      "text/plain": [
       "respone_wrapper:   0%|          | 0/2 [00:00<?, ?tasks/s]"
      ]
     },
     "metadata": {},
     "output_type": "display_data"
    },
    {
     "data": {
      "application/vnd.jupyter.widget-view+json": {
       "model_id": "cb2b30e02798428780dc4b8413c0f1fa",
       "version_major": 2,
       "version_minor": 0
      },
      "text/plain": [
       "respone_wrapper:   0%|          | 0/2 [00:00<?, ?tasks/s]"
      ]
     },
     "metadata": {},
     "output_type": "display_data"
    },
    {
     "data": {
      "application/vnd.jupyter.widget-view+json": {
       "model_id": "42c805dae91e49d895859d7a1ba0a39c",
       "version_major": 2,
       "version_minor": 0
      },
      "text/plain": [
       "respone_wrapper:   0%|          | 0/2 [00:00<?, ?tasks/s]"
      ]
     },
     "metadata": {},
     "output_type": "display_data"
    },
    {
     "data": {
      "application/vnd.jupyter.widget-view+json": {
       "model_id": "58ef354fe13d45ddb9e8dc4afc2548c5",
       "version_major": 2,
       "version_minor": 0
      },
      "text/plain": [
       "respone_wrapper:   0%|          | 0/2 [00:00<?, ?tasks/s]"
      ]
     },
     "metadata": {},
     "output_type": "display_data"
    },
    {
     "data": {
      "application/vnd.jupyter.widget-view+json": {
       "model_id": "b3602e4f3430451e869951403ab71ced",
       "version_major": 2,
       "version_minor": 0
      },
      "text/plain": [
       "respone_wrapper:   0%|          | 0/2 [00:00<?, ?tasks/s]"
      ]
     },
     "metadata": {},
     "output_type": "display_data"
    },
    {
     "data": {
      "application/vnd.jupyter.widget-view+json": {
       "model_id": "d077a010bedd442e88e2a43e1b4909c0",
       "version_major": 2,
       "version_minor": 0
      },
      "text/plain": [
       "<lambda>:   0%|          | 0/2 [00:00<?, ?tasks/s]"
      ]
     },
     "metadata": {},
     "output_type": "display_data"
    },
    {
     "data": {
      "application/vnd.jupyter.widget-view+json": {
       "model_id": "b93c8279be9a4bd891854fb7052f4419",
       "version_major": 2,
       "version_minor": 0
      },
      "text/plain": [
       "respone_wrapper:   0%|          | 0/2 [00:00<?, ?tasks/s]"
      ]
     },
     "metadata": {},
     "output_type": "display_data"
    },
    {
     "data": {
      "application/vnd.jupyter.widget-view+json": {
       "model_id": "425819e3905d48a48b9b960c62e9ed6f",
       "version_major": 2,
       "version_minor": 0
      },
      "text/plain": [
       "respone_wrapper:   0%|          | 0/2 [00:00<?, ?tasks/s]"
      ]
     },
     "metadata": {},
     "output_type": "display_data"
    },
    {
     "data": {
      "application/vnd.jupyter.widget-view+json": {
       "model_id": "25079d0ea1a84999b6a5cf99e9e41fe3",
       "version_major": 2,
       "version_minor": 0
      },
      "text/plain": [
       "respone_wrapper:   0%|          | 0/2 [00:00<?, ?tasks/s]"
      ]
     },
     "metadata": {},
     "output_type": "display_data"
    },
    {
     "data": {
      "application/vnd.jupyter.widget-view+json": {
       "model_id": "1b8e1a6b36874f9fa0a76a188b5739df",
       "version_major": 2,
       "version_minor": 0
      },
      "text/plain": [
       "respone_wrapper:   0%|          | 0/2 [00:00<?, ?tasks/s]"
      ]
     },
     "metadata": {},
     "output_type": "display_data"
    },
    {
     "data": {
      "application/vnd.jupyter.widget-view+json": {
       "model_id": "387013ff890a4f16bbc189d8954972f1",
       "version_major": 2,
       "version_minor": 0
      },
      "text/plain": [
       "respone_wrapper:   0%|          | 0/2 [00:00<?, ?tasks/s]"
      ]
     },
     "metadata": {},
     "output_type": "display_data"
    },
    {
     "data": {
      "application/vnd.jupyter.widget-view+json": {
       "model_id": "44cc41a0100440d284b682efe5023080",
       "version_major": 2,
       "version_minor": 0
      },
      "text/plain": [
       "respone_wrapper:   0%|          | 0/2 [00:00<?, ?tasks/s]"
      ]
     },
     "metadata": {},
     "output_type": "display_data"
    },
    {
     "data": {
      "application/vnd.jupyter.widget-view+json": {
       "model_id": "5b3adaa147a746ce807c21bc94cf83c2",
       "version_major": 2,
       "version_minor": 0
      },
      "text/plain": [
       "respone_wrapper:   0%|          | 0/2 [00:00<?, ?tasks/s]"
      ]
     },
     "metadata": {},
     "output_type": "display_data"
    },
    {
     "data": {
      "application/vnd.jupyter.widget-view+json": {
       "model_id": "9af5079c4fa24a06b2135d41e4ec2ca9",
       "version_major": 2,
       "version_minor": 0
      },
      "text/plain": [
       "respone_wrapper:   0%|          | 0/2 [00:00<?, ?tasks/s]"
      ]
     },
     "metadata": {},
     "output_type": "display_data"
    },
    {
     "data": {
      "application/vnd.jupyter.widget-view+json": {
       "model_id": "e4b91ce356fd48cba72f0f341bf3a660",
       "version_major": 2,
       "version_minor": 0
      },
      "text/plain": [
       "respone_wrapper:   0%|          | 0/2 [00:00<?, ?tasks/s]"
      ]
     },
     "metadata": {},
     "output_type": "display_data"
    },
    {
     "data": {
      "application/vnd.jupyter.widget-view+json": {
       "model_id": "4c67832a8209476fa36781c4db0c869d",
       "version_major": 2,
       "version_minor": 0
      },
      "text/plain": [
       "respone_wrapper:   0%|          | 0/2 [00:00<?, ?tasks/s]"
      ]
     },
     "metadata": {},
     "output_type": "display_data"
    },
    {
     "data": {
      "application/vnd.jupyter.widget-view+json": {
       "model_id": "752f30067cb64cd882b74a50693c2e48",
       "version_major": 2,
       "version_minor": 0
      },
      "text/plain": [
       "respone_wrapper:   0%|          | 0/2 [00:00<?, ?tasks/s]"
      ]
     },
     "metadata": {},
     "output_type": "display_data"
    },
    {
     "data": {
      "application/vnd.jupyter.widget-view+json": {
       "model_id": "27ad001e4a3b44008f74cc81605ebece",
       "version_major": 2,
       "version_minor": 0
      },
      "text/plain": [
       "respone_wrapper:   0%|          | 0/2 [00:00<?, ?tasks/s]"
      ]
     },
     "metadata": {},
     "output_type": "display_data"
    },
    {
     "data": {
      "application/vnd.jupyter.widget-view+json": {
       "model_id": "e30bd32d52e348f5ad3cc0efe9c146af",
       "version_major": 2,
       "version_minor": 0
      },
      "text/plain": [
       "respone_wrapper:   0%|          | 0/2 [00:00<?, ?tasks/s]"
      ]
     },
     "metadata": {},
     "output_type": "display_data"
    },
    {
     "data": {
      "application/vnd.jupyter.widget-view+json": {
       "model_id": "f54a2d164a1f4cd28e1519892fcef545",
       "version_major": 2,
       "version_minor": 0
      },
      "text/plain": [
       "respone_wrapper:   0%|          | 0/2 [00:00<?, ?tasks/s]"
      ]
     },
     "metadata": {},
     "output_type": "display_data"
    },
    {
     "data": {
      "application/vnd.jupyter.widget-view+json": {
       "model_id": "1918eae05c924066aa6b06377168a247",
       "version_major": 2,
       "version_minor": 0
      },
      "text/plain": [
       "respone_wrapper:   0%|          | 0/2 [00:00<?, ?tasks/s]"
      ]
     },
     "metadata": {},
     "output_type": "display_data"
    },
    {
     "data": {
      "application/vnd.jupyter.widget-view+json": {
       "model_id": "10ed9ad0a7ed4571b4c2dd9c9b23998b",
       "version_major": 2,
       "version_minor": 0
      },
      "text/plain": [
       "respone_wrapper:   0%|          | 0/2 [00:00<?, ?tasks/s]"
      ]
     },
     "metadata": {},
     "output_type": "display_data"
    },
    {
     "data": {
      "application/vnd.jupyter.widget-view+json": {
       "model_id": "54090387e6bd46458c43ade119f6da2b",
       "version_major": 2,
       "version_minor": 0
      },
      "text/plain": [
       "respone_wrapper:   0%|          | 0/2 [00:00<?, ?tasks/s]"
      ]
     },
     "metadata": {},
     "output_type": "display_data"
    },
    {
     "data": {
      "application/vnd.jupyter.widget-view+json": {
       "model_id": "d495d9bc043e45bc8b2bcfaf67f95b23",
       "version_major": 2,
       "version_minor": 0
      },
      "text/plain": [
       "respone_wrapper:   0%|          | 0/2 [00:00<?, ?tasks/s]"
      ]
     },
     "metadata": {},
     "output_type": "display_data"
    },
    {
     "data": {
      "application/vnd.jupyter.widget-view+json": {
       "model_id": "be84416427494fc99ad8c2c1796d530e",
       "version_major": 2,
       "version_minor": 0
      },
      "text/plain": [
       "respone_wrapper:   0%|          | 0/2 [00:00<?, ?tasks/s]"
      ]
     },
     "metadata": {},
     "output_type": "display_data"
    },
    {
     "data": {
      "application/vnd.jupyter.widget-view+json": {
       "model_id": "92eccebf1966416cbbd2c3e3162686f0",
       "version_major": 2,
       "version_minor": 0
      },
      "text/plain": [
       "respone_wrapper:   0%|          | 0/2 [00:00<?, ?tasks/s]"
      ]
     },
     "metadata": {},
     "output_type": "display_data"
    },
    {
     "data": {
      "application/vnd.jupyter.widget-view+json": {
       "model_id": "64b67d3fcc89499db442c3f80becdcfe",
       "version_major": 2,
       "version_minor": 0
      },
      "text/plain": [
       "respone_wrapper:   0%|          | 0/2 [00:00<?, ?tasks/s]"
      ]
     },
     "metadata": {},
     "output_type": "display_data"
    },
    {
     "data": {
      "application/vnd.jupyter.widget-view+json": {
       "model_id": "f17f276bdd2242fbad319d3400211490",
       "version_major": 2,
       "version_minor": 0
      },
      "text/plain": [
       "respone_wrapper:   0%|          | 0/2 [00:00<?, ?tasks/s]"
      ]
     },
     "metadata": {},
     "output_type": "display_data"
    },
    {
     "data": {
      "application/vnd.jupyter.widget-view+json": {
       "model_id": "46627441d5b1418fbfa99ea8803f76ac",
       "version_major": 2,
       "version_minor": 0
      },
      "text/plain": [
       "respone_wrapper:   0%|          | 0/2 [00:00<?, ?tasks/s]"
      ]
     },
     "metadata": {},
     "output_type": "display_data"
    },
    {
     "data": {
      "application/vnd.jupyter.widget-view+json": {
       "model_id": "1e672d59358c428a8fca188f349cda8c",
       "version_major": 2,
       "version_minor": 0
      },
      "text/plain": [
       "respone_wrapper:   0%|          | 0/2 [00:00<?, ?tasks/s]"
      ]
     },
     "metadata": {},
     "output_type": "display_data"
    },
    {
     "data": {
      "application/vnd.jupyter.widget-view+json": {
       "model_id": "b4728c7b3497469490d2fff11e83f173",
       "version_major": 2,
       "version_minor": 0
      },
      "text/plain": [
       "respone_wrapper:   0%|          | 0/2 [00:00<?, ?tasks/s]"
      ]
     },
     "metadata": {},
     "output_type": "display_data"
    },
    {
     "data": {
      "application/vnd.jupyter.widget-view+json": {
       "model_id": "dd9c38af09274989a0b150ea26ff3e73",
       "version_major": 2,
       "version_minor": 0
      },
      "text/plain": [
       "respone_wrapper:   0%|          | 0/2 [00:00<?, ?tasks/s]"
      ]
     },
     "metadata": {},
     "output_type": "display_data"
    },
    {
     "data": {
      "application/vnd.jupyter.widget-view+json": {
       "model_id": "122c31907ccf4133b001cc405c330ed2",
       "version_major": 2,
       "version_minor": 0
      },
      "text/plain": [
       "respone_wrapper:   0%|          | 0/2 [00:00<?, ?tasks/s]"
      ]
     },
     "metadata": {},
     "output_type": "display_data"
    },
    {
     "data": {
      "application/vnd.jupyter.widget-view+json": {
       "model_id": "1fddf29b9a9d4c1d9f2ddc899a997c62",
       "version_major": 2,
       "version_minor": 0
      },
      "text/plain": [
       "respone_wrapper:   0%|          | 0/2 [00:00<?, ?tasks/s]"
      ]
     },
     "metadata": {},
     "output_type": "display_data"
    },
    {
     "data": {
      "application/vnd.jupyter.widget-view+json": {
       "model_id": "a1cb0a80c2594233826fa80d0ada2b8d",
       "version_major": 2,
       "version_minor": 0
      },
      "text/plain": [
       "respone_wrapper:   0%|          | 0/2 [00:00<?, ?tasks/s]"
      ]
     },
     "metadata": {},
     "output_type": "display_data"
    },
    {
     "data": {
      "application/vnd.jupyter.widget-view+json": {
       "model_id": "51d8ae62261f48538f43e0e8b1c75cfa",
       "version_major": 2,
       "version_minor": 0
      },
      "text/plain": [
       "respone_wrapper:   0%|          | 0/2 [00:00<?, ?tasks/s]"
      ]
     },
     "metadata": {},
     "output_type": "display_data"
    },
    {
     "data": {
      "application/vnd.jupyter.widget-view+json": {
       "model_id": "4736993a78a9473fb48ed02b7c1a0d82",
       "version_major": 2,
       "version_minor": 0
      },
      "text/plain": [
       "<lambda>:   0%|          | 0/2 [00:00<?, ?tasks/s]"
      ]
     },
     "metadata": {},
     "output_type": "display_data"
    },
    {
     "data": {
      "application/vnd.jupyter.widget-view+json": {
       "model_id": "a7074b078b37450d893dbfc86203e74b",
       "version_major": 2,
       "version_minor": 0
      },
      "text/plain": [
       "respone_wrapper:   0%|          | 0/2 [00:00<?, ?tasks/s]"
      ]
     },
     "metadata": {},
     "output_type": "display_data"
    },
    {
     "data": {
      "application/vnd.jupyter.widget-view+json": {
       "model_id": "7e2b373b07494a7e9b977559c4ad4cdc",
       "version_major": 2,
       "version_minor": 0
      },
      "text/plain": [
       "respone_wrapper:   0%|          | 0/2 [00:00<?, ?tasks/s]"
      ]
     },
     "metadata": {},
     "output_type": "display_data"
    },
    {
     "data": {
      "application/vnd.jupyter.widget-view+json": {
       "model_id": "4863450700124bb6b09fde921a41a597",
       "version_major": 2,
       "version_minor": 0
      },
      "text/plain": [
       "respone_wrapper:   0%|          | 0/2 [00:00<?, ?tasks/s]"
      ]
     },
     "metadata": {},
     "output_type": "display_data"
    },
    {
     "data": {
      "application/vnd.jupyter.widget-view+json": {
       "model_id": "711ee2fa3b054da5b1fbdcee7bc83921",
       "version_major": 2,
       "version_minor": 0
      },
      "text/plain": [
       "respone_wrapper:   0%|          | 0/2 [00:00<?, ?tasks/s]"
      ]
     },
     "metadata": {},
     "output_type": "display_data"
    },
    {
     "data": {
      "application/vnd.jupyter.widget-view+json": {
       "model_id": "755be3c12a6241729e1c8e45d0a8d61d",
       "version_major": 2,
       "version_minor": 0
      },
      "text/plain": [
       "respone_wrapper:   0%|          | 0/2 [00:00<?, ?tasks/s]"
      ]
     },
     "metadata": {},
     "output_type": "display_data"
    },
    {
     "data": {
      "application/vnd.jupyter.widget-view+json": {
       "model_id": "64ec9f43feaf4bd284769a0712daffb4",
       "version_major": 2,
       "version_minor": 0
      },
      "text/plain": [
       "respone_wrapper:   0%|          | 0/2 [00:00<?, ?tasks/s]"
      ]
     },
     "metadata": {},
     "output_type": "display_data"
    },
    {
     "data": {
      "application/vnd.jupyter.widget-view+json": {
       "model_id": "da6e17de5b0a4be4ad577df11ca6a8b2",
       "version_major": 2,
       "version_minor": 0
      },
      "text/plain": [
       "respone_wrapper:   0%|          | 0/2 [00:00<?, ?tasks/s]"
      ]
     },
     "metadata": {},
     "output_type": "display_data"
    },
    {
     "data": {
      "application/vnd.jupyter.widget-view+json": {
       "model_id": "c4bc9dafe36a4f30abf10efb62583276",
       "version_major": 2,
       "version_minor": 0
      },
      "text/plain": [
       "respone_wrapper:   0%|          | 0/2 [00:00<?, ?tasks/s]"
      ]
     },
     "metadata": {},
     "output_type": "display_data"
    },
    {
     "data": {
      "application/vnd.jupyter.widget-view+json": {
       "model_id": "103937b9da594d4fa6490b6e5b0062b4",
       "version_major": 2,
       "version_minor": 0
      },
      "text/plain": [
       "respone_wrapper:   0%|          | 0/2 [00:00<?, ?tasks/s]"
      ]
     },
     "metadata": {},
     "output_type": "display_data"
    },
    {
     "data": {
      "application/vnd.jupyter.widget-view+json": {
       "model_id": "ced527d66991449fafef365516cf41d8",
       "version_major": 2,
       "version_minor": 0
      },
      "text/plain": [
       "respone_wrapper:   0%|          | 0/2 [00:00<?, ?tasks/s]"
      ]
     },
     "metadata": {},
     "output_type": "display_data"
    },
    {
     "data": {
      "application/vnd.jupyter.widget-view+json": {
       "model_id": "a2d8275d25a84fa589823f48b669596a",
       "version_major": 2,
       "version_minor": 0
      },
      "text/plain": [
       "respone_wrapper:   0%|          | 0/2 [00:00<?, ?tasks/s]"
      ]
     },
     "metadata": {},
     "output_type": "display_data"
    },
    {
     "data": {
      "application/vnd.jupyter.widget-view+json": {
       "model_id": "60c3fe24f3734c1c9b1c8c9536f7b932",
       "version_major": 2,
       "version_minor": 0
      },
      "text/plain": [
       "respone_wrapper:   0%|          | 0/2 [00:00<?, ?tasks/s]"
      ]
     },
     "metadata": {},
     "output_type": "display_data"
    },
    {
     "data": {
      "application/vnd.jupyter.widget-view+json": {
       "model_id": "7472abada13f4915b886da8febea92cc",
       "version_major": 2,
       "version_minor": 0
      },
      "text/plain": [
       "respone_wrapper:   0%|          | 0/2 [00:00<?, ?tasks/s]"
      ]
     },
     "metadata": {},
     "output_type": "display_data"
    },
    {
     "data": {
      "application/vnd.jupyter.widget-view+json": {
       "model_id": "d0e70c0a7e474f73826d8b6440ad1011",
       "version_major": 2,
       "version_minor": 0
      },
      "text/plain": [
       "respone_wrapper:   0%|          | 0/2 [00:00<?, ?tasks/s]"
      ]
     },
     "metadata": {},
     "output_type": "display_data"
    },
    {
     "data": {
      "application/vnd.jupyter.widget-view+json": {
       "model_id": "de5107485422459099aef121f658a891",
       "version_major": 2,
       "version_minor": 0
      },
      "text/plain": [
       "respone_wrapper:   0%|          | 0/2 [00:00<?, ?tasks/s]"
      ]
     },
     "metadata": {},
     "output_type": "display_data"
    },
    {
     "data": {
      "application/vnd.jupyter.widget-view+json": {
       "model_id": "40a72468497d423bb1a52ac04087f4a7",
       "version_major": 2,
       "version_minor": 0
      },
      "text/plain": [
       "respone_wrapper:   0%|          | 0/2 [00:00<?, ?tasks/s]"
      ]
     },
     "metadata": {},
     "output_type": "display_data"
    },
    {
     "data": {
      "application/vnd.jupyter.widget-view+json": {
       "model_id": "6060b06e9d984b208f26ac089f4dc9c5",
       "version_major": 2,
       "version_minor": 0
      },
      "text/plain": [
       "respone_wrapper:   0%|          | 0/2 [00:00<?, ?tasks/s]"
      ]
     },
     "metadata": {},
     "output_type": "display_data"
    },
    {
     "data": {
      "application/vnd.jupyter.widget-view+json": {
       "model_id": "c0e60d61b570461982f53c1f426c5221",
       "version_major": 2,
       "version_minor": 0
      },
      "text/plain": [
       "respone_wrapper:   0%|          | 0/2 [00:00<?, ?tasks/s]"
      ]
     },
     "metadata": {},
     "output_type": "display_data"
    },
    {
     "data": {
      "application/vnd.jupyter.widget-view+json": {
       "model_id": "d7c6270ce60044adac9d59926a123271",
       "version_major": 2,
       "version_minor": 0
      },
      "text/plain": [
       "respone_wrapper:   0%|          | 0/2 [00:00<?, ?tasks/s]"
      ]
     },
     "metadata": {},
     "output_type": "display_data"
    },
    {
     "data": {
      "application/vnd.jupyter.widget-view+json": {
       "model_id": "bf59cf08bd9d49d7b427f764abbd90ca",
       "version_major": 2,
       "version_minor": 0
      },
      "text/plain": [
       "respone_wrapper:   0%|          | 0/2 [00:00<?, ?tasks/s]"
      ]
     },
     "metadata": {},
     "output_type": "display_data"
    },
    {
     "data": {
      "application/vnd.jupyter.widget-view+json": {
       "model_id": "a3bd699e545949878d273de475651091",
       "version_major": 2,
       "version_minor": 0
      },
      "text/plain": [
       "respone_wrapper:   0%|          | 0/2 [00:00<?, ?tasks/s]"
      ]
     },
     "metadata": {},
     "output_type": "display_data"
    },
    {
     "data": {
      "application/vnd.jupyter.widget-view+json": {
       "model_id": "74c4c150090e4b1899a2947c58767a72",
       "version_major": 2,
       "version_minor": 0
      },
      "text/plain": [
       "respone_wrapper:   0%|          | 0/2 [00:00<?, ?tasks/s]"
      ]
     },
     "metadata": {},
     "output_type": "display_data"
    },
    {
     "data": {
      "application/vnd.jupyter.widget-view+json": {
       "model_id": "70417b727d724ace927b3983b5898993",
       "version_major": 2,
       "version_minor": 0
      },
      "text/plain": [
       "respone_wrapper:   0%|          | 0/2 [00:00<?, ?tasks/s]"
      ]
     },
     "metadata": {},
     "output_type": "display_data"
    },
    {
     "data": {
      "application/vnd.jupyter.widget-view+json": {
       "model_id": "5c6824793f2a431cb0a3b37bf81ef4b1",
       "version_major": 2,
       "version_minor": 0
      },
      "text/plain": [
       "respone_wrapper:   0%|          | 0/2 [00:00<?, ?tasks/s]"
      ]
     },
     "metadata": {},
     "output_type": "display_data"
    },
    {
     "data": {
      "application/vnd.jupyter.widget-view+json": {
       "model_id": "25b9105b695941e295eea115f1a7b5ec",
       "version_major": 2,
       "version_minor": 0
      },
      "text/plain": [
       "respone_wrapper:   0%|          | 0/2 [00:00<?, ?tasks/s]"
      ]
     },
     "metadata": {},
     "output_type": "display_data"
    },
    {
     "data": {
      "application/vnd.jupyter.widget-view+json": {
       "model_id": "1f93210771e247c38b35bd8f3e2c7a88",
       "version_major": 2,
       "version_minor": 0
      },
      "text/plain": [
       "respone_wrapper:   0%|          | 0/2 [00:00<?, ?tasks/s]"
      ]
     },
     "metadata": {},
     "output_type": "display_data"
    },
    {
     "data": {
      "application/vnd.jupyter.widget-view+json": {
       "model_id": "1d4a28889da241c7ac5d3dccd10181f0",
       "version_major": 2,
       "version_minor": 0
      },
      "text/plain": [
       "respone_wrapper:   0%|          | 0/2 [00:00<?, ?tasks/s]"
      ]
     },
     "metadata": {},
     "output_type": "display_data"
    },
    {
     "data": {
      "application/vnd.jupyter.widget-view+json": {
       "model_id": "3f80f283897643fcab53ef0bbfa6b82a",
       "version_major": 2,
       "version_minor": 0
      },
      "text/plain": [
       "respone_wrapper:   0%|          | 0/2 [00:00<?, ?tasks/s]"
      ]
     },
     "metadata": {},
     "output_type": "display_data"
    },
    {
     "data": {
      "application/vnd.jupyter.widget-view+json": {
       "model_id": "294d9036d9614b20809266c8092b6211",
       "version_major": 2,
       "version_minor": 0
      },
      "text/plain": [
       "respone_wrapper:   0%|          | 0/2 [00:00<?, ?tasks/s]"
      ]
     },
     "metadata": {},
     "output_type": "display_data"
    },
    {
     "data": {
      "application/vnd.jupyter.widget-view+json": {
       "model_id": "af6a1aaaf9b142ce95247490f6baf4de",
       "version_major": 2,
       "version_minor": 0
      },
      "text/plain": [
       "respone_wrapper:   0%|          | 0/2 [00:00<?, ?tasks/s]"
      ]
     },
     "metadata": {},
     "output_type": "display_data"
    },
    {
     "data": {
      "application/vnd.jupyter.widget-view+json": {
       "model_id": "fec0b235d37848038616aaa7b40feb4e",
       "version_major": 2,
       "version_minor": 0
      },
      "text/plain": [
       "<lambda>:   0%|          | 0/2 [00:00<?, ?tasks/s]"
      ]
     },
     "metadata": {},
     "output_type": "display_data"
    },
    {
     "data": {
      "application/vnd.jupyter.widget-view+json": {
       "model_id": "b27ec57e01b64c22ae1be4adfde3a26a",
       "version_major": 2,
       "version_minor": 0
      },
      "text/plain": [
       "respone_wrapper:   0%|          | 0/2 [00:00<?, ?tasks/s]"
      ]
     },
     "metadata": {},
     "output_type": "display_data"
    },
    {
     "data": {
      "application/vnd.jupyter.widget-view+json": {
       "model_id": "f18abf079d3249dcbf70e70641aad3df",
       "version_major": 2,
       "version_minor": 0
      },
      "text/plain": [
       "respone_wrapper:   0%|          | 0/2 [00:00<?, ?tasks/s]"
      ]
     },
     "metadata": {},
     "output_type": "display_data"
    },
    {
     "data": {
      "application/vnd.jupyter.widget-view+json": {
       "model_id": "05198c1a9bc744fcb5a9e858a7250fae",
       "version_major": 2,
       "version_minor": 0
      },
      "text/plain": [
       "respone_wrapper:   0%|          | 0/2 [00:00<?, ?tasks/s]"
      ]
     },
     "metadata": {},
     "output_type": "display_data"
    },
    {
     "data": {
      "application/vnd.jupyter.widget-view+json": {
       "model_id": "02290be4cbeb4578ace0cccf31560b4f",
       "version_major": 2,
       "version_minor": 0
      },
      "text/plain": [
       "respone_wrapper:   0%|          | 0/2 [00:00<?, ?tasks/s]"
      ]
     },
     "metadata": {},
     "output_type": "display_data"
    },
    {
     "data": {
      "application/vnd.jupyter.widget-view+json": {
       "model_id": "b4cc6efc86944ef9b9cce38971f7ef0f",
       "version_major": 2,
       "version_minor": 0
      },
      "text/plain": [
       "respone_wrapper:   0%|          | 0/2 [00:00<?, ?tasks/s]"
      ]
     },
     "metadata": {},
     "output_type": "display_data"
    },
    {
     "data": {
      "application/vnd.jupyter.widget-view+json": {
       "model_id": "9c6d907864804f518e6ed2aa37c9bb1c",
       "version_major": 2,
       "version_minor": 0
      },
      "text/plain": [
       "respone_wrapper:   0%|          | 0/2 [00:00<?, ?tasks/s]"
      ]
     },
     "metadata": {},
     "output_type": "display_data"
    },
    {
     "data": {
      "application/vnd.jupyter.widget-view+json": {
       "model_id": "71a5e7a57f6e48648c21204f8326e1a3",
       "version_major": 2,
       "version_minor": 0
      },
      "text/plain": [
       "respone_wrapper:   0%|          | 0/2 [00:00<?, ?tasks/s]"
      ]
     },
     "metadata": {},
     "output_type": "display_data"
    },
    {
     "data": {
      "application/vnd.jupyter.widget-view+json": {
       "model_id": "06bfd3b357194359bc724fa96b220500",
       "version_major": 2,
       "version_minor": 0
      },
      "text/plain": [
       "respone_wrapper:   0%|          | 0/2 [00:00<?, ?tasks/s]"
      ]
     },
     "metadata": {},
     "output_type": "display_data"
    },
    {
     "data": {
      "application/vnd.jupyter.widget-view+json": {
       "model_id": "0af15ab118ab400999afb47e4bfd5147",
       "version_major": 2,
       "version_minor": 0
      },
      "text/plain": [
       "respone_wrapper:   0%|          | 0/2 [00:00<?, ?tasks/s]"
      ]
     },
     "metadata": {},
     "output_type": "display_data"
    },
    {
     "data": {
      "application/vnd.jupyter.widget-view+json": {
       "model_id": "4cf40c3cc8614dec88ee6b70869ea024",
       "version_major": 2,
       "version_minor": 0
      },
      "text/plain": [
       "respone_wrapper:   0%|          | 0/2 [00:00<?, ?tasks/s]"
      ]
     },
     "metadata": {},
     "output_type": "display_data"
    },
    {
     "data": {
      "application/vnd.jupyter.widget-view+json": {
       "model_id": "3a0592a406d7454d905eb0ba9ae7717c",
       "version_major": 2,
       "version_minor": 0
      },
      "text/plain": [
       "respone_wrapper:   0%|          | 0/2 [00:00<?, ?tasks/s]"
      ]
     },
     "metadata": {},
     "output_type": "display_data"
    },
    {
     "data": {
      "application/vnd.jupyter.widget-view+json": {
       "model_id": "cef92bb2e22148b1b33ecaaf2fb4c3e6",
       "version_major": 2,
       "version_minor": 0
      },
      "text/plain": [
       "respone_wrapper:   0%|          | 0/2 [00:00<?, ?tasks/s]"
      ]
     },
     "metadata": {},
     "output_type": "display_data"
    },
    {
     "data": {
      "application/vnd.jupyter.widget-view+json": {
       "model_id": "28b44a3774134b148dd40435e1d9f54f",
       "version_major": 2,
       "version_minor": 0
      },
      "text/plain": [
       "respone_wrapper:   0%|          | 0/2 [00:00<?, ?tasks/s]"
      ]
     },
     "metadata": {},
     "output_type": "display_data"
    },
    {
     "data": {
      "application/vnd.jupyter.widget-view+json": {
       "model_id": "29393cd55a5f48949de20c0349f5e515",
       "version_major": 2,
       "version_minor": 0
      },
      "text/plain": [
       "respone_wrapper:   0%|          | 0/2 [00:00<?, ?tasks/s]"
      ]
     },
     "metadata": {},
     "output_type": "display_data"
    },
    {
     "data": {
      "application/vnd.jupyter.widget-view+json": {
       "model_id": "53e71fe9f3b3436eb87b563cd6d03b3d",
       "version_major": 2,
       "version_minor": 0
      },
      "text/plain": [
       "respone_wrapper:   0%|          | 0/2 [00:00<?, ?tasks/s]"
      ]
     },
     "metadata": {},
     "output_type": "display_data"
    },
    {
     "data": {
      "application/vnd.jupyter.widget-view+json": {
       "model_id": "c29dc0aa302143998c24801ecb159586",
       "version_major": 2,
       "version_minor": 0
      },
      "text/plain": [
       "respone_wrapper:   0%|          | 0/2 [00:00<?, ?tasks/s]"
      ]
     },
     "metadata": {},
     "output_type": "display_data"
    },
    {
     "data": {
      "application/vnd.jupyter.widget-view+json": {
       "model_id": "638ccca37fa445cb9e34e5902d49a71b",
       "version_major": 2,
       "version_minor": 0
      },
      "text/plain": [
       "respone_wrapper:   0%|          | 0/2 [00:00<?, ?tasks/s]"
      ]
     },
     "metadata": {},
     "output_type": "display_data"
    },
    {
     "data": {
      "application/vnd.jupyter.widget-view+json": {
       "model_id": "81e4fd63583441e4af833242ec359a3a",
       "version_major": 2,
       "version_minor": 0
      },
      "text/plain": [
       "respone_wrapper:   0%|          | 0/2 [00:00<?, ?tasks/s]"
      ]
     },
     "metadata": {},
     "output_type": "display_data"
    },
    {
     "data": {
      "application/vnd.jupyter.widget-view+json": {
       "model_id": "d6220368a6144eb6ae8608e004b0b4f3",
       "version_major": 2,
       "version_minor": 0
      },
      "text/plain": [
       "respone_wrapper:   0%|          | 0/2 [00:00<?, ?tasks/s]"
      ]
     },
     "metadata": {},
     "output_type": "display_data"
    },
    {
     "data": {
      "application/vnd.jupyter.widget-view+json": {
       "model_id": "aeee18b5c9e14bf8870966dd5ffa1bde",
       "version_major": 2,
       "version_minor": 0
      },
      "text/plain": [
       "respone_wrapper:   0%|          | 0/2 [00:00<?, ?tasks/s]"
      ]
     },
     "metadata": {},
     "output_type": "display_data"
    },
    {
     "data": {
      "application/vnd.jupyter.widget-view+json": {
       "model_id": "759a1bc8727842508dd10a4386110663",
       "version_major": 2,
       "version_minor": 0
      },
      "text/plain": [
       "respone_wrapper:   0%|          | 0/2 [00:00<?, ?tasks/s]"
      ]
     },
     "metadata": {},
     "output_type": "display_data"
    },
    {
     "data": {
      "application/vnd.jupyter.widget-view+json": {
       "model_id": "1a5eadccd69147d8aa1f49abfc0c0e2f",
       "version_major": 2,
       "version_minor": 0
      },
      "text/plain": [
       "respone_wrapper:   0%|          | 0/2 [00:00<?, ?tasks/s]"
      ]
     },
     "metadata": {},
     "output_type": "display_data"
    },
    {
     "data": {
      "application/vnd.jupyter.widget-view+json": {
       "model_id": "07c1ec4123a24e30b7a4aaa008a62fbd",
       "version_major": 2,
       "version_minor": 0
      },
      "text/plain": [
       "respone_wrapper:   0%|          | 0/2 [00:00<?, ?tasks/s]"
      ]
     },
     "metadata": {},
     "output_type": "display_data"
    },
    {
     "data": {
      "application/vnd.jupyter.widget-view+json": {
       "model_id": "86dadf68dd8f4c49941ed1ed7087d46d",
       "version_major": 2,
       "version_minor": 0
      },
      "text/plain": [
       "respone_wrapper:   0%|          | 0/2 [00:00<?, ?tasks/s]"
      ]
     },
     "metadata": {},
     "output_type": "display_data"
    },
    {
     "data": {
      "application/vnd.jupyter.widget-view+json": {
       "model_id": "9cd3fa89f30142e589022e00ed58c4e3",
       "version_major": 2,
       "version_minor": 0
      },
      "text/plain": [
       "respone_wrapper:   0%|          | 0/2 [00:00<?, ?tasks/s]"
      ]
     },
     "metadata": {},
     "output_type": "display_data"
    },
    {
     "data": {
      "application/vnd.jupyter.widget-view+json": {
       "model_id": "3e7b92bf04374de6bec280bd9828de19",
       "version_major": 2,
       "version_minor": 0
      },
      "text/plain": [
       "respone_wrapper:   0%|          | 0/2 [00:00<?, ?tasks/s]"
      ]
     },
     "metadata": {},
     "output_type": "display_data"
    },
    {
     "data": {
      "application/vnd.jupyter.widget-view+json": {
       "model_id": "b4b95f703130416e90a3d0d23c704571",
       "version_major": 2,
       "version_minor": 0
      },
      "text/plain": [
       "respone_wrapper:   0%|          | 0/2 [00:00<?, ?tasks/s]"
      ]
     },
     "metadata": {},
     "output_type": "display_data"
    },
    {
     "data": {
      "application/vnd.jupyter.widget-view+json": {
       "model_id": "4089e794a7b7418b80d01ab202814c89",
       "version_major": 2,
       "version_minor": 0
      },
      "text/plain": [
       "respone_wrapper:   0%|          | 0/2 [00:00<?, ?tasks/s]"
      ]
     },
     "metadata": {},
     "output_type": "display_data"
    },
    {
     "data": {
      "application/vnd.jupyter.widget-view+json": {
       "model_id": "806ddcd5a7b544f1a899b4bacb489237",
       "version_major": 2,
       "version_minor": 0
      },
      "text/plain": [
       "respone_wrapper:   0%|          | 0/2 [00:00<?, ?tasks/s]"
      ]
     },
     "metadata": {},
     "output_type": "display_data"
    },
    {
     "data": {
      "application/vnd.jupyter.widget-view+json": {
       "model_id": "df918bc1f62346e5bc2d9bce6bbbc272",
       "version_major": 2,
       "version_minor": 0
      },
      "text/plain": [
       "respone_wrapper:   0%|          | 0/2 [00:00<?, ?tasks/s]"
      ]
     },
     "metadata": {},
     "output_type": "display_data"
    },
    {
     "data": {
      "application/vnd.jupyter.widget-view+json": {
       "model_id": "f11e9b5ad4644207916d0ea4b2794656",
       "version_major": 2,
       "version_minor": 0
      },
      "text/plain": [
       "<lambda>:   0%|          | 0/2 [00:00<?, ?tasks/s]"
      ]
     },
     "metadata": {},
     "output_type": "display_data"
    },
    {
     "data": {
      "application/vnd.jupyter.widget-view+json": {
       "model_id": "1fd3ad5ab74042cdbd1dc157a385e5a1",
       "version_major": 2,
       "version_minor": 0
      },
      "text/plain": [
       "respone_wrapper:   0%|          | 0/2 [00:00<?, ?tasks/s]"
      ]
     },
     "metadata": {},
     "output_type": "display_data"
    },
    {
     "data": {
      "application/vnd.jupyter.widget-view+json": {
       "model_id": "b1285a2027f9437c92a6e2d888865b0b",
       "version_major": 2,
       "version_minor": 0
      },
      "text/plain": [
       "respone_wrapper:   0%|          | 0/2 [00:00<?, ?tasks/s]"
      ]
     },
     "metadata": {},
     "output_type": "display_data"
    },
    {
     "data": {
      "application/vnd.jupyter.widget-view+json": {
       "model_id": "9a51b6e4476c41488a781b37bf1f7bf0",
       "version_major": 2,
       "version_minor": 0
      },
      "text/plain": [
       "respone_wrapper:   0%|          | 0/2 [00:00<?, ?tasks/s]"
      ]
     },
     "metadata": {},
     "output_type": "display_data"
    },
    {
     "data": {
      "application/vnd.jupyter.widget-view+json": {
       "model_id": "ee404868138142c98c9c27b1b3cee1b5",
       "version_major": 2,
       "version_minor": 0
      },
      "text/plain": [
       "respone_wrapper:   0%|          | 0/2 [00:00<?, ?tasks/s]"
      ]
     },
     "metadata": {},
     "output_type": "display_data"
    },
    {
     "data": {
      "application/vnd.jupyter.widget-view+json": {
       "model_id": "b40ac22200f44b1cbfd651593230a053",
       "version_major": 2,
       "version_minor": 0
      },
      "text/plain": [
       "respone_wrapper:   0%|          | 0/2 [00:00<?, ?tasks/s]"
      ]
     },
     "metadata": {},
     "output_type": "display_data"
    },
    {
     "data": {
      "application/vnd.jupyter.widget-view+json": {
       "model_id": "aca54870ccfb4facbe18b8a83e0addcc",
       "version_major": 2,
       "version_minor": 0
      },
      "text/plain": [
       "respone_wrapper:   0%|          | 0/2 [00:00<?, ?tasks/s]"
      ]
     },
     "metadata": {},
     "output_type": "display_data"
    },
    {
     "data": {
      "application/vnd.jupyter.widget-view+json": {
       "model_id": "2904c79bcb45420cba65751978e5fd84",
       "version_major": 2,
       "version_minor": 0
      },
      "text/plain": [
       "respone_wrapper:   0%|          | 0/2 [00:00<?, ?tasks/s]"
      ]
     },
     "metadata": {},
     "output_type": "display_data"
    },
    {
     "data": {
      "application/vnd.jupyter.widget-view+json": {
       "model_id": "034839a28ba64f0b97d0fda4658a1349",
       "version_major": 2,
       "version_minor": 0
      },
      "text/plain": [
       "respone_wrapper:   0%|          | 0/2 [00:00<?, ?tasks/s]"
      ]
     },
     "metadata": {},
     "output_type": "display_data"
    },
    {
     "data": {
      "application/vnd.jupyter.widget-view+json": {
       "model_id": "775e88c45e1e4a9596a1ea68465e97f9",
       "version_major": 2,
       "version_minor": 0
      },
      "text/plain": [
       "respone_wrapper:   0%|          | 0/2 [00:00<?, ?tasks/s]"
      ]
     },
     "metadata": {},
     "output_type": "display_data"
    },
    {
     "data": {
      "application/vnd.jupyter.widget-view+json": {
       "model_id": "1eb073211b044eaa9eff19da4d58c75f",
       "version_major": 2,
       "version_minor": 0
      },
      "text/plain": [
       "respone_wrapper:   0%|          | 0/2 [00:00<?, ?tasks/s]"
      ]
     },
     "metadata": {},
     "output_type": "display_data"
    },
    {
     "data": {
      "application/vnd.jupyter.widget-view+json": {
       "model_id": "22768c4392774fd98e38805f642a4a02",
       "version_major": 2,
       "version_minor": 0
      },
      "text/plain": [
       "respone_wrapper:   0%|          | 0/2 [00:00<?, ?tasks/s]"
      ]
     },
     "metadata": {},
     "output_type": "display_data"
    },
    {
     "data": {
      "application/vnd.jupyter.widget-view+json": {
       "model_id": "60e1690619014cfbac3fb3c24d84bd1f",
       "version_major": 2,
       "version_minor": 0
      },
      "text/plain": [
       "respone_wrapper:   0%|          | 0/2 [00:00<?, ?tasks/s]"
      ]
     },
     "metadata": {},
     "output_type": "display_data"
    },
    {
     "data": {
      "application/vnd.jupyter.widget-view+json": {
       "model_id": "34501f8d4bfa49d7a2d54f3ddbddd960",
       "version_major": 2,
       "version_minor": 0
      },
      "text/plain": [
       "respone_wrapper:   0%|          | 0/2 [00:00<?, ?tasks/s]"
      ]
     },
     "metadata": {},
     "output_type": "display_data"
    },
    {
     "data": {
      "application/vnd.jupyter.widget-view+json": {
       "model_id": "71f6825a25f1450496a670400ea3c18a",
       "version_major": 2,
       "version_minor": 0
      },
      "text/plain": [
       "respone_wrapper:   0%|          | 0/2 [00:00<?, ?tasks/s]"
      ]
     },
     "metadata": {},
     "output_type": "display_data"
    },
    {
     "data": {
      "application/vnd.jupyter.widget-view+json": {
       "model_id": "68724358d1ca4c12a308442e5adb2c7d",
       "version_major": 2,
       "version_minor": 0
      },
      "text/plain": [
       "respone_wrapper:   0%|          | 0/2 [00:00<?, ?tasks/s]"
      ]
     },
     "metadata": {},
     "output_type": "display_data"
    },
    {
     "data": {
      "application/vnd.jupyter.widget-view+json": {
       "model_id": "4a01799a7aca445f90aa18f3f1cead4d",
       "version_major": 2,
       "version_minor": 0
      },
      "text/plain": [
       "respone_wrapper:   0%|          | 0/2 [00:00<?, ?tasks/s]"
      ]
     },
     "metadata": {},
     "output_type": "display_data"
    },
    {
     "data": {
      "application/vnd.jupyter.widget-view+json": {
       "model_id": "3c6488a0d9b841d48c5dfafb265abb4b",
       "version_major": 2,
       "version_minor": 0
      },
      "text/plain": [
       "respone_wrapper:   0%|          | 0/2 [00:00<?, ?tasks/s]"
      ]
     },
     "metadata": {},
     "output_type": "display_data"
    },
    {
     "data": {
      "application/vnd.jupyter.widget-view+json": {
       "model_id": "ed9c6ba9fcbd43e99ce05d53c6072ba1",
       "version_major": 2,
       "version_minor": 0
      },
      "text/plain": [
       "respone_wrapper:   0%|          | 0/2 [00:00<?, ?tasks/s]"
      ]
     },
     "metadata": {},
     "output_type": "display_data"
    },
    {
     "data": {
      "application/vnd.jupyter.widget-view+json": {
       "model_id": "c54ac67404d647448600704e9c0864d9",
       "version_major": 2,
       "version_minor": 0
      },
      "text/plain": [
       "respone_wrapper:   0%|          | 0/2 [00:00<?, ?tasks/s]"
      ]
     },
     "metadata": {},
     "output_type": "display_data"
    },
    {
     "data": {
      "application/vnd.jupyter.widget-view+json": {
       "model_id": "459c7b1472dd4bf188376530eac9a916",
       "version_major": 2,
       "version_minor": 0
      },
      "text/plain": [
       "respone_wrapper:   0%|          | 0/2 [00:00<?, ?tasks/s]"
      ]
     },
     "metadata": {},
     "output_type": "display_data"
    },
    {
     "data": {
      "application/vnd.jupyter.widget-view+json": {
       "model_id": "79bab8ddb448403f889bdbc36ee8ad1d",
       "version_major": 2,
       "version_minor": 0
      },
      "text/plain": [
       "respone_wrapper:   0%|          | 0/2 [00:00<?, ?tasks/s]"
      ]
     },
     "metadata": {},
     "output_type": "display_data"
    },
    {
     "data": {
      "application/vnd.jupyter.widget-view+json": {
       "model_id": "c1c27705d7e8462b9776fa1dc9c92c43",
       "version_major": 2,
       "version_minor": 0
      },
      "text/plain": [
       "respone_wrapper:   0%|          | 0/2 [00:00<?, ?tasks/s]"
      ]
     },
     "metadata": {},
     "output_type": "display_data"
    },
    {
     "data": {
      "application/vnd.jupyter.widget-view+json": {
       "model_id": "e30bcd3807d243c5bb095c58ee506c3b",
       "version_major": 2,
       "version_minor": 0
      },
      "text/plain": [
       "respone_wrapper:   0%|          | 0/2 [00:00<?, ?tasks/s]"
      ]
     },
     "metadata": {},
     "output_type": "display_data"
    },
    {
     "data": {
      "application/vnd.jupyter.widget-view+json": {
       "model_id": "50c27f75bad141e89c6bf63e3a16f083",
       "version_major": 2,
       "version_minor": 0
      },
      "text/plain": [
       "respone_wrapper:   0%|          | 0/2 [00:00<?, ?tasks/s]"
      ]
     },
     "metadata": {},
     "output_type": "display_data"
    },
    {
     "data": {
      "application/vnd.jupyter.widget-view+json": {
       "model_id": "7e2bc276c5a4479abca8d8d0b6feda04",
       "version_major": 2,
       "version_minor": 0
      },
      "text/plain": [
       "respone_wrapper:   0%|          | 0/2 [00:00<?, ?tasks/s]"
      ]
     },
     "metadata": {},
     "output_type": "display_data"
    },
    {
     "data": {
      "application/vnd.jupyter.widget-view+json": {
       "model_id": "3fc3fd1f15f241efb13e2f82e50825ef",
       "version_major": 2,
       "version_minor": 0
      },
      "text/plain": [
       "respone_wrapper:   0%|          | 0/2 [00:00<?, ?tasks/s]"
      ]
     },
     "metadata": {},
     "output_type": "display_data"
    },
    {
     "data": {
      "application/vnd.jupyter.widget-view+json": {
       "model_id": "43393c700f6c48869b700ef782e20acf",
       "version_major": 2,
       "version_minor": 0
      },
      "text/plain": [
       "respone_wrapper:   0%|          | 0/2 [00:00<?, ?tasks/s]"
      ]
     },
     "metadata": {},
     "output_type": "display_data"
    },
    {
     "data": {
      "application/vnd.jupyter.widget-view+json": {
       "model_id": "cf25fd284e814355970886aafa2d370c",
       "version_major": 2,
       "version_minor": 0
      },
      "text/plain": [
       "respone_wrapper:   0%|          | 0/2 [00:00<?, ?tasks/s]"
      ]
     },
     "metadata": {},
     "output_type": "display_data"
    },
    {
     "data": {
      "application/vnd.jupyter.widget-view+json": {
       "model_id": "47cdcc0204b24732b712482db0b88ae6",
       "version_major": 2,
       "version_minor": 0
      },
      "text/plain": [
       "respone_wrapper:   0%|          | 0/2 [00:00<?, ?tasks/s]"
      ]
     },
     "metadata": {},
     "output_type": "display_data"
    },
    {
     "data": {
      "application/vnd.jupyter.widget-view+json": {
       "model_id": "f934fbed36a44373b83eec44ce09d55f",
       "version_major": 2,
       "version_minor": 0
      },
      "text/plain": [
       "respone_wrapper:   0%|          | 0/2 [00:00<?, ?tasks/s]"
      ]
     },
     "metadata": {},
     "output_type": "display_data"
    },
    {
     "data": {
      "application/vnd.jupyter.widget-view+json": {
       "model_id": "b1ff1753dcbe4bd387dc6a9e213a0fc9",
       "version_major": 2,
       "version_minor": 0
      },
      "text/plain": [
       "<lambda>:   0%|          | 0/2 [00:00<?, ?tasks/s]"
      ]
     },
     "metadata": {},
     "output_type": "display_data"
    },
    {
     "data": {
      "application/vnd.jupyter.widget-view+json": {
       "model_id": "cf77a225cd794e52bcda629b15724f0c",
       "version_major": 2,
       "version_minor": 0
      },
      "text/plain": [
       "respone_wrapper:   0%|          | 0/2 [00:00<?, ?tasks/s]"
      ]
     },
     "metadata": {},
     "output_type": "display_data"
    },
    {
     "data": {
      "application/vnd.jupyter.widget-view+json": {
       "model_id": "39d9a048091b4d798a40d3b74b1f0e74",
       "version_major": 2,
       "version_minor": 0
      },
      "text/plain": [
       "respone_wrapper:   0%|          | 0/2 [00:00<?, ?tasks/s]"
      ]
     },
     "metadata": {},
     "output_type": "display_data"
    },
    {
     "data": {
      "application/vnd.jupyter.widget-view+json": {
       "model_id": "e8690581b3d649da80e8151907e63407",
       "version_major": 2,
       "version_minor": 0
      },
      "text/plain": [
       "respone_wrapper:   0%|          | 0/2 [00:00<?, ?tasks/s]"
      ]
     },
     "metadata": {},
     "output_type": "display_data"
    },
    {
     "data": {
      "application/vnd.jupyter.widget-view+json": {
       "model_id": "adf0ada033ea4fd88a09b6e004f776f7",
       "version_major": 2,
       "version_minor": 0
      },
      "text/plain": [
       "respone_wrapper:   0%|          | 0/2 [00:00<?, ?tasks/s]"
      ]
     },
     "metadata": {},
     "output_type": "display_data"
    },
    {
     "data": {
      "application/vnd.jupyter.widget-view+json": {
       "model_id": "d18e849a8edf4f7fa98cf04589ee7a34",
       "version_major": 2,
       "version_minor": 0
      },
      "text/plain": [
       "respone_wrapper:   0%|          | 0/2 [00:00<?, ?tasks/s]"
      ]
     },
     "metadata": {},
     "output_type": "display_data"
    },
    {
     "data": {
      "application/vnd.jupyter.widget-view+json": {
       "model_id": "7418b1d947af40d693f658c3b9bad448",
       "version_major": 2,
       "version_minor": 0
      },
      "text/plain": [
       "respone_wrapper:   0%|          | 0/2 [00:00<?, ?tasks/s]"
      ]
     },
     "metadata": {},
     "output_type": "display_data"
    },
    {
     "data": {
      "application/vnd.jupyter.widget-view+json": {
       "model_id": "e20e6029fd8a46ffa65cd8b3653c75ae",
       "version_major": 2,
       "version_minor": 0
      },
      "text/plain": [
       "respone_wrapper:   0%|          | 0/2 [00:00<?, ?tasks/s]"
      ]
     },
     "metadata": {},
     "output_type": "display_data"
    },
    {
     "data": {
      "application/vnd.jupyter.widget-view+json": {
       "model_id": "cd0b63dd1ded48c6bd7d9d4478fb9d01",
       "version_major": 2,
       "version_minor": 0
      },
      "text/plain": [
       "respone_wrapper:   0%|          | 0/2 [00:00<?, ?tasks/s]"
      ]
     },
     "metadata": {},
     "output_type": "display_data"
    },
    {
     "data": {
      "application/vnd.jupyter.widget-view+json": {
       "model_id": "aa3950c0f9674f4fa46a2fb32217c18c",
       "version_major": 2,
       "version_minor": 0
      },
      "text/plain": [
       "respone_wrapper:   0%|          | 0/2 [00:00<?, ?tasks/s]"
      ]
     },
     "metadata": {},
     "output_type": "display_data"
    },
    {
     "data": {
      "application/vnd.jupyter.widget-view+json": {
       "model_id": "15c77a256ec04c2fb6519d2ff588edb2",
       "version_major": 2,
       "version_minor": 0
      },
      "text/plain": [
       "respone_wrapper:   0%|          | 0/2 [00:00<?, ?tasks/s]"
      ]
     },
     "metadata": {},
     "output_type": "display_data"
    },
    {
     "data": {
      "application/vnd.jupyter.widget-view+json": {
       "model_id": "ac3edd27b90e45989b2df888713caa16",
       "version_major": 2,
       "version_minor": 0
      },
      "text/plain": [
       "respone_wrapper:   0%|          | 0/2 [00:00<?, ?tasks/s]"
      ]
     },
     "metadata": {},
     "output_type": "display_data"
    },
    {
     "data": {
      "application/vnd.jupyter.widget-view+json": {
       "model_id": "3a1ddf06ad954b2fa4dbf57c35c1ce74",
       "version_major": 2,
       "version_minor": 0
      },
      "text/plain": [
       "respone_wrapper:   0%|          | 0/2 [00:00<?, ?tasks/s]"
      ]
     },
     "metadata": {},
     "output_type": "display_data"
    },
    {
     "data": {
      "application/vnd.jupyter.widget-view+json": {
       "model_id": "486fe779d5a34913851834e6c268cc58",
       "version_major": 2,
       "version_minor": 0
      },
      "text/plain": [
       "respone_wrapper:   0%|          | 0/2 [00:00<?, ?tasks/s]"
      ]
     },
     "metadata": {},
     "output_type": "display_data"
    },
    {
     "data": {
      "application/vnd.jupyter.widget-view+json": {
       "model_id": "d7052834725b4515b61c7a36bae884d7",
       "version_major": 2,
       "version_minor": 0
      },
      "text/plain": [
       "respone_wrapper:   0%|          | 0/2 [00:00<?, ?tasks/s]"
      ]
     },
     "metadata": {},
     "output_type": "display_data"
    },
    {
     "data": {
      "application/vnd.jupyter.widget-view+json": {
       "model_id": "ba87a273cbcb4de7a2de1011a09e094e",
       "version_major": 2,
       "version_minor": 0
      },
      "text/plain": [
       "respone_wrapper:   0%|          | 0/2 [00:00<?, ?tasks/s]"
      ]
     },
     "metadata": {},
     "output_type": "display_data"
    },
    {
     "data": {
      "application/vnd.jupyter.widget-view+json": {
       "model_id": "fc2d48d10fe345c1a06fa23df96739c9",
       "version_major": 2,
       "version_minor": 0
      },
      "text/plain": [
       "respone_wrapper:   0%|          | 0/2 [00:00<?, ?tasks/s]"
      ]
     },
     "metadata": {},
     "output_type": "display_data"
    },
    {
     "data": {
      "application/vnd.jupyter.widget-view+json": {
       "model_id": "61bdf0aabbb54c569fce88c2e5830a90",
       "version_major": 2,
       "version_minor": 0
      },
      "text/plain": [
       "respone_wrapper:   0%|          | 0/2 [00:00<?, ?tasks/s]"
      ]
     },
     "metadata": {},
     "output_type": "display_data"
    },
    {
     "data": {
      "application/vnd.jupyter.widget-view+json": {
       "model_id": "f5b0b3a7c5144380a65ca698399189be",
       "version_major": 2,
       "version_minor": 0
      },
      "text/plain": [
       "respone_wrapper:   0%|          | 0/2 [00:00<?, ?tasks/s]"
      ]
     },
     "metadata": {},
     "output_type": "display_data"
    },
    {
     "data": {
      "application/vnd.jupyter.widget-view+json": {
       "model_id": "87c1147eb30e4cf789b54d824da4d7a8",
       "version_major": 2,
       "version_minor": 0
      },
      "text/plain": [
       "respone_wrapper:   0%|          | 0/2 [00:00<?, ?tasks/s]"
      ]
     },
     "metadata": {},
     "output_type": "display_data"
    },
    {
     "data": {
      "application/vnd.jupyter.widget-view+json": {
       "model_id": "33eb6bce8c3e414f9a028ae8ac4d4684",
       "version_major": 2,
       "version_minor": 0
      },
      "text/plain": [
       "respone_wrapper:   0%|          | 0/2 [00:00<?, ?tasks/s]"
      ]
     },
     "metadata": {},
     "output_type": "display_data"
    },
    {
     "data": {
      "application/vnd.jupyter.widget-view+json": {
       "model_id": "865e4e25cfd447d18c91ea8181dd8db5",
       "version_major": 2,
       "version_minor": 0
      },
      "text/plain": [
       "respone_wrapper:   0%|          | 0/2 [00:00<?, ?tasks/s]"
      ]
     },
     "metadata": {},
     "output_type": "display_data"
    },
    {
     "data": {
      "application/vnd.jupyter.widget-view+json": {
       "model_id": "ae108e5cb86346d59f7e90e99f8613fa",
       "version_major": 2,
       "version_minor": 0
      },
      "text/plain": [
       "respone_wrapper:   0%|          | 0/2 [00:00<?, ?tasks/s]"
      ]
     },
     "metadata": {},
     "output_type": "display_data"
    },
    {
     "data": {
      "application/vnd.jupyter.widget-view+json": {
       "model_id": "e697b27a25264d0bb422dd1dc55cb139",
       "version_major": 2,
       "version_minor": 0
      },
      "text/plain": [
       "respone_wrapper:   0%|          | 0/2 [00:00<?, ?tasks/s]"
      ]
     },
     "metadata": {},
     "output_type": "display_data"
    },
    {
     "data": {
      "application/vnd.jupyter.widget-view+json": {
       "model_id": "1ccf2a4ec3864b598e71d845f89a2455",
       "version_major": 2,
       "version_minor": 0
      },
      "text/plain": [
       "respone_wrapper:   0%|          | 0/2 [00:00<?, ?tasks/s]"
      ]
     },
     "metadata": {},
     "output_type": "display_data"
    },
    {
     "data": {
      "application/vnd.jupyter.widget-view+json": {
       "model_id": "b8ca2f1e59b94e01bf10e728bbd6edf4",
       "version_major": 2,
       "version_minor": 0
      },
      "text/plain": [
       "respone_wrapper:   0%|          | 0/2 [00:00<?, ?tasks/s]"
      ]
     },
     "metadata": {},
     "output_type": "display_data"
    },
    {
     "data": {
      "application/vnd.jupyter.widget-view+json": {
       "model_id": "6dffceeb0b574a7f92b0ff7d3fa19dc9",
       "version_major": 2,
       "version_minor": 0
      },
      "text/plain": [
       "respone_wrapper:   0%|          | 0/2 [00:00<?, ?tasks/s]"
      ]
     },
     "metadata": {},
     "output_type": "display_data"
    },
    {
     "data": {
      "application/vnd.jupyter.widget-view+json": {
       "model_id": "b25c648901344c0aa911c2b67e91668f",
       "version_major": 2,
       "version_minor": 0
      },
      "text/plain": [
       "respone_wrapper:   0%|          | 0/2 [00:00<?, ?tasks/s]"
      ]
     },
     "metadata": {},
     "output_type": "display_data"
    },
    {
     "data": {
      "application/vnd.jupyter.widget-view+json": {
       "model_id": "11b5af629b2341e6938908aa78611475",
       "version_major": 2,
       "version_minor": 0
      },
      "text/plain": [
       "respone_wrapper:   0%|          | 0/2 [00:00<?, ?tasks/s]"
      ]
     },
     "metadata": {},
     "output_type": "display_data"
    },
    {
     "data": {
      "application/vnd.jupyter.widget-view+json": {
       "model_id": "b48aba416ee74460adb74b6f783d1463",
       "version_major": 2,
       "version_minor": 0
      },
      "text/plain": [
       "respone_wrapper:   0%|          | 0/2 [00:00<?, ?tasks/s]"
      ]
     },
     "metadata": {},
     "output_type": "display_data"
    },
    {
     "data": {
      "application/vnd.jupyter.widget-view+json": {
       "model_id": "1d3d3fdcb64b49fbb66c924b4669e745",
       "version_major": 2,
       "version_minor": 0
      },
      "text/plain": [
       "respone_wrapper:   0%|          | 0/2 [00:00<?, ?tasks/s]"
      ]
     },
     "metadata": {},
     "output_type": "display_data"
    },
    {
     "data": {
      "application/vnd.jupyter.widget-view+json": {
       "model_id": "266a61d376c04e00aaeef3b1542bd176",
       "version_major": 2,
       "version_minor": 0
      },
      "text/plain": [
       "<lambda>:   0%|          | 0/2 [00:00<?, ?tasks/s]"
      ]
     },
     "metadata": {},
     "output_type": "display_data"
    },
    {
     "data": {
      "application/vnd.jupyter.widget-view+json": {
       "model_id": "b217a802adad492a82a3b15190e1b849",
       "version_major": 2,
       "version_minor": 0
      },
      "text/plain": [
       "respone_wrapper:   0%|          | 0/2 [00:00<?, ?tasks/s]"
      ]
     },
     "metadata": {},
     "output_type": "display_data"
    },
    {
     "data": {
      "application/vnd.jupyter.widget-view+json": {
       "model_id": "04d7fdd5706e4f9fb64fa8c8755ee400",
       "version_major": 2,
       "version_minor": 0
      },
      "text/plain": [
       "respone_wrapper:   0%|          | 0/2 [00:00<?, ?tasks/s]"
      ]
     },
     "metadata": {},
     "output_type": "display_data"
    },
    {
     "data": {
      "application/vnd.jupyter.widget-view+json": {
       "model_id": "ddfb8b0d820d4570848fcdecc582baea",
       "version_major": 2,
       "version_minor": 0
      },
      "text/plain": [
       "respone_wrapper:   0%|          | 0/2 [00:00<?, ?tasks/s]"
      ]
     },
     "metadata": {},
     "output_type": "display_data"
    },
    {
     "data": {
      "application/vnd.jupyter.widget-view+json": {
       "model_id": "5e6deaf414de43faaa8e10ee09eeedd4",
       "version_major": 2,
       "version_minor": 0
      },
      "text/plain": [
       "respone_wrapper:   0%|          | 0/2 [00:00<?, ?tasks/s]"
      ]
     },
     "metadata": {},
     "output_type": "display_data"
    },
    {
     "data": {
      "application/vnd.jupyter.widget-view+json": {
       "model_id": "f85399a989914c2ca9f948b9e1d03d5b",
       "version_major": 2,
       "version_minor": 0
      },
      "text/plain": [
       "respone_wrapper:   0%|          | 0/2 [00:00<?, ?tasks/s]"
      ]
     },
     "metadata": {},
     "output_type": "display_data"
    },
    {
     "data": {
      "application/vnd.jupyter.widget-view+json": {
       "model_id": "50a072b03eb5447da452f16f77a08f4b",
       "version_major": 2,
       "version_minor": 0
      },
      "text/plain": [
       "respone_wrapper:   0%|          | 0/2 [00:00<?, ?tasks/s]"
      ]
     },
     "metadata": {},
     "output_type": "display_data"
    },
    {
     "data": {
      "application/vnd.jupyter.widget-view+json": {
       "model_id": "e8c3cf6d1c95404691b06d79f70fe4c1",
       "version_major": 2,
       "version_minor": 0
      },
      "text/plain": [
       "respone_wrapper:   0%|          | 0/2 [00:00<?, ?tasks/s]"
      ]
     },
     "metadata": {},
     "output_type": "display_data"
    },
    {
     "data": {
      "application/vnd.jupyter.widget-view+json": {
       "model_id": "429755c3c8394dc6acf1b3970642df48",
       "version_major": 2,
       "version_minor": 0
      },
      "text/plain": [
       "respone_wrapper:   0%|          | 0/2 [00:00<?, ?tasks/s]"
      ]
     },
     "metadata": {},
     "output_type": "display_data"
    },
    {
     "data": {
      "application/vnd.jupyter.widget-view+json": {
       "model_id": "7bb3da2ed2df48b9b02d64ad08d5819e",
       "version_major": 2,
       "version_minor": 0
      },
      "text/plain": [
       "respone_wrapper:   0%|          | 0/2 [00:00<?, ?tasks/s]"
      ]
     },
     "metadata": {},
     "output_type": "display_data"
    },
    {
     "data": {
      "application/vnd.jupyter.widget-view+json": {
       "model_id": "db62c1d431364e3c9deaf2acd7c57f40",
       "version_major": 2,
       "version_minor": 0
      },
      "text/plain": [
       "respone_wrapper:   0%|          | 0/2 [00:00<?, ?tasks/s]"
      ]
     },
     "metadata": {},
     "output_type": "display_data"
    },
    {
     "data": {
      "application/vnd.jupyter.widget-view+json": {
       "model_id": "1827631a51304b28ae38d6ae67e1aeaa",
       "version_major": 2,
       "version_minor": 0
      },
      "text/plain": [
       "respone_wrapper:   0%|          | 0/2 [00:00<?, ?tasks/s]"
      ]
     },
     "metadata": {},
     "output_type": "display_data"
    },
    {
     "data": {
      "application/vnd.jupyter.widget-view+json": {
       "model_id": "27047b27fdcb47169f999d6169b5a565",
       "version_major": 2,
       "version_minor": 0
      },
      "text/plain": [
       "respone_wrapper:   0%|          | 0/2 [00:00<?, ?tasks/s]"
      ]
     },
     "metadata": {},
     "output_type": "display_data"
    },
    {
     "data": {
      "application/vnd.jupyter.widget-view+json": {
       "model_id": "c26b5848fd154daba940cdd821302483",
       "version_major": 2,
       "version_minor": 0
      },
      "text/plain": [
       "respone_wrapper:   0%|          | 0/2 [00:00<?, ?tasks/s]"
      ]
     },
     "metadata": {},
     "output_type": "display_data"
    },
    {
     "data": {
      "application/vnd.jupyter.widget-view+json": {
       "model_id": "6527b67b986e48b58cba01265b80335b",
       "version_major": 2,
       "version_minor": 0
      },
      "text/plain": [
       "respone_wrapper:   0%|          | 0/2 [00:00<?, ?tasks/s]"
      ]
     },
     "metadata": {},
     "output_type": "display_data"
    },
    {
     "data": {
      "application/vnd.jupyter.widget-view+json": {
       "model_id": "0cdf974ca54b402fb3165ff890835968",
       "version_major": 2,
       "version_minor": 0
      },
      "text/plain": [
       "respone_wrapper:   0%|          | 0/2 [00:00<?, ?tasks/s]"
      ]
     },
     "metadata": {},
     "output_type": "display_data"
    },
    {
     "data": {
      "application/vnd.jupyter.widget-view+json": {
       "model_id": "2eb801d98d004bb0aca8c855d41eb7a2",
       "version_major": 2,
       "version_minor": 0
      },
      "text/plain": [
       "respone_wrapper:   0%|          | 0/2 [00:00<?, ?tasks/s]"
      ]
     },
     "metadata": {},
     "output_type": "display_data"
    },
    {
     "data": {
      "application/vnd.jupyter.widget-view+json": {
       "model_id": "a870997727c94451a8ff115bb89960c2",
       "version_major": 2,
       "version_minor": 0
      },
      "text/plain": [
       "respone_wrapper:   0%|          | 0/2 [00:00<?, ?tasks/s]"
      ]
     },
     "metadata": {},
     "output_type": "display_data"
    },
    {
     "data": {
      "application/vnd.jupyter.widget-view+json": {
       "model_id": "3ef075243754422cbd3b1f49f87ed757",
       "version_major": 2,
       "version_minor": 0
      },
      "text/plain": [
       "respone_wrapper:   0%|          | 0/2 [00:00<?, ?tasks/s]"
      ]
     },
     "metadata": {},
     "output_type": "display_data"
    },
    {
     "data": {
      "application/vnd.jupyter.widget-view+json": {
       "model_id": "f7d29f482f334225a253bafd01ce24e1",
       "version_major": 2,
       "version_minor": 0
      },
      "text/plain": [
       "respone_wrapper:   0%|          | 0/2 [00:00<?, ?tasks/s]"
      ]
     },
     "metadata": {},
     "output_type": "display_data"
    },
    {
     "data": {
      "application/vnd.jupyter.widget-view+json": {
       "model_id": "6d78a845257743c7a8e0a770889c930c",
       "version_major": 2,
       "version_minor": 0
      },
      "text/plain": [
       "respone_wrapper:   0%|          | 0/2 [00:00<?, ?tasks/s]"
      ]
     },
     "metadata": {},
     "output_type": "display_data"
    },
    {
     "data": {
      "application/vnd.jupyter.widget-view+json": {
       "model_id": "10310df834c34055976538e8e3c963d4",
       "version_major": 2,
       "version_minor": 0
      },
      "text/plain": [
       "respone_wrapper:   0%|          | 0/2 [00:00<?, ?tasks/s]"
      ]
     },
     "metadata": {},
     "output_type": "display_data"
    },
    {
     "data": {
      "application/vnd.jupyter.widget-view+json": {
       "model_id": "59d3097a94264a449ef2be007851171c",
       "version_major": 2,
       "version_minor": 0
      },
      "text/plain": [
       "respone_wrapper:   0%|          | 0/2 [00:00<?, ?tasks/s]"
      ]
     },
     "metadata": {},
     "output_type": "display_data"
    },
    {
     "data": {
      "application/vnd.jupyter.widget-view+json": {
       "model_id": "443036bece714677ada3b89d8ec4a6da",
       "version_major": 2,
       "version_minor": 0
      },
      "text/plain": [
       "respone_wrapper:   0%|          | 0/2 [00:00<?, ?tasks/s]"
      ]
     },
     "metadata": {},
     "output_type": "display_data"
    },
    {
     "data": {
      "application/vnd.jupyter.widget-view+json": {
       "model_id": "cc8415b224c94564a99d564877fbacbe",
       "version_major": 2,
       "version_minor": 0
      },
      "text/plain": [
       "respone_wrapper:   0%|          | 0/2 [00:00<?, ?tasks/s]"
      ]
     },
     "metadata": {},
     "output_type": "display_data"
    },
    {
     "data": {
      "application/vnd.jupyter.widget-view+json": {
       "model_id": "d4eeb615d124474097c4d93f17574fd7",
       "version_major": 2,
       "version_minor": 0
      },
      "text/plain": [
       "respone_wrapper:   0%|          | 0/2 [00:00<?, ?tasks/s]"
      ]
     },
     "metadata": {},
     "output_type": "display_data"
    },
    {
     "data": {
      "application/vnd.jupyter.widget-view+json": {
       "model_id": "f2fb38ee8a524ed581f81748089dc959",
       "version_major": 2,
       "version_minor": 0
      },
      "text/plain": [
       "respone_wrapper:   0%|          | 0/2 [00:00<?, ?tasks/s]"
      ]
     },
     "metadata": {},
     "output_type": "display_data"
    },
    {
     "data": {
      "application/vnd.jupyter.widget-view+json": {
       "model_id": "40589a28d7e340ba872cfbec8e36092a",
       "version_major": 2,
       "version_minor": 0
      },
      "text/plain": [
       "respone_wrapper:   0%|          | 0/2 [00:00<?, ?tasks/s]"
      ]
     },
     "metadata": {},
     "output_type": "display_data"
    },
    {
     "data": {
      "application/vnd.jupyter.widget-view+json": {
       "model_id": "5bea7619c03140d2854992e8b097be49",
       "version_major": 2,
       "version_minor": 0
      },
      "text/plain": [
       "respone_wrapper:   0%|          | 0/2 [00:00<?, ?tasks/s]"
      ]
     },
     "metadata": {},
     "output_type": "display_data"
    },
    {
     "data": {
      "application/vnd.jupyter.widget-view+json": {
       "model_id": "03862f8f45a84a5197a0685a0f03caa6",
       "version_major": 2,
       "version_minor": 0
      },
      "text/plain": [
       "respone_wrapper:   0%|          | 0/2 [00:00<?, ?tasks/s]"
      ]
     },
     "metadata": {},
     "output_type": "display_data"
    },
    {
     "data": {
      "application/vnd.jupyter.widget-view+json": {
       "model_id": "14418b943cf84400a0fa8b93f37c8409",
       "version_major": 2,
       "version_minor": 0
      },
      "text/plain": [
       "respone_wrapper:   0%|          | 0/2 [00:00<?, ?tasks/s]"
      ]
     },
     "metadata": {},
     "output_type": "display_data"
    },
    {
     "data": {
      "application/vnd.jupyter.widget-view+json": {
       "model_id": "8de69b40926646b6b782a23f18baf07b",
       "version_major": 2,
       "version_minor": 0
      },
      "text/plain": [
       "<lambda>:   0%|          | 0/2 [00:00<?, ?tasks/s]"
      ]
     },
     "metadata": {},
     "output_type": "display_data"
    },
    {
     "data": {
      "application/vnd.jupyter.widget-view+json": {
       "model_id": "99b26754f0ca4d8698c1ba79353cb76f",
       "version_major": 2,
       "version_minor": 0
      },
      "text/plain": [
       "respone_wrapper:   0%|          | 0/2 [00:00<?, ?tasks/s]"
      ]
     },
     "metadata": {},
     "output_type": "display_data"
    },
    {
     "data": {
      "application/vnd.jupyter.widget-view+json": {
       "model_id": "8d51374c77bc45f68d7f82a313d00563",
       "version_major": 2,
       "version_minor": 0
      },
      "text/plain": [
       "respone_wrapper:   0%|          | 0/2 [00:00<?, ?tasks/s]"
      ]
     },
     "metadata": {},
     "output_type": "display_data"
    },
    {
     "data": {
      "application/vnd.jupyter.widget-view+json": {
       "model_id": "09cd0f02926c474d904ddc3f240e0e89",
       "version_major": 2,
       "version_minor": 0
      },
      "text/plain": [
       "respone_wrapper:   0%|          | 0/2 [00:00<?, ?tasks/s]"
      ]
     },
     "metadata": {},
     "output_type": "display_data"
    },
    {
     "data": {
      "application/vnd.jupyter.widget-view+json": {
       "model_id": "382727308897446c9ee42263413c65da",
       "version_major": 2,
       "version_minor": 0
      },
      "text/plain": [
       "respone_wrapper:   0%|          | 0/2 [00:00<?, ?tasks/s]"
      ]
     },
     "metadata": {},
     "output_type": "display_data"
    },
    {
     "data": {
      "application/vnd.jupyter.widget-view+json": {
       "model_id": "aa4e9f4ec7f6495d9f36173eb8b5374c",
       "version_major": 2,
       "version_minor": 0
      },
      "text/plain": [
       "respone_wrapper:   0%|          | 0/2 [00:00<?, ?tasks/s]"
      ]
     },
     "metadata": {},
     "output_type": "display_data"
    },
    {
     "data": {
      "application/vnd.jupyter.widget-view+json": {
       "model_id": "945f7b52f57441148edefd0bb553ad34",
       "version_major": 2,
       "version_minor": 0
      },
      "text/plain": [
       "respone_wrapper:   0%|          | 0/2 [00:00<?, ?tasks/s]"
      ]
     },
     "metadata": {},
     "output_type": "display_data"
    },
    {
     "data": {
      "application/vnd.jupyter.widget-view+json": {
       "model_id": "07960479a7534effaf1d7667afdcdef0",
       "version_major": 2,
       "version_minor": 0
      },
      "text/plain": [
       "respone_wrapper:   0%|          | 0/2 [00:00<?, ?tasks/s]"
      ]
     },
     "metadata": {},
     "output_type": "display_data"
    },
    {
     "data": {
      "application/vnd.jupyter.widget-view+json": {
       "model_id": "912e405850a240449047e98b5b629683",
       "version_major": 2,
       "version_minor": 0
      },
      "text/plain": [
       "respone_wrapper:   0%|          | 0/2 [00:00<?, ?tasks/s]"
      ]
     },
     "metadata": {},
     "output_type": "display_data"
    },
    {
     "data": {
      "application/vnd.jupyter.widget-view+json": {
       "model_id": "ad18357e6b4f479f90b66894fd75c71d",
       "version_major": 2,
       "version_minor": 0
      },
      "text/plain": [
       "respone_wrapper:   0%|          | 0/2 [00:00<?, ?tasks/s]"
      ]
     },
     "metadata": {},
     "output_type": "display_data"
    },
    {
     "data": {
      "application/vnd.jupyter.widget-view+json": {
       "model_id": "65c95162f60c4733abe3f1658c72e9a9",
       "version_major": 2,
       "version_minor": 0
      },
      "text/plain": [
       "respone_wrapper:   0%|          | 0/2 [00:00<?, ?tasks/s]"
      ]
     },
     "metadata": {},
     "output_type": "display_data"
    },
    {
     "data": {
      "application/vnd.jupyter.widget-view+json": {
       "model_id": "7bc7fb90bb9940629d921cf5e705fe99",
       "version_major": 2,
       "version_minor": 0
      },
      "text/plain": [
       "respone_wrapper:   0%|          | 0/2 [00:00<?, ?tasks/s]"
      ]
     },
     "metadata": {},
     "output_type": "display_data"
    },
    {
     "data": {
      "application/vnd.jupyter.widget-view+json": {
       "model_id": "e930105387b049c7b2657bffa9ad5b52",
       "version_major": 2,
       "version_minor": 0
      },
      "text/plain": [
       "respone_wrapper:   0%|          | 0/2 [00:00<?, ?tasks/s]"
      ]
     },
     "metadata": {},
     "output_type": "display_data"
    },
    {
     "data": {
      "application/vnd.jupyter.widget-view+json": {
       "model_id": "d290183ec4ed4375849fb8d173a4537f",
       "version_major": 2,
       "version_minor": 0
      },
      "text/plain": [
       "respone_wrapper:   0%|          | 0/2 [00:00<?, ?tasks/s]"
      ]
     },
     "metadata": {},
     "output_type": "display_data"
    },
    {
     "data": {
      "application/vnd.jupyter.widget-view+json": {
       "model_id": "15fbd06771cc47c0b985bfaaab1c8469",
       "version_major": 2,
       "version_minor": 0
      },
      "text/plain": [
       "respone_wrapper:   0%|          | 0/2 [00:00<?, ?tasks/s]"
      ]
     },
     "metadata": {},
     "output_type": "display_data"
    },
    {
     "data": {
      "application/vnd.jupyter.widget-view+json": {
       "model_id": "08224112aa5d4be38eea10ccab3ed06d",
       "version_major": 2,
       "version_minor": 0
      },
      "text/plain": [
       "respone_wrapper:   0%|          | 0/2 [00:00<?, ?tasks/s]"
      ]
     },
     "metadata": {},
     "output_type": "display_data"
    },
    {
     "data": {
      "application/vnd.jupyter.widget-view+json": {
       "model_id": "723f13ec66474c6a9a56fbc766e5b5e2",
       "version_major": 2,
       "version_minor": 0
      },
      "text/plain": [
       "respone_wrapper:   0%|          | 0/2 [00:00<?, ?tasks/s]"
      ]
     },
     "metadata": {},
     "output_type": "display_data"
    },
    {
     "data": {
      "application/vnd.jupyter.widget-view+json": {
       "model_id": "70dc5233db514601b4469db0deabd679",
       "version_major": 2,
       "version_minor": 0
      },
      "text/plain": [
       "respone_wrapper:   0%|          | 0/2 [00:00<?, ?tasks/s]"
      ]
     },
     "metadata": {},
     "output_type": "display_data"
    },
    {
     "data": {
      "application/vnd.jupyter.widget-view+json": {
       "model_id": "80491e77d7d14bfb9bf6ac21e5241514",
       "version_major": 2,
       "version_minor": 0
      },
      "text/plain": [
       "respone_wrapper:   0%|          | 0/2 [00:00<?, ?tasks/s]"
      ]
     },
     "metadata": {},
     "output_type": "display_data"
    },
    {
     "data": {
      "application/vnd.jupyter.widget-view+json": {
       "model_id": "d8d67b2755b94038b80b09fb6ca0853a",
       "version_major": 2,
       "version_minor": 0
      },
      "text/plain": [
       "respone_wrapper:   0%|          | 0/2 [00:00<?, ?tasks/s]"
      ]
     },
     "metadata": {},
     "output_type": "display_data"
    },
    {
     "data": {
      "application/vnd.jupyter.widget-view+json": {
       "model_id": "858f2a5cde5845f8956789534fd8484c",
       "version_major": 2,
       "version_minor": 0
      },
      "text/plain": [
       "respone_wrapper:   0%|          | 0/2 [00:00<?, ?tasks/s]"
      ]
     },
     "metadata": {},
     "output_type": "display_data"
    },
    {
     "data": {
      "application/vnd.jupyter.widget-view+json": {
       "model_id": "24c3e287d87840b89576644b756a3dba",
       "version_major": 2,
       "version_minor": 0
      },
      "text/plain": [
       "respone_wrapper:   0%|          | 0/2 [00:00<?, ?tasks/s]"
      ]
     },
     "metadata": {},
     "output_type": "display_data"
    },
    {
     "data": {
      "application/vnd.jupyter.widget-view+json": {
       "model_id": "765004571f354999a47d0248e1ddd80c",
       "version_major": 2,
       "version_minor": 0
      },
      "text/plain": [
       "respone_wrapper:   0%|          | 0/2 [00:00<?, ?tasks/s]"
      ]
     },
     "metadata": {},
     "output_type": "display_data"
    },
    {
     "data": {
      "application/vnd.jupyter.widget-view+json": {
       "model_id": "97d84aa4e8954c588ec4a4b2d43b34cc",
       "version_major": 2,
       "version_minor": 0
      },
      "text/plain": [
       "respone_wrapper:   0%|          | 0/2 [00:00<?, ?tasks/s]"
      ]
     },
     "metadata": {},
     "output_type": "display_data"
    },
    {
     "data": {
      "application/vnd.jupyter.widget-view+json": {
       "model_id": "308626cde29548418b76140e169d4ffc",
       "version_major": 2,
       "version_minor": 0
      },
      "text/plain": [
       "respone_wrapper:   0%|          | 0/2 [00:00<?, ?tasks/s]"
      ]
     },
     "metadata": {},
     "output_type": "display_data"
    },
    {
     "data": {
      "application/vnd.jupyter.widget-view+json": {
       "model_id": "3f607fc652f148bab7a89fb49df09366",
       "version_major": 2,
       "version_minor": 0
      },
      "text/plain": [
       "respone_wrapper:   0%|          | 0/2 [00:00<?, ?tasks/s]"
      ]
     },
     "metadata": {},
     "output_type": "display_data"
    },
    {
     "data": {
      "application/vnd.jupyter.widget-view+json": {
       "model_id": "2c5963e9133841e5a75a7b9880410854",
       "version_major": 2,
       "version_minor": 0
      },
      "text/plain": [
       "respone_wrapper:   0%|          | 0/2 [00:00<?, ?tasks/s]"
      ]
     },
     "metadata": {},
     "output_type": "display_data"
    },
    {
     "data": {
      "application/vnd.jupyter.widget-view+json": {
       "model_id": "a60bae181b5f44b796b2c9ce22beff7a",
       "version_major": 2,
       "version_minor": 0
      },
      "text/plain": [
       "respone_wrapper:   0%|          | 0/2 [00:00<?, ?tasks/s]"
      ]
     },
     "metadata": {},
     "output_type": "display_data"
    },
    {
     "data": {
      "application/vnd.jupyter.widget-view+json": {
       "model_id": "5e39f09eaa5049dba1a01b741756926d",
       "version_major": 2,
       "version_minor": 0
      },
      "text/plain": [
       "respone_wrapper:   0%|          | 0/2 [00:00<?, ?tasks/s]"
      ]
     },
     "metadata": {},
     "output_type": "display_data"
    },
    {
     "data": {
      "application/vnd.jupyter.widget-view+json": {
       "model_id": "f873d6d693024b8c8b35ea799ff3ceb5",
       "version_major": 2,
       "version_minor": 0
      },
      "text/plain": [
       "respone_wrapper:   0%|          | 0/2 [00:00<?, ?tasks/s]"
      ]
     },
     "metadata": {},
     "output_type": "display_data"
    },
    {
     "data": {
      "application/vnd.jupyter.widget-view+json": {
       "model_id": "df794818f416424f82466d8f266c4d1d",
       "version_major": 2,
       "version_minor": 0
      },
      "text/plain": [
       "respone_wrapper:   0%|          | 0/2 [00:00<?, ?tasks/s]"
      ]
     },
     "metadata": {},
     "output_type": "display_data"
    },
    {
     "data": {
      "application/vnd.jupyter.widget-view+json": {
       "model_id": "d39a196236cf42ed9c795a1a085a2994",
       "version_major": 2,
       "version_minor": 0
      },
      "text/plain": [
       "<lambda>:   0%|          | 0/2 [00:00<?, ?tasks/s]"
      ]
     },
     "metadata": {},
     "output_type": "display_data"
    },
    {
     "data": {
      "application/vnd.jupyter.widget-view+json": {
       "model_id": "829f3efc65ff4fc69619937f1e663e31",
       "version_major": 2,
       "version_minor": 0
      },
      "text/plain": [
       "respone_wrapper:   0%|          | 0/2 [00:00<?, ?tasks/s]"
      ]
     },
     "metadata": {},
     "output_type": "display_data"
    },
    {
     "data": {
      "application/vnd.jupyter.widget-view+json": {
       "model_id": "93c6345bc4c94d02accd111cd8377b00",
       "version_major": 2,
       "version_minor": 0
      },
      "text/plain": [
       "respone_wrapper:   0%|          | 0/2 [00:00<?, ?tasks/s]"
      ]
     },
     "metadata": {},
     "output_type": "display_data"
    },
    {
     "data": {
      "application/vnd.jupyter.widget-view+json": {
       "model_id": "d6bd781d05db4d3d898907fbd6945b28",
       "version_major": 2,
       "version_minor": 0
      },
      "text/plain": [
       "respone_wrapper:   0%|          | 0/2 [00:00<?, ?tasks/s]"
      ]
     },
     "metadata": {},
     "output_type": "display_data"
    },
    {
     "data": {
      "application/vnd.jupyter.widget-view+json": {
       "model_id": "691fecdf68684327875aef2e41bf6624",
       "version_major": 2,
       "version_minor": 0
      },
      "text/plain": [
       "respone_wrapper:   0%|          | 0/2 [00:00<?, ?tasks/s]"
      ]
     },
     "metadata": {},
     "output_type": "display_data"
    },
    {
     "data": {
      "application/vnd.jupyter.widget-view+json": {
       "model_id": "aa10dfd2e25a4bd5a7745eefc8f31500",
       "version_major": 2,
       "version_minor": 0
      },
      "text/plain": [
       "respone_wrapper:   0%|          | 0/2 [00:00<?, ?tasks/s]"
      ]
     },
     "metadata": {},
     "output_type": "display_data"
    },
    {
     "data": {
      "application/vnd.jupyter.widget-view+json": {
       "model_id": "5ee365bb8bfd4df58d0fa626ab39bd98",
       "version_major": 2,
       "version_minor": 0
      },
      "text/plain": [
       "respone_wrapper:   0%|          | 0/2 [00:00<?, ?tasks/s]"
      ]
     },
     "metadata": {},
     "output_type": "display_data"
    },
    {
     "data": {
      "application/vnd.jupyter.widget-view+json": {
       "model_id": "d3b02d56f7e94a9eb27e3643e72d590a",
       "version_major": 2,
       "version_minor": 0
      },
      "text/plain": [
       "respone_wrapper:   0%|          | 0/2 [00:00<?, ?tasks/s]"
      ]
     },
     "metadata": {},
     "output_type": "display_data"
    },
    {
     "data": {
      "application/vnd.jupyter.widget-view+json": {
       "model_id": "a4d139ff4d7e481aa3407c95f7b2ce0f",
       "version_major": 2,
       "version_minor": 0
      },
      "text/plain": [
       "respone_wrapper:   0%|          | 0/2 [00:00<?, ?tasks/s]"
      ]
     },
     "metadata": {},
     "output_type": "display_data"
    },
    {
     "data": {
      "application/vnd.jupyter.widget-view+json": {
       "model_id": "551a653706e4496a908d17a24e7ccfae",
       "version_major": 2,
       "version_minor": 0
      },
      "text/plain": [
       "respone_wrapper:   0%|          | 0/2 [00:00<?, ?tasks/s]"
      ]
     },
     "metadata": {},
     "output_type": "display_data"
    },
    {
     "data": {
      "application/vnd.jupyter.widget-view+json": {
       "model_id": "8c6a8b1c976244c4bd94e214c3c8f7a5",
       "version_major": 2,
       "version_minor": 0
      },
      "text/plain": [
       "respone_wrapper:   0%|          | 0/2 [00:00<?, ?tasks/s]"
      ]
     },
     "metadata": {},
     "output_type": "display_data"
    },
    {
     "data": {
      "application/vnd.jupyter.widget-view+json": {
       "model_id": "7d3a532b48ae499a9dd2dfac334773cb",
       "version_major": 2,
       "version_minor": 0
      },
      "text/plain": [
       "respone_wrapper:   0%|          | 0/2 [00:00<?, ?tasks/s]"
      ]
     },
     "metadata": {},
     "output_type": "display_data"
    },
    {
     "data": {
      "application/vnd.jupyter.widget-view+json": {
       "model_id": "0ca5143b89684020ad373cf32a21bba5",
       "version_major": 2,
       "version_minor": 0
      },
      "text/plain": [
       "respone_wrapper:   0%|          | 0/2 [00:00<?, ?tasks/s]"
      ]
     },
     "metadata": {},
     "output_type": "display_data"
    },
    {
     "data": {
      "application/vnd.jupyter.widget-view+json": {
       "model_id": "01e02ddbc59a433d9fb78b5d31abadbf",
       "version_major": 2,
       "version_minor": 0
      },
      "text/plain": [
       "respone_wrapper:   0%|          | 0/2 [00:00<?, ?tasks/s]"
      ]
     },
     "metadata": {},
     "output_type": "display_data"
    },
    {
     "data": {
      "application/vnd.jupyter.widget-view+json": {
       "model_id": "36c38a328ea7446d93e947dd0b679658",
       "version_major": 2,
       "version_minor": 0
      },
      "text/plain": [
       "respone_wrapper:   0%|          | 0/2 [00:00<?, ?tasks/s]"
      ]
     },
     "metadata": {},
     "output_type": "display_data"
    },
    {
     "data": {
      "application/vnd.jupyter.widget-view+json": {
       "model_id": "1f8d7a96bf574adeac74787e86b81960",
       "version_major": 2,
       "version_minor": 0
      },
      "text/plain": [
       "respone_wrapper:   0%|          | 0/2 [00:00<?, ?tasks/s]"
      ]
     },
     "metadata": {},
     "output_type": "display_data"
    },
    {
     "data": {
      "application/vnd.jupyter.widget-view+json": {
       "model_id": "7471727928e64bf08731ee5819dd7e12",
       "version_major": 2,
       "version_minor": 0
      },
      "text/plain": [
       "respone_wrapper:   0%|          | 0/2 [00:00<?, ?tasks/s]"
      ]
     },
     "metadata": {},
     "output_type": "display_data"
    },
    {
     "data": {
      "application/vnd.jupyter.widget-view+json": {
       "model_id": "624b112221b44da3820ab2793f7ad6bc",
       "version_major": 2,
       "version_minor": 0
      },
      "text/plain": [
       "respone_wrapper:   0%|          | 0/2 [00:00<?, ?tasks/s]"
      ]
     },
     "metadata": {},
     "output_type": "display_data"
    },
    {
     "data": {
      "application/vnd.jupyter.widget-view+json": {
       "model_id": "bbd0c3a27c5e4c93876eea8080fef02a",
       "version_major": 2,
       "version_minor": 0
      },
      "text/plain": [
       "respone_wrapper:   0%|          | 0/2 [00:00<?, ?tasks/s]"
      ]
     },
     "metadata": {},
     "output_type": "display_data"
    },
    {
     "data": {
      "application/vnd.jupyter.widget-view+json": {
       "model_id": "09119026be4e4689861aab78dca581ba",
       "version_major": 2,
       "version_minor": 0
      },
      "text/plain": [
       "respone_wrapper:   0%|          | 0/2 [00:00<?, ?tasks/s]"
      ]
     },
     "metadata": {},
     "output_type": "display_data"
    },
    {
     "data": {
      "application/vnd.jupyter.widget-view+json": {
       "model_id": "a2ac479147a04424b33f2a97ec8b7d20",
       "version_major": 2,
       "version_minor": 0
      },
      "text/plain": [
       "respone_wrapper:   0%|          | 0/2 [00:00<?, ?tasks/s]"
      ]
     },
     "metadata": {},
     "output_type": "display_data"
    },
    {
     "data": {
      "application/vnd.jupyter.widget-view+json": {
       "model_id": "166f40f21e244affadb7e00b3688f8c0",
       "version_major": 2,
       "version_minor": 0
      },
      "text/plain": [
       "respone_wrapper:   0%|          | 0/2 [00:00<?, ?tasks/s]"
      ]
     },
     "metadata": {},
     "output_type": "display_data"
    },
    {
     "data": {
      "application/vnd.jupyter.widget-view+json": {
       "model_id": "9fe7c5909c1a410080e87469dfc5c4a9",
       "version_major": 2,
       "version_minor": 0
      },
      "text/plain": [
       "respone_wrapper:   0%|          | 0/2 [00:00<?, ?tasks/s]"
      ]
     },
     "metadata": {},
     "output_type": "display_data"
    },
    {
     "data": {
      "application/vnd.jupyter.widget-view+json": {
       "model_id": "0d3e1c7e882b4eb5a381478a8bedfd15",
       "version_major": 2,
       "version_minor": 0
      },
      "text/plain": [
       "respone_wrapper:   0%|          | 0/2 [00:00<?, ?tasks/s]"
      ]
     },
     "metadata": {},
     "output_type": "display_data"
    },
    {
     "data": {
      "application/vnd.jupyter.widget-view+json": {
       "model_id": "809715ba1c0148418eb8d6c4e617c67d",
       "version_major": 2,
       "version_minor": 0
      },
      "text/plain": [
       "respone_wrapper:   0%|          | 0/2 [00:00<?, ?tasks/s]"
      ]
     },
     "metadata": {},
     "output_type": "display_data"
    },
    {
     "data": {
      "application/vnd.jupyter.widget-view+json": {
       "model_id": "ec5ca8fab7c5412c822427afa00bcaca",
       "version_major": 2,
       "version_minor": 0
      },
      "text/plain": [
       "respone_wrapper:   0%|          | 0/2 [00:00<?, ?tasks/s]"
      ]
     },
     "metadata": {},
     "output_type": "display_data"
    },
    {
     "data": {
      "application/vnd.jupyter.widget-view+json": {
       "model_id": "593a74fb4f1843f8a3f5911821c094d0",
       "version_major": 2,
       "version_minor": 0
      },
      "text/plain": [
       "respone_wrapper:   0%|          | 0/2 [00:00<?, ?tasks/s]"
      ]
     },
     "metadata": {},
     "output_type": "display_data"
    },
    {
     "data": {
      "application/vnd.jupyter.widget-view+json": {
       "model_id": "2ca7e3060a3448e4ab57db131755b287",
       "version_major": 2,
       "version_minor": 0
      },
      "text/plain": [
       "respone_wrapper:   0%|          | 0/2 [00:00<?, ?tasks/s]"
      ]
     },
     "metadata": {},
     "output_type": "display_data"
    },
    {
     "data": {
      "application/vnd.jupyter.widget-view+json": {
       "model_id": "85212fb657054a8288f5e1099d289a69",
       "version_major": 2,
       "version_minor": 0
      },
      "text/plain": [
       "respone_wrapper:   0%|          | 0/2 [00:00<?, ?tasks/s]"
      ]
     },
     "metadata": {},
     "output_type": "display_data"
    },
    {
     "data": {
      "application/vnd.jupyter.widget-view+json": {
       "model_id": "acb783d9f92f434c8999656a0123e70b",
       "version_major": 2,
       "version_minor": 0
      },
      "text/plain": [
       "respone_wrapper:   0%|          | 0/2 [00:00<?, ?tasks/s]"
      ]
     },
     "metadata": {},
     "output_type": "display_data"
    },
    {
     "data": {
      "application/vnd.jupyter.widget-view+json": {
       "model_id": "fa61a9ceb27d4f7cb5afe2a60c59f479",
       "version_major": 2,
       "version_minor": 0
      },
      "text/plain": [
       "respone_wrapper:   0%|          | 0/2 [00:00<?, ?tasks/s]"
      ]
     },
     "metadata": {},
     "output_type": "display_data"
    },
    {
     "data": {
      "application/vnd.jupyter.widget-view+json": {
       "model_id": "4a48ea4374ce48edbd02682475d2f934",
       "version_major": 2,
       "version_minor": 0
      },
      "text/plain": [
       "<lambda>:   0%|          | 0/2 [00:00<?, ?tasks/s]"
      ]
     },
     "metadata": {},
     "output_type": "display_data"
    },
    {
     "data": {
      "application/vnd.jupyter.widget-view+json": {
       "model_id": "8d30aa1f67a940eeb1b3ee48603ab43d",
       "version_major": 2,
       "version_minor": 0
      },
      "text/plain": [
       "respone_wrapper:   0%|          | 0/2 [00:00<?, ?tasks/s]"
      ]
     },
     "metadata": {},
     "output_type": "display_data"
    },
    {
     "data": {
      "application/vnd.jupyter.widget-view+json": {
       "model_id": "9612f3db45174d71ad0bdf5de72e3053",
       "version_major": 2,
       "version_minor": 0
      },
      "text/plain": [
       "respone_wrapper:   0%|          | 0/2 [00:00<?, ?tasks/s]"
      ]
     },
     "metadata": {},
     "output_type": "display_data"
    },
    {
     "data": {
      "application/vnd.jupyter.widget-view+json": {
       "model_id": "9fbdae998b3b4571bab7d0b50a069739",
       "version_major": 2,
       "version_minor": 0
      },
      "text/plain": [
       "respone_wrapper:   0%|          | 0/2 [00:00<?, ?tasks/s]"
      ]
     },
     "metadata": {},
     "output_type": "display_data"
    },
    {
     "data": {
      "application/vnd.jupyter.widget-view+json": {
       "model_id": "1a8cc7b7a29242b894e23f7b4a5e5109",
       "version_major": 2,
       "version_minor": 0
      },
      "text/plain": [
       "respone_wrapper:   0%|          | 0/2 [00:00<?, ?tasks/s]"
      ]
     },
     "metadata": {},
     "output_type": "display_data"
    },
    {
     "data": {
      "application/vnd.jupyter.widget-view+json": {
       "model_id": "2437b2e87c1340d2abdb0a8c9aaf98b6",
       "version_major": 2,
       "version_minor": 0
      },
      "text/plain": [
       "respone_wrapper:   0%|          | 0/2 [00:00<?, ?tasks/s]"
      ]
     },
     "metadata": {},
     "output_type": "display_data"
    },
    {
     "data": {
      "application/vnd.jupyter.widget-view+json": {
       "model_id": "df84588ccda742a8a7ae0d64efd276cb",
       "version_major": 2,
       "version_minor": 0
      },
      "text/plain": [
       "respone_wrapper:   0%|          | 0/2 [00:00<?, ?tasks/s]"
      ]
     },
     "metadata": {},
     "output_type": "display_data"
    },
    {
     "data": {
      "application/vnd.jupyter.widget-view+json": {
       "model_id": "d7675f5031514b62baec070b010bdf24",
       "version_major": 2,
       "version_minor": 0
      },
      "text/plain": [
       "respone_wrapper:   0%|          | 0/2 [00:00<?, ?tasks/s]"
      ]
     },
     "metadata": {},
     "output_type": "display_data"
    },
    {
     "data": {
      "application/vnd.jupyter.widget-view+json": {
       "model_id": "e060567a62f14171aced64cedc4d8f3e",
       "version_major": 2,
       "version_minor": 0
      },
      "text/plain": [
       "respone_wrapper:   0%|          | 0/2 [00:00<?, ?tasks/s]"
      ]
     },
     "metadata": {},
     "output_type": "display_data"
    },
    {
     "data": {
      "application/vnd.jupyter.widget-view+json": {
       "model_id": "074e69eeb1544c2aa60a8fdabbc9dcfc",
       "version_major": 2,
       "version_minor": 0
      },
      "text/plain": [
       "respone_wrapper:   0%|          | 0/2 [00:00<?, ?tasks/s]"
      ]
     },
     "metadata": {},
     "output_type": "display_data"
    },
    {
     "data": {
      "application/vnd.jupyter.widget-view+json": {
       "model_id": "aeb9ebbf66314342ae9962e3ff4ff764",
       "version_major": 2,
       "version_minor": 0
      },
      "text/plain": [
       "respone_wrapper:   0%|          | 0/2 [00:00<?, ?tasks/s]"
      ]
     },
     "metadata": {},
     "output_type": "display_data"
    },
    {
     "data": {
      "application/vnd.jupyter.widget-view+json": {
       "model_id": "56d13b92e26a4c16a71a73ba9434f91c",
       "version_major": 2,
       "version_minor": 0
      },
      "text/plain": [
       "respone_wrapper:   0%|          | 0/2 [00:00<?, ?tasks/s]"
      ]
     },
     "metadata": {},
     "output_type": "display_data"
    },
    {
     "data": {
      "application/vnd.jupyter.widget-view+json": {
       "model_id": "8b6209b296704471bf1e72ca186a84a6",
       "version_major": 2,
       "version_minor": 0
      },
      "text/plain": [
       "respone_wrapper:   0%|          | 0/2 [00:00<?, ?tasks/s]"
      ]
     },
     "metadata": {},
     "output_type": "display_data"
    },
    {
     "data": {
      "application/vnd.jupyter.widget-view+json": {
       "model_id": "b46959fbf7984b4facbd4941032c2862",
       "version_major": 2,
       "version_minor": 0
      },
      "text/plain": [
       "respone_wrapper:   0%|          | 0/2 [00:00<?, ?tasks/s]"
      ]
     },
     "metadata": {},
     "output_type": "display_data"
    },
    {
     "data": {
      "application/vnd.jupyter.widget-view+json": {
       "model_id": "04c908ffd1bf417eb749a0ab9eb80139",
       "version_major": 2,
       "version_minor": 0
      },
      "text/plain": [
       "respone_wrapper:   0%|          | 0/2 [00:00<?, ?tasks/s]"
      ]
     },
     "metadata": {},
     "output_type": "display_data"
    },
    {
     "data": {
      "application/vnd.jupyter.widget-view+json": {
       "model_id": "a048c984df3e4cad81f703e3e30d6a26",
       "version_major": 2,
       "version_minor": 0
      },
      "text/plain": [
       "respone_wrapper:   0%|          | 0/2 [00:00<?, ?tasks/s]"
      ]
     },
     "metadata": {},
     "output_type": "display_data"
    },
    {
     "data": {
      "application/vnd.jupyter.widget-view+json": {
       "model_id": "d67fd446a96540a18e5942fec385f2a9",
       "version_major": 2,
       "version_minor": 0
      },
      "text/plain": [
       "respone_wrapper:   0%|          | 0/2 [00:00<?, ?tasks/s]"
      ]
     },
     "metadata": {},
     "output_type": "display_data"
    },
    {
     "data": {
      "application/vnd.jupyter.widget-view+json": {
       "model_id": "4fbe85bfb86c421cae9728f735fda04a",
       "version_major": 2,
       "version_minor": 0
      },
      "text/plain": [
       "respone_wrapper:   0%|          | 0/2 [00:00<?, ?tasks/s]"
      ]
     },
     "metadata": {},
     "output_type": "display_data"
    },
    {
     "data": {
      "application/vnd.jupyter.widget-view+json": {
       "model_id": "b767e9576b97490fa783343cdb3f4980",
       "version_major": 2,
       "version_minor": 0
      },
      "text/plain": [
       "respone_wrapper:   0%|          | 0/2 [00:00<?, ?tasks/s]"
      ]
     },
     "metadata": {},
     "output_type": "display_data"
    },
    {
     "data": {
      "application/vnd.jupyter.widget-view+json": {
       "model_id": "790e64cabc284f3a91e7656506ccd48b",
       "version_major": 2,
       "version_minor": 0
      },
      "text/plain": [
       "respone_wrapper:   0%|          | 0/2 [00:00<?, ?tasks/s]"
      ]
     },
     "metadata": {},
     "output_type": "display_data"
    },
    {
     "data": {
      "application/vnd.jupyter.widget-view+json": {
       "model_id": "6fc0d1afb5d3494497db38cf579419ee",
       "version_major": 2,
       "version_minor": 0
      },
      "text/plain": [
       "respone_wrapper:   0%|          | 0/2 [00:00<?, ?tasks/s]"
      ]
     },
     "metadata": {},
     "output_type": "display_data"
    },
    {
     "data": {
      "application/vnd.jupyter.widget-view+json": {
       "model_id": "346c0bccf6a34de38a630254f2c1345d",
       "version_major": 2,
       "version_minor": 0
      },
      "text/plain": [
       "respone_wrapper:   0%|          | 0/2 [00:00<?, ?tasks/s]"
      ]
     },
     "metadata": {},
     "output_type": "display_data"
    },
    {
     "data": {
      "application/vnd.jupyter.widget-view+json": {
       "model_id": "329cc2be6df944698482c0b8063fbef8",
       "version_major": 2,
       "version_minor": 0
      },
      "text/plain": [
       "respone_wrapper:   0%|          | 0/2 [00:00<?, ?tasks/s]"
      ]
     },
     "metadata": {},
     "output_type": "display_data"
    },
    {
     "data": {
      "application/vnd.jupyter.widget-view+json": {
       "model_id": "e0357a6b402e427797c42c2eb9f71994",
       "version_major": 2,
       "version_minor": 0
      },
      "text/plain": [
       "respone_wrapper:   0%|          | 0/2 [00:00<?, ?tasks/s]"
      ]
     },
     "metadata": {},
     "output_type": "display_data"
    },
    {
     "data": {
      "application/vnd.jupyter.widget-view+json": {
       "model_id": "f12ef0eeaecf4c30980c9f04a8ba6790",
       "version_major": 2,
       "version_minor": 0
      },
      "text/plain": [
       "respone_wrapper:   0%|          | 0/2 [00:00<?, ?tasks/s]"
      ]
     },
     "metadata": {},
     "output_type": "display_data"
    },
    {
     "data": {
      "application/vnd.jupyter.widget-view+json": {
       "model_id": "6e69580d30e54e8f92540b06698b295f",
       "version_major": 2,
       "version_minor": 0
      },
      "text/plain": [
       "respone_wrapper:   0%|          | 0/2 [00:00<?, ?tasks/s]"
      ]
     },
     "metadata": {},
     "output_type": "display_data"
    },
    {
     "data": {
      "application/vnd.jupyter.widget-view+json": {
       "model_id": "81717ec5a19c48f485c76a77428c55df",
       "version_major": 2,
       "version_minor": 0
      },
      "text/plain": [
       "respone_wrapper:   0%|          | 0/2 [00:00<?, ?tasks/s]"
      ]
     },
     "metadata": {},
     "output_type": "display_data"
    },
    {
     "data": {
      "application/vnd.jupyter.widget-view+json": {
       "model_id": "814e3ccc1051454c8d872d9275a4f18f",
       "version_major": 2,
       "version_minor": 0
      },
      "text/plain": [
       "respone_wrapper:   0%|          | 0/2 [00:00<?, ?tasks/s]"
      ]
     },
     "metadata": {},
     "output_type": "display_data"
    },
    {
     "data": {
      "application/vnd.jupyter.widget-view+json": {
       "model_id": "e37414a5bca841d3b4ec3bd30eca9965",
       "version_major": 2,
       "version_minor": 0
      },
      "text/plain": [
       "respone_wrapper:   0%|          | 0/2 [00:00<?, ?tasks/s]"
      ]
     },
     "metadata": {},
     "output_type": "display_data"
    },
    {
     "data": {
      "application/vnd.jupyter.widget-view+json": {
       "model_id": "b55244da6c8c4953bd16ea32060f3994",
       "version_major": 2,
       "version_minor": 0
      },
      "text/plain": [
       "respone_wrapper:   0%|          | 0/2 [00:00<?, ?tasks/s]"
      ]
     },
     "metadata": {},
     "output_type": "display_data"
    },
    {
     "data": {
      "application/vnd.jupyter.widget-view+json": {
       "model_id": "26ef189309b54ba68e7ae551919728eb",
       "version_major": 2,
       "version_minor": 0
      },
      "text/plain": [
       "respone_wrapper:   0%|          | 0/2 [00:00<?, ?tasks/s]"
      ]
     },
     "metadata": {},
     "output_type": "display_data"
    },
    {
     "data": {
      "application/vnd.jupyter.widget-view+json": {
       "model_id": "061dc60555154cf08481b1c62a7c645b",
       "version_major": 2,
       "version_minor": 0
      },
      "text/plain": [
       "<lambda>:   0%|          | 0/2 [00:00<?, ?tasks/s]"
      ]
     },
     "metadata": {},
     "output_type": "display_data"
    },
    {
     "data": {
      "application/vnd.jupyter.widget-view+json": {
       "model_id": "10a6e1791732438e9b87b1a1a20a1562",
       "version_major": 2,
       "version_minor": 0
      },
      "text/plain": [
       "respone_wrapper:   0%|          | 0/2 [00:00<?, ?tasks/s]"
      ]
     },
     "metadata": {},
     "output_type": "display_data"
    },
    {
     "data": {
      "application/vnd.jupyter.widget-view+json": {
       "model_id": "6961161376994fe7a303746edb886b17",
       "version_major": 2,
       "version_minor": 0
      },
      "text/plain": [
       "respone_wrapper:   0%|          | 0/2 [00:00<?, ?tasks/s]"
      ]
     },
     "metadata": {},
     "output_type": "display_data"
    },
    {
     "data": {
      "application/vnd.jupyter.widget-view+json": {
       "model_id": "c5deea052439424181b7f58f954ef7d8",
       "version_major": 2,
       "version_minor": 0
      },
      "text/plain": [
       "respone_wrapper:   0%|          | 0/2 [00:00<?, ?tasks/s]"
      ]
     },
     "metadata": {},
     "output_type": "display_data"
    },
    {
     "data": {
      "application/vnd.jupyter.widget-view+json": {
       "model_id": "dec3a3239c6f43248536bafd01a8811b",
       "version_major": 2,
       "version_minor": 0
      },
      "text/plain": [
       "respone_wrapper:   0%|          | 0/2 [00:00<?, ?tasks/s]"
      ]
     },
     "metadata": {},
     "output_type": "display_data"
    },
    {
     "data": {
      "application/vnd.jupyter.widget-view+json": {
       "model_id": "e6d70133aa0d440e83d7680ee5b539c0",
       "version_major": 2,
       "version_minor": 0
      },
      "text/plain": [
       "respone_wrapper:   0%|          | 0/2 [00:00<?, ?tasks/s]"
      ]
     },
     "metadata": {},
     "output_type": "display_data"
    },
    {
     "data": {
      "application/vnd.jupyter.widget-view+json": {
       "model_id": "99dc83819fd04a429a6153084c2ba217",
       "version_major": 2,
       "version_minor": 0
      },
      "text/plain": [
       "respone_wrapper:   0%|          | 0/2 [00:00<?, ?tasks/s]"
      ]
     },
     "metadata": {},
     "output_type": "display_data"
    },
    {
     "data": {
      "application/vnd.jupyter.widget-view+json": {
       "model_id": "ea9cad1dcc7645a9841ac95b91306f71",
       "version_major": 2,
       "version_minor": 0
      },
      "text/plain": [
       "respone_wrapper:   0%|          | 0/2 [00:00<?, ?tasks/s]"
      ]
     },
     "metadata": {},
     "output_type": "display_data"
    },
    {
     "data": {
      "application/vnd.jupyter.widget-view+json": {
       "model_id": "7fda4bb80b874b3391d62167798333b4",
       "version_major": 2,
       "version_minor": 0
      },
      "text/plain": [
       "respone_wrapper:   0%|          | 0/2 [00:00<?, ?tasks/s]"
      ]
     },
     "metadata": {},
     "output_type": "display_data"
    },
    {
     "data": {
      "application/vnd.jupyter.widget-view+json": {
       "model_id": "3c6691b150424ea0b8d0b60a3a797904",
       "version_major": 2,
       "version_minor": 0
      },
      "text/plain": [
       "respone_wrapper:   0%|          | 0/2 [00:00<?, ?tasks/s]"
      ]
     },
     "metadata": {},
     "output_type": "display_data"
    },
    {
     "data": {
      "application/vnd.jupyter.widget-view+json": {
       "model_id": "e874df6c1126438198ace96fba2498d4",
       "version_major": 2,
       "version_minor": 0
      },
      "text/plain": [
       "respone_wrapper:   0%|          | 0/2 [00:00<?, ?tasks/s]"
      ]
     },
     "metadata": {},
     "output_type": "display_data"
    },
    {
     "data": {
      "application/vnd.jupyter.widget-view+json": {
       "model_id": "59cfb33381d444b2b1f9c4566862442d",
       "version_major": 2,
       "version_minor": 0
      },
      "text/plain": [
       "respone_wrapper:   0%|          | 0/2 [00:00<?, ?tasks/s]"
      ]
     },
     "metadata": {},
     "output_type": "display_data"
    },
    {
     "data": {
      "application/vnd.jupyter.widget-view+json": {
       "model_id": "861d315ccb9a4e9ead97e472533dab04",
       "version_major": 2,
       "version_minor": 0
      },
      "text/plain": [
       "respone_wrapper:   0%|          | 0/2 [00:00<?, ?tasks/s]"
      ]
     },
     "metadata": {},
     "output_type": "display_data"
    },
    {
     "data": {
      "application/vnd.jupyter.widget-view+json": {
       "model_id": "10e6632b4b7e4bedbe0a1359d214d6b2",
       "version_major": 2,
       "version_minor": 0
      },
      "text/plain": [
       "respone_wrapper:   0%|          | 0/2 [00:00<?, ?tasks/s]"
      ]
     },
     "metadata": {},
     "output_type": "display_data"
    },
    {
     "data": {
      "application/vnd.jupyter.widget-view+json": {
       "model_id": "a94920382dfc47ff9da02552cb862bff",
       "version_major": 2,
       "version_minor": 0
      },
      "text/plain": [
       "respone_wrapper:   0%|          | 0/2 [00:00<?, ?tasks/s]"
      ]
     },
     "metadata": {},
     "output_type": "display_data"
    },
    {
     "data": {
      "application/vnd.jupyter.widget-view+json": {
       "model_id": "5076348b1b664486a90d5195a44a6f5e",
       "version_major": 2,
       "version_minor": 0
      },
      "text/plain": [
       "respone_wrapper:   0%|          | 0/2 [00:00<?, ?tasks/s]"
      ]
     },
     "metadata": {},
     "output_type": "display_data"
    },
    {
     "data": {
      "application/vnd.jupyter.widget-view+json": {
       "model_id": "e6ca6d6af7344842b1cff431129f8e76",
       "version_major": 2,
       "version_minor": 0
      },
      "text/plain": [
       "respone_wrapper:   0%|          | 0/2 [00:00<?, ?tasks/s]"
      ]
     },
     "metadata": {},
     "output_type": "display_data"
    },
    {
     "data": {
      "application/vnd.jupyter.widget-view+json": {
       "model_id": "8a96a0e31bcb473e8c616d6495315291",
       "version_major": 2,
       "version_minor": 0
      },
      "text/plain": [
       "respone_wrapper:   0%|          | 0/2 [00:00<?, ?tasks/s]"
      ]
     },
     "metadata": {},
     "output_type": "display_data"
    },
    {
     "data": {
      "application/vnd.jupyter.widget-view+json": {
       "model_id": "3ace77a5eaaf49d58cd732cb85ebf354",
       "version_major": 2,
       "version_minor": 0
      },
      "text/plain": [
       "respone_wrapper:   0%|          | 0/2 [00:00<?, ?tasks/s]"
      ]
     },
     "metadata": {},
     "output_type": "display_data"
    },
    {
     "data": {
      "application/vnd.jupyter.widget-view+json": {
       "model_id": "8e231a5c4d724b16afbf97c2e67644eb",
       "version_major": 2,
       "version_minor": 0
      },
      "text/plain": [
       "respone_wrapper:   0%|          | 0/2 [00:00<?, ?tasks/s]"
      ]
     },
     "metadata": {},
     "output_type": "display_data"
    },
    {
     "data": {
      "application/vnd.jupyter.widget-view+json": {
       "model_id": "5136d99a74b54c2f9e9edfaba5bc4d11",
       "version_major": 2,
       "version_minor": 0
      },
      "text/plain": [
       "respone_wrapper:   0%|          | 0/2 [00:00<?, ?tasks/s]"
      ]
     },
     "metadata": {},
     "output_type": "display_data"
    },
    {
     "data": {
      "application/vnd.jupyter.widget-view+json": {
       "model_id": "ed08d9a864c641b09a0c6882b94a2d8e",
       "version_major": 2,
       "version_minor": 0
      },
      "text/plain": [
       "respone_wrapper:   0%|          | 0/2 [00:00<?, ?tasks/s]"
      ]
     },
     "metadata": {},
     "output_type": "display_data"
    },
    {
     "data": {
      "application/vnd.jupyter.widget-view+json": {
       "model_id": "137f71a5a0144082a1b4690ff48a46f9",
       "version_major": 2,
       "version_minor": 0
      },
      "text/plain": [
       "respone_wrapper:   0%|          | 0/2 [00:00<?, ?tasks/s]"
      ]
     },
     "metadata": {},
     "output_type": "display_data"
    },
    {
     "data": {
      "application/vnd.jupyter.widget-view+json": {
       "model_id": "3ef67ac6add945d0a1392a2f8870b41d",
       "version_major": 2,
       "version_minor": 0
      },
      "text/plain": [
       "respone_wrapper:   0%|          | 0/2 [00:00<?, ?tasks/s]"
      ]
     },
     "metadata": {},
     "output_type": "display_data"
    },
    {
     "data": {
      "application/vnd.jupyter.widget-view+json": {
       "model_id": "41d8407f56054366b05bda7b8b0b0601",
       "version_major": 2,
       "version_minor": 0
      },
      "text/plain": [
       "respone_wrapper:   0%|          | 0/2 [00:00<?, ?tasks/s]"
      ]
     },
     "metadata": {},
     "output_type": "display_data"
    },
    {
     "data": {
      "application/vnd.jupyter.widget-view+json": {
       "model_id": "305677f471be4ec981ef9db75727e0bc",
       "version_major": 2,
       "version_minor": 0
      },
      "text/plain": [
       "respone_wrapper:   0%|          | 0/2 [00:00<?, ?tasks/s]"
      ]
     },
     "metadata": {},
     "output_type": "display_data"
    },
    {
     "data": {
      "application/vnd.jupyter.widget-view+json": {
       "model_id": "8909afdc4fe243ce880754d4a81eb89e",
       "version_major": 2,
       "version_minor": 0
      },
      "text/plain": [
       "respone_wrapper:   0%|          | 0/2 [00:00<?, ?tasks/s]"
      ]
     },
     "metadata": {},
     "output_type": "display_data"
    },
    {
     "data": {
      "application/vnd.jupyter.widget-view+json": {
       "model_id": "ead8caa7a65d4067b51840b3b88b4eb5",
       "version_major": 2,
       "version_minor": 0
      },
      "text/plain": [
       "respone_wrapper:   0%|          | 0/2 [00:00<?, ?tasks/s]"
      ]
     },
     "metadata": {},
     "output_type": "display_data"
    },
    {
     "data": {
      "application/vnd.jupyter.widget-view+json": {
       "model_id": "a07ccb3c018340aca570557c8e5c068d",
       "version_major": 2,
       "version_minor": 0
      },
      "text/plain": [
       "respone_wrapper:   0%|          | 0/2 [00:00<?, ?tasks/s]"
      ]
     },
     "metadata": {},
     "output_type": "display_data"
    },
    {
     "data": {
      "application/vnd.jupyter.widget-view+json": {
       "model_id": "05505e815aa045b09cc712af066d329e",
       "version_major": 2,
       "version_minor": 0
      },
      "text/plain": [
       "respone_wrapper:   0%|          | 0/2 [00:00<?, ?tasks/s]"
      ]
     },
     "metadata": {},
     "output_type": "display_data"
    },
    {
     "data": {
      "application/vnd.jupyter.widget-view+json": {
       "model_id": "aac44ec7d04c4f3a839766458fa403c0",
       "version_major": 2,
       "version_minor": 0
      },
      "text/plain": [
       "respone_wrapper:   0%|          | 0/2 [00:00<?, ?tasks/s]"
      ]
     },
     "metadata": {},
     "output_type": "display_data"
    },
    {
     "data": {
      "application/vnd.jupyter.widget-view+json": {
       "model_id": "3763dfb2241340e7b4457702e281101b",
       "version_major": 2,
       "version_minor": 0
      },
      "text/plain": [
       "<lambda>:   0%|          | 0/2 [00:00<?, ?tasks/s]"
      ]
     },
     "metadata": {},
     "output_type": "display_data"
    },
    {
     "data": {
      "application/vnd.jupyter.widget-view+json": {
       "model_id": "575162258eff4550ac626b2787501967",
       "version_major": 2,
       "version_minor": 0
      },
      "text/plain": [
       "respone_wrapper:   0%|          | 0/2 [00:00<?, ?tasks/s]"
      ]
     },
     "metadata": {},
     "output_type": "display_data"
    },
    {
     "data": {
      "application/vnd.jupyter.widget-view+json": {
       "model_id": "781ccbd4301746789e75c04174dafc51",
       "version_major": 2,
       "version_minor": 0
      },
      "text/plain": [
       "respone_wrapper:   0%|          | 0/2 [00:00<?, ?tasks/s]"
      ]
     },
     "metadata": {},
     "output_type": "display_data"
    },
    {
     "data": {
      "application/vnd.jupyter.widget-view+json": {
       "model_id": "bf895eba2e124b6d8196824db3c61682",
       "version_major": 2,
       "version_minor": 0
      },
      "text/plain": [
       "respone_wrapper:   0%|          | 0/2 [00:00<?, ?tasks/s]"
      ]
     },
     "metadata": {},
     "output_type": "display_data"
    },
    {
     "data": {
      "application/vnd.jupyter.widget-view+json": {
       "model_id": "98e3357c2f5541a389a0c06e6a4d2e0b",
       "version_major": 2,
       "version_minor": 0
      },
      "text/plain": [
       "respone_wrapper:   0%|          | 0/2 [00:00<?, ?tasks/s]"
      ]
     },
     "metadata": {},
     "output_type": "display_data"
    },
    {
     "data": {
      "application/vnd.jupyter.widget-view+json": {
       "model_id": "bdc0213dc5484485a3f82e1faf2a6dfa",
       "version_major": 2,
       "version_minor": 0
      },
      "text/plain": [
       "respone_wrapper:   0%|          | 0/2 [00:00<?, ?tasks/s]"
      ]
     },
     "metadata": {},
     "output_type": "display_data"
    },
    {
     "data": {
      "application/vnd.jupyter.widget-view+json": {
       "model_id": "2c337bb89a2c4addbbe31aa522106b03",
       "version_major": 2,
       "version_minor": 0
      },
      "text/plain": [
       "respone_wrapper:   0%|          | 0/2 [00:00<?, ?tasks/s]"
      ]
     },
     "metadata": {},
     "output_type": "display_data"
    },
    {
     "data": {
      "application/vnd.jupyter.widget-view+json": {
       "model_id": "2f5a822e3cde4a2ca1c92d18638e0b3d",
       "version_major": 2,
       "version_minor": 0
      },
      "text/plain": [
       "respone_wrapper:   0%|          | 0/2 [00:00<?, ?tasks/s]"
      ]
     },
     "metadata": {},
     "output_type": "display_data"
    },
    {
     "data": {
      "application/vnd.jupyter.widget-view+json": {
       "model_id": "abf513121031427a887224087019079c",
       "version_major": 2,
       "version_minor": 0
      },
      "text/plain": [
       "respone_wrapper:   0%|          | 0/2 [00:00<?, ?tasks/s]"
      ]
     },
     "metadata": {},
     "output_type": "display_data"
    },
    {
     "data": {
      "application/vnd.jupyter.widget-view+json": {
       "model_id": "653b580d80a84851a3b78f3ab8b15f8e",
       "version_major": 2,
       "version_minor": 0
      },
      "text/plain": [
       "respone_wrapper:   0%|          | 0/2 [00:00<?, ?tasks/s]"
      ]
     },
     "metadata": {},
     "output_type": "display_data"
    },
    {
     "data": {
      "application/vnd.jupyter.widget-view+json": {
       "model_id": "451a82df801d400caa04d28a362b5a21",
       "version_major": 2,
       "version_minor": 0
      },
      "text/plain": [
       "respone_wrapper:   0%|          | 0/2 [00:00<?, ?tasks/s]"
      ]
     },
     "metadata": {},
     "output_type": "display_data"
    },
    {
     "data": {
      "application/vnd.jupyter.widget-view+json": {
       "model_id": "58ff91a2b07e453c9cc90fba732f201b",
       "version_major": 2,
       "version_minor": 0
      },
      "text/plain": [
       "respone_wrapper:   0%|          | 0/2 [00:00<?, ?tasks/s]"
      ]
     },
     "metadata": {},
     "output_type": "display_data"
    },
    {
     "data": {
      "application/vnd.jupyter.widget-view+json": {
       "model_id": "b721f4067151479ca6164ccc77060690",
       "version_major": 2,
       "version_minor": 0
      },
      "text/plain": [
       "respone_wrapper:   0%|          | 0/2 [00:00<?, ?tasks/s]"
      ]
     },
     "metadata": {},
     "output_type": "display_data"
    },
    {
     "data": {
      "application/vnd.jupyter.widget-view+json": {
       "model_id": "a08bb5cd622140eebf7c15a2b467af52",
       "version_major": 2,
       "version_minor": 0
      },
      "text/plain": [
       "respone_wrapper:   0%|          | 0/2 [00:00<?, ?tasks/s]"
      ]
     },
     "metadata": {},
     "output_type": "display_data"
    },
    {
     "data": {
      "application/vnd.jupyter.widget-view+json": {
       "model_id": "03ffd6c0ae51444097feebf9eddf0794",
       "version_major": 2,
       "version_minor": 0
      },
      "text/plain": [
       "respone_wrapper:   0%|          | 0/2 [00:00<?, ?tasks/s]"
      ]
     },
     "metadata": {},
     "output_type": "display_data"
    },
    {
     "data": {
      "application/vnd.jupyter.widget-view+json": {
       "model_id": "fd477702a45046fc8edfbfb693ff2fba",
       "version_major": 2,
       "version_minor": 0
      },
      "text/plain": [
       "respone_wrapper:   0%|          | 0/2 [00:00<?, ?tasks/s]"
      ]
     },
     "metadata": {},
     "output_type": "display_data"
    },
    {
     "data": {
      "application/vnd.jupyter.widget-view+json": {
       "model_id": "4644734296b84d91b811561948351424",
       "version_major": 2,
       "version_minor": 0
      },
      "text/plain": [
       "respone_wrapper:   0%|          | 0/2 [00:00<?, ?tasks/s]"
      ]
     },
     "metadata": {},
     "output_type": "display_data"
    },
    {
     "data": {
      "application/vnd.jupyter.widget-view+json": {
       "model_id": "769f3e28adf64663975c7e7ab706dc19",
       "version_major": 2,
       "version_minor": 0
      },
      "text/plain": [
       "respone_wrapper:   0%|          | 0/2 [00:00<?, ?tasks/s]"
      ]
     },
     "metadata": {},
     "output_type": "display_data"
    },
    {
     "data": {
      "application/vnd.jupyter.widget-view+json": {
       "model_id": "d6fe3b6598e94e349cf5b95f9092592c",
       "version_major": 2,
       "version_minor": 0
      },
      "text/plain": [
       "respone_wrapper:   0%|          | 0/2 [00:00<?, ?tasks/s]"
      ]
     },
     "metadata": {},
     "output_type": "display_data"
    },
    {
     "data": {
      "application/vnd.jupyter.widget-view+json": {
       "model_id": "c90990a4cd2348f7a42b727752a29020",
       "version_major": 2,
       "version_minor": 0
      },
      "text/plain": [
       "respone_wrapper:   0%|          | 0/2 [00:00<?, ?tasks/s]"
      ]
     },
     "metadata": {},
     "output_type": "display_data"
    },
    {
     "data": {
      "application/vnd.jupyter.widget-view+json": {
       "model_id": "22b1d9692c4a4dc484a7441c809086fa",
       "version_major": 2,
       "version_minor": 0
      },
      "text/plain": [
       "respone_wrapper:   0%|          | 0/2 [00:00<?, ?tasks/s]"
      ]
     },
     "metadata": {},
     "output_type": "display_data"
    },
    {
     "data": {
      "application/vnd.jupyter.widget-view+json": {
       "model_id": "634265bb2d824c508bba8925269c6aa0",
       "version_major": 2,
       "version_minor": 0
      },
      "text/plain": [
       "respone_wrapper:   0%|          | 0/2 [00:00<?, ?tasks/s]"
      ]
     },
     "metadata": {},
     "output_type": "display_data"
    },
    {
     "data": {
      "application/vnd.jupyter.widget-view+json": {
       "model_id": "eab6c608ba36493fb013f2b583032f76",
       "version_major": 2,
       "version_minor": 0
      },
      "text/plain": [
       "respone_wrapper:   0%|          | 0/2 [00:00<?, ?tasks/s]"
      ]
     },
     "metadata": {},
     "output_type": "display_data"
    },
    {
     "data": {
      "application/vnd.jupyter.widget-view+json": {
       "model_id": "9df33079a8294d21a70961d7b403a820",
       "version_major": 2,
       "version_minor": 0
      },
      "text/plain": [
       "respone_wrapper:   0%|          | 0/2 [00:00<?, ?tasks/s]"
      ]
     },
     "metadata": {},
     "output_type": "display_data"
    },
    {
     "data": {
      "application/vnd.jupyter.widget-view+json": {
       "model_id": "10bdb6b58ac94af9b3d341ae14ddfb6d",
       "version_major": 2,
       "version_minor": 0
      },
      "text/plain": [
       "respone_wrapper:   0%|          | 0/2 [00:00<?, ?tasks/s]"
      ]
     },
     "metadata": {},
     "output_type": "display_data"
    },
    {
     "data": {
      "application/vnd.jupyter.widget-view+json": {
       "model_id": "37ed1dfc6b684e2e9cede7f930977753",
       "version_major": 2,
       "version_minor": 0
      },
      "text/plain": [
       "respone_wrapper:   0%|          | 0/2 [00:00<?, ?tasks/s]"
      ]
     },
     "metadata": {},
     "output_type": "display_data"
    },
    {
     "data": {
      "application/vnd.jupyter.widget-view+json": {
       "model_id": "c9af2662e4f74fcbbb0e410ce3a685ee",
       "version_major": 2,
       "version_minor": 0
      },
      "text/plain": [
       "respone_wrapper:   0%|          | 0/2 [00:00<?, ?tasks/s]"
      ]
     },
     "metadata": {},
     "output_type": "display_data"
    },
    {
     "data": {
      "application/vnd.jupyter.widget-view+json": {
       "model_id": "a6c382e94bb54ca6b309f1cc1d3cebcf",
       "version_major": 2,
       "version_minor": 0
      },
      "text/plain": [
       "respone_wrapper:   0%|          | 0/2 [00:00<?, ?tasks/s]"
      ]
     },
     "metadata": {},
     "output_type": "display_data"
    },
    {
     "data": {
      "application/vnd.jupyter.widget-view+json": {
       "model_id": "ecdc12917d3f468982e703b81852d238",
       "version_major": 2,
       "version_minor": 0
      },
      "text/plain": [
       "respone_wrapper:   0%|          | 0/2 [00:00<?, ?tasks/s]"
      ]
     },
     "metadata": {},
     "output_type": "display_data"
    },
    {
     "data": {
      "application/vnd.jupyter.widget-view+json": {
       "model_id": "e7a2dd2ad5a44e67a7e9a8fd28946271",
       "version_major": 2,
       "version_minor": 0
      },
      "text/plain": [
       "respone_wrapper:   0%|          | 0/2 [00:00<?, ?tasks/s]"
      ]
     },
     "metadata": {},
     "output_type": "display_data"
    },
    {
     "data": {
      "application/vnd.jupyter.widget-view+json": {
       "model_id": "13dbbdc972a545b9b1b2f1a079ec58ef",
       "version_major": 2,
       "version_minor": 0
      },
      "text/plain": [
       "respone_wrapper:   0%|          | 0/2 [00:00<?, ?tasks/s]"
      ]
     },
     "metadata": {},
     "output_type": "display_data"
    },
    {
     "data": {
      "application/vnd.jupyter.widget-view+json": {
       "model_id": "85adcae0cf6243c9ac8bf6a3bbbb5244",
       "version_major": 2,
       "version_minor": 0
      },
      "text/plain": [
       "<lambda>:   0%|          | 0/2 [00:00<?, ?tasks/s]"
      ]
     },
     "metadata": {},
     "output_type": "display_data"
    },
    {
     "data": {
      "application/vnd.jupyter.widget-view+json": {
       "model_id": "f075246b0d4c4a4c85f2d25069b2faa2",
       "version_major": 2,
       "version_minor": 0
      },
      "text/plain": [
       "respone_wrapper:   0%|          | 0/2 [00:00<?, ?tasks/s]"
      ]
     },
     "metadata": {},
     "output_type": "display_data"
    },
    {
     "data": {
      "application/vnd.jupyter.widget-view+json": {
       "model_id": "72ea45b7efba4b7d87dc9173f64ae638",
       "version_major": 2,
       "version_minor": 0
      },
      "text/plain": [
       "respone_wrapper:   0%|          | 0/2 [00:00<?, ?tasks/s]"
      ]
     },
     "metadata": {},
     "output_type": "display_data"
    },
    {
     "data": {
      "application/vnd.jupyter.widget-view+json": {
       "model_id": "63653b041e67460cbc4a8150de3e4388",
       "version_major": 2,
       "version_minor": 0
      },
      "text/plain": [
       "respone_wrapper:   0%|          | 0/2 [00:00<?, ?tasks/s]"
      ]
     },
     "metadata": {},
     "output_type": "display_data"
    },
    {
     "data": {
      "application/vnd.jupyter.widget-view+json": {
       "model_id": "988be19b07fd4c62b71f599dc7de0af2",
       "version_major": 2,
       "version_minor": 0
      },
      "text/plain": [
       "respone_wrapper:   0%|          | 0/2 [00:00<?, ?tasks/s]"
      ]
     },
     "metadata": {},
     "output_type": "display_data"
    },
    {
     "data": {
      "application/vnd.jupyter.widget-view+json": {
       "model_id": "c27917d588194d8b82e475a96ea3a108",
       "version_major": 2,
       "version_minor": 0
      },
      "text/plain": [
       "respone_wrapper:   0%|          | 0/2 [00:00<?, ?tasks/s]"
      ]
     },
     "metadata": {},
     "output_type": "display_data"
    },
    {
     "data": {
      "application/vnd.jupyter.widget-view+json": {
       "model_id": "8b24dc1d38584473b1e9c6d0dff6bf44",
       "version_major": 2,
       "version_minor": 0
      },
      "text/plain": [
       "respone_wrapper:   0%|          | 0/2 [00:00<?, ?tasks/s]"
      ]
     },
     "metadata": {},
     "output_type": "display_data"
    },
    {
     "data": {
      "application/vnd.jupyter.widget-view+json": {
       "model_id": "32f4f7f72e11483d855f1c07c1aa8daf",
       "version_major": 2,
       "version_minor": 0
      },
      "text/plain": [
       "respone_wrapper:   0%|          | 0/2 [00:00<?, ?tasks/s]"
      ]
     },
     "metadata": {},
     "output_type": "display_data"
    },
    {
     "data": {
      "application/vnd.jupyter.widget-view+json": {
       "model_id": "4f707172269347e8beb8fdb52c686bef",
       "version_major": 2,
       "version_minor": 0
      },
      "text/plain": [
       "respone_wrapper:   0%|          | 0/2 [00:00<?, ?tasks/s]"
      ]
     },
     "metadata": {},
     "output_type": "display_data"
    },
    {
     "data": {
      "application/vnd.jupyter.widget-view+json": {
       "model_id": "c9d51dbc85d54d9995e0a7f38ad320b3",
       "version_major": 2,
       "version_minor": 0
      },
      "text/plain": [
       "respone_wrapper:   0%|          | 0/2 [00:00<?, ?tasks/s]"
      ]
     },
     "metadata": {},
     "output_type": "display_data"
    },
    {
     "data": {
      "application/vnd.jupyter.widget-view+json": {
       "model_id": "4d4c9e0831434637adf88ec4b7cb0b5e",
       "version_major": 2,
       "version_minor": 0
      },
      "text/plain": [
       "respone_wrapper:   0%|          | 0/2 [00:00<?, ?tasks/s]"
      ]
     },
     "metadata": {},
     "output_type": "display_data"
    },
    {
     "data": {
      "application/vnd.jupyter.widget-view+json": {
       "model_id": "6746b9df1d4248209bd0df31539dad8a",
       "version_major": 2,
       "version_minor": 0
      },
      "text/plain": [
       "respone_wrapper:   0%|          | 0/2 [00:00<?, ?tasks/s]"
      ]
     },
     "metadata": {},
     "output_type": "display_data"
    },
    {
     "data": {
      "application/vnd.jupyter.widget-view+json": {
       "model_id": "dd01d67702f54d8ab317c799cbfc082c",
       "version_major": 2,
       "version_minor": 0
      },
      "text/plain": [
       "respone_wrapper:   0%|          | 0/2 [00:00<?, ?tasks/s]"
      ]
     },
     "metadata": {},
     "output_type": "display_data"
    },
    {
     "data": {
      "application/vnd.jupyter.widget-view+json": {
       "model_id": "c1ac7b11f88f4a288d51b8d84c8a7bd6",
       "version_major": 2,
       "version_minor": 0
      },
      "text/plain": [
       "respone_wrapper:   0%|          | 0/2 [00:00<?, ?tasks/s]"
      ]
     },
     "metadata": {},
     "output_type": "display_data"
    },
    {
     "data": {
      "application/vnd.jupyter.widget-view+json": {
       "model_id": "5719749cf1c14e6fbce7360279f47964",
       "version_major": 2,
       "version_minor": 0
      },
      "text/plain": [
       "respone_wrapper:   0%|          | 0/2 [00:00<?, ?tasks/s]"
      ]
     },
     "metadata": {},
     "output_type": "display_data"
    },
    {
     "data": {
      "application/vnd.jupyter.widget-view+json": {
       "model_id": "d067f6984c9d41fc98d880dc4e077ba7",
       "version_major": 2,
       "version_minor": 0
      },
      "text/plain": [
       "respone_wrapper:   0%|          | 0/2 [00:00<?, ?tasks/s]"
      ]
     },
     "metadata": {},
     "output_type": "display_data"
    },
    {
     "data": {
      "application/vnd.jupyter.widget-view+json": {
       "model_id": "326fa80dbb4a435b8eb07e6669340d36",
       "version_major": 2,
       "version_minor": 0
      },
      "text/plain": [
       "respone_wrapper:   0%|          | 0/2 [00:00<?, ?tasks/s]"
      ]
     },
     "metadata": {},
     "output_type": "display_data"
    },
    {
     "data": {
      "application/vnd.jupyter.widget-view+json": {
       "model_id": "c0b7a651e9df477884e1682869a6b289",
       "version_major": 2,
       "version_minor": 0
      },
      "text/plain": [
       "respone_wrapper:   0%|          | 0/2 [00:00<?, ?tasks/s]"
      ]
     },
     "metadata": {},
     "output_type": "display_data"
    },
    {
     "data": {
      "application/vnd.jupyter.widget-view+json": {
       "model_id": "4a9bb595b0e8479996b20c46e2ae99fb",
       "version_major": 2,
       "version_minor": 0
      },
      "text/plain": [
       "respone_wrapper:   0%|          | 0/2 [00:00<?, ?tasks/s]"
      ]
     },
     "metadata": {},
     "output_type": "display_data"
    },
    {
     "data": {
      "application/vnd.jupyter.widget-view+json": {
       "model_id": "ed22a00f0d034165bd2b98f7e0bcff30",
       "version_major": 2,
       "version_minor": 0
      },
      "text/plain": [
       "respone_wrapper:   0%|          | 0/2 [00:00<?, ?tasks/s]"
      ]
     },
     "metadata": {},
     "output_type": "display_data"
    },
    {
     "data": {
      "application/vnd.jupyter.widget-view+json": {
       "model_id": "87b900dddb214f9ba6a49a9fd7977e0e",
       "version_major": 2,
       "version_minor": 0
      },
      "text/plain": [
       "respone_wrapper:   0%|          | 0/2 [00:00<?, ?tasks/s]"
      ]
     },
     "metadata": {},
     "output_type": "display_data"
    },
    {
     "data": {
      "application/vnd.jupyter.widget-view+json": {
       "model_id": "2448c9d256fd4e72a348eede69aa9936",
       "version_major": 2,
       "version_minor": 0
      },
      "text/plain": [
       "respone_wrapper:   0%|          | 0/2 [00:00<?, ?tasks/s]"
      ]
     },
     "metadata": {},
     "output_type": "display_data"
    },
    {
     "data": {
      "application/vnd.jupyter.widget-view+json": {
       "model_id": "b507eb23dc01462ba4d6ee40f3ee1a72",
       "version_major": 2,
       "version_minor": 0
      },
      "text/plain": [
       "respone_wrapper:   0%|          | 0/2 [00:00<?, ?tasks/s]"
      ]
     },
     "metadata": {},
     "output_type": "display_data"
    },
    {
     "data": {
      "application/vnd.jupyter.widget-view+json": {
       "model_id": "dcc00fc4ad8c47a28597322be60b4b3e",
       "version_major": 2,
       "version_minor": 0
      },
      "text/plain": [
       "respone_wrapper:   0%|          | 0/2 [00:00<?, ?tasks/s]"
      ]
     },
     "metadata": {},
     "output_type": "display_data"
    },
    {
     "data": {
      "application/vnd.jupyter.widget-view+json": {
       "model_id": "34a4b4f2708c486295b1fb01ffc33c74",
       "version_major": 2,
       "version_minor": 0
      },
      "text/plain": [
       "respone_wrapper:   0%|          | 0/2 [00:00<?, ?tasks/s]"
      ]
     },
     "metadata": {},
     "output_type": "display_data"
    },
    {
     "data": {
      "application/vnd.jupyter.widget-view+json": {
       "model_id": "e0320c35a4f54b6f9fb25828841f85b5",
       "version_major": 2,
       "version_minor": 0
      },
      "text/plain": [
       "respone_wrapper:   0%|          | 0/2 [00:00<?, ?tasks/s]"
      ]
     },
     "metadata": {},
     "output_type": "display_data"
    },
    {
     "data": {
      "application/vnd.jupyter.widget-view+json": {
       "model_id": "10bd5fc1ab2843d9aea4427d1a140a10",
       "version_major": 2,
       "version_minor": 0
      },
      "text/plain": [
       "respone_wrapper:   0%|          | 0/2 [00:00<?, ?tasks/s]"
      ]
     },
     "metadata": {},
     "output_type": "display_data"
    },
    {
     "data": {
      "application/vnd.jupyter.widget-view+json": {
       "model_id": "474834c5ad6c4f6d91ba5d3411bae6e1",
       "version_major": 2,
       "version_minor": 0
      },
      "text/plain": [
       "respone_wrapper:   0%|          | 0/2 [00:00<?, ?tasks/s]"
      ]
     },
     "metadata": {},
     "output_type": "display_data"
    },
    {
     "data": {
      "application/vnd.jupyter.widget-view+json": {
       "model_id": "1594d540e7ce4637a29b026edabf90d9",
       "version_major": 2,
       "version_minor": 0
      },
      "text/plain": [
       "respone_wrapper:   0%|          | 0/2 [00:00<?, ?tasks/s]"
      ]
     },
     "metadata": {},
     "output_type": "display_data"
    },
    {
     "data": {
      "application/vnd.jupyter.widget-view+json": {
       "model_id": "4c2a3cdb463449d4bcd972f02f80f4b4",
       "version_major": 2,
       "version_minor": 0
      },
      "text/plain": [
       "respone_wrapper:   0%|          | 0/2 [00:00<?, ?tasks/s]"
      ]
     },
     "metadata": {},
     "output_type": "display_data"
    },
    {
     "data": {
      "application/vnd.jupyter.widget-view+json": {
       "model_id": "429efc8851bf41a5929bc84773d9cc3b",
       "version_major": 2,
       "version_minor": 0
      },
      "text/plain": [
       "respone_wrapper:   0%|          | 0/2 [00:00<?, ?tasks/s]"
      ]
     },
     "metadata": {},
     "output_type": "display_data"
    },
    {
     "data": {
      "application/vnd.jupyter.widget-view+json": {
       "model_id": "3121f9e8df564b6f8cbe7b5895c81e5e",
       "version_major": 2,
       "version_minor": 0
      },
      "text/plain": [
       "<lambda>:   0%|          | 0/2 [00:00<?, ?tasks/s]"
      ]
     },
     "metadata": {},
     "output_type": "display_data"
    },
    {
     "data": {
      "application/vnd.jupyter.widget-view+json": {
       "model_id": "e40f4f58e7fc49c2b9f0b4dad45bdac3",
       "version_major": 2,
       "version_minor": 0
      },
      "text/plain": [
       "respone_wrapper:   0%|          | 0/2 [00:00<?, ?tasks/s]"
      ]
     },
     "metadata": {},
     "output_type": "display_data"
    },
    {
     "data": {
      "application/vnd.jupyter.widget-view+json": {
       "model_id": "cae83d6c141641e0ae38e83429e9e1ea",
       "version_major": 2,
       "version_minor": 0
      },
      "text/plain": [
       "respone_wrapper:   0%|          | 0/2 [00:00<?, ?tasks/s]"
      ]
     },
     "metadata": {},
     "output_type": "display_data"
    },
    {
     "data": {
      "application/vnd.jupyter.widget-view+json": {
       "model_id": "c85b7021e0ca4c71a1c9c5839b9650b7",
       "version_major": 2,
       "version_minor": 0
      },
      "text/plain": [
       "respone_wrapper:   0%|          | 0/2 [00:00<?, ?tasks/s]"
      ]
     },
     "metadata": {},
     "output_type": "display_data"
    },
    {
     "data": {
      "application/vnd.jupyter.widget-view+json": {
       "model_id": "cfa2111ab00d4454a57f61f937cb05f6",
       "version_major": 2,
       "version_minor": 0
      },
      "text/plain": [
       "respone_wrapper:   0%|          | 0/2 [00:00<?, ?tasks/s]"
      ]
     },
     "metadata": {},
     "output_type": "display_data"
    },
    {
     "data": {
      "application/vnd.jupyter.widget-view+json": {
       "model_id": "2f6800f27d174d82a6d95d2b9cd7f842",
       "version_major": 2,
       "version_minor": 0
      },
      "text/plain": [
       "respone_wrapper:   0%|          | 0/2 [00:00<?, ?tasks/s]"
      ]
     },
     "metadata": {},
     "output_type": "display_data"
    },
    {
     "data": {
      "application/vnd.jupyter.widget-view+json": {
       "model_id": "65f106aa764c49fa88b66b590eda3623",
       "version_major": 2,
       "version_minor": 0
      },
      "text/plain": [
       "respone_wrapper:   0%|          | 0/2 [00:00<?, ?tasks/s]"
      ]
     },
     "metadata": {},
     "output_type": "display_data"
    },
    {
     "data": {
      "application/vnd.jupyter.widget-view+json": {
       "model_id": "a27503d166014632ac5f20301b41d973",
       "version_major": 2,
       "version_minor": 0
      },
      "text/plain": [
       "respone_wrapper:   0%|          | 0/2 [00:00<?, ?tasks/s]"
      ]
     },
     "metadata": {},
     "output_type": "display_data"
    },
    {
     "data": {
      "application/vnd.jupyter.widget-view+json": {
       "model_id": "35fa1f62cf954032b913a8f3371801c9",
       "version_major": 2,
       "version_minor": 0
      },
      "text/plain": [
       "respone_wrapper:   0%|          | 0/2 [00:00<?, ?tasks/s]"
      ]
     },
     "metadata": {},
     "output_type": "display_data"
    },
    {
     "data": {
      "application/vnd.jupyter.widget-view+json": {
       "model_id": "4fd59c27f18448a7b3561687adbe2eea",
       "version_major": 2,
       "version_minor": 0
      },
      "text/plain": [
       "respone_wrapper:   0%|          | 0/2 [00:00<?, ?tasks/s]"
      ]
     },
     "metadata": {},
     "output_type": "display_data"
    },
    {
     "data": {
      "application/vnd.jupyter.widget-view+json": {
       "model_id": "096ebd324ae443d98717cbe2ffa5c60b",
       "version_major": 2,
       "version_minor": 0
      },
      "text/plain": [
       "respone_wrapper:   0%|          | 0/2 [00:00<?, ?tasks/s]"
      ]
     },
     "metadata": {},
     "output_type": "display_data"
    },
    {
     "data": {
      "application/vnd.jupyter.widget-view+json": {
       "model_id": "639d565b97b2496a894d1c16d851247a",
       "version_major": 2,
       "version_minor": 0
      },
      "text/plain": [
       "respone_wrapper:   0%|          | 0/2 [00:00<?, ?tasks/s]"
      ]
     },
     "metadata": {},
     "output_type": "display_data"
    },
    {
     "data": {
      "application/vnd.jupyter.widget-view+json": {
       "model_id": "497ab85946294acb8c70dfc705ead237",
       "version_major": 2,
       "version_minor": 0
      },
      "text/plain": [
       "respone_wrapper:   0%|          | 0/2 [00:00<?, ?tasks/s]"
      ]
     },
     "metadata": {},
     "output_type": "display_data"
    },
    {
     "data": {
      "application/vnd.jupyter.widget-view+json": {
       "model_id": "5a73d63e6af949df87f98a972f4b4260",
       "version_major": 2,
       "version_minor": 0
      },
      "text/plain": [
       "respone_wrapper:   0%|          | 0/2 [00:00<?, ?tasks/s]"
      ]
     },
     "metadata": {},
     "output_type": "display_data"
    },
    {
     "data": {
      "application/vnd.jupyter.widget-view+json": {
       "model_id": "00df6168b33a4eaa9c64f347d2965ea3",
       "version_major": 2,
       "version_minor": 0
      },
      "text/plain": [
       "respone_wrapper:   0%|          | 0/2 [00:00<?, ?tasks/s]"
      ]
     },
     "metadata": {},
     "output_type": "display_data"
    },
    {
     "data": {
      "application/vnd.jupyter.widget-view+json": {
       "model_id": "f4690fac6a9a4fdb9e0ea26b38227cdf",
       "version_major": 2,
       "version_minor": 0
      },
      "text/plain": [
       "respone_wrapper:   0%|          | 0/2 [00:00<?, ?tasks/s]"
      ]
     },
     "metadata": {},
     "output_type": "display_data"
    },
    {
     "data": {
      "application/vnd.jupyter.widget-view+json": {
       "model_id": "ad1dcac6a7044e97bc0ef1b0d58bbee3",
       "version_major": 2,
       "version_minor": 0
      },
      "text/plain": [
       "respone_wrapper:   0%|          | 0/2 [00:00<?, ?tasks/s]"
      ]
     },
     "metadata": {},
     "output_type": "display_data"
    },
    {
     "data": {
      "application/vnd.jupyter.widget-view+json": {
       "model_id": "5cb6e7f71e1047308bb75ae133f3ff73",
       "version_major": 2,
       "version_minor": 0
      },
      "text/plain": [
       "respone_wrapper:   0%|          | 0/2 [00:00<?, ?tasks/s]"
      ]
     },
     "metadata": {},
     "output_type": "display_data"
    },
    {
     "data": {
      "application/vnd.jupyter.widget-view+json": {
       "model_id": "0300ddf34275450baea4a5fb7925701b",
       "version_major": 2,
       "version_minor": 0
      },
      "text/plain": [
       "respone_wrapper:   0%|          | 0/2 [00:00<?, ?tasks/s]"
      ]
     },
     "metadata": {},
     "output_type": "display_data"
    },
    {
     "data": {
      "application/vnd.jupyter.widget-view+json": {
       "model_id": "36d50278eca54ebeb9e8a9f84314862b",
       "version_major": 2,
       "version_minor": 0
      },
      "text/plain": [
       "respone_wrapper:   0%|          | 0/2 [00:00<?, ?tasks/s]"
      ]
     },
     "metadata": {},
     "output_type": "display_data"
    },
    {
     "data": {
      "application/vnd.jupyter.widget-view+json": {
       "model_id": "5399de8e05564b34885633a9bd7080be",
       "version_major": 2,
       "version_minor": 0
      },
      "text/plain": [
       "respone_wrapper:   0%|          | 0/2 [00:00<?, ?tasks/s]"
      ]
     },
     "metadata": {},
     "output_type": "display_data"
    },
    {
     "data": {
      "application/vnd.jupyter.widget-view+json": {
       "model_id": "d8367262f8454e07898a6fe377390b30",
       "version_major": 2,
       "version_minor": 0
      },
      "text/plain": [
       "respone_wrapper:   0%|          | 0/2 [00:00<?, ?tasks/s]"
      ]
     },
     "metadata": {},
     "output_type": "display_data"
    },
    {
     "data": {
      "application/vnd.jupyter.widget-view+json": {
       "model_id": "afd53f3fadd4497198a6ec22f9213e52",
       "version_major": 2,
       "version_minor": 0
      },
      "text/plain": [
       "respone_wrapper:   0%|          | 0/2 [00:00<?, ?tasks/s]"
      ]
     },
     "metadata": {},
     "output_type": "display_data"
    },
    {
     "data": {
      "application/vnd.jupyter.widget-view+json": {
       "model_id": "584012f574b54b29bf77960ca850a5a8",
       "version_major": 2,
       "version_minor": 0
      },
      "text/plain": [
       "respone_wrapper:   0%|          | 0/2 [00:00<?, ?tasks/s]"
      ]
     },
     "metadata": {},
     "output_type": "display_data"
    },
    {
     "data": {
      "application/vnd.jupyter.widget-view+json": {
       "model_id": "28e712464068420e9b2baf69a50341fb",
       "version_major": 2,
       "version_minor": 0
      },
      "text/plain": [
       "respone_wrapper:   0%|          | 0/2 [00:00<?, ?tasks/s]"
      ]
     },
     "metadata": {},
     "output_type": "display_data"
    },
    {
     "data": {
      "application/vnd.jupyter.widget-view+json": {
       "model_id": "fb34e2a0b3994392a1d3a997939bd3d6",
       "version_major": 2,
       "version_minor": 0
      },
      "text/plain": [
       "respone_wrapper:   0%|          | 0/2 [00:00<?, ?tasks/s]"
      ]
     },
     "metadata": {},
     "output_type": "display_data"
    },
    {
     "data": {
      "application/vnd.jupyter.widget-view+json": {
       "model_id": "e3ea00d793504cd097cbb8f5ed1b4ed2",
       "version_major": 2,
       "version_minor": 0
      },
      "text/plain": [
       "respone_wrapper:   0%|          | 0/2 [00:00<?, ?tasks/s]"
      ]
     },
     "metadata": {},
     "output_type": "display_data"
    },
    {
     "data": {
      "application/vnd.jupyter.widget-view+json": {
       "model_id": "ab1dfb533d024951a2d661123460efcf",
       "version_major": 2,
       "version_minor": 0
      },
      "text/plain": [
       "respone_wrapper:   0%|          | 0/2 [00:00<?, ?tasks/s]"
      ]
     },
     "metadata": {},
     "output_type": "display_data"
    },
    {
     "data": {
      "application/vnd.jupyter.widget-view+json": {
       "model_id": "b9c679df3e4c442a85c3738253783756",
       "version_major": 2,
       "version_minor": 0
      },
      "text/plain": [
       "respone_wrapper:   0%|          | 0/2 [00:00<?, ?tasks/s]"
      ]
     },
     "metadata": {},
     "output_type": "display_data"
    },
    {
     "data": {
      "application/vnd.jupyter.widget-view+json": {
       "model_id": "ed8872b06350480aab98ee2450d1a9a0",
       "version_major": 2,
       "version_minor": 0
      },
      "text/plain": [
       "respone_wrapper:   0%|          | 0/2 [00:00<?, ?tasks/s]"
      ]
     },
     "metadata": {},
     "output_type": "display_data"
    },
    {
     "data": {
      "application/vnd.jupyter.widget-view+json": {
       "model_id": "355f1876ccd14a08aa5da1a0f9e85df1",
       "version_major": 2,
       "version_minor": 0
      },
      "text/plain": [
       "respone_wrapper:   0%|          | 0/2 [00:00<?, ?tasks/s]"
      ]
     },
     "metadata": {},
     "output_type": "display_data"
    },
    {
     "data": {
      "application/vnd.jupyter.widget-view+json": {
       "model_id": "739d0395318e42a4ad73ea309b23db2f",
       "version_major": 2,
       "version_minor": 0
      },
      "text/plain": [
       "<lambda>:   0%|          | 0/2 [00:00<?, ?tasks/s]"
      ]
     },
     "metadata": {},
     "output_type": "display_data"
    },
    {
     "data": {
      "application/vnd.jupyter.widget-view+json": {
       "model_id": "0009364357b64101a5b285d1fb75e995",
       "version_major": 2,
       "version_minor": 0
      },
      "text/plain": [
       "respone_wrapper:   0%|          | 0/2 [00:00<?, ?tasks/s]"
      ]
     },
     "metadata": {},
     "output_type": "display_data"
    },
    {
     "data": {
      "application/vnd.jupyter.widget-view+json": {
       "model_id": "1a9633352fe34b4e99503409109f1d3b",
       "version_major": 2,
       "version_minor": 0
      },
      "text/plain": [
       "respone_wrapper:   0%|          | 0/2 [00:00<?, ?tasks/s]"
      ]
     },
     "metadata": {},
     "output_type": "display_data"
    },
    {
     "data": {
      "application/vnd.jupyter.widget-view+json": {
       "model_id": "b4382b8c9c9a4f38a6cc7603fe884bd0",
       "version_major": 2,
       "version_minor": 0
      },
      "text/plain": [
       "respone_wrapper:   0%|          | 0/2 [00:00<?, ?tasks/s]"
      ]
     },
     "metadata": {},
     "output_type": "display_data"
    },
    {
     "data": {
      "application/vnd.jupyter.widget-view+json": {
       "model_id": "66628ce4bb4b430481a907b431d5b87b",
       "version_major": 2,
       "version_minor": 0
      },
      "text/plain": [
       "respone_wrapper:   0%|          | 0/2 [00:00<?, ?tasks/s]"
      ]
     },
     "metadata": {},
     "output_type": "display_data"
    },
    {
     "data": {
      "application/vnd.jupyter.widget-view+json": {
       "model_id": "1e27342a3df849838887465be7c03b3a",
       "version_major": 2,
       "version_minor": 0
      },
      "text/plain": [
       "respone_wrapper:   0%|          | 0/2 [00:00<?, ?tasks/s]"
      ]
     },
     "metadata": {},
     "output_type": "display_data"
    },
    {
     "data": {
      "application/vnd.jupyter.widget-view+json": {
       "model_id": "6116ed752777419e8a9ac2d38139939f",
       "version_major": 2,
       "version_minor": 0
      },
      "text/plain": [
       "respone_wrapper:   0%|          | 0/2 [00:00<?, ?tasks/s]"
      ]
     },
     "metadata": {},
     "output_type": "display_data"
    },
    {
     "data": {
      "application/vnd.jupyter.widget-view+json": {
       "model_id": "592ff021449541da8739c2925d8355f3",
       "version_major": 2,
       "version_minor": 0
      },
      "text/plain": [
       "respone_wrapper:   0%|          | 0/2 [00:00<?, ?tasks/s]"
      ]
     },
     "metadata": {},
     "output_type": "display_data"
    },
    {
     "data": {
      "application/vnd.jupyter.widget-view+json": {
       "model_id": "a62b858ccb4744ba8a3297a74d51a92f",
       "version_major": 2,
       "version_minor": 0
      },
      "text/plain": [
       "respone_wrapper:   0%|          | 0/2 [00:00<?, ?tasks/s]"
      ]
     },
     "metadata": {},
     "output_type": "display_data"
    },
    {
     "data": {
      "application/vnd.jupyter.widget-view+json": {
       "model_id": "eeeb4a30b371413c8a64dcf96fd0a694",
       "version_major": 2,
       "version_minor": 0
      },
      "text/plain": [
       "respone_wrapper:   0%|          | 0/2 [00:00<?, ?tasks/s]"
      ]
     },
     "metadata": {},
     "output_type": "display_data"
    },
    {
     "data": {
      "application/vnd.jupyter.widget-view+json": {
       "model_id": "97b5dc26f63943969ad0a711f4832ab5",
       "version_major": 2,
       "version_minor": 0
      },
      "text/plain": [
       "respone_wrapper:   0%|          | 0/2 [00:00<?, ?tasks/s]"
      ]
     },
     "metadata": {},
     "output_type": "display_data"
    },
    {
     "data": {
      "application/vnd.jupyter.widget-view+json": {
       "model_id": "2bcffcd811894838b350d61e4aeb9be0",
       "version_major": 2,
       "version_minor": 0
      },
      "text/plain": [
       "respone_wrapper:   0%|          | 0/2 [00:00<?, ?tasks/s]"
      ]
     },
     "metadata": {},
     "output_type": "display_data"
    },
    {
     "data": {
      "application/vnd.jupyter.widget-view+json": {
       "model_id": "bf31d3de00fe4010af76f6fe5cf99874",
       "version_major": 2,
       "version_minor": 0
      },
      "text/plain": [
       "respone_wrapper:   0%|          | 0/2 [00:00<?, ?tasks/s]"
      ]
     },
     "metadata": {},
     "output_type": "display_data"
    },
    {
     "data": {
      "application/vnd.jupyter.widget-view+json": {
       "model_id": "a4e4c79906e5452e951070f1a5e02828",
       "version_major": 2,
       "version_minor": 0
      },
      "text/plain": [
       "respone_wrapper:   0%|          | 0/2 [00:00<?, ?tasks/s]"
      ]
     },
     "metadata": {},
     "output_type": "display_data"
    },
    {
     "data": {
      "application/vnd.jupyter.widget-view+json": {
       "model_id": "b87022a4429d4e67bd05b72ff58409b2",
       "version_major": 2,
       "version_minor": 0
      },
      "text/plain": [
       "respone_wrapper:   0%|          | 0/2 [00:00<?, ?tasks/s]"
      ]
     },
     "metadata": {},
     "output_type": "display_data"
    },
    {
     "data": {
      "application/vnd.jupyter.widget-view+json": {
       "model_id": "e7e85ba0467c4485b2685b3f1f563a4f",
       "version_major": 2,
       "version_minor": 0
      },
      "text/plain": [
       "respone_wrapper:   0%|          | 0/2 [00:00<?, ?tasks/s]"
      ]
     },
     "metadata": {},
     "output_type": "display_data"
    },
    {
     "data": {
      "application/vnd.jupyter.widget-view+json": {
       "model_id": "f001579ef70b4692891b2d6163c762ad",
       "version_major": 2,
       "version_minor": 0
      },
      "text/plain": [
       "respone_wrapper:   0%|          | 0/2 [00:00<?, ?tasks/s]"
      ]
     },
     "metadata": {},
     "output_type": "display_data"
    },
    {
     "data": {
      "application/vnd.jupyter.widget-view+json": {
       "model_id": "a873f807ac5a468aaf6f46c7bdf3ec60",
       "version_major": 2,
       "version_minor": 0
      },
      "text/plain": [
       "respone_wrapper:   0%|          | 0/2 [00:00<?, ?tasks/s]"
      ]
     },
     "metadata": {},
     "output_type": "display_data"
    },
    {
     "data": {
      "application/vnd.jupyter.widget-view+json": {
       "model_id": "1d2a0062cf07464cabfca721c2ac9a4b",
       "version_major": 2,
       "version_minor": 0
      },
      "text/plain": [
       "respone_wrapper:   0%|          | 0/2 [00:00<?, ?tasks/s]"
      ]
     },
     "metadata": {},
     "output_type": "display_data"
    },
    {
     "data": {
      "application/vnd.jupyter.widget-view+json": {
       "model_id": "bf4a3cf38c794d8db35f21ce70df7d41",
       "version_major": 2,
       "version_minor": 0
      },
      "text/plain": [
       "respone_wrapper:   0%|          | 0/2 [00:00<?, ?tasks/s]"
      ]
     },
     "metadata": {},
     "output_type": "display_data"
    },
    {
     "data": {
      "application/vnd.jupyter.widget-view+json": {
       "model_id": "ef1abc1ea3c640669b83ba41b3dc7853",
       "version_major": 2,
       "version_minor": 0
      },
      "text/plain": [
       "respone_wrapper:   0%|          | 0/2 [00:00<?, ?tasks/s]"
      ]
     },
     "metadata": {},
     "output_type": "display_data"
    },
    {
     "data": {
      "application/vnd.jupyter.widget-view+json": {
       "model_id": "b75f9eb416f548a598f4b2f2d7da8222",
       "version_major": 2,
       "version_minor": 0
      },
      "text/plain": [
       "respone_wrapper:   0%|          | 0/2 [00:00<?, ?tasks/s]"
      ]
     },
     "metadata": {},
     "output_type": "display_data"
    },
    {
     "data": {
      "application/vnd.jupyter.widget-view+json": {
       "model_id": "7e949b465dab428b90c709925ad76c7d",
       "version_major": 2,
       "version_minor": 0
      },
      "text/plain": [
       "respone_wrapper:   0%|          | 0/2 [00:00<?, ?tasks/s]"
      ]
     },
     "metadata": {},
     "output_type": "display_data"
    },
    {
     "data": {
      "application/vnd.jupyter.widget-view+json": {
       "model_id": "6079734733304e6a993b6f69651707e1",
       "version_major": 2,
       "version_minor": 0
      },
      "text/plain": [
       "respone_wrapper:   0%|          | 0/2 [00:00<?, ?tasks/s]"
      ]
     },
     "metadata": {},
     "output_type": "display_data"
    },
    {
     "data": {
      "application/vnd.jupyter.widget-view+json": {
       "model_id": "e3e443fa2b8f46ee9af011de3a218792",
       "version_major": 2,
       "version_minor": 0
      },
      "text/plain": [
       "respone_wrapper:   0%|          | 0/2 [00:00<?, ?tasks/s]"
      ]
     },
     "metadata": {},
     "output_type": "display_data"
    },
    {
     "data": {
      "application/vnd.jupyter.widget-view+json": {
       "model_id": "d04479dfb8714b46b6a93eced7c962c7",
       "version_major": 2,
       "version_minor": 0
      },
      "text/plain": [
       "respone_wrapper:   0%|          | 0/2 [00:00<?, ?tasks/s]"
      ]
     },
     "metadata": {},
     "output_type": "display_data"
    },
    {
     "data": {
      "application/vnd.jupyter.widget-view+json": {
       "model_id": "add60fed0c1b45438117e07c4e1d2bdf",
       "version_major": 2,
       "version_minor": 0
      },
      "text/plain": [
       "respone_wrapper:   0%|          | 0/2 [00:00<?, ?tasks/s]"
      ]
     },
     "metadata": {},
     "output_type": "display_data"
    },
    {
     "data": {
      "application/vnd.jupyter.widget-view+json": {
       "model_id": "56fad687e06c4479b199812a75b24e26",
       "version_major": 2,
       "version_minor": 0
      },
      "text/plain": [
       "respone_wrapper:   0%|          | 0/2 [00:00<?, ?tasks/s]"
      ]
     },
     "metadata": {},
     "output_type": "display_data"
    },
    {
     "data": {
      "application/vnd.jupyter.widget-view+json": {
       "model_id": "d30c2be76d20412ca135e969952a339b",
       "version_major": 2,
       "version_minor": 0
      },
      "text/plain": [
       "respone_wrapper:   0%|          | 0/2 [00:00<?, ?tasks/s]"
      ]
     },
     "metadata": {},
     "output_type": "display_data"
    },
    {
     "data": {
      "application/vnd.jupyter.widget-view+json": {
       "model_id": "f94e88992f374729abdcfdfb527a1acc",
       "version_major": 2,
       "version_minor": 0
      },
      "text/plain": [
       "respone_wrapper:   0%|          | 0/2 [00:00<?, ?tasks/s]"
      ]
     },
     "metadata": {},
     "output_type": "display_data"
    },
    {
     "data": {
      "application/vnd.jupyter.widget-view+json": {
       "model_id": "d58fd3033a1940cbb353eeb8974a7950",
       "version_major": 2,
       "version_minor": 0
      },
      "text/plain": [
       "respone_wrapper:   0%|          | 0/2 [00:00<?, ?tasks/s]"
      ]
     },
     "metadata": {},
     "output_type": "display_data"
    },
    {
     "name": "stdout",
     "output_type": "stream",
     "text": [
      "Stopping engine(s): 1711772025\n",
      "engine set stopped 1711772025: {'engines': {'0': {'exit_code': 1, 'pid': 14740, 'identifier': '0'}, '1': {'exit_code': 1, 'pid': 9528, 'identifier': '1'}}, 'exit_code': 1}\n",
      "Stopping controller\n",
      "Controller stopped: {'exit_code': 1, 'pid': 15016, 'identifier': 'ipcontroller-1711772023-vyhu-13036'}\n"
     ]
    }
   ],
   "source": [
    "vsm.parallel_lanczos(dataset.query_vectors, dc=2)"
   ]
  },
  {
   "cell_type": "code",
   "execution_count": null,
   "metadata": {},
   "outputs": [],
   "source": [
    "vsm.parallel_lanczos(dataset.query_vectors, dc=4)"
   ]
  }
 ],
 "metadata": {
  "interpreter": {
   "hash": "31f2aee4e71d21fbe5cf8b01ff0e069b9275f58929596ceb00d14d90e3e16cd6"
  },
  "kernelspec": {
   "display_name": "Python 3.8.10 64-bit",
   "language": "python",
   "name": "python3"
  },
  "language_info": {
   "codemirror_mode": {
    "name": "ipython",
    "version": 3
   },
   "file_extension": ".py",
   "mimetype": "text/x-python",
   "name": "python",
   "nbconvert_exporter": "python",
   "pygments_lexer": "ipython3",
   "version": "3.10.13"
  },
  "orig_nbformat": 4
 },
 "nbformat": 4,
 "nbformat_minor": 2
}
