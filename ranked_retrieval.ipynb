{
 "cells": [
  {
   "cell_type": "code",
   "execution_count": 1,
   "metadata": {
    "pycharm": {
     "is_executing": true,
     "name": "#%%\n"
    }
   },
   "outputs": [],
   "source": [
    "from load_data_json import LoadDataset \n",
    "from preprocess import VectorSpaceModel\n",
    "import numpy as np\n",
    "import time\n",
    "from sklearn.decomposition import TruncatedSVD\n",
    "from scipy.sparse.linalg import svds, eigsh"
   ]
  },
  {
   "cell_type": "markdown",
   "metadata": {
    "pycharm": {
     "name": "#%% md\n"
    }
   },
   "source": [
    "## Load the dataset\n",
    "Functions to load the dataset and the given queries with associated relevant documents."
   ]
  },
  {
   "cell_type": "code",
   "execution_count": 2,
   "metadata": {
    "pycharm": {
     "name": "#%%\n"
    }
   },
   "outputs": [],
   "source": [
    "dataset = LoadDataset(\"./data/med/med.json\", \"./data/med/queries.json\", \"./data/med/qrels-treceval.txt\")"
   ]
  },
  {
   "cell_type": "markdown",
   "metadata": {
    "pycharm": {
     "name": "#%% md\n"
    }
   },
   "source": [
    "# Vector Space Model ranked retrieval"
   ]
  },
  {
   "cell_type": "markdown",
   "metadata": {
    "pycharm": {
     "name": "#%% md\n"
    }
   },
   "source": [
    "Create the `vsm()` object."
   ]
  },
  {
   "cell_type": "code",
   "execution_count": 3,
   "metadata": {
    "pycharm": {
     "name": "#%%\n"
    }
   },
   "outputs": [],
   "source": [
    "vsm = VectorSpaceModel(dataset.doc_matrix)\n",
    "m, n = vsm.A.shape"
   ]
  },
  {
   "cell_type": "code",
   "execution_count": 4,
   "metadata": {},
   "outputs": [],
   "source": [
    "alpha, beta, q, a = vsm.preprocess(60)"
   ]
  },
  {
   "cell_type": "code",
   "execution_count": 5,
   "metadata": {},
   "outputs": [
    {
     "data": {
      "text/plain": [
       "(1033,)"
      ]
     },
     "execution_count": 5,
     "metadata": {},
     "output_type": "execute_result"
    }
   ],
   "source": [
    "vsm.response(alpha, beta, q, dataset.query_vectors[:,0]).shape"
   ]
  },
  {
   "cell_type": "code",
   "execution_count": 6,
   "metadata": {},
   "outputs": [],
   "source": [
    "x, y = vsm.implicit_qr_algorithm(alpha, beta, tolerance=1e-10)"
   ]
  },
  {
   "cell_type": "code",
   "execution_count": 7,
   "metadata": {},
   "outputs": [
    {
     "data": {
      "text/plain": [
       "array([ 1.79715603e+01,  8.87475193e+00,  8.42135545e+00,  6.67575043e+00,\n",
       "        6.20844720e+00,  6.17561312e+00,  5.63539265e+00,  5.50441229e+00,\n",
       "        5.08545570e+00,  4.79266500e+00,  4.73060196e+00,  4.61355480e+00,\n",
       "        4.37681778e+00,  4.05515753e+00,  3.96655294e+00,  3.82021092e+00,\n",
       "        3.76811454e+00,  3.61501328e+00,  3.49159083e+00,  3.43351020e+00,\n",
       "        3.35420769e+00,  3.19873044e+00,  3.11235775e+00,  3.03885358e+00,\n",
       "        2.94954452e+00,  2.85844165e+00,  2.73938073e+00,  2.65032894e+00,\n",
       "        2.53326716e+00,  2.42617101e+00,  2.30692138e+00,  2.18349031e+00,\n",
       "        2.06550498e+00,  1.94692166e+00,  1.83314524e+00,  1.74148955e+00,\n",
       "        1.59077839e+00,  1.50230738e+00,  1.39031875e+00,  1.28038405e+00,\n",
       "        1.18870768e+00,  1.08110876e+00,  9.92536263e-01,  9.03751306e-01,\n",
       "        8.16198941e-01,  7.35558599e-01,  6.58237528e-01,  5.86569530e-01,\n",
       "        5.15722993e-01,  4.56689402e-01,  4.04112972e-01,  3.50722328e-01,\n",
       "        3.09991560e-01,  2.69362450e-01,  2.26638615e-01,  2.02544098e-01,\n",
       "        1.68836699e-01,  1.52410336e-01,  1.47698870e-02, -3.54587520e-01])"
      ]
     },
     "execution_count": 7,
     "metadata": {},
     "output_type": "execute_result"
    }
   ],
   "source": [
    "x"
   ]
  },
  {
   "cell_type": "code",
   "execution_count": 8,
   "metadata": {},
   "outputs": [],
   "source": [
    "u, s, vt = svds(vsm.A, k=50)"
   ]
  },
  {
   "cell_type": "code",
   "execution_count": 9,
   "metadata": {},
   "outputs": [
    {
     "data": {
      "text/plain": [
       "array([ 2.30418256,  2.31077417,  2.33276486,  2.34696991,  2.3740476 ,\n",
       "        2.41519653,  2.43360604,  2.4432937 ,  2.48253101,  2.51846777,\n",
       "        2.53682185,  2.57003502,  2.57427706,  2.63916856,  2.66066459,\n",
       "        2.69588556,  2.70762448,  2.7379868 ,  2.74990626,  2.80353877,\n",
       "        2.81682278,  2.87244349,  2.96739676,  2.97760444,  3.03786559,\n",
       "        3.04956265,  3.14935981,  3.1987133 ,  3.2778819 ,  3.35423259,\n",
       "        3.43351273,  3.49159178,  3.61501403,  3.76811452,  3.82021094,\n",
       "        3.96642204,  4.05528842,  4.37681778,  4.6135548 ,  4.73060196,\n",
       "        4.792665  ,  5.0854557 ,  5.50441223,  5.63539271,  6.17561213,\n",
       "        6.20844665,  6.67575198,  8.40962395,  8.88648343, 17.97156031])"
      ]
     },
     "execution_count": 9,
     "metadata": {},
     "output_type": "execute_result"
    }
   ],
   "source": [
    "s*s"
   ]
  },
  {
   "cell_type": "code",
   "execution_count": 10,
   "metadata": {},
   "outputs": [],
   "source": [
    "x, y = vsm.bisec_PDDP()"
   ]
  },
  {
   "cell_type": "code",
   "execution_count": 17,
   "metadata": {},
   "outputs": [],
   "source": [
    "x1, x2 = vsm.bisec_PDDP(x)"
   ]
  },
  {
   "cell_type": "code",
   "execution_count": 22,
   "metadata": {},
   "outputs": [
    {
     "data": {
      "text/plain": [
       "array([ 12,  13,  14,  15,  16,  17,  18,  19,  20,  21,  22,  26,  30,\n",
       "        31,  33,  34,  35,  37,  38,  39,  40,  42,  43,  45,  46,  49,\n",
       "        51,  55,  58,  59,  60,  64,  65,  66,  67,  68,  69,  70,  71,\n",
       "        75,  84,  85,  91,  92,  93,  94,  95,  96,  97, 119, 121, 126,\n",
       "       129, 130, 131, 132, 133, 136, 137, 138, 139, 140, 141, 142, 143,\n",
       "       144, 145, 146, 147, 148, 150, 154, 161, 171, 177, 178, 179, 184,\n",
       "       192, 194, 195, 201, 202, 203, 204, 205, 206, 207, 208, 209, 210,\n",
       "       212, 214, 215, 216, 218, 219, 220, 221, 222, 223, 224, 225, 229,\n",
       "       240, 242, 244, 245, 246, 247, 248, 249, 250, 251, 252, 253, 254,\n",
       "       255, 256, 257, 258, 259, 260, 261, 262, 263, 264, 265, 266, 267,\n",
       "       268, 269, 270, 271, 272, 273, 274, 275, 307, 309, 310, 311, 312,\n",
       "       314, 316, 317, 320, 321, 322, 323, 324, 325, 327, 331, 332, 334,\n",
       "       335, 336, 338, 340, 341, 342, 344, 345, 347, 351, 352, 354, 357,\n",
       "       358, 359, 362, 364, 365, 367, 368, 371, 377, 378, 379, 380, 382,\n",
       "       385, 388, 389, 391, 392, 393, 396, 397, 398, 399, 400, 402, 403,\n",
       "       404, 405, 407, 408, 409, 410, 411, 412, 413, 414, 415, 416, 417,\n",
       "       418, 419, 420, 421, 422, 427, 428, 429, 431, 436, 440, 441, 442,\n",
       "       443, 444, 445, 446, 447, 448, 449, 450, 451, 452, 453, 454, 455,\n",
       "       456, 457, 458, 459, 460, 461, 462, 463, 464, 465, 466, 467, 468,\n",
       "       469, 472, 473, 474, 476, 478, 484, 487, 488, 489, 491, 492, 493,\n",
       "       494, 498, 499, 508, 509, 510, 511, 512, 513, 514, 515, 518, 522,\n",
       "       523, 524, 525, 526, 527, 528, 529, 530, 531, 532, 533, 534, 535,\n",
       "       536, 537, 538, 540, 542, 545, 546, 547, 548, 549, 550, 551, 552,\n",
       "       553, 554, 555, 556, 557, 558, 560, 562, 563, 564, 565, 566, 567],\n",
       "      dtype=int64)"
      ]
     },
     "execution_count": 22,
     "metadata": {},
     "output_type": "execute_result"
    }
   ],
   "source": [
    "x2"
   ]
  },
  {
   "cell_type": "code",
   "execution_count": 12,
   "metadata": {},
   "outputs": [
    {
     "data": {
      "text/plain": [
       "522.85"
      ]
     },
     "execution_count": 12,
     "metadata": {},
     "output_type": "execute_result"
    }
   ],
   "source": [
    "np.quantile(x,.55)"
   ]
  },
  {
   "cell_type": "code",
   "execution_count": 13,
   "metadata": {},
   "outputs": [
    {
     "data": {
      "text/plain": [
       "1030"
      ]
     },
     "execution_count": 13,
     "metadata": {},
     "output_type": "execute_result"
    }
   ],
   "source": [
    "np.max(x)"
   ]
  },
  {
   "cell_type": "code",
   "execution_count": 14,
   "metadata": {},
   "outputs": [],
   "source": [
    "median = np.median(x)"
   ]
  },
  {
   "cell_type": "code",
   "execution_count": 15,
   "metadata": {},
   "outputs": [
    {
     "data": {
      "text/plain": [
       "<284x1033 sparse matrix of type '<class 'numpy.float64'>'\n",
       "\twith 984 stored elements in Compressed Sparse Column format>"
      ]
     },
     "execution_count": 15,
     "metadata": {},
     "output_type": "execute_result"
    }
   ],
   "source": [
    "left = np.where(x >= median)[0]\n",
    "vsm.A[left,:]"
   ]
  }
 ],
 "metadata": {
  "interpreter": {
   "hash": "31f2aee4e71d21fbe5cf8b01ff0e069b9275f58929596ceb00d14d90e3e16cd6"
  },
  "kernelspec": {
   "display_name": "Python 3.8.10 64-bit",
   "language": "python",
   "name": "python3"
  },
  "language_info": {
   "codemirror_mode": {
    "name": "ipython",
    "version": 3
   },
   "file_extension": ".py",
   "mimetype": "text/x-python",
   "name": "python",
   "nbconvert_exporter": "python",
   "pygments_lexer": "ipython3",
   "version": "3.10.13"
  },
  "orig_nbformat": 4
 },
 "nbformat": 4,
 "nbformat_minor": 2
}
