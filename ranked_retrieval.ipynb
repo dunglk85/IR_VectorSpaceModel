{
 "cells": [
  {
   "cell_type": "code",
   "execution_count": 1,
   "metadata": {
    "pycharm": {
     "is_executing": true,
     "name": "#%%\n"
    }
   },
   "outputs": [],
   "source": [
    "from load_data_json import LoadDataset \n",
    "from preprocess import VectorSpaceModel\n",
    "import numpy as np\n",
    "import time\n",
    "from sklearn.decomposition import TruncatedSVD"
   ]
  },
  {
   "cell_type": "markdown",
   "metadata": {
    "pycharm": {
     "name": "#%% md\n"
    }
   },
   "source": [
    "## Load the dataset\n",
    "Functions to load the dataset and the given queries with associated relevant documents."
   ]
  },
  {
   "cell_type": "code",
   "execution_count": 2,
   "metadata": {
    "pycharm": {
     "name": "#%%\n"
    }
   },
   "outputs": [],
   "source": [
    "dataset = LoadDataset(\"./data/med/med.json\", \"./data/med/queries.json\", \"./data/med/qrels-treceval.txt\")"
   ]
  },
  {
   "cell_type": "code",
   "execution_count": 3,
   "metadata": {},
   "outputs": [
    {
     "data": {
      "text/plain": [
       "0.004691013235037071"
      ]
     },
     "execution_count": 3,
     "metadata": {},
     "output_type": "execute_result"
    }
   ],
   "source": [
    "m,n = dataset.doc_matrix.shape\n",
    "dataset.doc_matrix.nnz/(m*n)"
   ]
  },
  {
   "cell_type": "code",
   "execution_count": 4,
   "metadata": {},
   "outputs": [],
   "source": [
    "epsilon = np.finfo(np.float64).eps\n",
    "sqrt_epsilon = np.sqrt(epsilon)\n",
    "v = np.random.rand(n)\n",
    "v = v / np.linalg.norm(v)"
   ]
  },
  {
   "cell_type": "code",
   "execution_count": 5,
   "metadata": {},
   "outputs": [],
   "source": [
    "def preprocess(k, A, v):\n",
    "    m, n = A.shape\n",
    "    q = [np.zeros(n) for i in range(k)]\n",
    "    beta = 0\n",
    "    alpha = 0\n",
    "    q[0] = v\n",
    "    memo = {}\n",
    "    for i in range(k-1):\n",
    "        q_hat = A.dot(q[i])\n",
    "        w = A.T.dot(q_hat) - beta * q[i-1]\n",
    "        alpha = w.dot(q[i])\n",
    "        w = w - alpha * q[i]\n",
    "        for j in range(i):\n",
    "            w_dotq = w @ q[j]\n",
    "            w = w - w_dotq * q[j]\n",
    "        beta = np.linalg.norm(w)\n",
    "        if beta == 0:\n",
    "            break\n",
    "        q[i+1] = w / beta\n",
    "    return q"
   ]
  },
  {
   "cell_type": "code",
   "execution_count": 6,
   "metadata": {},
   "outputs": [],
   "source": [
    "q = preprocess(300, dataset.doc_matrix, v)"
   ]
  },
  {
   "cell_type": "code",
   "execution_count": 7,
   "metadata": {},
   "outputs": [],
   "source": [
    "def response(q, query, A):\n",
    "    k = len(q)\n",
    "    s_hat = A.T.dot(query)\n",
    "    m, n = A.shape\n",
    "    s = np.zeros(n) \n",
    "    for i in range(k-1):\n",
    "        q_dot_query = q[i] @ s_hat\n",
    "        s = s + q_dot_query * q[i]\n",
    "\n",
    "    return s\n",
    "\n"
   ]
  },
  {
   "cell_type": "code",
   "execution_count": 8,
   "metadata": {},
   "outputs": [],
   "source": [
    "query = dataset.query_vectors[:,0]\n",
    "similaries = response(q, query, dataset.doc_matrix)"
   ]
  },
  {
   "cell_type": "code",
   "execution_count": 9,
   "metadata": {},
   "outputs": [
    {
     "data": {
      "text/plain": [
       "array([-0.00108914, -0.0059993 ,  0.00310291, ...,  0.00049616,\n",
       "       -0.00689983,  0.0036008 ])"
      ]
     },
     "execution_count": 9,
     "metadata": {},
     "output_type": "execute_result"
    }
   ],
   "source": [
    "similaries"
   ]
  },
  {
   "cell_type": "code",
   "execution_count": null,
   "metadata": {},
   "outputs": [],
   "source": []
  },
  {
   "cell_type": "markdown",
   "metadata": {
    "pycharm": {
     "name": "#%% md\n"
    }
   },
   "source": [
    "# Vector Space Model ranked retrieval"
   ]
  },
  {
   "cell_type": "markdown",
   "metadata": {
    "pycharm": {
     "name": "#%% md\n"
    }
   },
   "source": [
    "Create the `vsm()` object."
   ]
  },
  {
   "cell_type": "code",
   "execution_count": 10,
   "metadata": {
    "pycharm": {
     "name": "#%%\n"
    }
   },
   "outputs": [],
   "source": [
    "vsm = VectorSpaceModel(dataset.doc_matrix)\n",
    "m, n = vsm.A.shape"
   ]
  },
  {
   "cell_type": "code",
   "execution_count": 11,
   "metadata": {},
   "outputs": [],
   "source": [
    "vsm.preprocess(15)"
   ]
  },
  {
   "cell_type": "code",
   "execution_count": 12,
   "metadata": {},
   "outputs": [
    {
     "data": {
      "text/plain": [
       "1.4901161193847656e-08"
      ]
     },
     "execution_count": 12,
     "metadata": {},
     "output_type": "execute_result"
    }
   ],
   "source": [
    "epsilon = np.finfo(np.float64).eps\n",
    "epsilon = np.sqrt(epsilon)\n",
    "epsilon"
   ]
  },
  {
   "cell_type": "code",
   "execution_count": 13,
   "metadata": {},
   "outputs": [
    {
     "name": "stdout",
     "output_type": "stream",
     "text": [
      "0.9999999999999998\n",
      "1.0\n",
      "1.0\n",
      "1.0\n",
      "1.0\n"
     ]
    }
   ],
   "source": [
    "count = 0\n",
    "for i in range(5):\n",
    "    x = vsm.lanczos_vectors[i] @ vsm.lanczos_vectors[i]\n",
    "    print(x)"
   ]
  },
  {
   "cell_type": "code",
   "execution_count": 14,
   "metadata": {},
   "outputs": [],
   "source": [
    "svd = TruncatedSVD(n_components=50, n_iter=7, random_state=42)"
   ]
  },
  {
   "cell_type": "code",
   "execution_count": 15,
   "metadata": {},
   "outputs": [],
   "source": [
    "Ak = svd.fit_transform(vsm.A)"
   ]
  },
  {
   "cell_type": "code",
   "execution_count": 16,
   "metadata": {},
   "outputs": [
    {
     "data": {
      "text/plain": [
       "(50, 1033)"
      ]
     },
     "execution_count": 16,
     "metadata": {},
     "output_type": "execute_result"
    }
   ],
   "source": [
    "svd.components_.shape"
   ]
  },
  {
   "cell_type": "code",
   "execution_count": 17,
   "metadata": {},
   "outputs": [
    {
     "data": {
      "text/plain": [
       "array([[0.00660732, 0.01935342, 0.00466614, ..., 0.00988035, 0.00471508,\n",
       "        0.03267004]])"
      ]
     },
     "execution_count": 17,
     "metadata": {},
     "output_type": "execute_result"
    }
   ],
   "source": [
    "dataset.query_vectors[:,0].T.dot(Ak).dot(np.diag(svd.singular_values_)).dot(svd.components_)"
   ]
  },
  {
   "cell_type": "code",
   "execution_count": 18,
   "metadata": {},
   "outputs": [
    {
     "data": {
      "text/plain": [
       "2.220446049250313e-16"
      ]
     },
     "execution_count": 18,
     "metadata": {},
     "output_type": "execute_result"
    }
   ],
   "source": [
    "epsilon = np.finfo(np.float64).eps\n",
    "epsilon"
   ]
  },
  {
   "cell_type": "code",
   "execution_count": 19,
   "metadata": {},
   "outputs": [
    {
     "data": {
      "text/plain": [
       "(13004, 1033)"
      ]
     },
     "execution_count": 19,
     "metadata": {},
     "output_type": "execute_result"
    }
   ],
   "source": [
    "vsm.A.shape"
   ]
  },
  {
   "cell_type": "code",
   "execution_count": 20,
   "metadata": {},
   "outputs": [],
   "source": [
    "vsm.response(dataset.query_vectors[:,0])"
   ]
  },
  {
   "cell_type": "code",
   "execution_count": 21,
   "metadata": {},
   "outputs": [
    {
     "data": {
      "text/plain": [
       "array([ 334,  343,  502,  163,  168,  118,  141,  504,  211,  210,  499,\n",
       "        304,  510,  505,   10,    3,  605,  184,  234,  501,   12,  752,\n",
       "         71,  506,  508,  503,  179,  130,  169,  185, 1021,  699,  509,\n",
       "         84,  167,  845,    8], dtype=int64)"
      ]
     },
     "execution_count": 21,
     "metadata": {},
     "output_type": "execute_result"
    }
   ],
   "source": [
    "vsm.scores\n",
    "scores = vsm.scores/vsm.norms\n",
    "sorted_indices = np.argsort(-np.abs(scores))\n",
    "sorted_indices[:37]"
   ]
  },
  {
   "cell_type": "code",
   "execution_count": 22,
   "metadata": {},
   "outputs": [
    {
     "data": {
      "text/plain": [
       "0.01286503021381786"
      ]
     },
     "execution_count": 22,
     "metadata": {},
     "output_type": "execute_result"
    }
   ],
   "source": [
    "vsm.scores[212]"
   ]
  },
  {
   "cell_type": "code",
   "execution_count": 23,
   "metadata": {},
   "outputs": [
    {
     "data": {
      "text/plain": [
       "[3,\n",
       " 8,\n",
       " 10,\n",
       " 12,\n",
       " 71,\n",
       " 84,\n",
       " 118,\n",
       " 130,\n",
       " 141,\n",
       " 163,\n",
       " 167,\n",
       " 168,\n",
       " 169,\n",
       " 179,\n",
       " 184,\n",
       " 185,\n",
       " 210,\n",
       " 211,\n",
       " 234,\n",
       " 304,\n",
       " 334,\n",
       " 343,\n",
       " 499,\n",
       " 501,\n",
       " 502,\n",
       " 503,\n",
       " 504,\n",
       " 505,\n",
       " 506,\n",
       " 508,\n",
       " 509,\n",
       " 510,\n",
       " 605,\n",
       " 699,\n",
       " 752,\n",
       " 845,\n",
       " 1021]"
      ]
     },
     "execution_count": 23,
     "metadata": {},
     "output_type": "execute_result"
    }
   ],
   "source": [
    "sorted(sorted_indices[:37])"
   ]
  },
  {
   "cell_type": "code",
   "execution_count": 31,
   "metadata": {},
   "outputs": [],
   "source": [
    "x, y = vsm.implicit_qr_algorithm(vsm.alpha, vsm.beta)"
   ]
  },
  {
   "cell_type": "code",
   "execution_count": 32,
   "metadata": {},
   "outputs": [
    {
     "data": {
      "text/plain": [
       "array([17.97156031,  8.88264294,  8.41346356,  6.61313904,  6.16746504,\n",
       "        5.54324641,  4.53699172,  3.65153703,  2.79189021,  1.93114489,\n",
       "        1.29299669,  0.81363271,  0.46091313,  0.24703523, -0.67245925])"
      ]
     },
     "execution_count": 32,
     "metadata": {},
     "output_type": "execute_result"
    }
   ],
   "source": [
    "x"
   ]
  },
  {
   "cell_type": "code",
   "execution_count": 34,
   "metadata": {},
   "outputs": [
    {
     "data": {
      "text/plain": [
       "1.0"
      ]
     },
     "execution_count": 34,
     "metadata": {},
     "output_type": "execute_result"
    }
   ],
   "source": [
    "y[:,2] @ y[:,2]"
   ]
  },
  {
   "cell_type": "code",
   "execution_count": 27,
   "metadata": {},
   "outputs": [
    {
     "data": {
      "text/plain": [
       "array([[ 4.98455010e-02, -1.59833205e-02,  1.16789068e-01,\n",
       "        -6.64724100e-02,  8.52691892e-02, -7.58729899e-02,\n",
       "         1.01360026e-01, -1.63093460e-01,  2.40033929e-01,\n",
       "        -3.11699932e-01,  2.89565161e-01, -1.34061762e-01,\n",
       "         1.03300828e-04],\n",
       "       [-2.61566050e-02,  1.19376345e-02, -9.32474715e-02,\n",
       "         5.83845590e-02, -8.58924275e-02,  8.50389463e-02,\n",
       "        -1.24773790e-01,  2.18761548e-01, -3.41598067e-01,\n",
       "         4.62740033e-01, -4.42971135e-01,  2.08760352e-01,\n",
       "        -1.73034679e-04],\n",
       "       [-2.32402283e-01,  6.62237031e-02, -4.63166268e-01,\n",
       "         2.42260214e-01, -2.56851555e-01,  1.77526176e-01,\n",
       "        -1.60447786e-01,  1.17838740e-01, -4.39736500e-03,\n",
       "        -1.70745944e-01,  2.85128234e-01, -1.68648441e-01,\n",
       "         2.58792538e-04],\n",
       "       [-1.68845004e-01, -8.26164850e-04,  8.75358643e-02,\n",
       "        -1.13039347e-01,  2.40516499e-01, -2.47792801e-01,\n",
       "         3.14227850e-01, -3.64883704e-01,  2.60467799e-01,\n",
       "         3.01057570e-02, -3.33371136e-01,  2.50799770e-01,\n",
       "        -5.88237846e-04],\n",
       "       [-7.60318351e-03, -6.91473214e-02,  5.33645629e-01,\n",
       "        -2.90764667e-01,  2.50316422e-01, -7.68273327e-02,\n",
       "        -8.13409777e-02,  2.95329922e-01, -3.62238218e-01,\n",
       "         1.28780176e-01,  2.88329647e-01, -2.86664680e-01,\n",
       "         1.03784325e-03],\n",
       "       [ 2.30219453e-01, -8.93762490e-02,  4.50255072e-01,\n",
       "        -4.69841276e-02, -3.09242219e-01,  3.80648370e-01,\n",
       "        -3.71321688e-01,  1.02439380e-01,  2.73972041e-01,\n",
       "        -3.06970927e-01, -1.80085995e-01,  3.28904632e-01,\n",
       "        -2.20063756e-03],\n",
       "       [ 5.87361903e-01, -7.52216872e-02,  1.13166456e-01,\n",
       "         2.15473576e-01, -3.68231734e-01,  6.72673336e-02,\n",
       "         2.43378468e-01, -3.59529383e-01, -1.53375520e-02,\n",
       "         3.44422246e-01,  4.37507303e-02, -3.33198810e-01,\n",
       "         4.08851458e-03],\n",
       "       [ 6.54277804e-01,  1.05214971e-02, -2.60077050e-01,\n",
       "         1.00239235e-01,  2.46216369e-01, -2.98845842e-01,\n",
       "         8.86003868e-02,  3.04049027e-01, -1.75857059e-01,\n",
       "        -2.86927270e-01,  5.84953692e-02,  3.25783619e-01,\n",
       "        -6.72197586e-03],\n",
       "       [ 2.79543317e-01,  1.09791994e-01, -2.83592693e-01,\n",
       "        -2.77612667e-01,  4.19240338e-01,  1.47203493e-01,\n",
       "        -4.43364026e-01, -2.06101488e-02,  3.75396319e-01,\n",
       "         1.77530213e-01, -2.02844785e-01, -3.75846810e-01,\n",
       "         1.47525629e-02],\n",
       "       [ 9.29062846e-02,  2.20629279e-01, -1.89528727e-01,\n",
       "        -5.27197705e-01,  6.22500466e-03,  4.10976669e-01,\n",
       "         5.69371874e-02, -3.70963465e-01, -2.90921413e-01,\n",
       "         6.79068578e-02,  3.15798284e-01,  3.59007565e-01,\n",
       "        -3.08590863e-02],\n",
       "       [ 3.48423019e-02,  3.42391424e-01, -7.40412863e-02,\n",
       "        -4.71397669e-01, -3.71215182e-01, -3.17661976e-02,\n",
       "         3.82486759e-01,  3.06680661e-01, -5.09437798e-04,\n",
       "        -2.57006513e-01, -3.38913866e-01, -3.00578873e-01,\n",
       "         5.84171661e-02],\n",
       "       [ 1.21836193e-02,  4.82131191e-01,  7.69298834e-02,\n",
       "        -8.16205695e-02, -2.86887735e-01, -4.63405439e-01,\n",
       "        -2.16437348e-01,  1.16219387e-01,  3.24953013e-01,\n",
       "         3.63347271e-01,  3.06037639e-01,  2.25966421e-01,\n",
       "        -1.22810481e-01],\n",
       "       [ 5.93251662e-03,  6.21750033e-01,  1.89727155e-01,\n",
       "         2.90157844e-01,  1.01244469e-01, -8.52449601e-02,\n",
       "        -2.69958355e-01, -3.40225461e-01, -3.46410003e-01,\n",
       "        -2.68818429e-01, -1.83577684e-01, -1.20127441e-01,\n",
       "         2.16011248e-01],\n",
       "       [ 2.39015134e-03,  4.14141056e-01,  1.50173625e-01,\n",
       "         3.20069094e-01,  3.02628185e-01,  4.51615740e-01,\n",
       "         3.68628142e-01,  2.50352609e-01,  1.75499000e-01,\n",
       "         9.86658720e-02,  4.65955333e-02,  1.96627325e-02,\n",
       "        -4.07785180e-01],\n",
       "       [ 4.10242332e-04,  9.04292146e-02,  3.50843837e-02,\n",
       "         8.34068252e-02,  9.63525889e-02,  1.78655077e-01,\n",
       "         1.90726990e-01,  1.87266142e-01,  1.96064621e-01,\n",
       "         1.75170335e-01,  1.46031722e-01,  1.14975941e-01,\n",
       "         8.75966445e-01]])"
      ]
     },
     "execution_count": 27,
     "metadata": {},
     "output_type": "execute_result"
    }
   ],
   "source": [
    "y[:,2:]"
   ]
  },
  {
   "cell_type": "code",
   "execution_count": 28,
   "metadata": {},
   "outputs": [
    {
     "ename": "NameError",
     "evalue": "name 'T' is not defined",
     "output_type": "error",
     "traceback": [
      "\u001b[1;31m---------------------------------------------------------------------------\u001b[0m",
      "\u001b[1;31mNameError\u001b[0m                                 Traceback (most recent call last)",
      "Cell \u001b[1;32mIn[28], line 1\u001b[0m\n\u001b[1;32m----> 1\u001b[0m \u001b[43mT\u001b[49m \u001b[38;5;241m@\u001b[39m y[:,\u001b[38;5;241m0\u001b[39m]\n",
      "\u001b[1;31mNameError\u001b[0m: name 'T' is not defined"
     ]
    }
   ],
   "source": [
    "T @ y[:,0]"
   ]
  },
  {
   "cell_type": "code",
   "execution_count": null,
   "metadata": {},
   "outputs": [],
   "source": [
    "u, s, v, lsi_norm = vsm.lsi_preprocess(5)"
   ]
  },
  {
   "cell_type": "code",
   "execution_count": null,
   "metadata": {},
   "outputs": [
    {
     "data": {
      "text/plain": [
       "array([ 6.20844665,  6.67575198,  8.40962395,  8.88648343, 17.97156031])"
      ]
     },
     "execution_count": 70,
     "metadata": {},
     "output_type": "execute_result"
    }
   ],
   "source": [
    "s*s"
   ]
  },
  {
   "cell_type": "code",
   "execution_count": null,
   "metadata": {},
   "outputs": [],
   "source": [
    "u = u[:,::-1]; s = s[::-1]; v = v[::-1,:]"
   ]
  },
  {
   "cell_type": "code",
   "execution_count": null,
   "metadata": {},
   "outputs": [
    {
     "data": {
      "text/plain": [
       "matrix([[-1.23851086e-03, -6.77642271e-03,  1.75600675e-03, ...,\n",
       "         -2.73971600e-03,  3.23002952e-04,  4.62797551e-04],\n",
       "        [ 3.24747405e-04,  1.86588899e-05,  6.66474952e-04, ...,\n",
       "         -1.90873216e-04,  9.47459340e-04, -3.32363139e-04],\n",
       "        [ 3.85245188e-04, -2.16897563e-03, -1.74493466e-03, ...,\n",
       "         -8.78831343e-04, -1.85708090e-03,  8.11170417e-04],\n",
       "        ...,\n",
       "        [-2.48408938e-03, -7.39168914e-04, -7.38590473e-04, ...,\n",
       "         -5.38463431e-04,  8.40047347e-04, -1.30317090e-03],\n",
       "        [ 3.21195300e-04, -4.56321554e-04, -5.16076834e-04, ...,\n",
       "         -1.35420452e-03, -6.13147852e-05,  3.53526526e-04],\n",
       "        [ 1.47942354e-03, -1.32830014e-03,  6.10283709e-03, ...,\n",
       "          1.65419214e-03, -2.33065922e-03, -3.41978820e-03]])"
      ]
     },
     "execution_count": 29,
     "metadata": {},
     "output_type": "execute_result"
    }
   ],
   "source": [
    "u.dot(np.diag(s)).dot(v) - vsm.A"
   ]
  },
  {
   "cell_type": "code",
   "execution_count": null,
   "metadata": {},
   "outputs": [
    {
     "data": {
      "text/plain": [
       "<13004x1033 sparse matrix of type '<class 'numpy.float64'>'\n",
       "\twith 63015 stored elements in Compressed Sparse Column format>"
      ]
     },
     "execution_count": 30,
     "metadata": {},
     "output_type": "execute_result"
    }
   ],
   "source": [
    "vsm.A"
   ]
  },
  {
   "cell_type": "code",
   "execution_count": null,
   "metadata": {},
   "outputs": [
    {
     "data": {
      "text/plain": [
       "array([0.00892056, 0.0121185 , 0.00450396, ..., 0.00237615, 0.00534256,\n",
       "       0.00943086])"
      ]
     },
     "execution_count": 31,
     "metadata": {},
     "output_type": "execute_result"
    }
   ],
   "source": [
    "vsm.scores"
   ]
  },
  {
   "cell_type": "code",
   "execution_count": null,
   "metadata": {},
   "outputs": [
    {
     "data": {
      "text/plain": [
       "array([[-0.00069021, -0.00829348,  0.00223858, ..., -0.00834512,\n",
       "         0.00210829,  0.01657744]])"
      ]
     },
     "execution_count": 32,
     "metadata": {},
     "output_type": "execute_result"
    }
   ],
   "source": [
    "res = vsm.lsi_response(u, s, v, dataset.query_vectors[:,0])\n",
    "res "
   ]
  },
  {
   "cell_type": "code",
   "execution_count": null,
   "metadata": {},
   "outputs": [
    {
     "data": {
      "text/plain": [
       "2.220446049250313e-16"
      ]
     },
     "execution_count": 33,
     "metadata": {},
     "output_type": "execute_result"
    }
   ],
   "source": [
    "epsilon = np.finfo(np.float64).eps\n",
    "epsilon"
   ]
  },
  {
   "cell_type": "code",
   "execution_count": null,
   "metadata": {},
   "outputs": [],
   "source": [
    "scores = vsm.scores[::-1]\n"
   ]
  },
  {
   "cell_type": "code",
   "execution_count": null,
   "metadata": {},
   "outputs": [
    {
     "data": {
      "text/plain": [
       "0.7528123726726272"
      ]
     },
     "execution_count": 35,
     "metadata": {},
     "output_type": "execute_result"
    }
   ],
   "source": [
    "np.linalg.norm(scores - res)"
   ]
  },
  {
   "cell_type": "code",
   "execution_count": null,
   "metadata": {},
   "outputs": [
    {
     "data": {
      "text/plain": [
       "array([[-0.00082315, -0.01119094,  0.00291302, ..., -0.01268348,\n",
       "         0.00344351,  0.02385357]])"
      ]
     },
     "execution_count": 36,
     "metadata": {},
     "output_type": "execute_result"
    }
   ],
   "source": [
    "res/lsi_norm"
   ]
  },
  {
   "cell_type": "code",
   "execution_count": null,
   "metadata": {},
   "outputs": [
    {
     "data": {
      "text/plain": [
       "array([0.06722867, 0.07689126, 0.03923905, ..., 0.01376622, 0.07265981,\n",
       "       0.05847602])"
      ]
     },
     "execution_count": 37,
     "metadata": {},
     "output_type": "execute_result"
    }
   ],
   "source": [
    "vsm.scores/np.sqrt(vsm.norms)"
   ]
  },
  {
   "cell_type": "code",
   "execution_count": null,
   "metadata": {},
   "outputs": [],
   "source": []
  },
  {
   "cell_type": "code",
   "execution_count": null,
   "metadata": {},
   "outputs": [
    {
     "data": {
      "text/plain": [
       "2.8809720581775866"
      ]
     },
     "execution_count": 38,
     "metadata": {},
     "output_type": "execute_result"
    }
   ],
   "source": [
    "np.sqrt(8.30)"
   ]
  }
 ],
 "metadata": {
  "interpreter": {
   "hash": "31f2aee4e71d21fbe5cf8b01ff0e069b9275f58929596ceb00d14d90e3e16cd6"
  },
  "kernelspec": {
   "display_name": "Python 3.8.10 64-bit",
   "language": "python",
   "name": "python3"
  },
  "language_info": {
   "codemirror_mode": {
    "name": "ipython",
    "version": 3
   },
   "file_extension": ".py",
   "mimetype": "text/x-python",
   "name": "python",
   "nbconvert_exporter": "python",
   "pygments_lexer": "ipython3",
   "version": "3.10.13"
  },
  "orig_nbformat": 4
 },
 "nbformat": 4,
 "nbformat_minor": 2
}
